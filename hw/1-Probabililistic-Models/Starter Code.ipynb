{
 "cells": [
  {
   "cell_type": "markdown",
   "metadata": {},
   "source": [
    "### Step 0: Download Packages\n",
    "\n",
    "First, take a look at the [Technology Instructions](https://github.com/zsunberg/CU-DMU-Materials/blob/master/technology_instructions.md) to get the [DMUStudent.jl package](https://github.com/zsunberg/DMUStudent.jl).\n",
    "\n",
    "For this assignment, the Plots package may be useful. You can install it in the [Julia REPL](https://docs.julialang.org/en/v1/stdlib/REPL/) by pressing the `]` key and then typing `add Plots`. See https://docs.julialang.org/en/v1/stdlib/Pkg/#Pkg-1 for more information on installing packages."
   ]
  },
  {
   "cell_type": "code",
   "execution_count": 1,
   "metadata": {},
   "outputs": [],
   "source": [
    "using Plots\n",
    "using DMUStudent.HW1 # this imports fx and fy into the workspace"
   ]
  },
  {
   "cell_type": "markdown",
   "metadata": {},
   "source": [
    "# Question 5: Which is Markov?\n",
    "\n",
    "The task here is to prove that either `fx` or `fy` defines a Markov process, or equivalently, prove that one of them doesn't.\n",
    "\n",
    "**How to do that will be up to you**, but below are a few code snippets that might be useful. You do not necessarily need to use any of this code or repeat any of these steps.\n",
    "\n",
    "`fx` and `fy` are the two functions that define the Markov processes."
   ]
  },
  {
   "cell_type": "code",
   "execution_count": 2,
   "metadata": {},
   "outputs": [
    {
     "data": {
      "text/plain": [
       "(DMUStudent.HW1.fx, DMUStudent.HW1.fy)"
      ]
     },
     "execution_count": 2,
     "metadata": {},
     "output_type": "execute_result"
    }
   ],
   "source": [
    "fx, fy"
   ]
  },
  {
   "cell_type": "markdown",
   "metadata": {},
   "source": [
    "### Generate a sample of $x_3$ given that $x_1$ is 1 and $x_2$ is 2:"
   ]
  },
  {
   "cell_type": "code",
   "execution_count": 3,
   "metadata": {},
   "outputs": [
    {
     "data": {
      "text/plain": [
       "3"
      ]
     },
     "execution_count": 3,
     "metadata": {},
     "output_type": "execute_result"
    }
   ],
   "source": [
    "fx([1, 2])"
   ]
  },
  {
   "cell_type": "markdown",
   "metadata": {},
   "source": [
    "### Generate a sampled trajectory of process $\\{y_t\\}$ for 100 steps:"
   ]
  },
  {
   "cell_type": "code",
   "execution_count": 4,
   "metadata": {},
   "outputs": [
    {
     "name": "stdout",
     "output_type": "stream",
     "text": [
      "traj = [1, 1, 2, 3, 4, 6, 7, 9, 8, 8, 10, 10, 12, 13, 13, 15, 17, 19, 20, 20, 20, 20, 20, 20, 20, 20, 20, 20, 20, 20, 20, 19, 20, 20, 19, 20, 20, 19, 18, 19, 19, 20, 19, 18, 18, 17, 17, 16, 15, 14, 14, 16, 16, 16, 16, 16, 17, 16, 15, 15, 17, 16, 16, 17, 16, 16, 17, 19, 18, 18, 18, 20, 20, 20, 20, 20, 20, 20, 20, 20, 20, 20, 19, 19, 20, 20, 20, 19, 18, 17, 17, 19, 20, 20, 19, 20, 20, 19, 18, 20]\n"
     ]
    }
   ],
   "source": [
    "traj = [1]\n",
    "for i in 2:100\n",
    "    push!(traj, fy(traj))\n",
    "end\n",
    "@show traj;"
   ]
  },
  {
   "cell_type": "markdown",
   "metadata": {},
   "source": [
    "### Plot the trajectory"
   ]
  },
  {
   "cell_type": "code",
   "execution_count": 5,
   "metadata": {},
   "outputs": [
    {
     "data": {
      "image/svg+xml": [
       "<?xml version=\"1.0\" encoding=\"utf-8\"?>\n",
       "<svg xmlns=\"http://www.w3.org/2000/svg\" xmlns:xlink=\"http://www.w3.org/1999/xlink\" width=\"600\" height=\"400\" viewBox=\"0 0 2400 1600\">\n",
       "<defs>\n",
       "  <clipPath id=\"clip8400\">\n",
       "    <rect x=\"0\" y=\"0\" width=\"2400\" height=\"1600\"/>\n",
       "  </clipPath>\n",
       "</defs>\n",
       "<path clip-path=\"url(#clip8400)\" d=\"\n",
       "M0 1600 L2400 1600 L2400 0 L0 0  Z\n",
       "  \" fill=\"#ffffff\" fill-rule=\"evenodd\" fill-opacity=\"1\"/>\n",
       "<defs>\n",
       "  <clipPath id=\"clip8401\">\n",
       "    <rect x=\"480\" y=\"0\" width=\"1681\" height=\"1600\"/>\n",
       "  </clipPath>\n",
       "</defs>\n",
       "<path clip-path=\"url(#clip8400)\" d=\"\n",
       "M140.517 1487.47 L2352.76 1487.47 L2352.76 47.2441 L140.517 47.2441  Z\n",
       "  \" fill=\"#ffffff\" fill-rule=\"evenodd\" fill-opacity=\"1\"/>\n",
       "<defs>\n",
       "  <clipPath id=\"clip8402\">\n",
       "    <rect x=\"140\" y=\"47\" width=\"2213\" height=\"1441\"/>\n",
       "  </clipPath>\n",
       "</defs>\n",
       "<polyline clip-path=\"url(#clip8402)\" style=\"stroke:#000000; stroke-width:2; stroke-opacity:0.1; fill:none\" points=\"\n",
       "  182.046,1487.47 182.046,47.2441 \n",
       "  \"/>\n",
       "<polyline clip-path=\"url(#clip8402)\" style=\"stroke:#000000; stroke-width:2; stroke-opacity:0.1; fill:none\" points=\"\n",
       "  709.071,1487.47 709.071,47.2441 \n",
       "  \"/>\n",
       "<polyline clip-path=\"url(#clip8402)\" style=\"stroke:#000000; stroke-width:2; stroke-opacity:0.1; fill:none\" points=\"\n",
       "  1236.1,1487.47 1236.1,47.2441 \n",
       "  \"/>\n",
       "<polyline clip-path=\"url(#clip8402)\" style=\"stroke:#000000; stroke-width:2; stroke-opacity:0.1; fill:none\" points=\"\n",
       "  1763.12,1487.47 1763.12,47.2441 \n",
       "  \"/>\n",
       "<polyline clip-path=\"url(#clip8402)\" style=\"stroke:#000000; stroke-width:2; stroke-opacity:0.1; fill:none\" points=\"\n",
       "  2290.15,1487.47 2290.15,47.2441 \n",
       "  \"/>\n",
       "<polyline clip-path=\"url(#clip8402)\" style=\"stroke:#000000; stroke-width:2; stroke-opacity:0.1; fill:none\" points=\"\n",
       "  140.517,1160.67 2352.76,1160.67 \n",
       "  \"/>\n",
       "<polyline clip-path=\"url(#clip8402)\" style=\"stroke:#000000; stroke-width:2; stroke-opacity:0.1; fill:none\" points=\"\n",
       "  140.517,803.115 2352.76,803.115 \n",
       "  \"/>\n",
       "<polyline clip-path=\"url(#clip8402)\" style=\"stroke:#000000; stroke-width:2; stroke-opacity:0.1; fill:none\" points=\"\n",
       "  140.517,445.56 2352.76,445.56 \n",
       "  \"/>\n",
       "<polyline clip-path=\"url(#clip8402)\" style=\"stroke:#000000; stroke-width:2; stroke-opacity:0.1; fill:none\" points=\"\n",
       "  140.517,88.0053 2352.76,88.0053 \n",
       "  \"/>\n",
       "<polyline clip-path=\"url(#clip8400)\" style=\"stroke:#000000; stroke-width:4; stroke-opacity:1; fill:none\" points=\"\n",
       "  140.517,1487.47 2352.76,1487.47 \n",
       "  \"/>\n",
       "<polyline clip-path=\"url(#clip8400)\" style=\"stroke:#000000; stroke-width:4; stroke-opacity:1; fill:none\" points=\"\n",
       "  140.517,1487.47 140.517,47.2441 \n",
       "  \"/>\n",
       "<polyline clip-path=\"url(#clip8400)\" style=\"stroke:#000000; stroke-width:4; stroke-opacity:1; fill:none\" points=\"\n",
       "  182.046,1487.47 182.046,1470.19 \n",
       "  \"/>\n",
       "<polyline clip-path=\"url(#clip8400)\" style=\"stroke:#000000; stroke-width:4; stroke-opacity:1; fill:none\" points=\"\n",
       "  709.071,1487.47 709.071,1470.19 \n",
       "  \"/>\n",
       "<polyline clip-path=\"url(#clip8400)\" style=\"stroke:#000000; stroke-width:4; stroke-opacity:1; fill:none\" points=\"\n",
       "  1236.1,1487.47 1236.1,1470.19 \n",
       "  \"/>\n",
       "<polyline clip-path=\"url(#clip8400)\" style=\"stroke:#000000; stroke-width:4; stroke-opacity:1; fill:none\" points=\"\n",
       "  1763.12,1487.47 1763.12,1470.19 \n",
       "  \"/>\n",
       "<polyline clip-path=\"url(#clip8400)\" style=\"stroke:#000000; stroke-width:4; stroke-opacity:1; fill:none\" points=\"\n",
       "  2290.15,1487.47 2290.15,1470.19 \n",
       "  \"/>\n",
       "<polyline clip-path=\"url(#clip8400)\" style=\"stroke:#000000; stroke-width:4; stroke-opacity:1; fill:none\" points=\"\n",
       "  140.517,1160.67 167.064,1160.67 \n",
       "  \"/>\n",
       "<polyline clip-path=\"url(#clip8400)\" style=\"stroke:#000000; stroke-width:4; stroke-opacity:1; fill:none\" points=\"\n",
       "  140.517,803.115 167.064,803.115 \n",
       "  \"/>\n",
       "<polyline clip-path=\"url(#clip8400)\" style=\"stroke:#000000; stroke-width:4; stroke-opacity:1; fill:none\" points=\"\n",
       "  140.517,445.56 167.064,445.56 \n",
       "  \"/>\n",
       "<polyline clip-path=\"url(#clip8400)\" style=\"stroke:#000000; stroke-width:4; stroke-opacity:1; fill:none\" points=\"\n",
       "  140.517,88.0053 167.064,88.0053 \n",
       "  \"/>\n",
       "<g clip-path=\"url(#clip8400)\">\n",
       "<text style=\"fill:#000000; fill-opacity:1; font-family:Arial,Helvetica Neue,Helvetica,sans-serif; font-size:48px; text-anchor:middle;\" transform=\"rotate(0, 182.046, 1541.47)\" x=\"182.046\" y=\"1541.47\">0</text>\n",
       "</g>\n",
       "<g clip-path=\"url(#clip8400)\">\n",
       "<text style=\"fill:#000000; fill-opacity:1; font-family:Arial,Helvetica Neue,Helvetica,sans-serif; font-size:48px; text-anchor:middle;\" transform=\"rotate(0, 709.071, 1541.47)\" x=\"709.071\" y=\"1541.47\">25</text>\n",
       "</g>\n",
       "<g clip-path=\"url(#clip8400)\">\n",
       "<text style=\"fill:#000000; fill-opacity:1; font-family:Arial,Helvetica Neue,Helvetica,sans-serif; font-size:48px; text-anchor:middle;\" transform=\"rotate(0, 1236.1, 1541.47)\" x=\"1236.1\" y=\"1541.47\">50</text>\n",
       "</g>\n",
       "<g clip-path=\"url(#clip8400)\">\n",
       "<text style=\"fill:#000000; fill-opacity:1; font-family:Arial,Helvetica Neue,Helvetica,sans-serif; font-size:48px; text-anchor:middle;\" transform=\"rotate(0, 1763.12, 1541.47)\" x=\"1763.12\" y=\"1541.47\">75</text>\n",
       "</g>\n",
       "<g clip-path=\"url(#clip8400)\">\n",
       "<text style=\"fill:#000000; fill-opacity:1; font-family:Arial,Helvetica Neue,Helvetica,sans-serif; font-size:48px; text-anchor:middle;\" transform=\"rotate(0, 2290.15, 1541.47)\" x=\"2290.15\" y=\"1541.47\">100</text>\n",
       "</g>\n",
       "<g clip-path=\"url(#clip8400)\">\n",
       "<text style=\"fill:#000000; fill-opacity:1; font-family:Arial,Helvetica Neue,Helvetica,sans-serif; font-size:48px; text-anchor:end;\" transform=\"rotate(0, 116.517, 1178.17)\" x=\"116.517\" y=\"1178.17\">5</text>\n",
       "</g>\n",
       "<g clip-path=\"url(#clip8400)\">\n",
       "<text style=\"fill:#000000; fill-opacity:1; font-family:Arial,Helvetica Neue,Helvetica,sans-serif; font-size:48px; text-anchor:end;\" transform=\"rotate(0, 116.517, 820.615)\" x=\"116.517\" y=\"820.615\">10</text>\n",
       "</g>\n",
       "<g clip-path=\"url(#clip8400)\">\n",
       "<text style=\"fill:#000000; fill-opacity:1; font-family:Arial,Helvetica Neue,Helvetica,sans-serif; font-size:48px; text-anchor:end;\" transform=\"rotate(0, 116.517, 463.06)\" x=\"116.517\" y=\"463.06\">15</text>\n",
       "</g>\n",
       "<g clip-path=\"url(#clip8400)\">\n",
       "<text style=\"fill:#000000; fill-opacity:1; font-family:Arial,Helvetica Neue,Helvetica,sans-serif; font-size:48px; text-anchor:end;\" transform=\"rotate(0, 116.517, 105.505)\" x=\"116.517\" y=\"105.505\">20</text>\n",
       "</g>\n",
       "<polyline clip-path=\"url(#clip8402)\" style=\"stroke:#009af9; stroke-width:4; stroke-opacity:1; fill:none\" points=\"\n",
       "  203.127,1446.71 224.208,1446.71 245.289,1375.2 266.37,1303.69 287.451,1232.18 308.532,1089.16 329.613,1017.65 350.694,874.626 371.775,946.137 392.856,946.137 \n",
       "  413.937,803.115 435.018,803.115 456.099,660.093 477.18,588.582 498.261,588.582 519.342,445.56 540.423,302.538 561.504,159.516 582.585,88.0053 603.666,88.0053 \n",
       "  624.747,88.0053 645.828,88.0053 666.909,88.0053 687.99,88.0053 709.071,88.0053 730.152,88.0053 751.233,88.0053 772.314,88.0053 793.395,88.0053 814.476,88.0053 \n",
       "  835.557,88.0053 856.638,159.516 877.719,88.0053 898.8,88.0053 919.881,159.516 940.962,88.0053 962.043,88.0053 983.124,159.516 1004.2,231.027 1025.29,159.516 \n",
       "  1046.37,159.516 1067.45,88.0053 1088.53,159.516 1109.61,231.027 1130.69,231.027 1151.77,302.538 1172.85,302.538 1193.93,374.049 1215.01,445.56 1236.1,517.071 \n",
       "  1257.18,517.071 1278.26,374.049 1299.34,374.049 1320.42,374.049 1341.5,374.049 1362.58,374.049 1383.66,302.538 1404.74,374.049 1425.82,445.56 1446.91,445.56 \n",
       "  1467.99,302.538 1489.07,374.049 1510.15,374.049 1531.23,302.538 1552.31,374.049 1573.39,374.049 1594.47,302.538 1615.55,159.516 1636.63,231.027 1657.72,231.027 \n",
       "  1678.8,231.027 1699.88,88.0053 1720.96,88.0053 1742.04,88.0053 1763.12,88.0053 1784.2,88.0053 1805.28,88.0053 1826.36,88.0053 1847.44,88.0053 1868.53,88.0053 \n",
       "  1889.61,88.0053 1910.69,88.0053 1931.77,159.516 1952.85,159.516 1973.93,88.0053 1995.01,88.0053 2016.09,88.0053 2037.17,159.516 2058.25,231.027 2079.34,302.538 \n",
       "  2100.42,302.538 2121.5,159.516 2142.58,88.0053 2163.66,88.0053 2184.74,159.516 2205.82,88.0053 2226.9,88.0053 2247.98,159.516 2269.06,231.027 2290.15,88.0053 \n",
       "  \n",
       "  \"/>\n",
       "<path clip-path=\"url(#clip8400)\" d=\"\n",
       "M1989.93 251.724 L2280.76 251.724 L2280.76 130.764 L1989.93 130.764  Z\n",
       "  \" fill=\"#ffffff\" fill-rule=\"evenodd\" fill-opacity=\"1\"/>\n",
       "<polyline clip-path=\"url(#clip8400)\" style=\"stroke:#000000; stroke-width:4; stroke-opacity:1; fill:none\" points=\"\n",
       "  1989.93,251.724 2280.76,251.724 2280.76,130.764 1989.93,130.764 1989.93,251.724 \n",
       "  \"/>\n",
       "<polyline clip-path=\"url(#clip8400)\" style=\"stroke:#009af9; stroke-width:4; stroke-opacity:1; fill:none\" points=\"\n",
       "  2013.93,191.244 2157.93,191.244 \n",
       "  \"/>\n",
       "<g clip-path=\"url(#clip8400)\">\n",
       "<text style=\"fill:#000000; fill-opacity:1; font-family:Arial,Helvetica Neue,Helvetica,sans-serif; font-size:48px; text-anchor:start;\" transform=\"rotate(0, 2181.93, 208.744)\" x=\"2181.93\" y=\"208.744\">y1</text>\n",
       "</g>\n",
       "</svg>\n"
      ]
     },
     "execution_count": 5,
     "metadata": {},
     "output_type": "execute_result"
    }
   ],
   "source": [
    "plot(traj)"
   ]
  },
  {
   "cell_type": "markdown",
   "metadata": {},
   "source": [
    "### Fit an empirical distribution to a bunch of samples\n",
    "\n",
    "(Note: you will be able to tell by inspecting the data that $1 \\leq x_t \\leq 20$ and $1\\leq y_t \\leq 20$)"
   ]
  },
  {
   "cell_type": "code",
   "execution_count": 6,
   "metadata": {},
   "outputs": [
    {
     "name": "stdout",
     "output_type": "stream",
     "text": [
      "empirical_distribution(samples) = [0.1875, 0.25, 0.0, 0.0625, 0.4375, 0.0, 0.0, 0.0, 0.0, 0.0, 0.0, 0.0, 0.0, 0.0, 0.0, 0.0, 0.0, 0.0, 0.0625, 0.0]\n"
     ]
    }
   ],
   "source": [
    "function empirical_distribution(samples)\n",
    "    return [count(samples.==i)/length(samples) for i in 1:20]\n",
    "end\n",
    "samples = [1,1,1,2,2,2,2,4,5,5,5,5,5,5,5,19]\n",
    "@show empirical_distribution(samples); # note: you can use the isapprox function to compare distributions"
   ]
  },
  {
   "cell_type": "markdown",
   "metadata": {},
   "source": [
    "# Question 6: Submitting to the Leaderboard\n",
    "\n",
    "The content of this question is trivial; it is meant to test that everyone can submit to the leaderboard."
   ]
  },
  {
   "cell_type": "code",
   "execution_count": 7,
   "metadata": {},
   "outputs": [],
   "source": [
    "using DMUStudent"
   ]
  },
  {
   "cell_type": "markdown",
   "metadata": {},
   "source": [
    "**First we need to define a function that computes the hypotenuse.** An incorrect one is below. You should change it to be correct.\n",
    "\n",
    "To find out more about defining functions, see [The Julia Documentation](https://docs.julialang.org/en/v1/manual/functions/#)"
   ]
  },
  {
   "cell_type": "code",
   "execution_count": 8,
   "metadata": {},
   "outputs": [
    {
     "data": {
      "text/plain": [
       "f (generic function with 1 method)"
      ]
     },
     "execution_count": 8,
     "metadata": {},
     "output_type": "execute_result"
    }
   ],
   "source": [
    "f(a, b) = a + b"
   ]
  },
  {
   "cell_type": "markdown",
   "metadata": {},
   "source": [
    "**Next, we can use the `evaluate` function to check what our score will be.**\n",
    "    \n",
    "To find out how to use the evaluate function, use the julia help by typing `?` and the name of the function."
   ]
  },
  {
   "cell_type": "code",
   "execution_count": 9,
   "metadata": {},
   "outputs": [
    {
     "name": "stdout",
     "output_type": "stream",
     "text": [
      "search: \u001b[0m\u001b[1me\u001b[22m\u001b[0m\u001b[1mv\u001b[22m\u001b[0m\u001b[1ma\u001b[22m\u001b[0m\u001b[1ml\u001b[22m\u001b[0m\u001b[1mu\u001b[22m\u001b[0m\u001b[1ma\u001b[22m\u001b[0m\u001b[1mt\u001b[22m\u001b[0m\u001b[1me\u001b[22m\n",
      "\n"
     ]
    },
    {
     "data": {
      "text/latex": [
       "\\begin{verbatim}\n",
       "evaluate(submission, assignment)\n",
       "\\end{verbatim}\n",
       "Evaluate a submission for a homework assignment on your local machine and print a score. This will NOT send the result to dmuleaderboard.com.\n",
       "\n",
       "\\section{Arguments}\n",
       "\\begin{itemize}\n",
       "\\item \\texttt{submission}: This is the object that the homework prompt asks for. It could be a function, vector, string, or some other data. See the homework starter code for examples.\n",
       "\n",
       "\n",
       "\\item \\texttt{assignment::String}: A string indicating which assignment this is for, e.g. \\texttt{\"hw1\"}\n",
       "\n",
       "\\end{itemize}\n"
      ],
      "text/markdown": [
       "```\n",
       "evaluate(submission, assignment)\n",
       "```\n",
       "\n",
       "Evaluate a submission for a homework assignment on your local machine and print a score. This will NOT send the result to dmuleaderboard.com.\n",
       "\n",
       "# Arguments\n",
       "\n",
       "  * `submission`: This is the object that the homework prompt asks for. It could be a function, vector, string, or some other data. See the homework starter code for examples.\n",
       "  * `assignment::String`: A string indicating which assignment this is for, e.g. `\"hw1\"`\n"
      ],
      "text/plain": [
       "\u001b[36m  evaluate(submission, assignment)\u001b[39m\n",
       "\n",
       "  Evaluate a submission for a homework assignment on your local machine and\n",
       "  print a score. This will NOT send the result to dmuleaderboard.com.\n",
       "\n",
       "\u001b[1m  Arguments\u001b[22m\n",
       "\u001b[1m  ≡≡≡≡≡≡≡≡≡≡≡\u001b[22m\n",
       "\n",
       "    •    \u001b[36msubmission\u001b[39m: This is the object that the homework prompt asks for.\n",
       "        It could be a function, vector, string, or some other data. See\n",
       "        the homework starter code for examples.\n",
       "\n",
       "    •    \u001b[36massignment::String\u001b[39m: A string indicating which assignment this is\n",
       "        for, e.g. \u001b[36m\"hw1\"\u001b[39m"
      ]
     },
     "execution_count": 9,
     "metadata": {},
     "output_type": "execute_result"
    }
   ],
   "source": [
    "?evaluate"
   ]
  },
  {
   "cell_type": "markdown",
   "metadata": {},
   "source": [
    "**Next, invoke `evaluate` on your function.** If it is correct, it will return a score of 1; if incorrect, 0."
   ]
  },
  {
   "cell_type": "code",
   "execution_count": 10,
   "metadata": {},
   "outputs": [
    {
     "name": "stdout",
     "output_type": "stream",
     "text": [
      "Evaluation complete! Score: 0\n"
     ]
    },
    {
     "name": "stderr",
     "output_type": "stream",
     "text": [
      "┌ Warning: In HW 1 evaluation, your function was not correct for arguments (3, 4).\n",
      "└ @ DMUStudent.HW1 none:14\n"
     ]
    },
    {
     "data": {
      "text/plain": [
       "0"
      ]
     },
     "execution_count": 10,
     "metadata": {},
     "output_type": "execute_result"
    }
   ],
   "source": [
    "evaluate(f, \"hw1\")"
   ]
  },
  {
   "cell_type": "markdown",
   "metadata": {},
   "source": [
    "**Finally, once we have a correct function, we will submit it to the leaderboard.**\n",
    "\n",
    "(To see documentation for `submit`, type `?submit`)"
   ]
  },
  {
   "cell_type": "code",
   "execution_count": 11,
   "metadata": {},
   "outputs": [
    {
     "name": "stderr",
     "output_type": "stream",
     "text": [
      "┌ Warning: In HW 1 evaluation, your function was not correct for arguments (3, 4).\n",
      "└ @ DMUStudent.HW1 none:14\n"
     ]
    },
    {
     "name": "stdout",
     "output_type": "stream",
     "text": [
      "Evaluation complete! Score: 0\n"
     ]
    },
    {
     "name": "stderr",
     "output_type": "stream",
     "text": [
      "┌ Info: Sending data...\n",
      "└ @ RedPen.Client none:19\n",
      "┌ Info: Success! A score of 0 was saved to the database with email identikey@colorado.edu and nickname I forgot to change the default nickname 🤦\n",
      "└ @ RedPen.Client none:29\n"
     ]
    },
    {
     "data": {
      "text/plain": [
       "0"
      ]
     },
     "execution_count": 11,
     "metadata": {},
     "output_type": "execute_result"
    }
   ],
   "source": [
    "submit(f, \"hw1\", \"identikey@colorado.edu\", nickname=\"I forgot to change the default nickname 🤦\")"
   ]
  },
  {
   "cell_type": "markdown",
   "metadata": {},
   "source": [
    "To check that the submission worked, visit http://dmuleaderboard.com/hw1/ or use the status function:"
   ]
  },
  {
   "cell_type": "code",
   "execution_count": 12,
   "metadata": {},
   "outputs": [
    {
     "name": "stderr",
     "output_type": "stream",
     "text": [
      "┌ Info: Sending data...\n",
      "└ @ RedPen.Client none:19\n",
      "┌ Info: Success\n",
      "│ Status for email identikey@colorado.edu:\n",
      "│     hw1:      0.0   (I forgot to change the default nickname 🤦)\n",
      "│ \n",
      "└ @ RedPen.Client none:29\n"
     ]
    }
   ],
   "source": [
    "status(\"identikey@colorado.edu\")"
   ]
  },
  {
   "cell_type": "code",
   "execution_count": null,
   "metadata": {},
   "outputs": [],
   "source": []
  }
 ],
 "metadata": {
  "@webio": {
   "lastCommId": null,
   "lastKernelId": null
  },
  "kernelspec": {
   "display_name": "Julia 1.3.1",
   "language": "julia",
   "name": "julia-1.3"
  },
  "language_info": {
   "file_extension": ".jl",
   "mimetype": "application/julia",
   "name": "julia",
   "version": "1.3.1"
  }
 },
 "nbformat": 4,
 "nbformat_minor": 2
}
