{
 "cells": [
  {
   "cell_type": "markdown",
   "metadata": {},
   "source": [
    "# Exploration and Exploitation"
   ]
  },
  {
   "cell_type": "code",
   "execution_count": 1,
   "metadata": {},
   "outputs": [
    {
     "data": {
      "text/html": [
       "<script>\n",
       "// Immediately-invoked-function-expression to avoid global variables.\n",
       "(function() {\n",
       "    var warning_div = document.getElementById(\"webio-warning-4142111261336358402\");\n",
       "    var hide = function () {\n",
       "        var script = document.getElementById(\"webio-setup-12289265248668580688\");\n",
       "        var parent = script && script.parentElement;\n",
       "        var grandparent = parent && parent.parentElement;\n",
       "        if (grandparent) {\n",
       "            grandparent.style.display = \"none\";\n",
       "        }\n",
       "        warning_div.style.display = \"none\";\n",
       "    };\n",
       "    if (typeof Jupyter !== \"undefined\") {\n",
       "        console.log(\"WebIO detected Jupyter notebook environment.\");\n",
       "        // Jupyter notebook.\n",
       "        var extensions = (\n",
       "            Jupyter\n",
       "            && Jupyter.notebook.config.data\n",
       "            && Jupyter.notebook.config.data.load_extensions\n",
       "        );\n",
       "        if (extensions && extensions[\"webio-jupyter-notebook\"]) {\n",
       "            // Extension already loaded.\n",
       "            console.log(\"Jupyter WebIO nbextension detected; not loading ad-hoc.\");\n",
       "            hide();\n",
       "            return;\n",
       "        }\n",
       "    } else if (window.location.pathname.includes(\"/lab\")) {\n",
       "        // Guessing JupyterLa\n",
       "        console.log(\"Jupyter Lab detected; make sure the @webio/jupyter-lab-provider labextension is installed.\");\n",
       "        hide();\n",
       "        return;\n",
       "    }\n",
       "})();\n",
       "\n",
       "</script>\n",
       "<p\n",
       "    id=\"webio-warning-4142111261336358402\"\n",
       "    class=\"output_text output_stderr\"\n",
       "    style=\"padding: 1em; font-weight: bold;\"\n",
       ">\n",
       "    Unable to load WebIO. Please make sure WebIO works for your Jupyter client.\n",
       "    For troubleshooting, please see <a href=\"https://juliagizmos.github.io/WebIO.jl/latest/providers/ijulia/\">\n",
       "    the WebIO/IJulia documentation</a>.\n",
       "    <!-- TODO: link to installation docs. -->\n",
       "</p>\n"
      ],
      "text/plain": [
       "HTML{String}(\"<script>\\n// Immediately-invoked-function-expression to avoid global variables.\\n(function() {\\n    var warning_div = document.getElementById(\\\"webio-warning-4142111261336358402\\\");\\n    var hide = function () {\\n        var script = document.getElementById(\\\"webio-setup-12289265248668580688\\\");\\n        var parent = script && script.parentElement;\\n        var grandparent = parent && parent.parentElement;\\n        if (grandparent) {\\n            grandparent.style.display = \\\"none\\\";\\n        }\\n        warning_div.style.display = \\\"none\\\";\\n    };\\n    if (typeof Jupyter !== \\\"undefined\\\") {\\n        console.log(\\\"WebIO detected Jupyter notebook environment.\\\");\\n        // Jupyter notebook.\\n        var extensions = (\\n            Jupyter\\n            && Jupyter.notebook.config.data\\n            && Jupyter.notebook.config.data.load_extensions\\n        );\\n        if (extensions && extensions[\\\"webio-jupyter-notebook\\\"]) {\\n            // Extension already loaded.\\n            console.log(\\\"Jupyter WebIO nbextension detected; not loading ad-hoc.\\\");\\n            hide();\\n            return;\\n        }\\n    } else if (window.location.pathname.includes(\\\"/lab\\\")) {\\n        // Guessing JupyterLa\\n        console.log(\\\"Jupyter Lab detected; make sure the @webio/jupyter-lab-provider labextension is installed.\\\");\\n        hide();\\n        return;\\n    }\\n})();\\n\\n</script>\\n<p\\n    id=\\\"webio-warning-4142111261336358402\\\"\\n    class=\\\"output_text output_stderr\\\"\\n    style=\\\"padding: 1em; font-weight: bold;\\\"\\n>\\n    Unable to load WebIO. Please make sure WebIO works for your Jupyter client.\\n    For troubleshooting, please see <a href=\\\"https://juliagizmos.github.io/WebIO.jl/latest/providers/ijulia/\\\">\\n    the WebIO/IJulia documentation</a>.\\n    <!-- TODO: link to installation docs. -->\\n</p>\\n\")"
      ]
     },
     "metadata": {},
     "output_type": "display_data"
    }
   ],
   "source": [
    "using PGFPlots\n",
    "using Interact\n",
    "using Reactive\n",
    "using Distributions\n",
    "include(\"helpers.jl\")\n",
    "include(\"bandits.jl\");"
   ]
  },
  {
   "cell_type": "markdown",
   "metadata": {},
   "source": [
    "## Multi-Armed Bandit Problems"
   ]
  },
  {
   "cell_type": "code",
   "execution_count": 2,
   "metadata": {
    "scrolled": true
   },
   "outputs": [
    {
     "data": {
      "application/vnd.webio.node+json": {
       "children": [
        {
         "children": [
          {
           "children": [
            "Arm 1"
           ],
           "instanceArgs": {
            "namespace": "html",
            "tag": "button"
           },
           "nodeType": "DOM",
           "props": {
            "attributes": {
             "data-bind": "click: function (){this.clicks(this.clicks()+1)}, css: {'is-loading' : loading}"
            },
            "className": "is-medium button is-primary",
            "style": {}
           },
           "type": "node"
          }
         ],
         "instanceArgs": {
          "handlers": {
           "clicks": [
            "(function (val){return (val!=this.model[\"clicks\"]()) ? (this.valueFromJulia[\"clicks\"]=true, this.model[\"clicks\"](val)) : undefined})"
           ],
           "loading": [
            "(function (val){return (val!=this.model[\"loading\"]()) ? (this.valueFromJulia[\"loading\"]=true, this.model[\"loading\"](val)) : undefined})"
           ]
          },
          "id": "17906862934787425085",
          "imports": {
           "data": [
            {
             "name": "knockout",
             "type": "js",
             "url": "/assetserver/3e541dee53151b2c541f58d90425f0a0925f9e0f-knockout.js"
            },
            {
             "name": "knockout_punches",
             "type": "js",
             "url": "/assetserver/a2fe821063f7b9402a4f3a4f892ed8b183d4262e-knockout_punches.js"
            },
            {
             "name": null,
             "type": "js",
             "url": "/assetserver/dca5dacd6b773cb2d9b372cb162585b4bab6abce-all.js"
            },
            {
             "name": null,
             "type": "css",
             "url": "/assetserver/a1491573312c28f6fe82fff21946abae6141d461-style.css"
            },
            {
             "name": null,
             "type": "css",
             "url": "/assetserver/2b70ab798aa8d032d4d4df5efcc489d2c54ad5f7-bulma_confined.min.css"
            }
           ],
           "type": "async_block"
          },
          "mount_callbacks": [
           "function () {\n    var handler = (function (ko, koPunches) {\n    ko.punches.enableAll();\n    ko.bindingHandlers.numericValue = {\n        init: function(element, valueAccessor, allBindings, data, context) {\n            var stringified = ko.observable(ko.unwrap(valueAccessor()));\n            stringified.subscribe(function(value) {\n                var val = parseFloat(value);\n                if (!isNaN(val)) {\n                    valueAccessor()(val);\n                }\n            });\n            valueAccessor().subscribe(function(value) {\n                var str = JSON.stringify(value);\n                if ((str == \"0\") && ([\"-0\", \"-0.\"].indexOf(stringified()) >= 0))\n                     return;\n                 if ([\"null\", \"\"].indexOf(str) >= 0)\n                     return;\n                stringified(str);\n            });\n            ko.applyBindingsToNode(\n                element,\n                {\n                    value: stringified,\n                    valueUpdate: allBindings.get('valueUpdate'),\n                },\n                context,\n            );\n        }\n    };\n    var json_data = {\"loading\":WebIO.getval({\"name\":\"loading\",\"scope\":\"17906862934787425085\",\"id\":\"ob_02\",\"type\":\"observable\"}),\"clicks\":WebIO.getval({\"name\":\"clicks\",\"scope\":\"17906862934787425085\",\"id\":\"ob_01\",\"type\":\"observable\"})};\n    var self = this;\n    function AppViewModel() {\n        for (var key in json_data) {\n            var el = json_data[key];\n            this[key] = Array.isArray(el) ? ko.observableArray(el) : ko.observable(el);\n        }\n        \n        \n        [this[\"loading\"].subscribe((function (val){!(this.valueFromJulia[\"loading\"]) ? (WebIO.setval({\"name\":\"loading\",\"scope\":\"17906862934787425085\",\"id\":\"ob_02\",\"type\":\"observable\"},val)) : undefined; return this.valueFromJulia[\"loading\"]=false}),self),this[\"clicks\"].subscribe((function (val){!(this.valueFromJulia[\"clicks\"]) ? (WebIO.setval({\"name\":\"clicks\",\"scope\":\"17906862934787425085\",\"id\":\"ob_01\",\"type\":\"observable\"},val)) : undefined; return this.valueFromJulia[\"clicks\"]=false}),self)]\n        \n    }\n    self.model = new AppViewModel();\n    self.valueFromJulia = {};\n    for (var key in json_data) {\n        self.valueFromJulia[key] = false;\n    }\n    ko.applyBindings(self.model, self.dom);\n}\n);\n    (WebIO.importBlock({\"data\":[{\"name\":\"knockout\",\"type\":\"js\",\"url\":\"/assetserver/3e541dee53151b2c541f58d90425f0a0925f9e0f-knockout.js\"},{\"name\":\"knockout_punches\",\"type\":\"js\",\"url\":\"/assetserver/a2fe821063f7b9402a4f3a4f892ed8b183d4262e-knockout_punches.js\"}],\"type\":\"async_block\"})).then((imports) => handler.apply(this, imports));\n}\n"
          ],
          "observables": {
           "clicks": {
            "id": "ob_01",
            "sync": false,
            "value": 0
           },
           "loading": {
            "id": "ob_02",
            "sync": false,
            "value": false
           }
          },
          "systemjs_options": null
         },
         "nodeType": "Scope",
         "props": {},
         "type": "node"
        }
       ],
       "instanceArgs": {
        "namespace": "html",
        "tag": "div"
       },
       "nodeType": "DOM",
       "props": {
        "className": "field interact-widget"
       },
       "type": "node"
      },
      "text/html": [
       "<div\n",
       "    class=\"webio-mountpoint\"\n",
       "    data-webio-mountpoint=\"2421593461536463673\"\n",
       ">\n",
       "    <script>\n",
       "    if (window.require && require.defined && require.defined(\"nbextensions/webio-jupyter-notebook\")) {\n",
       "        console.log(\"Jupyter WebIO extension detected, not mounting.\");\n",
       "    } else if (window.WebIO) {\n",
       "        WebIO.mount(\n",
       "            document.querySelector('[data-webio-mountpoint=\"2421593461536463673\"]'),\n",
       "            {\"props\":{\"className\":\"field interact-widget\"},\"nodeType\":\"DOM\",\"type\":\"node\",\"instanceArgs\":{\"namespace\":\"html\",\"tag\":\"div\"},\"children\":[{\"props\":{},\"nodeType\":\"Scope\",\"type\":\"node\",\"instanceArgs\":{\"imports\":{\"data\":[{\"name\":\"knockout\",\"type\":\"js\",\"url\":\"\\/assetserver\\/3e541dee53151b2c541f58d90425f0a0925f9e0f-knockout.js\"},{\"name\":\"knockout_punches\",\"type\":\"js\",\"url\":\"\\/assetserver\\/a2fe821063f7b9402a4f3a4f892ed8b183d4262e-knockout_punches.js\"},{\"name\":null,\"type\":\"js\",\"url\":\"\\/assetserver\\/dca5dacd6b773cb2d9b372cb162585b4bab6abce-all.js\"},{\"name\":null,\"type\":\"css\",\"url\":\"\\/assetserver\\/a1491573312c28f6fe82fff21946abae6141d461-style.css\"},{\"name\":null,\"type\":\"css\",\"url\":\"\\/assetserver\\/2b70ab798aa8d032d4d4df5efcc489d2c54ad5f7-bulma_confined.min.css\"}],\"type\":\"async_block\"},\"id\":\"17906862934787425085\",\"handlers\":{\"loading\":[\"(function (val){return (val!=this.model[\\\"loading\\\"]()) ? (this.valueFromJulia[\\\"loading\\\"]=true, this.model[\\\"loading\\\"](val)) : undefined})\"],\"clicks\":[\"(function (val){return (val!=this.model[\\\"clicks\\\"]()) ? (this.valueFromJulia[\\\"clicks\\\"]=true, this.model[\\\"clicks\\\"](val)) : undefined})\"]},\"systemjs_options\":null,\"mount_callbacks\":[\"function () {\\n    var handler = (function (ko, koPunches) {\\n    ko.punches.enableAll();\\n    ko.bindingHandlers.numericValue = {\\n        init: function(element, valueAccessor, allBindings, data, context) {\\n            var stringified = ko.observable(ko.unwrap(valueAccessor()));\\n            stringified.subscribe(function(value) {\\n                var val = parseFloat(value);\\n                if (!isNaN(val)) {\\n                    valueAccessor()(val);\\n                }\\n            });\\n            valueAccessor().subscribe(function(value) {\\n                var str = JSON.stringify(value);\\n                if ((str == \\\"0\\\") && ([\\\"-0\\\", \\\"-0.\\\"].indexOf(stringified()) >= 0))\\n                     return;\\n                 if ([\\\"null\\\", \\\"\\\"].indexOf(str) >= 0)\\n                     return;\\n                stringified(str);\\n            });\\n            ko.applyBindingsToNode(\\n                element,\\n                {\\n                    value: stringified,\\n                    valueUpdate: allBindings.get('valueUpdate'),\\n                },\\n                context,\\n            );\\n        }\\n    };\\n    var json_data = {\\\"loading\\\":WebIO.getval({\\\"name\\\":\\\"loading\\\",\\\"scope\\\":\\\"17906862934787425085\\\",\\\"id\\\":\\\"ob_02\\\",\\\"type\\\":\\\"observable\\\"}),\\\"clicks\\\":WebIO.getval({\\\"name\\\":\\\"clicks\\\",\\\"scope\\\":\\\"17906862934787425085\\\",\\\"id\\\":\\\"ob_01\\\",\\\"type\\\":\\\"observable\\\"})};\\n    var self = this;\\n    function AppViewModel() {\\n        for (var key in json_data) {\\n            var el = json_data[key];\\n            this[key] = Array.isArray(el) ? ko.observableArray(el) : ko.observable(el);\\n        }\\n        \\n        \\n        [this[\\\"loading\\\"].subscribe((function (val){!(this.valueFromJulia[\\\"loading\\\"]) ? (WebIO.setval({\\\"name\\\":\\\"loading\\\",\\\"scope\\\":\\\"17906862934787425085\\\",\\\"id\\\":\\\"ob_02\\\",\\\"type\\\":\\\"observable\\\"},val)) : undefined; return this.valueFromJulia[\\\"loading\\\"]=false}),self),this[\\\"clicks\\\"].subscribe((function (val){!(this.valueFromJulia[\\\"clicks\\\"]) ? (WebIO.setval({\\\"name\\\":\\\"clicks\\\",\\\"scope\\\":\\\"17906862934787425085\\\",\\\"id\\\":\\\"ob_01\\\",\\\"type\\\":\\\"observable\\\"},val)) : undefined; return this.valueFromJulia[\\\"clicks\\\"]=false}),self)]\\n        \\n    }\\n    self.model = new AppViewModel();\\n    self.valueFromJulia = {};\\n    for (var key in json_data) {\\n        self.valueFromJulia[key] = false;\\n    }\\n    ko.applyBindings(self.model, self.dom);\\n}\\n);\\n    (WebIO.importBlock({\\\"data\\\":[{\\\"name\\\":\\\"knockout\\\",\\\"type\\\":\\\"js\\\",\\\"url\\\":\\\"\\/assetserver\\/3e541dee53151b2c541f58d90425f0a0925f9e0f-knockout.js\\\"},{\\\"name\\\":\\\"knockout_punches\\\",\\\"type\\\":\\\"js\\\",\\\"url\\\":\\\"\\/assetserver\\/a2fe821063f7b9402a4f3a4f892ed8b183d4262e-knockout_punches.js\\\"}],\\\"type\\\":\\\"async_block\\\"})).then((imports) => handler.apply(this, imports));\\n}\\n\"],\"observables\":{\"loading\":{\"sync\":false,\"id\":\"ob_02\",\"value\":false},\"clicks\":{\"sync\":false,\"id\":\"ob_01\",\"value\":0}}},\"children\":[{\"props\":{\"attributes\":{\"data-bind\":\"click: function (){this.clicks(this.clicks()+1)}, css: {'is-loading' : loading}\"},\"className\":\"is-medium button is-primary\",\"style\":{}},\"nodeType\":\"DOM\",\"type\":\"node\",\"instanceArgs\":{\"namespace\":\"html\",\"tag\":\"button\"},\"children\":[\"Arm 1\"]}]}]},\n",
       "            window,\n",
       "        );\n",
       "    } else {\n",
       "        document\n",
       "            .querySelector('[data-webio-mountpoint=\"2421593461536463673\"]')\n",
       "            .innerHTML = (\n",
       "                '<div style=\"padding: 1em; background-color: #f8d6da; border: 1px solid #f5c6cb\">' +\n",
       "                '<p><strong>WebIO not detected.</strong></p>' +\n",
       "                '<p>Please read ' +\n",
       "                '<a href=\"https://juliagizmos.github.io/WebIO.jl/latest/troubleshooting/not-detected/\" target=\"_blank\">the troubleshooting guide</a> ' +\n",
       "                'for more information on how to resolve this issue.</p>' +\n",
       "                '<p><a href=\"https://juliagizmos.github.io/WebIO.jl/latest/troubleshooting/not-detected/\" target=\"_blank\">https://juliagizmos.github.io/WebIO.jl/latest/troubleshooting/not-detected/</a></p>' +\n",
       "                '</div>'\n",
       "            );\n",
       "    }\n",
       "    </script>\n",
       "</div>\n"
      ],
      "text/plain": [
       "(div { className=\"field interact-widget\" }\n",
       "    (button { attributes=Dict{Any,Any}(\"data-bind\" => \"click: function (){this.clicks(this.clicks()+1)}, css: {'is-loading' : loading}\") className=\"is-medium button is-primary\" style=Dict{String,Any}() }\n",
       "    \"Arm 1\"))"
      ]
     },
     "metadata": {
      "application/vnd.webio.node+json": {
       "kernelId": "dd5017fb-e108-4a46-a015-6527faa074d8"
      }
     },
     "output_type": "display_data"
    },
    {
     "data": {
      "application/vnd.webio.node+json": {
       "children": [
        {
         "children": [],
         "instanceArgs": {
          "namespace": "html",
          "tag": "div"
         },
         "nodeType": "DOM",
         "props": {
          "className": "webio-observable",
          "setInnerHtml": "<pre>\"0 wins out of 0 tries (NaN percent)\"</pre>"
         },
         "type": "node"
        }
       ],
       "instanceArgs": {
        "handlers": {
         "obs-output": [
          "function (value, scope) {\n    scope.setInnerHTML(value);\n}\n"
         ]
        },
        "id": "4907571366777621389",
        "imports": {
         "data": [],
         "type": "async_block"
        },
        "mount_callbacks": [],
        "observables": {
         "obs-output": {
          "id": "ob_06",
          "sync": false,
          "value": "<pre>\"0 wins out of 0 tries (NaN percent)\"</pre>"
         }
        },
        "systemjs_options": null
       },
       "nodeType": "Scope",
       "props": {},
       "type": "node"
      },
      "text/html": [
       "<div\n",
       "    class=\"webio-mountpoint\"\n",
       "    data-webio-mountpoint=\"14818280945156790161\"\n",
       ">\n",
       "    <script>\n",
       "    if (window.require && require.defined && require.defined(\"nbextensions/webio-jupyter-notebook\")) {\n",
       "        console.log(\"Jupyter WebIO extension detected, not mounting.\");\n",
       "    } else if (window.WebIO) {\n",
       "        WebIO.mount(\n",
       "            document.querySelector('[data-webio-mountpoint=\"14818280945156790161\"]'),\n",
       "            {\"props\":{},\"nodeType\":\"Scope\",\"type\":\"node\",\"instanceArgs\":{\"imports\":{\"data\":[],\"type\":\"async_block\"},\"id\":\"11298988461757511897\",\"handlers\":{\"obs-output\":[\"function (value, scope) {\\n    scope.setInnerHTML(value);\\n}\\n\"]},\"systemjs_options\":null,\"mount_callbacks\":[],\"observables\":{\"obs-output\":{\"sync\":false,\"id\":\"ob_05\",\"value\":\"<pre>\\\"0 wins out of 0 tries (NaN percent)\\\"<\\/pre>\"}}},\"children\":[{\"props\":{\"className\":\"webio-observable\",\"setInnerHtml\":\"<pre>\\\"0 wins out of 0 tries (NaN percent)\\\"<\\/pre>\"},\"nodeType\":\"DOM\",\"type\":\"node\",\"instanceArgs\":{\"namespace\":\"html\",\"tag\":\"div\"},\"children\":[]}]},\n",
       "            window,\n",
       "        );\n",
       "    } else {\n",
       "        document\n",
       "            .querySelector('[data-webio-mountpoint=\"14818280945156790161\"]')\n",
       "            .innerHTML = (\n",
       "                '<div style=\"padding: 1em; background-color: #f8d6da; border: 1px solid #f5c6cb\">' +\n",
       "                '<p><strong>WebIO not detected.</strong></p>' +\n",
       "                '<p>Please read ' +\n",
       "                '<a href=\"https://juliagizmos.github.io/WebIO.jl/latest/troubleshooting/not-detected/\" target=\"_blank\">the troubleshooting guide</a> ' +\n",
       "                'for more information on how to resolve this issue.</p>' +\n",
       "                '<p><a href=\"https://juliagizmos.github.io/WebIO.jl/latest/troubleshooting/not-detected/\" target=\"_blank\">https://juliagizmos.github.io/WebIO.jl/latest/troubleshooting/not-detected/</a></p>' +\n",
       "                '</div>'\n",
       "            );\n",
       "    }\n",
       "    </script>\n",
       "</div>\n"
      ],
      "text/plain": [
       "Observable{Any} with 0 listeners. Value:\n",
       "\"0 wins out of 0 tries (NaN percent)\""
      ]
     },
     "metadata": {
      "application/vnd.webio.node+json": {
       "kernelId": "dd5017fb-e108-4a46-a015-6527faa074d8"
      }
     },
     "output_type": "display_data"
    },
    {
     "data": {
      "application/vnd.webio.node+json": {
       "children": [
        {
         "children": [
          {
           "children": [
            "Arm 2"
           ],
           "instanceArgs": {
            "namespace": "html",
            "tag": "button"
           },
           "nodeType": "DOM",
           "props": {
            "attributes": {
             "data-bind": "click: function (){this.clicks(this.clicks()+1)}, css: {'is-loading' : loading}"
            },
            "className": "is-medium button is-primary",
            "style": {}
           },
           "type": "node"
          }
         ],
         "instanceArgs": {
          "handlers": {
           "clicks": [
            "(function (val){return (val!=this.model[\"clicks\"]()) ? (this.valueFromJulia[\"clicks\"]=true, this.model[\"clicks\"](val)) : undefined})"
           ],
           "loading": [
            "(function (val){return (val!=this.model[\"loading\"]()) ? (this.valueFromJulia[\"loading\"]=true, this.model[\"loading\"](val)) : undefined})"
           ]
          },
          "id": "12961983071110081750",
          "imports": {
           "data": [
            {
             "name": "knockout",
             "type": "js",
             "url": "/assetserver/3e541dee53151b2c541f58d90425f0a0925f9e0f-knockout.js"
            },
            {
             "name": "knockout_punches",
             "type": "js",
             "url": "/assetserver/a2fe821063f7b9402a4f3a4f892ed8b183d4262e-knockout_punches.js"
            },
            {
             "name": null,
             "type": "js",
             "url": "/assetserver/dca5dacd6b773cb2d9b372cb162585b4bab6abce-all.js"
            },
            {
             "name": null,
             "type": "css",
             "url": "/assetserver/a1491573312c28f6fe82fff21946abae6141d461-style.css"
            },
            {
             "name": null,
             "type": "css",
             "url": "/assetserver/2b70ab798aa8d032d4d4df5efcc489d2c54ad5f7-bulma_confined.min.css"
            }
           ],
           "type": "async_block"
          },
          "mount_callbacks": [
           "function () {\n    var handler = (function (ko, koPunches) {\n    ko.punches.enableAll();\n    ko.bindingHandlers.numericValue = {\n        init: function(element, valueAccessor, allBindings, data, context) {\n            var stringified = ko.observable(ko.unwrap(valueAccessor()));\n            stringified.subscribe(function(value) {\n                var val = parseFloat(value);\n                if (!isNaN(val)) {\n                    valueAccessor()(val);\n                }\n            });\n            valueAccessor().subscribe(function(value) {\n                var str = JSON.stringify(value);\n                if ((str == \"0\") && ([\"-0\", \"-0.\"].indexOf(stringified()) >= 0))\n                     return;\n                 if ([\"null\", \"\"].indexOf(str) >= 0)\n                     return;\n                stringified(str);\n            });\n            ko.applyBindingsToNode(\n                element,\n                {\n                    value: stringified,\n                    valueUpdate: allBindings.get('valueUpdate'),\n                },\n                context,\n            );\n        }\n    };\n    var json_data = {\"loading\":WebIO.getval({\"name\":\"loading\",\"scope\":\"12961983071110081750\",\"id\":\"ob_08\",\"type\":\"observable\"}),\"clicks\":WebIO.getval({\"name\":\"clicks\",\"scope\":\"12961983071110081750\",\"id\":\"ob_07\",\"type\":\"observable\"})};\n    var self = this;\n    function AppViewModel() {\n        for (var key in json_data) {\n            var el = json_data[key];\n            this[key] = Array.isArray(el) ? ko.observableArray(el) : ko.observable(el);\n        }\n        \n        \n        [this[\"loading\"].subscribe((function (val){!(this.valueFromJulia[\"loading\"]) ? (WebIO.setval({\"name\":\"loading\",\"scope\":\"12961983071110081750\",\"id\":\"ob_08\",\"type\":\"observable\"},val)) : undefined; return this.valueFromJulia[\"loading\"]=false}),self),this[\"clicks\"].subscribe((function (val){!(this.valueFromJulia[\"clicks\"]) ? (WebIO.setval({\"name\":\"clicks\",\"scope\":\"12961983071110081750\",\"id\":\"ob_07\",\"type\":\"observable\"},val)) : undefined; return this.valueFromJulia[\"clicks\"]=false}),self)]\n        \n    }\n    self.model = new AppViewModel();\n    self.valueFromJulia = {};\n    for (var key in json_data) {\n        self.valueFromJulia[key] = false;\n    }\n    ko.applyBindings(self.model, self.dom);\n}\n);\n    (WebIO.importBlock({\"data\":[{\"name\":\"knockout\",\"type\":\"js\",\"url\":\"/assetserver/3e541dee53151b2c541f58d90425f0a0925f9e0f-knockout.js\"},{\"name\":\"knockout_punches\",\"type\":\"js\",\"url\":\"/assetserver/a2fe821063f7b9402a4f3a4f892ed8b183d4262e-knockout_punches.js\"}],\"type\":\"async_block\"})).then((imports) => handler.apply(this, imports));\n}\n"
          ],
          "observables": {
           "clicks": {
            "id": "ob_07",
            "sync": false,
            "value": 0
           },
           "loading": {
            "id": "ob_08",
            "sync": false,
            "value": false
           }
          },
          "systemjs_options": null
         },
         "nodeType": "Scope",
         "props": {},
         "type": "node"
        }
       ],
       "instanceArgs": {
        "namespace": "html",
        "tag": "div"
       },
       "nodeType": "DOM",
       "props": {
        "className": "field interact-widget"
       },
       "type": "node"
      },
      "text/html": [
       "<div\n",
       "    class=\"webio-mountpoint\"\n",
       "    data-webio-mountpoint=\"18348789314243612269\"\n",
       ">\n",
       "    <script>\n",
       "    if (window.require && require.defined && require.defined(\"nbextensions/webio-jupyter-notebook\")) {\n",
       "        console.log(\"Jupyter WebIO extension detected, not mounting.\");\n",
       "    } else if (window.WebIO) {\n",
       "        WebIO.mount(\n",
       "            document.querySelector('[data-webio-mountpoint=\"18348789314243612269\"]'),\n",
       "            {\"props\":{\"className\":\"field interact-widget\"},\"nodeType\":\"DOM\",\"type\":\"node\",\"instanceArgs\":{\"namespace\":\"html\",\"tag\":\"div\"},\"children\":[{\"props\":{},\"nodeType\":\"Scope\",\"type\":\"node\",\"instanceArgs\":{\"imports\":{\"data\":[{\"name\":\"knockout\",\"type\":\"js\",\"url\":\"\\/assetserver\\/3e541dee53151b2c541f58d90425f0a0925f9e0f-knockout.js\"},{\"name\":\"knockout_punches\",\"type\":\"js\",\"url\":\"\\/assetserver\\/a2fe821063f7b9402a4f3a4f892ed8b183d4262e-knockout_punches.js\"},{\"name\":null,\"type\":\"js\",\"url\":\"\\/assetserver\\/dca5dacd6b773cb2d9b372cb162585b4bab6abce-all.js\"},{\"name\":null,\"type\":\"css\",\"url\":\"\\/assetserver\\/a1491573312c28f6fe82fff21946abae6141d461-style.css\"},{\"name\":null,\"type\":\"css\",\"url\":\"\\/assetserver\\/2b70ab798aa8d032d4d4df5efcc489d2c54ad5f7-bulma_confined.min.css\"}],\"type\":\"async_block\"},\"id\":\"12961983071110081750\",\"handlers\":{\"loading\":[\"(function (val){return (val!=this.model[\\\"loading\\\"]()) ? (this.valueFromJulia[\\\"loading\\\"]=true, this.model[\\\"loading\\\"](val)) : undefined})\"],\"clicks\":[\"(function (val){return (val!=this.model[\\\"clicks\\\"]()) ? (this.valueFromJulia[\\\"clicks\\\"]=true, this.model[\\\"clicks\\\"](val)) : undefined})\"]},\"systemjs_options\":null,\"mount_callbacks\":[\"function () {\\n    var handler = (function (ko, koPunches) {\\n    ko.punches.enableAll();\\n    ko.bindingHandlers.numericValue = {\\n        init: function(element, valueAccessor, allBindings, data, context) {\\n            var stringified = ko.observable(ko.unwrap(valueAccessor()));\\n            stringified.subscribe(function(value) {\\n                var val = parseFloat(value);\\n                if (!isNaN(val)) {\\n                    valueAccessor()(val);\\n                }\\n            });\\n            valueAccessor().subscribe(function(value) {\\n                var str = JSON.stringify(value);\\n                if ((str == \\\"0\\\") && ([\\\"-0\\\", \\\"-0.\\\"].indexOf(stringified()) >= 0))\\n                     return;\\n                 if ([\\\"null\\\", \\\"\\\"].indexOf(str) >= 0)\\n                     return;\\n                stringified(str);\\n            });\\n            ko.applyBindingsToNode(\\n                element,\\n                {\\n                    value: stringified,\\n                    valueUpdate: allBindings.get('valueUpdate'),\\n                },\\n                context,\\n            );\\n        }\\n    };\\n    var json_data = {\\\"loading\\\":WebIO.getval({\\\"name\\\":\\\"loading\\\",\\\"scope\\\":\\\"12961983071110081750\\\",\\\"id\\\":\\\"ob_08\\\",\\\"type\\\":\\\"observable\\\"}),\\\"clicks\\\":WebIO.getval({\\\"name\\\":\\\"clicks\\\",\\\"scope\\\":\\\"12961983071110081750\\\",\\\"id\\\":\\\"ob_07\\\",\\\"type\\\":\\\"observable\\\"})};\\n    var self = this;\\n    function AppViewModel() {\\n        for (var key in json_data) {\\n            var el = json_data[key];\\n            this[key] = Array.isArray(el) ? ko.observableArray(el) : ko.observable(el);\\n        }\\n        \\n        \\n        [this[\\\"loading\\\"].subscribe((function (val){!(this.valueFromJulia[\\\"loading\\\"]) ? (WebIO.setval({\\\"name\\\":\\\"loading\\\",\\\"scope\\\":\\\"12961983071110081750\\\",\\\"id\\\":\\\"ob_08\\\",\\\"type\\\":\\\"observable\\\"},val)) : undefined; return this.valueFromJulia[\\\"loading\\\"]=false}),self),this[\\\"clicks\\\"].subscribe((function (val){!(this.valueFromJulia[\\\"clicks\\\"]) ? (WebIO.setval({\\\"name\\\":\\\"clicks\\\",\\\"scope\\\":\\\"12961983071110081750\\\",\\\"id\\\":\\\"ob_07\\\",\\\"type\\\":\\\"observable\\\"},val)) : undefined; return this.valueFromJulia[\\\"clicks\\\"]=false}),self)]\\n        \\n    }\\n    self.model = new AppViewModel();\\n    self.valueFromJulia = {};\\n    for (var key in json_data) {\\n        self.valueFromJulia[key] = false;\\n    }\\n    ko.applyBindings(self.model, self.dom);\\n}\\n);\\n    (WebIO.importBlock({\\\"data\\\":[{\\\"name\\\":\\\"knockout\\\",\\\"type\\\":\\\"js\\\",\\\"url\\\":\\\"\\/assetserver\\/3e541dee53151b2c541f58d90425f0a0925f9e0f-knockout.js\\\"},{\\\"name\\\":\\\"knockout_punches\\\",\\\"type\\\":\\\"js\\\",\\\"url\\\":\\\"\\/assetserver\\/a2fe821063f7b9402a4f3a4f892ed8b183d4262e-knockout_punches.js\\\"}],\\\"type\\\":\\\"async_block\\\"})).then((imports) => handler.apply(this, imports));\\n}\\n\"],\"observables\":{\"loading\":{\"sync\":false,\"id\":\"ob_08\",\"value\":false},\"clicks\":{\"sync\":false,\"id\":\"ob_07\",\"value\":0}}},\"children\":[{\"props\":{\"attributes\":{\"data-bind\":\"click: function (){this.clicks(this.clicks()+1)}, css: {'is-loading' : loading}\"},\"className\":\"is-medium button is-primary\",\"style\":{}},\"nodeType\":\"DOM\",\"type\":\"node\",\"instanceArgs\":{\"namespace\":\"html\",\"tag\":\"button\"},\"children\":[\"Arm 2\"]}]}]},\n",
       "            window,\n",
       "        );\n",
       "    } else {\n",
       "        document\n",
       "            .querySelector('[data-webio-mountpoint=\"18348789314243612269\"]')\n",
       "            .innerHTML = (\n",
       "                '<div style=\"padding: 1em; background-color: #f8d6da; border: 1px solid #f5c6cb\">' +\n",
       "                '<p><strong>WebIO not detected.</strong></p>' +\n",
       "                '<p>Please read ' +\n",
       "                '<a href=\"https://juliagizmos.github.io/WebIO.jl/latest/troubleshooting/not-detected/\" target=\"_blank\">the troubleshooting guide</a> ' +\n",
       "                'for more information on how to resolve this issue.</p>' +\n",
       "                '<p><a href=\"https://juliagizmos.github.io/WebIO.jl/latest/troubleshooting/not-detected/\" target=\"_blank\">https://juliagizmos.github.io/WebIO.jl/latest/troubleshooting/not-detected/</a></p>' +\n",
       "                '</div>'\n",
       "            );\n",
       "    }\n",
       "    </script>\n",
       "</div>\n"
      ],
      "text/plain": [
       "(div { className=\"field interact-widget\" }\n",
       "    (button { attributes=Dict{Any,Any}(\"data-bind\" => \"click: function (){this.clicks(this.clicks()+1)}, css: {'is-loading' : loading}\") className=\"is-medium button is-primary\" style=Dict{String,Any}() }\n",
       "    \"Arm 2\"))"
      ]
     },
     "metadata": {
      "application/vnd.webio.node+json": {
       "kernelId": "dd5017fb-e108-4a46-a015-6527faa074d8"
      }
     },
     "output_type": "display_data"
    },
    {
     "data": {
      "application/vnd.webio.node+json": {
       "children": [
        {
         "children": [],
         "instanceArgs": {
          "namespace": "html",
          "tag": "div"
         },
         "nodeType": "DOM",
         "props": {
          "className": "webio-observable",
          "setInnerHtml": "<pre>\"0 wins out of 0 tries (NaN percent)\"</pre>"
         },
         "type": "node"
        }
       ],
       "instanceArgs": {
        "handlers": {
         "obs-output": [
          "function (value, scope) {\n    scope.setInnerHTML(value);\n}\n"
         ]
        },
        "id": "12123239203342469801",
        "imports": {
         "data": [],
         "type": "async_block"
        },
        "mount_callbacks": [],
        "observables": {
         "obs-output": {
          "id": "ob_12",
          "sync": false,
          "value": "<pre>\"0 wins out of 0 tries (NaN percent)\"</pre>"
         }
        },
        "systemjs_options": null
       },
       "nodeType": "Scope",
       "props": {},
       "type": "node"
      },
      "text/html": [
       "<div\n",
       "    class=\"webio-mountpoint\"\n",
       "    data-webio-mountpoint=\"16212837660193051772\"\n",
       ">\n",
       "    <script>\n",
       "    if (window.require && require.defined && require.defined(\"nbextensions/webio-jupyter-notebook\")) {\n",
       "        console.log(\"Jupyter WebIO extension detected, not mounting.\");\n",
       "    } else if (window.WebIO) {\n",
       "        WebIO.mount(\n",
       "            document.querySelector('[data-webio-mountpoint=\"16212837660193051772\"]'),\n",
       "            {\"props\":{},\"nodeType\":\"Scope\",\"type\":\"node\",\"instanceArgs\":{\"imports\":{\"data\":[],\"type\":\"async_block\"},\"id\":\"18439789553444546227\",\"handlers\":{\"obs-output\":[\"function (value, scope) {\\n    scope.setInnerHTML(value);\\n}\\n\"]},\"systemjs_options\":null,\"mount_callbacks\":[],\"observables\":{\"obs-output\":{\"sync\":false,\"id\":\"ob_11\",\"value\":\"<pre>\\\"0 wins out of 0 tries (NaN percent)\\\"<\\/pre>\"}}},\"children\":[{\"props\":{\"className\":\"webio-observable\",\"setInnerHtml\":\"<pre>\\\"0 wins out of 0 tries (NaN percent)\\\"<\\/pre>\"},\"nodeType\":\"DOM\",\"type\":\"node\",\"instanceArgs\":{\"namespace\":\"html\",\"tag\":\"div\"},\"children\":[]}]},\n",
       "            window,\n",
       "        );\n",
       "    } else {\n",
       "        document\n",
       "            .querySelector('[data-webio-mountpoint=\"16212837660193051772\"]')\n",
       "            .innerHTML = (\n",
       "                '<div style=\"padding: 1em; background-color: #f8d6da; border: 1px solid #f5c6cb\">' +\n",
       "                '<p><strong>WebIO not detected.</strong></p>' +\n",
       "                '<p>Please read ' +\n",
       "                '<a href=\"https://juliagizmos.github.io/WebIO.jl/latest/troubleshooting/not-detected/\" target=\"_blank\">the troubleshooting guide</a> ' +\n",
       "                'for more information on how to resolve this issue.</p>' +\n",
       "                '<p><a href=\"https://juliagizmos.github.io/WebIO.jl/latest/troubleshooting/not-detected/\" target=\"_blank\">https://juliagizmos.github.io/WebIO.jl/latest/troubleshooting/not-detected/</a></p>' +\n",
       "                '</div>'\n",
       "            );\n",
       "    }\n",
       "    </script>\n",
       "</div>\n"
      ],
      "text/plain": [
       "Observable{Any} with 0 listeners. Value:\n",
       "\"0 wins out of 0 tries (NaN percent)\""
      ]
     },
     "metadata": {
      "application/vnd.webio.node+json": {
       "kernelId": "dd5017fb-e108-4a46-a015-6527faa074d8"
      }
     },
     "output_type": "display_data"
    },
    {
     "data": {
      "application/vnd.webio.node+json": {
       "children": [
        {
         "children": [
          {
           "children": [
            "Arm 3"
           ],
           "instanceArgs": {
            "namespace": "html",
            "tag": "button"
           },
           "nodeType": "DOM",
           "props": {
            "attributes": {
             "data-bind": "click: function (){this.clicks(this.clicks()+1)}, css: {'is-loading' : loading}"
            },
            "className": "is-medium button is-primary",
            "style": {}
           },
           "type": "node"
          }
         ],
         "instanceArgs": {
          "handlers": {
           "clicks": [
            "(function (val){return (val!=this.model[\"clicks\"]()) ? (this.valueFromJulia[\"clicks\"]=true, this.model[\"clicks\"](val)) : undefined})"
           ],
           "loading": [
            "(function (val){return (val!=this.model[\"loading\"]()) ? (this.valueFromJulia[\"loading\"]=true, this.model[\"loading\"](val)) : undefined})"
           ]
          },
          "id": "1478223161816077150",
          "imports": {
           "data": [
            {
             "name": "knockout",
             "type": "js",
             "url": "/assetserver/3e541dee53151b2c541f58d90425f0a0925f9e0f-knockout.js"
            },
            {
             "name": "knockout_punches",
             "type": "js",
             "url": "/assetserver/a2fe821063f7b9402a4f3a4f892ed8b183d4262e-knockout_punches.js"
            },
            {
             "name": null,
             "type": "js",
             "url": "/assetserver/dca5dacd6b773cb2d9b372cb162585b4bab6abce-all.js"
            },
            {
             "name": null,
             "type": "css",
             "url": "/assetserver/a1491573312c28f6fe82fff21946abae6141d461-style.css"
            },
            {
             "name": null,
             "type": "css",
             "url": "/assetserver/2b70ab798aa8d032d4d4df5efcc489d2c54ad5f7-bulma_confined.min.css"
            }
           ],
           "type": "async_block"
          },
          "mount_callbacks": [
           "function () {\n    var handler = (function (ko, koPunches) {\n    ko.punches.enableAll();\n    ko.bindingHandlers.numericValue = {\n        init: function(element, valueAccessor, allBindings, data, context) {\n            var stringified = ko.observable(ko.unwrap(valueAccessor()));\n            stringified.subscribe(function(value) {\n                var val = parseFloat(value);\n                if (!isNaN(val)) {\n                    valueAccessor()(val);\n                }\n            });\n            valueAccessor().subscribe(function(value) {\n                var str = JSON.stringify(value);\n                if ((str == \"0\") && ([\"-0\", \"-0.\"].indexOf(stringified()) >= 0))\n                     return;\n                 if ([\"null\", \"\"].indexOf(str) >= 0)\n                     return;\n                stringified(str);\n            });\n            ko.applyBindingsToNode(\n                element,\n                {\n                    value: stringified,\n                    valueUpdate: allBindings.get('valueUpdate'),\n                },\n                context,\n            );\n        }\n    };\n    var json_data = {\"loading\":WebIO.getval({\"name\":\"loading\",\"scope\":\"1478223161816077150\",\"id\":\"ob_14\",\"type\":\"observable\"}),\"clicks\":WebIO.getval({\"name\":\"clicks\",\"scope\":\"1478223161816077150\",\"id\":\"ob_13\",\"type\":\"observable\"})};\n    var self = this;\n    function AppViewModel() {\n        for (var key in json_data) {\n            var el = json_data[key];\n            this[key] = Array.isArray(el) ? ko.observableArray(el) : ko.observable(el);\n        }\n        \n        \n        [this[\"loading\"].subscribe((function (val){!(this.valueFromJulia[\"loading\"]) ? (WebIO.setval({\"name\":\"loading\",\"scope\":\"1478223161816077150\",\"id\":\"ob_14\",\"type\":\"observable\"},val)) : undefined; return this.valueFromJulia[\"loading\"]=false}),self),this[\"clicks\"].subscribe((function (val){!(this.valueFromJulia[\"clicks\"]) ? (WebIO.setval({\"name\":\"clicks\",\"scope\":\"1478223161816077150\",\"id\":\"ob_13\",\"type\":\"observable\"},val)) : undefined; return this.valueFromJulia[\"clicks\"]=false}),self)]\n        \n    }\n    self.model = new AppViewModel();\n    self.valueFromJulia = {};\n    for (var key in json_data) {\n        self.valueFromJulia[key] = false;\n    }\n    ko.applyBindings(self.model, self.dom);\n}\n);\n    (WebIO.importBlock({\"data\":[{\"name\":\"knockout\",\"type\":\"js\",\"url\":\"/assetserver/3e541dee53151b2c541f58d90425f0a0925f9e0f-knockout.js\"},{\"name\":\"knockout_punches\",\"type\":\"js\",\"url\":\"/assetserver/a2fe821063f7b9402a4f3a4f892ed8b183d4262e-knockout_punches.js\"}],\"type\":\"async_block\"})).then((imports) => handler.apply(this, imports));\n}\n"
          ],
          "observables": {
           "clicks": {
            "id": "ob_13",
            "sync": false,
            "value": 0
           },
           "loading": {
            "id": "ob_14",
            "sync": false,
            "value": false
           }
          },
          "systemjs_options": null
         },
         "nodeType": "Scope",
         "props": {},
         "type": "node"
        }
       ],
       "instanceArgs": {
        "namespace": "html",
        "tag": "div"
       },
       "nodeType": "DOM",
       "props": {
        "className": "field interact-widget"
       },
       "type": "node"
      },
      "text/html": [
       "<div\n",
       "    class=\"webio-mountpoint\"\n",
       "    data-webio-mountpoint=\"14797483712078726625\"\n",
       ">\n",
       "    <script>\n",
       "    if (window.require && require.defined && require.defined(\"nbextensions/webio-jupyter-notebook\")) {\n",
       "        console.log(\"Jupyter WebIO extension detected, not mounting.\");\n",
       "    } else if (window.WebIO) {\n",
       "        WebIO.mount(\n",
       "            document.querySelector('[data-webio-mountpoint=\"14797483712078726625\"]'),\n",
       "            {\"props\":{\"className\":\"field interact-widget\"},\"nodeType\":\"DOM\",\"type\":\"node\",\"instanceArgs\":{\"namespace\":\"html\",\"tag\":\"div\"},\"children\":[{\"props\":{},\"nodeType\":\"Scope\",\"type\":\"node\",\"instanceArgs\":{\"imports\":{\"data\":[{\"name\":\"knockout\",\"type\":\"js\",\"url\":\"\\/assetserver\\/3e541dee53151b2c541f58d90425f0a0925f9e0f-knockout.js\"},{\"name\":\"knockout_punches\",\"type\":\"js\",\"url\":\"\\/assetserver\\/a2fe821063f7b9402a4f3a4f892ed8b183d4262e-knockout_punches.js\"},{\"name\":null,\"type\":\"js\",\"url\":\"\\/assetserver\\/dca5dacd6b773cb2d9b372cb162585b4bab6abce-all.js\"},{\"name\":null,\"type\":\"css\",\"url\":\"\\/assetserver\\/a1491573312c28f6fe82fff21946abae6141d461-style.css\"},{\"name\":null,\"type\":\"css\",\"url\":\"\\/assetserver\\/2b70ab798aa8d032d4d4df5efcc489d2c54ad5f7-bulma_confined.min.css\"}],\"type\":\"async_block\"},\"id\":\"1478223161816077150\",\"handlers\":{\"loading\":[\"(function (val){return (val!=this.model[\\\"loading\\\"]()) ? (this.valueFromJulia[\\\"loading\\\"]=true, this.model[\\\"loading\\\"](val)) : undefined})\"],\"clicks\":[\"(function (val){return (val!=this.model[\\\"clicks\\\"]()) ? (this.valueFromJulia[\\\"clicks\\\"]=true, this.model[\\\"clicks\\\"](val)) : undefined})\"]},\"systemjs_options\":null,\"mount_callbacks\":[\"function () {\\n    var handler = (function (ko, koPunches) {\\n    ko.punches.enableAll();\\n    ko.bindingHandlers.numericValue = {\\n        init: function(element, valueAccessor, allBindings, data, context) {\\n            var stringified = ko.observable(ko.unwrap(valueAccessor()));\\n            stringified.subscribe(function(value) {\\n                var val = parseFloat(value);\\n                if (!isNaN(val)) {\\n                    valueAccessor()(val);\\n                }\\n            });\\n            valueAccessor().subscribe(function(value) {\\n                var str = JSON.stringify(value);\\n                if ((str == \\\"0\\\") && ([\\\"-0\\\", \\\"-0.\\\"].indexOf(stringified()) >= 0))\\n                     return;\\n                 if ([\\\"null\\\", \\\"\\\"].indexOf(str) >= 0)\\n                     return;\\n                stringified(str);\\n            });\\n            ko.applyBindingsToNode(\\n                element,\\n                {\\n                    value: stringified,\\n                    valueUpdate: allBindings.get('valueUpdate'),\\n                },\\n                context,\\n            );\\n        }\\n    };\\n    var json_data = {\\\"loading\\\":WebIO.getval({\\\"name\\\":\\\"loading\\\",\\\"scope\\\":\\\"1478223161816077150\\\",\\\"id\\\":\\\"ob_14\\\",\\\"type\\\":\\\"observable\\\"}),\\\"clicks\\\":WebIO.getval({\\\"name\\\":\\\"clicks\\\",\\\"scope\\\":\\\"1478223161816077150\\\",\\\"id\\\":\\\"ob_13\\\",\\\"type\\\":\\\"observable\\\"})};\\n    var self = this;\\n    function AppViewModel() {\\n        for (var key in json_data) {\\n            var el = json_data[key];\\n            this[key] = Array.isArray(el) ? ko.observableArray(el) : ko.observable(el);\\n        }\\n        \\n        \\n        [this[\\\"loading\\\"].subscribe((function (val){!(this.valueFromJulia[\\\"loading\\\"]) ? (WebIO.setval({\\\"name\\\":\\\"loading\\\",\\\"scope\\\":\\\"1478223161816077150\\\",\\\"id\\\":\\\"ob_14\\\",\\\"type\\\":\\\"observable\\\"},val)) : undefined; return this.valueFromJulia[\\\"loading\\\"]=false}),self),this[\\\"clicks\\\"].subscribe((function (val){!(this.valueFromJulia[\\\"clicks\\\"]) ? (WebIO.setval({\\\"name\\\":\\\"clicks\\\",\\\"scope\\\":\\\"1478223161816077150\\\",\\\"id\\\":\\\"ob_13\\\",\\\"type\\\":\\\"observable\\\"},val)) : undefined; return this.valueFromJulia[\\\"clicks\\\"]=false}),self)]\\n        \\n    }\\n    self.model = new AppViewModel();\\n    self.valueFromJulia = {};\\n    for (var key in json_data) {\\n        self.valueFromJulia[key] = false;\\n    }\\n    ko.applyBindings(self.model, self.dom);\\n}\\n);\\n    (WebIO.importBlock({\\\"data\\\":[{\\\"name\\\":\\\"knockout\\\",\\\"type\\\":\\\"js\\\",\\\"url\\\":\\\"\\/assetserver\\/3e541dee53151b2c541f58d90425f0a0925f9e0f-knockout.js\\\"},{\\\"name\\\":\\\"knockout_punches\\\",\\\"type\\\":\\\"js\\\",\\\"url\\\":\\\"\\/assetserver\\/a2fe821063f7b9402a4f3a4f892ed8b183d4262e-knockout_punches.js\\\"}],\\\"type\\\":\\\"async_block\\\"})).then((imports) => handler.apply(this, imports));\\n}\\n\"],\"observables\":{\"loading\":{\"sync\":false,\"id\":\"ob_14\",\"value\":false},\"clicks\":{\"sync\":false,\"id\":\"ob_13\",\"value\":0}}},\"children\":[{\"props\":{\"attributes\":{\"data-bind\":\"click: function (){this.clicks(this.clicks()+1)}, css: {'is-loading' : loading}\"},\"className\":\"is-medium button is-primary\",\"style\":{}},\"nodeType\":\"DOM\",\"type\":\"node\",\"instanceArgs\":{\"namespace\":\"html\",\"tag\":\"button\"},\"children\":[\"Arm 3\"]}]}]},\n",
       "            window,\n",
       "        );\n",
       "    } else {\n",
       "        document\n",
       "            .querySelector('[data-webio-mountpoint=\"14797483712078726625\"]')\n",
       "            .innerHTML = (\n",
       "                '<div style=\"padding: 1em; background-color: #f8d6da; border: 1px solid #f5c6cb\">' +\n",
       "                '<p><strong>WebIO not detected.</strong></p>' +\n",
       "                '<p>Please read ' +\n",
       "                '<a href=\"https://juliagizmos.github.io/WebIO.jl/latest/troubleshooting/not-detected/\" target=\"_blank\">the troubleshooting guide</a> ' +\n",
       "                'for more information on how to resolve this issue.</p>' +\n",
       "                '<p><a href=\"https://juliagizmos.github.io/WebIO.jl/latest/troubleshooting/not-detected/\" target=\"_blank\">https://juliagizmos.github.io/WebIO.jl/latest/troubleshooting/not-detected/</a></p>' +\n",
       "                '</div>'\n",
       "            );\n",
       "    }\n",
       "    </script>\n",
       "</div>\n"
      ],
      "text/plain": [
       "(div { className=\"field interact-widget\" }\n",
       "    (button { attributes=Dict{Any,Any}(\"data-bind\" => \"click: function (){this.clicks(this.clicks()+1)}, css: {'is-loading' : loading}\") className=\"is-medium button is-primary\" style=Dict{String,Any}() }\n",
       "    \"Arm 3\"))"
      ]
     },
     "metadata": {
      "application/vnd.webio.node+json": {
       "kernelId": "dd5017fb-e108-4a46-a015-6527faa074d8"
      }
     },
     "output_type": "display_data"
    },
    {
     "data": {
      "application/vnd.webio.node+json": {
       "children": [
        {
         "children": [],
         "instanceArgs": {
          "namespace": "html",
          "tag": "div"
         },
         "nodeType": "DOM",
         "props": {
          "className": "webio-observable",
          "setInnerHtml": "<pre>\"0 wins out of 0 tries (NaN percent)\"</pre>"
         },
         "type": "node"
        }
       ],
       "instanceArgs": {
        "handlers": {
         "obs-output": [
          "function (value, scope) {\n    scope.setInnerHTML(value);\n}\n"
         ]
        },
        "id": "4845972709549250287",
        "imports": {
         "data": [],
         "type": "async_block"
        },
        "mount_callbacks": [],
        "observables": {
         "obs-output": {
          "id": "ob_18",
          "sync": false,
          "value": "<pre>\"0 wins out of 0 tries (NaN percent)\"</pre>"
         }
        },
        "systemjs_options": null
       },
       "nodeType": "Scope",
       "props": {},
       "type": "node"
      },
      "text/html": [
       "<div\n",
       "    class=\"webio-mountpoint\"\n",
       "    data-webio-mountpoint=\"10757378665977739401\"\n",
       ">\n",
       "    <script>\n",
       "    if (window.require && require.defined && require.defined(\"nbextensions/webio-jupyter-notebook\")) {\n",
       "        console.log(\"Jupyter WebIO extension detected, not mounting.\");\n",
       "    } else if (window.WebIO) {\n",
       "        WebIO.mount(\n",
       "            document.querySelector('[data-webio-mountpoint=\"10757378665977739401\"]'),\n",
       "            {\"props\":{},\"nodeType\":\"Scope\",\"type\":\"node\",\"instanceArgs\":{\"imports\":{\"data\":[],\"type\":\"async_block\"},\"id\":\"16685539009859171173\",\"handlers\":{\"obs-output\":[\"function (value, scope) {\\n    scope.setInnerHTML(value);\\n}\\n\"]},\"systemjs_options\":null,\"mount_callbacks\":[],\"observables\":{\"obs-output\":{\"sync\":false,\"id\":\"ob_17\",\"value\":\"<pre>\\\"0 wins out of 0 tries (NaN percent)\\\"<\\/pre>\"}}},\"children\":[{\"props\":{\"className\":\"webio-observable\",\"setInnerHtml\":\"<pre>\\\"0 wins out of 0 tries (NaN percent)\\\"<\\/pre>\"},\"nodeType\":\"DOM\",\"type\":\"node\",\"instanceArgs\":{\"namespace\":\"html\",\"tag\":\"div\"},\"children\":[]}]},\n",
       "            window,\n",
       "        );\n",
       "    } else {\n",
       "        document\n",
       "            .querySelector('[data-webio-mountpoint=\"10757378665977739401\"]')\n",
       "            .innerHTML = (\n",
       "                '<div style=\"padding: 1em; background-color: #f8d6da; border: 1px solid #f5c6cb\">' +\n",
       "                '<p><strong>WebIO not detected.</strong></p>' +\n",
       "                '<p>Please read ' +\n",
       "                '<a href=\"https://juliagizmos.github.io/WebIO.jl/latest/troubleshooting/not-detected/\" target=\"_blank\">the troubleshooting guide</a> ' +\n",
       "                'for more information on how to resolve this issue.</p>' +\n",
       "                '<p><a href=\"https://juliagizmos.github.io/WebIO.jl/latest/troubleshooting/not-detected/\" target=\"_blank\">https://juliagizmos.github.io/WebIO.jl/latest/troubleshooting/not-detected/</a></p>' +\n",
       "                '</div>'\n",
       "            );\n",
       "    }\n",
       "    </script>\n",
       "</div>\n"
      ],
      "text/plain": [
       "Observable{Any} with 0 listeners. Value:\n",
       "\"0 wins out of 0 tries (NaN percent)\""
      ]
     },
     "metadata": {
      "application/vnd.webio.node+json": {
       "kernelId": "dd5017fb-e108-4a46-a015-6527faa074d8"
      }
     },
     "output_type": "display_data"
    },
    {
     "data": {
      "application/vnd.webio.node+json": {
       "children": [
        {
         "children": [
          {
           "children": [
            {
             "children": [
              {
               "children": [
                "True Params"
               ],
               "instanceArgs": {
                "namespace": "html",
                "tag": "label"
               },
               "nodeType": "DOM",
               "props": {
                "className": "interact ",
                "style": {
                 "padding": "5px 10px 0px 10px"
                }
               },
               "type": "node"
              }
             ],
             "instanceArgs": {
              "namespace": "html",
              "tag": "div"
             },
             "nodeType": "DOM",
             "props": {
              "className": "interact-flex-row-left"
             },
             "type": "node"
            },
            {
             "children": [
              {
               "children": [
                {
                 "children": [
                  {
                   "children": [],
                   "instanceArgs": {
                    "namespace": "html",
                    "tag": "label"
                   },
                   "nodeType": "DOM",
                   "props": {
                    "attributes": {
                     "data-bind": "text : key"
                    }
                   },
                   "type": "node"
                  }
                 ],
                 "instanceArgs": {
                  "namespace": "html",
                  "tag": "span"
                 },
                 "nodeType": "DOM",
                 "props": {
                  "attributes": {
                   "data-bind": "click: function (){$root.update(val)}, css: {'is-primary is-selected' : $root.index() == val, 'interact-widget is-medium button ' : true}"
                  }
                 },
                 "type": "node"
                }
               ],
               "instanceArgs": {
                "namespace": "html",
                "tag": "div"
               },
               "nodeType": "DOM",
               "props": {
                "attributes": {
                 "data-bind": "foreach : options_js"
                },
                "className": "buttons has-addons is-centered"
               },
               "type": "node"
              }
             ],
             "instanceArgs": {
              "namespace": "html",
              "tag": "div"
             },
             "nodeType": "DOM",
             "props": {
              "className": "interact-flex-row-center"
             },
             "type": "node"
            },
            {
             "children": [
              {
               "children": [],
               "instanceArgs": {
                "namespace": "html",
                "tag": "div"
               },
               "nodeType": "DOM",
               "props": {},
               "type": "node"
              }
             ],
             "instanceArgs": {
              "namespace": "html",
              "tag": "div"
             },
             "nodeType": "DOM",
             "props": {
              "className": "interact-flex-row-right"
             },
             "type": "node"
            }
           ],
           "instanceArgs": {
            "namespace": "html",
            "tag": "div"
           },
           "nodeType": "DOM",
           "props": {
            "className": "interact-flex-row interact-widget"
           },
           "type": "node"
          }
         ],
         "instanceArgs": {
          "handlers": {
           "index": [
            "(function (val){return (val!=this.model[\"index\"]()) ? (this.valueFromJulia[\"index\"]=true, this.model[\"index\"](val)) : undefined})"
           ],
           "options_js": [
            "(function (val){return (val!=this.model[\"options_js\"]()) ? (this.valueFromJulia[\"options_js\"]=true, this.model[\"options_js\"](val)) : undefined})"
           ]
          },
          "id": "17713323575591255298",
          "imports": {
           "data": [
            {
             "name": "knockout",
             "type": "js",
             "url": "/assetserver/3e541dee53151b2c541f58d90425f0a0925f9e0f-knockout.js"
            },
            {
             "name": "knockout_punches",
             "type": "js",
             "url": "/assetserver/a2fe821063f7b9402a4f3a4f892ed8b183d4262e-knockout_punches.js"
            },
            {
             "name": null,
             "type": "js",
             "url": "/assetserver/dca5dacd6b773cb2d9b372cb162585b4bab6abce-all.js"
            },
            {
             "name": null,
             "type": "css",
             "url": "/assetserver/a1491573312c28f6fe82fff21946abae6141d461-style.css"
            },
            {
             "name": null,
             "type": "css",
             "url": "/assetserver/2b70ab798aa8d032d4d4df5efcc489d2c54ad5f7-bulma_confined.min.css"
            }
           ],
           "type": "async_block"
          },
          "mount_callbacks": [
           "function () {\n    var handler = (function (ko, koPunches) {\n    ko.punches.enableAll();\n    ko.bindingHandlers.numericValue = {\n        init: function(element, valueAccessor, allBindings, data, context) {\n            var stringified = ko.observable(ko.unwrap(valueAccessor()));\n            stringified.subscribe(function(value) {\n                var val = parseFloat(value);\n                if (!isNaN(val)) {\n                    valueAccessor()(val);\n                }\n            });\n            valueAccessor().subscribe(function(value) {\n                var str = JSON.stringify(value);\n                if ((str == \"0\") && ([\"-0\", \"-0.\"].indexOf(stringified()) >= 0))\n                     return;\n                 if ([\"null\", \"\"].indexOf(str) >= 0)\n                     return;\n                stringified(str);\n            });\n            ko.applyBindingsToNode(\n                element,\n                {\n                    value: stringified,\n                    valueUpdate: allBindings.get('valueUpdate'),\n                },\n                context,\n            );\n        }\n    };\n    var json_data = {\"options_js\":WebIO.getval({\"name\":\"options_js\",\"scope\":\"17713323575591255298\",\"id\":\"ob_23\",\"type\":\"observable\"}),\"index\":WebIO.getval({\"name\":\"index\",\"scope\":\"17713323575591255298\",\"id\":\"ob_22\",\"type\":\"observable\"})};\n    var self = this;\n    function AppViewModel() {\n        for (var key in json_data) {\n            var el = json_data[key];\n            this[key] = Array.isArray(el) ? ko.observableArray(el) : ko.observable(el);\n        }\n        [this[\"update\"]=function (val) {this.index(val)}]\n        \n        [this[\"options_js\"].subscribe((function (val){!(this.valueFromJulia[\"options_js\"]) ? (WebIO.setval({\"name\":\"options_js\",\"scope\":\"17713323575591255298\",\"id\":\"ob_23\",\"type\":\"observable\"},val)) : undefined; return this.valueFromJulia[\"options_js\"]=false}),self),this[\"index\"].subscribe((function (val){!(this.valueFromJulia[\"index\"]) ? (WebIO.setval({\"name\":\"index\",\"scope\":\"17713323575591255298\",\"id\":\"ob_22\",\"type\":\"observable\"},val)) : undefined; return this.valueFromJulia[\"index\"]=false}),self)]\n        \n    }\n    self.model = new AppViewModel();\n    self.valueFromJulia = {};\n    for (var key in json_data) {\n        self.valueFromJulia[key] = false;\n    }\n    ko.applyBindings(self.model, self.dom);\n}\n);\n    (WebIO.importBlock({\"data\":[{\"name\":\"knockout\",\"type\":\"js\",\"url\":\"/assetserver/3e541dee53151b2c541f58d90425f0a0925f9e0f-knockout.js\"},{\"name\":\"knockout_punches\",\"type\":\"js\",\"url\":\"/assetserver/a2fe821063f7b9402a4f3a4f892ed8b183d4262e-knockout_punches.js\"}],\"type\":\"async_block\"})).then((imports) => handler.apply(this, imports));\n}\n"
          ],
          "observables": {
           "index": {
            "id": "ob_22",
            "sync": true,
            "value": 1
           },
           "options_js": {
            "id": "ob_23",
            "sync": false,
            "value": [
             {
              "id": "idaksCemfM",
              "key": "Hide",
              "val": 1
             },
             {
              "id": "idEZu7H6gB",
              "key": "Show",
              "val": 2
             }
            ]
           }
          },
          "systemjs_options": null
         },
         "nodeType": "Scope",
         "props": {},
         "type": "node"
        }
       ],
       "instanceArgs": {
        "namespace": "html",
        "tag": "div"
       },
       "nodeType": "DOM",
       "props": {
        "className": "interact-widget"
       },
       "type": "node"
      },
      "text/html": [
       "<div\n",
       "    class=\"webio-mountpoint\"\n",
       "    data-webio-mountpoint=\"1196887905311696553\"\n",
       ">\n",
       "    <script>\n",
       "    if (window.require && require.defined && require.defined(\"nbextensions/webio-jupyter-notebook\")) {\n",
       "        console.log(\"Jupyter WebIO extension detected, not mounting.\");\n",
       "    } else if (window.WebIO) {\n",
       "        WebIO.mount(\n",
       "            document.querySelector('[data-webio-mountpoint=\"1196887905311696553\"]'),\n",
       "            {\"props\":{\"className\":\"interact-widget\"},\"nodeType\":\"DOM\",\"type\":\"node\",\"instanceArgs\":{\"namespace\":\"html\",\"tag\":\"div\"},\"children\":[{\"props\":{},\"nodeType\":\"Scope\",\"type\":\"node\",\"instanceArgs\":{\"imports\":{\"data\":[{\"name\":\"knockout\",\"type\":\"js\",\"url\":\"\\/assetserver\\/3e541dee53151b2c541f58d90425f0a0925f9e0f-knockout.js\"},{\"name\":\"knockout_punches\",\"type\":\"js\",\"url\":\"\\/assetserver\\/a2fe821063f7b9402a4f3a4f892ed8b183d4262e-knockout_punches.js\"},{\"name\":null,\"type\":\"js\",\"url\":\"\\/assetserver\\/dca5dacd6b773cb2d9b372cb162585b4bab6abce-all.js\"},{\"name\":null,\"type\":\"css\",\"url\":\"\\/assetserver\\/a1491573312c28f6fe82fff21946abae6141d461-style.css\"},{\"name\":null,\"type\":\"css\",\"url\":\"\\/assetserver\\/2b70ab798aa8d032d4d4df5efcc489d2c54ad5f7-bulma_confined.min.css\"}],\"type\":\"async_block\"},\"id\":\"17713323575591255298\",\"handlers\":{\"options_js\":[\"(function (val){return (val!=this.model[\\\"options_js\\\"]()) ? (this.valueFromJulia[\\\"options_js\\\"]=true, this.model[\\\"options_js\\\"](val)) : undefined})\"],\"index\":[\"(function (val){return (val!=this.model[\\\"index\\\"]()) ? (this.valueFromJulia[\\\"index\\\"]=true, this.model[\\\"index\\\"](val)) : undefined})\"]},\"systemjs_options\":null,\"mount_callbacks\":[\"function () {\\n    var handler = (function (ko, koPunches) {\\n    ko.punches.enableAll();\\n    ko.bindingHandlers.numericValue = {\\n        init: function(element, valueAccessor, allBindings, data, context) {\\n            var stringified = ko.observable(ko.unwrap(valueAccessor()));\\n            stringified.subscribe(function(value) {\\n                var val = parseFloat(value);\\n                if (!isNaN(val)) {\\n                    valueAccessor()(val);\\n                }\\n            });\\n            valueAccessor().subscribe(function(value) {\\n                var str = JSON.stringify(value);\\n                if ((str == \\\"0\\\") && ([\\\"-0\\\", \\\"-0.\\\"].indexOf(stringified()) >= 0))\\n                     return;\\n                 if ([\\\"null\\\", \\\"\\\"].indexOf(str) >= 0)\\n                     return;\\n                stringified(str);\\n            });\\n            ko.applyBindingsToNode(\\n                element,\\n                {\\n                    value: stringified,\\n                    valueUpdate: allBindings.get('valueUpdate'),\\n                },\\n                context,\\n            );\\n        }\\n    };\\n    var json_data = {\\\"options_js\\\":WebIO.getval({\\\"name\\\":\\\"options_js\\\",\\\"scope\\\":\\\"17713323575591255298\\\",\\\"id\\\":\\\"ob_23\\\",\\\"type\\\":\\\"observable\\\"}),\\\"index\\\":WebIO.getval({\\\"name\\\":\\\"index\\\",\\\"scope\\\":\\\"17713323575591255298\\\",\\\"id\\\":\\\"ob_22\\\",\\\"type\\\":\\\"observable\\\"})};\\n    var self = this;\\n    function AppViewModel() {\\n        for (var key in json_data) {\\n            var el = json_data[key];\\n            this[key] = Array.isArray(el) ? ko.observableArray(el) : ko.observable(el);\\n        }\\n        [this[\\\"update\\\"]=function (val) {this.index(val)}]\\n        \\n        [this[\\\"options_js\\\"].subscribe((function (val){!(this.valueFromJulia[\\\"options_js\\\"]) ? (WebIO.setval({\\\"name\\\":\\\"options_js\\\",\\\"scope\\\":\\\"17713323575591255298\\\",\\\"id\\\":\\\"ob_23\\\",\\\"type\\\":\\\"observable\\\"},val)) : undefined; return this.valueFromJulia[\\\"options_js\\\"]=false}),self),this[\\\"index\\\"].subscribe((function (val){!(this.valueFromJulia[\\\"index\\\"]) ? (WebIO.setval({\\\"name\\\":\\\"index\\\",\\\"scope\\\":\\\"17713323575591255298\\\",\\\"id\\\":\\\"ob_22\\\",\\\"type\\\":\\\"observable\\\"},val)) : undefined; return this.valueFromJulia[\\\"index\\\"]=false}),self)]\\n        \\n    }\\n    self.model = new AppViewModel();\\n    self.valueFromJulia = {};\\n    for (var key in json_data) {\\n        self.valueFromJulia[key] = false;\\n    }\\n    ko.applyBindings(self.model, self.dom);\\n}\\n);\\n    (WebIO.importBlock({\\\"data\\\":[{\\\"name\\\":\\\"knockout\\\",\\\"type\\\":\\\"js\\\",\\\"url\\\":\\\"\\/assetserver\\/3e541dee53151b2c541f58d90425f0a0925f9e0f-knockout.js\\\"},{\\\"name\\\":\\\"knockout_punches\\\",\\\"type\\\":\\\"js\\\",\\\"url\\\":\\\"\\/assetserver\\/a2fe821063f7b9402a4f3a4f892ed8b183d4262e-knockout_punches.js\\\"}],\\\"type\\\":\\\"async_block\\\"})).then((imports) => handler.apply(this, imports));\\n}\\n\"],\"observables\":{\"options_js\":{\"sync\":false,\"id\":\"ob_23\",\"value\":[{\"key\":\"Hide\",\"val\":1,\"id\":\"idaksCemfM\"},{\"key\":\"Show\",\"val\":2,\"id\":\"idEZu7H6gB\"}]},\"index\":{\"sync\":true,\"id\":\"ob_22\",\"value\":1}}},\"children\":[{\"props\":{\"className\":\"interact-flex-row interact-widget\"},\"nodeType\":\"DOM\",\"type\":\"node\",\"instanceArgs\":{\"namespace\":\"html\",\"tag\":\"div\"},\"children\":[{\"props\":{\"className\":\"interact-flex-row-left\"},\"nodeType\":\"DOM\",\"type\":\"node\",\"instanceArgs\":{\"namespace\":\"html\",\"tag\":\"div\"},\"children\":[{\"props\":{\"className\":\"interact \",\"style\":{\"padding\":\"5px 10px 0px 10px\"}},\"nodeType\":\"DOM\",\"type\":\"node\",\"instanceArgs\":{\"namespace\":\"html\",\"tag\":\"label\"},\"children\":[\"True Params\"]}]},{\"props\":{\"className\":\"interact-flex-row-center\"},\"nodeType\":\"DOM\",\"type\":\"node\",\"instanceArgs\":{\"namespace\":\"html\",\"tag\":\"div\"},\"children\":[{\"props\":{\"attributes\":{\"data-bind\":\"foreach : options_js\"},\"className\":\"buttons has-addons is-centered\"},\"nodeType\":\"DOM\",\"type\":\"node\",\"instanceArgs\":{\"namespace\":\"html\",\"tag\":\"div\"},\"children\":[{\"props\":{\"attributes\":{\"data-bind\":\"click: function (){$root.update(val)}, css: {'is-primary is-selected' : $root.index() == val, 'interact-widget is-medium button ' : true}\"}},\"nodeType\":\"DOM\",\"type\":\"node\",\"instanceArgs\":{\"namespace\":\"html\",\"tag\":\"span\"},\"children\":[{\"props\":{\"attributes\":{\"data-bind\":\"text : key\"}},\"nodeType\":\"DOM\",\"type\":\"node\",\"instanceArgs\":{\"namespace\":\"html\",\"tag\":\"label\"},\"children\":[]}]}]}]},{\"props\":{\"className\":\"interact-flex-row-right\"},\"nodeType\":\"DOM\",\"type\":\"node\",\"instanceArgs\":{\"namespace\":\"html\",\"tag\":\"div\"},\"children\":[{\"props\":{},\"nodeType\":\"DOM\",\"type\":\"node\",\"instanceArgs\":{\"namespace\":\"html\",\"tag\":\"div\"},\"children\":[]}]}]}]}]},\n",
       "            window,\n",
       "        );\n",
       "    } else {\n",
       "        document\n",
       "            .querySelector('[data-webio-mountpoint=\"1196887905311696553\"]')\n",
       "            .innerHTML = (\n",
       "                '<div style=\"padding: 1em; background-color: #f8d6da; border: 1px solid #f5c6cb\">' +\n",
       "                '<p><strong>WebIO not detected.</strong></p>' +\n",
       "                '<p>Please read ' +\n",
       "                '<a href=\"https://juliagizmos.github.io/WebIO.jl/latest/troubleshooting/not-detected/\" target=\"_blank\">the troubleshooting guide</a> ' +\n",
       "                'for more information on how to resolve this issue.</p>' +\n",
       "                '<p><a href=\"https://juliagizmos.github.io/WebIO.jl/latest/troubleshooting/not-detected/\" target=\"_blank\">https://juliagizmos.github.io/WebIO.jl/latest/troubleshooting/not-detected/</a></p>' +\n",
       "                '</div>'\n",
       "            );\n",
       "    }\n",
       "    </script>\n",
       "</div>\n"
      ],
      "text/plain": [
       "(div { className=\"interact-widget\" }\n",
       "    (div { className=\"interact-flex-row interact-widget\" }\n",
       "    (div { className=\"interact-flex-row-left\" }\n",
       "      (label { className=\"interact \" style=Dict{Any,Any}(:padding => \"5px 10px 0px 10px\") }\n",
       "        \"True Params\"))\n",
       "    (div { className=\"interact-flex-row-center\" }\n",
       "      (div { attributes=\"data-bind\" => \"foreach : options_js\" className=\"buttons has-addons is-centered\" }\n",
       "        (span { attributes=Dict(\"data-bind\" => \"click: function (){\\$root.update(val)}, css: {'is-primary is-selected' : \\$root.index() == val, 'interact-widget is-medium button ' : true}\") }\n",
       "          (label { attributes=Dict(\"data-bind\" => \"text : key\") }))))\n",
       "    (div { className=\"interact-flex-row-right\" }\n",
       "      (div))))"
      ]
     },
     "metadata": {
      "application/vnd.webio.node+json": {
       "kernelId": "dd5017fb-e108-4a46-a015-6527faa074d8"
      }
     },
     "output_type": "display_data"
    },
    {
     "data": {
      "application/vnd.webio.node+json": {
       "children": [
        {
         "children": [],
         "instanceArgs": {
          "namespace": "html",
          "tag": "div"
         },
         "nodeType": "DOM",
         "props": {
          "className": "webio-observable",
          "setInnerHtml": "<pre>\"\"</pre>"
         },
         "type": "node"
        }
       ],
       "instanceArgs": {
        "handlers": {
         "obs-output": [
          "function (value, scope) {\n    scope.setInnerHTML(value);\n}\n"
         ]
        },
        "id": "4183010984292855558",
        "imports": {
         "data": [],
         "type": "async_block"
        },
        "mount_callbacks": [],
        "observables": {
         "obs-output": {
          "id": "ob_26",
          "sync": false,
          "value": "<pre>\"\"</pre>"
         }
        },
        "systemjs_options": null
       },
       "nodeType": "Scope",
       "props": {},
       "type": "node"
      },
      "text/html": [
       "<div\n",
       "    class=\"webio-mountpoint\"\n",
       "    data-webio-mountpoint=\"2804023840753123832\"\n",
       ">\n",
       "    <script>\n",
       "    if (window.require && require.defined && require.defined(\"nbextensions/webio-jupyter-notebook\")) {\n",
       "        console.log(\"Jupyter WebIO extension detected, not mounting.\");\n",
       "    } else if (window.WebIO) {\n",
       "        WebIO.mount(\n",
       "            document.querySelector('[data-webio-mountpoint=\"2804023840753123832\"]'),\n",
       "            {\"props\":{},\"nodeType\":\"Scope\",\"type\":\"node\",\"instanceArgs\":{\"imports\":{\"data\":[],\"type\":\"async_block\"},\"id\":\"9349279876929885948\",\"handlers\":{\"obs-output\":[\"function (value, scope) {\\n    scope.setInnerHTML(value);\\n}\\n\"]},\"systemjs_options\":null,\"mount_callbacks\":[],\"observables\":{\"obs-output\":{\"sync\":false,\"id\":\"ob_25\",\"value\":\"<pre>\\\"\\\"<\\/pre>\"}}},\"children\":[{\"props\":{\"className\":\"webio-observable\",\"setInnerHtml\":\"<pre>\\\"\\\"<\\/pre>\"},\"nodeType\":\"DOM\",\"type\":\"node\",\"instanceArgs\":{\"namespace\":\"html\",\"tag\":\"div\"},\"children\":[]}]},\n",
       "            window,\n",
       "        );\n",
       "    } else {\n",
       "        document\n",
       "            .querySelector('[data-webio-mountpoint=\"2804023840753123832\"]')\n",
       "            .innerHTML = (\n",
       "                '<div style=\"padding: 1em; background-color: #f8d6da; border: 1px solid #f5c6cb\">' +\n",
       "                '<p><strong>WebIO not detected.</strong></p>' +\n",
       "                '<p>Please read ' +\n",
       "                '<a href=\"https://juliagizmos.github.io/WebIO.jl/latest/troubleshooting/not-detected/\" target=\"_blank\">the troubleshooting guide</a> ' +\n",
       "                'for more information on how to resolve this issue.</p>' +\n",
       "                '<p><a href=\"https://juliagizmos.github.io/WebIO.jl/latest/troubleshooting/not-detected/\" target=\"_blank\">https://juliagizmos.github.io/WebIO.jl/latest/troubleshooting/not-detected/</a></p>' +\n",
       "                '</div>'\n",
       "            );\n",
       "    }\n",
       "    </script>\n",
       "</div>\n"
      ],
      "text/plain": [
       "Observable{Any} with 0 listeners. Value:\n",
       "\"\""
      ]
     },
     "metadata": {
      "application/vnd.webio.node+json": {
       "kernelId": "dd5017fb-e108-4a46-a015-6527faa074d8"
      }
     },
     "output_type": "display_data"
    }
   ],
   "source": [
    "using Random\n",
    "Random.seed!(2)\n",
    "arms = 3\n",
    "b = Bandit(arms)\n",
    "banditTrial(b)"
   ]
  },
  {
   "cell_type": "markdown",
   "metadata": {},
   "source": [
    "## Bayesian Model Estimation"
   ]
  },
  {
   "cell_type": "code",
   "execution_count": 4,
   "metadata": {},
   "outputs": [
    {
     "data": {
      "application/vnd.webio.node+json": {
       "children": [
        {
         "children": [
          {
           "children": [
            "Arm 1"
           ],
           "instanceArgs": {
            "namespace": "html",
            "tag": "button"
           },
           "nodeType": "DOM",
           "props": {
            "attributes": {
             "data-bind": "click: function (){this.clicks(this.clicks()+1)}, css: {'is-loading' : loading}"
            },
            "className": "is-medium button is-primary",
            "style": {}
           },
           "type": "node"
          }
         ],
         "instanceArgs": {
          "handlers": {
           "clicks": [
            "(function (val){return (val!=this.model[\"clicks\"]()) ? (this.valueFromJulia[\"clicks\"]=true, this.model[\"clicks\"](val)) : undefined})"
           ],
           "loading": [
            "(function (val){return (val!=this.model[\"loading\"]()) ? (this.valueFromJulia[\"loading\"]=true, this.model[\"loading\"](val)) : undefined})"
           ]
          },
          "id": "4302385965314145364",
          "imports": {
           "data": [
            {
             "name": "knockout",
             "type": "js",
             "url": "/assetserver/3e541dee53151b2c541f58d90425f0a0925f9e0f-knockout.js"
            },
            {
             "name": "knockout_punches",
             "type": "js",
             "url": "/assetserver/a2fe821063f7b9402a4f3a4f892ed8b183d4262e-knockout_punches.js"
            },
            {
             "name": null,
             "type": "js",
             "url": "/assetserver/dca5dacd6b773cb2d9b372cb162585b4bab6abce-all.js"
            },
            {
             "name": null,
             "type": "css",
             "url": "/assetserver/a1491573312c28f6fe82fff21946abae6141d461-style.css"
            },
            {
             "name": null,
             "type": "css",
             "url": "/assetserver/2b70ab798aa8d032d4d4df5efcc489d2c54ad5f7-bulma_confined.min.css"
            }
           ],
           "type": "async_block"
          },
          "mount_callbacks": [
           "function () {\n    var handler = (function (ko, koPunches) {\n    ko.punches.enableAll();\n    ko.bindingHandlers.numericValue = {\n        init: function(element, valueAccessor, allBindings, data, context) {\n            var stringified = ko.observable(ko.unwrap(valueAccessor()));\n            stringified.subscribe(function(value) {\n                var val = parseFloat(value);\n                if (!isNaN(val)) {\n                    valueAccessor()(val);\n                }\n            });\n            valueAccessor().subscribe(function(value) {\n                var str = JSON.stringify(value);\n                if ((str == \"0\") && ([\"-0\", \"-0.\"].indexOf(stringified()) >= 0))\n                     return;\n                 if ([\"null\", \"\"].indexOf(str) >= 0)\n                     return;\n                stringified(str);\n            });\n            ko.applyBindingsToNode(\n                element,\n                {\n                    value: stringified,\n                    valueUpdate: allBindings.get('valueUpdate'),\n                },\n                context,\n            );\n        }\n    };\n    var json_data = {\"loading\":WebIO.getval({\"name\":\"loading\",\"scope\":\"4302385965314145364\",\"id\":\"ob_62\",\"type\":\"observable\"}),\"clicks\":WebIO.getval({\"name\":\"clicks\",\"scope\":\"4302385965314145364\",\"id\":\"ob_61\",\"type\":\"observable\"})};\n    var self = this;\n    function AppViewModel() {\n        for (var key in json_data) {\n            var el = json_data[key];\n            this[key] = Array.isArray(el) ? ko.observableArray(el) : ko.observable(el);\n        }\n        \n        \n        [this[\"loading\"].subscribe((function (val){!(this.valueFromJulia[\"loading\"]) ? (WebIO.setval({\"name\":\"loading\",\"scope\":\"4302385965314145364\",\"id\":\"ob_62\",\"type\":\"observable\"},val)) : undefined; return this.valueFromJulia[\"loading\"]=false}),self),this[\"clicks\"].subscribe((function (val){!(this.valueFromJulia[\"clicks\"]) ? (WebIO.setval({\"name\":\"clicks\",\"scope\":\"4302385965314145364\",\"id\":\"ob_61\",\"type\":\"observable\"},val)) : undefined; return this.valueFromJulia[\"clicks\"]=false}),self)]\n        \n    }\n    self.model = new AppViewModel();\n    self.valueFromJulia = {};\n    for (var key in json_data) {\n        self.valueFromJulia[key] = false;\n    }\n    ko.applyBindings(self.model, self.dom);\n}\n);\n    (WebIO.importBlock({\"data\":[{\"name\":\"knockout\",\"type\":\"js\",\"url\":\"/assetserver/3e541dee53151b2c541f58d90425f0a0925f9e0f-knockout.js\"},{\"name\":\"knockout_punches\",\"type\":\"js\",\"url\":\"/assetserver/a2fe821063f7b9402a4f3a4f892ed8b183d4262e-knockout_punches.js\"}],\"type\":\"async_block\"})).then((imports) => handler.apply(this, imports));\n}\n"
          ],
          "observables": {
           "clicks": {
            "id": "ob_61",
            "sync": false,
            "value": 0
           },
           "loading": {
            "id": "ob_62",
            "sync": false,
            "value": false
           }
          },
          "systemjs_options": null
         },
         "nodeType": "Scope",
         "props": {},
         "type": "node"
        }
       ],
       "instanceArgs": {
        "namespace": "html",
        "tag": "div"
       },
       "nodeType": "DOM",
       "props": {
        "className": "field interact-widget"
       },
       "type": "node"
      },
      "text/html": [
       "<div\n",
       "    class=\"webio-mountpoint\"\n",
       "    data-webio-mountpoint=\"5366568304090051817\"\n",
       ">\n",
       "    <script>\n",
       "    if (window.require && require.defined && require.defined(\"nbextensions/webio-jupyter-notebook\")) {\n",
       "        console.log(\"Jupyter WebIO extension detected, not mounting.\");\n",
       "    } else if (window.WebIO) {\n",
       "        WebIO.mount(\n",
       "            document.querySelector('[data-webio-mountpoint=\"5366568304090051817\"]'),\n",
       "            {\"props\":{\"className\":\"field interact-widget\"},\"nodeType\":\"DOM\",\"type\":\"node\",\"instanceArgs\":{\"namespace\":\"html\",\"tag\":\"div\"},\"children\":[{\"props\":{},\"nodeType\":\"Scope\",\"type\":\"node\",\"instanceArgs\":{\"imports\":{\"data\":[{\"name\":\"knockout\",\"type\":\"js\",\"url\":\"\\/assetserver\\/3e541dee53151b2c541f58d90425f0a0925f9e0f-knockout.js\"},{\"name\":\"knockout_punches\",\"type\":\"js\",\"url\":\"\\/assetserver\\/a2fe821063f7b9402a4f3a4f892ed8b183d4262e-knockout_punches.js\"},{\"name\":null,\"type\":\"js\",\"url\":\"\\/assetserver\\/dca5dacd6b773cb2d9b372cb162585b4bab6abce-all.js\"},{\"name\":null,\"type\":\"css\",\"url\":\"\\/assetserver\\/a1491573312c28f6fe82fff21946abae6141d461-style.css\"},{\"name\":null,\"type\":\"css\",\"url\":\"\\/assetserver\\/2b70ab798aa8d032d4d4df5efcc489d2c54ad5f7-bulma_confined.min.css\"}],\"type\":\"async_block\"},\"id\":\"4302385965314145364\",\"handlers\":{\"loading\":[\"(function (val){return (val!=this.model[\\\"loading\\\"]()) ? (this.valueFromJulia[\\\"loading\\\"]=true, this.model[\\\"loading\\\"](val)) : undefined})\"],\"clicks\":[\"(function (val){return (val!=this.model[\\\"clicks\\\"]()) ? (this.valueFromJulia[\\\"clicks\\\"]=true, this.model[\\\"clicks\\\"](val)) : undefined})\"]},\"systemjs_options\":null,\"mount_callbacks\":[\"function () {\\n    var handler = (function (ko, koPunches) {\\n    ko.punches.enableAll();\\n    ko.bindingHandlers.numericValue = {\\n        init: function(element, valueAccessor, allBindings, data, context) {\\n            var stringified = ko.observable(ko.unwrap(valueAccessor()));\\n            stringified.subscribe(function(value) {\\n                var val = parseFloat(value);\\n                if (!isNaN(val)) {\\n                    valueAccessor()(val);\\n                }\\n            });\\n            valueAccessor().subscribe(function(value) {\\n                var str = JSON.stringify(value);\\n                if ((str == \\\"0\\\") && ([\\\"-0\\\", \\\"-0.\\\"].indexOf(stringified()) >= 0))\\n                     return;\\n                 if ([\\\"null\\\", \\\"\\\"].indexOf(str) >= 0)\\n                     return;\\n                stringified(str);\\n            });\\n            ko.applyBindingsToNode(\\n                element,\\n                {\\n                    value: stringified,\\n                    valueUpdate: allBindings.get('valueUpdate'),\\n                },\\n                context,\\n            );\\n        }\\n    };\\n    var json_data = {\\\"loading\\\":WebIO.getval({\\\"name\\\":\\\"loading\\\",\\\"scope\\\":\\\"4302385965314145364\\\",\\\"id\\\":\\\"ob_62\\\",\\\"type\\\":\\\"observable\\\"}),\\\"clicks\\\":WebIO.getval({\\\"name\\\":\\\"clicks\\\",\\\"scope\\\":\\\"4302385965314145364\\\",\\\"id\\\":\\\"ob_61\\\",\\\"type\\\":\\\"observable\\\"})};\\n    var self = this;\\n    function AppViewModel() {\\n        for (var key in json_data) {\\n            var el = json_data[key];\\n            this[key] = Array.isArray(el) ? ko.observableArray(el) : ko.observable(el);\\n        }\\n        \\n        \\n        [this[\\\"loading\\\"].subscribe((function (val){!(this.valueFromJulia[\\\"loading\\\"]) ? (WebIO.setval({\\\"name\\\":\\\"loading\\\",\\\"scope\\\":\\\"4302385965314145364\\\",\\\"id\\\":\\\"ob_62\\\",\\\"type\\\":\\\"observable\\\"},val)) : undefined; return this.valueFromJulia[\\\"loading\\\"]=false}),self),this[\\\"clicks\\\"].subscribe((function (val){!(this.valueFromJulia[\\\"clicks\\\"]) ? (WebIO.setval({\\\"name\\\":\\\"clicks\\\",\\\"scope\\\":\\\"4302385965314145364\\\",\\\"id\\\":\\\"ob_61\\\",\\\"type\\\":\\\"observable\\\"},val)) : undefined; return this.valueFromJulia[\\\"clicks\\\"]=false}),self)]\\n        \\n    }\\n    self.model = new AppViewModel();\\n    self.valueFromJulia = {};\\n    for (var key in json_data) {\\n        self.valueFromJulia[key] = false;\\n    }\\n    ko.applyBindings(self.model, self.dom);\\n}\\n);\\n    (WebIO.importBlock({\\\"data\\\":[{\\\"name\\\":\\\"knockout\\\",\\\"type\\\":\\\"js\\\",\\\"url\\\":\\\"\\/assetserver\\/3e541dee53151b2c541f58d90425f0a0925f9e0f-knockout.js\\\"},{\\\"name\\\":\\\"knockout_punches\\\",\\\"type\\\":\\\"js\\\",\\\"url\\\":\\\"\\/assetserver\\/a2fe821063f7b9402a4f3a4f892ed8b183d4262e-knockout_punches.js\\\"}],\\\"type\\\":\\\"async_block\\\"})).then((imports) => handler.apply(this, imports));\\n}\\n\"],\"observables\":{\"loading\":{\"sync\":false,\"id\":\"ob_62\",\"value\":false},\"clicks\":{\"sync\":false,\"id\":\"ob_61\",\"value\":0}}},\"children\":[{\"props\":{\"attributes\":{\"data-bind\":\"click: function (){this.clicks(this.clicks()+1)}, css: {'is-loading' : loading}\"},\"className\":\"is-medium button is-primary\",\"style\":{}},\"nodeType\":\"DOM\",\"type\":\"node\",\"instanceArgs\":{\"namespace\":\"html\",\"tag\":\"button\"},\"children\":[\"Arm 1\"]}]}]},\n",
       "            window,\n",
       "        );\n",
       "    } else {\n",
       "        document\n",
       "            .querySelector('[data-webio-mountpoint=\"5366568304090051817\"]')\n",
       "            .innerHTML = (\n",
       "                '<div style=\"padding: 1em; background-color: #f8d6da; border: 1px solid #f5c6cb\">' +\n",
       "                '<p><strong>WebIO not detected.</strong></p>' +\n",
       "                '<p>Please read ' +\n",
       "                '<a href=\"https://juliagizmos.github.io/WebIO.jl/latest/troubleshooting/not-detected/\" target=\"_blank\">the troubleshooting guide</a> ' +\n",
       "                'for more information on how to resolve this issue.</p>' +\n",
       "                '<p><a href=\"https://juliagizmos.github.io/WebIO.jl/latest/troubleshooting/not-detected/\" target=\"_blank\">https://juliagizmos.github.io/WebIO.jl/latest/troubleshooting/not-detected/</a></p>' +\n",
       "                '</div>'\n",
       "            );\n",
       "    }\n",
       "    </script>\n",
       "</div>\n"
      ],
      "text/plain": [
       "(div { className=\"field interact-widget\" }\n",
       "    (button { attributes=Dict{Any,Any}(\"data-bind\" => \"click: function (){this.clicks(this.clicks()+1)}, css: {'is-loading' : loading}\") className=\"is-medium button is-primary\" style=Dict{String,Any}() }\n",
       "    \"Arm 1\"))"
      ]
     },
     "metadata": {
      "application/vnd.webio.node+json": {
       "kernelId": "dd5017fb-e108-4a46-a015-6527faa074d8"
      }
     },
     "output_type": "display_data"
    },
    {
     "data": {
      "application/vnd.webio.node+json": {
       "children": [
        {
         "children": [],
         "instanceArgs": {
          "namespace": "html",
          "tag": "div"
         },
         "nodeType": "DOM",
         "props": {
          "className": "webio-observable",
          "setInnerHtml": "<pre>\"0 wins out of 0 tries (NaN percent)\"</pre>"
         },
         "type": "node"
        }
       ],
       "instanceArgs": {
        "handlers": {
         "obs-output": [
          "function (value, scope) {\n    scope.setInnerHTML(value);\n}\n"
         ]
        },
        "id": "14174509765234917359",
        "imports": {
         "data": [],
         "type": "async_block"
        },
        "mount_callbacks": [],
        "observables": {
         "obs-output": {
          "id": "ob_66",
          "sync": false,
          "value": "<pre>\"0 wins out of 0 tries (NaN percent)\"</pre>"
         }
        },
        "systemjs_options": null
       },
       "nodeType": "Scope",
       "props": {},
       "type": "node"
      },
      "text/html": [
       "<div\n",
       "    class=\"webio-mountpoint\"\n",
       "    data-webio-mountpoint=\"3709216760141518812\"\n",
       ">\n",
       "    <script>\n",
       "    if (window.require && require.defined && require.defined(\"nbextensions/webio-jupyter-notebook\")) {\n",
       "        console.log(\"Jupyter WebIO extension detected, not mounting.\");\n",
       "    } else if (window.WebIO) {\n",
       "        WebIO.mount(\n",
       "            document.querySelector('[data-webio-mountpoint=\"3709216760141518812\"]'),\n",
       "            {\"props\":{},\"nodeType\":\"Scope\",\"type\":\"node\",\"instanceArgs\":{\"imports\":{\"data\":[],\"type\":\"async_block\"},\"id\":\"2566433610207928892\",\"handlers\":{\"obs-output\":[\"function (value, scope) {\\n    scope.setInnerHTML(value);\\n}\\n\"]},\"systemjs_options\":null,\"mount_callbacks\":[],\"observables\":{\"obs-output\":{\"sync\":false,\"id\":\"ob_65\",\"value\":\"<pre>\\\"0 wins out of 0 tries (NaN percent)\\\"<\\/pre>\"}}},\"children\":[{\"props\":{\"className\":\"webio-observable\",\"setInnerHtml\":\"<pre>\\\"0 wins out of 0 tries (NaN percent)\\\"<\\/pre>\"},\"nodeType\":\"DOM\",\"type\":\"node\",\"instanceArgs\":{\"namespace\":\"html\",\"tag\":\"div\"},\"children\":[]}]},\n",
       "            window,\n",
       "        );\n",
       "    } else {\n",
       "        document\n",
       "            .querySelector('[data-webio-mountpoint=\"3709216760141518812\"]')\n",
       "            .innerHTML = (\n",
       "                '<div style=\"padding: 1em; background-color: #f8d6da; border: 1px solid #f5c6cb\">' +\n",
       "                '<p><strong>WebIO not detected.</strong></p>' +\n",
       "                '<p>Please read ' +\n",
       "                '<a href=\"https://juliagizmos.github.io/WebIO.jl/latest/troubleshooting/not-detected/\" target=\"_blank\">the troubleshooting guide</a> ' +\n",
       "                'for more information on how to resolve this issue.</p>' +\n",
       "                '<p><a href=\"https://juliagizmos.github.io/WebIO.jl/latest/troubleshooting/not-detected/\" target=\"_blank\">https://juliagizmos.github.io/WebIO.jl/latest/troubleshooting/not-detected/</a></p>' +\n",
       "                '</div>'\n",
       "            );\n",
       "    }\n",
       "    </script>\n",
       "</div>\n"
      ],
      "text/plain": [
       "Observable{Any} with 0 listeners. Value:\n",
       "\"0 wins out of 0 tries (NaN percent)\""
      ]
     },
     "metadata": {
      "application/vnd.webio.node+json": {
       "kernelId": "dd5017fb-e108-4a46-a015-6527faa074d8"
      }
     },
     "output_type": "display_data"
    },
    {
     "data": {
      "application/vnd.webio.node+json": {
       "children": [
        {
         "children": [],
         "instanceArgs": {
          "namespace": "html",
          "tag": "div"
         },
         "nodeType": "DOM",
         "props": {
          "className": "webio-observable",
          "setInnerHtml": "<?xml version=\"1.0\" encoding=\"UTF-8\"?>\n<svg xmlns=\"http://www.w3.org/2000/svg\" xmlns:xlink=\"http://www.w3.org/1999/xlink\" width=\"405.745pt\" height=\"252.092pt\" viewBox=\"0 0 405.745 252.092\" version=\"1.1\">\n<defs>\n<g>\n<symbol overflow=\"visible\" id=\"glyph-1580969628598074-0-0\">\n<path style=\"stroke:none;\" d=\"\"/>\n</symbol>\n<symbol overflow=\"visible\" id=\"glyph-1580969628598074-0-1\">\n<path style=\"stroke:none;\" d=\"M 4.578125 -3.1875 C 4.578125 -3.984375 4.53125 -4.78125 4.1875 -5.515625 C 3.734375 -6.484375 2.90625 -6.640625 2.5 -6.640625 C 1.890625 -6.640625 1.171875 -6.375 0.75 -5.453125 C 0.4375 -4.765625 0.390625 -3.984375 0.390625 -3.1875 C 0.390625 -2.4375 0.421875 -1.546875 0.84375 -0.78125 C 1.265625 0.015625 2 0.21875 2.484375 0.21875 C 3.015625 0.21875 3.78125 0.015625 4.21875 -0.9375 C 4.53125 -1.625 4.578125 -2.40625 4.578125 -3.1875 Z M 2.484375 0 C 2.09375 0 1.5 -0.25 1.328125 -1.203125 C 1.21875 -1.796875 1.21875 -2.71875 1.21875 -3.3125 C 1.21875 -3.953125 1.21875 -4.609375 1.296875 -5.140625 C 1.484375 -6.328125 2.234375 -6.421875 2.484375 -6.421875 C 2.8125 -6.421875 3.46875 -6.234375 3.65625 -5.25 C 3.765625 -4.6875 3.765625 -3.9375 3.765625 -3.3125 C 3.765625 -2.5625 3.765625 -1.890625 3.65625 -1.25 C 3.5 -0.296875 2.9375 0 2.484375 0 Z M 2.484375 0 \"/>\n</symbol>\n<symbol overflow=\"visible\" id=\"glyph-1580969628598074-0-2\">\n<path style=\"stroke:none;\" d=\"M 2.9375 -6.375 C 2.9375 -6.625 2.9375 -6.640625 2.703125 -6.640625 C 2.078125 -6 1.203125 -6 0.890625 -6 L 0.890625 -5.6875 C 1.09375 -5.6875 1.671875 -5.6875 2.1875 -5.953125 L 2.1875 -0.78125 C 2.1875 -0.421875 2.15625 -0.3125 1.265625 -0.3125 L 0.953125 -0.3125 L 0.953125 0 C 1.296875 -0.03125 2.15625 -0.03125 2.5625 -0.03125 C 2.953125 -0.03125 3.828125 -0.03125 4.171875 0 L 4.171875 -0.3125 L 3.859375 -0.3125 C 2.953125 -0.3125 2.9375 -0.421875 2.9375 -0.78125 Z M 2.9375 -6.375 \"/>\n</symbol>\n<symbol overflow=\"visible\" id=\"glyph-1580969628598074-0-3\">\n<path style=\"stroke:none;\" d=\"M 1.265625 -0.765625 L 2.328125 -1.796875 C 3.875 -3.171875 4.46875 -3.703125 4.46875 -4.703125 C 4.46875 -5.84375 3.578125 -6.640625 2.359375 -6.640625 C 1.234375 -6.640625 0.5 -5.71875 0.5 -4.828125 C 0.5 -4.28125 1 -4.28125 1.03125 -4.28125 C 1.203125 -4.28125 1.546875 -4.390625 1.546875 -4.8125 C 1.546875 -5.0625 1.359375 -5.328125 1.015625 -5.328125 C 0.9375 -5.328125 0.921875 -5.328125 0.890625 -5.3125 C 1.109375 -5.96875 1.65625 -6.328125 2.234375 -6.328125 C 3.140625 -6.328125 3.5625 -5.515625 3.5625 -4.703125 C 3.5625 -3.90625 3.078125 -3.125 2.515625 -2.5 L 0.609375 -0.375 C 0.5 -0.265625 0.5 -0.234375 0.5 0 L 4.203125 0 L 4.46875 -1.734375 L 4.234375 -1.734375 C 4.171875 -1.4375 4.109375 -1 4 -0.84375 C 3.9375 -0.765625 3.28125 -0.765625 3.0625 -0.765625 Z M 1.265625 -0.765625 \"/>\n</symbol>\n<symbol overflow=\"visible\" id=\"glyph-1580969628598074-0-4\">\n<path style=\"stroke:none;\" d=\"M 2.890625 -3.515625 C 3.703125 -3.78125 4.28125 -4.46875 4.28125 -5.265625 C 4.28125 -6.078125 3.40625 -6.640625 2.453125 -6.640625 C 1.453125 -6.640625 0.6875 -6.046875 0.6875 -5.28125 C 0.6875 -4.953125 0.90625 -4.765625 1.203125 -4.765625 C 1.5 -4.765625 1.703125 -4.984375 1.703125 -5.28125 C 1.703125 -5.765625 1.234375 -5.765625 1.09375 -5.765625 C 1.390625 -6.265625 2.046875 -6.390625 2.40625 -6.390625 C 2.828125 -6.390625 3.375 -6.171875 3.375 -5.28125 C 3.375 -5.15625 3.34375 -4.578125 3.09375 -4.140625 C 2.796875 -3.65625 2.453125 -3.625 2.203125 -3.625 C 2.125 -3.609375 1.890625 -3.59375 1.8125 -3.59375 C 1.734375 -3.578125 1.671875 -3.5625 1.671875 -3.46875 C 1.671875 -3.359375 1.734375 -3.359375 1.90625 -3.359375 L 2.34375 -3.359375 C 3.15625 -3.359375 3.53125 -2.6875 3.53125 -1.703125 C 3.53125 -0.34375 2.84375 -0.0625 2.40625 -0.0625 C 1.96875 -0.0625 1.21875 -0.234375 0.875 -0.8125 C 1.21875 -0.765625 1.53125 -0.984375 1.53125 -1.359375 C 1.53125 -1.71875 1.265625 -1.921875 0.984375 -1.921875 C 0.734375 -1.921875 0.421875 -1.78125 0.421875 -1.34375 C 0.421875 -0.4375 1.34375 0.21875 2.4375 0.21875 C 3.65625 0.21875 4.5625 -0.6875 4.5625 -1.703125 C 4.5625 -2.515625 3.921875 -3.296875 2.890625 -3.515625 Z M 2.890625 -3.515625 \"/>\n</symbol>\n<symbol overflow=\"visible\" id=\"glyph-1580969628598074-0-5\">\n<path style=\"stroke:none;\" d=\"M 2.9375 -1.640625 L 2.9375 -0.78125 C 2.9375 -0.421875 2.90625 -0.3125 2.171875 -0.3125 L 1.96875 -0.3125 L 1.96875 0 C 2.375 -0.03125 2.890625 -0.03125 3.3125 -0.03125 C 3.734375 -0.03125 4.25 -0.03125 4.671875 0 L 4.671875 -0.3125 L 4.453125 -0.3125 C 3.71875 -0.3125 3.703125 -0.421875 3.703125 -0.78125 L 3.703125 -1.640625 L 4.6875 -1.640625 L 4.6875 -1.953125 L 3.703125 -1.953125 L 3.703125 -6.484375 C 3.703125 -6.6875 3.703125 -6.75 3.53125 -6.75 C 3.453125 -6.75 3.421875 -6.75 3.34375 -6.625 L 0.28125 -1.953125 L 0.28125 -1.640625 Z M 2.984375 -1.953125 L 0.5625 -1.953125 L 2.984375 -5.671875 Z M 2.984375 -1.953125 \"/>\n</symbol>\n<symbol overflow=\"visible\" id=\"glyph-1580969628598074-0-6\">\n<path style=\"stroke:none;\" d=\"M 4.46875 -2 C 4.46875 -3.1875 3.65625 -4.1875 2.578125 -4.1875 C 2.109375 -4.1875 1.671875 -4.03125 1.3125 -3.671875 L 1.3125 -5.625 C 1.515625 -5.5625 1.84375 -5.5 2.15625 -5.5 C 3.390625 -5.5 4.09375 -6.40625 4.09375 -6.53125 C 4.09375 -6.59375 4.0625 -6.640625 3.984375 -6.640625 C 3.984375 -6.640625 3.953125 -6.640625 3.90625 -6.609375 C 3.703125 -6.515625 3.21875 -6.3125 2.546875 -6.3125 C 2.15625 -6.3125 1.6875 -6.390625 1.21875 -6.59375 C 1.140625 -6.625 1.125 -6.625 1.109375 -6.625 C 1 -6.625 1 -6.546875 1 -6.390625 L 1 -3.4375 C 1 -3.265625 1 -3.1875 1.140625 -3.1875 C 1.21875 -3.1875 1.234375 -3.203125 1.28125 -3.265625 C 1.390625 -3.421875 1.75 -3.96875 2.5625 -3.96875 C 3.078125 -3.96875 3.328125 -3.515625 3.40625 -3.328125 C 3.5625 -2.953125 3.59375 -2.578125 3.59375 -2.078125 C 3.59375 -1.71875 3.59375 -1.125 3.34375 -0.703125 C 3.109375 -0.3125 2.734375 -0.0625 2.28125 -0.0625 C 1.5625 -0.0625 0.984375 -0.59375 0.8125 -1.171875 C 0.84375 -1.171875 0.875 -1.15625 0.984375 -1.15625 C 1.3125 -1.15625 1.484375 -1.40625 1.484375 -1.640625 C 1.484375 -1.890625 1.3125 -2.140625 0.984375 -2.140625 C 0.84375 -2.140625 0.5 -2.0625 0.5 -1.609375 C 0.5 -0.75 1.1875 0.21875 2.296875 0.21875 C 3.453125 0.21875 4.46875 -0.734375 4.46875 -2 Z M 4.46875 -2 \"/>\n</symbol>\n<symbol overflow=\"visible\" id=\"glyph-1580969628598074-0-7\">\n<path style=\"stroke:none;\" d=\"M 1.3125 -3.265625 L 1.3125 -3.515625 C 1.3125 -6.03125 2.546875 -6.390625 3.0625 -6.390625 C 3.296875 -6.390625 3.71875 -6.328125 3.9375 -5.984375 C 3.78125 -5.984375 3.390625 -5.984375 3.390625 -5.546875 C 3.390625 -5.234375 3.625 -5.078125 3.84375 -5.078125 C 4 -5.078125 4.3125 -5.171875 4.3125 -5.5625 C 4.3125 -6.15625 3.875 -6.640625 3.046875 -6.640625 C 1.765625 -6.640625 0.421875 -5.359375 0.421875 -3.15625 C 0.421875 -0.484375 1.578125 0.21875 2.5 0.21875 C 3.609375 0.21875 4.5625 -0.71875 4.5625 -2.03125 C 4.5625 -3.296875 3.671875 -4.25 2.5625 -4.25 C 1.890625 -4.25 1.515625 -3.75 1.3125 -3.265625 Z M 2.5 -0.0625 C 1.875 -0.0625 1.578125 -0.65625 1.515625 -0.8125 C 1.328125 -1.28125 1.328125 -2.078125 1.328125 -2.25 C 1.328125 -3.03125 1.65625 -4.03125 2.546875 -4.03125 C 2.71875 -4.03125 3.171875 -4.03125 3.484375 -3.40625 C 3.65625 -3.046875 3.65625 -2.53125 3.65625 -2.046875 C 3.65625 -1.5625 3.65625 -1.0625 3.484375 -0.703125 C 3.1875 -0.109375 2.734375 -0.0625 2.5 -0.0625 Z M 2.5 -0.0625 \"/>\n</symbol>\n<symbol overflow=\"visible\" id=\"glyph-1580969628598074-0-8\">\n<path style=\"stroke:none;\" d=\"M 4.75 -6.078125 C 4.828125 -6.1875 4.828125 -6.203125 4.828125 -6.421875 L 2.40625 -6.421875 C 1.203125 -6.421875 1.171875 -6.546875 1.140625 -6.734375 L 0.890625 -6.734375 L 0.5625 -4.6875 L 0.8125 -4.6875 C 0.84375 -4.84375 0.921875 -5.46875 1.0625 -5.59375 C 1.125 -5.65625 1.90625 -5.65625 2.03125 -5.65625 L 4.09375 -5.65625 C 3.984375 -5.5 3.203125 -4.40625 2.984375 -4.078125 C 2.078125 -2.734375 1.75 -1.34375 1.75 -0.328125 C 1.75 -0.234375 1.75 0.21875 2.21875 0.21875 C 2.671875 0.21875 2.671875 -0.234375 2.671875 -0.328125 L 2.671875 -0.84375 C 2.671875 -1.390625 2.703125 -1.9375 2.78125 -2.46875 C 2.828125 -2.703125 2.953125 -3.5625 3.40625 -4.171875 Z M 4.75 -6.078125 \"/>\n</symbol>\n<symbol overflow=\"visible\" id=\"glyph-1580969628598074-0-9\">\n<path style=\"stroke:none;\" d=\"M 1.625 -4.5625 C 1.171875 -4.859375 1.125 -5.1875 1.125 -5.359375 C 1.125 -5.96875 1.78125 -6.390625 2.484375 -6.390625 C 3.203125 -6.390625 3.84375 -5.875 3.84375 -5.15625 C 3.84375 -4.578125 3.453125 -4.109375 2.859375 -3.765625 Z M 3.078125 -3.609375 C 3.796875 -3.984375 4.28125 -4.5 4.28125 -5.15625 C 4.28125 -6.078125 3.40625 -6.640625 2.5 -6.640625 C 1.5 -6.640625 0.6875 -5.90625 0.6875 -4.96875 C 0.6875 -4.796875 0.703125 -4.34375 1.125 -3.875 C 1.234375 -3.765625 1.609375 -3.515625 1.859375 -3.34375 C 1.28125 -3.046875 0.421875 -2.5 0.421875 -1.5 C 0.421875 -0.453125 1.4375 0.21875 2.484375 0.21875 C 3.609375 0.21875 4.5625 -0.609375 4.5625 -1.671875 C 4.5625 -2.03125 4.453125 -2.484375 4.0625 -2.90625 C 3.875 -3.109375 3.71875 -3.203125 3.078125 -3.609375 Z M 2.078125 -3.1875 L 3.3125 -2.40625 C 3.59375 -2.21875 4.0625 -1.921875 4.0625 -1.3125 C 4.0625 -0.578125 3.3125 -0.0625 2.5 -0.0625 C 1.640625 -0.0625 0.921875 -0.671875 0.921875 -1.5 C 0.921875 -2.078125 1.234375 -2.71875 2.078125 -3.1875 Z M 2.078125 -3.1875 \"/>\n</symbol>\n<symbol overflow=\"visible\" id=\"glyph-1580969628598074-0-10\">\n<path style=\"stroke:none;\" d=\"M 3.65625 -3.171875 L 3.65625 -2.84375 C 3.65625 -0.515625 2.625 -0.0625 2.046875 -0.0625 C 1.875 -0.0625 1.328125 -0.078125 1.0625 -0.421875 C 1.5 -0.421875 1.578125 -0.703125 1.578125 -0.875 C 1.578125 -1.1875 1.34375 -1.328125 1.125 -1.328125 C 0.96875 -1.328125 0.671875 -1.25 0.671875 -0.859375 C 0.671875 -0.1875 1.203125 0.21875 2.046875 0.21875 C 3.34375 0.21875 4.5625 -1.140625 4.5625 -3.28125 C 4.5625 -5.96875 3.40625 -6.640625 2.515625 -6.640625 C 1.96875 -6.640625 1.484375 -6.453125 1.0625 -6.015625 C 0.640625 -5.5625 0.421875 -5.140625 0.421875 -4.390625 C 0.421875 -3.15625 1.296875 -2.171875 2.40625 -2.171875 C 3.015625 -2.171875 3.421875 -2.59375 3.65625 -3.171875 Z M 2.421875 -2.40625 C 2.265625 -2.40625 1.796875 -2.40625 1.5 -3.03125 C 1.3125 -3.40625 1.3125 -3.890625 1.3125 -4.390625 C 1.3125 -4.921875 1.3125 -5.390625 1.53125 -5.765625 C 1.796875 -6.265625 2.171875 -6.390625 2.515625 -6.390625 C 2.984375 -6.390625 3.3125 -6.046875 3.484375 -5.609375 C 3.59375 -5.28125 3.640625 -4.65625 3.640625 -4.203125 C 3.640625 -3.375 3.296875 -2.40625 2.421875 -2.40625 Z M 2.421875 -2.40625 \"/>\n</symbol>\n<symbol overflow=\"visible\" id=\"glyph-1580969628598074-1-0\">\n<path style=\"stroke:none;\" d=\"\"/>\n</symbol>\n<symbol overflow=\"visible\" id=\"glyph-1580969628598074-1-1\">\n<path style=\"stroke:none;\" d=\"M 1.90625 -0.53125 C 1.90625 -0.8125 1.671875 -1.0625 1.390625 -1.0625 C 1.09375 -1.0625 0.859375 -0.8125 0.859375 -0.53125 C 0.859375 -0.234375 1.09375 0 1.390625 0 C 1.671875 0 1.90625 -0.234375 1.90625 -0.53125 Z M 1.90625 -0.53125 \"/>\n</symbol>\n<symbol overflow=\"visible\" id=\"glyph-1580969628598074-2-0\">\n<path style=\"stroke:none;\" d=\"\"/>\n</symbol>\n<symbol overflow=\"visible\" id=\"glyph-1580969628598074-2-1\">\n<path style=\"stroke:none;\" d=\"M 6.484375 -1.828125 C 6.484375 -2.6875 5.671875 -3.4375 4.5625 -3.5625 C 5.53125 -3.75 6.21875 -4.390625 6.21875 -5.125 C 6.21875 -5.984375 5.296875 -6.8125 4 -6.8125 L 0.359375 -6.8125 L 0.359375 -6.5 L 0.59375 -6.5 C 1.359375 -6.5 1.390625 -6.390625 1.390625 -6.03125 L 1.390625 -0.78125 C 1.390625 -0.421875 1.359375 -0.3125 0.59375 -0.3125 L 0.359375 -0.3125 L 0.359375 0 L 4.265625 0 C 5.59375 0 6.484375 -0.890625 6.484375 -1.828125 Z M 5.25 -5.125 C 5.25 -4.484375 4.765625 -3.65625 3.65625 -3.65625 L 2.21875 -3.65625 L 2.21875 -6.09375 C 2.21875 -6.4375 2.234375 -6.5 2.703125 -6.5 L 3.9375 -6.5 C 4.90625 -6.5 5.25 -5.65625 5.25 -5.125 Z M 5.5 -1.828125 C 5.5 -1.125 4.96875 -0.3125 3.953125 -0.3125 L 2.703125 -0.3125 C 2.234375 -0.3125 2.21875 -0.375 2.21875 -0.703125 L 2.21875 -3.421875 L 4.09375 -3.421875 C 5.078125 -3.421875 5.5 -2.5 5.5 -1.828125 Z M 5.5 -1.828125 \"/>\n</symbol>\n<symbol overflow=\"visible\" id=\"glyph-1580969628598074-2-2\">\n<path style=\"stroke:none;\" d=\"M 4.140625 -1.1875 C 4.140625 -1.28125 4.0625 -1.3125 4 -1.3125 C 3.921875 -1.3125 3.890625 -1.25 3.875 -1.171875 C 3.53125 -0.140625 2.625 -0.140625 2.53125 -0.140625 C 2.03125 -0.140625 1.640625 -0.4375 1.40625 -0.8125 C 1.109375 -1.28125 1.109375 -1.9375 1.109375 -2.296875 L 3.890625 -2.296875 C 4.109375 -2.296875 4.140625 -2.296875 4.140625 -2.515625 C 4.140625 -3.5 3.59375 -4.46875 2.359375 -4.46875 C 1.203125 -4.46875 0.28125 -3.4375 0.28125 -2.1875 C 0.28125 -0.859375 1.328125 0.109375 2.46875 0.109375 C 3.6875 0.109375 4.140625 -1 4.140625 -1.1875 Z M 3.484375 -2.515625 L 1.109375 -2.515625 C 1.171875 -4 2.015625 -4.25 2.359375 -4.25 C 3.375 -4.25 3.484375 -2.90625 3.484375 -2.515625 Z M 3.484375 -2.515625 \"/>\n</symbol>\n<symbol overflow=\"visible\" id=\"glyph-1580969628598074-2-3\">\n<path style=\"stroke:none;\" d=\"M 3.3125 -1.234375 L 3.3125 -1.796875 L 3.0625 -1.796875 L 3.0625 -1.25 C 3.0625 -0.515625 2.765625 -0.140625 2.390625 -0.140625 C 1.71875 -0.140625 1.71875 -1.046875 1.71875 -1.21875 L 1.71875 -3.984375 L 3.15625 -3.984375 L 3.15625 -4.296875 L 1.71875 -4.296875 L 1.71875 -6.125 L 1.46875 -6.125 C 1.46875 -5.3125 1.171875 -4.25 0.1875 -4.203125 L 0.1875 -3.984375 L 1.03125 -3.984375 L 1.03125 -1.234375 C 1.03125 -0.015625 1.96875 0.109375 2.328125 0.109375 C 3.03125 0.109375 3.3125 -0.59375 3.3125 -1.234375 Z M 3.3125 -1.234375 \"/>\n</symbol>\n<symbol overflow=\"visible\" id=\"glyph-1580969628598074-2-4\">\n<path style=\"stroke:none;\" d=\"M 4.8125 -0.890625 L 4.8125 -1.453125 L 4.5625 -1.453125 L 4.5625 -0.890625 C 4.5625 -0.3125 4.3125 -0.25 4.203125 -0.25 C 3.875 -0.25 3.84375 -0.703125 3.84375 -0.75 L 3.84375 -2.734375 C 3.84375 -3.15625 3.84375 -3.546875 3.484375 -3.921875 C 3.09375 -4.3125 2.59375 -4.46875 2.109375 -4.46875 C 1.296875 -4.46875 0.609375 -4 0.609375 -3.34375 C 0.609375 -3.046875 0.8125 -2.875 1.0625 -2.875 C 1.34375 -2.875 1.53125 -3.078125 1.53125 -3.328125 C 1.53125 -3.453125 1.46875 -3.78125 1.015625 -3.78125 C 1.28125 -4.140625 1.78125 -4.25 2.09375 -4.25 C 2.578125 -4.25 3.15625 -3.859375 3.15625 -2.96875 L 3.15625 -2.609375 C 2.640625 -2.578125 1.9375 -2.546875 1.3125 -2.25 C 0.5625 -1.90625 0.3125 -1.390625 0.3125 -0.953125 C 0.3125 -0.140625 1.28125 0.109375 1.90625 0.109375 C 2.578125 0.109375 3.03125 -0.296875 3.21875 -0.75 C 3.265625 -0.359375 3.53125 0.0625 4 0.0625 C 4.203125 0.0625 4.8125 -0.078125 4.8125 -0.890625 Z M 3.15625 -1.390625 C 3.15625 -0.453125 2.4375 -0.109375 1.984375 -0.109375 C 1.5 -0.109375 1.09375 -0.453125 1.09375 -0.953125 C 1.09375 -1.5 1.5 -2.328125 3.15625 -2.390625 Z M 3.15625 -1.390625 \"/>\n</symbol>\n<symbol overflow=\"visible\" id=\"glyph-1580969628598074-2-5\">\n<path style=\"stroke:none;\" d=\"M 3.296875 2.390625 C 3.296875 2.359375 3.296875 2.34375 3.125 2.171875 C 1.890625 0.921875 1.5625 -0.96875 1.5625 -2.5 C 1.5625 -4.234375 1.9375 -5.96875 3.171875 -7.203125 C 3.296875 -7.328125 3.296875 -7.34375 3.296875 -7.375 C 3.296875 -7.453125 3.265625 -7.484375 3.203125 -7.484375 C 3.09375 -7.484375 2.203125 -6.796875 1.609375 -5.53125 C 1.109375 -4.4375 0.984375 -3.328125 0.984375 -2.5 C 0.984375 -1.71875 1.09375 -0.515625 1.640625 0.625 C 2.25 1.84375 3.09375 2.5 3.203125 2.5 C 3.265625 2.5 3.296875 2.46875 3.296875 2.390625 Z M 3.296875 2.390625 \"/>\n</symbol>\n<symbol overflow=\"visible\" id=\"glyph-1580969628598074-2-6\">\n<path style=\"stroke:none;\" d=\"M 4.171875 0 L 4.171875 -0.3125 L 3.859375 -0.3125 C 2.953125 -0.3125 2.9375 -0.421875 2.9375 -0.78125 L 2.9375 -6.375 C 2.9375 -6.625 2.9375 -6.640625 2.703125 -6.640625 C 2.078125 -6 1.203125 -6 0.890625 -6 L 0.890625 -5.6875 C 1.09375 -5.6875 1.671875 -5.6875 2.1875 -5.953125 L 2.1875 -0.78125 C 2.1875 -0.421875 2.15625 -0.3125 1.265625 -0.3125 L 0.953125 -0.3125 L 0.953125 0 C 1.296875 -0.03125 2.15625 -0.03125 2.5625 -0.03125 C 2.953125 -0.03125 3.828125 -0.03125 4.171875 0 Z M 4.171875 0 \"/>\n</symbol>\n<symbol overflow=\"visible\" id=\"glyph-1580969628598074-2-7\">\n<path style=\"stroke:none;\" d=\"M 2.03125 -0.015625 C 2.03125 -0.640625 1.78125 -1.0625 1.390625 -1.0625 C 1.03125 -1.0625 0.859375 -0.78125 0.859375 -0.53125 C 0.859375 -0.265625 1.03125 0 1.390625 0 C 1.53125 0 1.671875 -0.0625 1.78125 -0.15625 C 1.796875 0.625 1.53125 1.234375 1.09375 1.703125 C 1.03125 1.765625 1.015625 1.78125 1.015625 1.8125 C 1.015625 1.890625 1.0625 1.921875 1.109375 1.921875 C 1.234375 1.921875 2.03125 1.140625 2.03125 -0.015625 Z M 2.03125 -0.015625 \"/>\n</symbol>\n<symbol overflow=\"visible\" id=\"glyph-1580969628598074-2-8\">\n<path style=\"stroke:none;\" d=\"M 2.875 -2.5 C 2.875 -3.265625 2.765625 -4.46875 2.21875 -5.609375 C 1.625 -6.828125 0.765625 -7.484375 0.671875 -7.484375 C 0.609375 -7.484375 0.5625 -7.4375 0.5625 -7.375 C 0.5625 -7.34375 0.5625 -7.328125 0.75 -7.140625 C 1.734375 -6.15625 2.296875 -4.578125 2.296875 -2.5 C 2.296875 -0.78125 1.9375 0.96875 0.703125 2.21875 C 0.5625 2.34375 0.5625 2.359375 0.5625 2.390625 C 0.5625 2.453125 0.609375 2.5 0.671875 2.5 C 0.765625 2.5 1.671875 1.8125 2.25 0.546875 C 2.765625 -0.546875 2.875 -1.65625 2.875 -2.5 Z M 2.875 -2.5 \"/>\n</symbol>\n</g>\n<clipPath id=\"clip-1580969628598074-1\">\n  <path d=\"M 19.570312 21 L 399.9375 21 L 399.9375 23 L 19.570312 23 Z M 19.570312 21 \"/>\n</clipPath>\n</defs>\n<g id=\"surface1\">\n<path style=\"fill:none;stroke-width:0.19925;stroke-linecap:butt;stroke-linejoin:miter;stroke:rgb(50%,50%,50%);stroke-opacity:1;stroke-miterlimit:10;\" d=\"M 0.0003125 -0.00103125 L 0.0003125 4.252875 M 38.035469 -0.00103125 L 38.035469 4.252875 M 76.074531 -0.00103125 L 76.074531 4.252875 M 114.109688 -0.00103125 L 114.109688 4.252875 M 152.14875 -0.00103125 L 152.14875 4.252875 M 190.183906 -0.00103125 L 190.183906 4.252875 M 228.222969 -0.00103125 L 228.222969 4.252875 M 266.258125 -0.00103125 L 266.258125 4.252875 M 304.293281 -0.00103125 L 304.293281 4.252875 M 342.332344 -0.00103125 L 342.332344 4.252875 M 380.3675 -0.00103125 L 380.3675 4.252875 M 0.0003125 238.635688 L 0.0003125 234.381781 M 38.035469 238.635688 L 38.035469 234.381781 M 76.074531 238.635688 L 76.074531 234.381781 M 114.109688 238.635688 L 114.109688 234.381781 M 152.14875 238.635688 L 152.14875 234.381781 M 190.183906 238.635688 L 190.183906 234.381781 M 228.222969 238.635688 L 228.222969 234.381781 M 266.258125 238.635688 L 266.258125 234.381781 M 304.293281 238.635688 L 304.293281 234.381781 M 342.332344 238.635688 L 342.332344 234.381781 M 380.3675 238.635688 L 380.3675 234.381781 \" transform=\"matrix(1,0,0,-1,19.57,238.831)\"/>\n<path style=\"fill:none;stroke-width:0.19925;stroke-linecap:butt;stroke-linejoin:miter;stroke:rgb(50%,50%,50%);stroke-opacity:1;stroke-miterlimit:10;\" d=\"M 0.0003125 -0.00103125 L 4.254219 -0.00103125 M 0.0003125 43.389594 L 4.254219 43.389594 M 0.0003125 86.776313 L 4.254219 86.776313 M 0.0003125 130.163031 L 4.254219 130.163031 M 0.0003125 173.553656 L 4.254219 173.553656 M 0.0003125 216.940375 L 4.254219 216.940375 M 380.3675 -0.00103125 L 376.1175 -0.00103125 M 380.3675 43.389594 L 376.1175 43.389594 M 380.3675 86.776313 L 376.1175 86.776313 M 380.3675 130.163031 L 376.1175 130.163031 M 380.3675 173.553656 L 376.1175 173.553656 M 380.3675 216.940375 L 376.1175 216.940375 \" transform=\"matrix(1,0,0,-1,19.57,238.831)\"/>\n<path style=\"fill:none;stroke-width:0.3985;stroke-linecap:butt;stroke-linejoin:miter;stroke:rgb(0%,0%,0%);stroke-opacity:1;stroke-miterlimit:10;\" d=\"M 0.0003125 -0.00103125 L 0.0003125 238.635688 L 380.3675 238.635688 L 380.3675 -0.00103125 Z M 0.0003125 -0.00103125 \" transform=\"matrix(1,0,0,-1,19.57,238.831)\"/>\n<g style=\"fill:rgb(0%,0%,0%);fill-opacity:1;\">\n  <use xlink:href=\"#glyph-1580969628598074-0-1\" x=\"17.08\" y=\"248.771\"/>\n</g>\n<g style=\"fill:rgb(0%,0%,0%);fill-opacity:1;\">\n  <use xlink:href=\"#glyph-1580969628598074-0-1\" x=\"51.242\" y=\"248.771\"/>\n</g>\n<g style=\"fill:rgb(0%,0%,0%);fill-opacity:1;\">\n  <use xlink:href=\"#glyph-1580969628598074-1-1\" x=\"56.223\" y=\"248.771\"/>\n</g>\n<g style=\"fill:rgb(0%,0%,0%);fill-opacity:1;\">\n  <use xlink:href=\"#glyph-1580969628598074-0-2\" x=\"58.99\" y=\"248.771\"/>\n</g>\n<g style=\"fill:rgb(0%,0%,0%);fill-opacity:1;\">\n  <use xlink:href=\"#glyph-1580969628598074-0-1\" x=\"89.278\" y=\"248.771\"/>\n</g>\n<g style=\"fill:rgb(0%,0%,0%);fill-opacity:1;\">\n  <use xlink:href=\"#glyph-1580969628598074-1-1\" x=\"94.259\" y=\"248.771\"/>\n</g>\n<g style=\"fill:rgb(0%,0%,0%);fill-opacity:1;\">\n  <use xlink:href=\"#glyph-1580969628598074-0-3\" x=\"97.027\" y=\"248.771\"/>\n</g>\n<g style=\"fill:rgb(0%,0%,0%);fill-opacity:1;\">\n  <use xlink:href=\"#glyph-1580969628598074-0-1\" x=\"127.314\" y=\"248.771\"/>\n</g>\n<g style=\"fill:rgb(0%,0%,0%);fill-opacity:1;\">\n  <use xlink:href=\"#glyph-1580969628598074-1-1\" x=\"132.296\" y=\"248.771\"/>\n</g>\n<g style=\"fill:rgb(0%,0%,0%);fill-opacity:1;\">\n  <use xlink:href=\"#glyph-1580969628598074-0-4\" x=\"135.063\" y=\"248.771\"/>\n</g>\n<g style=\"fill:rgb(0%,0%,0%);fill-opacity:1;\">\n  <use xlink:href=\"#glyph-1580969628598074-0-1\" x=\"165.351\" y=\"248.771\"/>\n</g>\n<g style=\"fill:rgb(0%,0%,0%);fill-opacity:1;\">\n  <use xlink:href=\"#glyph-1580969628598074-1-1\" x=\"170.332\" y=\"248.771\"/>\n</g>\n<g style=\"fill:rgb(0%,0%,0%);fill-opacity:1;\">\n  <use xlink:href=\"#glyph-1580969628598074-0-5\" x=\"173.1\" y=\"248.771\"/>\n</g>\n<g style=\"fill:rgb(0%,0%,0%);fill-opacity:1;\">\n  <use xlink:href=\"#glyph-1580969628598074-0-1\" x=\"203.387\" y=\"248.771\"/>\n</g>\n<g style=\"fill:rgb(0%,0%,0%);fill-opacity:1;\">\n  <use xlink:href=\"#glyph-1580969628598074-1-1\" x=\"208.369\" y=\"248.771\"/>\n</g>\n<g style=\"fill:rgb(0%,0%,0%);fill-opacity:1;\">\n  <use xlink:href=\"#glyph-1580969628598074-0-6\" x=\"211.136\" y=\"248.771\"/>\n</g>\n<g style=\"fill:rgb(0%,0%,0%);fill-opacity:1;\">\n  <use xlink:href=\"#glyph-1580969628598074-0-1\" x=\"241.424\" y=\"248.771\"/>\n</g>\n<g style=\"fill:rgb(0%,0%,0%);fill-opacity:1;\">\n  <use xlink:href=\"#glyph-1580969628598074-1-1\" x=\"246.405\" y=\"248.771\"/>\n</g>\n<g style=\"fill:rgb(0%,0%,0%);fill-opacity:1;\">\n  <use xlink:href=\"#glyph-1580969628598074-0-7\" x=\"249.172\" y=\"248.771\"/>\n</g>\n<g style=\"fill:rgb(0%,0%,0%);fill-opacity:1;\">\n  <use xlink:href=\"#glyph-1580969628598074-0-1\" x=\"279.46\" y=\"248.771\"/>\n</g>\n<g style=\"fill:rgb(0%,0%,0%);fill-opacity:1;\">\n  <use xlink:href=\"#glyph-1580969628598074-1-1\" x=\"284.441\" y=\"248.771\"/>\n</g>\n<g style=\"fill:rgb(0%,0%,0%);fill-opacity:1;\">\n  <use xlink:href=\"#glyph-1580969628598074-0-8\" x=\"287.209\" y=\"248.771\"/>\n</g>\n<g style=\"fill:rgb(0%,0%,0%);fill-opacity:1;\">\n  <use xlink:href=\"#glyph-1580969628598074-0-1\" x=\"317.496\" y=\"248.771\"/>\n</g>\n<g style=\"fill:rgb(0%,0%,0%);fill-opacity:1;\">\n  <use xlink:href=\"#glyph-1580969628598074-1-1\" x=\"322.478\" y=\"248.771\"/>\n</g>\n<g style=\"fill:rgb(0%,0%,0%);fill-opacity:1;\">\n  <use xlink:href=\"#glyph-1580969628598074-0-9\" x=\"325.245\" y=\"248.771\"/>\n</g>\n<g style=\"fill:rgb(0%,0%,0%);fill-opacity:1;\">\n  <use xlink:href=\"#glyph-1580969628598074-0-1\" x=\"355.533\" y=\"248.771\"/>\n</g>\n<g style=\"fill:rgb(0%,0%,0%);fill-opacity:1;\">\n  <use xlink:href=\"#glyph-1580969628598074-1-1\" x=\"360.514\" y=\"248.771\"/>\n</g>\n<g style=\"fill:rgb(0%,0%,0%);fill-opacity:1;\">\n  <use xlink:href=\"#glyph-1580969628598074-0-10\" x=\"363.281\" y=\"248.771\"/>\n</g>\n<g style=\"fill:rgb(0%,0%,0%);fill-opacity:1;\">\n  <use xlink:href=\"#glyph-1580969628598074-0-2\" x=\"397.443\" y=\"248.771\"/>\n</g>\n<g style=\"fill:rgb(0%,0%,0%);fill-opacity:1;\">\n  <use xlink:href=\"#glyph-1580969628598074-0-1\" x=\"11.069\" y=\"242.042\"/>\n</g>\n<g style=\"fill:rgb(0%,0%,0%);fill-opacity:1;\">\n  <use xlink:href=\"#glyph-1580969628598074-0-1\" x=\"3.321\" y=\"198.654\"/>\n</g>\n<g style=\"fill:rgb(0%,0%,0%);fill-opacity:1;\">\n  <use xlink:href=\"#glyph-1580969628598074-1-1\" x=\"8.302\" y=\"198.654\"/>\n</g>\n<g style=\"fill:rgb(0%,0%,0%);fill-opacity:1;\">\n  <use xlink:href=\"#glyph-1580969628598074-0-3\" x=\"11.069\" y=\"198.654\"/>\n</g>\n<g style=\"fill:rgb(0%,0%,0%);fill-opacity:1;\">\n  <use xlink:href=\"#glyph-1580969628598074-0-1\" x=\"3.321\" y=\"155.267\"/>\n</g>\n<g style=\"fill:rgb(0%,0%,0%);fill-opacity:1;\">\n  <use xlink:href=\"#glyph-1580969628598074-1-1\" x=\"8.302\" y=\"155.267\"/>\n</g>\n<g style=\"fill:rgb(0%,0%,0%);fill-opacity:1;\">\n  <use xlink:href=\"#glyph-1580969628598074-0-5\" x=\"11.069\" y=\"155.267\"/>\n</g>\n<g style=\"fill:rgb(0%,0%,0%);fill-opacity:1;\">\n  <use xlink:href=\"#glyph-1580969628598074-0-1\" x=\"3.321\" y=\"111.879\"/>\n</g>\n<g style=\"fill:rgb(0%,0%,0%);fill-opacity:1;\">\n  <use xlink:href=\"#glyph-1580969628598074-1-1\" x=\"8.302\" y=\"111.879\"/>\n</g>\n<g style=\"fill:rgb(0%,0%,0%);fill-opacity:1;\">\n  <use xlink:href=\"#glyph-1580969628598074-0-7\" x=\"11.069\" y=\"111.879\"/>\n</g>\n<g style=\"fill:rgb(0%,0%,0%);fill-opacity:1;\">\n  <use xlink:href=\"#glyph-1580969628598074-0-1\" x=\"3.321\" y=\"68.492\"/>\n</g>\n<g style=\"fill:rgb(0%,0%,0%);fill-opacity:1;\">\n  <use xlink:href=\"#glyph-1580969628598074-1-1\" x=\"8.302\" y=\"68.492\"/>\n</g>\n<g style=\"fill:rgb(0%,0%,0%);fill-opacity:1;\">\n  <use xlink:href=\"#glyph-1580969628598074-0-9\" x=\"11.069\" y=\"68.492\"/>\n</g>\n<g style=\"fill:rgb(0%,0%,0%);fill-opacity:1;\">\n  <use xlink:href=\"#glyph-1580969628598074-0-2\" x=\"11.069\" y=\"25.104\"/>\n</g>\n<g clip-path=\"url(#clip-1580969628598074-1)\" clip-rule=\"nonzero\">\n<path style=\"fill:none;stroke-width:0.3985;stroke-linecap:butt;stroke-linejoin:miter;stroke:rgb(0%,0%,100%);stroke-opacity:1;stroke-miterlimit:10;\" d=\"M 0.0003125 216.940375 L 380.3675 216.940375 \" transform=\"matrix(1,0,0,-1,19.57,238.831)\"/>\n</g>\n<path style=\"fill-rule:nonzero;fill:rgb(100%,100%,100%);fill-opacity:1;stroke-width:0.3985;stroke-linecap:butt;stroke-linejoin:miter;stroke:rgb(0%,0%,0%);stroke-opacity:1;stroke-miterlimit:10;\" d=\"M 301.055 216.725531 L 372.558906 216.725531 L 372.558906 233.663031 L 301.055 233.663031 Z M 301.055 216.725531 \" transform=\"matrix(1,0,0,-1,19.57,238.831)\"/>\n<path style=\"fill:none;stroke-width:0.3985;stroke-linecap:butt;stroke-linejoin:miter;stroke:rgb(0%,0%,100%);stroke-opacity:1;stroke-miterlimit:10;\" d=\"M -0.00140625 -0.000625 L 17.006406 -0.000625 \" transform=\"matrix(1,0,0,-1,323.81,13.64)\"/>\n<g style=\"fill:rgb(0%,0%,0%);fill-opacity:1;\">\n  <use xlink:href=\"#glyph-1580969628598074-2-1\" x=\"343.01\" y=\"16.629\"/>\n  <use xlink:href=\"#glyph-1580969628598074-2-2\" x=\"350.063549\" y=\"16.629\"/>\n  <use xlink:href=\"#glyph-1580969628598074-2-3\" x=\"354.486961\" y=\"16.629\"/>\n  <use xlink:href=\"#glyph-1580969628598074-2-4\" x=\"358.362428\" y=\"16.629\"/>\n  <use xlink:href=\"#glyph-1580969628598074-2-5\" x=\"363.343748\" y=\"16.629\"/>\n  <use xlink:href=\"#glyph-1580969628598074-2-6\" x=\"367.219215\" y=\"16.629\"/>\n  <use xlink:href=\"#glyph-1580969628598074-2-7\" x=\"372.200535\" y=\"16.629\"/>\n</g>\n<g style=\"fill:rgb(0%,0%,0%);fill-opacity:1;\">\n  <use xlink:href=\"#glyph-1580969628598074-2-6\" x=\"378.287708\" y=\"16.629\"/>\n  <use xlink:href=\"#glyph-1580969628598074-2-8\" x=\"383.269028\" y=\"16.629\"/>\n</g>\n</g>\n</svg>\n\n"
         },
         "type": "node"
        }
       ],
       "instanceArgs": {
        "handlers": {
         "obs-output": [
          "function (value, scope) {\n    scope.setInnerHTML(value);\n}\n"
         ]
        },
        "id": "3174006897578921807",
        "imports": {
         "data": [],
         "type": "async_block"
        },
        "mount_callbacks": [],
        "observables": {
         "obs-output": {
          "id": "ob_69",
          "sync": false,
          "value": "<?xml version=\"1.0\" encoding=\"UTF-8\"?>\n<svg xmlns=\"http://www.w3.org/2000/svg\" xmlns:xlink=\"http://www.w3.org/1999/xlink\" width=\"405.745pt\" height=\"252.092pt\" viewBox=\"0 0 405.745 252.092\" version=\"1.1\">\n<defs>\n<g>\n<symbol overflow=\"visible\" id=\"glyph-1580969628598074-0-0\">\n<path style=\"stroke:none;\" d=\"\"/>\n</symbol>\n<symbol overflow=\"visible\" id=\"glyph-1580969628598074-0-1\">\n<path style=\"stroke:none;\" d=\"M 4.578125 -3.1875 C 4.578125 -3.984375 4.53125 -4.78125 4.1875 -5.515625 C 3.734375 -6.484375 2.90625 -6.640625 2.5 -6.640625 C 1.890625 -6.640625 1.171875 -6.375 0.75 -5.453125 C 0.4375 -4.765625 0.390625 -3.984375 0.390625 -3.1875 C 0.390625 -2.4375 0.421875 -1.546875 0.84375 -0.78125 C 1.265625 0.015625 2 0.21875 2.484375 0.21875 C 3.015625 0.21875 3.78125 0.015625 4.21875 -0.9375 C 4.53125 -1.625 4.578125 -2.40625 4.578125 -3.1875 Z M 2.484375 0 C 2.09375 0 1.5 -0.25 1.328125 -1.203125 C 1.21875 -1.796875 1.21875 -2.71875 1.21875 -3.3125 C 1.21875 -3.953125 1.21875 -4.609375 1.296875 -5.140625 C 1.484375 -6.328125 2.234375 -6.421875 2.484375 -6.421875 C 2.8125 -6.421875 3.46875 -6.234375 3.65625 -5.25 C 3.765625 -4.6875 3.765625 -3.9375 3.765625 -3.3125 C 3.765625 -2.5625 3.765625 -1.890625 3.65625 -1.25 C 3.5 -0.296875 2.9375 0 2.484375 0 Z M 2.484375 0 \"/>\n</symbol>\n<symbol overflow=\"visible\" id=\"glyph-1580969628598074-0-2\">\n<path style=\"stroke:none;\" d=\"M 2.9375 -6.375 C 2.9375 -6.625 2.9375 -6.640625 2.703125 -6.640625 C 2.078125 -6 1.203125 -6 0.890625 -6 L 0.890625 -5.6875 C 1.09375 -5.6875 1.671875 -5.6875 2.1875 -5.953125 L 2.1875 -0.78125 C 2.1875 -0.421875 2.15625 -0.3125 1.265625 -0.3125 L 0.953125 -0.3125 L 0.953125 0 C 1.296875 -0.03125 2.15625 -0.03125 2.5625 -0.03125 C 2.953125 -0.03125 3.828125 -0.03125 4.171875 0 L 4.171875 -0.3125 L 3.859375 -0.3125 C 2.953125 -0.3125 2.9375 -0.421875 2.9375 -0.78125 Z M 2.9375 -6.375 \"/>\n</symbol>\n<symbol overflow=\"visible\" id=\"glyph-1580969628598074-0-3\">\n<path style=\"stroke:none;\" d=\"M 1.265625 -0.765625 L 2.328125 -1.796875 C 3.875 -3.171875 4.46875 -3.703125 4.46875 -4.703125 C 4.46875 -5.84375 3.578125 -6.640625 2.359375 -6.640625 C 1.234375 -6.640625 0.5 -5.71875 0.5 -4.828125 C 0.5 -4.28125 1 -4.28125 1.03125 -4.28125 C 1.203125 -4.28125 1.546875 -4.390625 1.546875 -4.8125 C 1.546875 -5.0625 1.359375 -5.328125 1.015625 -5.328125 C 0.9375 -5.328125 0.921875 -5.328125 0.890625 -5.3125 C 1.109375 -5.96875 1.65625 -6.328125 2.234375 -6.328125 C 3.140625 -6.328125 3.5625 -5.515625 3.5625 -4.703125 C 3.5625 -3.90625 3.078125 -3.125 2.515625 -2.5 L 0.609375 -0.375 C 0.5 -0.265625 0.5 -0.234375 0.5 0 L 4.203125 0 L 4.46875 -1.734375 L 4.234375 -1.734375 C 4.171875 -1.4375 4.109375 -1 4 -0.84375 C 3.9375 -0.765625 3.28125 -0.765625 3.0625 -0.765625 Z M 1.265625 -0.765625 \"/>\n</symbol>\n<symbol overflow=\"visible\" id=\"glyph-1580969628598074-0-4\">\n<path style=\"stroke:none;\" d=\"M 2.890625 -3.515625 C 3.703125 -3.78125 4.28125 -4.46875 4.28125 -5.265625 C 4.28125 -6.078125 3.40625 -6.640625 2.453125 -6.640625 C 1.453125 -6.640625 0.6875 -6.046875 0.6875 -5.28125 C 0.6875 -4.953125 0.90625 -4.765625 1.203125 -4.765625 C 1.5 -4.765625 1.703125 -4.984375 1.703125 -5.28125 C 1.703125 -5.765625 1.234375 -5.765625 1.09375 -5.765625 C 1.390625 -6.265625 2.046875 -6.390625 2.40625 -6.390625 C 2.828125 -6.390625 3.375 -6.171875 3.375 -5.28125 C 3.375 -5.15625 3.34375 -4.578125 3.09375 -4.140625 C 2.796875 -3.65625 2.453125 -3.625 2.203125 -3.625 C 2.125 -3.609375 1.890625 -3.59375 1.8125 -3.59375 C 1.734375 -3.578125 1.671875 -3.5625 1.671875 -3.46875 C 1.671875 -3.359375 1.734375 -3.359375 1.90625 -3.359375 L 2.34375 -3.359375 C 3.15625 -3.359375 3.53125 -2.6875 3.53125 -1.703125 C 3.53125 -0.34375 2.84375 -0.0625 2.40625 -0.0625 C 1.96875 -0.0625 1.21875 -0.234375 0.875 -0.8125 C 1.21875 -0.765625 1.53125 -0.984375 1.53125 -1.359375 C 1.53125 -1.71875 1.265625 -1.921875 0.984375 -1.921875 C 0.734375 -1.921875 0.421875 -1.78125 0.421875 -1.34375 C 0.421875 -0.4375 1.34375 0.21875 2.4375 0.21875 C 3.65625 0.21875 4.5625 -0.6875 4.5625 -1.703125 C 4.5625 -2.515625 3.921875 -3.296875 2.890625 -3.515625 Z M 2.890625 -3.515625 \"/>\n</symbol>\n<symbol overflow=\"visible\" id=\"glyph-1580969628598074-0-5\">\n<path style=\"stroke:none;\" d=\"M 2.9375 -1.640625 L 2.9375 -0.78125 C 2.9375 -0.421875 2.90625 -0.3125 2.171875 -0.3125 L 1.96875 -0.3125 L 1.96875 0 C 2.375 -0.03125 2.890625 -0.03125 3.3125 -0.03125 C 3.734375 -0.03125 4.25 -0.03125 4.671875 0 L 4.671875 -0.3125 L 4.453125 -0.3125 C 3.71875 -0.3125 3.703125 -0.421875 3.703125 -0.78125 L 3.703125 -1.640625 L 4.6875 -1.640625 L 4.6875 -1.953125 L 3.703125 -1.953125 L 3.703125 -6.484375 C 3.703125 -6.6875 3.703125 -6.75 3.53125 -6.75 C 3.453125 -6.75 3.421875 -6.75 3.34375 -6.625 L 0.28125 -1.953125 L 0.28125 -1.640625 Z M 2.984375 -1.953125 L 0.5625 -1.953125 L 2.984375 -5.671875 Z M 2.984375 -1.953125 \"/>\n</symbol>\n<symbol overflow=\"visible\" id=\"glyph-1580969628598074-0-6\">\n<path style=\"stroke:none;\" d=\"M 4.46875 -2 C 4.46875 -3.1875 3.65625 -4.1875 2.578125 -4.1875 C 2.109375 -4.1875 1.671875 -4.03125 1.3125 -3.671875 L 1.3125 -5.625 C 1.515625 -5.5625 1.84375 -5.5 2.15625 -5.5 C 3.390625 -5.5 4.09375 -6.40625 4.09375 -6.53125 C 4.09375 -6.59375 4.0625 -6.640625 3.984375 -6.640625 C 3.984375 -6.640625 3.953125 -6.640625 3.90625 -6.609375 C 3.703125 -6.515625 3.21875 -6.3125 2.546875 -6.3125 C 2.15625 -6.3125 1.6875 -6.390625 1.21875 -6.59375 C 1.140625 -6.625 1.125 -6.625 1.109375 -6.625 C 1 -6.625 1 -6.546875 1 -6.390625 L 1 -3.4375 C 1 -3.265625 1 -3.1875 1.140625 -3.1875 C 1.21875 -3.1875 1.234375 -3.203125 1.28125 -3.265625 C 1.390625 -3.421875 1.75 -3.96875 2.5625 -3.96875 C 3.078125 -3.96875 3.328125 -3.515625 3.40625 -3.328125 C 3.5625 -2.953125 3.59375 -2.578125 3.59375 -2.078125 C 3.59375 -1.71875 3.59375 -1.125 3.34375 -0.703125 C 3.109375 -0.3125 2.734375 -0.0625 2.28125 -0.0625 C 1.5625 -0.0625 0.984375 -0.59375 0.8125 -1.171875 C 0.84375 -1.171875 0.875 -1.15625 0.984375 -1.15625 C 1.3125 -1.15625 1.484375 -1.40625 1.484375 -1.640625 C 1.484375 -1.890625 1.3125 -2.140625 0.984375 -2.140625 C 0.84375 -2.140625 0.5 -2.0625 0.5 -1.609375 C 0.5 -0.75 1.1875 0.21875 2.296875 0.21875 C 3.453125 0.21875 4.46875 -0.734375 4.46875 -2 Z M 4.46875 -2 \"/>\n</symbol>\n<symbol overflow=\"visible\" id=\"glyph-1580969628598074-0-7\">\n<path style=\"stroke:none;\" d=\"M 1.3125 -3.265625 L 1.3125 -3.515625 C 1.3125 -6.03125 2.546875 -6.390625 3.0625 -6.390625 C 3.296875 -6.390625 3.71875 -6.328125 3.9375 -5.984375 C 3.78125 -5.984375 3.390625 -5.984375 3.390625 -5.546875 C 3.390625 -5.234375 3.625 -5.078125 3.84375 -5.078125 C 4 -5.078125 4.3125 -5.171875 4.3125 -5.5625 C 4.3125 -6.15625 3.875 -6.640625 3.046875 -6.640625 C 1.765625 -6.640625 0.421875 -5.359375 0.421875 -3.15625 C 0.421875 -0.484375 1.578125 0.21875 2.5 0.21875 C 3.609375 0.21875 4.5625 -0.71875 4.5625 -2.03125 C 4.5625 -3.296875 3.671875 -4.25 2.5625 -4.25 C 1.890625 -4.25 1.515625 -3.75 1.3125 -3.265625 Z M 2.5 -0.0625 C 1.875 -0.0625 1.578125 -0.65625 1.515625 -0.8125 C 1.328125 -1.28125 1.328125 -2.078125 1.328125 -2.25 C 1.328125 -3.03125 1.65625 -4.03125 2.546875 -4.03125 C 2.71875 -4.03125 3.171875 -4.03125 3.484375 -3.40625 C 3.65625 -3.046875 3.65625 -2.53125 3.65625 -2.046875 C 3.65625 -1.5625 3.65625 -1.0625 3.484375 -0.703125 C 3.1875 -0.109375 2.734375 -0.0625 2.5 -0.0625 Z M 2.5 -0.0625 \"/>\n</symbol>\n<symbol overflow=\"visible\" id=\"glyph-1580969628598074-0-8\">\n<path style=\"stroke:none;\" d=\"M 4.75 -6.078125 C 4.828125 -6.1875 4.828125 -6.203125 4.828125 -6.421875 L 2.40625 -6.421875 C 1.203125 -6.421875 1.171875 -6.546875 1.140625 -6.734375 L 0.890625 -6.734375 L 0.5625 -4.6875 L 0.8125 -4.6875 C 0.84375 -4.84375 0.921875 -5.46875 1.0625 -5.59375 C 1.125 -5.65625 1.90625 -5.65625 2.03125 -5.65625 L 4.09375 -5.65625 C 3.984375 -5.5 3.203125 -4.40625 2.984375 -4.078125 C 2.078125 -2.734375 1.75 -1.34375 1.75 -0.328125 C 1.75 -0.234375 1.75 0.21875 2.21875 0.21875 C 2.671875 0.21875 2.671875 -0.234375 2.671875 -0.328125 L 2.671875 -0.84375 C 2.671875 -1.390625 2.703125 -1.9375 2.78125 -2.46875 C 2.828125 -2.703125 2.953125 -3.5625 3.40625 -4.171875 Z M 4.75 -6.078125 \"/>\n</symbol>\n<symbol overflow=\"visible\" id=\"glyph-1580969628598074-0-9\">\n<path style=\"stroke:none;\" d=\"M 1.625 -4.5625 C 1.171875 -4.859375 1.125 -5.1875 1.125 -5.359375 C 1.125 -5.96875 1.78125 -6.390625 2.484375 -6.390625 C 3.203125 -6.390625 3.84375 -5.875 3.84375 -5.15625 C 3.84375 -4.578125 3.453125 -4.109375 2.859375 -3.765625 Z M 3.078125 -3.609375 C 3.796875 -3.984375 4.28125 -4.5 4.28125 -5.15625 C 4.28125 -6.078125 3.40625 -6.640625 2.5 -6.640625 C 1.5 -6.640625 0.6875 -5.90625 0.6875 -4.96875 C 0.6875 -4.796875 0.703125 -4.34375 1.125 -3.875 C 1.234375 -3.765625 1.609375 -3.515625 1.859375 -3.34375 C 1.28125 -3.046875 0.421875 -2.5 0.421875 -1.5 C 0.421875 -0.453125 1.4375 0.21875 2.484375 0.21875 C 3.609375 0.21875 4.5625 -0.609375 4.5625 -1.671875 C 4.5625 -2.03125 4.453125 -2.484375 4.0625 -2.90625 C 3.875 -3.109375 3.71875 -3.203125 3.078125 -3.609375 Z M 2.078125 -3.1875 L 3.3125 -2.40625 C 3.59375 -2.21875 4.0625 -1.921875 4.0625 -1.3125 C 4.0625 -0.578125 3.3125 -0.0625 2.5 -0.0625 C 1.640625 -0.0625 0.921875 -0.671875 0.921875 -1.5 C 0.921875 -2.078125 1.234375 -2.71875 2.078125 -3.1875 Z M 2.078125 -3.1875 \"/>\n</symbol>\n<symbol overflow=\"visible\" id=\"glyph-1580969628598074-0-10\">\n<path style=\"stroke:none;\" d=\"M 3.65625 -3.171875 L 3.65625 -2.84375 C 3.65625 -0.515625 2.625 -0.0625 2.046875 -0.0625 C 1.875 -0.0625 1.328125 -0.078125 1.0625 -0.421875 C 1.5 -0.421875 1.578125 -0.703125 1.578125 -0.875 C 1.578125 -1.1875 1.34375 -1.328125 1.125 -1.328125 C 0.96875 -1.328125 0.671875 -1.25 0.671875 -0.859375 C 0.671875 -0.1875 1.203125 0.21875 2.046875 0.21875 C 3.34375 0.21875 4.5625 -1.140625 4.5625 -3.28125 C 4.5625 -5.96875 3.40625 -6.640625 2.515625 -6.640625 C 1.96875 -6.640625 1.484375 -6.453125 1.0625 -6.015625 C 0.640625 -5.5625 0.421875 -5.140625 0.421875 -4.390625 C 0.421875 -3.15625 1.296875 -2.171875 2.40625 -2.171875 C 3.015625 -2.171875 3.421875 -2.59375 3.65625 -3.171875 Z M 2.421875 -2.40625 C 2.265625 -2.40625 1.796875 -2.40625 1.5 -3.03125 C 1.3125 -3.40625 1.3125 -3.890625 1.3125 -4.390625 C 1.3125 -4.921875 1.3125 -5.390625 1.53125 -5.765625 C 1.796875 -6.265625 2.171875 -6.390625 2.515625 -6.390625 C 2.984375 -6.390625 3.3125 -6.046875 3.484375 -5.609375 C 3.59375 -5.28125 3.640625 -4.65625 3.640625 -4.203125 C 3.640625 -3.375 3.296875 -2.40625 2.421875 -2.40625 Z M 2.421875 -2.40625 \"/>\n</symbol>\n<symbol overflow=\"visible\" id=\"glyph-1580969628598074-1-0\">\n<path style=\"stroke:none;\" d=\"\"/>\n</symbol>\n<symbol overflow=\"visible\" id=\"glyph-1580969628598074-1-1\">\n<path style=\"stroke:none;\" d=\"M 1.90625 -0.53125 C 1.90625 -0.8125 1.671875 -1.0625 1.390625 -1.0625 C 1.09375 -1.0625 0.859375 -0.8125 0.859375 -0.53125 C 0.859375 -0.234375 1.09375 0 1.390625 0 C 1.671875 0 1.90625 -0.234375 1.90625 -0.53125 Z M 1.90625 -0.53125 \"/>\n</symbol>\n<symbol overflow=\"visible\" id=\"glyph-1580969628598074-2-0\">\n<path style=\"stroke:none;\" d=\"\"/>\n</symbol>\n<symbol overflow=\"visible\" id=\"glyph-1580969628598074-2-1\">\n<path style=\"stroke:none;\" d=\"M 6.484375 -1.828125 C 6.484375 -2.6875 5.671875 -3.4375 4.5625 -3.5625 C 5.53125 -3.75 6.21875 -4.390625 6.21875 -5.125 C 6.21875 -5.984375 5.296875 -6.8125 4 -6.8125 L 0.359375 -6.8125 L 0.359375 -6.5 L 0.59375 -6.5 C 1.359375 -6.5 1.390625 -6.390625 1.390625 -6.03125 L 1.390625 -0.78125 C 1.390625 -0.421875 1.359375 -0.3125 0.59375 -0.3125 L 0.359375 -0.3125 L 0.359375 0 L 4.265625 0 C 5.59375 0 6.484375 -0.890625 6.484375 -1.828125 Z M 5.25 -5.125 C 5.25 -4.484375 4.765625 -3.65625 3.65625 -3.65625 L 2.21875 -3.65625 L 2.21875 -6.09375 C 2.21875 -6.4375 2.234375 -6.5 2.703125 -6.5 L 3.9375 -6.5 C 4.90625 -6.5 5.25 -5.65625 5.25 -5.125 Z M 5.5 -1.828125 C 5.5 -1.125 4.96875 -0.3125 3.953125 -0.3125 L 2.703125 -0.3125 C 2.234375 -0.3125 2.21875 -0.375 2.21875 -0.703125 L 2.21875 -3.421875 L 4.09375 -3.421875 C 5.078125 -3.421875 5.5 -2.5 5.5 -1.828125 Z M 5.5 -1.828125 \"/>\n</symbol>\n<symbol overflow=\"visible\" id=\"glyph-1580969628598074-2-2\">\n<path style=\"stroke:none;\" d=\"M 4.140625 -1.1875 C 4.140625 -1.28125 4.0625 -1.3125 4 -1.3125 C 3.921875 -1.3125 3.890625 -1.25 3.875 -1.171875 C 3.53125 -0.140625 2.625 -0.140625 2.53125 -0.140625 C 2.03125 -0.140625 1.640625 -0.4375 1.40625 -0.8125 C 1.109375 -1.28125 1.109375 -1.9375 1.109375 -2.296875 L 3.890625 -2.296875 C 4.109375 -2.296875 4.140625 -2.296875 4.140625 -2.515625 C 4.140625 -3.5 3.59375 -4.46875 2.359375 -4.46875 C 1.203125 -4.46875 0.28125 -3.4375 0.28125 -2.1875 C 0.28125 -0.859375 1.328125 0.109375 2.46875 0.109375 C 3.6875 0.109375 4.140625 -1 4.140625 -1.1875 Z M 3.484375 -2.515625 L 1.109375 -2.515625 C 1.171875 -4 2.015625 -4.25 2.359375 -4.25 C 3.375 -4.25 3.484375 -2.90625 3.484375 -2.515625 Z M 3.484375 -2.515625 \"/>\n</symbol>\n<symbol overflow=\"visible\" id=\"glyph-1580969628598074-2-3\">\n<path style=\"stroke:none;\" d=\"M 3.3125 -1.234375 L 3.3125 -1.796875 L 3.0625 -1.796875 L 3.0625 -1.25 C 3.0625 -0.515625 2.765625 -0.140625 2.390625 -0.140625 C 1.71875 -0.140625 1.71875 -1.046875 1.71875 -1.21875 L 1.71875 -3.984375 L 3.15625 -3.984375 L 3.15625 -4.296875 L 1.71875 -4.296875 L 1.71875 -6.125 L 1.46875 -6.125 C 1.46875 -5.3125 1.171875 -4.25 0.1875 -4.203125 L 0.1875 -3.984375 L 1.03125 -3.984375 L 1.03125 -1.234375 C 1.03125 -0.015625 1.96875 0.109375 2.328125 0.109375 C 3.03125 0.109375 3.3125 -0.59375 3.3125 -1.234375 Z M 3.3125 -1.234375 \"/>\n</symbol>\n<symbol overflow=\"visible\" id=\"glyph-1580969628598074-2-4\">\n<path style=\"stroke:none;\" d=\"M 4.8125 -0.890625 L 4.8125 -1.453125 L 4.5625 -1.453125 L 4.5625 -0.890625 C 4.5625 -0.3125 4.3125 -0.25 4.203125 -0.25 C 3.875 -0.25 3.84375 -0.703125 3.84375 -0.75 L 3.84375 -2.734375 C 3.84375 -3.15625 3.84375 -3.546875 3.484375 -3.921875 C 3.09375 -4.3125 2.59375 -4.46875 2.109375 -4.46875 C 1.296875 -4.46875 0.609375 -4 0.609375 -3.34375 C 0.609375 -3.046875 0.8125 -2.875 1.0625 -2.875 C 1.34375 -2.875 1.53125 -3.078125 1.53125 -3.328125 C 1.53125 -3.453125 1.46875 -3.78125 1.015625 -3.78125 C 1.28125 -4.140625 1.78125 -4.25 2.09375 -4.25 C 2.578125 -4.25 3.15625 -3.859375 3.15625 -2.96875 L 3.15625 -2.609375 C 2.640625 -2.578125 1.9375 -2.546875 1.3125 -2.25 C 0.5625 -1.90625 0.3125 -1.390625 0.3125 -0.953125 C 0.3125 -0.140625 1.28125 0.109375 1.90625 0.109375 C 2.578125 0.109375 3.03125 -0.296875 3.21875 -0.75 C 3.265625 -0.359375 3.53125 0.0625 4 0.0625 C 4.203125 0.0625 4.8125 -0.078125 4.8125 -0.890625 Z M 3.15625 -1.390625 C 3.15625 -0.453125 2.4375 -0.109375 1.984375 -0.109375 C 1.5 -0.109375 1.09375 -0.453125 1.09375 -0.953125 C 1.09375 -1.5 1.5 -2.328125 3.15625 -2.390625 Z M 3.15625 -1.390625 \"/>\n</symbol>\n<symbol overflow=\"visible\" id=\"glyph-1580969628598074-2-5\">\n<path style=\"stroke:none;\" d=\"M 3.296875 2.390625 C 3.296875 2.359375 3.296875 2.34375 3.125 2.171875 C 1.890625 0.921875 1.5625 -0.96875 1.5625 -2.5 C 1.5625 -4.234375 1.9375 -5.96875 3.171875 -7.203125 C 3.296875 -7.328125 3.296875 -7.34375 3.296875 -7.375 C 3.296875 -7.453125 3.265625 -7.484375 3.203125 -7.484375 C 3.09375 -7.484375 2.203125 -6.796875 1.609375 -5.53125 C 1.109375 -4.4375 0.984375 -3.328125 0.984375 -2.5 C 0.984375 -1.71875 1.09375 -0.515625 1.640625 0.625 C 2.25 1.84375 3.09375 2.5 3.203125 2.5 C 3.265625 2.5 3.296875 2.46875 3.296875 2.390625 Z M 3.296875 2.390625 \"/>\n</symbol>\n<symbol overflow=\"visible\" id=\"glyph-1580969628598074-2-6\">\n<path style=\"stroke:none;\" d=\"M 4.171875 0 L 4.171875 -0.3125 L 3.859375 -0.3125 C 2.953125 -0.3125 2.9375 -0.421875 2.9375 -0.78125 L 2.9375 -6.375 C 2.9375 -6.625 2.9375 -6.640625 2.703125 -6.640625 C 2.078125 -6 1.203125 -6 0.890625 -6 L 0.890625 -5.6875 C 1.09375 -5.6875 1.671875 -5.6875 2.1875 -5.953125 L 2.1875 -0.78125 C 2.1875 -0.421875 2.15625 -0.3125 1.265625 -0.3125 L 0.953125 -0.3125 L 0.953125 0 C 1.296875 -0.03125 2.15625 -0.03125 2.5625 -0.03125 C 2.953125 -0.03125 3.828125 -0.03125 4.171875 0 Z M 4.171875 0 \"/>\n</symbol>\n<symbol overflow=\"visible\" id=\"glyph-1580969628598074-2-7\">\n<path style=\"stroke:none;\" d=\"M 2.03125 -0.015625 C 2.03125 -0.640625 1.78125 -1.0625 1.390625 -1.0625 C 1.03125 -1.0625 0.859375 -0.78125 0.859375 -0.53125 C 0.859375 -0.265625 1.03125 0 1.390625 0 C 1.53125 0 1.671875 -0.0625 1.78125 -0.15625 C 1.796875 0.625 1.53125 1.234375 1.09375 1.703125 C 1.03125 1.765625 1.015625 1.78125 1.015625 1.8125 C 1.015625 1.890625 1.0625 1.921875 1.109375 1.921875 C 1.234375 1.921875 2.03125 1.140625 2.03125 -0.015625 Z M 2.03125 -0.015625 \"/>\n</symbol>\n<symbol overflow=\"visible\" id=\"glyph-1580969628598074-2-8\">\n<path style=\"stroke:none;\" d=\"M 2.875 -2.5 C 2.875 -3.265625 2.765625 -4.46875 2.21875 -5.609375 C 1.625 -6.828125 0.765625 -7.484375 0.671875 -7.484375 C 0.609375 -7.484375 0.5625 -7.4375 0.5625 -7.375 C 0.5625 -7.34375 0.5625 -7.328125 0.75 -7.140625 C 1.734375 -6.15625 2.296875 -4.578125 2.296875 -2.5 C 2.296875 -0.78125 1.9375 0.96875 0.703125 2.21875 C 0.5625 2.34375 0.5625 2.359375 0.5625 2.390625 C 0.5625 2.453125 0.609375 2.5 0.671875 2.5 C 0.765625 2.5 1.671875 1.8125 2.25 0.546875 C 2.765625 -0.546875 2.875 -1.65625 2.875 -2.5 Z M 2.875 -2.5 \"/>\n</symbol>\n</g>\n<clipPath id=\"clip-1580969628598074-1\">\n  <path d=\"M 19.570312 21 L 399.9375 21 L 399.9375 23 L 19.570312 23 Z M 19.570312 21 \"/>\n</clipPath>\n</defs>\n<g id=\"surface1\">\n<path style=\"fill:none;stroke-width:0.19925;stroke-linecap:butt;stroke-linejoin:miter;stroke:rgb(50%,50%,50%);stroke-opacity:1;stroke-miterlimit:10;\" d=\"M 0.0003125 -0.00103125 L 0.0003125 4.252875 M 38.035469 -0.00103125 L 38.035469 4.252875 M 76.074531 -0.00103125 L 76.074531 4.252875 M 114.109688 -0.00103125 L 114.109688 4.252875 M 152.14875 -0.00103125 L 152.14875 4.252875 M 190.183906 -0.00103125 L 190.183906 4.252875 M 228.222969 -0.00103125 L 228.222969 4.252875 M 266.258125 -0.00103125 L 266.258125 4.252875 M 304.293281 -0.00103125 L 304.293281 4.252875 M 342.332344 -0.00103125 L 342.332344 4.252875 M 380.3675 -0.00103125 L 380.3675 4.252875 M 0.0003125 238.635688 L 0.0003125 234.381781 M 38.035469 238.635688 L 38.035469 234.381781 M 76.074531 238.635688 L 76.074531 234.381781 M 114.109688 238.635688 L 114.109688 234.381781 M 152.14875 238.635688 L 152.14875 234.381781 M 190.183906 238.635688 L 190.183906 234.381781 M 228.222969 238.635688 L 228.222969 234.381781 M 266.258125 238.635688 L 266.258125 234.381781 M 304.293281 238.635688 L 304.293281 234.381781 M 342.332344 238.635688 L 342.332344 234.381781 M 380.3675 238.635688 L 380.3675 234.381781 \" transform=\"matrix(1,0,0,-1,19.57,238.831)\"/>\n<path style=\"fill:none;stroke-width:0.19925;stroke-linecap:butt;stroke-linejoin:miter;stroke:rgb(50%,50%,50%);stroke-opacity:1;stroke-miterlimit:10;\" d=\"M 0.0003125 -0.00103125 L 4.254219 -0.00103125 M 0.0003125 43.389594 L 4.254219 43.389594 M 0.0003125 86.776313 L 4.254219 86.776313 M 0.0003125 130.163031 L 4.254219 130.163031 M 0.0003125 173.553656 L 4.254219 173.553656 M 0.0003125 216.940375 L 4.254219 216.940375 M 380.3675 -0.00103125 L 376.1175 -0.00103125 M 380.3675 43.389594 L 376.1175 43.389594 M 380.3675 86.776313 L 376.1175 86.776313 M 380.3675 130.163031 L 376.1175 130.163031 M 380.3675 173.553656 L 376.1175 173.553656 M 380.3675 216.940375 L 376.1175 216.940375 \" transform=\"matrix(1,0,0,-1,19.57,238.831)\"/>\n<path style=\"fill:none;stroke-width:0.3985;stroke-linecap:butt;stroke-linejoin:miter;stroke:rgb(0%,0%,0%);stroke-opacity:1;stroke-miterlimit:10;\" d=\"M 0.0003125 -0.00103125 L 0.0003125 238.635688 L 380.3675 238.635688 L 380.3675 -0.00103125 Z M 0.0003125 -0.00103125 \" transform=\"matrix(1,0,0,-1,19.57,238.831)\"/>\n<g style=\"fill:rgb(0%,0%,0%);fill-opacity:1;\">\n  <use xlink:href=\"#glyph-1580969628598074-0-1\" x=\"17.08\" y=\"248.771\"/>\n</g>\n<g style=\"fill:rgb(0%,0%,0%);fill-opacity:1;\">\n  <use xlink:href=\"#glyph-1580969628598074-0-1\" x=\"51.242\" y=\"248.771\"/>\n</g>\n<g style=\"fill:rgb(0%,0%,0%);fill-opacity:1;\">\n  <use xlink:href=\"#glyph-1580969628598074-1-1\" x=\"56.223\" y=\"248.771\"/>\n</g>\n<g style=\"fill:rgb(0%,0%,0%);fill-opacity:1;\">\n  <use xlink:href=\"#glyph-1580969628598074-0-2\" x=\"58.99\" y=\"248.771\"/>\n</g>\n<g style=\"fill:rgb(0%,0%,0%);fill-opacity:1;\">\n  <use xlink:href=\"#glyph-1580969628598074-0-1\" x=\"89.278\" y=\"248.771\"/>\n</g>\n<g style=\"fill:rgb(0%,0%,0%);fill-opacity:1;\">\n  <use xlink:href=\"#glyph-1580969628598074-1-1\" x=\"94.259\" y=\"248.771\"/>\n</g>\n<g style=\"fill:rgb(0%,0%,0%);fill-opacity:1;\">\n  <use xlink:href=\"#glyph-1580969628598074-0-3\" x=\"97.027\" y=\"248.771\"/>\n</g>\n<g style=\"fill:rgb(0%,0%,0%);fill-opacity:1;\">\n  <use xlink:href=\"#glyph-1580969628598074-0-1\" x=\"127.314\" y=\"248.771\"/>\n</g>\n<g style=\"fill:rgb(0%,0%,0%);fill-opacity:1;\">\n  <use xlink:href=\"#glyph-1580969628598074-1-1\" x=\"132.296\" y=\"248.771\"/>\n</g>\n<g style=\"fill:rgb(0%,0%,0%);fill-opacity:1;\">\n  <use xlink:href=\"#glyph-1580969628598074-0-4\" x=\"135.063\" y=\"248.771\"/>\n</g>\n<g style=\"fill:rgb(0%,0%,0%);fill-opacity:1;\">\n  <use xlink:href=\"#glyph-1580969628598074-0-1\" x=\"165.351\" y=\"248.771\"/>\n</g>\n<g style=\"fill:rgb(0%,0%,0%);fill-opacity:1;\">\n  <use xlink:href=\"#glyph-1580969628598074-1-1\" x=\"170.332\" y=\"248.771\"/>\n</g>\n<g style=\"fill:rgb(0%,0%,0%);fill-opacity:1;\">\n  <use xlink:href=\"#glyph-1580969628598074-0-5\" x=\"173.1\" y=\"248.771\"/>\n</g>\n<g style=\"fill:rgb(0%,0%,0%);fill-opacity:1;\">\n  <use xlink:href=\"#glyph-1580969628598074-0-1\" x=\"203.387\" y=\"248.771\"/>\n</g>\n<g style=\"fill:rgb(0%,0%,0%);fill-opacity:1;\">\n  <use xlink:href=\"#glyph-1580969628598074-1-1\" x=\"208.369\" y=\"248.771\"/>\n</g>\n<g style=\"fill:rgb(0%,0%,0%);fill-opacity:1;\">\n  <use xlink:href=\"#glyph-1580969628598074-0-6\" x=\"211.136\" y=\"248.771\"/>\n</g>\n<g style=\"fill:rgb(0%,0%,0%);fill-opacity:1;\">\n  <use xlink:href=\"#glyph-1580969628598074-0-1\" x=\"241.424\" y=\"248.771\"/>\n</g>\n<g style=\"fill:rgb(0%,0%,0%);fill-opacity:1;\">\n  <use xlink:href=\"#glyph-1580969628598074-1-1\" x=\"246.405\" y=\"248.771\"/>\n</g>\n<g style=\"fill:rgb(0%,0%,0%);fill-opacity:1;\">\n  <use xlink:href=\"#glyph-1580969628598074-0-7\" x=\"249.172\" y=\"248.771\"/>\n</g>\n<g style=\"fill:rgb(0%,0%,0%);fill-opacity:1;\">\n  <use xlink:href=\"#glyph-1580969628598074-0-1\" x=\"279.46\" y=\"248.771\"/>\n</g>\n<g style=\"fill:rgb(0%,0%,0%);fill-opacity:1;\">\n  <use xlink:href=\"#glyph-1580969628598074-1-1\" x=\"284.441\" y=\"248.771\"/>\n</g>\n<g style=\"fill:rgb(0%,0%,0%);fill-opacity:1;\">\n  <use xlink:href=\"#glyph-1580969628598074-0-8\" x=\"287.209\" y=\"248.771\"/>\n</g>\n<g style=\"fill:rgb(0%,0%,0%);fill-opacity:1;\">\n  <use xlink:href=\"#glyph-1580969628598074-0-1\" x=\"317.496\" y=\"248.771\"/>\n</g>\n<g style=\"fill:rgb(0%,0%,0%);fill-opacity:1;\">\n  <use xlink:href=\"#glyph-1580969628598074-1-1\" x=\"322.478\" y=\"248.771\"/>\n</g>\n<g style=\"fill:rgb(0%,0%,0%);fill-opacity:1;\">\n  <use xlink:href=\"#glyph-1580969628598074-0-9\" x=\"325.245\" y=\"248.771\"/>\n</g>\n<g style=\"fill:rgb(0%,0%,0%);fill-opacity:1;\">\n  <use xlink:href=\"#glyph-1580969628598074-0-1\" x=\"355.533\" y=\"248.771\"/>\n</g>\n<g style=\"fill:rgb(0%,0%,0%);fill-opacity:1;\">\n  <use xlink:href=\"#glyph-1580969628598074-1-1\" x=\"360.514\" y=\"248.771\"/>\n</g>\n<g style=\"fill:rgb(0%,0%,0%);fill-opacity:1;\">\n  <use xlink:href=\"#glyph-1580969628598074-0-10\" x=\"363.281\" y=\"248.771\"/>\n</g>\n<g style=\"fill:rgb(0%,0%,0%);fill-opacity:1;\">\n  <use xlink:href=\"#glyph-1580969628598074-0-2\" x=\"397.443\" y=\"248.771\"/>\n</g>\n<g style=\"fill:rgb(0%,0%,0%);fill-opacity:1;\">\n  <use xlink:href=\"#glyph-1580969628598074-0-1\" x=\"11.069\" y=\"242.042\"/>\n</g>\n<g style=\"fill:rgb(0%,0%,0%);fill-opacity:1;\">\n  <use xlink:href=\"#glyph-1580969628598074-0-1\" x=\"3.321\" y=\"198.654\"/>\n</g>\n<g style=\"fill:rgb(0%,0%,0%);fill-opacity:1;\">\n  <use xlink:href=\"#glyph-1580969628598074-1-1\" x=\"8.302\" y=\"198.654\"/>\n</g>\n<g style=\"fill:rgb(0%,0%,0%);fill-opacity:1;\">\n  <use xlink:href=\"#glyph-1580969628598074-0-3\" x=\"11.069\" y=\"198.654\"/>\n</g>\n<g style=\"fill:rgb(0%,0%,0%);fill-opacity:1;\">\n  <use xlink:href=\"#glyph-1580969628598074-0-1\" x=\"3.321\" y=\"155.267\"/>\n</g>\n<g style=\"fill:rgb(0%,0%,0%);fill-opacity:1;\">\n  <use xlink:href=\"#glyph-1580969628598074-1-1\" x=\"8.302\" y=\"155.267\"/>\n</g>\n<g style=\"fill:rgb(0%,0%,0%);fill-opacity:1;\">\n  <use xlink:href=\"#glyph-1580969628598074-0-5\" x=\"11.069\" y=\"155.267\"/>\n</g>\n<g style=\"fill:rgb(0%,0%,0%);fill-opacity:1;\">\n  <use xlink:href=\"#glyph-1580969628598074-0-1\" x=\"3.321\" y=\"111.879\"/>\n</g>\n<g style=\"fill:rgb(0%,0%,0%);fill-opacity:1;\">\n  <use xlink:href=\"#glyph-1580969628598074-1-1\" x=\"8.302\" y=\"111.879\"/>\n</g>\n<g style=\"fill:rgb(0%,0%,0%);fill-opacity:1;\">\n  <use xlink:href=\"#glyph-1580969628598074-0-7\" x=\"11.069\" y=\"111.879\"/>\n</g>\n<g style=\"fill:rgb(0%,0%,0%);fill-opacity:1;\">\n  <use xlink:href=\"#glyph-1580969628598074-0-1\" x=\"3.321\" y=\"68.492\"/>\n</g>\n<g style=\"fill:rgb(0%,0%,0%);fill-opacity:1;\">\n  <use xlink:href=\"#glyph-1580969628598074-1-1\" x=\"8.302\" y=\"68.492\"/>\n</g>\n<g style=\"fill:rgb(0%,0%,0%);fill-opacity:1;\">\n  <use xlink:href=\"#glyph-1580969628598074-0-9\" x=\"11.069\" y=\"68.492\"/>\n</g>\n<g style=\"fill:rgb(0%,0%,0%);fill-opacity:1;\">\n  <use xlink:href=\"#glyph-1580969628598074-0-2\" x=\"11.069\" y=\"25.104\"/>\n</g>\n<g clip-path=\"url(#clip-1580969628598074-1)\" clip-rule=\"nonzero\">\n<path style=\"fill:none;stroke-width:0.3985;stroke-linecap:butt;stroke-linejoin:miter;stroke:rgb(0%,0%,100%);stroke-opacity:1;stroke-miterlimit:10;\" d=\"M 0.0003125 216.940375 L 380.3675 216.940375 \" transform=\"matrix(1,0,0,-1,19.57,238.831)\"/>\n</g>\n<path style=\"fill-rule:nonzero;fill:rgb(100%,100%,100%);fill-opacity:1;stroke-width:0.3985;stroke-linecap:butt;stroke-linejoin:miter;stroke:rgb(0%,0%,0%);stroke-opacity:1;stroke-miterlimit:10;\" d=\"M 301.055 216.725531 L 372.558906 216.725531 L 372.558906 233.663031 L 301.055 233.663031 Z M 301.055 216.725531 \" transform=\"matrix(1,0,0,-1,19.57,238.831)\"/>\n<path style=\"fill:none;stroke-width:0.3985;stroke-linecap:butt;stroke-linejoin:miter;stroke:rgb(0%,0%,100%);stroke-opacity:1;stroke-miterlimit:10;\" d=\"M -0.00140625 -0.000625 L 17.006406 -0.000625 \" transform=\"matrix(1,0,0,-1,323.81,13.64)\"/>\n<g style=\"fill:rgb(0%,0%,0%);fill-opacity:1;\">\n  <use xlink:href=\"#glyph-1580969628598074-2-1\" x=\"343.01\" y=\"16.629\"/>\n  <use xlink:href=\"#glyph-1580969628598074-2-2\" x=\"350.063549\" y=\"16.629\"/>\n  <use xlink:href=\"#glyph-1580969628598074-2-3\" x=\"354.486961\" y=\"16.629\"/>\n  <use xlink:href=\"#glyph-1580969628598074-2-4\" x=\"358.362428\" y=\"16.629\"/>\n  <use xlink:href=\"#glyph-1580969628598074-2-5\" x=\"363.343748\" y=\"16.629\"/>\n  <use xlink:href=\"#glyph-1580969628598074-2-6\" x=\"367.219215\" y=\"16.629\"/>\n  <use xlink:href=\"#glyph-1580969628598074-2-7\" x=\"372.200535\" y=\"16.629\"/>\n</g>\n<g style=\"fill:rgb(0%,0%,0%);fill-opacity:1;\">\n  <use xlink:href=\"#glyph-1580969628598074-2-6\" x=\"378.287708\" y=\"16.629\"/>\n  <use xlink:href=\"#glyph-1580969628598074-2-8\" x=\"383.269028\" y=\"16.629\"/>\n</g>\n</g>\n</svg>\n\n"
         }
        },
        "systemjs_options": null
       },
       "nodeType": "Scope",
       "props": {},
       "type": "node"
      },
      "text/html": [
       "<div\n",
       "    class=\"webio-mountpoint\"\n",
       "    data-webio-mountpoint=\"16178259791980279403\"\n",
       ">\n",
       "    <script>\n",
       "    if (window.require && require.defined && require.defined(\"nbextensions/webio-jupyter-notebook\")) {\n",
       "        console.log(\"Jupyter WebIO extension detected, not mounting.\");\n",
       "    } else if (window.WebIO) {\n",
       "        WebIO.mount(\n",
       "            document.querySelector('[data-webio-mountpoint=\"16178259791980279403\"]'),\n",
       "            {\"props\":{},\"nodeType\":\"Scope\",\"type\":\"node\",\"instanceArgs\":{\"imports\":{\"data\":[],\"type\":\"async_block\"},\"id\":\"17322061182181276391\",\"handlers\":{\"obs-output\":[\"function (value, scope) {\\n    scope.setInnerHTML(value);\\n}\\n\"]},\"systemjs_options\":null,\"mount_callbacks\":[],\"observables\":{\"obs-output\":{\"sync\":false,\"id\":\"ob_68\",\"value\":\"<?xml version=\\\"1.0\\\" encoding=\\\"UTF-8\\\"?>\\n<svg xmlns=\\\"http:\\/\\/www.w3.org\\/2000\\/svg\\\" xmlns:xlink=\\\"http:\\/\\/www.w3.org\\/1999\\/xlink\\\" width=\\\"405.745pt\\\" height=\\\"252.092pt\\\" viewBox=\\\"0 0 405.745 252.092\\\" version=\\\"1.1\\\">\\n<defs>\\n<g>\\n<symbol overflow=\\\"visible\\\" id=\\\"glyph-1580969628598073-0-0\\\">\\n<path style=\\\"stroke:none;\\\" d=\\\"\\\"\\/>\\n<\\/symbol>\\n<symbol overflow=\\\"visible\\\" id=\\\"glyph-1580969628598073-0-1\\\">\\n<path style=\\\"stroke:none;\\\" d=\\\"M 4.578125 -3.1875 C 4.578125 -3.984375 4.53125 -4.78125 4.1875 -5.515625 C 3.734375 -6.484375 2.90625 -6.640625 2.5 -6.640625 C 1.890625 -6.640625 1.171875 -6.375 0.75 -5.453125 C 0.4375 -4.765625 0.390625 -3.984375 0.390625 -3.1875 C 0.390625 -2.4375 0.421875 -1.546875 0.84375 -0.78125 C 1.265625 0.015625 2 0.21875 2.484375 0.21875 C 3.015625 0.21875 3.78125 0.015625 4.21875 -0.9375 C 4.53125 -1.625 4.578125 -2.40625 4.578125 -3.1875 Z M 2.484375 0 C 2.09375 0 1.5 -0.25 1.328125 -1.203125 C 1.21875 -1.796875 1.21875 -2.71875 1.21875 -3.3125 C 1.21875 -3.953125 1.21875 -4.609375 1.296875 -5.140625 C 1.484375 -6.328125 2.234375 -6.421875 2.484375 -6.421875 C 2.8125 -6.421875 3.46875 -6.234375 3.65625 -5.25 C 3.765625 -4.6875 3.765625 -3.9375 3.765625 -3.3125 C 3.765625 -2.5625 3.765625 -1.890625 3.65625 -1.25 C 3.5 -0.296875 2.9375 0 2.484375 0 Z M 2.484375 0 \\\"\\/>\\n<\\/symbol>\\n<symbol overflow=\\\"visible\\\" id=\\\"glyph-1580969628598073-0-2\\\">\\n<path style=\\\"stroke:none;\\\" d=\\\"M 2.9375 -6.375 C 2.9375 -6.625 2.9375 -6.640625 2.703125 -6.640625 C 2.078125 -6 1.203125 -6 0.890625 -6 L 0.890625 -5.6875 C 1.09375 -5.6875 1.671875 -5.6875 2.1875 -5.953125 L 2.1875 -0.78125 C 2.1875 -0.421875 2.15625 -0.3125 1.265625 -0.3125 L 0.953125 -0.3125 L 0.953125 0 C 1.296875 -0.03125 2.15625 -0.03125 2.5625 -0.03125 C 2.953125 -0.03125 3.828125 -0.03125 4.171875 0 L 4.171875 -0.3125 L 3.859375 -0.3125 C 2.953125 -0.3125 2.9375 -0.421875 2.9375 -0.78125 Z M 2.9375 -6.375 \\\"\\/>\\n<\\/symbol>\\n<symbol overflow=\\\"visible\\\" id=\\\"glyph-1580969628598073-0-3\\\">\\n<path style=\\\"stroke:none;\\\" d=\\\"M 1.265625 -0.765625 L 2.328125 -1.796875 C 3.875 -3.171875 4.46875 -3.703125 4.46875 -4.703125 C 4.46875 -5.84375 3.578125 -6.640625 2.359375 -6.640625 C 1.234375 -6.640625 0.5 -5.71875 0.5 -4.828125 C 0.5 -4.28125 1 -4.28125 1.03125 -4.28125 C 1.203125 -4.28125 1.546875 -4.390625 1.546875 -4.8125 C 1.546875 -5.0625 1.359375 -5.328125 1.015625 -5.328125 C 0.9375 -5.328125 0.921875 -5.328125 0.890625 -5.3125 C 1.109375 -5.96875 1.65625 -6.328125 2.234375 -6.328125 C 3.140625 -6.328125 3.5625 -5.515625 3.5625 -4.703125 C 3.5625 -3.90625 3.078125 -3.125 2.515625 -2.5 L 0.609375 -0.375 C 0.5 -0.265625 0.5 -0.234375 0.5 0 L 4.203125 0 L 4.46875 -1.734375 L 4.234375 -1.734375 C 4.171875 -1.4375 4.109375 -1 4 -0.84375 C 3.9375 -0.765625 3.28125 -0.765625 3.0625 -0.765625 Z M 1.265625 -0.765625 \\\"\\/>\\n<\\/symbol>\\n<symbol overflow=\\\"visible\\\" id=\\\"glyph-1580969628598073-0-4\\\">\\n<path style=\\\"stroke:none;\\\" d=\\\"M 2.890625 -3.515625 C 3.703125 -3.78125 4.28125 -4.46875 4.28125 -5.265625 C 4.28125 -6.078125 3.40625 -6.640625 2.453125 -6.640625 C 1.453125 -6.640625 0.6875 -6.046875 0.6875 -5.28125 C 0.6875 -4.953125 0.90625 -4.765625 1.203125 -4.765625 C 1.5 -4.765625 1.703125 -4.984375 1.703125 -5.28125 C 1.703125 -5.765625 1.234375 -5.765625 1.09375 -5.765625 C 1.390625 -6.265625 2.046875 -6.390625 2.40625 -6.390625 C 2.828125 -6.390625 3.375 -6.171875 3.375 -5.28125 C 3.375 -5.15625 3.34375 -4.578125 3.09375 -4.140625 C 2.796875 -3.65625 2.453125 -3.625 2.203125 -3.625 C 2.125 -3.609375 1.890625 -3.59375 1.8125 -3.59375 C 1.734375 -3.578125 1.671875 -3.5625 1.671875 -3.46875 C 1.671875 -3.359375 1.734375 -3.359375 1.90625 -3.359375 L 2.34375 -3.359375 C 3.15625 -3.359375 3.53125 -2.6875 3.53125 -1.703125 C 3.53125 -0.34375 2.84375 -0.0625 2.40625 -0.0625 C 1.96875 -0.0625 1.21875 -0.234375 0.875 -0.8125 C 1.21875 -0.765625 1.53125 -0.984375 1.53125 -1.359375 C 1.53125 -1.71875 1.265625 -1.921875 0.984375 -1.921875 C 0.734375 -1.921875 0.421875 -1.78125 0.421875 -1.34375 C 0.421875 -0.4375 1.34375 0.21875 2.4375 0.21875 C 3.65625 0.21875 4.5625 -0.6875 4.5625 -1.703125 C 4.5625 -2.515625 3.921875 -3.296875 2.890625 -3.515625 Z M 2.890625 -3.515625 \\\"\\/>\\n<\\/symbol>\\n<symbol overflow=\\\"visible\\\" id=\\\"glyph-1580969628598073-0-5\\\">\\n<path style=\\\"stroke:none;\\\" d=\\\"M 2.9375 -1.640625 L 2.9375 -0.78125 C 2.9375 -0.421875 2.90625 -0.3125 2.171875 -0.3125 L 1.96875 -0.3125 L 1.96875 0 C 2.375 -0.03125 2.890625 -0.03125 3.3125 -0.03125 C 3.734375 -0.03125 4.25 -0.03125 4.671875 0 L 4.671875 -0.3125 L 4.453125 -0.3125 C 3.71875 -0.3125 3.703125 -0.421875 3.703125 -0.78125 L 3.703125 -1.640625 L 4.6875 -1.640625 L 4.6875 -1.953125 L 3.703125 -1.953125 L 3.703125 -6.484375 C 3.703125 -6.6875 3.703125 -6.75 3.53125 -6.75 C 3.453125 -6.75 3.421875 -6.75 3.34375 -6.625 L 0.28125 -1.953125 L 0.28125 -1.640625 Z M 2.984375 -1.953125 L 0.5625 -1.953125 L 2.984375 -5.671875 Z M 2.984375 -1.953125 \\\"\\/>\\n<\\/symbol>\\n<symbol overflow=\\\"visible\\\" id=\\\"glyph-1580969628598073-0-6\\\">\\n<path style=\\\"stroke:none;\\\" d=\\\"M 4.46875 -2 C 4.46875 -3.1875 3.65625 -4.1875 2.578125 -4.1875 C 2.109375 -4.1875 1.671875 -4.03125 1.3125 -3.671875 L 1.3125 -5.625 C 1.515625 -5.5625 1.84375 -5.5 2.15625 -5.5 C 3.390625 -5.5 4.09375 -6.40625 4.09375 -6.53125 C 4.09375 -6.59375 4.0625 -6.640625 3.984375 -6.640625 C 3.984375 -6.640625 3.953125 -6.640625 3.90625 -6.609375 C 3.703125 -6.515625 3.21875 -6.3125 2.546875 -6.3125 C 2.15625 -6.3125 1.6875 -6.390625 1.21875 -6.59375 C 1.140625 -6.625 1.125 -6.625 1.109375 -6.625 C 1 -6.625 1 -6.546875 1 -6.390625 L 1 -3.4375 C 1 -3.265625 1 -3.1875 1.140625 -3.1875 C 1.21875 -3.1875 1.234375 -3.203125 1.28125 -3.265625 C 1.390625 -3.421875 1.75 -3.96875 2.5625 -3.96875 C 3.078125 -3.96875 3.328125 -3.515625 3.40625 -3.328125 C 3.5625 -2.953125 3.59375 -2.578125 3.59375 -2.078125 C 3.59375 -1.71875 3.59375 -1.125 3.34375 -0.703125 C 3.109375 -0.3125 2.734375 -0.0625 2.28125 -0.0625 C 1.5625 -0.0625 0.984375 -0.59375 0.8125 -1.171875 C 0.84375 -1.171875 0.875 -1.15625 0.984375 -1.15625 C 1.3125 -1.15625 1.484375 -1.40625 1.484375 -1.640625 C 1.484375 -1.890625 1.3125 -2.140625 0.984375 -2.140625 C 0.84375 -2.140625 0.5 -2.0625 0.5 -1.609375 C 0.5 -0.75 1.1875 0.21875 2.296875 0.21875 C 3.453125 0.21875 4.46875 -0.734375 4.46875 -2 Z M 4.46875 -2 \\\"\\/>\\n<\\/symbol>\\n<symbol overflow=\\\"visible\\\" id=\\\"glyph-1580969628598073-0-7\\\">\\n<path style=\\\"stroke:none;\\\" d=\\\"M 1.3125 -3.265625 L 1.3125 -3.515625 C 1.3125 -6.03125 2.546875 -6.390625 3.0625 -6.390625 C 3.296875 -6.390625 3.71875 -6.328125 3.9375 -5.984375 C 3.78125 -5.984375 3.390625 -5.984375 3.390625 -5.546875 C 3.390625 -5.234375 3.625 -5.078125 3.84375 -5.078125 C 4 -5.078125 4.3125 -5.171875 4.3125 -5.5625 C 4.3125 -6.15625 3.875 -6.640625 3.046875 -6.640625 C 1.765625 -6.640625 0.421875 -5.359375 0.421875 -3.15625 C 0.421875 -0.484375 1.578125 0.21875 2.5 0.21875 C 3.609375 0.21875 4.5625 -0.71875 4.5625 -2.03125 C 4.5625 -3.296875 3.671875 -4.25 2.5625 -4.25 C 1.890625 -4.25 1.515625 -3.75 1.3125 -3.265625 Z M 2.5 -0.0625 C 1.875 -0.0625 1.578125 -0.65625 1.515625 -0.8125 C 1.328125 -1.28125 1.328125 -2.078125 1.328125 -2.25 C 1.328125 -3.03125 1.65625 -4.03125 2.546875 -4.03125 C 2.71875 -4.03125 3.171875 -4.03125 3.484375 -3.40625 C 3.65625 -3.046875 3.65625 -2.53125 3.65625 -2.046875 C 3.65625 -1.5625 3.65625 -1.0625 3.484375 -0.703125 C 3.1875 -0.109375 2.734375 -0.0625 2.5 -0.0625 Z M 2.5 -0.0625 \\\"\\/>\\n<\\/symbol>\\n<symbol overflow=\\\"visible\\\" id=\\\"glyph-1580969628598073-0-8\\\">\\n<path style=\\\"stroke:none;\\\" d=\\\"M 4.75 -6.078125 C 4.828125 -6.1875 4.828125 -6.203125 4.828125 -6.421875 L 2.40625 -6.421875 C 1.203125 -6.421875 1.171875 -6.546875 1.140625 -6.734375 L 0.890625 -6.734375 L 0.5625 -4.6875 L 0.8125 -4.6875 C 0.84375 -4.84375 0.921875 -5.46875 1.0625 -5.59375 C 1.125 -5.65625 1.90625 -5.65625 2.03125 -5.65625 L 4.09375 -5.65625 C 3.984375 -5.5 3.203125 -4.40625 2.984375 -4.078125 C 2.078125 -2.734375 1.75 -1.34375 1.75 -0.328125 C 1.75 -0.234375 1.75 0.21875 2.21875 0.21875 C 2.671875 0.21875 2.671875 -0.234375 2.671875 -0.328125 L 2.671875 -0.84375 C 2.671875 -1.390625 2.703125 -1.9375 2.78125 -2.46875 C 2.828125 -2.703125 2.953125 -3.5625 3.40625 -4.171875 Z M 4.75 -6.078125 \\\"\\/>\\n<\\/symbol>\\n<symbol overflow=\\\"visible\\\" id=\\\"glyph-1580969628598073-0-9\\\">\\n<path style=\\\"stroke:none;\\\" d=\\\"M 1.625 -4.5625 C 1.171875 -4.859375 1.125 -5.1875 1.125 -5.359375 C 1.125 -5.96875 1.78125 -6.390625 2.484375 -6.390625 C 3.203125 -6.390625 3.84375 -5.875 3.84375 -5.15625 C 3.84375 -4.578125 3.453125 -4.109375 2.859375 -3.765625 Z M 3.078125 -3.609375 C 3.796875 -3.984375 4.28125 -4.5 4.28125 -5.15625 C 4.28125 -6.078125 3.40625 -6.640625 2.5 -6.640625 C 1.5 -6.640625 0.6875 -5.90625 0.6875 -4.96875 C 0.6875 -4.796875 0.703125 -4.34375 1.125 -3.875 C 1.234375 -3.765625 1.609375 -3.515625 1.859375 -3.34375 C 1.28125 -3.046875 0.421875 -2.5 0.421875 -1.5 C 0.421875 -0.453125 1.4375 0.21875 2.484375 0.21875 C 3.609375 0.21875 4.5625 -0.609375 4.5625 -1.671875 C 4.5625 -2.03125 4.453125 -2.484375 4.0625 -2.90625 C 3.875 -3.109375 3.71875 -3.203125 3.078125 -3.609375 Z M 2.078125 -3.1875 L 3.3125 -2.40625 C 3.59375 -2.21875 4.0625 -1.921875 4.0625 -1.3125 C 4.0625 -0.578125 3.3125 -0.0625 2.5 -0.0625 C 1.640625 -0.0625 0.921875 -0.671875 0.921875 -1.5 C 0.921875 -2.078125 1.234375 -2.71875 2.078125 -3.1875 Z M 2.078125 -3.1875 \\\"\\/>\\n<\\/symbol>\\n<symbol overflow=\\\"visible\\\" id=\\\"glyph-1580969628598073-0-10\\\">\\n<path style=\\\"stroke:none;\\\" d=\\\"M 3.65625 -3.171875 L 3.65625 -2.84375 C 3.65625 -0.515625 2.625 -0.0625 2.046875 -0.0625 C 1.875 -0.0625 1.328125 -0.078125 1.0625 -0.421875 C 1.5 -0.421875 1.578125 -0.703125 1.578125 -0.875 C 1.578125 -1.1875 1.34375 -1.328125 1.125 -1.328125 C 0.96875 -1.328125 0.671875 -1.25 0.671875 -0.859375 C 0.671875 -0.1875 1.203125 0.21875 2.046875 0.21875 C 3.34375 0.21875 4.5625 -1.140625 4.5625 -3.28125 C 4.5625 -5.96875 3.40625 -6.640625 2.515625 -6.640625 C 1.96875 -6.640625 1.484375 -6.453125 1.0625 -6.015625 C 0.640625 -5.5625 0.421875 -5.140625 0.421875 -4.390625 C 0.421875 -3.15625 1.296875 -2.171875 2.40625 -2.171875 C 3.015625 -2.171875 3.421875 -2.59375 3.65625 -3.171875 Z M 2.421875 -2.40625 C 2.265625 -2.40625 1.796875 -2.40625 1.5 -3.03125 C 1.3125 -3.40625 1.3125 -3.890625 1.3125 -4.390625 C 1.3125 -4.921875 1.3125 -5.390625 1.53125 -5.765625 C 1.796875 -6.265625 2.171875 -6.390625 2.515625 -6.390625 C 2.984375 -6.390625 3.3125 -6.046875 3.484375 -5.609375 C 3.59375 -5.28125 3.640625 -4.65625 3.640625 -4.203125 C 3.640625 -3.375 3.296875 -2.40625 2.421875 -2.40625 Z M 2.421875 -2.40625 \\\"\\/>\\n<\\/symbol>\\n<symbol overflow=\\\"visible\\\" id=\\\"glyph-1580969628598073-1-0\\\">\\n<path style=\\\"stroke:none;\\\" d=\\\"\\\"\\/>\\n<\\/symbol>\\n<symbol overflow=\\\"visible\\\" id=\\\"glyph-1580969628598073-1-1\\\">\\n<path style=\\\"stroke:none;\\\" d=\\\"M 1.90625 -0.53125 C 1.90625 -0.8125 1.671875 -1.0625 1.390625 -1.0625 C 1.09375 -1.0625 0.859375 -0.8125 0.859375 -0.53125 C 0.859375 -0.234375 1.09375 0 1.390625 0 C 1.671875 0 1.90625 -0.234375 1.90625 -0.53125 Z M 1.90625 -0.53125 \\\"\\/>\\n<\\/symbol>\\n<symbol overflow=\\\"visible\\\" id=\\\"glyph-1580969628598073-2-0\\\">\\n<path style=\\\"stroke:none;\\\" d=\\\"\\\"\\/>\\n<\\/symbol>\\n<symbol overflow=\\\"visible\\\" id=\\\"glyph-1580969628598073-2-1\\\">\\n<path style=\\\"stroke:none;\\\" d=\\\"M 6.484375 -1.828125 C 6.484375 -2.6875 5.671875 -3.4375 4.5625 -3.5625 C 5.53125 -3.75 6.21875 -4.390625 6.21875 -5.125 C 6.21875 -5.984375 5.296875 -6.8125 4 -6.8125 L 0.359375 -6.8125 L 0.359375 -6.5 L 0.59375 -6.5 C 1.359375 -6.5 1.390625 -6.390625 1.390625 -6.03125 L 1.390625 -0.78125 C 1.390625 -0.421875 1.359375 -0.3125 0.59375 -0.3125 L 0.359375 -0.3125 L 0.359375 0 L 4.265625 0 C 5.59375 0 6.484375 -0.890625 6.484375 -1.828125 Z M 5.25 -5.125 C 5.25 -4.484375 4.765625 -3.65625 3.65625 -3.65625 L 2.21875 -3.65625 L 2.21875 -6.09375 C 2.21875 -6.4375 2.234375 -6.5 2.703125 -6.5 L 3.9375 -6.5 C 4.90625 -6.5 5.25 -5.65625 5.25 -5.125 Z M 5.5 -1.828125 C 5.5 -1.125 4.96875 -0.3125 3.953125 -0.3125 L 2.703125 -0.3125 C 2.234375 -0.3125 2.21875 -0.375 2.21875 -0.703125 L 2.21875 -3.421875 L 4.09375 -3.421875 C 5.078125 -3.421875 5.5 -2.5 5.5 -1.828125 Z M 5.5 -1.828125 \\\"\\/>\\n<\\/symbol>\\n<symbol overflow=\\\"visible\\\" id=\\\"glyph-1580969628598073-2-2\\\">\\n<path style=\\\"stroke:none;\\\" d=\\\"M 4.140625 -1.1875 C 4.140625 -1.28125 4.0625 -1.3125 4 -1.3125 C 3.921875 -1.3125 3.890625 -1.25 3.875 -1.171875 C 3.53125 -0.140625 2.625 -0.140625 2.53125 -0.140625 C 2.03125 -0.140625 1.640625 -0.4375 1.40625 -0.8125 C 1.109375 -1.28125 1.109375 -1.9375 1.109375 -2.296875 L 3.890625 -2.296875 C 4.109375 -2.296875 4.140625 -2.296875 4.140625 -2.515625 C 4.140625 -3.5 3.59375 -4.46875 2.359375 -4.46875 C 1.203125 -4.46875 0.28125 -3.4375 0.28125 -2.1875 C 0.28125 -0.859375 1.328125 0.109375 2.46875 0.109375 C 3.6875 0.109375 4.140625 -1 4.140625 -1.1875 Z M 3.484375 -2.515625 L 1.109375 -2.515625 C 1.171875 -4 2.015625 -4.25 2.359375 -4.25 C 3.375 -4.25 3.484375 -2.90625 3.484375 -2.515625 Z M 3.484375 -2.515625 \\\"\\/>\\n<\\/symbol>\\n<symbol overflow=\\\"visible\\\" id=\\\"glyph-1580969628598073-2-3\\\">\\n<path style=\\\"stroke:none;\\\" d=\\\"M 3.3125 -1.234375 L 3.3125 -1.796875 L 3.0625 -1.796875 L 3.0625 -1.25 C 3.0625 -0.515625 2.765625 -0.140625 2.390625 -0.140625 C 1.71875 -0.140625 1.71875 -1.046875 1.71875 -1.21875 L 1.71875 -3.984375 L 3.15625 -3.984375 L 3.15625 -4.296875 L 1.71875 -4.296875 L 1.71875 -6.125 L 1.46875 -6.125 C 1.46875 -5.3125 1.171875 -4.25 0.1875 -4.203125 L 0.1875 -3.984375 L 1.03125 -3.984375 L 1.03125 -1.234375 C 1.03125 -0.015625 1.96875 0.109375 2.328125 0.109375 C 3.03125 0.109375 3.3125 -0.59375 3.3125 -1.234375 Z M 3.3125 -1.234375 \\\"\\/>\\n<\\/symbol>\\n<symbol overflow=\\\"visible\\\" id=\\\"glyph-1580969628598073-2-4\\\">\\n<path style=\\\"stroke:none;\\\" d=\\\"M 4.8125 -0.890625 L 4.8125 -1.453125 L 4.5625 -1.453125 L 4.5625 -0.890625 C 4.5625 -0.3125 4.3125 -0.25 4.203125 -0.25 C 3.875 -0.25 3.84375 -0.703125 3.84375 -0.75 L 3.84375 -2.734375 C 3.84375 -3.15625 3.84375 -3.546875 3.484375 -3.921875 C 3.09375 -4.3125 2.59375 -4.46875 2.109375 -4.46875 C 1.296875 -4.46875 0.609375 -4 0.609375 -3.34375 C 0.609375 -3.046875 0.8125 -2.875 1.0625 -2.875 C 1.34375 -2.875 1.53125 -3.078125 1.53125 -3.328125 C 1.53125 -3.453125 1.46875 -3.78125 1.015625 -3.78125 C 1.28125 -4.140625 1.78125 -4.25 2.09375 -4.25 C 2.578125 -4.25 3.15625 -3.859375 3.15625 -2.96875 L 3.15625 -2.609375 C 2.640625 -2.578125 1.9375 -2.546875 1.3125 -2.25 C 0.5625 -1.90625 0.3125 -1.390625 0.3125 -0.953125 C 0.3125 -0.140625 1.28125 0.109375 1.90625 0.109375 C 2.578125 0.109375 3.03125 -0.296875 3.21875 -0.75 C 3.265625 -0.359375 3.53125 0.0625 4 0.0625 C 4.203125 0.0625 4.8125 -0.078125 4.8125 -0.890625 Z M 3.15625 -1.390625 C 3.15625 -0.453125 2.4375 -0.109375 1.984375 -0.109375 C 1.5 -0.109375 1.09375 -0.453125 1.09375 -0.953125 C 1.09375 -1.5 1.5 -2.328125 3.15625 -2.390625 Z M 3.15625 -1.390625 \\\"\\/>\\n<\\/symbol>\\n<symbol overflow=\\\"visible\\\" id=\\\"glyph-1580969628598073-2-5\\\">\\n<path style=\\\"stroke:none;\\\" d=\\\"M 3.296875 2.390625 C 3.296875 2.359375 3.296875 2.34375 3.125 2.171875 C 1.890625 0.921875 1.5625 -0.96875 1.5625 -2.5 C 1.5625 -4.234375 1.9375 -5.96875 3.171875 -7.203125 C 3.296875 -7.328125 3.296875 -7.34375 3.296875 -7.375 C 3.296875 -7.453125 3.265625 -7.484375 3.203125 -7.484375 C 3.09375 -7.484375 2.203125 -6.796875 1.609375 -5.53125 C 1.109375 -4.4375 0.984375 -3.328125 0.984375 -2.5 C 0.984375 -1.71875 1.09375 -0.515625 1.640625 0.625 C 2.25 1.84375 3.09375 2.5 3.203125 2.5 C 3.265625 2.5 3.296875 2.46875 3.296875 2.390625 Z M 3.296875 2.390625 \\\"\\/>\\n<\\/symbol>\\n<symbol overflow=\\\"visible\\\" id=\\\"glyph-1580969628598073-2-6\\\">\\n<path style=\\\"stroke:none;\\\" d=\\\"M 4.171875 0 L 4.171875 -0.3125 L 3.859375 -0.3125 C 2.953125 -0.3125 2.9375 -0.421875 2.9375 -0.78125 L 2.9375 -6.375 C 2.9375 -6.625 2.9375 -6.640625 2.703125 -6.640625 C 2.078125 -6 1.203125 -6 0.890625 -6 L 0.890625 -5.6875 C 1.09375 -5.6875 1.671875 -5.6875 2.1875 -5.953125 L 2.1875 -0.78125 C 2.1875 -0.421875 2.15625 -0.3125 1.265625 -0.3125 L 0.953125 -0.3125 L 0.953125 0 C 1.296875 -0.03125 2.15625 -0.03125 2.5625 -0.03125 C 2.953125 -0.03125 3.828125 -0.03125 4.171875 0 Z M 4.171875 0 \\\"\\/>\\n<\\/symbol>\\n<symbol overflow=\\\"visible\\\" id=\\\"glyph-1580969628598073-2-7\\\">\\n<path style=\\\"stroke:none;\\\" d=\\\"M 2.03125 -0.015625 C 2.03125 -0.640625 1.78125 -1.0625 1.390625 -1.0625 C 1.03125 -1.0625 0.859375 -0.78125 0.859375 -0.53125 C 0.859375 -0.265625 1.03125 0 1.390625 0 C 1.53125 0 1.671875 -0.0625 1.78125 -0.15625 C 1.796875 0.625 1.53125 1.234375 1.09375 1.703125 C 1.03125 1.765625 1.015625 1.78125 1.015625 1.8125 C 1.015625 1.890625 1.0625 1.921875 1.109375 1.921875 C 1.234375 1.921875 2.03125 1.140625 2.03125 -0.015625 Z M 2.03125 -0.015625 \\\"\\/>\\n<\\/symbol>\\n<symbol overflow=\\\"visible\\\" id=\\\"glyph-1580969628598073-2-8\\\">\\n<path style=\\\"stroke:none;\\\" d=\\\"M 2.875 -2.5 C 2.875 -3.265625 2.765625 -4.46875 2.21875 -5.609375 C 1.625 -6.828125 0.765625 -7.484375 0.671875 -7.484375 C 0.609375 -7.484375 0.5625 -7.4375 0.5625 -7.375 C 0.5625 -7.34375 0.5625 -7.328125 0.75 -7.140625 C 1.734375 -6.15625 2.296875 -4.578125 2.296875 -2.5 C 2.296875 -0.78125 1.9375 0.96875 0.703125 2.21875 C 0.5625 2.34375 0.5625 2.359375 0.5625 2.390625 C 0.5625 2.453125 0.609375 2.5 0.671875 2.5 C 0.765625 2.5 1.671875 1.8125 2.25 0.546875 C 2.765625 -0.546875 2.875 -1.65625 2.875 -2.5 Z M 2.875 -2.5 \\\"\\/>\\n<\\/symbol>\\n<\\/g>\\n<clipPath id=\\\"clip-1580969628598073-1\\\">\\n  <path d=\\\"M 19.570312 21 L 399.9375 21 L 399.9375 23 L 19.570312 23 Z M 19.570312 21 \\\"\\/>\\n<\\/clipPath>\\n<\\/defs>\\n<g id=\\\"surface1\\\">\\n<path style=\\\"fill:none;stroke-width:0.19925;stroke-linecap:butt;stroke-linejoin:miter;stroke:rgb(50%,50%,50%);stroke-opacity:1;stroke-miterlimit:10;\\\" d=\\\"M 0.0003125 -0.00103125 L 0.0003125 4.252875 M 38.035469 -0.00103125 L 38.035469 4.252875 M 76.074531 -0.00103125 L 76.074531 4.252875 M 114.109688 -0.00103125 L 114.109688 4.252875 M 152.14875 -0.00103125 L 152.14875 4.252875 M 190.183906 -0.00103125 L 190.183906 4.252875 M 228.222969 -0.00103125 L 228.222969 4.252875 M 266.258125 -0.00103125 L 266.258125 4.252875 M 304.293281 -0.00103125 L 304.293281 4.252875 M 342.332344 -0.00103125 L 342.332344 4.252875 M 380.3675 -0.00103125 L 380.3675 4.252875 M 0.0003125 238.635688 L 0.0003125 234.381781 M 38.035469 238.635688 L 38.035469 234.381781 M 76.074531 238.635688 L 76.074531 234.381781 M 114.109688 238.635688 L 114.109688 234.381781 M 152.14875 238.635688 L 152.14875 234.381781 M 190.183906 238.635688 L 190.183906 234.381781 M 228.222969 238.635688 L 228.222969 234.381781 M 266.258125 238.635688 L 266.258125 234.381781 M 304.293281 238.635688 L 304.293281 234.381781 M 342.332344 238.635688 L 342.332344 234.381781 M 380.3675 238.635688 L 380.3675 234.381781 \\\" transform=\\\"matrix(1,0,0,-1,19.57,238.831)\\\"\\/>\\n<path style=\\\"fill:none;stroke-width:0.19925;stroke-linecap:butt;stroke-linejoin:miter;stroke:rgb(50%,50%,50%);stroke-opacity:1;stroke-miterlimit:10;\\\" d=\\\"M 0.0003125 -0.00103125 L 4.254219 -0.00103125 M 0.0003125 43.389594 L 4.254219 43.389594 M 0.0003125 86.776313 L 4.254219 86.776313 M 0.0003125 130.163031 L 4.254219 130.163031 M 0.0003125 173.553656 L 4.254219 173.553656 M 0.0003125 216.940375 L 4.254219 216.940375 M 380.3675 -0.00103125 L 376.1175 -0.00103125 M 380.3675 43.389594 L 376.1175 43.389594 M 380.3675 86.776313 L 376.1175 86.776313 M 380.3675 130.163031 L 376.1175 130.163031 M 380.3675 173.553656 L 376.1175 173.553656 M 380.3675 216.940375 L 376.1175 216.940375 \\\" transform=\\\"matrix(1,0,0,-1,19.57,238.831)\\\"\\/>\\n<path style=\\\"fill:none;stroke-width:0.3985;stroke-linecap:butt;stroke-linejoin:miter;stroke:rgb(0%,0%,0%);stroke-opacity:1;stroke-miterlimit:10;\\\" d=\\\"M 0.0003125 -0.00103125 L 0.0003125 238.635688 L 380.3675 238.635688 L 380.3675 -0.00103125 Z M 0.0003125 -0.00103125 \\\" transform=\\\"matrix(1,0,0,-1,19.57,238.831)\\\"\\/>\\n<g style=\\\"fill:rgb(0%,0%,0%);fill-opacity:1;\\\">\\n  <use xlink:href=\\\"#glyph-1580969628598073-0-1\\\" x=\\\"17.08\\\" y=\\\"248.771\\\"\\/>\\n<\\/g>\\n<g style=\\\"fill:rgb(0%,0%,0%);fill-opacity:1;\\\">\\n  <use xlink:href=\\\"#glyph-1580969628598073-0-1\\\" x=\\\"51.242\\\" y=\\\"248.771\\\"\\/>\\n<\\/g>\\n<g style=\\\"fill:rgb(0%,0%,0%);fill-opacity:1;\\\">\\n  <use xlink:href=\\\"#glyph-1580969628598073-1-1\\\" x=\\\"56.223\\\" y=\\\"248.771\\\"\\/>\\n<\\/g>\\n<g style=\\\"fill:rgb(0%,0%,0%);fill-opacity:1;\\\">\\n  <use xlink:href=\\\"#glyph-1580969628598073-0-2\\\" x=\\\"58.99\\\" y=\\\"248.771\\\"\\/>\\n<\\/g>\\n<g style=\\\"fill:rgb(0%,0%,0%);fill-opacity:1;\\\">\\n  <use xlink:href=\\\"#glyph-1580969628598073-0-1\\\" x=\\\"89.278\\\" y=\\\"248.771\\\"\\/>\\n<\\/g>\\n<g style=\\\"fill:rgb(0%,0%,0%);fill-opacity:1;\\\">\\n  <use xlink:href=\\\"#glyph-1580969628598073-1-1\\\" x=\\\"94.259\\\" y=\\\"248.771\\\"\\/>\\n<\\/g>\\n<g style=\\\"fill:rgb(0%,0%,0%);fill-opacity:1;\\\">\\n  <use xlink:href=\\\"#glyph-1580969628598073-0-3\\\" x=\\\"97.027\\\" y=\\\"248.771\\\"\\/>\\n<\\/g>\\n<g style=\\\"fill:rgb(0%,0%,0%);fill-opacity:1;\\\">\\n  <use xlink:href=\\\"#glyph-1580969628598073-0-1\\\" x=\\\"127.314\\\" y=\\\"248.771\\\"\\/>\\n<\\/g>\\n<g style=\\\"fill:rgb(0%,0%,0%);fill-opacity:1;\\\">\\n  <use xlink:href=\\\"#glyph-1580969628598073-1-1\\\" x=\\\"132.296\\\" y=\\\"248.771\\\"\\/>\\n<\\/g>\\n<g style=\\\"fill:rgb(0%,0%,0%);fill-opacity:1;\\\">\\n  <use xlink:href=\\\"#glyph-1580969628598073-0-4\\\" x=\\\"135.063\\\" y=\\\"248.771\\\"\\/>\\n<\\/g>\\n<g style=\\\"fill:rgb(0%,0%,0%);fill-opacity:1;\\\">\\n  <use xlink:href=\\\"#glyph-1580969628598073-0-1\\\" x=\\\"165.351\\\" y=\\\"248.771\\\"\\/>\\n<\\/g>\\n<g style=\\\"fill:rgb(0%,0%,0%);fill-opacity:1;\\\">\\n  <use xlink:href=\\\"#glyph-1580969628598073-1-1\\\" x=\\\"170.332\\\" y=\\\"248.771\\\"\\/>\\n<\\/g>\\n<g style=\\\"fill:rgb(0%,0%,0%);fill-opacity:1;\\\">\\n  <use xlink:href=\\\"#glyph-1580969628598073-0-5\\\" x=\\\"173.1\\\" y=\\\"248.771\\\"\\/>\\n<\\/g>\\n<g style=\\\"fill:rgb(0%,0%,0%);fill-opacity:1;\\\">\\n  <use xlink:href=\\\"#glyph-1580969628598073-0-1\\\" x=\\\"203.387\\\" y=\\\"248.771\\\"\\/>\\n<\\/g>\\n<g style=\\\"fill:rgb(0%,0%,0%);fill-opacity:1;\\\">\\n  <use xlink:href=\\\"#glyph-1580969628598073-1-1\\\" x=\\\"208.369\\\" y=\\\"248.771\\\"\\/>\\n<\\/g>\\n<g style=\\\"fill:rgb(0%,0%,0%);fill-opacity:1;\\\">\\n  <use xlink:href=\\\"#glyph-1580969628598073-0-6\\\" x=\\\"211.136\\\" y=\\\"248.771\\\"\\/>\\n<\\/g>\\n<g style=\\\"fill:rgb(0%,0%,0%);fill-opacity:1;\\\">\\n  <use xlink:href=\\\"#glyph-1580969628598073-0-1\\\" x=\\\"241.424\\\" y=\\\"248.771\\\"\\/>\\n<\\/g>\\n<g style=\\\"fill:rgb(0%,0%,0%);fill-opacity:1;\\\">\\n  <use xlink:href=\\\"#glyph-1580969628598073-1-1\\\" x=\\\"246.405\\\" y=\\\"248.771\\\"\\/>\\n<\\/g>\\n<g style=\\\"fill:rgb(0%,0%,0%);fill-opacity:1;\\\">\\n  <use xlink:href=\\\"#glyph-1580969628598073-0-7\\\" x=\\\"249.172\\\" y=\\\"248.771\\\"\\/>\\n<\\/g>\\n<g style=\\\"fill:rgb(0%,0%,0%);fill-opacity:1;\\\">\\n  <use xlink:href=\\\"#glyph-1580969628598073-0-1\\\" x=\\\"279.46\\\" y=\\\"248.771\\\"\\/>\\n<\\/g>\\n<g style=\\\"fill:rgb(0%,0%,0%);fill-opacity:1;\\\">\\n  <use xlink:href=\\\"#glyph-1580969628598073-1-1\\\" x=\\\"284.441\\\" y=\\\"248.771\\\"\\/>\\n<\\/g>\\n<g style=\\\"fill:rgb(0%,0%,0%);fill-opacity:1;\\\">\\n  <use xlink:href=\\\"#glyph-1580969628598073-0-8\\\" x=\\\"287.209\\\" y=\\\"248.771\\\"\\/>\\n<\\/g>\\n<g style=\\\"fill:rgb(0%,0%,0%);fill-opacity:1;\\\">\\n  <use xlink:href=\\\"#glyph-1580969628598073-0-1\\\" x=\\\"317.496\\\" y=\\\"248.771\\\"\\/>\\n<\\/g>\\n<g style=\\\"fill:rgb(0%,0%,0%);fill-opacity:1;\\\">\\n  <use xlink:href=\\\"#glyph-1580969628598073-1-1\\\" x=\\\"322.478\\\" y=\\\"248.771\\\"\\/>\\n<\\/g>\\n<g style=\\\"fill:rgb(0%,0%,0%);fill-opacity:1;\\\">\\n  <use xlink:href=\\\"#glyph-1580969628598073-0-9\\\" x=\\\"325.245\\\" y=\\\"248.771\\\"\\/>\\n<\\/g>\\n<g style=\\\"fill:rgb(0%,0%,0%);fill-opacity:1;\\\">\\n  <use xlink:href=\\\"#glyph-1580969628598073-0-1\\\" x=\\\"355.533\\\" y=\\\"248.771\\\"\\/>\\n<\\/g>\\n<g style=\\\"fill:rgb(0%,0%,0%);fill-opacity:1;\\\">\\n  <use xlink:href=\\\"#glyph-1580969628598073-1-1\\\" x=\\\"360.514\\\" y=\\\"248.771\\\"\\/>\\n<\\/g>\\n<g style=\\\"fill:rgb(0%,0%,0%);fill-opacity:1;\\\">\\n  <use xlink:href=\\\"#glyph-1580969628598073-0-10\\\" x=\\\"363.281\\\" y=\\\"248.771\\\"\\/>\\n<\\/g>\\n<g style=\\\"fill:rgb(0%,0%,0%);fill-opacity:1;\\\">\\n  <use xlink:href=\\\"#glyph-1580969628598073-0-2\\\" x=\\\"397.443\\\" y=\\\"248.771\\\"\\/>\\n<\\/g>\\n<g style=\\\"fill:rgb(0%,0%,0%);fill-opacity:1;\\\">\\n  <use xlink:href=\\\"#glyph-1580969628598073-0-1\\\" x=\\\"11.069\\\" y=\\\"242.042\\\"\\/>\\n<\\/g>\\n<g style=\\\"fill:rgb(0%,0%,0%);fill-opacity:1;\\\">\\n  <use xlink:href=\\\"#glyph-1580969628598073-0-1\\\" x=\\\"3.321\\\" y=\\\"198.654\\\"\\/>\\n<\\/g>\\n<g style=\\\"fill:rgb(0%,0%,0%);fill-opacity:1;\\\">\\n  <use xlink:href=\\\"#glyph-1580969628598073-1-1\\\" x=\\\"8.302\\\" y=\\\"198.654\\\"\\/>\\n<\\/g>\\n<g style=\\\"fill:rgb(0%,0%,0%);fill-opacity:1;\\\">\\n  <use xlink:href=\\\"#glyph-1580969628598073-0-3\\\" x=\\\"11.069\\\" y=\\\"198.654\\\"\\/>\\n<\\/g>\\n<g style=\\\"fill:rgb(0%,0%,0%);fill-opacity:1;\\\">\\n  <use xlink:href=\\\"#glyph-1580969628598073-0-1\\\" x=\\\"3.321\\\" y=\\\"155.267\\\"\\/>\\n<\\/g>\\n<g style=\\\"fill:rgb(0%,0%,0%);fill-opacity:1;\\\">\\n  <use xlink:href=\\\"#glyph-1580969628598073-1-1\\\" x=\\\"8.302\\\" y=\\\"155.267\\\"\\/>\\n<\\/g>\\n<g style=\\\"fill:rgb(0%,0%,0%);fill-opacity:1;\\\">\\n  <use xlink:href=\\\"#glyph-1580969628598073-0-5\\\" x=\\\"11.069\\\" y=\\\"155.267\\\"\\/>\\n<\\/g>\\n<g style=\\\"fill:rgb(0%,0%,0%);fill-opacity:1;\\\">\\n  <use xlink:href=\\\"#glyph-1580969628598073-0-1\\\" x=\\\"3.321\\\" y=\\\"111.879\\\"\\/>\\n<\\/g>\\n<g style=\\\"fill:rgb(0%,0%,0%);fill-opacity:1;\\\">\\n  <use xlink:href=\\\"#glyph-1580969628598073-1-1\\\" x=\\\"8.302\\\" y=\\\"111.879\\\"\\/>\\n<\\/g>\\n<g style=\\\"fill:rgb(0%,0%,0%);fill-opacity:1;\\\">\\n  <use xlink:href=\\\"#glyph-1580969628598073-0-7\\\" x=\\\"11.069\\\" y=\\\"111.879\\\"\\/>\\n<\\/g>\\n<g style=\\\"fill:rgb(0%,0%,0%);fill-opacity:1;\\\">\\n  <use xlink:href=\\\"#glyph-1580969628598073-0-1\\\" x=\\\"3.321\\\" y=\\\"68.492\\\"\\/>\\n<\\/g>\\n<g style=\\\"fill:rgb(0%,0%,0%);fill-opacity:1;\\\">\\n  <use xlink:href=\\\"#glyph-1580969628598073-1-1\\\" x=\\\"8.302\\\" y=\\\"68.492\\\"\\/>\\n<\\/g>\\n<g style=\\\"fill:rgb(0%,0%,0%);fill-opacity:1;\\\">\\n  <use xlink:href=\\\"#glyph-1580969628598073-0-9\\\" x=\\\"11.069\\\" y=\\\"68.492\\\"\\/>\\n<\\/g>\\n<g style=\\\"fill:rgb(0%,0%,0%);fill-opacity:1;\\\">\\n  <use xlink:href=\\\"#glyph-1580969628598073-0-2\\\" x=\\\"11.069\\\" y=\\\"25.104\\\"\\/>\\n<\\/g>\\n<g clip-path=\\\"url(#clip-1580969628598073-1)\\\" clip-rule=\\\"nonzero\\\">\\n<path style=\\\"fill:none;stroke-width:0.3985;stroke-linecap:butt;stroke-linejoin:miter;stroke:rgb(0%,0%,100%);stroke-opacity:1;stroke-miterlimit:10;\\\" d=\\\"M 0.0003125 216.940375 L 380.3675 216.940375 \\\" transform=\\\"matrix(1,0,0,-1,19.57,238.831)\\\"\\/>\\n<\\/g>\\n<path style=\\\"fill-rule:nonzero;fill:rgb(100%,100%,100%);fill-opacity:1;stroke-width:0.3985;stroke-linecap:butt;stroke-linejoin:miter;stroke:rgb(0%,0%,0%);stroke-opacity:1;stroke-miterlimit:10;\\\" d=\\\"M 301.055 216.725531 L 372.558906 216.725531 L 372.558906 233.663031 L 301.055 233.663031 Z M 301.055 216.725531 \\\" transform=\\\"matrix(1,0,0,-1,19.57,238.831)\\\"\\/>\\n<path style=\\\"fill:none;stroke-width:0.3985;stroke-linecap:butt;stroke-linejoin:miter;stroke:rgb(0%,0%,100%);stroke-opacity:1;stroke-miterlimit:10;\\\" d=\\\"M -0.00140625 -0.000625 L 17.006406 -0.000625 \\\" transform=\\\"matrix(1,0,0,-1,323.81,13.64)\\\"\\/>\\n<g style=\\\"fill:rgb(0%,0%,0%);fill-opacity:1;\\\">\\n  <use xlink:href=\\\"#glyph-1580969628598073-2-1\\\" x=\\\"343.01\\\" y=\\\"16.629\\\"\\/>\\n  <use xlink:href=\\\"#glyph-1580969628598073-2-2\\\" x=\\\"350.063549\\\" y=\\\"16.629\\\"\\/>\\n  <use xlink:href=\\\"#glyph-1580969628598073-2-3\\\" x=\\\"354.486961\\\" y=\\\"16.629\\\"\\/>\\n  <use xlink:href=\\\"#glyph-1580969628598073-2-4\\\" x=\\\"358.362428\\\" y=\\\"16.629\\\"\\/>\\n  <use xlink:href=\\\"#glyph-1580969628598073-2-5\\\" x=\\\"363.343748\\\" y=\\\"16.629\\\"\\/>\\n  <use xlink:href=\\\"#glyph-1580969628598073-2-6\\\" x=\\\"367.219215\\\" y=\\\"16.629\\\"\\/>\\n  <use xlink:href=\\\"#glyph-1580969628598073-2-7\\\" x=\\\"372.200535\\\" y=\\\"16.629\\\"\\/>\\n<\\/g>\\n<g style=\\\"fill:rgb(0%,0%,0%);fill-opacity:1;\\\">\\n  <use xlink:href=\\\"#glyph-1580969628598073-2-6\\\" x=\\\"378.287708\\\" y=\\\"16.629\\\"\\/>\\n  <use xlink:href=\\\"#glyph-1580969628598073-2-8\\\" x=\\\"383.269028\\\" y=\\\"16.629\\\"\\/>\\n<\\/g>\\n<\\/g>\\n<\\/svg>\\n\\n\"}}},\"children\":[{\"props\":{\"className\":\"webio-observable\",\"setInnerHtml\":\"<?xml version=\\\"1.0\\\" encoding=\\\"UTF-8\\\"?>\\n<svg xmlns=\\\"http:\\/\\/www.w3.org\\/2000\\/svg\\\" xmlns:xlink=\\\"http:\\/\\/www.w3.org\\/1999\\/xlink\\\" width=\\\"405.745pt\\\" height=\\\"252.092pt\\\" viewBox=\\\"0 0 405.745 252.092\\\" version=\\\"1.1\\\">\\n<defs>\\n<g>\\n<symbol overflow=\\\"visible\\\" id=\\\"glyph-1580969628598073-0-0\\\">\\n<path style=\\\"stroke:none;\\\" d=\\\"\\\"\\/>\\n<\\/symbol>\\n<symbol overflow=\\\"visible\\\" id=\\\"glyph-1580969628598073-0-1\\\">\\n<path style=\\\"stroke:none;\\\" d=\\\"M 4.578125 -3.1875 C 4.578125 -3.984375 4.53125 -4.78125 4.1875 -5.515625 C 3.734375 -6.484375 2.90625 -6.640625 2.5 -6.640625 C 1.890625 -6.640625 1.171875 -6.375 0.75 -5.453125 C 0.4375 -4.765625 0.390625 -3.984375 0.390625 -3.1875 C 0.390625 -2.4375 0.421875 -1.546875 0.84375 -0.78125 C 1.265625 0.015625 2 0.21875 2.484375 0.21875 C 3.015625 0.21875 3.78125 0.015625 4.21875 -0.9375 C 4.53125 -1.625 4.578125 -2.40625 4.578125 -3.1875 Z M 2.484375 0 C 2.09375 0 1.5 -0.25 1.328125 -1.203125 C 1.21875 -1.796875 1.21875 -2.71875 1.21875 -3.3125 C 1.21875 -3.953125 1.21875 -4.609375 1.296875 -5.140625 C 1.484375 -6.328125 2.234375 -6.421875 2.484375 -6.421875 C 2.8125 -6.421875 3.46875 -6.234375 3.65625 -5.25 C 3.765625 -4.6875 3.765625 -3.9375 3.765625 -3.3125 C 3.765625 -2.5625 3.765625 -1.890625 3.65625 -1.25 C 3.5 -0.296875 2.9375 0 2.484375 0 Z M 2.484375 0 \\\"\\/>\\n<\\/symbol>\\n<symbol overflow=\\\"visible\\\" id=\\\"glyph-1580969628598073-0-2\\\">\\n<path style=\\\"stroke:none;\\\" d=\\\"M 2.9375 -6.375 C 2.9375 -6.625 2.9375 -6.640625 2.703125 -6.640625 C 2.078125 -6 1.203125 -6 0.890625 -6 L 0.890625 -5.6875 C 1.09375 -5.6875 1.671875 -5.6875 2.1875 -5.953125 L 2.1875 -0.78125 C 2.1875 -0.421875 2.15625 -0.3125 1.265625 -0.3125 L 0.953125 -0.3125 L 0.953125 0 C 1.296875 -0.03125 2.15625 -0.03125 2.5625 -0.03125 C 2.953125 -0.03125 3.828125 -0.03125 4.171875 0 L 4.171875 -0.3125 L 3.859375 -0.3125 C 2.953125 -0.3125 2.9375 -0.421875 2.9375 -0.78125 Z M 2.9375 -6.375 \\\"\\/>\\n<\\/symbol>\\n<symbol overflow=\\\"visible\\\" id=\\\"glyph-1580969628598073-0-3\\\">\\n<path style=\\\"stroke:none;\\\" d=\\\"M 1.265625 -0.765625 L 2.328125 -1.796875 C 3.875 -3.171875 4.46875 -3.703125 4.46875 -4.703125 C 4.46875 -5.84375 3.578125 -6.640625 2.359375 -6.640625 C 1.234375 -6.640625 0.5 -5.71875 0.5 -4.828125 C 0.5 -4.28125 1 -4.28125 1.03125 -4.28125 C 1.203125 -4.28125 1.546875 -4.390625 1.546875 -4.8125 C 1.546875 -5.0625 1.359375 -5.328125 1.015625 -5.328125 C 0.9375 -5.328125 0.921875 -5.328125 0.890625 -5.3125 C 1.109375 -5.96875 1.65625 -6.328125 2.234375 -6.328125 C 3.140625 -6.328125 3.5625 -5.515625 3.5625 -4.703125 C 3.5625 -3.90625 3.078125 -3.125 2.515625 -2.5 L 0.609375 -0.375 C 0.5 -0.265625 0.5 -0.234375 0.5 0 L 4.203125 0 L 4.46875 -1.734375 L 4.234375 -1.734375 C 4.171875 -1.4375 4.109375 -1 4 -0.84375 C 3.9375 -0.765625 3.28125 -0.765625 3.0625 -0.765625 Z M 1.265625 -0.765625 \\\"\\/>\\n<\\/symbol>\\n<symbol overflow=\\\"visible\\\" id=\\\"glyph-1580969628598073-0-4\\\">\\n<path style=\\\"stroke:none;\\\" d=\\\"M 2.890625 -3.515625 C 3.703125 -3.78125 4.28125 -4.46875 4.28125 -5.265625 C 4.28125 -6.078125 3.40625 -6.640625 2.453125 -6.640625 C 1.453125 -6.640625 0.6875 -6.046875 0.6875 -5.28125 C 0.6875 -4.953125 0.90625 -4.765625 1.203125 -4.765625 C 1.5 -4.765625 1.703125 -4.984375 1.703125 -5.28125 C 1.703125 -5.765625 1.234375 -5.765625 1.09375 -5.765625 C 1.390625 -6.265625 2.046875 -6.390625 2.40625 -6.390625 C 2.828125 -6.390625 3.375 -6.171875 3.375 -5.28125 C 3.375 -5.15625 3.34375 -4.578125 3.09375 -4.140625 C 2.796875 -3.65625 2.453125 -3.625 2.203125 -3.625 C 2.125 -3.609375 1.890625 -3.59375 1.8125 -3.59375 C 1.734375 -3.578125 1.671875 -3.5625 1.671875 -3.46875 C 1.671875 -3.359375 1.734375 -3.359375 1.90625 -3.359375 L 2.34375 -3.359375 C 3.15625 -3.359375 3.53125 -2.6875 3.53125 -1.703125 C 3.53125 -0.34375 2.84375 -0.0625 2.40625 -0.0625 C 1.96875 -0.0625 1.21875 -0.234375 0.875 -0.8125 C 1.21875 -0.765625 1.53125 -0.984375 1.53125 -1.359375 C 1.53125 -1.71875 1.265625 -1.921875 0.984375 -1.921875 C 0.734375 -1.921875 0.421875 -1.78125 0.421875 -1.34375 C 0.421875 -0.4375 1.34375 0.21875 2.4375 0.21875 C 3.65625 0.21875 4.5625 -0.6875 4.5625 -1.703125 C 4.5625 -2.515625 3.921875 -3.296875 2.890625 -3.515625 Z M 2.890625 -3.515625 \\\"\\/>\\n<\\/symbol>\\n<symbol overflow=\\\"visible\\\" id=\\\"glyph-1580969628598073-0-5\\\">\\n<path style=\\\"stroke:none;\\\" d=\\\"M 2.9375 -1.640625 L 2.9375 -0.78125 C 2.9375 -0.421875 2.90625 -0.3125 2.171875 -0.3125 L 1.96875 -0.3125 L 1.96875 0 C 2.375 -0.03125 2.890625 -0.03125 3.3125 -0.03125 C 3.734375 -0.03125 4.25 -0.03125 4.671875 0 L 4.671875 -0.3125 L 4.453125 -0.3125 C 3.71875 -0.3125 3.703125 -0.421875 3.703125 -0.78125 L 3.703125 -1.640625 L 4.6875 -1.640625 L 4.6875 -1.953125 L 3.703125 -1.953125 L 3.703125 -6.484375 C 3.703125 -6.6875 3.703125 -6.75 3.53125 -6.75 C 3.453125 -6.75 3.421875 -6.75 3.34375 -6.625 L 0.28125 -1.953125 L 0.28125 -1.640625 Z M 2.984375 -1.953125 L 0.5625 -1.953125 L 2.984375 -5.671875 Z M 2.984375 -1.953125 \\\"\\/>\\n<\\/symbol>\\n<symbol overflow=\\\"visible\\\" id=\\\"glyph-1580969628598073-0-6\\\">\\n<path style=\\\"stroke:none;\\\" d=\\\"M 4.46875 -2 C 4.46875 -3.1875 3.65625 -4.1875 2.578125 -4.1875 C 2.109375 -4.1875 1.671875 -4.03125 1.3125 -3.671875 L 1.3125 -5.625 C 1.515625 -5.5625 1.84375 -5.5 2.15625 -5.5 C 3.390625 -5.5 4.09375 -6.40625 4.09375 -6.53125 C 4.09375 -6.59375 4.0625 -6.640625 3.984375 -6.640625 C 3.984375 -6.640625 3.953125 -6.640625 3.90625 -6.609375 C 3.703125 -6.515625 3.21875 -6.3125 2.546875 -6.3125 C 2.15625 -6.3125 1.6875 -6.390625 1.21875 -6.59375 C 1.140625 -6.625 1.125 -6.625 1.109375 -6.625 C 1 -6.625 1 -6.546875 1 -6.390625 L 1 -3.4375 C 1 -3.265625 1 -3.1875 1.140625 -3.1875 C 1.21875 -3.1875 1.234375 -3.203125 1.28125 -3.265625 C 1.390625 -3.421875 1.75 -3.96875 2.5625 -3.96875 C 3.078125 -3.96875 3.328125 -3.515625 3.40625 -3.328125 C 3.5625 -2.953125 3.59375 -2.578125 3.59375 -2.078125 C 3.59375 -1.71875 3.59375 -1.125 3.34375 -0.703125 C 3.109375 -0.3125 2.734375 -0.0625 2.28125 -0.0625 C 1.5625 -0.0625 0.984375 -0.59375 0.8125 -1.171875 C 0.84375 -1.171875 0.875 -1.15625 0.984375 -1.15625 C 1.3125 -1.15625 1.484375 -1.40625 1.484375 -1.640625 C 1.484375 -1.890625 1.3125 -2.140625 0.984375 -2.140625 C 0.84375 -2.140625 0.5 -2.0625 0.5 -1.609375 C 0.5 -0.75 1.1875 0.21875 2.296875 0.21875 C 3.453125 0.21875 4.46875 -0.734375 4.46875 -2 Z M 4.46875 -2 \\\"\\/>\\n<\\/symbol>\\n<symbol overflow=\\\"visible\\\" id=\\\"glyph-1580969628598073-0-7\\\">\\n<path style=\\\"stroke:none;\\\" d=\\\"M 1.3125 -3.265625 L 1.3125 -3.515625 C 1.3125 -6.03125 2.546875 -6.390625 3.0625 -6.390625 C 3.296875 -6.390625 3.71875 -6.328125 3.9375 -5.984375 C 3.78125 -5.984375 3.390625 -5.984375 3.390625 -5.546875 C 3.390625 -5.234375 3.625 -5.078125 3.84375 -5.078125 C 4 -5.078125 4.3125 -5.171875 4.3125 -5.5625 C 4.3125 -6.15625 3.875 -6.640625 3.046875 -6.640625 C 1.765625 -6.640625 0.421875 -5.359375 0.421875 -3.15625 C 0.421875 -0.484375 1.578125 0.21875 2.5 0.21875 C 3.609375 0.21875 4.5625 -0.71875 4.5625 -2.03125 C 4.5625 -3.296875 3.671875 -4.25 2.5625 -4.25 C 1.890625 -4.25 1.515625 -3.75 1.3125 -3.265625 Z M 2.5 -0.0625 C 1.875 -0.0625 1.578125 -0.65625 1.515625 -0.8125 C 1.328125 -1.28125 1.328125 -2.078125 1.328125 -2.25 C 1.328125 -3.03125 1.65625 -4.03125 2.546875 -4.03125 C 2.71875 -4.03125 3.171875 -4.03125 3.484375 -3.40625 C 3.65625 -3.046875 3.65625 -2.53125 3.65625 -2.046875 C 3.65625 -1.5625 3.65625 -1.0625 3.484375 -0.703125 C 3.1875 -0.109375 2.734375 -0.0625 2.5 -0.0625 Z M 2.5 -0.0625 \\\"\\/>\\n<\\/symbol>\\n<symbol overflow=\\\"visible\\\" id=\\\"glyph-1580969628598073-0-8\\\">\\n<path style=\\\"stroke:none;\\\" d=\\\"M 4.75 -6.078125 C 4.828125 -6.1875 4.828125 -6.203125 4.828125 -6.421875 L 2.40625 -6.421875 C 1.203125 -6.421875 1.171875 -6.546875 1.140625 -6.734375 L 0.890625 -6.734375 L 0.5625 -4.6875 L 0.8125 -4.6875 C 0.84375 -4.84375 0.921875 -5.46875 1.0625 -5.59375 C 1.125 -5.65625 1.90625 -5.65625 2.03125 -5.65625 L 4.09375 -5.65625 C 3.984375 -5.5 3.203125 -4.40625 2.984375 -4.078125 C 2.078125 -2.734375 1.75 -1.34375 1.75 -0.328125 C 1.75 -0.234375 1.75 0.21875 2.21875 0.21875 C 2.671875 0.21875 2.671875 -0.234375 2.671875 -0.328125 L 2.671875 -0.84375 C 2.671875 -1.390625 2.703125 -1.9375 2.78125 -2.46875 C 2.828125 -2.703125 2.953125 -3.5625 3.40625 -4.171875 Z M 4.75 -6.078125 \\\"\\/>\\n<\\/symbol>\\n<symbol overflow=\\\"visible\\\" id=\\\"glyph-1580969628598073-0-9\\\">\\n<path style=\\\"stroke:none;\\\" d=\\\"M 1.625 -4.5625 C 1.171875 -4.859375 1.125 -5.1875 1.125 -5.359375 C 1.125 -5.96875 1.78125 -6.390625 2.484375 -6.390625 C 3.203125 -6.390625 3.84375 -5.875 3.84375 -5.15625 C 3.84375 -4.578125 3.453125 -4.109375 2.859375 -3.765625 Z M 3.078125 -3.609375 C 3.796875 -3.984375 4.28125 -4.5 4.28125 -5.15625 C 4.28125 -6.078125 3.40625 -6.640625 2.5 -6.640625 C 1.5 -6.640625 0.6875 -5.90625 0.6875 -4.96875 C 0.6875 -4.796875 0.703125 -4.34375 1.125 -3.875 C 1.234375 -3.765625 1.609375 -3.515625 1.859375 -3.34375 C 1.28125 -3.046875 0.421875 -2.5 0.421875 -1.5 C 0.421875 -0.453125 1.4375 0.21875 2.484375 0.21875 C 3.609375 0.21875 4.5625 -0.609375 4.5625 -1.671875 C 4.5625 -2.03125 4.453125 -2.484375 4.0625 -2.90625 C 3.875 -3.109375 3.71875 -3.203125 3.078125 -3.609375 Z M 2.078125 -3.1875 L 3.3125 -2.40625 C 3.59375 -2.21875 4.0625 -1.921875 4.0625 -1.3125 C 4.0625 -0.578125 3.3125 -0.0625 2.5 -0.0625 C 1.640625 -0.0625 0.921875 -0.671875 0.921875 -1.5 C 0.921875 -2.078125 1.234375 -2.71875 2.078125 -3.1875 Z M 2.078125 -3.1875 \\\"\\/>\\n<\\/symbol>\\n<symbol overflow=\\\"visible\\\" id=\\\"glyph-1580969628598073-0-10\\\">\\n<path style=\\\"stroke:none;\\\" d=\\\"M 3.65625 -3.171875 L 3.65625 -2.84375 C 3.65625 -0.515625 2.625 -0.0625 2.046875 -0.0625 C 1.875 -0.0625 1.328125 -0.078125 1.0625 -0.421875 C 1.5 -0.421875 1.578125 -0.703125 1.578125 -0.875 C 1.578125 -1.1875 1.34375 -1.328125 1.125 -1.328125 C 0.96875 -1.328125 0.671875 -1.25 0.671875 -0.859375 C 0.671875 -0.1875 1.203125 0.21875 2.046875 0.21875 C 3.34375 0.21875 4.5625 -1.140625 4.5625 -3.28125 C 4.5625 -5.96875 3.40625 -6.640625 2.515625 -6.640625 C 1.96875 -6.640625 1.484375 -6.453125 1.0625 -6.015625 C 0.640625 -5.5625 0.421875 -5.140625 0.421875 -4.390625 C 0.421875 -3.15625 1.296875 -2.171875 2.40625 -2.171875 C 3.015625 -2.171875 3.421875 -2.59375 3.65625 -3.171875 Z M 2.421875 -2.40625 C 2.265625 -2.40625 1.796875 -2.40625 1.5 -3.03125 C 1.3125 -3.40625 1.3125 -3.890625 1.3125 -4.390625 C 1.3125 -4.921875 1.3125 -5.390625 1.53125 -5.765625 C 1.796875 -6.265625 2.171875 -6.390625 2.515625 -6.390625 C 2.984375 -6.390625 3.3125 -6.046875 3.484375 -5.609375 C 3.59375 -5.28125 3.640625 -4.65625 3.640625 -4.203125 C 3.640625 -3.375 3.296875 -2.40625 2.421875 -2.40625 Z M 2.421875 -2.40625 \\\"\\/>\\n<\\/symbol>\\n<symbol overflow=\\\"visible\\\" id=\\\"glyph-1580969628598073-1-0\\\">\\n<path style=\\\"stroke:none;\\\" d=\\\"\\\"\\/>\\n<\\/symbol>\\n<symbol overflow=\\\"visible\\\" id=\\\"glyph-1580969628598073-1-1\\\">\\n<path style=\\\"stroke:none;\\\" d=\\\"M 1.90625 -0.53125 C 1.90625 -0.8125 1.671875 -1.0625 1.390625 -1.0625 C 1.09375 -1.0625 0.859375 -0.8125 0.859375 -0.53125 C 0.859375 -0.234375 1.09375 0 1.390625 0 C 1.671875 0 1.90625 -0.234375 1.90625 -0.53125 Z M 1.90625 -0.53125 \\\"\\/>\\n<\\/symbol>\\n<symbol overflow=\\\"visible\\\" id=\\\"glyph-1580969628598073-2-0\\\">\\n<path style=\\\"stroke:none;\\\" d=\\\"\\\"\\/>\\n<\\/symbol>\\n<symbol overflow=\\\"visible\\\" id=\\\"glyph-1580969628598073-2-1\\\">\\n<path style=\\\"stroke:none;\\\" d=\\\"M 6.484375 -1.828125 C 6.484375 -2.6875 5.671875 -3.4375 4.5625 -3.5625 C 5.53125 -3.75 6.21875 -4.390625 6.21875 -5.125 C 6.21875 -5.984375 5.296875 -6.8125 4 -6.8125 L 0.359375 -6.8125 L 0.359375 -6.5 L 0.59375 -6.5 C 1.359375 -6.5 1.390625 -6.390625 1.390625 -6.03125 L 1.390625 -0.78125 C 1.390625 -0.421875 1.359375 -0.3125 0.59375 -0.3125 L 0.359375 -0.3125 L 0.359375 0 L 4.265625 0 C 5.59375 0 6.484375 -0.890625 6.484375 -1.828125 Z M 5.25 -5.125 C 5.25 -4.484375 4.765625 -3.65625 3.65625 -3.65625 L 2.21875 -3.65625 L 2.21875 -6.09375 C 2.21875 -6.4375 2.234375 -6.5 2.703125 -6.5 L 3.9375 -6.5 C 4.90625 -6.5 5.25 -5.65625 5.25 -5.125 Z M 5.5 -1.828125 C 5.5 -1.125 4.96875 -0.3125 3.953125 -0.3125 L 2.703125 -0.3125 C 2.234375 -0.3125 2.21875 -0.375 2.21875 -0.703125 L 2.21875 -3.421875 L 4.09375 -3.421875 C 5.078125 -3.421875 5.5 -2.5 5.5 -1.828125 Z M 5.5 -1.828125 \\\"\\/>\\n<\\/symbol>\\n<symbol overflow=\\\"visible\\\" id=\\\"glyph-1580969628598073-2-2\\\">\\n<path style=\\\"stroke:none;\\\" d=\\\"M 4.140625 -1.1875 C 4.140625 -1.28125 4.0625 -1.3125 4 -1.3125 C 3.921875 -1.3125 3.890625 -1.25 3.875 -1.171875 C 3.53125 -0.140625 2.625 -0.140625 2.53125 -0.140625 C 2.03125 -0.140625 1.640625 -0.4375 1.40625 -0.8125 C 1.109375 -1.28125 1.109375 -1.9375 1.109375 -2.296875 L 3.890625 -2.296875 C 4.109375 -2.296875 4.140625 -2.296875 4.140625 -2.515625 C 4.140625 -3.5 3.59375 -4.46875 2.359375 -4.46875 C 1.203125 -4.46875 0.28125 -3.4375 0.28125 -2.1875 C 0.28125 -0.859375 1.328125 0.109375 2.46875 0.109375 C 3.6875 0.109375 4.140625 -1 4.140625 -1.1875 Z M 3.484375 -2.515625 L 1.109375 -2.515625 C 1.171875 -4 2.015625 -4.25 2.359375 -4.25 C 3.375 -4.25 3.484375 -2.90625 3.484375 -2.515625 Z M 3.484375 -2.515625 \\\"\\/>\\n<\\/symbol>\\n<symbol overflow=\\\"visible\\\" id=\\\"glyph-1580969628598073-2-3\\\">\\n<path style=\\\"stroke:none;\\\" d=\\\"M 3.3125 -1.234375 L 3.3125 -1.796875 L 3.0625 -1.796875 L 3.0625 -1.25 C 3.0625 -0.515625 2.765625 -0.140625 2.390625 -0.140625 C 1.71875 -0.140625 1.71875 -1.046875 1.71875 -1.21875 L 1.71875 -3.984375 L 3.15625 -3.984375 L 3.15625 -4.296875 L 1.71875 -4.296875 L 1.71875 -6.125 L 1.46875 -6.125 C 1.46875 -5.3125 1.171875 -4.25 0.1875 -4.203125 L 0.1875 -3.984375 L 1.03125 -3.984375 L 1.03125 -1.234375 C 1.03125 -0.015625 1.96875 0.109375 2.328125 0.109375 C 3.03125 0.109375 3.3125 -0.59375 3.3125 -1.234375 Z M 3.3125 -1.234375 \\\"\\/>\\n<\\/symbol>\\n<symbol overflow=\\\"visible\\\" id=\\\"glyph-1580969628598073-2-4\\\">\\n<path style=\\\"stroke:none;\\\" d=\\\"M 4.8125 -0.890625 L 4.8125 -1.453125 L 4.5625 -1.453125 L 4.5625 -0.890625 C 4.5625 -0.3125 4.3125 -0.25 4.203125 -0.25 C 3.875 -0.25 3.84375 -0.703125 3.84375 -0.75 L 3.84375 -2.734375 C 3.84375 -3.15625 3.84375 -3.546875 3.484375 -3.921875 C 3.09375 -4.3125 2.59375 -4.46875 2.109375 -4.46875 C 1.296875 -4.46875 0.609375 -4 0.609375 -3.34375 C 0.609375 -3.046875 0.8125 -2.875 1.0625 -2.875 C 1.34375 -2.875 1.53125 -3.078125 1.53125 -3.328125 C 1.53125 -3.453125 1.46875 -3.78125 1.015625 -3.78125 C 1.28125 -4.140625 1.78125 -4.25 2.09375 -4.25 C 2.578125 -4.25 3.15625 -3.859375 3.15625 -2.96875 L 3.15625 -2.609375 C 2.640625 -2.578125 1.9375 -2.546875 1.3125 -2.25 C 0.5625 -1.90625 0.3125 -1.390625 0.3125 -0.953125 C 0.3125 -0.140625 1.28125 0.109375 1.90625 0.109375 C 2.578125 0.109375 3.03125 -0.296875 3.21875 -0.75 C 3.265625 -0.359375 3.53125 0.0625 4 0.0625 C 4.203125 0.0625 4.8125 -0.078125 4.8125 -0.890625 Z M 3.15625 -1.390625 C 3.15625 -0.453125 2.4375 -0.109375 1.984375 -0.109375 C 1.5 -0.109375 1.09375 -0.453125 1.09375 -0.953125 C 1.09375 -1.5 1.5 -2.328125 3.15625 -2.390625 Z M 3.15625 -1.390625 \\\"\\/>\\n<\\/symbol>\\n<symbol overflow=\\\"visible\\\" id=\\\"glyph-1580969628598073-2-5\\\">\\n<path style=\\\"stroke:none;\\\" d=\\\"M 3.296875 2.390625 C 3.296875 2.359375 3.296875 2.34375 3.125 2.171875 C 1.890625 0.921875 1.5625 -0.96875 1.5625 -2.5 C 1.5625 -4.234375 1.9375 -5.96875 3.171875 -7.203125 C 3.296875 -7.328125 3.296875 -7.34375 3.296875 -7.375 C 3.296875 -7.453125 3.265625 -7.484375 3.203125 -7.484375 C 3.09375 -7.484375 2.203125 -6.796875 1.609375 -5.53125 C 1.109375 -4.4375 0.984375 -3.328125 0.984375 -2.5 C 0.984375 -1.71875 1.09375 -0.515625 1.640625 0.625 C 2.25 1.84375 3.09375 2.5 3.203125 2.5 C 3.265625 2.5 3.296875 2.46875 3.296875 2.390625 Z M 3.296875 2.390625 \\\"\\/>\\n<\\/symbol>\\n<symbol overflow=\\\"visible\\\" id=\\\"glyph-1580969628598073-2-6\\\">\\n<path style=\\\"stroke:none;\\\" d=\\\"M 4.171875 0 L 4.171875 -0.3125 L 3.859375 -0.3125 C 2.953125 -0.3125 2.9375 -0.421875 2.9375 -0.78125 L 2.9375 -6.375 C 2.9375 -6.625 2.9375 -6.640625 2.703125 -6.640625 C 2.078125 -6 1.203125 -6 0.890625 -6 L 0.890625 -5.6875 C 1.09375 -5.6875 1.671875 -5.6875 2.1875 -5.953125 L 2.1875 -0.78125 C 2.1875 -0.421875 2.15625 -0.3125 1.265625 -0.3125 L 0.953125 -0.3125 L 0.953125 0 C 1.296875 -0.03125 2.15625 -0.03125 2.5625 -0.03125 C 2.953125 -0.03125 3.828125 -0.03125 4.171875 0 Z M 4.171875 0 \\\"\\/>\\n<\\/symbol>\\n<symbol overflow=\\\"visible\\\" id=\\\"glyph-1580969628598073-2-7\\\">\\n<path style=\\\"stroke:none;\\\" d=\\\"M 2.03125 -0.015625 C 2.03125 -0.640625 1.78125 -1.0625 1.390625 -1.0625 C 1.03125 -1.0625 0.859375 -0.78125 0.859375 -0.53125 C 0.859375 -0.265625 1.03125 0 1.390625 0 C 1.53125 0 1.671875 -0.0625 1.78125 -0.15625 C 1.796875 0.625 1.53125 1.234375 1.09375 1.703125 C 1.03125 1.765625 1.015625 1.78125 1.015625 1.8125 C 1.015625 1.890625 1.0625 1.921875 1.109375 1.921875 C 1.234375 1.921875 2.03125 1.140625 2.03125 -0.015625 Z M 2.03125 -0.015625 \\\"\\/>\\n<\\/symbol>\\n<symbol overflow=\\\"visible\\\" id=\\\"glyph-1580969628598073-2-8\\\">\\n<path style=\\\"stroke:none;\\\" d=\\\"M 2.875 -2.5 C 2.875 -3.265625 2.765625 -4.46875 2.21875 -5.609375 C 1.625 -6.828125 0.765625 -7.484375 0.671875 -7.484375 C 0.609375 -7.484375 0.5625 -7.4375 0.5625 -7.375 C 0.5625 -7.34375 0.5625 -7.328125 0.75 -7.140625 C 1.734375 -6.15625 2.296875 -4.578125 2.296875 -2.5 C 2.296875 -0.78125 1.9375 0.96875 0.703125 2.21875 C 0.5625 2.34375 0.5625 2.359375 0.5625 2.390625 C 0.5625 2.453125 0.609375 2.5 0.671875 2.5 C 0.765625 2.5 1.671875 1.8125 2.25 0.546875 C 2.765625 -0.546875 2.875 -1.65625 2.875 -2.5 Z M 2.875 -2.5 \\\"\\/>\\n<\\/symbol>\\n<\\/g>\\n<clipPath id=\\\"clip-1580969628598073-1\\\">\\n  <path d=\\\"M 19.570312 21 L 399.9375 21 L 399.9375 23 L 19.570312 23 Z M 19.570312 21 \\\"\\/>\\n<\\/clipPath>\\n<\\/defs>\\n<g id=\\\"surface1\\\">\\n<path style=\\\"fill:none;stroke-width:0.19925;stroke-linecap:butt;stroke-linejoin:miter;stroke:rgb(50%,50%,50%);stroke-opacity:1;stroke-miterlimit:10;\\\" d=\\\"M 0.0003125 -0.00103125 L 0.0003125 4.252875 M 38.035469 -0.00103125 L 38.035469 4.252875 M 76.074531 -0.00103125 L 76.074531 4.252875 M 114.109688 -0.00103125 L 114.109688 4.252875 M 152.14875 -0.00103125 L 152.14875 4.252875 M 190.183906 -0.00103125 L 190.183906 4.252875 M 228.222969 -0.00103125 L 228.222969 4.252875 M 266.258125 -0.00103125 L 266.258125 4.252875 M 304.293281 -0.00103125 L 304.293281 4.252875 M 342.332344 -0.00103125 L 342.332344 4.252875 M 380.3675 -0.00103125 L 380.3675 4.252875 M 0.0003125 238.635688 L 0.0003125 234.381781 M 38.035469 238.635688 L 38.035469 234.381781 M 76.074531 238.635688 L 76.074531 234.381781 M 114.109688 238.635688 L 114.109688 234.381781 M 152.14875 238.635688 L 152.14875 234.381781 M 190.183906 238.635688 L 190.183906 234.381781 M 228.222969 238.635688 L 228.222969 234.381781 M 266.258125 238.635688 L 266.258125 234.381781 M 304.293281 238.635688 L 304.293281 234.381781 M 342.332344 238.635688 L 342.332344 234.381781 M 380.3675 238.635688 L 380.3675 234.381781 \\\" transform=\\\"matrix(1,0,0,-1,19.57,238.831)\\\"\\/>\\n<path style=\\\"fill:none;stroke-width:0.19925;stroke-linecap:butt;stroke-linejoin:miter;stroke:rgb(50%,50%,50%);stroke-opacity:1;stroke-miterlimit:10;\\\" d=\\\"M 0.0003125 -0.00103125 L 4.254219 -0.00103125 M 0.0003125 43.389594 L 4.254219 43.389594 M 0.0003125 86.776313 L 4.254219 86.776313 M 0.0003125 130.163031 L 4.254219 130.163031 M 0.0003125 173.553656 L 4.254219 173.553656 M 0.0003125 216.940375 L 4.254219 216.940375 M 380.3675 -0.00103125 L 376.1175 -0.00103125 M 380.3675 43.389594 L 376.1175 43.389594 M 380.3675 86.776313 L 376.1175 86.776313 M 380.3675 130.163031 L 376.1175 130.163031 M 380.3675 173.553656 L 376.1175 173.553656 M 380.3675 216.940375 L 376.1175 216.940375 \\\" transform=\\\"matrix(1,0,0,-1,19.57,238.831)\\\"\\/>\\n<path style=\\\"fill:none;stroke-width:0.3985;stroke-linecap:butt;stroke-linejoin:miter;stroke:rgb(0%,0%,0%);stroke-opacity:1;stroke-miterlimit:10;\\\" d=\\\"M 0.0003125 -0.00103125 L 0.0003125 238.635688 L 380.3675 238.635688 L 380.3675 -0.00103125 Z M 0.0003125 -0.00103125 \\\" transform=\\\"matrix(1,0,0,-1,19.57,238.831)\\\"\\/>\\n<g style=\\\"fill:rgb(0%,0%,0%);fill-opacity:1;\\\">\\n  <use xlink:href=\\\"#glyph-1580969628598073-0-1\\\" x=\\\"17.08\\\" y=\\\"248.771\\\"\\/>\\n<\\/g>\\n<g style=\\\"fill:rgb(0%,0%,0%);fill-opacity:1;\\\">\\n  <use xlink:href=\\\"#glyph-1580969628598073-0-1\\\" x=\\\"51.242\\\" y=\\\"248.771\\\"\\/>\\n<\\/g>\\n<g style=\\\"fill:rgb(0%,0%,0%);fill-opacity:1;\\\">\\n  <use xlink:href=\\\"#glyph-1580969628598073-1-1\\\" x=\\\"56.223\\\" y=\\\"248.771\\\"\\/>\\n<\\/g>\\n<g style=\\\"fill:rgb(0%,0%,0%);fill-opacity:1;\\\">\\n  <use xlink:href=\\\"#glyph-1580969628598073-0-2\\\" x=\\\"58.99\\\" y=\\\"248.771\\\"\\/>\\n<\\/g>\\n<g style=\\\"fill:rgb(0%,0%,0%);fill-opacity:1;\\\">\\n  <use xlink:href=\\\"#glyph-1580969628598073-0-1\\\" x=\\\"89.278\\\" y=\\\"248.771\\\"\\/>\\n<\\/g>\\n<g style=\\\"fill:rgb(0%,0%,0%);fill-opacity:1;\\\">\\n  <use xlink:href=\\\"#glyph-1580969628598073-1-1\\\" x=\\\"94.259\\\" y=\\\"248.771\\\"\\/>\\n<\\/g>\\n<g style=\\\"fill:rgb(0%,0%,0%);fill-opacity:1;\\\">\\n  <use xlink:href=\\\"#glyph-1580969628598073-0-3\\\" x=\\\"97.027\\\" y=\\\"248.771\\\"\\/>\\n<\\/g>\\n<g style=\\\"fill:rgb(0%,0%,0%);fill-opacity:1;\\\">\\n  <use xlink:href=\\\"#glyph-1580969628598073-0-1\\\" x=\\\"127.314\\\" y=\\\"248.771\\\"\\/>\\n<\\/g>\\n<g style=\\\"fill:rgb(0%,0%,0%);fill-opacity:1;\\\">\\n  <use xlink:href=\\\"#glyph-1580969628598073-1-1\\\" x=\\\"132.296\\\" y=\\\"248.771\\\"\\/>\\n<\\/g>\\n<g style=\\\"fill:rgb(0%,0%,0%);fill-opacity:1;\\\">\\n  <use xlink:href=\\\"#glyph-1580969628598073-0-4\\\" x=\\\"135.063\\\" y=\\\"248.771\\\"\\/>\\n<\\/g>\\n<g style=\\\"fill:rgb(0%,0%,0%);fill-opacity:1;\\\">\\n  <use xlink:href=\\\"#glyph-1580969628598073-0-1\\\" x=\\\"165.351\\\" y=\\\"248.771\\\"\\/>\\n<\\/g>\\n<g style=\\\"fill:rgb(0%,0%,0%);fill-opacity:1;\\\">\\n  <use xlink:href=\\\"#glyph-1580969628598073-1-1\\\" x=\\\"170.332\\\" y=\\\"248.771\\\"\\/>\\n<\\/g>\\n<g style=\\\"fill:rgb(0%,0%,0%);fill-opacity:1;\\\">\\n  <use xlink:href=\\\"#glyph-1580969628598073-0-5\\\" x=\\\"173.1\\\" y=\\\"248.771\\\"\\/>\\n<\\/g>\\n<g style=\\\"fill:rgb(0%,0%,0%);fill-opacity:1;\\\">\\n  <use xlink:href=\\\"#glyph-1580969628598073-0-1\\\" x=\\\"203.387\\\" y=\\\"248.771\\\"\\/>\\n<\\/g>\\n<g style=\\\"fill:rgb(0%,0%,0%);fill-opacity:1;\\\">\\n  <use xlink:href=\\\"#glyph-1580969628598073-1-1\\\" x=\\\"208.369\\\" y=\\\"248.771\\\"\\/>\\n<\\/g>\\n<g style=\\\"fill:rgb(0%,0%,0%);fill-opacity:1;\\\">\\n  <use xlink:href=\\\"#glyph-1580969628598073-0-6\\\" x=\\\"211.136\\\" y=\\\"248.771\\\"\\/>\\n<\\/g>\\n<g style=\\\"fill:rgb(0%,0%,0%);fill-opacity:1;\\\">\\n  <use xlink:href=\\\"#glyph-1580969628598073-0-1\\\" x=\\\"241.424\\\" y=\\\"248.771\\\"\\/>\\n<\\/g>\\n<g style=\\\"fill:rgb(0%,0%,0%);fill-opacity:1;\\\">\\n  <use xlink:href=\\\"#glyph-1580969628598073-1-1\\\" x=\\\"246.405\\\" y=\\\"248.771\\\"\\/>\\n<\\/g>\\n<g style=\\\"fill:rgb(0%,0%,0%);fill-opacity:1;\\\">\\n  <use xlink:href=\\\"#glyph-1580969628598073-0-7\\\" x=\\\"249.172\\\" y=\\\"248.771\\\"\\/>\\n<\\/g>\\n<g style=\\\"fill:rgb(0%,0%,0%);fill-opacity:1;\\\">\\n  <use xlink:href=\\\"#glyph-1580969628598073-0-1\\\" x=\\\"279.46\\\" y=\\\"248.771\\\"\\/>\\n<\\/g>\\n<g style=\\\"fill:rgb(0%,0%,0%);fill-opacity:1;\\\">\\n  <use xlink:href=\\\"#glyph-1580969628598073-1-1\\\" x=\\\"284.441\\\" y=\\\"248.771\\\"\\/>\\n<\\/g>\\n<g style=\\\"fill:rgb(0%,0%,0%);fill-opacity:1;\\\">\\n  <use xlink:href=\\\"#glyph-1580969628598073-0-8\\\" x=\\\"287.209\\\" y=\\\"248.771\\\"\\/>\\n<\\/g>\\n<g style=\\\"fill:rgb(0%,0%,0%);fill-opacity:1;\\\">\\n  <use xlink:href=\\\"#glyph-1580969628598073-0-1\\\" x=\\\"317.496\\\" y=\\\"248.771\\\"\\/>\\n<\\/g>\\n<g style=\\\"fill:rgb(0%,0%,0%);fill-opacity:1;\\\">\\n  <use xlink:href=\\\"#glyph-1580969628598073-1-1\\\" x=\\\"322.478\\\" y=\\\"248.771\\\"\\/>\\n<\\/g>\\n<g style=\\\"fill:rgb(0%,0%,0%);fill-opacity:1;\\\">\\n  <use xlink:href=\\\"#glyph-1580969628598073-0-9\\\" x=\\\"325.245\\\" y=\\\"248.771\\\"\\/>\\n<\\/g>\\n<g style=\\\"fill:rgb(0%,0%,0%);fill-opacity:1;\\\">\\n  <use xlink:href=\\\"#glyph-1580969628598073-0-1\\\" x=\\\"355.533\\\" y=\\\"248.771\\\"\\/>\\n<\\/g>\\n<g style=\\\"fill:rgb(0%,0%,0%);fill-opacity:1;\\\">\\n  <use xlink:href=\\\"#glyph-1580969628598073-1-1\\\" x=\\\"360.514\\\" y=\\\"248.771\\\"\\/>\\n<\\/g>\\n<g style=\\\"fill:rgb(0%,0%,0%);fill-opacity:1;\\\">\\n  <use xlink:href=\\\"#glyph-1580969628598073-0-10\\\" x=\\\"363.281\\\" y=\\\"248.771\\\"\\/>\\n<\\/g>\\n<g style=\\\"fill:rgb(0%,0%,0%);fill-opacity:1;\\\">\\n  <use xlink:href=\\\"#glyph-1580969628598073-0-2\\\" x=\\\"397.443\\\" y=\\\"248.771\\\"\\/>\\n<\\/g>\\n<g style=\\\"fill:rgb(0%,0%,0%);fill-opacity:1;\\\">\\n  <use xlink:href=\\\"#glyph-1580969628598073-0-1\\\" x=\\\"11.069\\\" y=\\\"242.042\\\"\\/>\\n<\\/g>\\n<g style=\\\"fill:rgb(0%,0%,0%);fill-opacity:1;\\\">\\n  <use xlink:href=\\\"#glyph-1580969628598073-0-1\\\" x=\\\"3.321\\\" y=\\\"198.654\\\"\\/>\\n<\\/g>\\n<g style=\\\"fill:rgb(0%,0%,0%);fill-opacity:1;\\\">\\n  <use xlink:href=\\\"#glyph-1580969628598073-1-1\\\" x=\\\"8.302\\\" y=\\\"198.654\\\"\\/>\\n<\\/g>\\n<g style=\\\"fill:rgb(0%,0%,0%);fill-opacity:1;\\\">\\n  <use xlink:href=\\\"#glyph-1580969628598073-0-3\\\" x=\\\"11.069\\\" y=\\\"198.654\\\"\\/>\\n<\\/g>\\n<g style=\\\"fill:rgb(0%,0%,0%);fill-opacity:1;\\\">\\n  <use xlink:href=\\\"#glyph-1580969628598073-0-1\\\" x=\\\"3.321\\\" y=\\\"155.267\\\"\\/>\\n<\\/g>\\n<g style=\\\"fill:rgb(0%,0%,0%);fill-opacity:1;\\\">\\n  <use xlink:href=\\\"#glyph-1580969628598073-1-1\\\" x=\\\"8.302\\\" y=\\\"155.267\\\"\\/>\\n<\\/g>\\n<g style=\\\"fill:rgb(0%,0%,0%);fill-opacity:1;\\\">\\n  <use xlink:href=\\\"#glyph-1580969628598073-0-5\\\" x=\\\"11.069\\\" y=\\\"155.267\\\"\\/>\\n<\\/g>\\n<g style=\\\"fill:rgb(0%,0%,0%);fill-opacity:1;\\\">\\n  <use xlink:href=\\\"#glyph-1580969628598073-0-1\\\" x=\\\"3.321\\\" y=\\\"111.879\\\"\\/>\\n<\\/g>\\n<g style=\\\"fill:rgb(0%,0%,0%);fill-opacity:1;\\\">\\n  <use xlink:href=\\\"#glyph-1580969628598073-1-1\\\" x=\\\"8.302\\\" y=\\\"111.879\\\"\\/>\\n<\\/g>\\n<g style=\\\"fill:rgb(0%,0%,0%);fill-opacity:1;\\\">\\n  <use xlink:href=\\\"#glyph-1580969628598073-0-7\\\" x=\\\"11.069\\\" y=\\\"111.879\\\"\\/>\\n<\\/g>\\n<g style=\\\"fill:rgb(0%,0%,0%);fill-opacity:1;\\\">\\n  <use xlink:href=\\\"#glyph-1580969628598073-0-1\\\" x=\\\"3.321\\\" y=\\\"68.492\\\"\\/>\\n<\\/g>\\n<g style=\\\"fill:rgb(0%,0%,0%);fill-opacity:1;\\\">\\n  <use xlink:href=\\\"#glyph-1580969628598073-1-1\\\" x=\\\"8.302\\\" y=\\\"68.492\\\"\\/>\\n<\\/g>\\n<g style=\\\"fill:rgb(0%,0%,0%);fill-opacity:1;\\\">\\n  <use xlink:href=\\\"#glyph-1580969628598073-0-9\\\" x=\\\"11.069\\\" y=\\\"68.492\\\"\\/>\\n<\\/g>\\n<g style=\\\"fill:rgb(0%,0%,0%);fill-opacity:1;\\\">\\n  <use xlink:href=\\\"#glyph-1580969628598073-0-2\\\" x=\\\"11.069\\\" y=\\\"25.104\\\"\\/>\\n<\\/g>\\n<g clip-path=\\\"url(#clip-1580969628598073-1)\\\" clip-rule=\\\"nonzero\\\">\\n<path style=\\\"fill:none;stroke-width:0.3985;stroke-linecap:butt;stroke-linejoin:miter;stroke:rgb(0%,0%,100%);stroke-opacity:1;stroke-miterlimit:10;\\\" d=\\\"M 0.0003125 216.940375 L 380.3675 216.940375 \\\" transform=\\\"matrix(1,0,0,-1,19.57,238.831)\\\"\\/>\\n<\\/g>\\n<path style=\\\"fill-rule:nonzero;fill:rgb(100%,100%,100%);fill-opacity:1;stroke-width:0.3985;stroke-linecap:butt;stroke-linejoin:miter;stroke:rgb(0%,0%,0%);stroke-opacity:1;stroke-miterlimit:10;\\\" d=\\\"M 301.055 216.725531 L 372.558906 216.725531 L 372.558906 233.663031 L 301.055 233.663031 Z M 301.055 216.725531 \\\" transform=\\\"matrix(1,0,0,-1,19.57,238.831)\\\"\\/>\\n<path style=\\\"fill:none;stroke-width:0.3985;stroke-linecap:butt;stroke-linejoin:miter;stroke:rgb(0%,0%,100%);stroke-opacity:1;stroke-miterlimit:10;\\\" d=\\\"M -0.00140625 -0.000625 L 17.006406 -0.000625 \\\" transform=\\\"matrix(1,0,0,-1,323.81,13.64)\\\"\\/>\\n<g style=\\\"fill:rgb(0%,0%,0%);fill-opacity:1;\\\">\\n  <use xlink:href=\\\"#glyph-1580969628598073-2-1\\\" x=\\\"343.01\\\" y=\\\"16.629\\\"\\/>\\n  <use xlink:href=\\\"#glyph-1580969628598073-2-2\\\" x=\\\"350.063549\\\" y=\\\"16.629\\\"\\/>\\n  <use xlink:href=\\\"#glyph-1580969628598073-2-3\\\" x=\\\"354.486961\\\" y=\\\"16.629\\\"\\/>\\n  <use xlink:href=\\\"#glyph-1580969628598073-2-4\\\" x=\\\"358.362428\\\" y=\\\"16.629\\\"\\/>\\n  <use xlink:href=\\\"#glyph-1580969628598073-2-5\\\" x=\\\"363.343748\\\" y=\\\"16.629\\\"\\/>\\n  <use xlink:href=\\\"#glyph-1580969628598073-2-6\\\" x=\\\"367.219215\\\" y=\\\"16.629\\\"\\/>\\n  <use xlink:href=\\\"#glyph-1580969628598073-2-7\\\" x=\\\"372.200535\\\" y=\\\"16.629\\\"\\/>\\n<\\/g>\\n<g style=\\\"fill:rgb(0%,0%,0%);fill-opacity:1;\\\">\\n  <use xlink:href=\\\"#glyph-1580969628598073-2-6\\\" x=\\\"378.287708\\\" y=\\\"16.629\\\"\\/>\\n  <use xlink:href=\\\"#glyph-1580969628598073-2-8\\\" x=\\\"383.269028\\\" y=\\\"16.629\\\"\\/>\\n<\\/g>\\n<\\/g>\\n<\\/svg>\\n\\n\"},\"nodeType\":\"DOM\",\"type\":\"node\",\"instanceArgs\":{\"namespace\":\"html\",\"tag\":\"div\"},\"children\":[]}]},\n",
       "            window,\n",
       "        );\n",
       "    } else {\n",
       "        document\n",
       "            .querySelector('[data-webio-mountpoint=\"16178259791980279403\"]')\n",
       "            .innerHTML = (\n",
       "                '<div style=\"padding: 1em; background-color: #f8d6da; border: 1px solid #f5c6cb\">' +\n",
       "                '<p><strong>WebIO not detected.</strong></p>' +\n",
       "                '<p>Please read ' +\n",
       "                '<a href=\"https://juliagizmos.github.io/WebIO.jl/latest/troubleshooting/not-detected/\" target=\"_blank\">the troubleshooting guide</a> ' +\n",
       "                'for more information on how to resolve this issue.</p>' +\n",
       "                '<p><a href=\"https://juliagizmos.github.io/WebIO.jl/latest/troubleshooting/not-detected/\" target=\"_blank\">https://juliagizmos.github.io/WebIO.jl/latest/troubleshooting/not-detected/</a></p>' +\n",
       "                '</div>'\n",
       "            );\n",
       "    }\n",
       "    </script>\n",
       "</div>\n"
      ],
      "text/plain": [
       "Observable{Any} with 0 listeners. Value:\n",
       "Axis(PGFPlots.Plots.Plot[PGFPlots.Plots.Linear(Real[0.0 0.010101010101010102 … 0.98989898989899 1.0; 1.0 1.0 … 1.0 1.0], \"none\", nothing, nothing, \"Beta(1, 1)\", nothing, nothing, nothing, false)], nothing, nothing, nothing, nothing, nothing, nothing, nothing, 0, 1, 0, nothing, nothing, nothing, nothing, nothing, nothing, \"15cm\", \"10cm\", nothing, nothing, nothing, nothing, nothing, nothing, nothing, nothing, nothing, \"axis\")"
      ]
     },
     "metadata": {
      "application/vnd.webio.node+json": {
       "kernelId": "dd5017fb-e108-4a46-a015-6527faa074d8"
      }
     },
     "output_type": "display_data"
    },
    {
     "data": {
      "application/vnd.webio.node+json": {
       "children": [
        {
         "children": [
          {
           "children": [
            "Arm 2"
           ],
           "instanceArgs": {
            "namespace": "html",
            "tag": "button"
           },
           "nodeType": "DOM",
           "props": {
            "attributes": {
             "data-bind": "click: function (){this.clicks(this.clicks()+1)}, css: {'is-loading' : loading}"
            },
            "className": "is-medium button is-primary",
            "style": {}
           },
           "type": "node"
          }
         ],
         "instanceArgs": {
          "handlers": {
           "clicks": [
            "(function (val){return (val!=this.model[\"clicks\"]()) ? (this.valueFromJulia[\"clicks\"]=true, this.model[\"clicks\"](val)) : undefined})"
           ],
           "loading": [
            "(function (val){return (val!=this.model[\"loading\"]()) ? (this.valueFromJulia[\"loading\"]=true, this.model[\"loading\"](val)) : undefined})"
           ]
          },
          "id": "6955646009128294131",
          "imports": {
           "data": [
            {
             "name": "knockout",
             "type": "js",
             "url": "/assetserver/3e541dee53151b2c541f58d90425f0a0925f9e0f-knockout.js"
            },
            {
             "name": "knockout_punches",
             "type": "js",
             "url": "/assetserver/a2fe821063f7b9402a4f3a4f892ed8b183d4262e-knockout_punches.js"
            },
            {
             "name": null,
             "type": "js",
             "url": "/assetserver/dca5dacd6b773cb2d9b372cb162585b4bab6abce-all.js"
            },
            {
             "name": null,
             "type": "css",
             "url": "/assetserver/a1491573312c28f6fe82fff21946abae6141d461-style.css"
            },
            {
             "name": null,
             "type": "css",
             "url": "/assetserver/2b70ab798aa8d032d4d4df5efcc489d2c54ad5f7-bulma_confined.min.css"
            }
           ],
           "type": "async_block"
          },
          "mount_callbacks": [
           "function () {\n    var handler = (function (ko, koPunches) {\n    ko.punches.enableAll();\n    ko.bindingHandlers.numericValue = {\n        init: function(element, valueAccessor, allBindings, data, context) {\n            var stringified = ko.observable(ko.unwrap(valueAccessor()));\n            stringified.subscribe(function(value) {\n                var val = parseFloat(value);\n                if (!isNaN(val)) {\n                    valueAccessor()(val);\n                }\n            });\n            valueAccessor().subscribe(function(value) {\n                var str = JSON.stringify(value);\n                if ((str == \"0\") && ([\"-0\", \"-0.\"].indexOf(stringified()) >= 0))\n                     return;\n                 if ([\"null\", \"\"].indexOf(str) >= 0)\n                     return;\n                stringified(str);\n            });\n            ko.applyBindingsToNode(\n                element,\n                {\n                    value: stringified,\n                    valueUpdate: allBindings.get('valueUpdate'),\n                },\n                context,\n            );\n        }\n    };\n    var json_data = {\"loading\":WebIO.getval({\"name\":\"loading\",\"scope\":\"6955646009128294131\",\"id\":\"ob_71\",\"type\":\"observable\"}),\"clicks\":WebIO.getval({\"name\":\"clicks\",\"scope\":\"6955646009128294131\",\"id\":\"ob_70\",\"type\":\"observable\"})};\n    var self = this;\n    function AppViewModel() {\n        for (var key in json_data) {\n            var el = json_data[key];\n            this[key] = Array.isArray(el) ? ko.observableArray(el) : ko.observable(el);\n        }\n        \n        \n        [this[\"loading\"].subscribe((function (val){!(this.valueFromJulia[\"loading\"]) ? (WebIO.setval({\"name\":\"loading\",\"scope\":\"6955646009128294131\",\"id\":\"ob_71\",\"type\":\"observable\"},val)) : undefined; return this.valueFromJulia[\"loading\"]=false}),self),this[\"clicks\"].subscribe((function (val){!(this.valueFromJulia[\"clicks\"]) ? (WebIO.setval({\"name\":\"clicks\",\"scope\":\"6955646009128294131\",\"id\":\"ob_70\",\"type\":\"observable\"},val)) : undefined; return this.valueFromJulia[\"clicks\"]=false}),self)]\n        \n    }\n    self.model = new AppViewModel();\n    self.valueFromJulia = {};\n    for (var key in json_data) {\n        self.valueFromJulia[key] = false;\n    }\n    ko.applyBindings(self.model, self.dom);\n}\n);\n    (WebIO.importBlock({\"data\":[{\"name\":\"knockout\",\"type\":\"js\",\"url\":\"/assetserver/3e541dee53151b2c541f58d90425f0a0925f9e0f-knockout.js\"},{\"name\":\"knockout_punches\",\"type\":\"js\",\"url\":\"/assetserver/a2fe821063f7b9402a4f3a4f892ed8b183d4262e-knockout_punches.js\"}],\"type\":\"async_block\"})).then((imports) => handler.apply(this, imports));\n}\n"
          ],
          "observables": {
           "clicks": {
            "id": "ob_70",
            "sync": false,
            "value": 0
           },
           "loading": {
            "id": "ob_71",
            "sync": false,
            "value": false
           }
          },
          "systemjs_options": null
         },
         "nodeType": "Scope",
         "props": {},
         "type": "node"
        }
       ],
       "instanceArgs": {
        "namespace": "html",
        "tag": "div"
       },
       "nodeType": "DOM",
       "props": {
        "className": "field interact-widget"
       },
       "type": "node"
      },
      "text/html": [
       "<div\n",
       "    class=\"webio-mountpoint\"\n",
       "    data-webio-mountpoint=\"8579344790595627052\"\n",
       ">\n",
       "    <script>\n",
       "    if (window.require && require.defined && require.defined(\"nbextensions/webio-jupyter-notebook\")) {\n",
       "        console.log(\"Jupyter WebIO extension detected, not mounting.\");\n",
       "    } else if (window.WebIO) {\n",
       "        WebIO.mount(\n",
       "            document.querySelector('[data-webio-mountpoint=\"8579344790595627052\"]'),\n",
       "            {\"props\":{\"className\":\"field interact-widget\"},\"nodeType\":\"DOM\",\"type\":\"node\",\"instanceArgs\":{\"namespace\":\"html\",\"tag\":\"div\"},\"children\":[{\"props\":{},\"nodeType\":\"Scope\",\"type\":\"node\",\"instanceArgs\":{\"imports\":{\"data\":[{\"name\":\"knockout\",\"type\":\"js\",\"url\":\"\\/assetserver\\/3e541dee53151b2c541f58d90425f0a0925f9e0f-knockout.js\"},{\"name\":\"knockout_punches\",\"type\":\"js\",\"url\":\"\\/assetserver\\/a2fe821063f7b9402a4f3a4f892ed8b183d4262e-knockout_punches.js\"},{\"name\":null,\"type\":\"js\",\"url\":\"\\/assetserver\\/dca5dacd6b773cb2d9b372cb162585b4bab6abce-all.js\"},{\"name\":null,\"type\":\"css\",\"url\":\"\\/assetserver\\/a1491573312c28f6fe82fff21946abae6141d461-style.css\"},{\"name\":null,\"type\":\"css\",\"url\":\"\\/assetserver\\/2b70ab798aa8d032d4d4df5efcc489d2c54ad5f7-bulma_confined.min.css\"}],\"type\":\"async_block\"},\"id\":\"6955646009128294131\",\"handlers\":{\"loading\":[\"(function (val){return (val!=this.model[\\\"loading\\\"]()) ? (this.valueFromJulia[\\\"loading\\\"]=true, this.model[\\\"loading\\\"](val)) : undefined})\"],\"clicks\":[\"(function (val){return (val!=this.model[\\\"clicks\\\"]()) ? (this.valueFromJulia[\\\"clicks\\\"]=true, this.model[\\\"clicks\\\"](val)) : undefined})\"]},\"systemjs_options\":null,\"mount_callbacks\":[\"function () {\\n    var handler = (function (ko, koPunches) {\\n    ko.punches.enableAll();\\n    ko.bindingHandlers.numericValue = {\\n        init: function(element, valueAccessor, allBindings, data, context) {\\n            var stringified = ko.observable(ko.unwrap(valueAccessor()));\\n            stringified.subscribe(function(value) {\\n                var val = parseFloat(value);\\n                if (!isNaN(val)) {\\n                    valueAccessor()(val);\\n                }\\n            });\\n            valueAccessor().subscribe(function(value) {\\n                var str = JSON.stringify(value);\\n                if ((str == \\\"0\\\") && ([\\\"-0\\\", \\\"-0.\\\"].indexOf(stringified()) >= 0))\\n                     return;\\n                 if ([\\\"null\\\", \\\"\\\"].indexOf(str) >= 0)\\n                     return;\\n                stringified(str);\\n            });\\n            ko.applyBindingsToNode(\\n                element,\\n                {\\n                    value: stringified,\\n                    valueUpdate: allBindings.get('valueUpdate'),\\n                },\\n                context,\\n            );\\n        }\\n    };\\n    var json_data = {\\\"loading\\\":WebIO.getval({\\\"name\\\":\\\"loading\\\",\\\"scope\\\":\\\"6955646009128294131\\\",\\\"id\\\":\\\"ob_71\\\",\\\"type\\\":\\\"observable\\\"}),\\\"clicks\\\":WebIO.getval({\\\"name\\\":\\\"clicks\\\",\\\"scope\\\":\\\"6955646009128294131\\\",\\\"id\\\":\\\"ob_70\\\",\\\"type\\\":\\\"observable\\\"})};\\n    var self = this;\\n    function AppViewModel() {\\n        for (var key in json_data) {\\n            var el = json_data[key];\\n            this[key] = Array.isArray(el) ? ko.observableArray(el) : ko.observable(el);\\n        }\\n        \\n        \\n        [this[\\\"loading\\\"].subscribe((function (val){!(this.valueFromJulia[\\\"loading\\\"]) ? (WebIO.setval({\\\"name\\\":\\\"loading\\\",\\\"scope\\\":\\\"6955646009128294131\\\",\\\"id\\\":\\\"ob_71\\\",\\\"type\\\":\\\"observable\\\"},val)) : undefined; return this.valueFromJulia[\\\"loading\\\"]=false}),self),this[\\\"clicks\\\"].subscribe((function (val){!(this.valueFromJulia[\\\"clicks\\\"]) ? (WebIO.setval({\\\"name\\\":\\\"clicks\\\",\\\"scope\\\":\\\"6955646009128294131\\\",\\\"id\\\":\\\"ob_70\\\",\\\"type\\\":\\\"observable\\\"},val)) : undefined; return this.valueFromJulia[\\\"clicks\\\"]=false}),self)]\\n        \\n    }\\n    self.model = new AppViewModel();\\n    self.valueFromJulia = {};\\n    for (var key in json_data) {\\n        self.valueFromJulia[key] = false;\\n    }\\n    ko.applyBindings(self.model, self.dom);\\n}\\n);\\n    (WebIO.importBlock({\\\"data\\\":[{\\\"name\\\":\\\"knockout\\\",\\\"type\\\":\\\"js\\\",\\\"url\\\":\\\"\\/assetserver\\/3e541dee53151b2c541f58d90425f0a0925f9e0f-knockout.js\\\"},{\\\"name\\\":\\\"knockout_punches\\\",\\\"type\\\":\\\"js\\\",\\\"url\\\":\\\"\\/assetserver\\/a2fe821063f7b9402a4f3a4f892ed8b183d4262e-knockout_punches.js\\\"}],\\\"type\\\":\\\"async_block\\\"})).then((imports) => handler.apply(this, imports));\\n}\\n\"],\"observables\":{\"loading\":{\"sync\":false,\"id\":\"ob_71\",\"value\":false},\"clicks\":{\"sync\":false,\"id\":\"ob_70\",\"value\":0}}},\"children\":[{\"props\":{\"attributes\":{\"data-bind\":\"click: function (){this.clicks(this.clicks()+1)}, css: {'is-loading' : loading}\"},\"className\":\"is-medium button is-primary\",\"style\":{}},\"nodeType\":\"DOM\",\"type\":\"node\",\"instanceArgs\":{\"namespace\":\"html\",\"tag\":\"button\"},\"children\":[\"Arm 2\"]}]}]},\n",
       "            window,\n",
       "        );\n",
       "    } else {\n",
       "        document\n",
       "            .querySelector('[data-webio-mountpoint=\"8579344790595627052\"]')\n",
       "            .innerHTML = (\n",
       "                '<div style=\"padding: 1em; background-color: #f8d6da; border: 1px solid #f5c6cb\">' +\n",
       "                '<p><strong>WebIO not detected.</strong></p>' +\n",
       "                '<p>Please read ' +\n",
       "                '<a href=\"https://juliagizmos.github.io/WebIO.jl/latest/troubleshooting/not-detected/\" target=\"_blank\">the troubleshooting guide</a> ' +\n",
       "                'for more information on how to resolve this issue.</p>' +\n",
       "                '<p><a href=\"https://juliagizmos.github.io/WebIO.jl/latest/troubleshooting/not-detected/\" target=\"_blank\">https://juliagizmos.github.io/WebIO.jl/latest/troubleshooting/not-detected/</a></p>' +\n",
       "                '</div>'\n",
       "            );\n",
       "    }\n",
       "    </script>\n",
       "</div>\n"
      ],
      "text/plain": [
       "(div { className=\"field interact-widget\" }\n",
       "    (button { attributes=Dict{Any,Any}(\"data-bind\" => \"click: function (){this.clicks(this.clicks()+1)}, css: {'is-loading' : loading}\") className=\"is-medium button is-primary\" style=Dict{String,Any}() }\n",
       "    \"Arm 2\"))"
      ]
     },
     "metadata": {
      "application/vnd.webio.node+json": {
       "kernelId": "dd5017fb-e108-4a46-a015-6527faa074d8"
      }
     },
     "output_type": "display_data"
    },
    {
     "data": {
      "application/vnd.webio.node+json": {
       "children": [
        {
         "children": [],
         "instanceArgs": {
          "namespace": "html",
          "tag": "div"
         },
         "nodeType": "DOM",
         "props": {
          "className": "webio-observable",
          "setInnerHtml": "<pre>\"0 wins out of 0 tries (NaN percent)\"</pre>"
         },
         "type": "node"
        }
       ],
       "instanceArgs": {
        "handlers": {
         "obs-output": [
          "function (value, scope) {\n    scope.setInnerHTML(value);\n}\n"
         ]
        },
        "id": "7515796696400093157",
        "imports": {
         "data": [],
         "type": "async_block"
        },
        "mount_callbacks": [],
        "observables": {
         "obs-output": {
          "id": "ob_75",
          "sync": false,
          "value": "<pre>\"0 wins out of 0 tries (NaN percent)\"</pre>"
         }
        },
        "systemjs_options": null
       },
       "nodeType": "Scope",
       "props": {},
       "type": "node"
      },
      "text/html": [
       "<div\n",
       "    class=\"webio-mountpoint\"\n",
       "    data-webio-mountpoint=\"14518575651020675782\"\n",
       ">\n",
       "    <script>\n",
       "    if (window.require && require.defined && require.defined(\"nbextensions/webio-jupyter-notebook\")) {\n",
       "        console.log(\"Jupyter WebIO extension detected, not mounting.\");\n",
       "    } else if (window.WebIO) {\n",
       "        WebIO.mount(\n",
       "            document.querySelector('[data-webio-mountpoint=\"14518575651020675782\"]'),\n",
       "            {\"props\":{},\"nodeType\":\"Scope\",\"type\":\"node\",\"instanceArgs\":{\"imports\":{\"data\":[],\"type\":\"async_block\"},\"id\":\"1704659343957256762\",\"handlers\":{\"obs-output\":[\"function (value, scope) {\\n    scope.setInnerHTML(value);\\n}\\n\"]},\"systemjs_options\":null,\"mount_callbacks\":[],\"observables\":{\"obs-output\":{\"sync\":false,\"id\":\"ob_74\",\"value\":\"<pre>\\\"0 wins out of 0 tries (NaN percent)\\\"<\\/pre>\"}}},\"children\":[{\"props\":{\"className\":\"webio-observable\",\"setInnerHtml\":\"<pre>\\\"0 wins out of 0 tries (NaN percent)\\\"<\\/pre>\"},\"nodeType\":\"DOM\",\"type\":\"node\",\"instanceArgs\":{\"namespace\":\"html\",\"tag\":\"div\"},\"children\":[]}]},\n",
       "            window,\n",
       "        );\n",
       "    } else {\n",
       "        document\n",
       "            .querySelector('[data-webio-mountpoint=\"14518575651020675782\"]')\n",
       "            .innerHTML = (\n",
       "                '<div style=\"padding: 1em; background-color: #f8d6da; border: 1px solid #f5c6cb\">' +\n",
       "                '<p><strong>WebIO not detected.</strong></p>' +\n",
       "                '<p>Please read ' +\n",
       "                '<a href=\"https://juliagizmos.github.io/WebIO.jl/latest/troubleshooting/not-detected/\" target=\"_blank\">the troubleshooting guide</a> ' +\n",
       "                'for more information on how to resolve this issue.</p>' +\n",
       "                '<p><a href=\"https://juliagizmos.github.io/WebIO.jl/latest/troubleshooting/not-detected/\" target=\"_blank\">https://juliagizmos.github.io/WebIO.jl/latest/troubleshooting/not-detected/</a></p>' +\n",
       "                '</div>'\n",
       "            );\n",
       "    }\n",
       "    </script>\n",
       "</div>\n"
      ],
      "text/plain": [
       "Observable{Any} with 0 listeners. Value:\n",
       "\"0 wins out of 0 tries (NaN percent)\""
      ]
     },
     "metadata": {
      "application/vnd.webio.node+json": {
       "kernelId": "dd5017fb-e108-4a46-a015-6527faa074d8"
      }
     },
     "output_type": "display_data"
    },
    {
     "data": {
      "application/vnd.webio.node+json": {
       "children": [
        {
         "children": [],
         "instanceArgs": {
          "namespace": "html",
          "tag": "div"
         },
         "nodeType": "DOM",
         "props": {
          "className": "webio-observable",
          "setInnerHtml": "<?xml version=\"1.0\" encoding=\"UTF-8\"?>\n<svg xmlns=\"http://www.w3.org/2000/svg\" xmlns:xlink=\"http://www.w3.org/1999/xlink\" width=\"405.745pt\" height=\"252.092pt\" viewBox=\"0 0 405.745 252.092\" version=\"1.1\">\n<defs>\n<g>\n<symbol overflow=\"visible\" id=\"glyph-1580969628598076-0-0\">\n<path style=\"stroke:none;\" d=\"\"/>\n</symbol>\n<symbol overflow=\"visible\" id=\"glyph-1580969628598076-0-1\">\n<path style=\"stroke:none;\" d=\"M 4.578125 -3.1875 C 4.578125 -3.984375 4.53125 -4.78125 4.1875 -5.515625 C 3.734375 -6.484375 2.90625 -6.640625 2.5 -6.640625 C 1.890625 -6.640625 1.171875 -6.375 0.75 -5.453125 C 0.4375 -4.765625 0.390625 -3.984375 0.390625 -3.1875 C 0.390625 -2.4375 0.421875 -1.546875 0.84375 -0.78125 C 1.265625 0.015625 2 0.21875 2.484375 0.21875 C 3.015625 0.21875 3.78125 0.015625 4.21875 -0.9375 C 4.53125 -1.625 4.578125 -2.40625 4.578125 -3.1875 Z M 2.484375 0 C 2.09375 0 1.5 -0.25 1.328125 -1.203125 C 1.21875 -1.796875 1.21875 -2.71875 1.21875 -3.3125 C 1.21875 -3.953125 1.21875 -4.609375 1.296875 -5.140625 C 1.484375 -6.328125 2.234375 -6.421875 2.484375 -6.421875 C 2.8125 -6.421875 3.46875 -6.234375 3.65625 -5.25 C 3.765625 -4.6875 3.765625 -3.9375 3.765625 -3.3125 C 3.765625 -2.5625 3.765625 -1.890625 3.65625 -1.25 C 3.5 -0.296875 2.9375 0 2.484375 0 Z M 2.484375 0 \"/>\n</symbol>\n<symbol overflow=\"visible\" id=\"glyph-1580969628598076-0-2\">\n<path style=\"stroke:none;\" d=\"M 2.9375 -6.375 C 2.9375 -6.625 2.9375 -6.640625 2.703125 -6.640625 C 2.078125 -6 1.203125 -6 0.890625 -6 L 0.890625 -5.6875 C 1.09375 -5.6875 1.671875 -5.6875 2.1875 -5.953125 L 2.1875 -0.78125 C 2.1875 -0.421875 2.15625 -0.3125 1.265625 -0.3125 L 0.953125 -0.3125 L 0.953125 0 C 1.296875 -0.03125 2.15625 -0.03125 2.5625 -0.03125 C 2.953125 -0.03125 3.828125 -0.03125 4.171875 0 L 4.171875 -0.3125 L 3.859375 -0.3125 C 2.953125 -0.3125 2.9375 -0.421875 2.9375 -0.78125 Z M 2.9375 -6.375 \"/>\n</symbol>\n<symbol overflow=\"visible\" id=\"glyph-1580969628598076-0-3\">\n<path style=\"stroke:none;\" d=\"M 1.265625 -0.765625 L 2.328125 -1.796875 C 3.875 -3.171875 4.46875 -3.703125 4.46875 -4.703125 C 4.46875 -5.84375 3.578125 -6.640625 2.359375 -6.640625 C 1.234375 -6.640625 0.5 -5.71875 0.5 -4.828125 C 0.5 -4.28125 1 -4.28125 1.03125 -4.28125 C 1.203125 -4.28125 1.546875 -4.390625 1.546875 -4.8125 C 1.546875 -5.0625 1.359375 -5.328125 1.015625 -5.328125 C 0.9375 -5.328125 0.921875 -5.328125 0.890625 -5.3125 C 1.109375 -5.96875 1.65625 -6.328125 2.234375 -6.328125 C 3.140625 -6.328125 3.5625 -5.515625 3.5625 -4.703125 C 3.5625 -3.90625 3.078125 -3.125 2.515625 -2.5 L 0.609375 -0.375 C 0.5 -0.265625 0.5 -0.234375 0.5 0 L 4.203125 0 L 4.46875 -1.734375 L 4.234375 -1.734375 C 4.171875 -1.4375 4.109375 -1 4 -0.84375 C 3.9375 -0.765625 3.28125 -0.765625 3.0625 -0.765625 Z M 1.265625 -0.765625 \"/>\n</symbol>\n<symbol overflow=\"visible\" id=\"glyph-1580969628598076-0-4\">\n<path style=\"stroke:none;\" d=\"M 2.890625 -3.515625 C 3.703125 -3.78125 4.28125 -4.46875 4.28125 -5.265625 C 4.28125 -6.078125 3.40625 -6.640625 2.453125 -6.640625 C 1.453125 -6.640625 0.6875 -6.046875 0.6875 -5.28125 C 0.6875 -4.953125 0.90625 -4.765625 1.203125 -4.765625 C 1.5 -4.765625 1.703125 -4.984375 1.703125 -5.28125 C 1.703125 -5.765625 1.234375 -5.765625 1.09375 -5.765625 C 1.390625 -6.265625 2.046875 -6.390625 2.40625 -6.390625 C 2.828125 -6.390625 3.375 -6.171875 3.375 -5.28125 C 3.375 -5.15625 3.34375 -4.578125 3.09375 -4.140625 C 2.796875 -3.65625 2.453125 -3.625 2.203125 -3.625 C 2.125 -3.609375 1.890625 -3.59375 1.8125 -3.59375 C 1.734375 -3.578125 1.671875 -3.5625 1.671875 -3.46875 C 1.671875 -3.359375 1.734375 -3.359375 1.90625 -3.359375 L 2.34375 -3.359375 C 3.15625 -3.359375 3.53125 -2.6875 3.53125 -1.703125 C 3.53125 -0.34375 2.84375 -0.0625 2.40625 -0.0625 C 1.96875 -0.0625 1.21875 -0.234375 0.875 -0.8125 C 1.21875 -0.765625 1.53125 -0.984375 1.53125 -1.359375 C 1.53125 -1.71875 1.265625 -1.921875 0.984375 -1.921875 C 0.734375 -1.921875 0.421875 -1.78125 0.421875 -1.34375 C 0.421875 -0.4375 1.34375 0.21875 2.4375 0.21875 C 3.65625 0.21875 4.5625 -0.6875 4.5625 -1.703125 C 4.5625 -2.515625 3.921875 -3.296875 2.890625 -3.515625 Z M 2.890625 -3.515625 \"/>\n</symbol>\n<symbol overflow=\"visible\" id=\"glyph-1580969628598076-0-5\">\n<path style=\"stroke:none;\" d=\"M 2.9375 -1.640625 L 2.9375 -0.78125 C 2.9375 -0.421875 2.90625 -0.3125 2.171875 -0.3125 L 1.96875 -0.3125 L 1.96875 0 C 2.375 -0.03125 2.890625 -0.03125 3.3125 -0.03125 C 3.734375 -0.03125 4.25 -0.03125 4.671875 0 L 4.671875 -0.3125 L 4.453125 -0.3125 C 3.71875 -0.3125 3.703125 -0.421875 3.703125 -0.78125 L 3.703125 -1.640625 L 4.6875 -1.640625 L 4.6875 -1.953125 L 3.703125 -1.953125 L 3.703125 -6.484375 C 3.703125 -6.6875 3.703125 -6.75 3.53125 -6.75 C 3.453125 -6.75 3.421875 -6.75 3.34375 -6.625 L 0.28125 -1.953125 L 0.28125 -1.640625 Z M 2.984375 -1.953125 L 0.5625 -1.953125 L 2.984375 -5.671875 Z M 2.984375 -1.953125 \"/>\n</symbol>\n<symbol overflow=\"visible\" id=\"glyph-1580969628598076-0-6\">\n<path style=\"stroke:none;\" d=\"M 4.46875 -2 C 4.46875 -3.1875 3.65625 -4.1875 2.578125 -4.1875 C 2.109375 -4.1875 1.671875 -4.03125 1.3125 -3.671875 L 1.3125 -5.625 C 1.515625 -5.5625 1.84375 -5.5 2.15625 -5.5 C 3.390625 -5.5 4.09375 -6.40625 4.09375 -6.53125 C 4.09375 -6.59375 4.0625 -6.640625 3.984375 -6.640625 C 3.984375 -6.640625 3.953125 -6.640625 3.90625 -6.609375 C 3.703125 -6.515625 3.21875 -6.3125 2.546875 -6.3125 C 2.15625 -6.3125 1.6875 -6.390625 1.21875 -6.59375 C 1.140625 -6.625 1.125 -6.625 1.109375 -6.625 C 1 -6.625 1 -6.546875 1 -6.390625 L 1 -3.4375 C 1 -3.265625 1 -3.1875 1.140625 -3.1875 C 1.21875 -3.1875 1.234375 -3.203125 1.28125 -3.265625 C 1.390625 -3.421875 1.75 -3.96875 2.5625 -3.96875 C 3.078125 -3.96875 3.328125 -3.515625 3.40625 -3.328125 C 3.5625 -2.953125 3.59375 -2.578125 3.59375 -2.078125 C 3.59375 -1.71875 3.59375 -1.125 3.34375 -0.703125 C 3.109375 -0.3125 2.734375 -0.0625 2.28125 -0.0625 C 1.5625 -0.0625 0.984375 -0.59375 0.8125 -1.171875 C 0.84375 -1.171875 0.875 -1.15625 0.984375 -1.15625 C 1.3125 -1.15625 1.484375 -1.40625 1.484375 -1.640625 C 1.484375 -1.890625 1.3125 -2.140625 0.984375 -2.140625 C 0.84375 -2.140625 0.5 -2.0625 0.5 -1.609375 C 0.5 -0.75 1.1875 0.21875 2.296875 0.21875 C 3.453125 0.21875 4.46875 -0.734375 4.46875 -2 Z M 4.46875 -2 \"/>\n</symbol>\n<symbol overflow=\"visible\" id=\"glyph-1580969628598076-0-7\">\n<path style=\"stroke:none;\" d=\"M 1.3125 -3.265625 L 1.3125 -3.515625 C 1.3125 -6.03125 2.546875 -6.390625 3.0625 -6.390625 C 3.296875 -6.390625 3.71875 -6.328125 3.9375 -5.984375 C 3.78125 -5.984375 3.390625 -5.984375 3.390625 -5.546875 C 3.390625 -5.234375 3.625 -5.078125 3.84375 -5.078125 C 4 -5.078125 4.3125 -5.171875 4.3125 -5.5625 C 4.3125 -6.15625 3.875 -6.640625 3.046875 -6.640625 C 1.765625 -6.640625 0.421875 -5.359375 0.421875 -3.15625 C 0.421875 -0.484375 1.578125 0.21875 2.5 0.21875 C 3.609375 0.21875 4.5625 -0.71875 4.5625 -2.03125 C 4.5625 -3.296875 3.671875 -4.25 2.5625 -4.25 C 1.890625 -4.25 1.515625 -3.75 1.3125 -3.265625 Z M 2.5 -0.0625 C 1.875 -0.0625 1.578125 -0.65625 1.515625 -0.8125 C 1.328125 -1.28125 1.328125 -2.078125 1.328125 -2.25 C 1.328125 -3.03125 1.65625 -4.03125 2.546875 -4.03125 C 2.71875 -4.03125 3.171875 -4.03125 3.484375 -3.40625 C 3.65625 -3.046875 3.65625 -2.53125 3.65625 -2.046875 C 3.65625 -1.5625 3.65625 -1.0625 3.484375 -0.703125 C 3.1875 -0.109375 2.734375 -0.0625 2.5 -0.0625 Z M 2.5 -0.0625 \"/>\n</symbol>\n<symbol overflow=\"visible\" id=\"glyph-1580969628598076-0-8\">\n<path style=\"stroke:none;\" d=\"M 4.75 -6.078125 C 4.828125 -6.1875 4.828125 -6.203125 4.828125 -6.421875 L 2.40625 -6.421875 C 1.203125 -6.421875 1.171875 -6.546875 1.140625 -6.734375 L 0.890625 -6.734375 L 0.5625 -4.6875 L 0.8125 -4.6875 C 0.84375 -4.84375 0.921875 -5.46875 1.0625 -5.59375 C 1.125 -5.65625 1.90625 -5.65625 2.03125 -5.65625 L 4.09375 -5.65625 C 3.984375 -5.5 3.203125 -4.40625 2.984375 -4.078125 C 2.078125 -2.734375 1.75 -1.34375 1.75 -0.328125 C 1.75 -0.234375 1.75 0.21875 2.21875 0.21875 C 2.671875 0.21875 2.671875 -0.234375 2.671875 -0.328125 L 2.671875 -0.84375 C 2.671875 -1.390625 2.703125 -1.9375 2.78125 -2.46875 C 2.828125 -2.703125 2.953125 -3.5625 3.40625 -4.171875 Z M 4.75 -6.078125 \"/>\n</symbol>\n<symbol overflow=\"visible\" id=\"glyph-1580969628598076-0-9\">\n<path style=\"stroke:none;\" d=\"M 1.625 -4.5625 C 1.171875 -4.859375 1.125 -5.1875 1.125 -5.359375 C 1.125 -5.96875 1.78125 -6.390625 2.484375 -6.390625 C 3.203125 -6.390625 3.84375 -5.875 3.84375 -5.15625 C 3.84375 -4.578125 3.453125 -4.109375 2.859375 -3.765625 Z M 3.078125 -3.609375 C 3.796875 -3.984375 4.28125 -4.5 4.28125 -5.15625 C 4.28125 -6.078125 3.40625 -6.640625 2.5 -6.640625 C 1.5 -6.640625 0.6875 -5.90625 0.6875 -4.96875 C 0.6875 -4.796875 0.703125 -4.34375 1.125 -3.875 C 1.234375 -3.765625 1.609375 -3.515625 1.859375 -3.34375 C 1.28125 -3.046875 0.421875 -2.5 0.421875 -1.5 C 0.421875 -0.453125 1.4375 0.21875 2.484375 0.21875 C 3.609375 0.21875 4.5625 -0.609375 4.5625 -1.671875 C 4.5625 -2.03125 4.453125 -2.484375 4.0625 -2.90625 C 3.875 -3.109375 3.71875 -3.203125 3.078125 -3.609375 Z M 2.078125 -3.1875 L 3.3125 -2.40625 C 3.59375 -2.21875 4.0625 -1.921875 4.0625 -1.3125 C 4.0625 -0.578125 3.3125 -0.0625 2.5 -0.0625 C 1.640625 -0.0625 0.921875 -0.671875 0.921875 -1.5 C 0.921875 -2.078125 1.234375 -2.71875 2.078125 -3.1875 Z M 2.078125 -3.1875 \"/>\n</symbol>\n<symbol overflow=\"visible\" id=\"glyph-1580969628598076-0-10\">\n<path style=\"stroke:none;\" d=\"M 3.65625 -3.171875 L 3.65625 -2.84375 C 3.65625 -0.515625 2.625 -0.0625 2.046875 -0.0625 C 1.875 -0.0625 1.328125 -0.078125 1.0625 -0.421875 C 1.5 -0.421875 1.578125 -0.703125 1.578125 -0.875 C 1.578125 -1.1875 1.34375 -1.328125 1.125 -1.328125 C 0.96875 -1.328125 0.671875 -1.25 0.671875 -0.859375 C 0.671875 -0.1875 1.203125 0.21875 2.046875 0.21875 C 3.34375 0.21875 4.5625 -1.140625 4.5625 -3.28125 C 4.5625 -5.96875 3.40625 -6.640625 2.515625 -6.640625 C 1.96875 -6.640625 1.484375 -6.453125 1.0625 -6.015625 C 0.640625 -5.5625 0.421875 -5.140625 0.421875 -4.390625 C 0.421875 -3.15625 1.296875 -2.171875 2.40625 -2.171875 C 3.015625 -2.171875 3.421875 -2.59375 3.65625 -3.171875 Z M 2.421875 -2.40625 C 2.265625 -2.40625 1.796875 -2.40625 1.5 -3.03125 C 1.3125 -3.40625 1.3125 -3.890625 1.3125 -4.390625 C 1.3125 -4.921875 1.3125 -5.390625 1.53125 -5.765625 C 1.796875 -6.265625 2.171875 -6.390625 2.515625 -6.390625 C 2.984375 -6.390625 3.3125 -6.046875 3.484375 -5.609375 C 3.59375 -5.28125 3.640625 -4.65625 3.640625 -4.203125 C 3.640625 -3.375 3.296875 -2.40625 2.421875 -2.40625 Z M 2.421875 -2.40625 \"/>\n</symbol>\n<symbol overflow=\"visible\" id=\"glyph-1580969628598076-1-0\">\n<path style=\"stroke:none;\" d=\"\"/>\n</symbol>\n<symbol overflow=\"visible\" id=\"glyph-1580969628598076-1-1\">\n<path style=\"stroke:none;\" d=\"M 1.90625 -0.53125 C 1.90625 -0.8125 1.671875 -1.0625 1.390625 -1.0625 C 1.09375 -1.0625 0.859375 -0.8125 0.859375 -0.53125 C 0.859375 -0.234375 1.09375 0 1.390625 0 C 1.671875 0 1.90625 -0.234375 1.90625 -0.53125 Z M 1.90625 -0.53125 \"/>\n</symbol>\n<symbol overflow=\"visible\" id=\"glyph-1580969628598076-2-0\">\n<path style=\"stroke:none;\" d=\"\"/>\n</symbol>\n<symbol overflow=\"visible\" id=\"glyph-1580969628598076-2-1\">\n<path style=\"stroke:none;\" d=\"M 6.484375 -1.828125 C 6.484375 -2.6875 5.671875 -3.4375 4.5625 -3.5625 C 5.53125 -3.75 6.21875 -4.390625 6.21875 -5.125 C 6.21875 -5.984375 5.296875 -6.8125 4 -6.8125 L 0.359375 -6.8125 L 0.359375 -6.5 L 0.59375 -6.5 C 1.359375 -6.5 1.390625 -6.390625 1.390625 -6.03125 L 1.390625 -0.78125 C 1.390625 -0.421875 1.359375 -0.3125 0.59375 -0.3125 L 0.359375 -0.3125 L 0.359375 0 L 4.265625 0 C 5.59375 0 6.484375 -0.890625 6.484375 -1.828125 Z M 5.25 -5.125 C 5.25 -4.484375 4.765625 -3.65625 3.65625 -3.65625 L 2.21875 -3.65625 L 2.21875 -6.09375 C 2.21875 -6.4375 2.234375 -6.5 2.703125 -6.5 L 3.9375 -6.5 C 4.90625 -6.5 5.25 -5.65625 5.25 -5.125 Z M 5.5 -1.828125 C 5.5 -1.125 4.96875 -0.3125 3.953125 -0.3125 L 2.703125 -0.3125 C 2.234375 -0.3125 2.21875 -0.375 2.21875 -0.703125 L 2.21875 -3.421875 L 4.09375 -3.421875 C 5.078125 -3.421875 5.5 -2.5 5.5 -1.828125 Z M 5.5 -1.828125 \"/>\n</symbol>\n<symbol overflow=\"visible\" id=\"glyph-1580969628598076-2-2\">\n<path style=\"stroke:none;\" d=\"M 4.140625 -1.1875 C 4.140625 -1.28125 4.0625 -1.3125 4 -1.3125 C 3.921875 -1.3125 3.890625 -1.25 3.875 -1.171875 C 3.53125 -0.140625 2.625 -0.140625 2.53125 -0.140625 C 2.03125 -0.140625 1.640625 -0.4375 1.40625 -0.8125 C 1.109375 -1.28125 1.109375 -1.9375 1.109375 -2.296875 L 3.890625 -2.296875 C 4.109375 -2.296875 4.140625 -2.296875 4.140625 -2.515625 C 4.140625 -3.5 3.59375 -4.46875 2.359375 -4.46875 C 1.203125 -4.46875 0.28125 -3.4375 0.28125 -2.1875 C 0.28125 -0.859375 1.328125 0.109375 2.46875 0.109375 C 3.6875 0.109375 4.140625 -1 4.140625 -1.1875 Z M 3.484375 -2.515625 L 1.109375 -2.515625 C 1.171875 -4 2.015625 -4.25 2.359375 -4.25 C 3.375 -4.25 3.484375 -2.90625 3.484375 -2.515625 Z M 3.484375 -2.515625 \"/>\n</symbol>\n<symbol overflow=\"visible\" id=\"glyph-1580969628598076-2-3\">\n<path style=\"stroke:none;\" d=\"M 3.3125 -1.234375 L 3.3125 -1.796875 L 3.0625 -1.796875 L 3.0625 -1.25 C 3.0625 -0.515625 2.765625 -0.140625 2.390625 -0.140625 C 1.71875 -0.140625 1.71875 -1.046875 1.71875 -1.21875 L 1.71875 -3.984375 L 3.15625 -3.984375 L 3.15625 -4.296875 L 1.71875 -4.296875 L 1.71875 -6.125 L 1.46875 -6.125 C 1.46875 -5.3125 1.171875 -4.25 0.1875 -4.203125 L 0.1875 -3.984375 L 1.03125 -3.984375 L 1.03125 -1.234375 C 1.03125 -0.015625 1.96875 0.109375 2.328125 0.109375 C 3.03125 0.109375 3.3125 -0.59375 3.3125 -1.234375 Z M 3.3125 -1.234375 \"/>\n</symbol>\n<symbol overflow=\"visible\" id=\"glyph-1580969628598076-2-4\">\n<path style=\"stroke:none;\" d=\"M 4.8125 -0.890625 L 4.8125 -1.453125 L 4.5625 -1.453125 L 4.5625 -0.890625 C 4.5625 -0.3125 4.3125 -0.25 4.203125 -0.25 C 3.875 -0.25 3.84375 -0.703125 3.84375 -0.75 L 3.84375 -2.734375 C 3.84375 -3.15625 3.84375 -3.546875 3.484375 -3.921875 C 3.09375 -4.3125 2.59375 -4.46875 2.109375 -4.46875 C 1.296875 -4.46875 0.609375 -4 0.609375 -3.34375 C 0.609375 -3.046875 0.8125 -2.875 1.0625 -2.875 C 1.34375 -2.875 1.53125 -3.078125 1.53125 -3.328125 C 1.53125 -3.453125 1.46875 -3.78125 1.015625 -3.78125 C 1.28125 -4.140625 1.78125 -4.25 2.09375 -4.25 C 2.578125 -4.25 3.15625 -3.859375 3.15625 -2.96875 L 3.15625 -2.609375 C 2.640625 -2.578125 1.9375 -2.546875 1.3125 -2.25 C 0.5625 -1.90625 0.3125 -1.390625 0.3125 -0.953125 C 0.3125 -0.140625 1.28125 0.109375 1.90625 0.109375 C 2.578125 0.109375 3.03125 -0.296875 3.21875 -0.75 C 3.265625 -0.359375 3.53125 0.0625 4 0.0625 C 4.203125 0.0625 4.8125 -0.078125 4.8125 -0.890625 Z M 3.15625 -1.390625 C 3.15625 -0.453125 2.4375 -0.109375 1.984375 -0.109375 C 1.5 -0.109375 1.09375 -0.453125 1.09375 -0.953125 C 1.09375 -1.5 1.5 -2.328125 3.15625 -2.390625 Z M 3.15625 -1.390625 \"/>\n</symbol>\n<symbol overflow=\"visible\" id=\"glyph-1580969628598076-2-5\">\n<path style=\"stroke:none;\" d=\"M 3.296875 2.390625 C 3.296875 2.359375 3.296875 2.34375 3.125 2.171875 C 1.890625 0.921875 1.5625 -0.96875 1.5625 -2.5 C 1.5625 -4.234375 1.9375 -5.96875 3.171875 -7.203125 C 3.296875 -7.328125 3.296875 -7.34375 3.296875 -7.375 C 3.296875 -7.453125 3.265625 -7.484375 3.203125 -7.484375 C 3.09375 -7.484375 2.203125 -6.796875 1.609375 -5.53125 C 1.109375 -4.4375 0.984375 -3.328125 0.984375 -2.5 C 0.984375 -1.71875 1.09375 -0.515625 1.640625 0.625 C 2.25 1.84375 3.09375 2.5 3.203125 2.5 C 3.265625 2.5 3.296875 2.46875 3.296875 2.390625 Z M 3.296875 2.390625 \"/>\n</symbol>\n<symbol overflow=\"visible\" id=\"glyph-1580969628598076-2-6\">\n<path style=\"stroke:none;\" d=\"M 4.171875 0 L 4.171875 -0.3125 L 3.859375 -0.3125 C 2.953125 -0.3125 2.9375 -0.421875 2.9375 -0.78125 L 2.9375 -6.375 C 2.9375 -6.625 2.9375 -6.640625 2.703125 -6.640625 C 2.078125 -6 1.203125 -6 0.890625 -6 L 0.890625 -5.6875 C 1.09375 -5.6875 1.671875 -5.6875 2.1875 -5.953125 L 2.1875 -0.78125 C 2.1875 -0.421875 2.15625 -0.3125 1.265625 -0.3125 L 0.953125 -0.3125 L 0.953125 0 C 1.296875 -0.03125 2.15625 -0.03125 2.5625 -0.03125 C 2.953125 -0.03125 3.828125 -0.03125 4.171875 0 Z M 4.171875 0 \"/>\n</symbol>\n<symbol overflow=\"visible\" id=\"glyph-1580969628598076-2-7\">\n<path style=\"stroke:none;\" d=\"M 2.03125 -0.015625 C 2.03125 -0.640625 1.78125 -1.0625 1.390625 -1.0625 C 1.03125 -1.0625 0.859375 -0.78125 0.859375 -0.53125 C 0.859375 -0.265625 1.03125 0 1.390625 0 C 1.53125 0 1.671875 -0.0625 1.78125 -0.15625 C 1.796875 0.625 1.53125 1.234375 1.09375 1.703125 C 1.03125 1.765625 1.015625 1.78125 1.015625 1.8125 C 1.015625 1.890625 1.0625 1.921875 1.109375 1.921875 C 1.234375 1.921875 2.03125 1.140625 2.03125 -0.015625 Z M 2.03125 -0.015625 \"/>\n</symbol>\n<symbol overflow=\"visible\" id=\"glyph-1580969628598076-2-8\">\n<path style=\"stroke:none;\" d=\"M 2.875 -2.5 C 2.875 -3.265625 2.765625 -4.46875 2.21875 -5.609375 C 1.625 -6.828125 0.765625 -7.484375 0.671875 -7.484375 C 0.609375 -7.484375 0.5625 -7.4375 0.5625 -7.375 C 0.5625 -7.34375 0.5625 -7.328125 0.75 -7.140625 C 1.734375 -6.15625 2.296875 -4.578125 2.296875 -2.5 C 2.296875 -0.78125 1.9375 0.96875 0.703125 2.21875 C 0.5625 2.34375 0.5625 2.359375 0.5625 2.390625 C 0.5625 2.453125 0.609375 2.5 0.671875 2.5 C 0.765625 2.5 1.671875 1.8125 2.25 0.546875 C 2.765625 -0.546875 2.875 -1.65625 2.875 -2.5 Z M 2.875 -2.5 \"/>\n</symbol>\n</g>\n<clipPath id=\"clip-1580969628598076-1\">\n  <path d=\"M 19.570312 21 L 399.9375 21 L 399.9375 23 L 19.570312 23 Z M 19.570312 21 \"/>\n</clipPath>\n</defs>\n<g id=\"surface1\">\n<path style=\"fill:none;stroke-width:0.19925;stroke-linecap:butt;stroke-linejoin:miter;stroke:rgb(50%,50%,50%);stroke-opacity:1;stroke-miterlimit:10;\" d=\"M 0.0003125 -0.00103125 L 0.0003125 4.252875 M 38.035469 -0.00103125 L 38.035469 4.252875 M 76.074531 -0.00103125 L 76.074531 4.252875 M 114.109688 -0.00103125 L 114.109688 4.252875 M 152.14875 -0.00103125 L 152.14875 4.252875 M 190.183906 -0.00103125 L 190.183906 4.252875 M 228.222969 -0.00103125 L 228.222969 4.252875 M 266.258125 -0.00103125 L 266.258125 4.252875 M 304.293281 -0.00103125 L 304.293281 4.252875 M 342.332344 -0.00103125 L 342.332344 4.252875 M 380.3675 -0.00103125 L 380.3675 4.252875 M 0.0003125 238.635688 L 0.0003125 234.381781 M 38.035469 238.635688 L 38.035469 234.381781 M 76.074531 238.635688 L 76.074531 234.381781 M 114.109688 238.635688 L 114.109688 234.381781 M 152.14875 238.635688 L 152.14875 234.381781 M 190.183906 238.635688 L 190.183906 234.381781 M 228.222969 238.635688 L 228.222969 234.381781 M 266.258125 238.635688 L 266.258125 234.381781 M 304.293281 238.635688 L 304.293281 234.381781 M 342.332344 238.635688 L 342.332344 234.381781 M 380.3675 238.635688 L 380.3675 234.381781 \" transform=\"matrix(1,0,0,-1,19.57,238.831)\"/>\n<path style=\"fill:none;stroke-width:0.19925;stroke-linecap:butt;stroke-linejoin:miter;stroke:rgb(50%,50%,50%);stroke-opacity:1;stroke-miterlimit:10;\" d=\"M 0.0003125 -0.00103125 L 4.254219 -0.00103125 M 0.0003125 43.389594 L 4.254219 43.389594 M 0.0003125 86.776313 L 4.254219 86.776313 M 0.0003125 130.163031 L 4.254219 130.163031 M 0.0003125 173.553656 L 4.254219 173.553656 M 0.0003125 216.940375 L 4.254219 216.940375 M 380.3675 -0.00103125 L 376.1175 -0.00103125 M 380.3675 43.389594 L 376.1175 43.389594 M 380.3675 86.776313 L 376.1175 86.776313 M 380.3675 130.163031 L 376.1175 130.163031 M 380.3675 173.553656 L 376.1175 173.553656 M 380.3675 216.940375 L 376.1175 216.940375 \" transform=\"matrix(1,0,0,-1,19.57,238.831)\"/>\n<path style=\"fill:none;stroke-width:0.3985;stroke-linecap:butt;stroke-linejoin:miter;stroke:rgb(0%,0%,0%);stroke-opacity:1;stroke-miterlimit:10;\" d=\"M 0.0003125 -0.00103125 L 0.0003125 238.635688 L 380.3675 238.635688 L 380.3675 -0.00103125 Z M 0.0003125 -0.00103125 \" transform=\"matrix(1,0,0,-1,19.57,238.831)\"/>\n<g style=\"fill:rgb(0%,0%,0%);fill-opacity:1;\">\n  <use xlink:href=\"#glyph-1580969628598076-0-1\" x=\"17.08\" y=\"248.771\"/>\n</g>\n<g style=\"fill:rgb(0%,0%,0%);fill-opacity:1;\">\n  <use xlink:href=\"#glyph-1580969628598076-0-1\" x=\"51.242\" y=\"248.771\"/>\n</g>\n<g style=\"fill:rgb(0%,0%,0%);fill-opacity:1;\">\n  <use xlink:href=\"#glyph-1580969628598076-1-1\" x=\"56.223\" y=\"248.771\"/>\n</g>\n<g style=\"fill:rgb(0%,0%,0%);fill-opacity:1;\">\n  <use xlink:href=\"#glyph-1580969628598076-0-2\" x=\"58.99\" y=\"248.771\"/>\n</g>\n<g style=\"fill:rgb(0%,0%,0%);fill-opacity:1;\">\n  <use xlink:href=\"#glyph-1580969628598076-0-1\" x=\"89.278\" y=\"248.771\"/>\n</g>\n<g style=\"fill:rgb(0%,0%,0%);fill-opacity:1;\">\n  <use xlink:href=\"#glyph-1580969628598076-1-1\" x=\"94.259\" y=\"248.771\"/>\n</g>\n<g style=\"fill:rgb(0%,0%,0%);fill-opacity:1;\">\n  <use xlink:href=\"#glyph-1580969628598076-0-3\" x=\"97.027\" y=\"248.771\"/>\n</g>\n<g style=\"fill:rgb(0%,0%,0%);fill-opacity:1;\">\n  <use xlink:href=\"#glyph-1580969628598076-0-1\" x=\"127.314\" y=\"248.771\"/>\n</g>\n<g style=\"fill:rgb(0%,0%,0%);fill-opacity:1;\">\n  <use xlink:href=\"#glyph-1580969628598076-1-1\" x=\"132.296\" y=\"248.771\"/>\n</g>\n<g style=\"fill:rgb(0%,0%,0%);fill-opacity:1;\">\n  <use xlink:href=\"#glyph-1580969628598076-0-4\" x=\"135.063\" y=\"248.771\"/>\n</g>\n<g style=\"fill:rgb(0%,0%,0%);fill-opacity:1;\">\n  <use xlink:href=\"#glyph-1580969628598076-0-1\" x=\"165.351\" y=\"248.771\"/>\n</g>\n<g style=\"fill:rgb(0%,0%,0%);fill-opacity:1;\">\n  <use xlink:href=\"#glyph-1580969628598076-1-1\" x=\"170.332\" y=\"248.771\"/>\n</g>\n<g style=\"fill:rgb(0%,0%,0%);fill-opacity:1;\">\n  <use xlink:href=\"#glyph-1580969628598076-0-5\" x=\"173.1\" y=\"248.771\"/>\n</g>\n<g style=\"fill:rgb(0%,0%,0%);fill-opacity:1;\">\n  <use xlink:href=\"#glyph-1580969628598076-0-1\" x=\"203.387\" y=\"248.771\"/>\n</g>\n<g style=\"fill:rgb(0%,0%,0%);fill-opacity:1;\">\n  <use xlink:href=\"#glyph-1580969628598076-1-1\" x=\"208.369\" y=\"248.771\"/>\n</g>\n<g style=\"fill:rgb(0%,0%,0%);fill-opacity:1;\">\n  <use xlink:href=\"#glyph-1580969628598076-0-6\" x=\"211.136\" y=\"248.771\"/>\n</g>\n<g style=\"fill:rgb(0%,0%,0%);fill-opacity:1;\">\n  <use xlink:href=\"#glyph-1580969628598076-0-1\" x=\"241.424\" y=\"248.771\"/>\n</g>\n<g style=\"fill:rgb(0%,0%,0%);fill-opacity:1;\">\n  <use xlink:href=\"#glyph-1580969628598076-1-1\" x=\"246.405\" y=\"248.771\"/>\n</g>\n<g style=\"fill:rgb(0%,0%,0%);fill-opacity:1;\">\n  <use xlink:href=\"#glyph-1580969628598076-0-7\" x=\"249.172\" y=\"248.771\"/>\n</g>\n<g style=\"fill:rgb(0%,0%,0%);fill-opacity:1;\">\n  <use xlink:href=\"#glyph-1580969628598076-0-1\" x=\"279.46\" y=\"248.771\"/>\n</g>\n<g style=\"fill:rgb(0%,0%,0%);fill-opacity:1;\">\n  <use xlink:href=\"#glyph-1580969628598076-1-1\" x=\"284.441\" y=\"248.771\"/>\n</g>\n<g style=\"fill:rgb(0%,0%,0%);fill-opacity:1;\">\n  <use xlink:href=\"#glyph-1580969628598076-0-8\" x=\"287.209\" y=\"248.771\"/>\n</g>\n<g style=\"fill:rgb(0%,0%,0%);fill-opacity:1;\">\n  <use xlink:href=\"#glyph-1580969628598076-0-1\" x=\"317.496\" y=\"248.771\"/>\n</g>\n<g style=\"fill:rgb(0%,0%,0%);fill-opacity:1;\">\n  <use xlink:href=\"#glyph-1580969628598076-1-1\" x=\"322.478\" y=\"248.771\"/>\n</g>\n<g style=\"fill:rgb(0%,0%,0%);fill-opacity:1;\">\n  <use xlink:href=\"#glyph-1580969628598076-0-9\" x=\"325.245\" y=\"248.771\"/>\n</g>\n<g style=\"fill:rgb(0%,0%,0%);fill-opacity:1;\">\n  <use xlink:href=\"#glyph-1580969628598076-0-1\" x=\"355.533\" y=\"248.771\"/>\n</g>\n<g style=\"fill:rgb(0%,0%,0%);fill-opacity:1;\">\n  <use xlink:href=\"#glyph-1580969628598076-1-1\" x=\"360.514\" y=\"248.771\"/>\n</g>\n<g style=\"fill:rgb(0%,0%,0%);fill-opacity:1;\">\n  <use xlink:href=\"#glyph-1580969628598076-0-10\" x=\"363.281\" y=\"248.771\"/>\n</g>\n<g style=\"fill:rgb(0%,0%,0%);fill-opacity:1;\">\n  <use xlink:href=\"#glyph-1580969628598076-0-2\" x=\"397.443\" y=\"248.771\"/>\n</g>\n<g style=\"fill:rgb(0%,0%,0%);fill-opacity:1;\">\n  <use xlink:href=\"#glyph-1580969628598076-0-1\" x=\"11.069\" y=\"242.042\"/>\n</g>\n<g style=\"fill:rgb(0%,0%,0%);fill-opacity:1;\">\n  <use xlink:href=\"#glyph-1580969628598076-0-1\" x=\"3.321\" y=\"198.654\"/>\n</g>\n<g style=\"fill:rgb(0%,0%,0%);fill-opacity:1;\">\n  <use xlink:href=\"#glyph-1580969628598076-1-1\" x=\"8.302\" y=\"198.654\"/>\n</g>\n<g style=\"fill:rgb(0%,0%,0%);fill-opacity:1;\">\n  <use xlink:href=\"#glyph-1580969628598076-0-3\" x=\"11.069\" y=\"198.654\"/>\n</g>\n<g style=\"fill:rgb(0%,0%,0%);fill-opacity:1;\">\n  <use xlink:href=\"#glyph-1580969628598076-0-1\" x=\"3.321\" y=\"155.267\"/>\n</g>\n<g style=\"fill:rgb(0%,0%,0%);fill-opacity:1;\">\n  <use xlink:href=\"#glyph-1580969628598076-1-1\" x=\"8.302\" y=\"155.267\"/>\n</g>\n<g style=\"fill:rgb(0%,0%,0%);fill-opacity:1;\">\n  <use xlink:href=\"#glyph-1580969628598076-0-5\" x=\"11.069\" y=\"155.267\"/>\n</g>\n<g style=\"fill:rgb(0%,0%,0%);fill-opacity:1;\">\n  <use xlink:href=\"#glyph-1580969628598076-0-1\" x=\"3.321\" y=\"111.879\"/>\n</g>\n<g style=\"fill:rgb(0%,0%,0%);fill-opacity:1;\">\n  <use xlink:href=\"#glyph-1580969628598076-1-1\" x=\"8.302\" y=\"111.879\"/>\n</g>\n<g style=\"fill:rgb(0%,0%,0%);fill-opacity:1;\">\n  <use xlink:href=\"#glyph-1580969628598076-0-7\" x=\"11.069\" y=\"111.879\"/>\n</g>\n<g style=\"fill:rgb(0%,0%,0%);fill-opacity:1;\">\n  <use xlink:href=\"#glyph-1580969628598076-0-1\" x=\"3.321\" y=\"68.492\"/>\n</g>\n<g style=\"fill:rgb(0%,0%,0%);fill-opacity:1;\">\n  <use xlink:href=\"#glyph-1580969628598076-1-1\" x=\"8.302\" y=\"68.492\"/>\n</g>\n<g style=\"fill:rgb(0%,0%,0%);fill-opacity:1;\">\n  <use xlink:href=\"#glyph-1580969628598076-0-9\" x=\"11.069\" y=\"68.492\"/>\n</g>\n<g style=\"fill:rgb(0%,0%,0%);fill-opacity:1;\">\n  <use xlink:href=\"#glyph-1580969628598076-0-2\" x=\"11.069\" y=\"25.104\"/>\n</g>\n<g clip-path=\"url(#clip-1580969628598076-1)\" clip-rule=\"nonzero\">\n<path style=\"fill:none;stroke-width:0.3985;stroke-linecap:butt;stroke-linejoin:miter;stroke:rgb(0%,0%,100%);stroke-opacity:1;stroke-miterlimit:10;\" d=\"M 0.0003125 216.940375 L 380.3675 216.940375 \" transform=\"matrix(1,0,0,-1,19.57,238.831)\"/>\n</g>\n<path style=\"fill-rule:nonzero;fill:rgb(100%,100%,100%);fill-opacity:1;stroke-width:0.3985;stroke-linecap:butt;stroke-linejoin:miter;stroke:rgb(0%,0%,0%);stroke-opacity:1;stroke-miterlimit:10;\" d=\"M 301.055 216.725531 L 372.558906 216.725531 L 372.558906 233.663031 L 301.055 233.663031 Z M 301.055 216.725531 \" transform=\"matrix(1,0,0,-1,19.57,238.831)\"/>\n<path style=\"fill:none;stroke-width:0.3985;stroke-linecap:butt;stroke-linejoin:miter;stroke:rgb(0%,0%,100%);stroke-opacity:1;stroke-miterlimit:10;\" d=\"M -0.00140625 -0.000625 L 17.006406 -0.000625 \" transform=\"matrix(1,0,0,-1,323.81,13.64)\"/>\n<g style=\"fill:rgb(0%,0%,0%);fill-opacity:1;\">\n  <use xlink:href=\"#glyph-1580969628598076-2-1\" x=\"343.01\" y=\"16.629\"/>\n  <use xlink:href=\"#glyph-1580969628598076-2-2\" x=\"350.063549\" y=\"16.629\"/>\n  <use xlink:href=\"#glyph-1580969628598076-2-3\" x=\"354.486961\" y=\"16.629\"/>\n  <use xlink:href=\"#glyph-1580969628598076-2-4\" x=\"358.362428\" y=\"16.629\"/>\n  <use xlink:href=\"#glyph-1580969628598076-2-5\" x=\"363.343748\" y=\"16.629\"/>\n  <use xlink:href=\"#glyph-1580969628598076-2-6\" x=\"367.219215\" y=\"16.629\"/>\n  <use xlink:href=\"#glyph-1580969628598076-2-7\" x=\"372.200535\" y=\"16.629\"/>\n</g>\n<g style=\"fill:rgb(0%,0%,0%);fill-opacity:1;\">\n  <use xlink:href=\"#glyph-1580969628598076-2-6\" x=\"378.287708\" y=\"16.629\"/>\n  <use xlink:href=\"#glyph-1580969628598076-2-8\" x=\"383.269028\" y=\"16.629\"/>\n</g>\n</g>\n</svg>\n\n"
         },
         "type": "node"
        }
       ],
       "instanceArgs": {
        "handlers": {
         "obs-output": [
          "function (value, scope) {\n    scope.setInnerHTML(value);\n}\n"
         ]
        },
        "id": "3742746248129098673",
        "imports": {
         "data": [],
         "type": "async_block"
        },
        "mount_callbacks": [],
        "observables": {
         "obs-output": {
          "id": "ob_78",
          "sync": false,
          "value": "<?xml version=\"1.0\" encoding=\"UTF-8\"?>\n<svg xmlns=\"http://www.w3.org/2000/svg\" xmlns:xlink=\"http://www.w3.org/1999/xlink\" width=\"405.745pt\" height=\"252.092pt\" viewBox=\"0 0 405.745 252.092\" version=\"1.1\">\n<defs>\n<g>\n<symbol overflow=\"visible\" id=\"glyph-1580969628598076-0-0\">\n<path style=\"stroke:none;\" d=\"\"/>\n</symbol>\n<symbol overflow=\"visible\" id=\"glyph-1580969628598076-0-1\">\n<path style=\"stroke:none;\" d=\"M 4.578125 -3.1875 C 4.578125 -3.984375 4.53125 -4.78125 4.1875 -5.515625 C 3.734375 -6.484375 2.90625 -6.640625 2.5 -6.640625 C 1.890625 -6.640625 1.171875 -6.375 0.75 -5.453125 C 0.4375 -4.765625 0.390625 -3.984375 0.390625 -3.1875 C 0.390625 -2.4375 0.421875 -1.546875 0.84375 -0.78125 C 1.265625 0.015625 2 0.21875 2.484375 0.21875 C 3.015625 0.21875 3.78125 0.015625 4.21875 -0.9375 C 4.53125 -1.625 4.578125 -2.40625 4.578125 -3.1875 Z M 2.484375 0 C 2.09375 0 1.5 -0.25 1.328125 -1.203125 C 1.21875 -1.796875 1.21875 -2.71875 1.21875 -3.3125 C 1.21875 -3.953125 1.21875 -4.609375 1.296875 -5.140625 C 1.484375 -6.328125 2.234375 -6.421875 2.484375 -6.421875 C 2.8125 -6.421875 3.46875 -6.234375 3.65625 -5.25 C 3.765625 -4.6875 3.765625 -3.9375 3.765625 -3.3125 C 3.765625 -2.5625 3.765625 -1.890625 3.65625 -1.25 C 3.5 -0.296875 2.9375 0 2.484375 0 Z M 2.484375 0 \"/>\n</symbol>\n<symbol overflow=\"visible\" id=\"glyph-1580969628598076-0-2\">\n<path style=\"stroke:none;\" d=\"M 2.9375 -6.375 C 2.9375 -6.625 2.9375 -6.640625 2.703125 -6.640625 C 2.078125 -6 1.203125 -6 0.890625 -6 L 0.890625 -5.6875 C 1.09375 -5.6875 1.671875 -5.6875 2.1875 -5.953125 L 2.1875 -0.78125 C 2.1875 -0.421875 2.15625 -0.3125 1.265625 -0.3125 L 0.953125 -0.3125 L 0.953125 0 C 1.296875 -0.03125 2.15625 -0.03125 2.5625 -0.03125 C 2.953125 -0.03125 3.828125 -0.03125 4.171875 0 L 4.171875 -0.3125 L 3.859375 -0.3125 C 2.953125 -0.3125 2.9375 -0.421875 2.9375 -0.78125 Z M 2.9375 -6.375 \"/>\n</symbol>\n<symbol overflow=\"visible\" id=\"glyph-1580969628598076-0-3\">\n<path style=\"stroke:none;\" d=\"M 1.265625 -0.765625 L 2.328125 -1.796875 C 3.875 -3.171875 4.46875 -3.703125 4.46875 -4.703125 C 4.46875 -5.84375 3.578125 -6.640625 2.359375 -6.640625 C 1.234375 -6.640625 0.5 -5.71875 0.5 -4.828125 C 0.5 -4.28125 1 -4.28125 1.03125 -4.28125 C 1.203125 -4.28125 1.546875 -4.390625 1.546875 -4.8125 C 1.546875 -5.0625 1.359375 -5.328125 1.015625 -5.328125 C 0.9375 -5.328125 0.921875 -5.328125 0.890625 -5.3125 C 1.109375 -5.96875 1.65625 -6.328125 2.234375 -6.328125 C 3.140625 -6.328125 3.5625 -5.515625 3.5625 -4.703125 C 3.5625 -3.90625 3.078125 -3.125 2.515625 -2.5 L 0.609375 -0.375 C 0.5 -0.265625 0.5 -0.234375 0.5 0 L 4.203125 0 L 4.46875 -1.734375 L 4.234375 -1.734375 C 4.171875 -1.4375 4.109375 -1 4 -0.84375 C 3.9375 -0.765625 3.28125 -0.765625 3.0625 -0.765625 Z M 1.265625 -0.765625 \"/>\n</symbol>\n<symbol overflow=\"visible\" id=\"glyph-1580969628598076-0-4\">\n<path style=\"stroke:none;\" d=\"M 2.890625 -3.515625 C 3.703125 -3.78125 4.28125 -4.46875 4.28125 -5.265625 C 4.28125 -6.078125 3.40625 -6.640625 2.453125 -6.640625 C 1.453125 -6.640625 0.6875 -6.046875 0.6875 -5.28125 C 0.6875 -4.953125 0.90625 -4.765625 1.203125 -4.765625 C 1.5 -4.765625 1.703125 -4.984375 1.703125 -5.28125 C 1.703125 -5.765625 1.234375 -5.765625 1.09375 -5.765625 C 1.390625 -6.265625 2.046875 -6.390625 2.40625 -6.390625 C 2.828125 -6.390625 3.375 -6.171875 3.375 -5.28125 C 3.375 -5.15625 3.34375 -4.578125 3.09375 -4.140625 C 2.796875 -3.65625 2.453125 -3.625 2.203125 -3.625 C 2.125 -3.609375 1.890625 -3.59375 1.8125 -3.59375 C 1.734375 -3.578125 1.671875 -3.5625 1.671875 -3.46875 C 1.671875 -3.359375 1.734375 -3.359375 1.90625 -3.359375 L 2.34375 -3.359375 C 3.15625 -3.359375 3.53125 -2.6875 3.53125 -1.703125 C 3.53125 -0.34375 2.84375 -0.0625 2.40625 -0.0625 C 1.96875 -0.0625 1.21875 -0.234375 0.875 -0.8125 C 1.21875 -0.765625 1.53125 -0.984375 1.53125 -1.359375 C 1.53125 -1.71875 1.265625 -1.921875 0.984375 -1.921875 C 0.734375 -1.921875 0.421875 -1.78125 0.421875 -1.34375 C 0.421875 -0.4375 1.34375 0.21875 2.4375 0.21875 C 3.65625 0.21875 4.5625 -0.6875 4.5625 -1.703125 C 4.5625 -2.515625 3.921875 -3.296875 2.890625 -3.515625 Z M 2.890625 -3.515625 \"/>\n</symbol>\n<symbol overflow=\"visible\" id=\"glyph-1580969628598076-0-5\">\n<path style=\"stroke:none;\" d=\"M 2.9375 -1.640625 L 2.9375 -0.78125 C 2.9375 -0.421875 2.90625 -0.3125 2.171875 -0.3125 L 1.96875 -0.3125 L 1.96875 0 C 2.375 -0.03125 2.890625 -0.03125 3.3125 -0.03125 C 3.734375 -0.03125 4.25 -0.03125 4.671875 0 L 4.671875 -0.3125 L 4.453125 -0.3125 C 3.71875 -0.3125 3.703125 -0.421875 3.703125 -0.78125 L 3.703125 -1.640625 L 4.6875 -1.640625 L 4.6875 -1.953125 L 3.703125 -1.953125 L 3.703125 -6.484375 C 3.703125 -6.6875 3.703125 -6.75 3.53125 -6.75 C 3.453125 -6.75 3.421875 -6.75 3.34375 -6.625 L 0.28125 -1.953125 L 0.28125 -1.640625 Z M 2.984375 -1.953125 L 0.5625 -1.953125 L 2.984375 -5.671875 Z M 2.984375 -1.953125 \"/>\n</symbol>\n<symbol overflow=\"visible\" id=\"glyph-1580969628598076-0-6\">\n<path style=\"stroke:none;\" d=\"M 4.46875 -2 C 4.46875 -3.1875 3.65625 -4.1875 2.578125 -4.1875 C 2.109375 -4.1875 1.671875 -4.03125 1.3125 -3.671875 L 1.3125 -5.625 C 1.515625 -5.5625 1.84375 -5.5 2.15625 -5.5 C 3.390625 -5.5 4.09375 -6.40625 4.09375 -6.53125 C 4.09375 -6.59375 4.0625 -6.640625 3.984375 -6.640625 C 3.984375 -6.640625 3.953125 -6.640625 3.90625 -6.609375 C 3.703125 -6.515625 3.21875 -6.3125 2.546875 -6.3125 C 2.15625 -6.3125 1.6875 -6.390625 1.21875 -6.59375 C 1.140625 -6.625 1.125 -6.625 1.109375 -6.625 C 1 -6.625 1 -6.546875 1 -6.390625 L 1 -3.4375 C 1 -3.265625 1 -3.1875 1.140625 -3.1875 C 1.21875 -3.1875 1.234375 -3.203125 1.28125 -3.265625 C 1.390625 -3.421875 1.75 -3.96875 2.5625 -3.96875 C 3.078125 -3.96875 3.328125 -3.515625 3.40625 -3.328125 C 3.5625 -2.953125 3.59375 -2.578125 3.59375 -2.078125 C 3.59375 -1.71875 3.59375 -1.125 3.34375 -0.703125 C 3.109375 -0.3125 2.734375 -0.0625 2.28125 -0.0625 C 1.5625 -0.0625 0.984375 -0.59375 0.8125 -1.171875 C 0.84375 -1.171875 0.875 -1.15625 0.984375 -1.15625 C 1.3125 -1.15625 1.484375 -1.40625 1.484375 -1.640625 C 1.484375 -1.890625 1.3125 -2.140625 0.984375 -2.140625 C 0.84375 -2.140625 0.5 -2.0625 0.5 -1.609375 C 0.5 -0.75 1.1875 0.21875 2.296875 0.21875 C 3.453125 0.21875 4.46875 -0.734375 4.46875 -2 Z M 4.46875 -2 \"/>\n</symbol>\n<symbol overflow=\"visible\" id=\"glyph-1580969628598076-0-7\">\n<path style=\"stroke:none;\" d=\"M 1.3125 -3.265625 L 1.3125 -3.515625 C 1.3125 -6.03125 2.546875 -6.390625 3.0625 -6.390625 C 3.296875 -6.390625 3.71875 -6.328125 3.9375 -5.984375 C 3.78125 -5.984375 3.390625 -5.984375 3.390625 -5.546875 C 3.390625 -5.234375 3.625 -5.078125 3.84375 -5.078125 C 4 -5.078125 4.3125 -5.171875 4.3125 -5.5625 C 4.3125 -6.15625 3.875 -6.640625 3.046875 -6.640625 C 1.765625 -6.640625 0.421875 -5.359375 0.421875 -3.15625 C 0.421875 -0.484375 1.578125 0.21875 2.5 0.21875 C 3.609375 0.21875 4.5625 -0.71875 4.5625 -2.03125 C 4.5625 -3.296875 3.671875 -4.25 2.5625 -4.25 C 1.890625 -4.25 1.515625 -3.75 1.3125 -3.265625 Z M 2.5 -0.0625 C 1.875 -0.0625 1.578125 -0.65625 1.515625 -0.8125 C 1.328125 -1.28125 1.328125 -2.078125 1.328125 -2.25 C 1.328125 -3.03125 1.65625 -4.03125 2.546875 -4.03125 C 2.71875 -4.03125 3.171875 -4.03125 3.484375 -3.40625 C 3.65625 -3.046875 3.65625 -2.53125 3.65625 -2.046875 C 3.65625 -1.5625 3.65625 -1.0625 3.484375 -0.703125 C 3.1875 -0.109375 2.734375 -0.0625 2.5 -0.0625 Z M 2.5 -0.0625 \"/>\n</symbol>\n<symbol overflow=\"visible\" id=\"glyph-1580969628598076-0-8\">\n<path style=\"stroke:none;\" d=\"M 4.75 -6.078125 C 4.828125 -6.1875 4.828125 -6.203125 4.828125 -6.421875 L 2.40625 -6.421875 C 1.203125 -6.421875 1.171875 -6.546875 1.140625 -6.734375 L 0.890625 -6.734375 L 0.5625 -4.6875 L 0.8125 -4.6875 C 0.84375 -4.84375 0.921875 -5.46875 1.0625 -5.59375 C 1.125 -5.65625 1.90625 -5.65625 2.03125 -5.65625 L 4.09375 -5.65625 C 3.984375 -5.5 3.203125 -4.40625 2.984375 -4.078125 C 2.078125 -2.734375 1.75 -1.34375 1.75 -0.328125 C 1.75 -0.234375 1.75 0.21875 2.21875 0.21875 C 2.671875 0.21875 2.671875 -0.234375 2.671875 -0.328125 L 2.671875 -0.84375 C 2.671875 -1.390625 2.703125 -1.9375 2.78125 -2.46875 C 2.828125 -2.703125 2.953125 -3.5625 3.40625 -4.171875 Z M 4.75 -6.078125 \"/>\n</symbol>\n<symbol overflow=\"visible\" id=\"glyph-1580969628598076-0-9\">\n<path style=\"stroke:none;\" d=\"M 1.625 -4.5625 C 1.171875 -4.859375 1.125 -5.1875 1.125 -5.359375 C 1.125 -5.96875 1.78125 -6.390625 2.484375 -6.390625 C 3.203125 -6.390625 3.84375 -5.875 3.84375 -5.15625 C 3.84375 -4.578125 3.453125 -4.109375 2.859375 -3.765625 Z M 3.078125 -3.609375 C 3.796875 -3.984375 4.28125 -4.5 4.28125 -5.15625 C 4.28125 -6.078125 3.40625 -6.640625 2.5 -6.640625 C 1.5 -6.640625 0.6875 -5.90625 0.6875 -4.96875 C 0.6875 -4.796875 0.703125 -4.34375 1.125 -3.875 C 1.234375 -3.765625 1.609375 -3.515625 1.859375 -3.34375 C 1.28125 -3.046875 0.421875 -2.5 0.421875 -1.5 C 0.421875 -0.453125 1.4375 0.21875 2.484375 0.21875 C 3.609375 0.21875 4.5625 -0.609375 4.5625 -1.671875 C 4.5625 -2.03125 4.453125 -2.484375 4.0625 -2.90625 C 3.875 -3.109375 3.71875 -3.203125 3.078125 -3.609375 Z M 2.078125 -3.1875 L 3.3125 -2.40625 C 3.59375 -2.21875 4.0625 -1.921875 4.0625 -1.3125 C 4.0625 -0.578125 3.3125 -0.0625 2.5 -0.0625 C 1.640625 -0.0625 0.921875 -0.671875 0.921875 -1.5 C 0.921875 -2.078125 1.234375 -2.71875 2.078125 -3.1875 Z M 2.078125 -3.1875 \"/>\n</symbol>\n<symbol overflow=\"visible\" id=\"glyph-1580969628598076-0-10\">\n<path style=\"stroke:none;\" d=\"M 3.65625 -3.171875 L 3.65625 -2.84375 C 3.65625 -0.515625 2.625 -0.0625 2.046875 -0.0625 C 1.875 -0.0625 1.328125 -0.078125 1.0625 -0.421875 C 1.5 -0.421875 1.578125 -0.703125 1.578125 -0.875 C 1.578125 -1.1875 1.34375 -1.328125 1.125 -1.328125 C 0.96875 -1.328125 0.671875 -1.25 0.671875 -0.859375 C 0.671875 -0.1875 1.203125 0.21875 2.046875 0.21875 C 3.34375 0.21875 4.5625 -1.140625 4.5625 -3.28125 C 4.5625 -5.96875 3.40625 -6.640625 2.515625 -6.640625 C 1.96875 -6.640625 1.484375 -6.453125 1.0625 -6.015625 C 0.640625 -5.5625 0.421875 -5.140625 0.421875 -4.390625 C 0.421875 -3.15625 1.296875 -2.171875 2.40625 -2.171875 C 3.015625 -2.171875 3.421875 -2.59375 3.65625 -3.171875 Z M 2.421875 -2.40625 C 2.265625 -2.40625 1.796875 -2.40625 1.5 -3.03125 C 1.3125 -3.40625 1.3125 -3.890625 1.3125 -4.390625 C 1.3125 -4.921875 1.3125 -5.390625 1.53125 -5.765625 C 1.796875 -6.265625 2.171875 -6.390625 2.515625 -6.390625 C 2.984375 -6.390625 3.3125 -6.046875 3.484375 -5.609375 C 3.59375 -5.28125 3.640625 -4.65625 3.640625 -4.203125 C 3.640625 -3.375 3.296875 -2.40625 2.421875 -2.40625 Z M 2.421875 -2.40625 \"/>\n</symbol>\n<symbol overflow=\"visible\" id=\"glyph-1580969628598076-1-0\">\n<path style=\"stroke:none;\" d=\"\"/>\n</symbol>\n<symbol overflow=\"visible\" id=\"glyph-1580969628598076-1-1\">\n<path style=\"stroke:none;\" d=\"M 1.90625 -0.53125 C 1.90625 -0.8125 1.671875 -1.0625 1.390625 -1.0625 C 1.09375 -1.0625 0.859375 -0.8125 0.859375 -0.53125 C 0.859375 -0.234375 1.09375 0 1.390625 0 C 1.671875 0 1.90625 -0.234375 1.90625 -0.53125 Z M 1.90625 -0.53125 \"/>\n</symbol>\n<symbol overflow=\"visible\" id=\"glyph-1580969628598076-2-0\">\n<path style=\"stroke:none;\" d=\"\"/>\n</symbol>\n<symbol overflow=\"visible\" id=\"glyph-1580969628598076-2-1\">\n<path style=\"stroke:none;\" d=\"M 6.484375 -1.828125 C 6.484375 -2.6875 5.671875 -3.4375 4.5625 -3.5625 C 5.53125 -3.75 6.21875 -4.390625 6.21875 -5.125 C 6.21875 -5.984375 5.296875 -6.8125 4 -6.8125 L 0.359375 -6.8125 L 0.359375 -6.5 L 0.59375 -6.5 C 1.359375 -6.5 1.390625 -6.390625 1.390625 -6.03125 L 1.390625 -0.78125 C 1.390625 -0.421875 1.359375 -0.3125 0.59375 -0.3125 L 0.359375 -0.3125 L 0.359375 0 L 4.265625 0 C 5.59375 0 6.484375 -0.890625 6.484375 -1.828125 Z M 5.25 -5.125 C 5.25 -4.484375 4.765625 -3.65625 3.65625 -3.65625 L 2.21875 -3.65625 L 2.21875 -6.09375 C 2.21875 -6.4375 2.234375 -6.5 2.703125 -6.5 L 3.9375 -6.5 C 4.90625 -6.5 5.25 -5.65625 5.25 -5.125 Z M 5.5 -1.828125 C 5.5 -1.125 4.96875 -0.3125 3.953125 -0.3125 L 2.703125 -0.3125 C 2.234375 -0.3125 2.21875 -0.375 2.21875 -0.703125 L 2.21875 -3.421875 L 4.09375 -3.421875 C 5.078125 -3.421875 5.5 -2.5 5.5 -1.828125 Z M 5.5 -1.828125 \"/>\n</symbol>\n<symbol overflow=\"visible\" id=\"glyph-1580969628598076-2-2\">\n<path style=\"stroke:none;\" d=\"M 4.140625 -1.1875 C 4.140625 -1.28125 4.0625 -1.3125 4 -1.3125 C 3.921875 -1.3125 3.890625 -1.25 3.875 -1.171875 C 3.53125 -0.140625 2.625 -0.140625 2.53125 -0.140625 C 2.03125 -0.140625 1.640625 -0.4375 1.40625 -0.8125 C 1.109375 -1.28125 1.109375 -1.9375 1.109375 -2.296875 L 3.890625 -2.296875 C 4.109375 -2.296875 4.140625 -2.296875 4.140625 -2.515625 C 4.140625 -3.5 3.59375 -4.46875 2.359375 -4.46875 C 1.203125 -4.46875 0.28125 -3.4375 0.28125 -2.1875 C 0.28125 -0.859375 1.328125 0.109375 2.46875 0.109375 C 3.6875 0.109375 4.140625 -1 4.140625 -1.1875 Z M 3.484375 -2.515625 L 1.109375 -2.515625 C 1.171875 -4 2.015625 -4.25 2.359375 -4.25 C 3.375 -4.25 3.484375 -2.90625 3.484375 -2.515625 Z M 3.484375 -2.515625 \"/>\n</symbol>\n<symbol overflow=\"visible\" id=\"glyph-1580969628598076-2-3\">\n<path style=\"stroke:none;\" d=\"M 3.3125 -1.234375 L 3.3125 -1.796875 L 3.0625 -1.796875 L 3.0625 -1.25 C 3.0625 -0.515625 2.765625 -0.140625 2.390625 -0.140625 C 1.71875 -0.140625 1.71875 -1.046875 1.71875 -1.21875 L 1.71875 -3.984375 L 3.15625 -3.984375 L 3.15625 -4.296875 L 1.71875 -4.296875 L 1.71875 -6.125 L 1.46875 -6.125 C 1.46875 -5.3125 1.171875 -4.25 0.1875 -4.203125 L 0.1875 -3.984375 L 1.03125 -3.984375 L 1.03125 -1.234375 C 1.03125 -0.015625 1.96875 0.109375 2.328125 0.109375 C 3.03125 0.109375 3.3125 -0.59375 3.3125 -1.234375 Z M 3.3125 -1.234375 \"/>\n</symbol>\n<symbol overflow=\"visible\" id=\"glyph-1580969628598076-2-4\">\n<path style=\"stroke:none;\" d=\"M 4.8125 -0.890625 L 4.8125 -1.453125 L 4.5625 -1.453125 L 4.5625 -0.890625 C 4.5625 -0.3125 4.3125 -0.25 4.203125 -0.25 C 3.875 -0.25 3.84375 -0.703125 3.84375 -0.75 L 3.84375 -2.734375 C 3.84375 -3.15625 3.84375 -3.546875 3.484375 -3.921875 C 3.09375 -4.3125 2.59375 -4.46875 2.109375 -4.46875 C 1.296875 -4.46875 0.609375 -4 0.609375 -3.34375 C 0.609375 -3.046875 0.8125 -2.875 1.0625 -2.875 C 1.34375 -2.875 1.53125 -3.078125 1.53125 -3.328125 C 1.53125 -3.453125 1.46875 -3.78125 1.015625 -3.78125 C 1.28125 -4.140625 1.78125 -4.25 2.09375 -4.25 C 2.578125 -4.25 3.15625 -3.859375 3.15625 -2.96875 L 3.15625 -2.609375 C 2.640625 -2.578125 1.9375 -2.546875 1.3125 -2.25 C 0.5625 -1.90625 0.3125 -1.390625 0.3125 -0.953125 C 0.3125 -0.140625 1.28125 0.109375 1.90625 0.109375 C 2.578125 0.109375 3.03125 -0.296875 3.21875 -0.75 C 3.265625 -0.359375 3.53125 0.0625 4 0.0625 C 4.203125 0.0625 4.8125 -0.078125 4.8125 -0.890625 Z M 3.15625 -1.390625 C 3.15625 -0.453125 2.4375 -0.109375 1.984375 -0.109375 C 1.5 -0.109375 1.09375 -0.453125 1.09375 -0.953125 C 1.09375 -1.5 1.5 -2.328125 3.15625 -2.390625 Z M 3.15625 -1.390625 \"/>\n</symbol>\n<symbol overflow=\"visible\" id=\"glyph-1580969628598076-2-5\">\n<path style=\"stroke:none;\" d=\"M 3.296875 2.390625 C 3.296875 2.359375 3.296875 2.34375 3.125 2.171875 C 1.890625 0.921875 1.5625 -0.96875 1.5625 -2.5 C 1.5625 -4.234375 1.9375 -5.96875 3.171875 -7.203125 C 3.296875 -7.328125 3.296875 -7.34375 3.296875 -7.375 C 3.296875 -7.453125 3.265625 -7.484375 3.203125 -7.484375 C 3.09375 -7.484375 2.203125 -6.796875 1.609375 -5.53125 C 1.109375 -4.4375 0.984375 -3.328125 0.984375 -2.5 C 0.984375 -1.71875 1.09375 -0.515625 1.640625 0.625 C 2.25 1.84375 3.09375 2.5 3.203125 2.5 C 3.265625 2.5 3.296875 2.46875 3.296875 2.390625 Z M 3.296875 2.390625 \"/>\n</symbol>\n<symbol overflow=\"visible\" id=\"glyph-1580969628598076-2-6\">\n<path style=\"stroke:none;\" d=\"M 4.171875 0 L 4.171875 -0.3125 L 3.859375 -0.3125 C 2.953125 -0.3125 2.9375 -0.421875 2.9375 -0.78125 L 2.9375 -6.375 C 2.9375 -6.625 2.9375 -6.640625 2.703125 -6.640625 C 2.078125 -6 1.203125 -6 0.890625 -6 L 0.890625 -5.6875 C 1.09375 -5.6875 1.671875 -5.6875 2.1875 -5.953125 L 2.1875 -0.78125 C 2.1875 -0.421875 2.15625 -0.3125 1.265625 -0.3125 L 0.953125 -0.3125 L 0.953125 0 C 1.296875 -0.03125 2.15625 -0.03125 2.5625 -0.03125 C 2.953125 -0.03125 3.828125 -0.03125 4.171875 0 Z M 4.171875 0 \"/>\n</symbol>\n<symbol overflow=\"visible\" id=\"glyph-1580969628598076-2-7\">\n<path style=\"stroke:none;\" d=\"M 2.03125 -0.015625 C 2.03125 -0.640625 1.78125 -1.0625 1.390625 -1.0625 C 1.03125 -1.0625 0.859375 -0.78125 0.859375 -0.53125 C 0.859375 -0.265625 1.03125 0 1.390625 0 C 1.53125 0 1.671875 -0.0625 1.78125 -0.15625 C 1.796875 0.625 1.53125 1.234375 1.09375 1.703125 C 1.03125 1.765625 1.015625 1.78125 1.015625 1.8125 C 1.015625 1.890625 1.0625 1.921875 1.109375 1.921875 C 1.234375 1.921875 2.03125 1.140625 2.03125 -0.015625 Z M 2.03125 -0.015625 \"/>\n</symbol>\n<symbol overflow=\"visible\" id=\"glyph-1580969628598076-2-8\">\n<path style=\"stroke:none;\" d=\"M 2.875 -2.5 C 2.875 -3.265625 2.765625 -4.46875 2.21875 -5.609375 C 1.625 -6.828125 0.765625 -7.484375 0.671875 -7.484375 C 0.609375 -7.484375 0.5625 -7.4375 0.5625 -7.375 C 0.5625 -7.34375 0.5625 -7.328125 0.75 -7.140625 C 1.734375 -6.15625 2.296875 -4.578125 2.296875 -2.5 C 2.296875 -0.78125 1.9375 0.96875 0.703125 2.21875 C 0.5625 2.34375 0.5625 2.359375 0.5625 2.390625 C 0.5625 2.453125 0.609375 2.5 0.671875 2.5 C 0.765625 2.5 1.671875 1.8125 2.25 0.546875 C 2.765625 -0.546875 2.875 -1.65625 2.875 -2.5 Z M 2.875 -2.5 \"/>\n</symbol>\n</g>\n<clipPath id=\"clip-1580969628598076-1\">\n  <path d=\"M 19.570312 21 L 399.9375 21 L 399.9375 23 L 19.570312 23 Z M 19.570312 21 \"/>\n</clipPath>\n</defs>\n<g id=\"surface1\">\n<path style=\"fill:none;stroke-width:0.19925;stroke-linecap:butt;stroke-linejoin:miter;stroke:rgb(50%,50%,50%);stroke-opacity:1;stroke-miterlimit:10;\" d=\"M 0.0003125 -0.00103125 L 0.0003125 4.252875 M 38.035469 -0.00103125 L 38.035469 4.252875 M 76.074531 -0.00103125 L 76.074531 4.252875 M 114.109688 -0.00103125 L 114.109688 4.252875 M 152.14875 -0.00103125 L 152.14875 4.252875 M 190.183906 -0.00103125 L 190.183906 4.252875 M 228.222969 -0.00103125 L 228.222969 4.252875 M 266.258125 -0.00103125 L 266.258125 4.252875 M 304.293281 -0.00103125 L 304.293281 4.252875 M 342.332344 -0.00103125 L 342.332344 4.252875 M 380.3675 -0.00103125 L 380.3675 4.252875 M 0.0003125 238.635688 L 0.0003125 234.381781 M 38.035469 238.635688 L 38.035469 234.381781 M 76.074531 238.635688 L 76.074531 234.381781 M 114.109688 238.635688 L 114.109688 234.381781 M 152.14875 238.635688 L 152.14875 234.381781 M 190.183906 238.635688 L 190.183906 234.381781 M 228.222969 238.635688 L 228.222969 234.381781 M 266.258125 238.635688 L 266.258125 234.381781 M 304.293281 238.635688 L 304.293281 234.381781 M 342.332344 238.635688 L 342.332344 234.381781 M 380.3675 238.635688 L 380.3675 234.381781 \" transform=\"matrix(1,0,0,-1,19.57,238.831)\"/>\n<path style=\"fill:none;stroke-width:0.19925;stroke-linecap:butt;stroke-linejoin:miter;stroke:rgb(50%,50%,50%);stroke-opacity:1;stroke-miterlimit:10;\" d=\"M 0.0003125 -0.00103125 L 4.254219 -0.00103125 M 0.0003125 43.389594 L 4.254219 43.389594 M 0.0003125 86.776313 L 4.254219 86.776313 M 0.0003125 130.163031 L 4.254219 130.163031 M 0.0003125 173.553656 L 4.254219 173.553656 M 0.0003125 216.940375 L 4.254219 216.940375 M 380.3675 -0.00103125 L 376.1175 -0.00103125 M 380.3675 43.389594 L 376.1175 43.389594 M 380.3675 86.776313 L 376.1175 86.776313 M 380.3675 130.163031 L 376.1175 130.163031 M 380.3675 173.553656 L 376.1175 173.553656 M 380.3675 216.940375 L 376.1175 216.940375 \" transform=\"matrix(1,0,0,-1,19.57,238.831)\"/>\n<path style=\"fill:none;stroke-width:0.3985;stroke-linecap:butt;stroke-linejoin:miter;stroke:rgb(0%,0%,0%);stroke-opacity:1;stroke-miterlimit:10;\" d=\"M 0.0003125 -0.00103125 L 0.0003125 238.635688 L 380.3675 238.635688 L 380.3675 -0.00103125 Z M 0.0003125 -0.00103125 \" transform=\"matrix(1,0,0,-1,19.57,238.831)\"/>\n<g style=\"fill:rgb(0%,0%,0%);fill-opacity:1;\">\n  <use xlink:href=\"#glyph-1580969628598076-0-1\" x=\"17.08\" y=\"248.771\"/>\n</g>\n<g style=\"fill:rgb(0%,0%,0%);fill-opacity:1;\">\n  <use xlink:href=\"#glyph-1580969628598076-0-1\" x=\"51.242\" y=\"248.771\"/>\n</g>\n<g style=\"fill:rgb(0%,0%,0%);fill-opacity:1;\">\n  <use xlink:href=\"#glyph-1580969628598076-1-1\" x=\"56.223\" y=\"248.771\"/>\n</g>\n<g style=\"fill:rgb(0%,0%,0%);fill-opacity:1;\">\n  <use xlink:href=\"#glyph-1580969628598076-0-2\" x=\"58.99\" y=\"248.771\"/>\n</g>\n<g style=\"fill:rgb(0%,0%,0%);fill-opacity:1;\">\n  <use xlink:href=\"#glyph-1580969628598076-0-1\" x=\"89.278\" y=\"248.771\"/>\n</g>\n<g style=\"fill:rgb(0%,0%,0%);fill-opacity:1;\">\n  <use xlink:href=\"#glyph-1580969628598076-1-1\" x=\"94.259\" y=\"248.771\"/>\n</g>\n<g style=\"fill:rgb(0%,0%,0%);fill-opacity:1;\">\n  <use xlink:href=\"#glyph-1580969628598076-0-3\" x=\"97.027\" y=\"248.771\"/>\n</g>\n<g style=\"fill:rgb(0%,0%,0%);fill-opacity:1;\">\n  <use xlink:href=\"#glyph-1580969628598076-0-1\" x=\"127.314\" y=\"248.771\"/>\n</g>\n<g style=\"fill:rgb(0%,0%,0%);fill-opacity:1;\">\n  <use xlink:href=\"#glyph-1580969628598076-1-1\" x=\"132.296\" y=\"248.771\"/>\n</g>\n<g style=\"fill:rgb(0%,0%,0%);fill-opacity:1;\">\n  <use xlink:href=\"#glyph-1580969628598076-0-4\" x=\"135.063\" y=\"248.771\"/>\n</g>\n<g style=\"fill:rgb(0%,0%,0%);fill-opacity:1;\">\n  <use xlink:href=\"#glyph-1580969628598076-0-1\" x=\"165.351\" y=\"248.771\"/>\n</g>\n<g style=\"fill:rgb(0%,0%,0%);fill-opacity:1;\">\n  <use xlink:href=\"#glyph-1580969628598076-1-1\" x=\"170.332\" y=\"248.771\"/>\n</g>\n<g style=\"fill:rgb(0%,0%,0%);fill-opacity:1;\">\n  <use xlink:href=\"#glyph-1580969628598076-0-5\" x=\"173.1\" y=\"248.771\"/>\n</g>\n<g style=\"fill:rgb(0%,0%,0%);fill-opacity:1;\">\n  <use xlink:href=\"#glyph-1580969628598076-0-1\" x=\"203.387\" y=\"248.771\"/>\n</g>\n<g style=\"fill:rgb(0%,0%,0%);fill-opacity:1;\">\n  <use xlink:href=\"#glyph-1580969628598076-1-1\" x=\"208.369\" y=\"248.771\"/>\n</g>\n<g style=\"fill:rgb(0%,0%,0%);fill-opacity:1;\">\n  <use xlink:href=\"#glyph-1580969628598076-0-6\" x=\"211.136\" y=\"248.771\"/>\n</g>\n<g style=\"fill:rgb(0%,0%,0%);fill-opacity:1;\">\n  <use xlink:href=\"#glyph-1580969628598076-0-1\" x=\"241.424\" y=\"248.771\"/>\n</g>\n<g style=\"fill:rgb(0%,0%,0%);fill-opacity:1;\">\n  <use xlink:href=\"#glyph-1580969628598076-1-1\" x=\"246.405\" y=\"248.771\"/>\n</g>\n<g style=\"fill:rgb(0%,0%,0%);fill-opacity:1;\">\n  <use xlink:href=\"#glyph-1580969628598076-0-7\" x=\"249.172\" y=\"248.771\"/>\n</g>\n<g style=\"fill:rgb(0%,0%,0%);fill-opacity:1;\">\n  <use xlink:href=\"#glyph-1580969628598076-0-1\" x=\"279.46\" y=\"248.771\"/>\n</g>\n<g style=\"fill:rgb(0%,0%,0%);fill-opacity:1;\">\n  <use xlink:href=\"#glyph-1580969628598076-1-1\" x=\"284.441\" y=\"248.771\"/>\n</g>\n<g style=\"fill:rgb(0%,0%,0%);fill-opacity:1;\">\n  <use xlink:href=\"#glyph-1580969628598076-0-8\" x=\"287.209\" y=\"248.771\"/>\n</g>\n<g style=\"fill:rgb(0%,0%,0%);fill-opacity:1;\">\n  <use xlink:href=\"#glyph-1580969628598076-0-1\" x=\"317.496\" y=\"248.771\"/>\n</g>\n<g style=\"fill:rgb(0%,0%,0%);fill-opacity:1;\">\n  <use xlink:href=\"#glyph-1580969628598076-1-1\" x=\"322.478\" y=\"248.771\"/>\n</g>\n<g style=\"fill:rgb(0%,0%,0%);fill-opacity:1;\">\n  <use xlink:href=\"#glyph-1580969628598076-0-9\" x=\"325.245\" y=\"248.771\"/>\n</g>\n<g style=\"fill:rgb(0%,0%,0%);fill-opacity:1;\">\n  <use xlink:href=\"#glyph-1580969628598076-0-1\" x=\"355.533\" y=\"248.771\"/>\n</g>\n<g style=\"fill:rgb(0%,0%,0%);fill-opacity:1;\">\n  <use xlink:href=\"#glyph-1580969628598076-1-1\" x=\"360.514\" y=\"248.771\"/>\n</g>\n<g style=\"fill:rgb(0%,0%,0%);fill-opacity:1;\">\n  <use xlink:href=\"#glyph-1580969628598076-0-10\" x=\"363.281\" y=\"248.771\"/>\n</g>\n<g style=\"fill:rgb(0%,0%,0%);fill-opacity:1;\">\n  <use xlink:href=\"#glyph-1580969628598076-0-2\" x=\"397.443\" y=\"248.771\"/>\n</g>\n<g style=\"fill:rgb(0%,0%,0%);fill-opacity:1;\">\n  <use xlink:href=\"#glyph-1580969628598076-0-1\" x=\"11.069\" y=\"242.042\"/>\n</g>\n<g style=\"fill:rgb(0%,0%,0%);fill-opacity:1;\">\n  <use xlink:href=\"#glyph-1580969628598076-0-1\" x=\"3.321\" y=\"198.654\"/>\n</g>\n<g style=\"fill:rgb(0%,0%,0%);fill-opacity:1;\">\n  <use xlink:href=\"#glyph-1580969628598076-1-1\" x=\"8.302\" y=\"198.654\"/>\n</g>\n<g style=\"fill:rgb(0%,0%,0%);fill-opacity:1;\">\n  <use xlink:href=\"#glyph-1580969628598076-0-3\" x=\"11.069\" y=\"198.654\"/>\n</g>\n<g style=\"fill:rgb(0%,0%,0%);fill-opacity:1;\">\n  <use xlink:href=\"#glyph-1580969628598076-0-1\" x=\"3.321\" y=\"155.267\"/>\n</g>\n<g style=\"fill:rgb(0%,0%,0%);fill-opacity:1;\">\n  <use xlink:href=\"#glyph-1580969628598076-1-1\" x=\"8.302\" y=\"155.267\"/>\n</g>\n<g style=\"fill:rgb(0%,0%,0%);fill-opacity:1;\">\n  <use xlink:href=\"#glyph-1580969628598076-0-5\" x=\"11.069\" y=\"155.267\"/>\n</g>\n<g style=\"fill:rgb(0%,0%,0%);fill-opacity:1;\">\n  <use xlink:href=\"#glyph-1580969628598076-0-1\" x=\"3.321\" y=\"111.879\"/>\n</g>\n<g style=\"fill:rgb(0%,0%,0%);fill-opacity:1;\">\n  <use xlink:href=\"#glyph-1580969628598076-1-1\" x=\"8.302\" y=\"111.879\"/>\n</g>\n<g style=\"fill:rgb(0%,0%,0%);fill-opacity:1;\">\n  <use xlink:href=\"#glyph-1580969628598076-0-7\" x=\"11.069\" y=\"111.879\"/>\n</g>\n<g style=\"fill:rgb(0%,0%,0%);fill-opacity:1;\">\n  <use xlink:href=\"#glyph-1580969628598076-0-1\" x=\"3.321\" y=\"68.492\"/>\n</g>\n<g style=\"fill:rgb(0%,0%,0%);fill-opacity:1;\">\n  <use xlink:href=\"#glyph-1580969628598076-1-1\" x=\"8.302\" y=\"68.492\"/>\n</g>\n<g style=\"fill:rgb(0%,0%,0%);fill-opacity:1;\">\n  <use xlink:href=\"#glyph-1580969628598076-0-9\" x=\"11.069\" y=\"68.492\"/>\n</g>\n<g style=\"fill:rgb(0%,0%,0%);fill-opacity:1;\">\n  <use xlink:href=\"#glyph-1580969628598076-0-2\" x=\"11.069\" y=\"25.104\"/>\n</g>\n<g clip-path=\"url(#clip-1580969628598076-1)\" clip-rule=\"nonzero\">\n<path style=\"fill:none;stroke-width:0.3985;stroke-linecap:butt;stroke-linejoin:miter;stroke:rgb(0%,0%,100%);stroke-opacity:1;stroke-miterlimit:10;\" d=\"M 0.0003125 216.940375 L 380.3675 216.940375 \" transform=\"matrix(1,0,0,-1,19.57,238.831)\"/>\n</g>\n<path style=\"fill-rule:nonzero;fill:rgb(100%,100%,100%);fill-opacity:1;stroke-width:0.3985;stroke-linecap:butt;stroke-linejoin:miter;stroke:rgb(0%,0%,0%);stroke-opacity:1;stroke-miterlimit:10;\" d=\"M 301.055 216.725531 L 372.558906 216.725531 L 372.558906 233.663031 L 301.055 233.663031 Z M 301.055 216.725531 \" transform=\"matrix(1,0,0,-1,19.57,238.831)\"/>\n<path style=\"fill:none;stroke-width:0.3985;stroke-linecap:butt;stroke-linejoin:miter;stroke:rgb(0%,0%,100%);stroke-opacity:1;stroke-miterlimit:10;\" d=\"M -0.00140625 -0.000625 L 17.006406 -0.000625 \" transform=\"matrix(1,0,0,-1,323.81,13.64)\"/>\n<g style=\"fill:rgb(0%,0%,0%);fill-opacity:1;\">\n  <use xlink:href=\"#glyph-1580969628598076-2-1\" x=\"343.01\" y=\"16.629\"/>\n  <use xlink:href=\"#glyph-1580969628598076-2-2\" x=\"350.063549\" y=\"16.629\"/>\n  <use xlink:href=\"#glyph-1580969628598076-2-3\" x=\"354.486961\" y=\"16.629\"/>\n  <use xlink:href=\"#glyph-1580969628598076-2-4\" x=\"358.362428\" y=\"16.629\"/>\n  <use xlink:href=\"#glyph-1580969628598076-2-5\" x=\"363.343748\" y=\"16.629\"/>\n  <use xlink:href=\"#glyph-1580969628598076-2-6\" x=\"367.219215\" y=\"16.629\"/>\n  <use xlink:href=\"#glyph-1580969628598076-2-7\" x=\"372.200535\" y=\"16.629\"/>\n</g>\n<g style=\"fill:rgb(0%,0%,0%);fill-opacity:1;\">\n  <use xlink:href=\"#glyph-1580969628598076-2-6\" x=\"378.287708\" y=\"16.629\"/>\n  <use xlink:href=\"#glyph-1580969628598076-2-8\" x=\"383.269028\" y=\"16.629\"/>\n</g>\n</g>\n</svg>\n\n"
         }
        },
        "systemjs_options": null
       },
       "nodeType": "Scope",
       "props": {},
       "type": "node"
      },
      "text/html": [
       "<div\n",
       "    class=\"webio-mountpoint\"\n",
       "    data-webio-mountpoint=\"13349814623923218536\"\n",
       ">\n",
       "    <script>\n",
       "    if (window.require && require.defined && require.defined(\"nbextensions/webio-jupyter-notebook\")) {\n",
       "        console.log(\"Jupyter WebIO extension detected, not mounting.\");\n",
       "    } else if (window.WebIO) {\n",
       "        WebIO.mount(\n",
       "            document.querySelector('[data-webio-mountpoint=\"13349814623923218536\"]'),\n",
       "            {\"props\":{},\"nodeType\":\"Scope\",\"type\":\"node\",\"instanceArgs\":{\"imports\":{\"data\":[],\"type\":\"async_block\"},\"id\":\"5293093919308965401\",\"handlers\":{\"obs-output\":[\"function (value, scope) {\\n    scope.setInnerHTML(value);\\n}\\n\"]},\"systemjs_options\":null,\"mount_callbacks\":[],\"observables\":{\"obs-output\":{\"sync\":false,\"id\":\"ob_77\",\"value\":\"<?xml version=\\\"1.0\\\" encoding=\\\"UTF-8\\\"?>\\n<svg xmlns=\\\"http:\\/\\/www.w3.org\\/2000\\/svg\\\" xmlns:xlink=\\\"http:\\/\\/www.w3.org\\/1999\\/xlink\\\" width=\\\"405.745pt\\\" height=\\\"252.092pt\\\" viewBox=\\\"0 0 405.745 252.092\\\" version=\\\"1.1\\\">\\n<defs>\\n<g>\\n<symbol overflow=\\\"visible\\\" id=\\\"glyph-1580969628598075-0-0\\\">\\n<path style=\\\"stroke:none;\\\" d=\\\"\\\"\\/>\\n<\\/symbol>\\n<symbol overflow=\\\"visible\\\" id=\\\"glyph-1580969628598075-0-1\\\">\\n<path style=\\\"stroke:none;\\\" d=\\\"M 4.578125 -3.1875 C 4.578125 -3.984375 4.53125 -4.78125 4.1875 -5.515625 C 3.734375 -6.484375 2.90625 -6.640625 2.5 -6.640625 C 1.890625 -6.640625 1.171875 -6.375 0.75 -5.453125 C 0.4375 -4.765625 0.390625 -3.984375 0.390625 -3.1875 C 0.390625 -2.4375 0.421875 -1.546875 0.84375 -0.78125 C 1.265625 0.015625 2 0.21875 2.484375 0.21875 C 3.015625 0.21875 3.78125 0.015625 4.21875 -0.9375 C 4.53125 -1.625 4.578125 -2.40625 4.578125 -3.1875 Z M 2.484375 0 C 2.09375 0 1.5 -0.25 1.328125 -1.203125 C 1.21875 -1.796875 1.21875 -2.71875 1.21875 -3.3125 C 1.21875 -3.953125 1.21875 -4.609375 1.296875 -5.140625 C 1.484375 -6.328125 2.234375 -6.421875 2.484375 -6.421875 C 2.8125 -6.421875 3.46875 -6.234375 3.65625 -5.25 C 3.765625 -4.6875 3.765625 -3.9375 3.765625 -3.3125 C 3.765625 -2.5625 3.765625 -1.890625 3.65625 -1.25 C 3.5 -0.296875 2.9375 0 2.484375 0 Z M 2.484375 0 \\\"\\/>\\n<\\/symbol>\\n<symbol overflow=\\\"visible\\\" id=\\\"glyph-1580969628598075-0-2\\\">\\n<path style=\\\"stroke:none;\\\" d=\\\"M 2.9375 -6.375 C 2.9375 -6.625 2.9375 -6.640625 2.703125 -6.640625 C 2.078125 -6 1.203125 -6 0.890625 -6 L 0.890625 -5.6875 C 1.09375 -5.6875 1.671875 -5.6875 2.1875 -5.953125 L 2.1875 -0.78125 C 2.1875 -0.421875 2.15625 -0.3125 1.265625 -0.3125 L 0.953125 -0.3125 L 0.953125 0 C 1.296875 -0.03125 2.15625 -0.03125 2.5625 -0.03125 C 2.953125 -0.03125 3.828125 -0.03125 4.171875 0 L 4.171875 -0.3125 L 3.859375 -0.3125 C 2.953125 -0.3125 2.9375 -0.421875 2.9375 -0.78125 Z M 2.9375 -6.375 \\\"\\/>\\n<\\/symbol>\\n<symbol overflow=\\\"visible\\\" id=\\\"glyph-1580969628598075-0-3\\\">\\n<path style=\\\"stroke:none;\\\" d=\\\"M 1.265625 -0.765625 L 2.328125 -1.796875 C 3.875 -3.171875 4.46875 -3.703125 4.46875 -4.703125 C 4.46875 -5.84375 3.578125 -6.640625 2.359375 -6.640625 C 1.234375 -6.640625 0.5 -5.71875 0.5 -4.828125 C 0.5 -4.28125 1 -4.28125 1.03125 -4.28125 C 1.203125 -4.28125 1.546875 -4.390625 1.546875 -4.8125 C 1.546875 -5.0625 1.359375 -5.328125 1.015625 -5.328125 C 0.9375 -5.328125 0.921875 -5.328125 0.890625 -5.3125 C 1.109375 -5.96875 1.65625 -6.328125 2.234375 -6.328125 C 3.140625 -6.328125 3.5625 -5.515625 3.5625 -4.703125 C 3.5625 -3.90625 3.078125 -3.125 2.515625 -2.5 L 0.609375 -0.375 C 0.5 -0.265625 0.5 -0.234375 0.5 0 L 4.203125 0 L 4.46875 -1.734375 L 4.234375 -1.734375 C 4.171875 -1.4375 4.109375 -1 4 -0.84375 C 3.9375 -0.765625 3.28125 -0.765625 3.0625 -0.765625 Z M 1.265625 -0.765625 \\\"\\/>\\n<\\/symbol>\\n<symbol overflow=\\\"visible\\\" id=\\\"glyph-1580969628598075-0-4\\\">\\n<path style=\\\"stroke:none;\\\" d=\\\"M 2.890625 -3.515625 C 3.703125 -3.78125 4.28125 -4.46875 4.28125 -5.265625 C 4.28125 -6.078125 3.40625 -6.640625 2.453125 -6.640625 C 1.453125 -6.640625 0.6875 -6.046875 0.6875 -5.28125 C 0.6875 -4.953125 0.90625 -4.765625 1.203125 -4.765625 C 1.5 -4.765625 1.703125 -4.984375 1.703125 -5.28125 C 1.703125 -5.765625 1.234375 -5.765625 1.09375 -5.765625 C 1.390625 -6.265625 2.046875 -6.390625 2.40625 -6.390625 C 2.828125 -6.390625 3.375 -6.171875 3.375 -5.28125 C 3.375 -5.15625 3.34375 -4.578125 3.09375 -4.140625 C 2.796875 -3.65625 2.453125 -3.625 2.203125 -3.625 C 2.125 -3.609375 1.890625 -3.59375 1.8125 -3.59375 C 1.734375 -3.578125 1.671875 -3.5625 1.671875 -3.46875 C 1.671875 -3.359375 1.734375 -3.359375 1.90625 -3.359375 L 2.34375 -3.359375 C 3.15625 -3.359375 3.53125 -2.6875 3.53125 -1.703125 C 3.53125 -0.34375 2.84375 -0.0625 2.40625 -0.0625 C 1.96875 -0.0625 1.21875 -0.234375 0.875 -0.8125 C 1.21875 -0.765625 1.53125 -0.984375 1.53125 -1.359375 C 1.53125 -1.71875 1.265625 -1.921875 0.984375 -1.921875 C 0.734375 -1.921875 0.421875 -1.78125 0.421875 -1.34375 C 0.421875 -0.4375 1.34375 0.21875 2.4375 0.21875 C 3.65625 0.21875 4.5625 -0.6875 4.5625 -1.703125 C 4.5625 -2.515625 3.921875 -3.296875 2.890625 -3.515625 Z M 2.890625 -3.515625 \\\"\\/>\\n<\\/symbol>\\n<symbol overflow=\\\"visible\\\" id=\\\"glyph-1580969628598075-0-5\\\">\\n<path style=\\\"stroke:none;\\\" d=\\\"M 2.9375 -1.640625 L 2.9375 -0.78125 C 2.9375 -0.421875 2.90625 -0.3125 2.171875 -0.3125 L 1.96875 -0.3125 L 1.96875 0 C 2.375 -0.03125 2.890625 -0.03125 3.3125 -0.03125 C 3.734375 -0.03125 4.25 -0.03125 4.671875 0 L 4.671875 -0.3125 L 4.453125 -0.3125 C 3.71875 -0.3125 3.703125 -0.421875 3.703125 -0.78125 L 3.703125 -1.640625 L 4.6875 -1.640625 L 4.6875 -1.953125 L 3.703125 -1.953125 L 3.703125 -6.484375 C 3.703125 -6.6875 3.703125 -6.75 3.53125 -6.75 C 3.453125 -6.75 3.421875 -6.75 3.34375 -6.625 L 0.28125 -1.953125 L 0.28125 -1.640625 Z M 2.984375 -1.953125 L 0.5625 -1.953125 L 2.984375 -5.671875 Z M 2.984375 -1.953125 \\\"\\/>\\n<\\/symbol>\\n<symbol overflow=\\\"visible\\\" id=\\\"glyph-1580969628598075-0-6\\\">\\n<path style=\\\"stroke:none;\\\" d=\\\"M 4.46875 -2 C 4.46875 -3.1875 3.65625 -4.1875 2.578125 -4.1875 C 2.109375 -4.1875 1.671875 -4.03125 1.3125 -3.671875 L 1.3125 -5.625 C 1.515625 -5.5625 1.84375 -5.5 2.15625 -5.5 C 3.390625 -5.5 4.09375 -6.40625 4.09375 -6.53125 C 4.09375 -6.59375 4.0625 -6.640625 3.984375 -6.640625 C 3.984375 -6.640625 3.953125 -6.640625 3.90625 -6.609375 C 3.703125 -6.515625 3.21875 -6.3125 2.546875 -6.3125 C 2.15625 -6.3125 1.6875 -6.390625 1.21875 -6.59375 C 1.140625 -6.625 1.125 -6.625 1.109375 -6.625 C 1 -6.625 1 -6.546875 1 -6.390625 L 1 -3.4375 C 1 -3.265625 1 -3.1875 1.140625 -3.1875 C 1.21875 -3.1875 1.234375 -3.203125 1.28125 -3.265625 C 1.390625 -3.421875 1.75 -3.96875 2.5625 -3.96875 C 3.078125 -3.96875 3.328125 -3.515625 3.40625 -3.328125 C 3.5625 -2.953125 3.59375 -2.578125 3.59375 -2.078125 C 3.59375 -1.71875 3.59375 -1.125 3.34375 -0.703125 C 3.109375 -0.3125 2.734375 -0.0625 2.28125 -0.0625 C 1.5625 -0.0625 0.984375 -0.59375 0.8125 -1.171875 C 0.84375 -1.171875 0.875 -1.15625 0.984375 -1.15625 C 1.3125 -1.15625 1.484375 -1.40625 1.484375 -1.640625 C 1.484375 -1.890625 1.3125 -2.140625 0.984375 -2.140625 C 0.84375 -2.140625 0.5 -2.0625 0.5 -1.609375 C 0.5 -0.75 1.1875 0.21875 2.296875 0.21875 C 3.453125 0.21875 4.46875 -0.734375 4.46875 -2 Z M 4.46875 -2 \\\"\\/>\\n<\\/symbol>\\n<symbol overflow=\\\"visible\\\" id=\\\"glyph-1580969628598075-0-7\\\">\\n<path style=\\\"stroke:none;\\\" d=\\\"M 1.3125 -3.265625 L 1.3125 -3.515625 C 1.3125 -6.03125 2.546875 -6.390625 3.0625 -6.390625 C 3.296875 -6.390625 3.71875 -6.328125 3.9375 -5.984375 C 3.78125 -5.984375 3.390625 -5.984375 3.390625 -5.546875 C 3.390625 -5.234375 3.625 -5.078125 3.84375 -5.078125 C 4 -5.078125 4.3125 -5.171875 4.3125 -5.5625 C 4.3125 -6.15625 3.875 -6.640625 3.046875 -6.640625 C 1.765625 -6.640625 0.421875 -5.359375 0.421875 -3.15625 C 0.421875 -0.484375 1.578125 0.21875 2.5 0.21875 C 3.609375 0.21875 4.5625 -0.71875 4.5625 -2.03125 C 4.5625 -3.296875 3.671875 -4.25 2.5625 -4.25 C 1.890625 -4.25 1.515625 -3.75 1.3125 -3.265625 Z M 2.5 -0.0625 C 1.875 -0.0625 1.578125 -0.65625 1.515625 -0.8125 C 1.328125 -1.28125 1.328125 -2.078125 1.328125 -2.25 C 1.328125 -3.03125 1.65625 -4.03125 2.546875 -4.03125 C 2.71875 -4.03125 3.171875 -4.03125 3.484375 -3.40625 C 3.65625 -3.046875 3.65625 -2.53125 3.65625 -2.046875 C 3.65625 -1.5625 3.65625 -1.0625 3.484375 -0.703125 C 3.1875 -0.109375 2.734375 -0.0625 2.5 -0.0625 Z M 2.5 -0.0625 \\\"\\/>\\n<\\/symbol>\\n<symbol overflow=\\\"visible\\\" id=\\\"glyph-1580969628598075-0-8\\\">\\n<path style=\\\"stroke:none;\\\" d=\\\"M 4.75 -6.078125 C 4.828125 -6.1875 4.828125 -6.203125 4.828125 -6.421875 L 2.40625 -6.421875 C 1.203125 -6.421875 1.171875 -6.546875 1.140625 -6.734375 L 0.890625 -6.734375 L 0.5625 -4.6875 L 0.8125 -4.6875 C 0.84375 -4.84375 0.921875 -5.46875 1.0625 -5.59375 C 1.125 -5.65625 1.90625 -5.65625 2.03125 -5.65625 L 4.09375 -5.65625 C 3.984375 -5.5 3.203125 -4.40625 2.984375 -4.078125 C 2.078125 -2.734375 1.75 -1.34375 1.75 -0.328125 C 1.75 -0.234375 1.75 0.21875 2.21875 0.21875 C 2.671875 0.21875 2.671875 -0.234375 2.671875 -0.328125 L 2.671875 -0.84375 C 2.671875 -1.390625 2.703125 -1.9375 2.78125 -2.46875 C 2.828125 -2.703125 2.953125 -3.5625 3.40625 -4.171875 Z M 4.75 -6.078125 \\\"\\/>\\n<\\/symbol>\\n<symbol overflow=\\\"visible\\\" id=\\\"glyph-1580969628598075-0-9\\\">\\n<path style=\\\"stroke:none;\\\" d=\\\"M 1.625 -4.5625 C 1.171875 -4.859375 1.125 -5.1875 1.125 -5.359375 C 1.125 -5.96875 1.78125 -6.390625 2.484375 -6.390625 C 3.203125 -6.390625 3.84375 -5.875 3.84375 -5.15625 C 3.84375 -4.578125 3.453125 -4.109375 2.859375 -3.765625 Z M 3.078125 -3.609375 C 3.796875 -3.984375 4.28125 -4.5 4.28125 -5.15625 C 4.28125 -6.078125 3.40625 -6.640625 2.5 -6.640625 C 1.5 -6.640625 0.6875 -5.90625 0.6875 -4.96875 C 0.6875 -4.796875 0.703125 -4.34375 1.125 -3.875 C 1.234375 -3.765625 1.609375 -3.515625 1.859375 -3.34375 C 1.28125 -3.046875 0.421875 -2.5 0.421875 -1.5 C 0.421875 -0.453125 1.4375 0.21875 2.484375 0.21875 C 3.609375 0.21875 4.5625 -0.609375 4.5625 -1.671875 C 4.5625 -2.03125 4.453125 -2.484375 4.0625 -2.90625 C 3.875 -3.109375 3.71875 -3.203125 3.078125 -3.609375 Z M 2.078125 -3.1875 L 3.3125 -2.40625 C 3.59375 -2.21875 4.0625 -1.921875 4.0625 -1.3125 C 4.0625 -0.578125 3.3125 -0.0625 2.5 -0.0625 C 1.640625 -0.0625 0.921875 -0.671875 0.921875 -1.5 C 0.921875 -2.078125 1.234375 -2.71875 2.078125 -3.1875 Z M 2.078125 -3.1875 \\\"\\/>\\n<\\/symbol>\\n<symbol overflow=\\\"visible\\\" id=\\\"glyph-1580969628598075-0-10\\\">\\n<path style=\\\"stroke:none;\\\" d=\\\"M 3.65625 -3.171875 L 3.65625 -2.84375 C 3.65625 -0.515625 2.625 -0.0625 2.046875 -0.0625 C 1.875 -0.0625 1.328125 -0.078125 1.0625 -0.421875 C 1.5 -0.421875 1.578125 -0.703125 1.578125 -0.875 C 1.578125 -1.1875 1.34375 -1.328125 1.125 -1.328125 C 0.96875 -1.328125 0.671875 -1.25 0.671875 -0.859375 C 0.671875 -0.1875 1.203125 0.21875 2.046875 0.21875 C 3.34375 0.21875 4.5625 -1.140625 4.5625 -3.28125 C 4.5625 -5.96875 3.40625 -6.640625 2.515625 -6.640625 C 1.96875 -6.640625 1.484375 -6.453125 1.0625 -6.015625 C 0.640625 -5.5625 0.421875 -5.140625 0.421875 -4.390625 C 0.421875 -3.15625 1.296875 -2.171875 2.40625 -2.171875 C 3.015625 -2.171875 3.421875 -2.59375 3.65625 -3.171875 Z M 2.421875 -2.40625 C 2.265625 -2.40625 1.796875 -2.40625 1.5 -3.03125 C 1.3125 -3.40625 1.3125 -3.890625 1.3125 -4.390625 C 1.3125 -4.921875 1.3125 -5.390625 1.53125 -5.765625 C 1.796875 -6.265625 2.171875 -6.390625 2.515625 -6.390625 C 2.984375 -6.390625 3.3125 -6.046875 3.484375 -5.609375 C 3.59375 -5.28125 3.640625 -4.65625 3.640625 -4.203125 C 3.640625 -3.375 3.296875 -2.40625 2.421875 -2.40625 Z M 2.421875 -2.40625 \\\"\\/>\\n<\\/symbol>\\n<symbol overflow=\\\"visible\\\" id=\\\"glyph-1580969628598075-1-0\\\">\\n<path style=\\\"stroke:none;\\\" d=\\\"\\\"\\/>\\n<\\/symbol>\\n<symbol overflow=\\\"visible\\\" id=\\\"glyph-1580969628598075-1-1\\\">\\n<path style=\\\"stroke:none;\\\" d=\\\"M 1.90625 -0.53125 C 1.90625 -0.8125 1.671875 -1.0625 1.390625 -1.0625 C 1.09375 -1.0625 0.859375 -0.8125 0.859375 -0.53125 C 0.859375 -0.234375 1.09375 0 1.390625 0 C 1.671875 0 1.90625 -0.234375 1.90625 -0.53125 Z M 1.90625 -0.53125 \\\"\\/>\\n<\\/symbol>\\n<symbol overflow=\\\"visible\\\" id=\\\"glyph-1580969628598075-2-0\\\">\\n<path style=\\\"stroke:none;\\\" d=\\\"\\\"\\/>\\n<\\/symbol>\\n<symbol overflow=\\\"visible\\\" id=\\\"glyph-1580969628598075-2-1\\\">\\n<path style=\\\"stroke:none;\\\" d=\\\"M 6.484375 -1.828125 C 6.484375 -2.6875 5.671875 -3.4375 4.5625 -3.5625 C 5.53125 -3.75 6.21875 -4.390625 6.21875 -5.125 C 6.21875 -5.984375 5.296875 -6.8125 4 -6.8125 L 0.359375 -6.8125 L 0.359375 -6.5 L 0.59375 -6.5 C 1.359375 -6.5 1.390625 -6.390625 1.390625 -6.03125 L 1.390625 -0.78125 C 1.390625 -0.421875 1.359375 -0.3125 0.59375 -0.3125 L 0.359375 -0.3125 L 0.359375 0 L 4.265625 0 C 5.59375 0 6.484375 -0.890625 6.484375 -1.828125 Z M 5.25 -5.125 C 5.25 -4.484375 4.765625 -3.65625 3.65625 -3.65625 L 2.21875 -3.65625 L 2.21875 -6.09375 C 2.21875 -6.4375 2.234375 -6.5 2.703125 -6.5 L 3.9375 -6.5 C 4.90625 -6.5 5.25 -5.65625 5.25 -5.125 Z M 5.5 -1.828125 C 5.5 -1.125 4.96875 -0.3125 3.953125 -0.3125 L 2.703125 -0.3125 C 2.234375 -0.3125 2.21875 -0.375 2.21875 -0.703125 L 2.21875 -3.421875 L 4.09375 -3.421875 C 5.078125 -3.421875 5.5 -2.5 5.5 -1.828125 Z M 5.5 -1.828125 \\\"\\/>\\n<\\/symbol>\\n<symbol overflow=\\\"visible\\\" id=\\\"glyph-1580969628598075-2-2\\\">\\n<path style=\\\"stroke:none;\\\" d=\\\"M 4.140625 -1.1875 C 4.140625 -1.28125 4.0625 -1.3125 4 -1.3125 C 3.921875 -1.3125 3.890625 -1.25 3.875 -1.171875 C 3.53125 -0.140625 2.625 -0.140625 2.53125 -0.140625 C 2.03125 -0.140625 1.640625 -0.4375 1.40625 -0.8125 C 1.109375 -1.28125 1.109375 -1.9375 1.109375 -2.296875 L 3.890625 -2.296875 C 4.109375 -2.296875 4.140625 -2.296875 4.140625 -2.515625 C 4.140625 -3.5 3.59375 -4.46875 2.359375 -4.46875 C 1.203125 -4.46875 0.28125 -3.4375 0.28125 -2.1875 C 0.28125 -0.859375 1.328125 0.109375 2.46875 0.109375 C 3.6875 0.109375 4.140625 -1 4.140625 -1.1875 Z M 3.484375 -2.515625 L 1.109375 -2.515625 C 1.171875 -4 2.015625 -4.25 2.359375 -4.25 C 3.375 -4.25 3.484375 -2.90625 3.484375 -2.515625 Z M 3.484375 -2.515625 \\\"\\/>\\n<\\/symbol>\\n<symbol overflow=\\\"visible\\\" id=\\\"glyph-1580969628598075-2-3\\\">\\n<path style=\\\"stroke:none;\\\" d=\\\"M 3.3125 -1.234375 L 3.3125 -1.796875 L 3.0625 -1.796875 L 3.0625 -1.25 C 3.0625 -0.515625 2.765625 -0.140625 2.390625 -0.140625 C 1.71875 -0.140625 1.71875 -1.046875 1.71875 -1.21875 L 1.71875 -3.984375 L 3.15625 -3.984375 L 3.15625 -4.296875 L 1.71875 -4.296875 L 1.71875 -6.125 L 1.46875 -6.125 C 1.46875 -5.3125 1.171875 -4.25 0.1875 -4.203125 L 0.1875 -3.984375 L 1.03125 -3.984375 L 1.03125 -1.234375 C 1.03125 -0.015625 1.96875 0.109375 2.328125 0.109375 C 3.03125 0.109375 3.3125 -0.59375 3.3125 -1.234375 Z M 3.3125 -1.234375 \\\"\\/>\\n<\\/symbol>\\n<symbol overflow=\\\"visible\\\" id=\\\"glyph-1580969628598075-2-4\\\">\\n<path style=\\\"stroke:none;\\\" d=\\\"M 4.8125 -0.890625 L 4.8125 -1.453125 L 4.5625 -1.453125 L 4.5625 -0.890625 C 4.5625 -0.3125 4.3125 -0.25 4.203125 -0.25 C 3.875 -0.25 3.84375 -0.703125 3.84375 -0.75 L 3.84375 -2.734375 C 3.84375 -3.15625 3.84375 -3.546875 3.484375 -3.921875 C 3.09375 -4.3125 2.59375 -4.46875 2.109375 -4.46875 C 1.296875 -4.46875 0.609375 -4 0.609375 -3.34375 C 0.609375 -3.046875 0.8125 -2.875 1.0625 -2.875 C 1.34375 -2.875 1.53125 -3.078125 1.53125 -3.328125 C 1.53125 -3.453125 1.46875 -3.78125 1.015625 -3.78125 C 1.28125 -4.140625 1.78125 -4.25 2.09375 -4.25 C 2.578125 -4.25 3.15625 -3.859375 3.15625 -2.96875 L 3.15625 -2.609375 C 2.640625 -2.578125 1.9375 -2.546875 1.3125 -2.25 C 0.5625 -1.90625 0.3125 -1.390625 0.3125 -0.953125 C 0.3125 -0.140625 1.28125 0.109375 1.90625 0.109375 C 2.578125 0.109375 3.03125 -0.296875 3.21875 -0.75 C 3.265625 -0.359375 3.53125 0.0625 4 0.0625 C 4.203125 0.0625 4.8125 -0.078125 4.8125 -0.890625 Z M 3.15625 -1.390625 C 3.15625 -0.453125 2.4375 -0.109375 1.984375 -0.109375 C 1.5 -0.109375 1.09375 -0.453125 1.09375 -0.953125 C 1.09375 -1.5 1.5 -2.328125 3.15625 -2.390625 Z M 3.15625 -1.390625 \\\"\\/>\\n<\\/symbol>\\n<symbol overflow=\\\"visible\\\" id=\\\"glyph-1580969628598075-2-5\\\">\\n<path style=\\\"stroke:none;\\\" d=\\\"M 3.296875 2.390625 C 3.296875 2.359375 3.296875 2.34375 3.125 2.171875 C 1.890625 0.921875 1.5625 -0.96875 1.5625 -2.5 C 1.5625 -4.234375 1.9375 -5.96875 3.171875 -7.203125 C 3.296875 -7.328125 3.296875 -7.34375 3.296875 -7.375 C 3.296875 -7.453125 3.265625 -7.484375 3.203125 -7.484375 C 3.09375 -7.484375 2.203125 -6.796875 1.609375 -5.53125 C 1.109375 -4.4375 0.984375 -3.328125 0.984375 -2.5 C 0.984375 -1.71875 1.09375 -0.515625 1.640625 0.625 C 2.25 1.84375 3.09375 2.5 3.203125 2.5 C 3.265625 2.5 3.296875 2.46875 3.296875 2.390625 Z M 3.296875 2.390625 \\\"\\/>\\n<\\/symbol>\\n<symbol overflow=\\\"visible\\\" id=\\\"glyph-1580969628598075-2-6\\\">\\n<path style=\\\"stroke:none;\\\" d=\\\"M 4.171875 0 L 4.171875 -0.3125 L 3.859375 -0.3125 C 2.953125 -0.3125 2.9375 -0.421875 2.9375 -0.78125 L 2.9375 -6.375 C 2.9375 -6.625 2.9375 -6.640625 2.703125 -6.640625 C 2.078125 -6 1.203125 -6 0.890625 -6 L 0.890625 -5.6875 C 1.09375 -5.6875 1.671875 -5.6875 2.1875 -5.953125 L 2.1875 -0.78125 C 2.1875 -0.421875 2.15625 -0.3125 1.265625 -0.3125 L 0.953125 -0.3125 L 0.953125 0 C 1.296875 -0.03125 2.15625 -0.03125 2.5625 -0.03125 C 2.953125 -0.03125 3.828125 -0.03125 4.171875 0 Z M 4.171875 0 \\\"\\/>\\n<\\/symbol>\\n<symbol overflow=\\\"visible\\\" id=\\\"glyph-1580969628598075-2-7\\\">\\n<path style=\\\"stroke:none;\\\" d=\\\"M 2.03125 -0.015625 C 2.03125 -0.640625 1.78125 -1.0625 1.390625 -1.0625 C 1.03125 -1.0625 0.859375 -0.78125 0.859375 -0.53125 C 0.859375 -0.265625 1.03125 0 1.390625 0 C 1.53125 0 1.671875 -0.0625 1.78125 -0.15625 C 1.796875 0.625 1.53125 1.234375 1.09375 1.703125 C 1.03125 1.765625 1.015625 1.78125 1.015625 1.8125 C 1.015625 1.890625 1.0625 1.921875 1.109375 1.921875 C 1.234375 1.921875 2.03125 1.140625 2.03125 -0.015625 Z M 2.03125 -0.015625 \\\"\\/>\\n<\\/symbol>\\n<symbol overflow=\\\"visible\\\" id=\\\"glyph-1580969628598075-2-8\\\">\\n<path style=\\\"stroke:none;\\\" d=\\\"M 2.875 -2.5 C 2.875 -3.265625 2.765625 -4.46875 2.21875 -5.609375 C 1.625 -6.828125 0.765625 -7.484375 0.671875 -7.484375 C 0.609375 -7.484375 0.5625 -7.4375 0.5625 -7.375 C 0.5625 -7.34375 0.5625 -7.328125 0.75 -7.140625 C 1.734375 -6.15625 2.296875 -4.578125 2.296875 -2.5 C 2.296875 -0.78125 1.9375 0.96875 0.703125 2.21875 C 0.5625 2.34375 0.5625 2.359375 0.5625 2.390625 C 0.5625 2.453125 0.609375 2.5 0.671875 2.5 C 0.765625 2.5 1.671875 1.8125 2.25 0.546875 C 2.765625 -0.546875 2.875 -1.65625 2.875 -2.5 Z M 2.875 -2.5 \\\"\\/>\\n<\\/symbol>\\n<\\/g>\\n<clipPath id=\\\"clip-1580969628598075-1\\\">\\n  <path d=\\\"M 19.570312 21 L 399.9375 21 L 399.9375 23 L 19.570312 23 Z M 19.570312 21 \\\"\\/>\\n<\\/clipPath>\\n<\\/defs>\\n<g id=\\\"surface1\\\">\\n<path style=\\\"fill:none;stroke-width:0.19925;stroke-linecap:butt;stroke-linejoin:miter;stroke:rgb(50%,50%,50%);stroke-opacity:1;stroke-miterlimit:10;\\\" d=\\\"M 0.0003125 -0.00103125 L 0.0003125 4.252875 M 38.035469 -0.00103125 L 38.035469 4.252875 M 76.074531 -0.00103125 L 76.074531 4.252875 M 114.109688 -0.00103125 L 114.109688 4.252875 M 152.14875 -0.00103125 L 152.14875 4.252875 M 190.183906 -0.00103125 L 190.183906 4.252875 M 228.222969 -0.00103125 L 228.222969 4.252875 M 266.258125 -0.00103125 L 266.258125 4.252875 M 304.293281 -0.00103125 L 304.293281 4.252875 M 342.332344 -0.00103125 L 342.332344 4.252875 M 380.3675 -0.00103125 L 380.3675 4.252875 M 0.0003125 238.635688 L 0.0003125 234.381781 M 38.035469 238.635688 L 38.035469 234.381781 M 76.074531 238.635688 L 76.074531 234.381781 M 114.109688 238.635688 L 114.109688 234.381781 M 152.14875 238.635688 L 152.14875 234.381781 M 190.183906 238.635688 L 190.183906 234.381781 M 228.222969 238.635688 L 228.222969 234.381781 M 266.258125 238.635688 L 266.258125 234.381781 M 304.293281 238.635688 L 304.293281 234.381781 M 342.332344 238.635688 L 342.332344 234.381781 M 380.3675 238.635688 L 380.3675 234.381781 \\\" transform=\\\"matrix(1,0,0,-1,19.57,238.831)\\\"\\/>\\n<path style=\\\"fill:none;stroke-width:0.19925;stroke-linecap:butt;stroke-linejoin:miter;stroke:rgb(50%,50%,50%);stroke-opacity:1;stroke-miterlimit:10;\\\" d=\\\"M 0.0003125 -0.00103125 L 4.254219 -0.00103125 M 0.0003125 43.389594 L 4.254219 43.389594 M 0.0003125 86.776313 L 4.254219 86.776313 M 0.0003125 130.163031 L 4.254219 130.163031 M 0.0003125 173.553656 L 4.254219 173.553656 M 0.0003125 216.940375 L 4.254219 216.940375 M 380.3675 -0.00103125 L 376.1175 -0.00103125 M 380.3675 43.389594 L 376.1175 43.389594 M 380.3675 86.776313 L 376.1175 86.776313 M 380.3675 130.163031 L 376.1175 130.163031 M 380.3675 173.553656 L 376.1175 173.553656 M 380.3675 216.940375 L 376.1175 216.940375 \\\" transform=\\\"matrix(1,0,0,-1,19.57,238.831)\\\"\\/>\\n<path style=\\\"fill:none;stroke-width:0.3985;stroke-linecap:butt;stroke-linejoin:miter;stroke:rgb(0%,0%,0%);stroke-opacity:1;stroke-miterlimit:10;\\\" d=\\\"M 0.0003125 -0.00103125 L 0.0003125 238.635688 L 380.3675 238.635688 L 380.3675 -0.00103125 Z M 0.0003125 -0.00103125 \\\" transform=\\\"matrix(1,0,0,-1,19.57,238.831)\\\"\\/>\\n<g style=\\\"fill:rgb(0%,0%,0%);fill-opacity:1;\\\">\\n  <use xlink:href=\\\"#glyph-1580969628598075-0-1\\\" x=\\\"17.08\\\" y=\\\"248.771\\\"\\/>\\n<\\/g>\\n<g style=\\\"fill:rgb(0%,0%,0%);fill-opacity:1;\\\">\\n  <use xlink:href=\\\"#glyph-1580969628598075-0-1\\\" x=\\\"51.242\\\" y=\\\"248.771\\\"\\/>\\n<\\/g>\\n<g style=\\\"fill:rgb(0%,0%,0%);fill-opacity:1;\\\">\\n  <use xlink:href=\\\"#glyph-1580969628598075-1-1\\\" x=\\\"56.223\\\" y=\\\"248.771\\\"\\/>\\n<\\/g>\\n<g style=\\\"fill:rgb(0%,0%,0%);fill-opacity:1;\\\">\\n  <use xlink:href=\\\"#glyph-1580969628598075-0-2\\\" x=\\\"58.99\\\" y=\\\"248.771\\\"\\/>\\n<\\/g>\\n<g style=\\\"fill:rgb(0%,0%,0%);fill-opacity:1;\\\">\\n  <use xlink:href=\\\"#glyph-1580969628598075-0-1\\\" x=\\\"89.278\\\" y=\\\"248.771\\\"\\/>\\n<\\/g>\\n<g style=\\\"fill:rgb(0%,0%,0%);fill-opacity:1;\\\">\\n  <use xlink:href=\\\"#glyph-1580969628598075-1-1\\\" x=\\\"94.259\\\" y=\\\"248.771\\\"\\/>\\n<\\/g>\\n<g style=\\\"fill:rgb(0%,0%,0%);fill-opacity:1;\\\">\\n  <use xlink:href=\\\"#glyph-1580969628598075-0-3\\\" x=\\\"97.027\\\" y=\\\"248.771\\\"\\/>\\n<\\/g>\\n<g style=\\\"fill:rgb(0%,0%,0%);fill-opacity:1;\\\">\\n  <use xlink:href=\\\"#glyph-1580969628598075-0-1\\\" x=\\\"127.314\\\" y=\\\"248.771\\\"\\/>\\n<\\/g>\\n<g style=\\\"fill:rgb(0%,0%,0%);fill-opacity:1;\\\">\\n  <use xlink:href=\\\"#glyph-1580969628598075-1-1\\\" x=\\\"132.296\\\" y=\\\"248.771\\\"\\/>\\n<\\/g>\\n<g style=\\\"fill:rgb(0%,0%,0%);fill-opacity:1;\\\">\\n  <use xlink:href=\\\"#glyph-1580969628598075-0-4\\\" x=\\\"135.063\\\" y=\\\"248.771\\\"\\/>\\n<\\/g>\\n<g style=\\\"fill:rgb(0%,0%,0%);fill-opacity:1;\\\">\\n  <use xlink:href=\\\"#glyph-1580969628598075-0-1\\\" x=\\\"165.351\\\" y=\\\"248.771\\\"\\/>\\n<\\/g>\\n<g style=\\\"fill:rgb(0%,0%,0%);fill-opacity:1;\\\">\\n  <use xlink:href=\\\"#glyph-1580969628598075-1-1\\\" x=\\\"170.332\\\" y=\\\"248.771\\\"\\/>\\n<\\/g>\\n<g style=\\\"fill:rgb(0%,0%,0%);fill-opacity:1;\\\">\\n  <use xlink:href=\\\"#glyph-1580969628598075-0-5\\\" x=\\\"173.1\\\" y=\\\"248.771\\\"\\/>\\n<\\/g>\\n<g style=\\\"fill:rgb(0%,0%,0%);fill-opacity:1;\\\">\\n  <use xlink:href=\\\"#glyph-1580969628598075-0-1\\\" x=\\\"203.387\\\" y=\\\"248.771\\\"\\/>\\n<\\/g>\\n<g style=\\\"fill:rgb(0%,0%,0%);fill-opacity:1;\\\">\\n  <use xlink:href=\\\"#glyph-1580969628598075-1-1\\\" x=\\\"208.369\\\" y=\\\"248.771\\\"\\/>\\n<\\/g>\\n<g style=\\\"fill:rgb(0%,0%,0%);fill-opacity:1;\\\">\\n  <use xlink:href=\\\"#glyph-1580969628598075-0-6\\\" x=\\\"211.136\\\" y=\\\"248.771\\\"\\/>\\n<\\/g>\\n<g style=\\\"fill:rgb(0%,0%,0%);fill-opacity:1;\\\">\\n  <use xlink:href=\\\"#glyph-1580969628598075-0-1\\\" x=\\\"241.424\\\" y=\\\"248.771\\\"\\/>\\n<\\/g>\\n<g style=\\\"fill:rgb(0%,0%,0%);fill-opacity:1;\\\">\\n  <use xlink:href=\\\"#glyph-1580969628598075-1-1\\\" x=\\\"246.405\\\" y=\\\"248.771\\\"\\/>\\n<\\/g>\\n<g style=\\\"fill:rgb(0%,0%,0%);fill-opacity:1;\\\">\\n  <use xlink:href=\\\"#glyph-1580969628598075-0-7\\\" x=\\\"249.172\\\" y=\\\"248.771\\\"\\/>\\n<\\/g>\\n<g style=\\\"fill:rgb(0%,0%,0%);fill-opacity:1;\\\">\\n  <use xlink:href=\\\"#glyph-1580969628598075-0-1\\\" x=\\\"279.46\\\" y=\\\"248.771\\\"\\/>\\n<\\/g>\\n<g style=\\\"fill:rgb(0%,0%,0%);fill-opacity:1;\\\">\\n  <use xlink:href=\\\"#glyph-1580969628598075-1-1\\\" x=\\\"284.441\\\" y=\\\"248.771\\\"\\/>\\n<\\/g>\\n<g style=\\\"fill:rgb(0%,0%,0%);fill-opacity:1;\\\">\\n  <use xlink:href=\\\"#glyph-1580969628598075-0-8\\\" x=\\\"287.209\\\" y=\\\"248.771\\\"\\/>\\n<\\/g>\\n<g style=\\\"fill:rgb(0%,0%,0%);fill-opacity:1;\\\">\\n  <use xlink:href=\\\"#glyph-1580969628598075-0-1\\\" x=\\\"317.496\\\" y=\\\"248.771\\\"\\/>\\n<\\/g>\\n<g style=\\\"fill:rgb(0%,0%,0%);fill-opacity:1;\\\">\\n  <use xlink:href=\\\"#glyph-1580969628598075-1-1\\\" x=\\\"322.478\\\" y=\\\"248.771\\\"\\/>\\n<\\/g>\\n<g style=\\\"fill:rgb(0%,0%,0%);fill-opacity:1;\\\">\\n  <use xlink:href=\\\"#glyph-1580969628598075-0-9\\\" x=\\\"325.245\\\" y=\\\"248.771\\\"\\/>\\n<\\/g>\\n<g style=\\\"fill:rgb(0%,0%,0%);fill-opacity:1;\\\">\\n  <use xlink:href=\\\"#glyph-1580969628598075-0-1\\\" x=\\\"355.533\\\" y=\\\"248.771\\\"\\/>\\n<\\/g>\\n<g style=\\\"fill:rgb(0%,0%,0%);fill-opacity:1;\\\">\\n  <use xlink:href=\\\"#glyph-1580969628598075-1-1\\\" x=\\\"360.514\\\" y=\\\"248.771\\\"\\/>\\n<\\/g>\\n<g style=\\\"fill:rgb(0%,0%,0%);fill-opacity:1;\\\">\\n  <use xlink:href=\\\"#glyph-1580969628598075-0-10\\\" x=\\\"363.281\\\" y=\\\"248.771\\\"\\/>\\n<\\/g>\\n<g style=\\\"fill:rgb(0%,0%,0%);fill-opacity:1;\\\">\\n  <use xlink:href=\\\"#glyph-1580969628598075-0-2\\\" x=\\\"397.443\\\" y=\\\"248.771\\\"\\/>\\n<\\/g>\\n<g style=\\\"fill:rgb(0%,0%,0%);fill-opacity:1;\\\">\\n  <use xlink:href=\\\"#glyph-1580969628598075-0-1\\\" x=\\\"11.069\\\" y=\\\"242.042\\\"\\/>\\n<\\/g>\\n<g style=\\\"fill:rgb(0%,0%,0%);fill-opacity:1;\\\">\\n  <use xlink:href=\\\"#glyph-1580969628598075-0-1\\\" x=\\\"3.321\\\" y=\\\"198.654\\\"\\/>\\n<\\/g>\\n<g style=\\\"fill:rgb(0%,0%,0%);fill-opacity:1;\\\">\\n  <use xlink:href=\\\"#glyph-1580969628598075-1-1\\\" x=\\\"8.302\\\" y=\\\"198.654\\\"\\/>\\n<\\/g>\\n<g style=\\\"fill:rgb(0%,0%,0%);fill-opacity:1;\\\">\\n  <use xlink:href=\\\"#glyph-1580969628598075-0-3\\\" x=\\\"11.069\\\" y=\\\"198.654\\\"\\/>\\n<\\/g>\\n<g style=\\\"fill:rgb(0%,0%,0%);fill-opacity:1;\\\">\\n  <use xlink:href=\\\"#glyph-1580969628598075-0-1\\\" x=\\\"3.321\\\" y=\\\"155.267\\\"\\/>\\n<\\/g>\\n<g style=\\\"fill:rgb(0%,0%,0%);fill-opacity:1;\\\">\\n  <use xlink:href=\\\"#glyph-1580969628598075-1-1\\\" x=\\\"8.302\\\" y=\\\"155.267\\\"\\/>\\n<\\/g>\\n<g style=\\\"fill:rgb(0%,0%,0%);fill-opacity:1;\\\">\\n  <use xlink:href=\\\"#glyph-1580969628598075-0-5\\\" x=\\\"11.069\\\" y=\\\"155.267\\\"\\/>\\n<\\/g>\\n<g style=\\\"fill:rgb(0%,0%,0%);fill-opacity:1;\\\">\\n  <use xlink:href=\\\"#glyph-1580969628598075-0-1\\\" x=\\\"3.321\\\" y=\\\"111.879\\\"\\/>\\n<\\/g>\\n<g style=\\\"fill:rgb(0%,0%,0%);fill-opacity:1;\\\">\\n  <use xlink:href=\\\"#glyph-1580969628598075-1-1\\\" x=\\\"8.302\\\" y=\\\"111.879\\\"\\/>\\n<\\/g>\\n<g style=\\\"fill:rgb(0%,0%,0%);fill-opacity:1;\\\">\\n  <use xlink:href=\\\"#glyph-1580969628598075-0-7\\\" x=\\\"11.069\\\" y=\\\"111.879\\\"\\/>\\n<\\/g>\\n<g style=\\\"fill:rgb(0%,0%,0%);fill-opacity:1;\\\">\\n  <use xlink:href=\\\"#glyph-1580969628598075-0-1\\\" x=\\\"3.321\\\" y=\\\"68.492\\\"\\/>\\n<\\/g>\\n<g style=\\\"fill:rgb(0%,0%,0%);fill-opacity:1;\\\">\\n  <use xlink:href=\\\"#glyph-1580969628598075-1-1\\\" x=\\\"8.302\\\" y=\\\"68.492\\\"\\/>\\n<\\/g>\\n<g style=\\\"fill:rgb(0%,0%,0%);fill-opacity:1;\\\">\\n  <use xlink:href=\\\"#glyph-1580969628598075-0-9\\\" x=\\\"11.069\\\" y=\\\"68.492\\\"\\/>\\n<\\/g>\\n<g style=\\\"fill:rgb(0%,0%,0%);fill-opacity:1;\\\">\\n  <use xlink:href=\\\"#glyph-1580969628598075-0-2\\\" x=\\\"11.069\\\" y=\\\"25.104\\\"\\/>\\n<\\/g>\\n<g clip-path=\\\"url(#clip-1580969628598075-1)\\\" clip-rule=\\\"nonzero\\\">\\n<path style=\\\"fill:none;stroke-width:0.3985;stroke-linecap:butt;stroke-linejoin:miter;stroke:rgb(0%,0%,100%);stroke-opacity:1;stroke-miterlimit:10;\\\" d=\\\"M 0.0003125 216.940375 L 380.3675 216.940375 \\\" transform=\\\"matrix(1,0,0,-1,19.57,238.831)\\\"\\/>\\n<\\/g>\\n<path style=\\\"fill-rule:nonzero;fill:rgb(100%,100%,100%);fill-opacity:1;stroke-width:0.3985;stroke-linecap:butt;stroke-linejoin:miter;stroke:rgb(0%,0%,0%);stroke-opacity:1;stroke-miterlimit:10;\\\" d=\\\"M 301.055 216.725531 L 372.558906 216.725531 L 372.558906 233.663031 L 301.055 233.663031 Z M 301.055 216.725531 \\\" transform=\\\"matrix(1,0,0,-1,19.57,238.831)\\\"\\/>\\n<path style=\\\"fill:none;stroke-width:0.3985;stroke-linecap:butt;stroke-linejoin:miter;stroke:rgb(0%,0%,100%);stroke-opacity:1;stroke-miterlimit:10;\\\" d=\\\"M -0.00140625 -0.000625 L 17.006406 -0.000625 \\\" transform=\\\"matrix(1,0,0,-1,323.81,13.64)\\\"\\/>\\n<g style=\\\"fill:rgb(0%,0%,0%);fill-opacity:1;\\\">\\n  <use xlink:href=\\\"#glyph-1580969628598075-2-1\\\" x=\\\"343.01\\\" y=\\\"16.629\\\"\\/>\\n  <use xlink:href=\\\"#glyph-1580969628598075-2-2\\\" x=\\\"350.063549\\\" y=\\\"16.629\\\"\\/>\\n  <use xlink:href=\\\"#glyph-1580969628598075-2-3\\\" x=\\\"354.486961\\\" y=\\\"16.629\\\"\\/>\\n  <use xlink:href=\\\"#glyph-1580969628598075-2-4\\\" x=\\\"358.362428\\\" y=\\\"16.629\\\"\\/>\\n  <use xlink:href=\\\"#glyph-1580969628598075-2-5\\\" x=\\\"363.343748\\\" y=\\\"16.629\\\"\\/>\\n  <use xlink:href=\\\"#glyph-1580969628598075-2-6\\\" x=\\\"367.219215\\\" y=\\\"16.629\\\"\\/>\\n  <use xlink:href=\\\"#glyph-1580969628598075-2-7\\\" x=\\\"372.200535\\\" y=\\\"16.629\\\"\\/>\\n<\\/g>\\n<g style=\\\"fill:rgb(0%,0%,0%);fill-opacity:1;\\\">\\n  <use xlink:href=\\\"#glyph-1580969628598075-2-6\\\" x=\\\"378.287708\\\" y=\\\"16.629\\\"\\/>\\n  <use xlink:href=\\\"#glyph-1580969628598075-2-8\\\" x=\\\"383.269028\\\" y=\\\"16.629\\\"\\/>\\n<\\/g>\\n<\\/g>\\n<\\/svg>\\n\\n\"}}},\"children\":[{\"props\":{\"className\":\"webio-observable\",\"setInnerHtml\":\"<?xml version=\\\"1.0\\\" encoding=\\\"UTF-8\\\"?>\\n<svg xmlns=\\\"http:\\/\\/www.w3.org\\/2000\\/svg\\\" xmlns:xlink=\\\"http:\\/\\/www.w3.org\\/1999\\/xlink\\\" width=\\\"405.745pt\\\" height=\\\"252.092pt\\\" viewBox=\\\"0 0 405.745 252.092\\\" version=\\\"1.1\\\">\\n<defs>\\n<g>\\n<symbol overflow=\\\"visible\\\" id=\\\"glyph-1580969628598075-0-0\\\">\\n<path style=\\\"stroke:none;\\\" d=\\\"\\\"\\/>\\n<\\/symbol>\\n<symbol overflow=\\\"visible\\\" id=\\\"glyph-1580969628598075-0-1\\\">\\n<path style=\\\"stroke:none;\\\" d=\\\"M 4.578125 -3.1875 C 4.578125 -3.984375 4.53125 -4.78125 4.1875 -5.515625 C 3.734375 -6.484375 2.90625 -6.640625 2.5 -6.640625 C 1.890625 -6.640625 1.171875 -6.375 0.75 -5.453125 C 0.4375 -4.765625 0.390625 -3.984375 0.390625 -3.1875 C 0.390625 -2.4375 0.421875 -1.546875 0.84375 -0.78125 C 1.265625 0.015625 2 0.21875 2.484375 0.21875 C 3.015625 0.21875 3.78125 0.015625 4.21875 -0.9375 C 4.53125 -1.625 4.578125 -2.40625 4.578125 -3.1875 Z M 2.484375 0 C 2.09375 0 1.5 -0.25 1.328125 -1.203125 C 1.21875 -1.796875 1.21875 -2.71875 1.21875 -3.3125 C 1.21875 -3.953125 1.21875 -4.609375 1.296875 -5.140625 C 1.484375 -6.328125 2.234375 -6.421875 2.484375 -6.421875 C 2.8125 -6.421875 3.46875 -6.234375 3.65625 -5.25 C 3.765625 -4.6875 3.765625 -3.9375 3.765625 -3.3125 C 3.765625 -2.5625 3.765625 -1.890625 3.65625 -1.25 C 3.5 -0.296875 2.9375 0 2.484375 0 Z M 2.484375 0 \\\"\\/>\\n<\\/symbol>\\n<symbol overflow=\\\"visible\\\" id=\\\"glyph-1580969628598075-0-2\\\">\\n<path style=\\\"stroke:none;\\\" d=\\\"M 2.9375 -6.375 C 2.9375 -6.625 2.9375 -6.640625 2.703125 -6.640625 C 2.078125 -6 1.203125 -6 0.890625 -6 L 0.890625 -5.6875 C 1.09375 -5.6875 1.671875 -5.6875 2.1875 -5.953125 L 2.1875 -0.78125 C 2.1875 -0.421875 2.15625 -0.3125 1.265625 -0.3125 L 0.953125 -0.3125 L 0.953125 0 C 1.296875 -0.03125 2.15625 -0.03125 2.5625 -0.03125 C 2.953125 -0.03125 3.828125 -0.03125 4.171875 0 L 4.171875 -0.3125 L 3.859375 -0.3125 C 2.953125 -0.3125 2.9375 -0.421875 2.9375 -0.78125 Z M 2.9375 -6.375 \\\"\\/>\\n<\\/symbol>\\n<symbol overflow=\\\"visible\\\" id=\\\"glyph-1580969628598075-0-3\\\">\\n<path style=\\\"stroke:none;\\\" d=\\\"M 1.265625 -0.765625 L 2.328125 -1.796875 C 3.875 -3.171875 4.46875 -3.703125 4.46875 -4.703125 C 4.46875 -5.84375 3.578125 -6.640625 2.359375 -6.640625 C 1.234375 -6.640625 0.5 -5.71875 0.5 -4.828125 C 0.5 -4.28125 1 -4.28125 1.03125 -4.28125 C 1.203125 -4.28125 1.546875 -4.390625 1.546875 -4.8125 C 1.546875 -5.0625 1.359375 -5.328125 1.015625 -5.328125 C 0.9375 -5.328125 0.921875 -5.328125 0.890625 -5.3125 C 1.109375 -5.96875 1.65625 -6.328125 2.234375 -6.328125 C 3.140625 -6.328125 3.5625 -5.515625 3.5625 -4.703125 C 3.5625 -3.90625 3.078125 -3.125 2.515625 -2.5 L 0.609375 -0.375 C 0.5 -0.265625 0.5 -0.234375 0.5 0 L 4.203125 0 L 4.46875 -1.734375 L 4.234375 -1.734375 C 4.171875 -1.4375 4.109375 -1 4 -0.84375 C 3.9375 -0.765625 3.28125 -0.765625 3.0625 -0.765625 Z M 1.265625 -0.765625 \\\"\\/>\\n<\\/symbol>\\n<symbol overflow=\\\"visible\\\" id=\\\"glyph-1580969628598075-0-4\\\">\\n<path style=\\\"stroke:none;\\\" d=\\\"M 2.890625 -3.515625 C 3.703125 -3.78125 4.28125 -4.46875 4.28125 -5.265625 C 4.28125 -6.078125 3.40625 -6.640625 2.453125 -6.640625 C 1.453125 -6.640625 0.6875 -6.046875 0.6875 -5.28125 C 0.6875 -4.953125 0.90625 -4.765625 1.203125 -4.765625 C 1.5 -4.765625 1.703125 -4.984375 1.703125 -5.28125 C 1.703125 -5.765625 1.234375 -5.765625 1.09375 -5.765625 C 1.390625 -6.265625 2.046875 -6.390625 2.40625 -6.390625 C 2.828125 -6.390625 3.375 -6.171875 3.375 -5.28125 C 3.375 -5.15625 3.34375 -4.578125 3.09375 -4.140625 C 2.796875 -3.65625 2.453125 -3.625 2.203125 -3.625 C 2.125 -3.609375 1.890625 -3.59375 1.8125 -3.59375 C 1.734375 -3.578125 1.671875 -3.5625 1.671875 -3.46875 C 1.671875 -3.359375 1.734375 -3.359375 1.90625 -3.359375 L 2.34375 -3.359375 C 3.15625 -3.359375 3.53125 -2.6875 3.53125 -1.703125 C 3.53125 -0.34375 2.84375 -0.0625 2.40625 -0.0625 C 1.96875 -0.0625 1.21875 -0.234375 0.875 -0.8125 C 1.21875 -0.765625 1.53125 -0.984375 1.53125 -1.359375 C 1.53125 -1.71875 1.265625 -1.921875 0.984375 -1.921875 C 0.734375 -1.921875 0.421875 -1.78125 0.421875 -1.34375 C 0.421875 -0.4375 1.34375 0.21875 2.4375 0.21875 C 3.65625 0.21875 4.5625 -0.6875 4.5625 -1.703125 C 4.5625 -2.515625 3.921875 -3.296875 2.890625 -3.515625 Z M 2.890625 -3.515625 \\\"\\/>\\n<\\/symbol>\\n<symbol overflow=\\\"visible\\\" id=\\\"glyph-1580969628598075-0-5\\\">\\n<path style=\\\"stroke:none;\\\" d=\\\"M 2.9375 -1.640625 L 2.9375 -0.78125 C 2.9375 -0.421875 2.90625 -0.3125 2.171875 -0.3125 L 1.96875 -0.3125 L 1.96875 0 C 2.375 -0.03125 2.890625 -0.03125 3.3125 -0.03125 C 3.734375 -0.03125 4.25 -0.03125 4.671875 0 L 4.671875 -0.3125 L 4.453125 -0.3125 C 3.71875 -0.3125 3.703125 -0.421875 3.703125 -0.78125 L 3.703125 -1.640625 L 4.6875 -1.640625 L 4.6875 -1.953125 L 3.703125 -1.953125 L 3.703125 -6.484375 C 3.703125 -6.6875 3.703125 -6.75 3.53125 -6.75 C 3.453125 -6.75 3.421875 -6.75 3.34375 -6.625 L 0.28125 -1.953125 L 0.28125 -1.640625 Z M 2.984375 -1.953125 L 0.5625 -1.953125 L 2.984375 -5.671875 Z M 2.984375 -1.953125 \\\"\\/>\\n<\\/symbol>\\n<symbol overflow=\\\"visible\\\" id=\\\"glyph-1580969628598075-0-6\\\">\\n<path style=\\\"stroke:none;\\\" d=\\\"M 4.46875 -2 C 4.46875 -3.1875 3.65625 -4.1875 2.578125 -4.1875 C 2.109375 -4.1875 1.671875 -4.03125 1.3125 -3.671875 L 1.3125 -5.625 C 1.515625 -5.5625 1.84375 -5.5 2.15625 -5.5 C 3.390625 -5.5 4.09375 -6.40625 4.09375 -6.53125 C 4.09375 -6.59375 4.0625 -6.640625 3.984375 -6.640625 C 3.984375 -6.640625 3.953125 -6.640625 3.90625 -6.609375 C 3.703125 -6.515625 3.21875 -6.3125 2.546875 -6.3125 C 2.15625 -6.3125 1.6875 -6.390625 1.21875 -6.59375 C 1.140625 -6.625 1.125 -6.625 1.109375 -6.625 C 1 -6.625 1 -6.546875 1 -6.390625 L 1 -3.4375 C 1 -3.265625 1 -3.1875 1.140625 -3.1875 C 1.21875 -3.1875 1.234375 -3.203125 1.28125 -3.265625 C 1.390625 -3.421875 1.75 -3.96875 2.5625 -3.96875 C 3.078125 -3.96875 3.328125 -3.515625 3.40625 -3.328125 C 3.5625 -2.953125 3.59375 -2.578125 3.59375 -2.078125 C 3.59375 -1.71875 3.59375 -1.125 3.34375 -0.703125 C 3.109375 -0.3125 2.734375 -0.0625 2.28125 -0.0625 C 1.5625 -0.0625 0.984375 -0.59375 0.8125 -1.171875 C 0.84375 -1.171875 0.875 -1.15625 0.984375 -1.15625 C 1.3125 -1.15625 1.484375 -1.40625 1.484375 -1.640625 C 1.484375 -1.890625 1.3125 -2.140625 0.984375 -2.140625 C 0.84375 -2.140625 0.5 -2.0625 0.5 -1.609375 C 0.5 -0.75 1.1875 0.21875 2.296875 0.21875 C 3.453125 0.21875 4.46875 -0.734375 4.46875 -2 Z M 4.46875 -2 \\\"\\/>\\n<\\/symbol>\\n<symbol overflow=\\\"visible\\\" id=\\\"glyph-1580969628598075-0-7\\\">\\n<path style=\\\"stroke:none;\\\" d=\\\"M 1.3125 -3.265625 L 1.3125 -3.515625 C 1.3125 -6.03125 2.546875 -6.390625 3.0625 -6.390625 C 3.296875 -6.390625 3.71875 -6.328125 3.9375 -5.984375 C 3.78125 -5.984375 3.390625 -5.984375 3.390625 -5.546875 C 3.390625 -5.234375 3.625 -5.078125 3.84375 -5.078125 C 4 -5.078125 4.3125 -5.171875 4.3125 -5.5625 C 4.3125 -6.15625 3.875 -6.640625 3.046875 -6.640625 C 1.765625 -6.640625 0.421875 -5.359375 0.421875 -3.15625 C 0.421875 -0.484375 1.578125 0.21875 2.5 0.21875 C 3.609375 0.21875 4.5625 -0.71875 4.5625 -2.03125 C 4.5625 -3.296875 3.671875 -4.25 2.5625 -4.25 C 1.890625 -4.25 1.515625 -3.75 1.3125 -3.265625 Z M 2.5 -0.0625 C 1.875 -0.0625 1.578125 -0.65625 1.515625 -0.8125 C 1.328125 -1.28125 1.328125 -2.078125 1.328125 -2.25 C 1.328125 -3.03125 1.65625 -4.03125 2.546875 -4.03125 C 2.71875 -4.03125 3.171875 -4.03125 3.484375 -3.40625 C 3.65625 -3.046875 3.65625 -2.53125 3.65625 -2.046875 C 3.65625 -1.5625 3.65625 -1.0625 3.484375 -0.703125 C 3.1875 -0.109375 2.734375 -0.0625 2.5 -0.0625 Z M 2.5 -0.0625 \\\"\\/>\\n<\\/symbol>\\n<symbol overflow=\\\"visible\\\" id=\\\"glyph-1580969628598075-0-8\\\">\\n<path style=\\\"stroke:none;\\\" d=\\\"M 4.75 -6.078125 C 4.828125 -6.1875 4.828125 -6.203125 4.828125 -6.421875 L 2.40625 -6.421875 C 1.203125 -6.421875 1.171875 -6.546875 1.140625 -6.734375 L 0.890625 -6.734375 L 0.5625 -4.6875 L 0.8125 -4.6875 C 0.84375 -4.84375 0.921875 -5.46875 1.0625 -5.59375 C 1.125 -5.65625 1.90625 -5.65625 2.03125 -5.65625 L 4.09375 -5.65625 C 3.984375 -5.5 3.203125 -4.40625 2.984375 -4.078125 C 2.078125 -2.734375 1.75 -1.34375 1.75 -0.328125 C 1.75 -0.234375 1.75 0.21875 2.21875 0.21875 C 2.671875 0.21875 2.671875 -0.234375 2.671875 -0.328125 L 2.671875 -0.84375 C 2.671875 -1.390625 2.703125 -1.9375 2.78125 -2.46875 C 2.828125 -2.703125 2.953125 -3.5625 3.40625 -4.171875 Z M 4.75 -6.078125 \\\"\\/>\\n<\\/symbol>\\n<symbol overflow=\\\"visible\\\" id=\\\"glyph-1580969628598075-0-9\\\">\\n<path style=\\\"stroke:none;\\\" d=\\\"M 1.625 -4.5625 C 1.171875 -4.859375 1.125 -5.1875 1.125 -5.359375 C 1.125 -5.96875 1.78125 -6.390625 2.484375 -6.390625 C 3.203125 -6.390625 3.84375 -5.875 3.84375 -5.15625 C 3.84375 -4.578125 3.453125 -4.109375 2.859375 -3.765625 Z M 3.078125 -3.609375 C 3.796875 -3.984375 4.28125 -4.5 4.28125 -5.15625 C 4.28125 -6.078125 3.40625 -6.640625 2.5 -6.640625 C 1.5 -6.640625 0.6875 -5.90625 0.6875 -4.96875 C 0.6875 -4.796875 0.703125 -4.34375 1.125 -3.875 C 1.234375 -3.765625 1.609375 -3.515625 1.859375 -3.34375 C 1.28125 -3.046875 0.421875 -2.5 0.421875 -1.5 C 0.421875 -0.453125 1.4375 0.21875 2.484375 0.21875 C 3.609375 0.21875 4.5625 -0.609375 4.5625 -1.671875 C 4.5625 -2.03125 4.453125 -2.484375 4.0625 -2.90625 C 3.875 -3.109375 3.71875 -3.203125 3.078125 -3.609375 Z M 2.078125 -3.1875 L 3.3125 -2.40625 C 3.59375 -2.21875 4.0625 -1.921875 4.0625 -1.3125 C 4.0625 -0.578125 3.3125 -0.0625 2.5 -0.0625 C 1.640625 -0.0625 0.921875 -0.671875 0.921875 -1.5 C 0.921875 -2.078125 1.234375 -2.71875 2.078125 -3.1875 Z M 2.078125 -3.1875 \\\"\\/>\\n<\\/symbol>\\n<symbol overflow=\\\"visible\\\" id=\\\"glyph-1580969628598075-0-10\\\">\\n<path style=\\\"stroke:none;\\\" d=\\\"M 3.65625 -3.171875 L 3.65625 -2.84375 C 3.65625 -0.515625 2.625 -0.0625 2.046875 -0.0625 C 1.875 -0.0625 1.328125 -0.078125 1.0625 -0.421875 C 1.5 -0.421875 1.578125 -0.703125 1.578125 -0.875 C 1.578125 -1.1875 1.34375 -1.328125 1.125 -1.328125 C 0.96875 -1.328125 0.671875 -1.25 0.671875 -0.859375 C 0.671875 -0.1875 1.203125 0.21875 2.046875 0.21875 C 3.34375 0.21875 4.5625 -1.140625 4.5625 -3.28125 C 4.5625 -5.96875 3.40625 -6.640625 2.515625 -6.640625 C 1.96875 -6.640625 1.484375 -6.453125 1.0625 -6.015625 C 0.640625 -5.5625 0.421875 -5.140625 0.421875 -4.390625 C 0.421875 -3.15625 1.296875 -2.171875 2.40625 -2.171875 C 3.015625 -2.171875 3.421875 -2.59375 3.65625 -3.171875 Z M 2.421875 -2.40625 C 2.265625 -2.40625 1.796875 -2.40625 1.5 -3.03125 C 1.3125 -3.40625 1.3125 -3.890625 1.3125 -4.390625 C 1.3125 -4.921875 1.3125 -5.390625 1.53125 -5.765625 C 1.796875 -6.265625 2.171875 -6.390625 2.515625 -6.390625 C 2.984375 -6.390625 3.3125 -6.046875 3.484375 -5.609375 C 3.59375 -5.28125 3.640625 -4.65625 3.640625 -4.203125 C 3.640625 -3.375 3.296875 -2.40625 2.421875 -2.40625 Z M 2.421875 -2.40625 \\\"\\/>\\n<\\/symbol>\\n<symbol overflow=\\\"visible\\\" id=\\\"glyph-1580969628598075-1-0\\\">\\n<path style=\\\"stroke:none;\\\" d=\\\"\\\"\\/>\\n<\\/symbol>\\n<symbol overflow=\\\"visible\\\" id=\\\"glyph-1580969628598075-1-1\\\">\\n<path style=\\\"stroke:none;\\\" d=\\\"M 1.90625 -0.53125 C 1.90625 -0.8125 1.671875 -1.0625 1.390625 -1.0625 C 1.09375 -1.0625 0.859375 -0.8125 0.859375 -0.53125 C 0.859375 -0.234375 1.09375 0 1.390625 0 C 1.671875 0 1.90625 -0.234375 1.90625 -0.53125 Z M 1.90625 -0.53125 \\\"\\/>\\n<\\/symbol>\\n<symbol overflow=\\\"visible\\\" id=\\\"glyph-1580969628598075-2-0\\\">\\n<path style=\\\"stroke:none;\\\" d=\\\"\\\"\\/>\\n<\\/symbol>\\n<symbol overflow=\\\"visible\\\" id=\\\"glyph-1580969628598075-2-1\\\">\\n<path style=\\\"stroke:none;\\\" d=\\\"M 6.484375 -1.828125 C 6.484375 -2.6875 5.671875 -3.4375 4.5625 -3.5625 C 5.53125 -3.75 6.21875 -4.390625 6.21875 -5.125 C 6.21875 -5.984375 5.296875 -6.8125 4 -6.8125 L 0.359375 -6.8125 L 0.359375 -6.5 L 0.59375 -6.5 C 1.359375 -6.5 1.390625 -6.390625 1.390625 -6.03125 L 1.390625 -0.78125 C 1.390625 -0.421875 1.359375 -0.3125 0.59375 -0.3125 L 0.359375 -0.3125 L 0.359375 0 L 4.265625 0 C 5.59375 0 6.484375 -0.890625 6.484375 -1.828125 Z M 5.25 -5.125 C 5.25 -4.484375 4.765625 -3.65625 3.65625 -3.65625 L 2.21875 -3.65625 L 2.21875 -6.09375 C 2.21875 -6.4375 2.234375 -6.5 2.703125 -6.5 L 3.9375 -6.5 C 4.90625 -6.5 5.25 -5.65625 5.25 -5.125 Z M 5.5 -1.828125 C 5.5 -1.125 4.96875 -0.3125 3.953125 -0.3125 L 2.703125 -0.3125 C 2.234375 -0.3125 2.21875 -0.375 2.21875 -0.703125 L 2.21875 -3.421875 L 4.09375 -3.421875 C 5.078125 -3.421875 5.5 -2.5 5.5 -1.828125 Z M 5.5 -1.828125 \\\"\\/>\\n<\\/symbol>\\n<symbol overflow=\\\"visible\\\" id=\\\"glyph-1580969628598075-2-2\\\">\\n<path style=\\\"stroke:none;\\\" d=\\\"M 4.140625 -1.1875 C 4.140625 -1.28125 4.0625 -1.3125 4 -1.3125 C 3.921875 -1.3125 3.890625 -1.25 3.875 -1.171875 C 3.53125 -0.140625 2.625 -0.140625 2.53125 -0.140625 C 2.03125 -0.140625 1.640625 -0.4375 1.40625 -0.8125 C 1.109375 -1.28125 1.109375 -1.9375 1.109375 -2.296875 L 3.890625 -2.296875 C 4.109375 -2.296875 4.140625 -2.296875 4.140625 -2.515625 C 4.140625 -3.5 3.59375 -4.46875 2.359375 -4.46875 C 1.203125 -4.46875 0.28125 -3.4375 0.28125 -2.1875 C 0.28125 -0.859375 1.328125 0.109375 2.46875 0.109375 C 3.6875 0.109375 4.140625 -1 4.140625 -1.1875 Z M 3.484375 -2.515625 L 1.109375 -2.515625 C 1.171875 -4 2.015625 -4.25 2.359375 -4.25 C 3.375 -4.25 3.484375 -2.90625 3.484375 -2.515625 Z M 3.484375 -2.515625 \\\"\\/>\\n<\\/symbol>\\n<symbol overflow=\\\"visible\\\" id=\\\"glyph-1580969628598075-2-3\\\">\\n<path style=\\\"stroke:none;\\\" d=\\\"M 3.3125 -1.234375 L 3.3125 -1.796875 L 3.0625 -1.796875 L 3.0625 -1.25 C 3.0625 -0.515625 2.765625 -0.140625 2.390625 -0.140625 C 1.71875 -0.140625 1.71875 -1.046875 1.71875 -1.21875 L 1.71875 -3.984375 L 3.15625 -3.984375 L 3.15625 -4.296875 L 1.71875 -4.296875 L 1.71875 -6.125 L 1.46875 -6.125 C 1.46875 -5.3125 1.171875 -4.25 0.1875 -4.203125 L 0.1875 -3.984375 L 1.03125 -3.984375 L 1.03125 -1.234375 C 1.03125 -0.015625 1.96875 0.109375 2.328125 0.109375 C 3.03125 0.109375 3.3125 -0.59375 3.3125 -1.234375 Z M 3.3125 -1.234375 \\\"\\/>\\n<\\/symbol>\\n<symbol overflow=\\\"visible\\\" id=\\\"glyph-1580969628598075-2-4\\\">\\n<path style=\\\"stroke:none;\\\" d=\\\"M 4.8125 -0.890625 L 4.8125 -1.453125 L 4.5625 -1.453125 L 4.5625 -0.890625 C 4.5625 -0.3125 4.3125 -0.25 4.203125 -0.25 C 3.875 -0.25 3.84375 -0.703125 3.84375 -0.75 L 3.84375 -2.734375 C 3.84375 -3.15625 3.84375 -3.546875 3.484375 -3.921875 C 3.09375 -4.3125 2.59375 -4.46875 2.109375 -4.46875 C 1.296875 -4.46875 0.609375 -4 0.609375 -3.34375 C 0.609375 -3.046875 0.8125 -2.875 1.0625 -2.875 C 1.34375 -2.875 1.53125 -3.078125 1.53125 -3.328125 C 1.53125 -3.453125 1.46875 -3.78125 1.015625 -3.78125 C 1.28125 -4.140625 1.78125 -4.25 2.09375 -4.25 C 2.578125 -4.25 3.15625 -3.859375 3.15625 -2.96875 L 3.15625 -2.609375 C 2.640625 -2.578125 1.9375 -2.546875 1.3125 -2.25 C 0.5625 -1.90625 0.3125 -1.390625 0.3125 -0.953125 C 0.3125 -0.140625 1.28125 0.109375 1.90625 0.109375 C 2.578125 0.109375 3.03125 -0.296875 3.21875 -0.75 C 3.265625 -0.359375 3.53125 0.0625 4 0.0625 C 4.203125 0.0625 4.8125 -0.078125 4.8125 -0.890625 Z M 3.15625 -1.390625 C 3.15625 -0.453125 2.4375 -0.109375 1.984375 -0.109375 C 1.5 -0.109375 1.09375 -0.453125 1.09375 -0.953125 C 1.09375 -1.5 1.5 -2.328125 3.15625 -2.390625 Z M 3.15625 -1.390625 \\\"\\/>\\n<\\/symbol>\\n<symbol overflow=\\\"visible\\\" id=\\\"glyph-1580969628598075-2-5\\\">\\n<path style=\\\"stroke:none;\\\" d=\\\"M 3.296875 2.390625 C 3.296875 2.359375 3.296875 2.34375 3.125 2.171875 C 1.890625 0.921875 1.5625 -0.96875 1.5625 -2.5 C 1.5625 -4.234375 1.9375 -5.96875 3.171875 -7.203125 C 3.296875 -7.328125 3.296875 -7.34375 3.296875 -7.375 C 3.296875 -7.453125 3.265625 -7.484375 3.203125 -7.484375 C 3.09375 -7.484375 2.203125 -6.796875 1.609375 -5.53125 C 1.109375 -4.4375 0.984375 -3.328125 0.984375 -2.5 C 0.984375 -1.71875 1.09375 -0.515625 1.640625 0.625 C 2.25 1.84375 3.09375 2.5 3.203125 2.5 C 3.265625 2.5 3.296875 2.46875 3.296875 2.390625 Z M 3.296875 2.390625 \\\"\\/>\\n<\\/symbol>\\n<symbol overflow=\\\"visible\\\" id=\\\"glyph-1580969628598075-2-6\\\">\\n<path style=\\\"stroke:none;\\\" d=\\\"M 4.171875 0 L 4.171875 -0.3125 L 3.859375 -0.3125 C 2.953125 -0.3125 2.9375 -0.421875 2.9375 -0.78125 L 2.9375 -6.375 C 2.9375 -6.625 2.9375 -6.640625 2.703125 -6.640625 C 2.078125 -6 1.203125 -6 0.890625 -6 L 0.890625 -5.6875 C 1.09375 -5.6875 1.671875 -5.6875 2.1875 -5.953125 L 2.1875 -0.78125 C 2.1875 -0.421875 2.15625 -0.3125 1.265625 -0.3125 L 0.953125 -0.3125 L 0.953125 0 C 1.296875 -0.03125 2.15625 -0.03125 2.5625 -0.03125 C 2.953125 -0.03125 3.828125 -0.03125 4.171875 0 Z M 4.171875 0 \\\"\\/>\\n<\\/symbol>\\n<symbol overflow=\\\"visible\\\" id=\\\"glyph-1580969628598075-2-7\\\">\\n<path style=\\\"stroke:none;\\\" d=\\\"M 2.03125 -0.015625 C 2.03125 -0.640625 1.78125 -1.0625 1.390625 -1.0625 C 1.03125 -1.0625 0.859375 -0.78125 0.859375 -0.53125 C 0.859375 -0.265625 1.03125 0 1.390625 0 C 1.53125 0 1.671875 -0.0625 1.78125 -0.15625 C 1.796875 0.625 1.53125 1.234375 1.09375 1.703125 C 1.03125 1.765625 1.015625 1.78125 1.015625 1.8125 C 1.015625 1.890625 1.0625 1.921875 1.109375 1.921875 C 1.234375 1.921875 2.03125 1.140625 2.03125 -0.015625 Z M 2.03125 -0.015625 \\\"\\/>\\n<\\/symbol>\\n<symbol overflow=\\\"visible\\\" id=\\\"glyph-1580969628598075-2-8\\\">\\n<path style=\\\"stroke:none;\\\" d=\\\"M 2.875 -2.5 C 2.875 -3.265625 2.765625 -4.46875 2.21875 -5.609375 C 1.625 -6.828125 0.765625 -7.484375 0.671875 -7.484375 C 0.609375 -7.484375 0.5625 -7.4375 0.5625 -7.375 C 0.5625 -7.34375 0.5625 -7.328125 0.75 -7.140625 C 1.734375 -6.15625 2.296875 -4.578125 2.296875 -2.5 C 2.296875 -0.78125 1.9375 0.96875 0.703125 2.21875 C 0.5625 2.34375 0.5625 2.359375 0.5625 2.390625 C 0.5625 2.453125 0.609375 2.5 0.671875 2.5 C 0.765625 2.5 1.671875 1.8125 2.25 0.546875 C 2.765625 -0.546875 2.875 -1.65625 2.875 -2.5 Z M 2.875 -2.5 \\\"\\/>\\n<\\/symbol>\\n<\\/g>\\n<clipPath id=\\\"clip-1580969628598075-1\\\">\\n  <path d=\\\"M 19.570312 21 L 399.9375 21 L 399.9375 23 L 19.570312 23 Z M 19.570312 21 \\\"\\/>\\n<\\/clipPath>\\n<\\/defs>\\n<g id=\\\"surface1\\\">\\n<path style=\\\"fill:none;stroke-width:0.19925;stroke-linecap:butt;stroke-linejoin:miter;stroke:rgb(50%,50%,50%);stroke-opacity:1;stroke-miterlimit:10;\\\" d=\\\"M 0.0003125 -0.00103125 L 0.0003125 4.252875 M 38.035469 -0.00103125 L 38.035469 4.252875 M 76.074531 -0.00103125 L 76.074531 4.252875 M 114.109688 -0.00103125 L 114.109688 4.252875 M 152.14875 -0.00103125 L 152.14875 4.252875 M 190.183906 -0.00103125 L 190.183906 4.252875 M 228.222969 -0.00103125 L 228.222969 4.252875 M 266.258125 -0.00103125 L 266.258125 4.252875 M 304.293281 -0.00103125 L 304.293281 4.252875 M 342.332344 -0.00103125 L 342.332344 4.252875 M 380.3675 -0.00103125 L 380.3675 4.252875 M 0.0003125 238.635688 L 0.0003125 234.381781 M 38.035469 238.635688 L 38.035469 234.381781 M 76.074531 238.635688 L 76.074531 234.381781 M 114.109688 238.635688 L 114.109688 234.381781 M 152.14875 238.635688 L 152.14875 234.381781 M 190.183906 238.635688 L 190.183906 234.381781 M 228.222969 238.635688 L 228.222969 234.381781 M 266.258125 238.635688 L 266.258125 234.381781 M 304.293281 238.635688 L 304.293281 234.381781 M 342.332344 238.635688 L 342.332344 234.381781 M 380.3675 238.635688 L 380.3675 234.381781 \\\" transform=\\\"matrix(1,0,0,-1,19.57,238.831)\\\"\\/>\\n<path style=\\\"fill:none;stroke-width:0.19925;stroke-linecap:butt;stroke-linejoin:miter;stroke:rgb(50%,50%,50%);stroke-opacity:1;stroke-miterlimit:10;\\\" d=\\\"M 0.0003125 -0.00103125 L 4.254219 -0.00103125 M 0.0003125 43.389594 L 4.254219 43.389594 M 0.0003125 86.776313 L 4.254219 86.776313 M 0.0003125 130.163031 L 4.254219 130.163031 M 0.0003125 173.553656 L 4.254219 173.553656 M 0.0003125 216.940375 L 4.254219 216.940375 M 380.3675 -0.00103125 L 376.1175 -0.00103125 M 380.3675 43.389594 L 376.1175 43.389594 M 380.3675 86.776313 L 376.1175 86.776313 M 380.3675 130.163031 L 376.1175 130.163031 M 380.3675 173.553656 L 376.1175 173.553656 M 380.3675 216.940375 L 376.1175 216.940375 \\\" transform=\\\"matrix(1,0,0,-1,19.57,238.831)\\\"\\/>\\n<path style=\\\"fill:none;stroke-width:0.3985;stroke-linecap:butt;stroke-linejoin:miter;stroke:rgb(0%,0%,0%);stroke-opacity:1;stroke-miterlimit:10;\\\" d=\\\"M 0.0003125 -0.00103125 L 0.0003125 238.635688 L 380.3675 238.635688 L 380.3675 -0.00103125 Z M 0.0003125 -0.00103125 \\\" transform=\\\"matrix(1,0,0,-1,19.57,238.831)\\\"\\/>\\n<g style=\\\"fill:rgb(0%,0%,0%);fill-opacity:1;\\\">\\n  <use xlink:href=\\\"#glyph-1580969628598075-0-1\\\" x=\\\"17.08\\\" y=\\\"248.771\\\"\\/>\\n<\\/g>\\n<g style=\\\"fill:rgb(0%,0%,0%);fill-opacity:1;\\\">\\n  <use xlink:href=\\\"#glyph-1580969628598075-0-1\\\" x=\\\"51.242\\\" y=\\\"248.771\\\"\\/>\\n<\\/g>\\n<g style=\\\"fill:rgb(0%,0%,0%);fill-opacity:1;\\\">\\n  <use xlink:href=\\\"#glyph-1580969628598075-1-1\\\" x=\\\"56.223\\\" y=\\\"248.771\\\"\\/>\\n<\\/g>\\n<g style=\\\"fill:rgb(0%,0%,0%);fill-opacity:1;\\\">\\n  <use xlink:href=\\\"#glyph-1580969628598075-0-2\\\" x=\\\"58.99\\\" y=\\\"248.771\\\"\\/>\\n<\\/g>\\n<g style=\\\"fill:rgb(0%,0%,0%);fill-opacity:1;\\\">\\n  <use xlink:href=\\\"#glyph-1580969628598075-0-1\\\" x=\\\"89.278\\\" y=\\\"248.771\\\"\\/>\\n<\\/g>\\n<g style=\\\"fill:rgb(0%,0%,0%);fill-opacity:1;\\\">\\n  <use xlink:href=\\\"#glyph-1580969628598075-1-1\\\" x=\\\"94.259\\\" y=\\\"248.771\\\"\\/>\\n<\\/g>\\n<g style=\\\"fill:rgb(0%,0%,0%);fill-opacity:1;\\\">\\n  <use xlink:href=\\\"#glyph-1580969628598075-0-3\\\" x=\\\"97.027\\\" y=\\\"248.771\\\"\\/>\\n<\\/g>\\n<g style=\\\"fill:rgb(0%,0%,0%);fill-opacity:1;\\\">\\n  <use xlink:href=\\\"#glyph-1580969628598075-0-1\\\" x=\\\"127.314\\\" y=\\\"248.771\\\"\\/>\\n<\\/g>\\n<g style=\\\"fill:rgb(0%,0%,0%);fill-opacity:1;\\\">\\n  <use xlink:href=\\\"#glyph-1580969628598075-1-1\\\" x=\\\"132.296\\\" y=\\\"248.771\\\"\\/>\\n<\\/g>\\n<g style=\\\"fill:rgb(0%,0%,0%);fill-opacity:1;\\\">\\n  <use xlink:href=\\\"#glyph-1580969628598075-0-4\\\" x=\\\"135.063\\\" y=\\\"248.771\\\"\\/>\\n<\\/g>\\n<g style=\\\"fill:rgb(0%,0%,0%);fill-opacity:1;\\\">\\n  <use xlink:href=\\\"#glyph-1580969628598075-0-1\\\" x=\\\"165.351\\\" y=\\\"248.771\\\"\\/>\\n<\\/g>\\n<g style=\\\"fill:rgb(0%,0%,0%);fill-opacity:1;\\\">\\n  <use xlink:href=\\\"#glyph-1580969628598075-1-1\\\" x=\\\"170.332\\\" y=\\\"248.771\\\"\\/>\\n<\\/g>\\n<g style=\\\"fill:rgb(0%,0%,0%);fill-opacity:1;\\\">\\n  <use xlink:href=\\\"#glyph-1580969628598075-0-5\\\" x=\\\"173.1\\\" y=\\\"248.771\\\"\\/>\\n<\\/g>\\n<g style=\\\"fill:rgb(0%,0%,0%);fill-opacity:1;\\\">\\n  <use xlink:href=\\\"#glyph-1580969628598075-0-1\\\" x=\\\"203.387\\\" y=\\\"248.771\\\"\\/>\\n<\\/g>\\n<g style=\\\"fill:rgb(0%,0%,0%);fill-opacity:1;\\\">\\n  <use xlink:href=\\\"#glyph-1580969628598075-1-1\\\" x=\\\"208.369\\\" y=\\\"248.771\\\"\\/>\\n<\\/g>\\n<g style=\\\"fill:rgb(0%,0%,0%);fill-opacity:1;\\\">\\n  <use xlink:href=\\\"#glyph-1580969628598075-0-6\\\" x=\\\"211.136\\\" y=\\\"248.771\\\"\\/>\\n<\\/g>\\n<g style=\\\"fill:rgb(0%,0%,0%);fill-opacity:1;\\\">\\n  <use xlink:href=\\\"#glyph-1580969628598075-0-1\\\" x=\\\"241.424\\\" y=\\\"248.771\\\"\\/>\\n<\\/g>\\n<g style=\\\"fill:rgb(0%,0%,0%);fill-opacity:1;\\\">\\n  <use xlink:href=\\\"#glyph-1580969628598075-1-1\\\" x=\\\"246.405\\\" y=\\\"248.771\\\"\\/>\\n<\\/g>\\n<g style=\\\"fill:rgb(0%,0%,0%);fill-opacity:1;\\\">\\n  <use xlink:href=\\\"#glyph-1580969628598075-0-7\\\" x=\\\"249.172\\\" y=\\\"248.771\\\"\\/>\\n<\\/g>\\n<g style=\\\"fill:rgb(0%,0%,0%);fill-opacity:1;\\\">\\n  <use xlink:href=\\\"#glyph-1580969628598075-0-1\\\" x=\\\"279.46\\\" y=\\\"248.771\\\"\\/>\\n<\\/g>\\n<g style=\\\"fill:rgb(0%,0%,0%);fill-opacity:1;\\\">\\n  <use xlink:href=\\\"#glyph-1580969628598075-1-1\\\" x=\\\"284.441\\\" y=\\\"248.771\\\"\\/>\\n<\\/g>\\n<g style=\\\"fill:rgb(0%,0%,0%);fill-opacity:1;\\\">\\n  <use xlink:href=\\\"#glyph-1580969628598075-0-8\\\" x=\\\"287.209\\\" y=\\\"248.771\\\"\\/>\\n<\\/g>\\n<g style=\\\"fill:rgb(0%,0%,0%);fill-opacity:1;\\\">\\n  <use xlink:href=\\\"#glyph-1580969628598075-0-1\\\" x=\\\"317.496\\\" y=\\\"248.771\\\"\\/>\\n<\\/g>\\n<g style=\\\"fill:rgb(0%,0%,0%);fill-opacity:1;\\\">\\n  <use xlink:href=\\\"#glyph-1580969628598075-1-1\\\" x=\\\"322.478\\\" y=\\\"248.771\\\"\\/>\\n<\\/g>\\n<g style=\\\"fill:rgb(0%,0%,0%);fill-opacity:1;\\\">\\n  <use xlink:href=\\\"#glyph-1580969628598075-0-9\\\" x=\\\"325.245\\\" y=\\\"248.771\\\"\\/>\\n<\\/g>\\n<g style=\\\"fill:rgb(0%,0%,0%);fill-opacity:1;\\\">\\n  <use xlink:href=\\\"#glyph-1580969628598075-0-1\\\" x=\\\"355.533\\\" y=\\\"248.771\\\"\\/>\\n<\\/g>\\n<g style=\\\"fill:rgb(0%,0%,0%);fill-opacity:1;\\\">\\n  <use xlink:href=\\\"#glyph-1580969628598075-1-1\\\" x=\\\"360.514\\\" y=\\\"248.771\\\"\\/>\\n<\\/g>\\n<g style=\\\"fill:rgb(0%,0%,0%);fill-opacity:1;\\\">\\n  <use xlink:href=\\\"#glyph-1580969628598075-0-10\\\" x=\\\"363.281\\\" y=\\\"248.771\\\"\\/>\\n<\\/g>\\n<g style=\\\"fill:rgb(0%,0%,0%);fill-opacity:1;\\\">\\n  <use xlink:href=\\\"#glyph-1580969628598075-0-2\\\" x=\\\"397.443\\\" y=\\\"248.771\\\"\\/>\\n<\\/g>\\n<g style=\\\"fill:rgb(0%,0%,0%);fill-opacity:1;\\\">\\n  <use xlink:href=\\\"#glyph-1580969628598075-0-1\\\" x=\\\"11.069\\\" y=\\\"242.042\\\"\\/>\\n<\\/g>\\n<g style=\\\"fill:rgb(0%,0%,0%);fill-opacity:1;\\\">\\n  <use xlink:href=\\\"#glyph-1580969628598075-0-1\\\" x=\\\"3.321\\\" y=\\\"198.654\\\"\\/>\\n<\\/g>\\n<g style=\\\"fill:rgb(0%,0%,0%);fill-opacity:1;\\\">\\n  <use xlink:href=\\\"#glyph-1580969628598075-1-1\\\" x=\\\"8.302\\\" y=\\\"198.654\\\"\\/>\\n<\\/g>\\n<g style=\\\"fill:rgb(0%,0%,0%);fill-opacity:1;\\\">\\n  <use xlink:href=\\\"#glyph-1580969628598075-0-3\\\" x=\\\"11.069\\\" y=\\\"198.654\\\"\\/>\\n<\\/g>\\n<g style=\\\"fill:rgb(0%,0%,0%);fill-opacity:1;\\\">\\n  <use xlink:href=\\\"#glyph-1580969628598075-0-1\\\" x=\\\"3.321\\\" y=\\\"155.267\\\"\\/>\\n<\\/g>\\n<g style=\\\"fill:rgb(0%,0%,0%);fill-opacity:1;\\\">\\n  <use xlink:href=\\\"#glyph-1580969628598075-1-1\\\" x=\\\"8.302\\\" y=\\\"155.267\\\"\\/>\\n<\\/g>\\n<g style=\\\"fill:rgb(0%,0%,0%);fill-opacity:1;\\\">\\n  <use xlink:href=\\\"#glyph-1580969628598075-0-5\\\" x=\\\"11.069\\\" y=\\\"155.267\\\"\\/>\\n<\\/g>\\n<g style=\\\"fill:rgb(0%,0%,0%);fill-opacity:1;\\\">\\n  <use xlink:href=\\\"#glyph-1580969628598075-0-1\\\" x=\\\"3.321\\\" y=\\\"111.879\\\"\\/>\\n<\\/g>\\n<g style=\\\"fill:rgb(0%,0%,0%);fill-opacity:1;\\\">\\n  <use xlink:href=\\\"#glyph-1580969628598075-1-1\\\" x=\\\"8.302\\\" y=\\\"111.879\\\"\\/>\\n<\\/g>\\n<g style=\\\"fill:rgb(0%,0%,0%);fill-opacity:1;\\\">\\n  <use xlink:href=\\\"#glyph-1580969628598075-0-7\\\" x=\\\"11.069\\\" y=\\\"111.879\\\"\\/>\\n<\\/g>\\n<g style=\\\"fill:rgb(0%,0%,0%);fill-opacity:1;\\\">\\n  <use xlink:href=\\\"#glyph-1580969628598075-0-1\\\" x=\\\"3.321\\\" y=\\\"68.492\\\"\\/>\\n<\\/g>\\n<g style=\\\"fill:rgb(0%,0%,0%);fill-opacity:1;\\\">\\n  <use xlink:href=\\\"#glyph-1580969628598075-1-1\\\" x=\\\"8.302\\\" y=\\\"68.492\\\"\\/>\\n<\\/g>\\n<g style=\\\"fill:rgb(0%,0%,0%);fill-opacity:1;\\\">\\n  <use xlink:href=\\\"#glyph-1580969628598075-0-9\\\" x=\\\"11.069\\\" y=\\\"68.492\\\"\\/>\\n<\\/g>\\n<g style=\\\"fill:rgb(0%,0%,0%);fill-opacity:1;\\\">\\n  <use xlink:href=\\\"#glyph-1580969628598075-0-2\\\" x=\\\"11.069\\\" y=\\\"25.104\\\"\\/>\\n<\\/g>\\n<g clip-path=\\\"url(#clip-1580969628598075-1)\\\" clip-rule=\\\"nonzero\\\">\\n<path style=\\\"fill:none;stroke-width:0.3985;stroke-linecap:butt;stroke-linejoin:miter;stroke:rgb(0%,0%,100%);stroke-opacity:1;stroke-miterlimit:10;\\\" d=\\\"M 0.0003125 216.940375 L 380.3675 216.940375 \\\" transform=\\\"matrix(1,0,0,-1,19.57,238.831)\\\"\\/>\\n<\\/g>\\n<path style=\\\"fill-rule:nonzero;fill:rgb(100%,100%,100%);fill-opacity:1;stroke-width:0.3985;stroke-linecap:butt;stroke-linejoin:miter;stroke:rgb(0%,0%,0%);stroke-opacity:1;stroke-miterlimit:10;\\\" d=\\\"M 301.055 216.725531 L 372.558906 216.725531 L 372.558906 233.663031 L 301.055 233.663031 Z M 301.055 216.725531 \\\" transform=\\\"matrix(1,0,0,-1,19.57,238.831)\\\"\\/>\\n<path style=\\\"fill:none;stroke-width:0.3985;stroke-linecap:butt;stroke-linejoin:miter;stroke:rgb(0%,0%,100%);stroke-opacity:1;stroke-miterlimit:10;\\\" d=\\\"M -0.00140625 -0.000625 L 17.006406 -0.000625 \\\" transform=\\\"matrix(1,0,0,-1,323.81,13.64)\\\"\\/>\\n<g style=\\\"fill:rgb(0%,0%,0%);fill-opacity:1;\\\">\\n  <use xlink:href=\\\"#glyph-1580969628598075-2-1\\\" x=\\\"343.01\\\" y=\\\"16.629\\\"\\/>\\n  <use xlink:href=\\\"#glyph-1580969628598075-2-2\\\" x=\\\"350.063549\\\" y=\\\"16.629\\\"\\/>\\n  <use xlink:href=\\\"#glyph-1580969628598075-2-3\\\" x=\\\"354.486961\\\" y=\\\"16.629\\\"\\/>\\n  <use xlink:href=\\\"#glyph-1580969628598075-2-4\\\" x=\\\"358.362428\\\" y=\\\"16.629\\\"\\/>\\n  <use xlink:href=\\\"#glyph-1580969628598075-2-5\\\" x=\\\"363.343748\\\" y=\\\"16.629\\\"\\/>\\n  <use xlink:href=\\\"#glyph-1580969628598075-2-6\\\" x=\\\"367.219215\\\" y=\\\"16.629\\\"\\/>\\n  <use xlink:href=\\\"#glyph-1580969628598075-2-7\\\" x=\\\"372.200535\\\" y=\\\"16.629\\\"\\/>\\n<\\/g>\\n<g style=\\\"fill:rgb(0%,0%,0%);fill-opacity:1;\\\">\\n  <use xlink:href=\\\"#glyph-1580969628598075-2-6\\\" x=\\\"378.287708\\\" y=\\\"16.629\\\"\\/>\\n  <use xlink:href=\\\"#glyph-1580969628598075-2-8\\\" x=\\\"383.269028\\\" y=\\\"16.629\\\"\\/>\\n<\\/g>\\n<\\/g>\\n<\\/svg>\\n\\n\"},\"nodeType\":\"DOM\",\"type\":\"node\",\"instanceArgs\":{\"namespace\":\"html\",\"tag\":\"div\"},\"children\":[]}]},\n",
       "            window,\n",
       "        );\n",
       "    } else {\n",
       "        document\n",
       "            .querySelector('[data-webio-mountpoint=\"13349814623923218536\"]')\n",
       "            .innerHTML = (\n",
       "                '<div style=\"padding: 1em; background-color: #f8d6da; border: 1px solid #f5c6cb\">' +\n",
       "                '<p><strong>WebIO not detected.</strong></p>' +\n",
       "                '<p>Please read ' +\n",
       "                '<a href=\"https://juliagizmos.github.io/WebIO.jl/latest/troubleshooting/not-detected/\" target=\"_blank\">the troubleshooting guide</a> ' +\n",
       "                'for more information on how to resolve this issue.</p>' +\n",
       "                '<p><a href=\"https://juliagizmos.github.io/WebIO.jl/latest/troubleshooting/not-detected/\" target=\"_blank\">https://juliagizmos.github.io/WebIO.jl/latest/troubleshooting/not-detected/</a></p>' +\n",
       "                '</div>'\n",
       "            );\n",
       "    }\n",
       "    </script>\n",
       "</div>\n"
      ],
      "text/plain": [
       "Observable{Any} with 0 listeners. Value:\n",
       "Axis(PGFPlots.Plots.Plot[PGFPlots.Plots.Linear(Real[0.0 0.010101010101010102 … 0.98989898989899 1.0; 1.0 1.0 … 1.0 1.0], \"none\", nothing, nothing, \"Beta(1, 1)\", nothing, nothing, nothing, false)], nothing, nothing, nothing, nothing, nothing, nothing, nothing, 0, 1, 0, nothing, nothing, nothing, nothing, nothing, nothing, \"15cm\", \"10cm\", nothing, nothing, nothing, nothing, nothing, nothing, nothing, nothing, nothing, \"axis\")"
      ]
     },
     "metadata": {
      "application/vnd.webio.node+json": {
       "kernelId": "dd5017fb-e108-4a46-a015-6527faa074d8"
      }
     },
     "output_type": "display_data"
    },
    {
     "data": {
      "application/vnd.webio.node+json": {
       "children": [
        {
         "children": [
          {
           "children": [
            {
             "children": [
              {
               "children": [
                "True Params"
               ],
               "instanceArgs": {
                "namespace": "html",
                "tag": "label"
               },
               "nodeType": "DOM",
               "props": {
                "className": "interact ",
                "style": {
                 "padding": "5px 10px 0px 10px"
                }
               },
               "type": "node"
              }
             ],
             "instanceArgs": {
              "namespace": "html",
              "tag": "div"
             },
             "nodeType": "DOM",
             "props": {
              "className": "interact-flex-row-left"
             },
             "type": "node"
            },
            {
             "children": [
              {
               "children": [
                {
                 "children": [
                  {
                   "children": [],
                   "instanceArgs": {
                    "namespace": "html",
                    "tag": "label"
                   },
                   "nodeType": "DOM",
                   "props": {
                    "attributes": {
                     "data-bind": "text : key"
                    }
                   },
                   "type": "node"
                  }
                 ],
                 "instanceArgs": {
                  "namespace": "html",
                  "tag": "span"
                 },
                 "nodeType": "DOM",
                 "props": {
                  "attributes": {
                   "data-bind": "click: function (){$root.update(val)}, css: {'is-primary is-selected' : $root.index() == val, 'interact-widget is-medium button ' : true}"
                  }
                 },
                 "type": "node"
                }
               ],
               "instanceArgs": {
                "namespace": "html",
                "tag": "div"
               },
               "nodeType": "DOM",
               "props": {
                "attributes": {
                 "data-bind": "foreach : options_js"
                },
                "className": "buttons has-addons is-centered"
               },
               "type": "node"
              }
             ],
             "instanceArgs": {
              "namespace": "html",
              "tag": "div"
             },
             "nodeType": "DOM",
             "props": {
              "className": "interact-flex-row-center"
             },
             "type": "node"
            },
            {
             "children": [
              {
               "children": [],
               "instanceArgs": {
                "namespace": "html",
                "tag": "div"
               },
               "nodeType": "DOM",
               "props": {},
               "type": "node"
              }
             ],
             "instanceArgs": {
              "namespace": "html",
              "tag": "div"
             },
             "nodeType": "DOM",
             "props": {
              "className": "interact-flex-row-right"
             },
             "type": "node"
            }
           ],
           "instanceArgs": {
            "namespace": "html",
            "tag": "div"
           },
           "nodeType": "DOM",
           "props": {
            "className": "interact-flex-row interact-widget"
           },
           "type": "node"
          }
         ],
         "instanceArgs": {
          "handlers": {
           "index": [
            "(function (val){return (val!=this.model[\"index\"]()) ? (this.valueFromJulia[\"index\"]=true, this.model[\"index\"](val)) : undefined})"
           ],
           "options_js": [
            "(function (val){return (val!=this.model[\"options_js\"]()) ? (this.valueFromJulia[\"options_js\"]=true, this.model[\"options_js\"](val)) : undefined})"
           ]
          },
          "id": "11925106542246405339",
          "imports": {
           "data": [
            {
             "name": "knockout",
             "type": "js",
             "url": "/assetserver/3e541dee53151b2c541f58d90425f0a0925f9e0f-knockout.js"
            },
            {
             "name": "knockout_punches",
             "type": "js",
             "url": "/assetserver/a2fe821063f7b9402a4f3a4f892ed8b183d4262e-knockout_punches.js"
            },
            {
             "name": null,
             "type": "js",
             "url": "/assetserver/dca5dacd6b773cb2d9b372cb162585b4bab6abce-all.js"
            },
            {
             "name": null,
             "type": "css",
             "url": "/assetserver/a1491573312c28f6fe82fff21946abae6141d461-style.css"
            },
            {
             "name": null,
             "type": "css",
             "url": "/assetserver/2b70ab798aa8d032d4d4df5efcc489d2c54ad5f7-bulma_confined.min.css"
            }
           ],
           "type": "async_block"
          },
          "mount_callbacks": [
           "function () {\n    var handler = (function (ko, koPunches) {\n    ko.punches.enableAll();\n    ko.bindingHandlers.numericValue = {\n        init: function(element, valueAccessor, allBindings, data, context) {\n            var stringified = ko.observable(ko.unwrap(valueAccessor()));\n            stringified.subscribe(function(value) {\n                var val = parseFloat(value);\n                if (!isNaN(val)) {\n                    valueAccessor()(val);\n                }\n            });\n            valueAccessor().subscribe(function(value) {\n                var str = JSON.stringify(value);\n                if ((str == \"0\") && ([\"-0\", \"-0.\"].indexOf(stringified()) >= 0))\n                     return;\n                 if ([\"null\", \"\"].indexOf(str) >= 0)\n                     return;\n                stringified(str);\n            });\n            ko.applyBindingsToNode(\n                element,\n                {\n                    value: stringified,\n                    valueUpdate: allBindings.get('valueUpdate'),\n                },\n                context,\n            );\n        }\n    };\n    var json_data = {\"options_js\":WebIO.getval({\"name\":\"options_js\",\"scope\":\"11925106542246405339\",\"id\":\"ob_83\",\"type\":\"observable\"}),\"index\":WebIO.getval({\"name\":\"index\",\"scope\":\"11925106542246405339\",\"id\":\"ob_82\",\"type\":\"observable\"})};\n    var self = this;\n    function AppViewModel() {\n        for (var key in json_data) {\n            var el = json_data[key];\n            this[key] = Array.isArray(el) ? ko.observableArray(el) : ko.observable(el);\n        }\n        [this[\"update\"]=function (val) {this.index(val)}]\n        \n        [this[\"options_js\"].subscribe((function (val){!(this.valueFromJulia[\"options_js\"]) ? (WebIO.setval({\"name\":\"options_js\",\"scope\":\"11925106542246405339\",\"id\":\"ob_83\",\"type\":\"observable\"},val)) : undefined; return this.valueFromJulia[\"options_js\"]=false}),self),this[\"index\"].subscribe((function (val){!(this.valueFromJulia[\"index\"]) ? (WebIO.setval({\"name\":\"index\",\"scope\":\"11925106542246405339\",\"id\":\"ob_82\",\"type\":\"observable\"},val)) : undefined; return this.valueFromJulia[\"index\"]=false}),self)]\n        \n    }\n    self.model = new AppViewModel();\n    self.valueFromJulia = {};\n    for (var key in json_data) {\n        self.valueFromJulia[key] = false;\n    }\n    ko.applyBindings(self.model, self.dom);\n}\n);\n    (WebIO.importBlock({\"data\":[{\"name\":\"knockout\",\"type\":\"js\",\"url\":\"/assetserver/3e541dee53151b2c541f58d90425f0a0925f9e0f-knockout.js\"},{\"name\":\"knockout_punches\",\"type\":\"js\",\"url\":\"/assetserver/a2fe821063f7b9402a4f3a4f892ed8b183d4262e-knockout_punches.js\"}],\"type\":\"async_block\"})).then((imports) => handler.apply(this, imports));\n}\n"
          ],
          "observables": {
           "index": {
            "id": "ob_82",
            "sync": true,
            "value": 1
           },
           "options_js": {
            "id": "ob_83",
            "sync": false,
            "value": [
             {
              "id": "id3ozzcbrs",
              "key": "Hide",
              "val": 1
             },
             {
              "id": "idVEihmMXr",
              "key": "Show",
              "val": 2
             }
            ]
           }
          },
          "systemjs_options": null
         },
         "nodeType": "Scope",
         "props": {},
         "type": "node"
        }
       ],
       "instanceArgs": {
        "namespace": "html",
        "tag": "div"
       },
       "nodeType": "DOM",
       "props": {
        "className": "interact-widget"
       },
       "type": "node"
      },
      "text/html": [
       "<div\n",
       "    class=\"webio-mountpoint\"\n",
       "    data-webio-mountpoint=\"17621488715907566131\"\n",
       ">\n",
       "    <script>\n",
       "    if (window.require && require.defined && require.defined(\"nbextensions/webio-jupyter-notebook\")) {\n",
       "        console.log(\"Jupyter WebIO extension detected, not mounting.\");\n",
       "    } else if (window.WebIO) {\n",
       "        WebIO.mount(\n",
       "            document.querySelector('[data-webio-mountpoint=\"17621488715907566131\"]'),\n",
       "            {\"props\":{\"className\":\"interact-widget\"},\"nodeType\":\"DOM\",\"type\":\"node\",\"instanceArgs\":{\"namespace\":\"html\",\"tag\":\"div\"},\"children\":[{\"props\":{},\"nodeType\":\"Scope\",\"type\":\"node\",\"instanceArgs\":{\"imports\":{\"data\":[{\"name\":\"knockout\",\"type\":\"js\",\"url\":\"\\/assetserver\\/3e541dee53151b2c541f58d90425f0a0925f9e0f-knockout.js\"},{\"name\":\"knockout_punches\",\"type\":\"js\",\"url\":\"\\/assetserver\\/a2fe821063f7b9402a4f3a4f892ed8b183d4262e-knockout_punches.js\"},{\"name\":null,\"type\":\"js\",\"url\":\"\\/assetserver\\/dca5dacd6b773cb2d9b372cb162585b4bab6abce-all.js\"},{\"name\":null,\"type\":\"css\",\"url\":\"\\/assetserver\\/a1491573312c28f6fe82fff21946abae6141d461-style.css\"},{\"name\":null,\"type\":\"css\",\"url\":\"\\/assetserver\\/2b70ab798aa8d032d4d4df5efcc489d2c54ad5f7-bulma_confined.min.css\"}],\"type\":\"async_block\"},\"id\":\"11925106542246405339\",\"handlers\":{\"options_js\":[\"(function (val){return (val!=this.model[\\\"options_js\\\"]()) ? (this.valueFromJulia[\\\"options_js\\\"]=true, this.model[\\\"options_js\\\"](val)) : undefined})\"],\"index\":[\"(function (val){return (val!=this.model[\\\"index\\\"]()) ? (this.valueFromJulia[\\\"index\\\"]=true, this.model[\\\"index\\\"](val)) : undefined})\"]},\"systemjs_options\":null,\"mount_callbacks\":[\"function () {\\n    var handler = (function (ko, koPunches) {\\n    ko.punches.enableAll();\\n    ko.bindingHandlers.numericValue = {\\n        init: function(element, valueAccessor, allBindings, data, context) {\\n            var stringified = ko.observable(ko.unwrap(valueAccessor()));\\n            stringified.subscribe(function(value) {\\n                var val = parseFloat(value);\\n                if (!isNaN(val)) {\\n                    valueAccessor()(val);\\n                }\\n            });\\n            valueAccessor().subscribe(function(value) {\\n                var str = JSON.stringify(value);\\n                if ((str == \\\"0\\\") && ([\\\"-0\\\", \\\"-0.\\\"].indexOf(stringified()) >= 0))\\n                     return;\\n                 if ([\\\"null\\\", \\\"\\\"].indexOf(str) >= 0)\\n                     return;\\n                stringified(str);\\n            });\\n            ko.applyBindingsToNode(\\n                element,\\n                {\\n                    value: stringified,\\n                    valueUpdate: allBindings.get('valueUpdate'),\\n                },\\n                context,\\n            );\\n        }\\n    };\\n    var json_data = {\\\"options_js\\\":WebIO.getval({\\\"name\\\":\\\"options_js\\\",\\\"scope\\\":\\\"11925106542246405339\\\",\\\"id\\\":\\\"ob_83\\\",\\\"type\\\":\\\"observable\\\"}),\\\"index\\\":WebIO.getval({\\\"name\\\":\\\"index\\\",\\\"scope\\\":\\\"11925106542246405339\\\",\\\"id\\\":\\\"ob_82\\\",\\\"type\\\":\\\"observable\\\"})};\\n    var self = this;\\n    function AppViewModel() {\\n        for (var key in json_data) {\\n            var el = json_data[key];\\n            this[key] = Array.isArray(el) ? ko.observableArray(el) : ko.observable(el);\\n        }\\n        [this[\\\"update\\\"]=function (val) {this.index(val)}]\\n        \\n        [this[\\\"options_js\\\"].subscribe((function (val){!(this.valueFromJulia[\\\"options_js\\\"]) ? (WebIO.setval({\\\"name\\\":\\\"options_js\\\",\\\"scope\\\":\\\"11925106542246405339\\\",\\\"id\\\":\\\"ob_83\\\",\\\"type\\\":\\\"observable\\\"},val)) : undefined; return this.valueFromJulia[\\\"options_js\\\"]=false}),self),this[\\\"index\\\"].subscribe((function (val){!(this.valueFromJulia[\\\"index\\\"]) ? (WebIO.setval({\\\"name\\\":\\\"index\\\",\\\"scope\\\":\\\"11925106542246405339\\\",\\\"id\\\":\\\"ob_82\\\",\\\"type\\\":\\\"observable\\\"},val)) : undefined; return this.valueFromJulia[\\\"index\\\"]=false}),self)]\\n        \\n    }\\n    self.model = new AppViewModel();\\n    self.valueFromJulia = {};\\n    for (var key in json_data) {\\n        self.valueFromJulia[key] = false;\\n    }\\n    ko.applyBindings(self.model, self.dom);\\n}\\n);\\n    (WebIO.importBlock({\\\"data\\\":[{\\\"name\\\":\\\"knockout\\\",\\\"type\\\":\\\"js\\\",\\\"url\\\":\\\"\\/assetserver\\/3e541dee53151b2c541f58d90425f0a0925f9e0f-knockout.js\\\"},{\\\"name\\\":\\\"knockout_punches\\\",\\\"type\\\":\\\"js\\\",\\\"url\\\":\\\"\\/assetserver\\/a2fe821063f7b9402a4f3a4f892ed8b183d4262e-knockout_punches.js\\\"}],\\\"type\\\":\\\"async_block\\\"})).then((imports) => handler.apply(this, imports));\\n}\\n\"],\"observables\":{\"options_js\":{\"sync\":false,\"id\":\"ob_83\",\"value\":[{\"key\":\"Hide\",\"val\":1,\"id\":\"id3ozzcbrs\"},{\"key\":\"Show\",\"val\":2,\"id\":\"idVEihmMXr\"}]},\"index\":{\"sync\":true,\"id\":\"ob_82\",\"value\":1}}},\"children\":[{\"props\":{\"className\":\"interact-flex-row interact-widget\"},\"nodeType\":\"DOM\",\"type\":\"node\",\"instanceArgs\":{\"namespace\":\"html\",\"tag\":\"div\"},\"children\":[{\"props\":{\"className\":\"interact-flex-row-left\"},\"nodeType\":\"DOM\",\"type\":\"node\",\"instanceArgs\":{\"namespace\":\"html\",\"tag\":\"div\"},\"children\":[{\"props\":{\"className\":\"interact \",\"style\":{\"padding\":\"5px 10px 0px 10px\"}},\"nodeType\":\"DOM\",\"type\":\"node\",\"instanceArgs\":{\"namespace\":\"html\",\"tag\":\"label\"},\"children\":[\"True Params\"]}]},{\"props\":{\"className\":\"interact-flex-row-center\"},\"nodeType\":\"DOM\",\"type\":\"node\",\"instanceArgs\":{\"namespace\":\"html\",\"tag\":\"div\"},\"children\":[{\"props\":{\"attributes\":{\"data-bind\":\"foreach : options_js\"},\"className\":\"buttons has-addons is-centered\"},\"nodeType\":\"DOM\",\"type\":\"node\",\"instanceArgs\":{\"namespace\":\"html\",\"tag\":\"div\"},\"children\":[{\"props\":{\"attributes\":{\"data-bind\":\"click: function (){$root.update(val)}, css: {'is-primary is-selected' : $root.index() == val, 'interact-widget is-medium button ' : true}\"}},\"nodeType\":\"DOM\",\"type\":\"node\",\"instanceArgs\":{\"namespace\":\"html\",\"tag\":\"span\"},\"children\":[{\"props\":{\"attributes\":{\"data-bind\":\"text : key\"}},\"nodeType\":\"DOM\",\"type\":\"node\",\"instanceArgs\":{\"namespace\":\"html\",\"tag\":\"label\"},\"children\":[]}]}]}]},{\"props\":{\"className\":\"interact-flex-row-right\"},\"nodeType\":\"DOM\",\"type\":\"node\",\"instanceArgs\":{\"namespace\":\"html\",\"tag\":\"div\"},\"children\":[{\"props\":{},\"nodeType\":\"DOM\",\"type\":\"node\",\"instanceArgs\":{\"namespace\":\"html\",\"tag\":\"div\"},\"children\":[]}]}]}]}]},\n",
       "            window,\n",
       "        );\n",
       "    } else {\n",
       "        document\n",
       "            .querySelector('[data-webio-mountpoint=\"17621488715907566131\"]')\n",
       "            .innerHTML = (\n",
       "                '<div style=\"padding: 1em; background-color: #f8d6da; border: 1px solid #f5c6cb\">' +\n",
       "                '<p><strong>WebIO not detected.</strong></p>' +\n",
       "                '<p>Please read ' +\n",
       "                '<a href=\"https://juliagizmos.github.io/WebIO.jl/latest/troubleshooting/not-detected/\" target=\"_blank\">the troubleshooting guide</a> ' +\n",
       "                'for more information on how to resolve this issue.</p>' +\n",
       "                '<p><a href=\"https://juliagizmos.github.io/WebIO.jl/latest/troubleshooting/not-detected/\" target=\"_blank\">https://juliagizmos.github.io/WebIO.jl/latest/troubleshooting/not-detected/</a></p>' +\n",
       "                '</div>'\n",
       "            );\n",
       "    }\n",
       "    </script>\n",
       "</div>\n"
      ],
      "text/plain": [
       "(div { className=\"interact-widget\" }\n",
       "    (div { className=\"interact-flex-row interact-widget\" }\n",
       "    (div { className=\"interact-flex-row-left\" }\n",
       "      (label { className=\"interact \" style=Dict{Any,Any}(:padding => \"5px 10px 0px 10px\") }\n",
       "        \"True Params\"))\n",
       "    (div { className=\"interact-flex-row-center\" }\n",
       "      (div { attributes=\"data-bind\" => \"foreach : options_js\" className=\"buttons has-addons is-centered\" }\n",
       "        (span { attributes=Dict(\"data-bind\" => \"click: function (){\\$root.update(val)}, css: {'is-primary is-selected' : \\$root.index() == val, 'interact-widget is-medium button ' : true}\") }\n",
       "          (label { attributes=Dict(\"data-bind\" => \"text : key\") }))))\n",
       "    (div { className=\"interact-flex-row-right\" }\n",
       "      (div))))"
      ]
     },
     "metadata": {
      "application/vnd.webio.node+json": {
       "kernelId": "dd5017fb-e108-4a46-a015-6527faa074d8"
      }
     },
     "output_type": "display_data"
    },
    {
     "data": {
      "application/vnd.webio.node+json": {
       "children": [
        {
         "children": [],
         "instanceArgs": {
          "namespace": "html",
          "tag": "div"
         },
         "nodeType": "DOM",
         "props": {
          "className": "webio-observable",
          "setInnerHtml": "<pre>\"\"</pre>"
         },
         "type": "node"
        }
       ],
       "instanceArgs": {
        "handlers": {
         "obs-output": [
          "function (value, scope) {\n    scope.setInnerHTML(value);\n}\n"
         ]
        },
        "id": "15178457892250513760",
        "imports": {
         "data": [],
         "type": "async_block"
        },
        "mount_callbacks": [],
        "observables": {
         "obs-output": {
          "id": "ob_86",
          "sync": false,
          "value": "<pre>\"\"</pre>"
         }
        },
        "systemjs_options": null
       },
       "nodeType": "Scope",
       "props": {},
       "type": "node"
      },
      "text/html": [
       "<div\n",
       "    class=\"webio-mountpoint\"\n",
       "    data-webio-mountpoint=\"14033928566934474031\"\n",
       ">\n",
       "    <script>\n",
       "    if (window.require && require.defined && require.defined(\"nbextensions/webio-jupyter-notebook\")) {\n",
       "        console.log(\"Jupyter WebIO extension detected, not mounting.\");\n",
       "    } else if (window.WebIO) {\n",
       "        WebIO.mount(\n",
       "            document.querySelector('[data-webio-mountpoint=\"14033928566934474031\"]'),\n",
       "            {\"props\":{},\"nodeType\":\"Scope\",\"type\":\"node\",\"instanceArgs\":{\"imports\":{\"data\":[],\"type\":\"async_block\"},\"id\":\"18243250593649244294\",\"handlers\":{\"obs-output\":[\"function (value, scope) {\\n    scope.setInnerHTML(value);\\n}\\n\"]},\"systemjs_options\":null,\"mount_callbacks\":[],\"observables\":{\"obs-output\":{\"sync\":false,\"id\":\"ob_85\",\"value\":\"<pre>\\\"\\\"<\\/pre>\"}}},\"children\":[{\"props\":{\"className\":\"webio-observable\",\"setInnerHtml\":\"<pre>\\\"\\\"<\\/pre>\"},\"nodeType\":\"DOM\",\"type\":\"node\",\"instanceArgs\":{\"namespace\":\"html\",\"tag\":\"div\"},\"children\":[]}]},\n",
       "            window,\n",
       "        );\n",
       "    } else {\n",
       "        document\n",
       "            .querySelector('[data-webio-mountpoint=\"14033928566934474031\"]')\n",
       "            .innerHTML = (\n",
       "                '<div style=\"padding: 1em; background-color: #f8d6da; border: 1px solid #f5c6cb\">' +\n",
       "                '<p><strong>WebIO not detected.</strong></p>' +\n",
       "                '<p>Please read ' +\n",
       "                '<a href=\"https://juliagizmos.github.io/WebIO.jl/latest/troubleshooting/not-detected/\" target=\"_blank\">the troubleshooting guide</a> ' +\n",
       "                'for more information on how to resolve this issue.</p>' +\n",
       "                '<p><a href=\"https://juliagizmos.github.io/WebIO.jl/latest/troubleshooting/not-detected/\" target=\"_blank\">https://juliagizmos.github.io/WebIO.jl/latest/troubleshooting/not-detected/</a></p>' +\n",
       "                '</div>'\n",
       "            );\n",
       "    }\n",
       "    </script>\n",
       "</div>\n"
      ],
      "text/plain": [
       "Observable{Any} with 0 listeners. Value:\n",
       "\"\""
      ]
     },
     "metadata": {
      "application/vnd.webio.node+json": {
       "kernelId": "dd5017fb-e108-4a46-a015-6527faa074d8"
      }
     },
     "output_type": "display_data"
    }
   ],
   "source": [
    "Random.seed!(4)\n",
    "arms = 2\n",
    "b = Bandit(arms)\n",
    "banditEstimation(b)"
   ]
  },
  {
   "cell_type": "markdown",
   "metadata": {},
   "source": [
    "## Ad Hoc Exploration Strategies"
   ]
  },
  {
   "cell_type": "code",
   "execution_count": 7,
   "metadata": {},
   "outputs": [],
   "source": [
    "# Select random action with probability eps, otherwise greedy\n",
    "struct EpsGreedy <: BanditPolicy\n",
    "    eps::Real \n",
    "end\n",
    "function arm(b::EpsGreedy, s::BanditStatistics)\n",
    "    if rand() < b.eps\n",
    "        D = DiscreteUniform(1, numArms(s))\n",
    "        return rand(D)\n",
    "    else\n",
    "        return argmax(winProbabilities(s))\n",
    "    end\n",
    "end;"
   ]
  },
  {
   "cell_type": "code",
   "execution_count": 8,
   "metadata": {},
   "outputs": [],
   "source": [
    "# Select arm with probability proportional to exp(precision*winprobability)\n",
    "struct SoftMax <: BanditPolicy\n",
    "    precision::Real \n",
    "end\n",
    "function arm(b::SoftMax, s::BanditStatistics)\n",
    "    p = exp.(b.precision * winProbabilities(s))\n",
    "    p = p / sum(p)\n",
    "    D = Categorical(p)\n",
    "    return rand(D)\n",
    "end;"
   ]
  },
  {
   "cell_type": "code",
   "execution_count": 9,
   "metadata": {},
   "outputs": [],
   "source": [
    "# Select arm with highest alpha upper confidence bound\n",
    "struct IntervalExploration <: BanditPolicy\n",
    "    alpha::Real\n",
    "end\n",
    "function arm(b::IntervalExploration, s::BanditStatistics)\n",
    "    i = argmax([quantile(Beta(s.numWins[i] + 1, s.numTries[i] - s.numWins[i] + 1), b.alpha) for i in 1:length(s.numWins)]) \n",
    "end;"
   ]
  },
  {
   "cell_type": "code",
   "execution_count": 10,
   "metadata": {},
   "outputs": [
    {
     "data": {
      "application/vnd.webio.node+json": {
       "children": [
        {
         "children": [
          {
           "children": [
            {
             "children": [
              {
               "children": [
                {
                 "children": [
                  "epsgreedy"
                 ],
                 "instanceArgs": {
                  "namespace": "html",
                  "tag": "label"
                 },
                 "nodeType": "DOM",
                 "props": {
                  "className": "interact ",
                  "style": {
                   "padding": "5px 10px 0px 10px"
                  }
                 },
                 "type": "node"
                }
               ],
               "instanceArgs": {
                "namespace": "html",
                "tag": "div"
               },
               "nodeType": "DOM",
               "props": {
                "className": "interact-flex-row-left"
               },
               "type": "node"
              },
              {
               "children": [
                {
                 "children": [],
                 "instanceArgs": {
                  "namespace": "html",
                  "tag": "input"
                 },
                 "nodeType": "DOM",
                 "props": {
                  "attributes": {
                   "data-bind": "numericValue: index, valueUpdate: 'input', event: {change: function (){this.changes(this.changes()+1)}}",
                   "orient": "horizontal",
                   "type": "range"
                  },
                  "className": "slider slider is-fullwidth",
                  "max": 11,
                  "min": 1,
                  "step": 1,
                  "style": {}
                 },
                 "type": "node"
                }
               ],
               "instanceArgs": {
                "namespace": "html",
                "tag": "div"
               },
               "nodeType": "DOM",
               "props": {
                "className": "interact-flex-row-center"
               },
               "type": "node"
              },
              {
               "children": [
                {
                 "children": [],
                 "instanceArgs": {
                  "namespace": "html",
                  "tag": "p"
                 },
                 "nodeType": "DOM",
                 "props": {
                  "attributes": {
                   "data-bind": "text: formatted_val"
                  }
                 },
                 "type": "node"
                }
               ],
               "instanceArgs": {
                "namespace": "html",
                "tag": "div"
               },
               "nodeType": "DOM",
               "props": {
                "className": "interact-flex-row-right"
               },
               "type": "node"
              }
             ],
             "instanceArgs": {
              "namespace": "html",
              "tag": "div"
             },
             "nodeType": "DOM",
             "props": {
              "className": "interact-flex-row interact-widget"
             },
             "type": "node"
            }
           ],
           "instanceArgs": {
            "handlers": {
             "changes": [
              "(function (val){return (val!=this.model[\"changes\"]()) ? (this.valueFromJulia[\"changes\"]=true, this.model[\"changes\"](val)) : undefined})"
             ],
             "index": [
              "(function (val){return (val!=this.model[\"index\"]()) ? (this.valueFromJulia[\"index\"]=true, this.model[\"index\"](val)) : undefined})"
             ]
            },
            "id": "10024902167655347411",
            "imports": {
             "data": [
              {
               "name": "knockout",
               "type": "js",
               "url": "/assetserver/3e541dee53151b2c541f58d90425f0a0925f9e0f-knockout.js"
              },
              {
               "name": "knockout_punches",
               "type": "js",
               "url": "/assetserver/a2fe821063f7b9402a4f3a4f892ed8b183d4262e-knockout_punches.js"
              },
              {
               "name": null,
               "type": "js",
               "url": "/assetserver/dca5dacd6b773cb2d9b372cb162585b4bab6abce-all.js"
              },
              {
               "name": null,
               "type": "css",
               "url": "/assetserver/a1491573312c28f6fe82fff21946abae6141d461-style.css"
              },
              {
               "name": null,
               "type": "css",
               "url": "/assetserver/2b70ab798aa8d032d4d4df5efcc489d2c54ad5f7-bulma_confined.min.css"
              }
             ],
             "type": "async_block"
            },
            "mount_callbacks": [
             "function () {\n    var handler = (function (ko, koPunches) {\n    ko.punches.enableAll();\n    ko.bindingHandlers.numericValue = {\n        init: function(element, valueAccessor, allBindings, data, context) {\n            var stringified = ko.observable(ko.unwrap(valueAccessor()));\n            stringified.subscribe(function(value) {\n                var val = parseFloat(value);\n                if (!isNaN(val)) {\n                    valueAccessor()(val);\n                }\n            });\n            valueAccessor().subscribe(function(value) {\n                var str = JSON.stringify(value);\n                if ((str == \"0\") && ([\"-0\", \"-0.\"].indexOf(stringified()) >= 0))\n                     return;\n                 if ([\"null\", \"\"].indexOf(str) >= 0)\n                     return;\n                stringified(str);\n            });\n            ko.applyBindingsToNode(\n                element,\n                {\n                    value: stringified,\n                    valueUpdate: allBindings.get('valueUpdate'),\n                },\n                context,\n            );\n        }\n    };\n    var json_data = {\"formatted_vals\":[\"0.0\",\"0.1\",\"0.2\",\"0.3\",\"0.4\",\"0.5\",\"0.6\",\"0.7\",\"0.8\",\"0.9\",\"1.0\"],\"changes\":WebIO.getval({\"name\":\"changes\",\"scope\":\"10024902167655347411\",\"id\":\"ob_59\",\"type\":\"observable\"}),\"index\":WebIO.getval({\"name\":\"index\",\"scope\":\"10024902167655347411\",\"id\":\"ob_58\",\"type\":\"observable\"})};\n    var self = this;\n    function AppViewModel() {\n        for (var key in json_data) {\n            var el = json_data[key];\n            this[key] = Array.isArray(el) ? ko.observableArray(el) : ko.observable(el);\n        }\n        \n        [this[\"formatted_val\"]=ko.computed(    function(){\n        return this.formatted_vals()[parseInt(this.index())-(1)];\n    }\n,this)]\n        [this[\"changes\"].subscribe((function (val){!(this.valueFromJulia[\"changes\"]) ? (WebIO.setval({\"name\":\"changes\",\"scope\":\"10024902167655347411\",\"id\":\"ob_59\",\"type\":\"observable\"},val)) : undefined; return this.valueFromJulia[\"changes\"]=false}),self),this[\"index\"].subscribe((function (val){!(this.valueFromJulia[\"index\"]) ? (WebIO.setval({\"name\":\"index\",\"scope\":\"10024902167655347411\",\"id\":\"ob_58\",\"type\":\"observable\"},val)) : undefined; return this.valueFromJulia[\"index\"]=false}),self)]\n        \n    }\n    self.model = new AppViewModel();\n    self.valueFromJulia = {};\n    for (var key in json_data) {\n        self.valueFromJulia[key] = false;\n    }\n    ko.applyBindings(self.model, self.dom);\n}\n);\n    (WebIO.importBlock({\"data\":[{\"name\":\"knockout\",\"type\":\"js\",\"url\":\"/assetserver/3e541dee53151b2c541f58d90425f0a0925f9e0f-knockout.js\"},{\"name\":\"knockout_punches\",\"type\":\"js\",\"url\":\"/assetserver/a2fe821063f7b9402a4f3a4f892ed8b183d4262e-knockout_punches.js\"}],\"type\":\"async_block\"})).then((imports) => handler.apply(this, imports));\n}\n"
            ],
            "observables": {
             "changes": {
              "id": "ob_59",
              "sync": false,
              "value": 0
             },
             "index": {
              "id": "ob_58",
              "sync": true,
              "value": 6
             }
            },
            "systemjs_options": null
           },
           "nodeType": "Scope",
           "props": {},
           "type": "node"
          }
         ],
         "instanceArgs": {
          "namespace": "html",
          "tag": "div"
         },
         "nodeType": "DOM",
         "props": {
          "className": "field interact-widget"
         },
         "type": "node"
        },
        {
         "children": [
          {
           "children": [
            {
             "children": [
              {
               "children": [
                {
                 "children": [
                  "softmax"
                 ],
                 "instanceArgs": {
                  "namespace": "html",
                  "tag": "label"
                 },
                 "nodeType": "DOM",
                 "props": {
                  "className": "interact ",
                  "style": {
                   "padding": "5px 10px 0px 10px"
                  }
                 },
                 "type": "node"
                }
               ],
               "instanceArgs": {
                "namespace": "html",
                "tag": "div"
               },
               "nodeType": "DOM",
               "props": {
                "className": "interact-flex-row-left"
               },
               "type": "node"
              },
              {
               "children": [
                {
                 "children": [],
                 "instanceArgs": {
                  "namespace": "html",
                  "tag": "input"
                 },
                 "nodeType": "DOM",
                 "props": {
                  "attributes": {
                   "data-bind": "numericValue: index, valueUpdate: 'input', event: {change: function (){this.changes(this.changes()+1)}}",
                   "orient": "horizontal",
                   "type": "range"
                  },
                  "className": "slider slider is-fullwidth",
                  "max": 21,
                  "min": 1,
                  "step": 1,
                  "style": {}
                 },
                 "type": "node"
                }
               ],
               "instanceArgs": {
                "namespace": "html",
                "tag": "div"
               },
               "nodeType": "DOM",
               "props": {
                "className": "interact-flex-row-center"
               },
               "type": "node"
              },
              {
               "children": [
                {
                 "children": [],
                 "instanceArgs": {
                  "namespace": "html",
                  "tag": "p"
                 },
                 "nodeType": "DOM",
                 "props": {
                  "attributes": {
                   "data-bind": "text: formatted_val"
                  }
                 },
                 "type": "node"
                }
               ],
               "instanceArgs": {
                "namespace": "html",
                "tag": "div"
               },
               "nodeType": "DOM",
               "props": {
                "className": "interact-flex-row-right"
               },
               "type": "node"
              }
             ],
             "instanceArgs": {
              "namespace": "html",
              "tag": "div"
             },
             "nodeType": "DOM",
             "props": {
              "className": "interact-flex-row interact-widget"
             },
             "type": "node"
            }
           ],
           "instanceArgs": {
            "handlers": {
             "changes": [
              "(function (val){return (val!=this.model[\"changes\"]()) ? (this.valueFromJulia[\"changes\"]=true, this.model[\"changes\"](val)) : undefined})"
             ],
             "index": [
              "(function (val){return (val!=this.model[\"index\"]()) ? (this.valueFromJulia[\"index\"]=true, this.model[\"index\"](val)) : undefined})"
             ]
            },
            "id": "16655771311277717643",
            "imports": {
             "data": [
              {
               "name": "knockout",
               "type": "js",
               "url": "/assetserver/3e541dee53151b2c541f58d90425f0a0925f9e0f-knockout.js"
              },
              {
               "name": "knockout_punches",
               "type": "js",
               "url": "/assetserver/a2fe821063f7b9402a4f3a4f892ed8b183d4262e-knockout_punches.js"
              },
              {
               "name": null,
               "type": "js",
               "url": "/assetserver/dca5dacd6b773cb2d9b372cb162585b4bab6abce-all.js"
              },
              {
               "name": null,
               "type": "css",
               "url": "/assetserver/a1491573312c28f6fe82fff21946abae6141d461-style.css"
              },
              {
               "name": null,
               "type": "css",
               "url": "/assetserver/2b70ab798aa8d032d4d4df5efcc489d2c54ad5f7-bulma_confined.min.css"
              }
             ],
             "type": "async_block"
            },
            "mount_callbacks": [
             "function () {\n    var handler = (function (ko, koPunches) {\n    ko.punches.enableAll();\n    ko.bindingHandlers.numericValue = {\n        init: function(element, valueAccessor, allBindings, data, context) {\n            var stringified = ko.observable(ko.unwrap(valueAccessor()));\n            stringified.subscribe(function(value) {\n                var val = parseFloat(value);\n                if (!isNaN(val)) {\n                    valueAccessor()(val);\n                }\n            });\n            valueAccessor().subscribe(function(value) {\n                var str = JSON.stringify(value);\n                if ((str == \"0\") && ([\"-0\", \"-0.\"].indexOf(stringified()) >= 0))\n                     return;\n                 if ([\"null\", \"\"].indexOf(str) >= 0)\n                     return;\n                stringified(str);\n            });\n            ko.applyBindingsToNode(\n                element,\n                {\n                    value: stringified,\n                    valueUpdate: allBindings.get('valueUpdate'),\n                },\n                context,\n            );\n        }\n    };\n    var json_data = {\"formatted_vals\":[\"0\",\"2\",\"4\",\"6\",\"8\",\"10\",\"12\",\"14\",\"16\",\"18\",\"20\",\"22\",\"24\",\"26\",\"28\",\"30\",\"32\",\"34\",\"36\",\"38\",\"40\"],\"changes\":WebIO.getval({\"name\":\"changes\",\"scope\":\"16655771311277717643\",\"id\":\"ob_62\",\"type\":\"observable\"}),\"index\":WebIO.getval({\"name\":\"index\",\"scope\":\"16655771311277717643\",\"id\":\"ob_61\",\"type\":\"observable\"})};\n    var self = this;\n    function AppViewModel() {\n        for (var key in json_data) {\n            var el = json_data[key];\n            this[key] = Array.isArray(el) ? ko.observableArray(el) : ko.observable(el);\n        }\n        \n        [this[\"formatted_val\"]=ko.computed(    function(){\n        return this.formatted_vals()[parseInt(this.index())-(1)];\n    }\n,this)]\n        [this[\"changes\"].subscribe((function (val){!(this.valueFromJulia[\"changes\"]) ? (WebIO.setval({\"name\":\"changes\",\"scope\":\"16655771311277717643\",\"id\":\"ob_62\",\"type\":\"observable\"},val)) : undefined; return this.valueFromJulia[\"changes\"]=false}),self),this[\"index\"].subscribe((function (val){!(this.valueFromJulia[\"index\"]) ? (WebIO.setval({\"name\":\"index\",\"scope\":\"16655771311277717643\",\"id\":\"ob_61\",\"type\":\"observable\"},val)) : undefined; return this.valueFromJulia[\"index\"]=false}),self)]\n        \n    }\n    self.model = new AppViewModel();\n    self.valueFromJulia = {};\n    for (var key in json_data) {\n        self.valueFromJulia[key] = false;\n    }\n    ko.applyBindings(self.model, self.dom);\n}\n);\n    (WebIO.importBlock({\"data\":[{\"name\":\"knockout\",\"type\":\"js\",\"url\":\"/assetserver/3e541dee53151b2c541f58d90425f0a0925f9e0f-knockout.js\"},{\"name\":\"knockout_punches\",\"type\":\"js\",\"url\":\"/assetserver/a2fe821063f7b9402a4f3a4f892ed8b183d4262e-knockout_punches.js\"}],\"type\":\"async_block\"})).then((imports) => handler.apply(this, imports));\n}\n"
            ],
            "observables": {
             "changes": {
              "id": "ob_62",
              "sync": false,
              "value": 0
             },
             "index": {
              "id": "ob_61",
              "sync": true,
              "value": 11
             }
            },
            "systemjs_options": null
           },
           "nodeType": "Scope",
           "props": {},
           "type": "node"
          }
         ],
         "instanceArgs": {
          "namespace": "html",
          "tag": "div"
         },
         "nodeType": "DOM",
         "props": {
          "className": "field interact-widget"
         },
         "type": "node"
        },
        {
         "children": [
          {
           "children": [
            {
             "children": [
              {
               "children": [
                {
                 "children": [
                  "interval"
                 ],
                 "instanceArgs": {
                  "namespace": "html",
                  "tag": "label"
                 },
                 "nodeType": "DOM",
                 "props": {
                  "className": "interact ",
                  "style": {
                   "padding": "5px 10px 0px 10px"
                  }
                 },
                 "type": "node"
                }
               ],
               "instanceArgs": {
                "namespace": "html",
                "tag": "div"
               },
               "nodeType": "DOM",
               "props": {
                "className": "interact-flex-row-left"
               },
               "type": "node"
              },
              {
               "children": [
                {
                 "children": [],
                 "instanceArgs": {
                  "namespace": "html",
                  "tag": "input"
                 },
                 "nodeType": "DOM",
                 "props": {
                  "attributes": {
                   "data-bind": "numericValue: index, valueUpdate: 'input', event: {change: function (){this.changes(this.changes()+1)}}",
                   "orient": "horizontal",
                   "type": "range"
                  },
                  "className": "slider slider is-fullwidth",
                  "max": 11,
                  "min": 1,
                  "step": 1,
                  "style": {}
                 },
                 "type": "node"
                }
               ],
               "instanceArgs": {
                "namespace": "html",
                "tag": "div"
               },
               "nodeType": "DOM",
               "props": {
                "className": "interact-flex-row-center"
               },
               "type": "node"
              },
              {
               "children": [
                {
                 "children": [],
                 "instanceArgs": {
                  "namespace": "html",
                  "tag": "p"
                 },
                 "nodeType": "DOM",
                 "props": {
                  "attributes": {
                   "data-bind": "text: formatted_val"
                  }
                 },
                 "type": "node"
                }
               ],
               "instanceArgs": {
                "namespace": "html",
                "tag": "div"
               },
               "nodeType": "DOM",
               "props": {
                "className": "interact-flex-row-right"
               },
               "type": "node"
              }
             ],
             "instanceArgs": {
              "namespace": "html",
              "tag": "div"
             },
             "nodeType": "DOM",
             "props": {
              "className": "interact-flex-row interact-widget"
             },
             "type": "node"
            }
           ],
           "instanceArgs": {
            "handlers": {
             "changes": [
              "(function (val){return (val!=this.model[\"changes\"]()) ? (this.valueFromJulia[\"changes\"]=true, this.model[\"changes\"](val)) : undefined})"
             ],
             "index": [
              "(function (val){return (val!=this.model[\"index\"]()) ? (this.valueFromJulia[\"index\"]=true, this.model[\"index\"](val)) : undefined})"
             ]
            },
            "id": "6657888885061492283",
            "imports": {
             "data": [
              {
               "name": "knockout",
               "type": "js",
               "url": "/assetserver/3e541dee53151b2c541f58d90425f0a0925f9e0f-knockout.js"
              },
              {
               "name": "knockout_punches",
               "type": "js",
               "url": "/assetserver/a2fe821063f7b9402a4f3a4f892ed8b183d4262e-knockout_punches.js"
              },
              {
               "name": null,
               "type": "js",
               "url": "/assetserver/dca5dacd6b773cb2d9b372cb162585b4bab6abce-all.js"
              },
              {
               "name": null,
               "type": "css",
               "url": "/assetserver/a1491573312c28f6fe82fff21946abae6141d461-style.css"
              },
              {
               "name": null,
               "type": "css",
               "url": "/assetserver/2b70ab798aa8d032d4d4df5efcc489d2c54ad5f7-bulma_confined.min.css"
              }
             ],
             "type": "async_block"
            },
            "mount_callbacks": [
             "function () {\n    var handler = (function (ko, koPunches) {\n    ko.punches.enableAll();\n    ko.bindingHandlers.numericValue = {\n        init: function(element, valueAccessor, allBindings, data, context) {\n            var stringified = ko.observable(ko.unwrap(valueAccessor()));\n            stringified.subscribe(function(value) {\n                var val = parseFloat(value);\n                if (!isNaN(val)) {\n                    valueAccessor()(val);\n                }\n            });\n            valueAccessor().subscribe(function(value) {\n                var str = JSON.stringify(value);\n                if ((str == \"0\") && ([\"-0\", \"-0.\"].indexOf(stringified()) >= 0))\n                     return;\n                 if ([\"null\", \"\"].indexOf(str) >= 0)\n                     return;\n                stringified(str);\n            });\n            ko.applyBindingsToNode(\n                element,\n                {\n                    value: stringified,\n                    valueUpdate: allBindings.get('valueUpdate'),\n                },\n                context,\n            );\n        }\n    };\n    var json_data = {\"formatted_vals\":[\"0.5\",\"0.55\",\"0.6\",\"0.65\",\"0.7\",\"0.75\",\"0.8\",\"0.85\",\"0.9\",\"0.95\",\"1.0\"],\"changes\":WebIO.getval({\"name\":\"changes\",\"scope\":\"6657888885061492283\",\"id\":\"ob_65\",\"type\":\"observable\"}),\"index\":WebIO.getval({\"name\":\"index\",\"scope\":\"6657888885061492283\",\"id\":\"ob_64\",\"type\":\"observable\"})};\n    var self = this;\n    function AppViewModel() {\n        for (var key in json_data) {\n            var el = json_data[key];\n            this[key] = Array.isArray(el) ? ko.observableArray(el) : ko.observable(el);\n        }\n        \n        [this[\"formatted_val\"]=ko.computed(    function(){\n        return this.formatted_vals()[parseInt(this.index())-(1)];\n    }\n,this)]\n        [this[\"changes\"].subscribe((function (val){!(this.valueFromJulia[\"changes\"]) ? (WebIO.setval({\"name\":\"changes\",\"scope\":\"6657888885061492283\",\"id\":\"ob_65\",\"type\":\"observable\"},val)) : undefined; return this.valueFromJulia[\"changes\"]=false}),self),this[\"index\"].subscribe((function (val){!(this.valueFromJulia[\"index\"]) ? (WebIO.setval({\"name\":\"index\",\"scope\":\"6657888885061492283\",\"id\":\"ob_64\",\"type\":\"observable\"},val)) : undefined; return this.valueFromJulia[\"index\"]=false}),self)]\n        \n    }\n    self.model = new AppViewModel();\n    self.valueFromJulia = {};\n    for (var key in json_data) {\n        self.valueFromJulia[key] = false;\n    }\n    ko.applyBindings(self.model, self.dom);\n}\n);\n    (WebIO.importBlock({\"data\":[{\"name\":\"knockout\",\"type\":\"js\",\"url\":\"/assetserver/3e541dee53151b2c541f58d90425f0a0925f9e0f-knockout.js\"},{\"name\":\"knockout_punches\",\"type\":\"js\",\"url\":\"/assetserver/a2fe821063f7b9402a4f3a4f892ed8b183d4262e-knockout_punches.js\"}],\"type\":\"async_block\"})).then((imports) => handler.apply(this, imports));\n}\n"
            ],
            "observables": {
             "changes": {
              "id": "ob_65",
              "sync": false,
              "value": 0
             },
             "index": {
              "id": "ob_64",
              "sync": true,
              "value": 6
             }
            },
            "systemjs_options": null
           },
           "nodeType": "Scope",
           "props": {},
           "type": "node"
          }
         ],
         "instanceArgs": {
          "namespace": "html",
          "tag": "div"
         },
         "nodeType": "DOM",
         "props": {
          "className": "field interact-widget"
         },
         "type": "node"
        },
        {
         "children": [
          {
           "children": [],
           "instanceArgs": {
            "id": "ob_71",
            "name": "obs-node"
           },
           "nodeType": "ObservableNode",
           "props": {},
           "type": "node"
          }
         ],
         "instanceArgs": {
          "handlers": {},
          "id": "12796254134540312899",
          "imports": {
           "data": [],
           "type": "async_block"
          },
          "mount_callbacks": [],
          "observables": {
           "obs-node": {
            "id": "ob_71",
            "sync": false,
            "value": {
             "children": [
              {
               "children": [],
               "instanceArgs": {
                "namespace": "html",
                "tag": "div"
               },
               "nodeType": "DOM",
               "props": {
                "setInnerHtml": "<?xml version=\"1.0\" encoding=\"UTF-8\"?>\n<svg xmlns=\"http://www.w3.org/2000/svg\" xmlns:xlink=\"http://www.w3.org/1999/xlink\" width=\"238.169pt\" height=\"195.05pt\" viewBox=\"0 0 238.169 195.05\" version=\"1.1\">\n<defs>\n<g>\n<symbol overflow=\"visible\" id=\"glyph-1580969628598078-0-0\">\n<path style=\"stroke:none;\" d=\"\"/>\n</symbol>\n<symbol overflow=\"visible\" id=\"glyph-1580969628598078-0-1\">\n<path style=\"stroke:none;\" d=\"M 4.578125 -3.1875 C 4.578125 -3.984375 4.53125 -4.78125 4.1875 -5.515625 C 3.734375 -6.484375 2.90625 -6.640625 2.5 -6.640625 C 1.890625 -6.640625 1.171875 -6.375 0.75 -5.453125 C 0.4375 -4.765625 0.390625 -3.984375 0.390625 -3.1875 C 0.390625 -2.4375 0.421875 -1.546875 0.84375 -0.78125 C 1.265625 0.015625 2 0.21875 2.484375 0.21875 C 3.015625 0.21875 3.78125 0.015625 4.21875 -0.9375 C 4.53125 -1.625 4.578125 -2.40625 4.578125 -3.1875 Z M 2.484375 0 C 2.09375 0 1.5 -0.25 1.328125 -1.203125 C 1.21875 -1.796875 1.21875 -2.71875 1.21875 -3.3125 C 1.21875 -3.953125 1.21875 -4.609375 1.296875 -5.140625 C 1.484375 -6.328125 2.234375 -6.421875 2.484375 -6.421875 C 2.8125 -6.421875 3.46875 -6.234375 3.65625 -5.25 C 3.765625 -4.6875 3.765625 -3.9375 3.765625 -3.3125 C 3.765625 -2.5625 3.765625 -1.890625 3.65625 -1.25 C 3.5 -0.296875 2.9375 0 2.484375 0 Z M 2.484375 0 \"/>\n</symbol>\n<symbol overflow=\"visible\" id=\"glyph-1580969628598078-0-2\">\n<path style=\"stroke:none;\" d=\"M 2.9375 -6.375 C 2.9375 -6.625 2.9375 -6.640625 2.703125 -6.640625 C 2.078125 -6 1.203125 -6 0.890625 -6 L 0.890625 -5.6875 C 1.09375 -5.6875 1.671875 -5.6875 2.1875 -5.953125 L 2.1875 -0.78125 C 2.1875 -0.421875 2.15625 -0.3125 1.265625 -0.3125 L 0.953125 -0.3125 L 0.953125 0 C 1.296875 -0.03125 2.15625 -0.03125 2.5625 -0.03125 C 2.953125 -0.03125 3.828125 -0.03125 4.171875 0 L 4.171875 -0.3125 L 3.859375 -0.3125 C 2.953125 -0.3125 2.9375 -0.421875 2.9375 -0.78125 Z M 2.9375 -6.375 \"/>\n</symbol>\n<symbol overflow=\"visible\" id=\"glyph-1580969628598078-0-3\">\n<path style=\"stroke:none;\" d=\"M 1.265625 -0.765625 L 2.328125 -1.796875 C 3.875 -3.171875 4.46875 -3.703125 4.46875 -4.703125 C 4.46875 -5.84375 3.578125 -6.640625 2.359375 -6.640625 C 1.234375 -6.640625 0.5 -5.71875 0.5 -4.828125 C 0.5 -4.28125 1 -4.28125 1.03125 -4.28125 C 1.203125 -4.28125 1.546875 -4.390625 1.546875 -4.8125 C 1.546875 -5.0625 1.359375 -5.328125 1.015625 -5.328125 C 0.9375 -5.328125 0.921875 -5.328125 0.890625 -5.3125 C 1.109375 -5.96875 1.65625 -6.328125 2.234375 -6.328125 C 3.140625 -6.328125 3.5625 -5.515625 3.5625 -4.703125 C 3.5625 -3.90625 3.078125 -3.125 2.515625 -2.5 L 0.609375 -0.375 C 0.5 -0.265625 0.5 -0.234375 0.5 0 L 4.203125 0 L 4.46875 -1.734375 L 4.234375 -1.734375 C 4.171875 -1.4375 4.109375 -1 4 -0.84375 C 3.9375 -0.765625 3.28125 -0.765625 3.0625 -0.765625 Z M 1.265625 -0.765625 \"/>\n</symbol>\n<symbol overflow=\"visible\" id=\"glyph-1580969628598078-0-4\">\n<path style=\"stroke:none;\" d=\"M 2.890625 -3.515625 C 3.703125 -3.78125 4.28125 -4.46875 4.28125 -5.265625 C 4.28125 -6.078125 3.40625 -6.640625 2.453125 -6.640625 C 1.453125 -6.640625 0.6875 -6.046875 0.6875 -5.28125 C 0.6875 -4.953125 0.90625 -4.765625 1.203125 -4.765625 C 1.5 -4.765625 1.703125 -4.984375 1.703125 -5.28125 C 1.703125 -5.765625 1.234375 -5.765625 1.09375 -5.765625 C 1.390625 -6.265625 2.046875 -6.390625 2.40625 -6.390625 C 2.828125 -6.390625 3.375 -6.171875 3.375 -5.28125 C 3.375 -5.15625 3.34375 -4.578125 3.09375 -4.140625 C 2.796875 -3.65625 2.453125 -3.625 2.203125 -3.625 C 2.125 -3.609375 1.890625 -3.59375 1.8125 -3.59375 C 1.734375 -3.578125 1.671875 -3.5625 1.671875 -3.46875 C 1.671875 -3.359375 1.734375 -3.359375 1.90625 -3.359375 L 2.34375 -3.359375 C 3.15625 -3.359375 3.53125 -2.6875 3.53125 -1.703125 C 3.53125 -0.34375 2.84375 -0.0625 2.40625 -0.0625 C 1.96875 -0.0625 1.21875 -0.234375 0.875 -0.8125 C 1.21875 -0.765625 1.53125 -0.984375 1.53125 -1.359375 C 1.53125 -1.71875 1.265625 -1.921875 0.984375 -1.921875 C 0.734375 -1.921875 0.421875 -1.78125 0.421875 -1.34375 C 0.421875 -0.4375 1.34375 0.21875 2.4375 0.21875 C 3.65625 0.21875 4.5625 -0.6875 4.5625 -1.703125 C 4.5625 -2.515625 3.921875 -3.296875 2.890625 -3.515625 Z M 2.890625 -3.515625 \"/>\n</symbol>\n<symbol overflow=\"visible\" id=\"glyph-1580969628598078-0-5\">\n<path style=\"stroke:none;\" d=\"M 2.9375 -1.640625 L 2.9375 -0.78125 C 2.9375 -0.421875 2.90625 -0.3125 2.171875 -0.3125 L 1.96875 -0.3125 L 1.96875 0 C 2.375 -0.03125 2.890625 -0.03125 3.3125 -0.03125 C 3.734375 -0.03125 4.25 -0.03125 4.671875 0 L 4.671875 -0.3125 L 4.453125 -0.3125 C 3.71875 -0.3125 3.703125 -0.421875 3.703125 -0.78125 L 3.703125 -1.640625 L 4.6875 -1.640625 L 4.6875 -1.953125 L 3.703125 -1.953125 L 3.703125 -6.484375 C 3.703125 -6.6875 3.703125 -6.75 3.53125 -6.75 C 3.453125 -6.75 3.421875 -6.75 3.34375 -6.625 L 0.28125 -1.953125 L 0.28125 -1.640625 Z M 2.984375 -1.953125 L 0.5625 -1.953125 L 2.984375 -5.671875 Z M 2.984375 -1.953125 \"/>\n</symbol>\n<symbol overflow=\"visible\" id=\"glyph-1580969628598078-0-6\">\n<path style=\"stroke:none;\" d=\"M 4.46875 -2 C 4.46875 -3.1875 3.65625 -4.1875 2.578125 -4.1875 C 2.109375 -4.1875 1.671875 -4.03125 1.3125 -3.671875 L 1.3125 -5.625 C 1.515625 -5.5625 1.84375 -5.5 2.15625 -5.5 C 3.390625 -5.5 4.09375 -6.40625 4.09375 -6.53125 C 4.09375 -6.59375 4.0625 -6.640625 3.984375 -6.640625 C 3.984375 -6.640625 3.953125 -6.640625 3.90625 -6.609375 C 3.703125 -6.515625 3.21875 -6.3125 2.546875 -6.3125 C 2.15625 -6.3125 1.6875 -6.390625 1.21875 -6.59375 C 1.140625 -6.625 1.125 -6.625 1.109375 -6.625 C 1 -6.625 1 -6.546875 1 -6.390625 L 1 -3.4375 C 1 -3.265625 1 -3.1875 1.140625 -3.1875 C 1.21875 -3.1875 1.234375 -3.203125 1.28125 -3.265625 C 1.390625 -3.421875 1.75 -3.96875 2.5625 -3.96875 C 3.078125 -3.96875 3.328125 -3.515625 3.40625 -3.328125 C 3.5625 -2.953125 3.59375 -2.578125 3.59375 -2.078125 C 3.59375 -1.71875 3.59375 -1.125 3.34375 -0.703125 C 3.109375 -0.3125 2.734375 -0.0625 2.28125 -0.0625 C 1.5625 -0.0625 0.984375 -0.59375 0.8125 -1.171875 C 0.84375 -1.171875 0.875 -1.15625 0.984375 -1.15625 C 1.3125 -1.15625 1.484375 -1.40625 1.484375 -1.640625 C 1.484375 -1.890625 1.3125 -2.140625 0.984375 -2.140625 C 0.84375 -2.140625 0.5 -2.0625 0.5 -1.609375 C 0.5 -0.75 1.1875 0.21875 2.296875 0.21875 C 3.453125 0.21875 4.46875 -0.734375 4.46875 -2 Z M 4.46875 -2 \"/>\n</symbol>\n<symbol overflow=\"visible\" id=\"glyph-1580969628598078-0-7\">\n<path style=\"stroke:none;\" d=\"M 1.3125 -3.265625 L 1.3125 -3.515625 C 1.3125 -6.03125 2.546875 -6.390625 3.0625 -6.390625 C 3.296875 -6.390625 3.71875 -6.328125 3.9375 -5.984375 C 3.78125 -5.984375 3.390625 -5.984375 3.390625 -5.546875 C 3.390625 -5.234375 3.625 -5.078125 3.84375 -5.078125 C 4 -5.078125 4.3125 -5.171875 4.3125 -5.5625 C 4.3125 -6.15625 3.875 -6.640625 3.046875 -6.640625 C 1.765625 -6.640625 0.421875 -5.359375 0.421875 -3.15625 C 0.421875 -0.484375 1.578125 0.21875 2.5 0.21875 C 3.609375 0.21875 4.5625 -0.71875 4.5625 -2.03125 C 4.5625 -3.296875 3.671875 -4.25 2.5625 -4.25 C 1.890625 -4.25 1.515625 -3.75 1.3125 -3.265625 Z M 2.5 -0.0625 C 1.875 -0.0625 1.578125 -0.65625 1.515625 -0.8125 C 1.328125 -1.28125 1.328125 -2.078125 1.328125 -2.25 C 1.328125 -3.03125 1.65625 -4.03125 2.546875 -4.03125 C 2.71875 -4.03125 3.171875 -4.03125 3.484375 -3.40625 C 3.65625 -3.046875 3.65625 -2.53125 3.65625 -2.046875 C 3.65625 -1.5625 3.65625 -1.0625 3.484375 -0.703125 C 3.1875 -0.109375 2.734375 -0.0625 2.5 -0.0625 Z M 2.5 -0.0625 \"/>\n</symbol>\n<symbol overflow=\"visible\" id=\"glyph-1580969628598078-0-8\">\n<path style=\"stroke:none;\" d=\"M 1.625 -4.5625 C 1.171875 -4.859375 1.125 -5.1875 1.125 -5.359375 C 1.125 -5.96875 1.78125 -6.390625 2.484375 -6.390625 C 3.203125 -6.390625 3.84375 -5.875 3.84375 -5.15625 C 3.84375 -4.578125 3.453125 -4.109375 2.859375 -3.765625 Z M 3.078125 -3.609375 C 3.796875 -3.984375 4.28125 -4.5 4.28125 -5.15625 C 4.28125 -6.078125 3.40625 -6.640625 2.5 -6.640625 C 1.5 -6.640625 0.6875 -5.90625 0.6875 -4.96875 C 0.6875 -4.796875 0.703125 -4.34375 1.125 -3.875 C 1.234375 -3.765625 1.609375 -3.515625 1.859375 -3.34375 C 1.28125 -3.046875 0.421875 -2.5 0.421875 -1.5 C 0.421875 -0.453125 1.4375 0.21875 2.484375 0.21875 C 3.609375 0.21875 4.5625 -0.609375 4.5625 -1.671875 C 4.5625 -2.03125 4.453125 -2.484375 4.0625 -2.90625 C 3.875 -3.109375 3.71875 -3.203125 3.078125 -3.609375 Z M 2.078125 -3.1875 L 3.3125 -2.40625 C 3.59375 -2.21875 4.0625 -1.921875 4.0625 -1.3125 C 4.0625 -0.578125 3.3125 -0.0625 2.5 -0.0625 C 1.640625 -0.0625 0.921875 -0.671875 0.921875 -1.5 C 0.921875 -2.078125 1.234375 -2.71875 2.078125 -3.1875 Z M 2.078125 -3.1875 \"/>\n</symbol>\n<symbol overflow=\"visible\" id=\"glyph-1580969628598078-1-0\">\n<path style=\"stroke:none;\" d=\"\"/>\n</symbol>\n<symbol overflow=\"visible\" id=\"glyph-1580969628598078-1-1\">\n<path style=\"stroke:none;\" d=\"M 1.90625 -0.53125 C 1.90625 -0.8125 1.671875 -1.0625 1.390625 -1.0625 C 1.09375 -1.0625 0.859375 -0.8125 0.859375 -0.53125 C 0.859375 -0.234375 1.09375 0 1.390625 0 C 1.671875 0 1.90625 -0.234375 1.90625 -0.53125 Z M 1.90625 -0.53125 \"/>\n</symbol>\n<symbol overflow=\"visible\" id=\"glyph-1580969628598078-2-0\">\n<path style=\"stroke:none;\" d=\"\"/>\n</symbol>\n<symbol overflow=\"visible\" id=\"glyph-1580969628598078-2-1\">\n<path style=\"stroke:none;\" d=\"M 6.21875 -4.953125 C 6.21875 -5.9375 5.234375 -6.8125 3.875 -6.8125 L 0.34375 -6.8125 L 0.34375 -6.5 L 0.59375 -6.5 C 1.359375 -6.5 1.375 -6.390625 1.375 -6.03125 L 1.375 -0.78125 C 1.375 -0.421875 1.359375 -0.3125 0.59375 -0.3125 L 0.34375 -0.3125 L 0.34375 0 C 0.703125 -0.03125 1.4375 -0.03125 1.8125 -0.03125 C 2.1875 -0.03125 2.9375 -0.03125 3.296875 0 L 3.296875 -0.3125 L 3.046875 -0.3125 C 2.28125 -0.3125 2.265625 -0.421875 2.265625 -0.78125 L 2.265625 -3.15625 L 3.953125 -3.15625 C 5.140625 -3.15625 6.21875 -3.953125 6.21875 -4.953125 Z M 5.1875 -4.953125 C 5.1875 -4.484375 5.1875 -3.40625 3.609375 -3.40625 L 2.234375 -3.40625 L 2.234375 -6.09375 C 2.234375 -6.4375 2.25 -6.5 2.71875 -6.5 L 3.609375 -6.5 C 5.1875 -6.5 5.1875 -5.4375 5.1875 -4.953125 Z M 5.1875 -4.953125 \"/>\n</symbol>\n<symbol overflow=\"visible\" id=\"glyph-1580969628598078-2-2\">\n<path style=\"stroke:none;\" d=\"M 5.328125 0 L 5.328125 -0.3125 C 4.640625 -0.3125 4.5625 -0.375 4.5625 -0.875 L 4.5625 -4.40625 L 3.09375 -4.296875 L 3.09375 -3.984375 C 3.78125 -3.984375 3.875 -3.921875 3.875 -3.421875 L 3.875 -1.65625 C 3.875 -0.78125 3.390625 -0.109375 2.65625 -0.109375 C 1.828125 -0.109375 1.78125 -0.578125 1.78125 -1.09375 L 1.78125 -4.40625 L 0.3125 -4.296875 L 0.3125 -3.984375 C 1.09375 -3.984375 1.09375 -3.953125 1.09375 -3.078125 L 1.09375 -1.578125 C 1.09375 -0.796875 1.09375 0.109375 2.609375 0.109375 C 3.171875 0.109375 3.609375 -0.171875 3.890625 -0.78125 L 3.890625 0.109375 Z M 5.328125 0 \"/>\n</symbol>\n<symbol overflow=\"visible\" id=\"glyph-1580969628598078-2-3\">\n<path style=\"stroke:none;\" d=\"M 2.546875 0 L 2.546875 -0.3125 C 1.875 -0.3125 1.765625 -0.3125 1.765625 -0.75 L 1.765625 -6.921875 L 0.328125 -6.8125 L 0.328125 -6.5 C 1.03125 -6.5 1.109375 -6.4375 1.109375 -5.9375 L 1.109375 -0.75 C 1.109375 -0.3125 1 -0.3125 0.328125 -0.3125 L 0.328125 0 L 1.4375 -0.03125 Z M 2.546875 0 \"/>\n</symbol>\n<symbol overflow=\"visible\" id=\"glyph-1580969628598078-2-4\">\n<path style=\"stroke:none;\" d=\"M 3.59375 -1.28125 C 3.59375 -1.796875 3.296875 -2.109375 3.171875 -2.21875 C 2.84375 -2.546875 2.453125 -2.625 2.03125 -2.703125 C 1.46875 -2.8125 0.8125 -2.9375 0.8125 -3.515625 C 0.8125 -3.875 1.0625 -4.28125 1.921875 -4.28125 C 3.015625 -4.28125 3.078125 -3.375 3.09375 -3.078125 C 3.09375 -2.984375 3.203125 -2.984375 3.203125 -2.984375 C 3.34375 -2.984375 3.34375 -3.03125 3.34375 -3.21875 L 3.34375 -4.234375 C 3.34375 -4.390625 3.34375 -4.46875 3.234375 -4.46875 C 3.1875 -4.46875 3.15625 -4.46875 3.03125 -4.34375 C 3 -4.3125 2.90625 -4.21875 2.859375 -4.1875 C 2.484375 -4.46875 2.078125 -4.46875 1.921875 -4.46875 C 0.703125 -4.46875 0.328125 -3.796875 0.328125 -3.234375 C 0.328125 -2.890625 0.484375 -2.609375 0.75 -2.390625 C 1.078125 -2.140625 1.359375 -2.078125 2.078125 -1.9375 C 2.296875 -1.890625 3.109375 -1.734375 3.109375 -1.015625 C 3.109375 -0.515625 2.765625 -0.109375 1.984375 -0.109375 C 1.140625 -0.109375 0.78125 -0.671875 0.59375 -1.53125 C 0.5625 -1.65625 0.5625 -1.6875 0.453125 -1.6875 C 0.328125 -1.6875 0.328125 -1.625 0.328125 -1.453125 L 0.328125 -0.125 C 0.328125 0.046875 0.328125 0.109375 0.4375 0.109375 C 0.484375 0.109375 0.5 0.09375 0.6875 -0.09375 C 0.703125 -0.109375 0.703125 -0.125 0.890625 -0.3125 C 1.328125 0.09375 1.78125 0.109375 1.984375 0.109375 C 3.125 0.109375 3.59375 -0.5625 3.59375 -1.28125 Z M 3.59375 -1.28125 \"/>\n</symbol>\n<symbol overflow=\"visible\" id=\"glyph-1580969628598078-2-5\">\n<path style=\"stroke:none;\" d=\"M 4.140625 -1.1875 C 4.140625 -1.28125 4.0625 -1.3125 4 -1.3125 C 3.921875 -1.3125 3.890625 -1.25 3.875 -1.171875 C 3.53125 -0.140625 2.625 -0.140625 2.53125 -0.140625 C 2.03125 -0.140625 1.640625 -0.4375 1.40625 -0.8125 C 1.109375 -1.28125 1.109375 -1.9375 1.109375 -2.296875 L 3.890625 -2.296875 C 4.109375 -2.296875 4.140625 -2.296875 4.140625 -2.515625 C 4.140625 -3.5 3.59375 -4.46875 2.359375 -4.46875 C 1.203125 -4.46875 0.28125 -3.4375 0.28125 -2.1875 C 0.28125 -0.859375 1.328125 0.109375 2.46875 0.109375 C 3.6875 0.109375 4.140625 -1 4.140625 -1.1875 Z M 3.484375 -2.515625 L 1.109375 -2.515625 C 1.171875 -4 2.015625 -4.25 2.359375 -4.25 C 3.375 -4.25 3.484375 -2.90625 3.484375 -2.515625 Z M 3.484375 -2.515625 \"/>\n</symbol>\n<symbol overflow=\"visible\" id=\"glyph-1580969628598078-2-6\">\n<path style=\"stroke:none;\" d=\"M 5.1875 -2.15625 C 5.1875 -3.421875 4.234375 -4.40625 3.109375 -4.40625 C 2.328125 -4.40625 1.90625 -3.96875 1.71875 -3.75 L 1.71875 -4.40625 L 0.28125 -4.296875 L 0.28125 -3.984375 C 0.984375 -3.984375 1.0625 -3.921875 1.0625 -3.484375 L 1.0625 1.171875 C 1.0625 1.625 0.953125 1.625 0.28125 1.625 L 0.28125 1.9375 L 1.390625 1.90625 L 2.515625 1.9375 L 2.515625 1.625 C 1.859375 1.625 1.75 1.625 1.75 1.171875 L 1.75 -0.59375 C 1.796875 -0.421875 2.21875 0.109375 2.96875 0.109375 C 4.15625 0.109375 5.1875 -0.875 5.1875 -2.15625 Z M 4.359375 -2.15625 C 4.359375 -0.953125 3.671875 -0.109375 2.9375 -0.109375 C 2.53125 -0.109375 2.15625 -0.3125 1.890625 -0.71875 C 1.75 -0.921875 1.75 -0.9375 1.75 -1.140625 L 1.75 -3.359375 C 2.03125 -3.875 2.515625 -4.15625 3.03125 -4.15625 C 3.765625 -4.15625 4.359375 -3.28125 4.359375 -2.15625 Z M 4.359375 -2.15625 \"/>\n</symbol>\n<symbol overflow=\"visible\" id=\"glyph-1580969628598078-2-7\">\n<path style=\"stroke:none;\" d=\"M 4.828125 -4.03125 C 4.828125 -4.203125 4.71875 -4.515625 4.328125 -4.515625 C 4.125 -4.515625 3.6875 -4.453125 3.265625 -4.046875 C 2.84375 -4.375 2.4375 -4.40625 2.21875 -4.40625 C 1.28125 -4.40625 0.59375 -3.71875 0.59375 -2.953125 C 0.59375 -2.515625 0.8125 -2.140625 1.0625 -1.921875 C 0.9375 -1.78125 0.75 -1.453125 0.75 -1.09375 C 0.75 -0.78125 0.890625 -0.40625 1.203125 -0.203125 C 0.59375 -0.046875 0.28125 0.390625 0.28125 0.78125 C 0.28125 1.5 1.265625 2.046875 2.484375 2.046875 C 3.65625 2.046875 4.6875 1.546875 4.6875 0.765625 C 4.6875 0.421875 4.5625 -0.09375 4.046875 -0.375 C 3.515625 -0.640625 2.9375 -0.640625 2.328125 -0.640625 C 2.078125 -0.640625 1.65625 -0.640625 1.578125 -0.65625 C 1.265625 -0.703125 1.0625 -1 1.0625 -1.328125 C 1.0625 -1.359375 1.0625 -1.59375 1.21875 -1.796875 C 1.609375 -1.515625 2.03125 -1.484375 2.21875 -1.484375 C 3.140625 -1.484375 3.828125 -2.171875 3.828125 -2.9375 C 3.828125 -3.3125 3.671875 -3.671875 3.421875 -3.90625 C 3.78125 -4.25 4.140625 -4.296875 4.3125 -4.296875 C 4.3125 -4.296875 4.390625 -4.296875 4.421875 -4.28125 C 4.3125 -4.25 4.25 -4.140625 4.25 -4.015625 C 4.25 -3.84375 4.390625 -3.734375 4.546875 -3.734375 C 4.640625 -3.734375 4.828125 -3.796875 4.828125 -4.03125 Z M 3.078125 -2.953125 C 3.078125 -2.6875 3.078125 -2.359375 2.921875 -2.109375 C 2.84375 -2 2.609375 -1.71875 2.21875 -1.71875 C 1.34375 -1.71875 1.34375 -2.71875 1.34375 -2.9375 C 1.34375 -3.203125 1.359375 -3.53125 1.5 -3.78125 C 1.578125 -3.890625 1.8125 -4.171875 2.21875 -4.171875 C 3.078125 -4.171875 3.078125 -3.1875 3.078125 -2.953125 Z M 4.171875 0.78125 C 4.171875 1.328125 3.46875 1.828125 2.5 1.828125 C 1.484375 1.828125 0.796875 1.3125 0.796875 0.78125 C 0.796875 0.328125 1.171875 -0.046875 1.609375 -0.0625 L 2.203125 -0.0625 C 3.0625 -0.0625 4.171875 -0.0625 4.171875 0.78125 Z M 4.171875 0.78125 \"/>\n</symbol>\n<symbol overflow=\"visible\" id=\"glyph-1580969628598078-2-8\">\n<path style=\"stroke:none;\" d=\"M 3.625 -3.796875 C 3.625 -4.109375 3.3125 -4.40625 2.890625 -4.40625 C 2.15625 -4.40625 1.796875 -3.734375 1.671875 -3.3125 L 1.671875 -4.40625 L 0.28125 -4.296875 L 0.28125 -3.984375 C 0.984375 -3.984375 1.0625 -3.921875 1.0625 -3.421875 L 1.0625 -0.75 C 1.0625 -0.3125 0.953125 -0.3125 0.28125 -0.3125 L 0.28125 0 L 1.421875 -0.03125 C 1.8125 -0.03125 2.28125 -0.03125 2.6875 0 L 2.6875 -0.3125 L 2.46875 -0.3125 C 1.734375 -0.3125 1.71875 -0.421875 1.71875 -0.78125 L 1.71875 -2.3125 C 1.71875 -3.296875 2.140625 -4.1875 2.890625 -4.1875 C 2.953125 -4.1875 2.984375 -4.1875 3 -4.171875 C 2.96875 -4.171875 2.765625 -4.046875 2.765625 -3.78125 C 2.765625 -3.515625 2.984375 -3.359375 3.203125 -3.359375 C 3.375 -3.359375 3.625 -3.484375 3.625 -3.796875 Z M 3.625 -3.796875 \"/>\n</symbol>\n<symbol overflow=\"visible\" id=\"glyph-1580969628598078-2-9\">\n<path style=\"stroke:none;\" d=\"M 5.25 0 L 5.25 -0.3125 C 4.5625 -0.3125 4.46875 -0.375 4.46875 -0.875 L 4.46875 -6.921875 L 3.046875 -6.8125 L 3.046875 -6.5 C 3.734375 -6.5 3.8125 -6.4375 3.8125 -5.9375 L 3.8125 -3.78125 C 3.53125 -4.140625 3.09375 -4.40625 2.5625 -4.40625 C 1.390625 -4.40625 0.34375 -3.421875 0.34375 -2.140625 C 0.34375 -0.875 1.3125 0.109375 2.453125 0.109375 C 3.09375 0.109375 3.53125 -0.234375 3.78125 -0.546875 L 3.78125 0.109375 Z M 3.78125 -1.171875 C 3.78125 -1 3.78125 -0.984375 3.671875 -0.8125 C 3.375 -0.328125 2.9375 -0.109375 2.5 -0.109375 C 2.046875 -0.109375 1.6875 -0.375 1.453125 -0.75 C 1.203125 -1.15625 1.171875 -1.71875 1.171875 -2.140625 C 1.171875 -2.5 1.1875 -3.09375 1.46875 -3.546875 C 1.6875 -3.859375 2.0625 -4.1875 2.609375 -4.1875 C 2.953125 -4.1875 3.375 -4.03125 3.671875 -3.59375 C 3.78125 -3.421875 3.78125 -3.40625 3.78125 -3.21875 Z M 3.78125 -1.171875 \"/>\n</symbol>\n<symbol overflow=\"visible\" id=\"glyph-1580969628598078-2-10\">\n<path style=\"stroke:none;\" d=\"M 5.0625 -3.984375 L 5.0625 -4.296875 C 4.828125 -4.28125 4.546875 -4.265625 4.3125 -4.265625 L 3.453125 -4.296875 L 3.453125 -3.984375 C 3.765625 -3.984375 3.921875 -3.8125 3.921875 -3.5625 C 3.921875 -3.453125 3.90625 -3.4375 3.859375 -3.3125 L 2.84375 -0.875 L 1.75 -3.546875 C 1.703125 -3.65625 1.6875 -3.6875 1.6875 -3.734375 C 1.6875 -3.984375 2.046875 -3.984375 2.25 -3.984375 L 2.25 -4.296875 L 1.15625 -4.265625 C 0.890625 -4.265625 0.484375 -4.28125 0.1875 -4.296875 L 0.1875 -3.984375 C 0.671875 -3.984375 0.859375 -3.984375 1 -3.640625 L 2.5 0 L 2.25 0.59375 C 2.03125 1.140625 1.75 1.828125 1.109375 1.828125 C 1.0625 1.828125 0.828125 1.828125 0.640625 1.640625 C 0.953125 1.609375 1.03125 1.390625 1.03125 1.21875 C 1.03125 0.96875 0.84375 0.8125 0.609375 0.8125 C 0.40625 0.8125 0.1875 0.9375 0.1875 1.234375 C 0.1875 1.6875 0.609375 2.046875 1.109375 2.046875 C 1.734375 2.046875 2.140625 1.46875 2.375 0.90625 L 4.140625 -3.34375 C 4.390625 -3.984375 4.90625 -3.984375 5.0625 -3.984375 Z M 5.0625 -3.984375 \"/>\n</symbol>\n<symbol overflow=\"visible\" id=\"glyph-1580969628598078-2-11\">\n<path style=\"stroke:none;\" d=\"M 4.6875 -2.140625 C 4.6875 -3.40625 3.703125 -4.46875 2.5 -4.46875 C 1.25 -4.46875 0.28125 -3.375 0.28125 -2.140625 C 0.28125 -0.84375 1.3125 0.109375 2.484375 0.109375 C 3.6875 0.109375 4.6875 -0.875 4.6875 -2.140625 Z M 3.875 -2.21875 C 3.875 -1.859375 3.875 -1.3125 3.65625 -0.875 C 3.421875 -0.421875 2.984375 -0.140625 2.5 -0.140625 C 2.0625 -0.140625 1.625 -0.34375 1.359375 -0.8125 C 1.109375 -1.25 1.109375 -1.859375 1.109375 -2.21875 C 1.109375 -2.609375 1.109375 -3.140625 1.34375 -3.578125 C 1.609375 -4.03125 2.078125 -4.25 2.484375 -4.25 C 2.921875 -4.25 3.34375 -4.03125 3.609375 -3.59375 C 3.875 -3.171875 3.875 -2.59375 3.875 -2.21875 Z M 3.875 -2.21875 \"/>\n</symbol>\n<symbol overflow=\"visible\" id=\"glyph-1580969628598078-2-12\">\n<path style=\"stroke:none;\" d=\"M 3.5625 -6.328125 C 3.5625 -6.703125 3.1875 -7.03125 2.65625 -7.03125 C 1.96875 -7.03125 1.109375 -6.5 1.109375 -5.4375 L 1.109375 -4.296875 L 0.328125 -4.296875 L 0.328125 -3.984375 L 1.109375 -3.984375 L 1.109375 -0.75 C 1.109375 -0.3125 1 -0.3125 0.34375 -0.3125 L 0.34375 0 L 1.46875 -0.03125 C 1.875 -0.03125 2.34375 -0.03125 2.734375 0 L 2.734375 -0.3125 L 2.53125 -0.3125 C 1.796875 -0.3125 1.78125 -0.421875 1.78125 -0.78125 L 1.78125 -3.984375 L 2.90625 -3.984375 L 2.90625 -4.296875 L 1.75 -4.296875 L 1.75 -5.453125 C 1.75 -6.328125 2.21875 -6.8125 2.65625 -6.8125 C 2.6875 -6.8125 2.84375 -6.8125 2.984375 -6.734375 C 2.875 -6.703125 2.6875 -6.5625 2.6875 -6.3125 C 2.6875 -6.09375 2.84375 -5.890625 3.125 -5.890625 C 3.40625 -5.890625 3.5625 -6.09375 3.5625 -6.328125 Z M 3.5625 -6.328125 \"/>\n</symbol>\n<symbol overflow=\"visible\" id=\"glyph-1580969628598078-2-13\">\n<path style=\"stroke:none;\" d=\"M 3.3125 -1.234375 L 3.3125 -1.796875 L 3.0625 -1.796875 L 3.0625 -1.25 C 3.0625 -0.515625 2.765625 -0.140625 2.390625 -0.140625 C 1.71875 -0.140625 1.71875 -1.046875 1.71875 -1.21875 L 1.71875 -3.984375 L 3.15625 -3.984375 L 3.15625 -4.296875 L 1.71875 -4.296875 L 1.71875 -6.125 L 1.46875 -6.125 C 1.46875 -5.3125 1.171875 -4.25 0.1875 -4.203125 L 0.1875 -3.984375 L 1.03125 -3.984375 L 1.03125 -1.234375 C 1.03125 -0.015625 1.96875 0.109375 2.328125 0.109375 C 3.03125 0.109375 3.3125 -0.59375 3.3125 -1.234375 Z M 3.3125 -1.234375 \"/>\n</symbol>\n<symbol overflow=\"visible\" id=\"glyph-1580969628598078-2-14\">\n<path style=\"stroke:none;\" d=\"M 8.109375 0 L 8.109375 -0.3125 C 7.59375 -0.3125 7.34375 -0.3125 7.328125 -0.609375 L 7.328125 -2.515625 C 7.328125 -3.375 7.328125 -3.671875 7.015625 -4.03125 C 6.875 -4.203125 6.546875 -4.40625 5.96875 -4.40625 C 5.140625 -4.40625 4.6875 -3.8125 4.53125 -3.421875 C 4.390625 -4.296875 3.65625 -4.40625 3.203125 -4.40625 C 2.46875 -4.40625 2 -3.984375 1.71875 -3.359375 L 1.71875 -4.40625 L 0.3125 -4.296875 L 0.3125 -3.984375 C 1.015625 -3.984375 1.09375 -3.921875 1.09375 -3.421875 L 1.09375 -0.75 C 1.09375 -0.3125 0.984375 -0.3125 0.3125 -0.3125 L 0.3125 0 L 1.453125 -0.03125 L 2.5625 0 L 2.5625 -0.3125 C 1.890625 -0.3125 1.78125 -0.3125 1.78125 -0.75 L 1.78125 -2.59375 C 1.78125 -3.625 2.5 -4.1875 3.125 -4.1875 C 3.765625 -4.1875 3.875 -3.65625 3.875 -3.078125 L 3.875 -0.75 C 3.875 -0.3125 3.765625 -0.3125 3.09375 -0.3125 L 3.09375 0 L 4.21875 -0.03125 L 5.328125 0 L 5.328125 -0.3125 C 4.671875 -0.3125 4.5625 -0.3125 4.5625 -0.75 L 4.5625 -2.59375 C 4.5625 -3.625 5.265625 -4.1875 5.90625 -4.1875 C 6.53125 -4.1875 6.640625 -3.65625 6.640625 -3.078125 L 6.640625 -0.75 C 6.640625 -0.3125 6.53125 -0.3125 5.859375 -0.3125 L 5.859375 0 L 6.984375 -0.03125 Z M 8.109375 0 \"/>\n</symbol>\n<symbol overflow=\"visible\" id=\"glyph-1580969628598078-2-15\">\n<path style=\"stroke:none;\" d=\"M 4.8125 -0.890625 L 4.8125 -1.453125 L 4.5625 -1.453125 L 4.5625 -0.890625 C 4.5625 -0.3125 4.3125 -0.25 4.203125 -0.25 C 3.875 -0.25 3.84375 -0.703125 3.84375 -0.75 L 3.84375 -2.734375 C 3.84375 -3.15625 3.84375 -3.546875 3.484375 -3.921875 C 3.09375 -4.3125 2.59375 -4.46875 2.109375 -4.46875 C 1.296875 -4.46875 0.609375 -4 0.609375 -3.34375 C 0.609375 -3.046875 0.8125 -2.875 1.0625 -2.875 C 1.34375 -2.875 1.53125 -3.078125 1.53125 -3.328125 C 1.53125 -3.453125 1.46875 -3.78125 1.015625 -3.78125 C 1.28125 -4.140625 1.78125 -4.25 2.09375 -4.25 C 2.578125 -4.25 3.15625 -3.859375 3.15625 -2.96875 L 3.15625 -2.609375 C 2.640625 -2.578125 1.9375 -2.546875 1.3125 -2.25 C 0.5625 -1.90625 0.3125 -1.390625 0.3125 -0.953125 C 0.3125 -0.140625 1.28125 0.109375 1.90625 0.109375 C 2.578125 0.109375 3.03125 -0.296875 3.21875 -0.75 C 3.265625 -0.359375 3.53125 0.0625 4 0.0625 C 4.203125 0.0625 4.8125 -0.078125 4.8125 -0.890625 Z M 3.15625 -1.390625 C 3.15625 -0.453125 2.4375 -0.109375 1.984375 -0.109375 C 1.5 -0.109375 1.09375 -0.453125 1.09375 -0.953125 C 1.09375 -1.5 1.5 -2.328125 3.15625 -2.390625 Z M 3.15625 -1.390625 \"/>\n</symbol>\n<symbol overflow=\"visible\" id=\"glyph-1580969628598078-2-16\">\n<path style=\"stroke:none;\" d=\"M 5.140625 0 L 5.140625 -0.3125 C 4.609375 -0.3125 4.421875 -0.328125 4.203125 -0.625 L 2.859375 -2.34375 C 3.15625 -2.71875 3.53125 -3.203125 3.78125 -3.46875 C 4.09375 -3.828125 4.5 -3.984375 4.96875 -3.984375 L 4.96875 -4.296875 C 4.703125 -4.28125 4.40625 -4.265625 4.140625 -4.265625 C 3.84375 -4.265625 3.3125 -4.28125 3.1875 -4.296875 L 3.1875 -3.984375 C 3.40625 -3.96875 3.484375 -3.84375 3.484375 -3.671875 C 3.484375 -3.515625 3.375 -3.390625 3.328125 -3.328125 L 2.71875 -2.546875 L 1.9375 -3.5625 C 1.84375 -3.65625 1.84375 -3.671875 1.84375 -3.734375 C 1.84375 -3.890625 2 -3.984375 2.1875 -3.984375 L 2.1875 -4.296875 L 1.109375 -4.265625 C 0.90625 -4.265625 0.4375 -4.28125 0.171875 -4.296875 L 0.171875 -3.984375 C 0.875 -3.984375 0.875 -3.984375 1.34375 -3.375 L 2.328125 -2.09375 C 1.859375 -1.5 1.859375 -1.46875 1.390625 -0.90625 C 0.921875 -0.328125 0.328125 -0.3125 0.125 -0.3125 L 0.125 0 C 0.375 -0.015625 0.6875 -0.03125 0.953125 -0.03125 L 1.890625 0 L 1.890625 -0.3125 C 1.671875 -0.34375 1.609375 -0.46875 1.609375 -0.625 C 1.609375 -0.84375 1.890625 -1.171875 2.5 -1.890625 L 3.265625 -0.890625 C 3.34375 -0.78125 3.46875 -0.625 3.46875 -0.5625 C 3.46875 -0.46875 3.375 -0.3125 3.109375 -0.3125 L 3.109375 0 L 4.1875 -0.03125 C 4.453125 -0.03125 4.84375 -0.015625 5.140625 0 Z M 5.140625 0 \"/>\n</symbol>\n<symbol overflow=\"visible\" id=\"glyph-1580969628598078-2-17\">\n<path style=\"stroke:none;\" d=\"M 2.46875 0 L 2.46875 -0.3125 C 1.796875 -0.3125 1.765625 -0.359375 1.765625 -0.75 L 1.765625 -4.40625 L 0.375 -4.296875 L 0.375 -3.984375 C 1.015625 -3.984375 1.109375 -3.921875 1.109375 -3.4375 L 1.109375 -0.75 C 1.109375 -0.3125 1 -0.3125 0.328125 -0.3125 L 0.328125 0 L 1.421875 -0.03125 C 1.78125 -0.03125 2.125 -0.015625 2.46875 0 Z M 1.90625 -6.015625 C 1.90625 -6.296875 1.6875 -6.546875 1.390625 -6.546875 C 1.046875 -6.546875 0.84375 -6.265625 0.84375 -6.015625 C 0.84375 -5.75 1.078125 -5.5 1.375 -5.5 C 1.71875 -5.5 1.90625 -5.765625 1.90625 -6.015625 Z M 1.90625 -6.015625 \"/>\n</symbol>\n<symbol overflow=\"visible\" id=\"glyph-1580969628598078-2-18\">\n<path style=\"stroke:none;\" d=\"M 5.328125 0 L 5.328125 -0.3125 C 4.8125 -0.3125 4.5625 -0.3125 4.5625 -0.609375 L 4.5625 -2.515625 C 4.5625 -3.375 4.5625 -3.671875 4.25 -4.03125 C 4.109375 -4.203125 3.78125 -4.40625 3.203125 -4.40625 C 2.46875 -4.40625 2 -3.984375 1.71875 -3.359375 L 1.71875 -4.40625 L 0.3125 -4.296875 L 0.3125 -3.984375 C 1.015625 -3.984375 1.09375 -3.921875 1.09375 -3.421875 L 1.09375 -0.75 C 1.09375 -0.3125 0.984375 -0.3125 0.3125 -0.3125 L 0.3125 0 L 1.453125 -0.03125 L 2.5625 0 L 2.5625 -0.3125 C 1.890625 -0.3125 1.78125 -0.3125 1.78125 -0.75 L 1.78125 -2.59375 C 1.78125 -3.625 2.5 -4.1875 3.125 -4.1875 C 3.765625 -4.1875 3.875 -3.65625 3.875 -3.078125 L 3.875 -0.75 C 3.875 -0.3125 3.765625 -0.3125 3.09375 -0.3125 L 3.09375 0 L 4.21875 -0.03125 Z M 5.328125 0 \"/>\n</symbol>\n<symbol overflow=\"visible\" id=\"glyph-1580969628598078-2-19\">\n<path style=\"stroke:none;\" d=\"M 5.0625 -3.984375 L 5.0625 -4.296875 C 4.828125 -4.28125 4.546875 -4.265625 4.3125 -4.265625 L 3.453125 -4.296875 L 3.453125 -3.984375 C 3.8125 -3.984375 3.921875 -3.75 3.921875 -3.5625 C 3.921875 -3.46875 3.90625 -3.421875 3.875 -3.3125 L 2.84375 -0.78125 L 1.734375 -3.5625 C 1.671875 -3.6875 1.671875 -3.734375 1.671875 -3.734375 C 1.671875 -3.984375 2.0625 -3.984375 2.25 -3.984375 L 2.25 -4.296875 L 1.15625 -4.265625 C 0.890625 -4.265625 0.484375 -4.28125 0.1875 -4.296875 L 0.1875 -3.984375 C 0.8125 -3.984375 0.859375 -3.921875 0.984375 -3.625 L 2.421875 -0.078125 C 2.484375 0.0625 2.5 0.109375 2.625 0.109375 C 2.765625 0.109375 2.796875 0.015625 2.84375 -0.078125 L 4.140625 -3.3125 C 4.234375 -3.546875 4.40625 -3.984375 5.0625 -3.984375 Z M 5.0625 -3.984375 \"/>\n</symbol>\n<symbol overflow=\"visible\" id=\"glyph-1580969628598078-3-0\">\n<path style=\"stroke:none;\" d=\"\"/>\n</symbol>\n<symbol overflow=\"visible\" id=\"glyph-1580969628598078-3-1\">\n<path style=\"stroke:none;\" d=\"M 0 -7.140625 L -0.3125 -7.140625 L -0.3125 -6.96875 C -0.3125 -6.375 -0.375 -6.234375 -0.703125 -6.125 L -6.9375 -3.96875 C -7.0625 -3.921875 -7.140625 -3.890625 -7.140625 -3.734375 C -7.140625 -3.578125 -7.078125 -3.546875 -6.9375 -3.5 L -0.984375 -1.4375 C -0.46875 -1.25 -0.3125 -0.859375 -0.3125 -0.3125 L 0 -0.3125 L -0.03125 -1.328125 L 0 -2.484375 L -0.3125 -2.484375 C -0.3125 -1.984375 -0.5625 -1.734375 -0.8125 -1.734375 C -0.84375 -1.734375 -0.953125 -1.75 -0.96875 -1.75 L -2.265625 -2.21875 L -2.265625 -4.671875 L -0.75 -5.203125 C -0.703125 -5.21875 -0.640625 -5.234375 -0.609375 -5.234375 C -0.3125 -5.234375 -0.3125 -4.671875 -0.3125 -4.40625 L 0 -4.40625 C -0.03125 -4.765625 -0.03125 -5.46875 -0.03125 -5.84375 Z M -2.578125 -4.5625 L -2.578125 -2.328125 L -5.828125 -3.4375 Z M -2.578125 -4.5625 \"/>\n</symbol>\n<symbol overflow=\"visible\" id=\"glyph-1580969628598078-3-2\">\n<path style=\"stroke:none;\" d=\"M -3.984375 -5.0625 L -4.296875 -5.0625 C -4.28125 -4.828125 -4.265625 -4.546875 -4.265625 -4.3125 L -4.296875 -3.453125 L -3.984375 -3.453125 C -3.984375 -3.8125 -3.75 -3.921875 -3.5625 -3.921875 C -3.46875 -3.921875 -3.421875 -3.90625 -3.3125 -3.875 L -0.78125 -2.84375 L -3.5625 -1.734375 C -3.6875 -1.671875 -3.734375 -1.671875 -3.734375 -1.671875 C -3.984375 -1.671875 -3.984375 -2.0625 -3.984375 -2.25 L -4.296875 -2.25 L -4.265625 -1.15625 C -4.265625 -0.890625 -4.28125 -0.484375 -4.296875 -0.1875 L -3.984375 -0.1875 C -3.984375 -0.8125 -3.921875 -0.859375 -3.625 -0.984375 L -0.078125 -2.421875 C 0.0625 -2.484375 0.109375 -2.5 0.109375 -2.625 C 0.109375 -2.765625 0.015625 -2.796875 -0.078125 -2.84375 L -3.3125 -4.140625 C -3.546875 -4.234375 -3.984375 -4.40625 -3.984375 -5.0625 Z M -3.984375 -5.0625 \"/>\n</symbol>\n<symbol overflow=\"visible\" id=\"glyph-1580969628598078-3-3\">\n<path style=\"stroke:none;\" d=\"M -1.1875 -4.140625 C -1.28125 -4.140625 -1.3125 -4.0625 -1.3125 -4 C -1.3125 -3.921875 -1.25 -3.890625 -1.171875 -3.875 C -0.140625 -3.53125 -0.140625 -2.625 -0.140625 -2.53125 C -0.140625 -2.03125 -0.4375 -1.640625 -0.8125 -1.40625 C -1.28125 -1.109375 -1.9375 -1.109375 -2.296875 -1.109375 L -2.296875 -3.890625 C -2.296875 -4.109375 -2.296875 -4.140625 -2.515625 -4.140625 C -3.5 -4.140625 -4.46875 -3.59375 -4.46875 -2.359375 C -4.46875 -1.203125 -3.4375 -0.28125 -2.1875 -0.28125 C -0.859375 -0.28125 0.109375 -1.328125 0.109375 -2.46875 C 0.109375 -3.6875 -1 -4.140625 -1.1875 -4.140625 Z M -2.515625 -3.484375 L -2.515625 -1.109375 C -4 -1.171875 -4.25 -2.015625 -4.25 -2.359375 C -4.25 -3.375 -2.90625 -3.484375 -2.515625 -3.484375 Z M -2.515625 -3.484375 \"/>\n</symbol>\n<symbol overflow=\"visible\" id=\"glyph-1580969628598078-3-4\">\n<path style=\"stroke:none;\" d=\"M -3.796875 -3.625 C -4.109375 -3.625 -4.40625 -3.3125 -4.40625 -2.890625 C -4.40625 -2.15625 -3.734375 -1.796875 -3.3125 -1.671875 L -4.40625 -1.671875 L -4.296875 -0.28125 L -3.984375 -0.28125 C -3.984375 -0.984375 -3.921875 -1.0625 -3.421875 -1.0625 L -0.75 -1.0625 C -0.3125 -1.0625 -0.3125 -0.953125 -0.3125 -0.28125 L 0 -0.28125 L -0.03125 -1.421875 C -0.03125 -1.8125 -0.03125 -2.28125 0 -2.6875 L -0.3125 -2.6875 L -0.3125 -2.46875 C -0.3125 -1.734375 -0.421875 -1.71875 -0.78125 -1.71875 L -2.3125 -1.71875 C -3.296875 -1.71875 -4.1875 -2.140625 -4.1875 -2.890625 C -4.1875 -2.953125 -4.1875 -2.984375 -4.171875 -3 C -4.171875 -2.96875 -4.046875 -2.765625 -3.78125 -2.765625 C -3.515625 -2.765625 -3.359375 -2.984375 -3.359375 -3.203125 C -3.359375 -3.375 -3.484375 -3.625 -3.796875 -3.625 Z M -3.796875 -3.625 \"/>\n</symbol>\n<symbol overflow=\"visible\" id=\"glyph-1580969628598078-3-5\">\n<path style=\"stroke:none;\" d=\"M -0.890625 -4.8125 L -1.453125 -4.8125 L -1.453125 -4.5625 L -0.890625 -4.5625 C -0.3125 -4.5625 -0.25 -4.3125 -0.25 -4.203125 C -0.25 -3.875 -0.703125 -3.84375 -0.75 -3.84375 L -2.734375 -3.84375 C -3.15625 -3.84375 -3.546875 -3.84375 -3.921875 -3.484375 C -4.3125 -3.09375 -4.46875 -2.59375 -4.46875 -2.109375 C -4.46875 -1.296875 -4 -0.609375 -3.34375 -0.609375 C -3.046875 -0.609375 -2.875 -0.8125 -2.875 -1.0625 C -2.875 -1.34375 -3.078125 -1.53125 -3.328125 -1.53125 C -3.453125 -1.53125 -3.78125 -1.46875 -3.78125 -1.015625 C -4.140625 -1.28125 -4.25 -1.78125 -4.25 -2.09375 C -4.25 -2.578125 -3.859375 -3.15625 -2.96875 -3.15625 L -2.609375 -3.15625 C -2.578125 -2.640625 -2.546875 -1.9375 -2.25 -1.3125 C -1.90625 -0.5625 -1.390625 -0.3125 -0.953125 -0.3125 C -0.140625 -0.3125 0.109375 -1.28125 0.109375 -1.90625 C 0.109375 -2.578125 -0.296875 -3.03125 -0.75 -3.21875 C -0.359375 -3.265625 0.0625 -3.53125 0.0625 -4 C 0.0625 -4.203125 -0.078125 -4.8125 -0.890625 -4.8125 Z M -1.390625 -3.15625 C -0.453125 -3.15625 -0.109375 -2.4375 -0.109375 -1.984375 C -0.109375 -1.5 -0.453125 -1.09375 -0.953125 -1.09375 C -1.5 -1.09375 -2.328125 -1.5 -2.390625 -3.15625 Z M -1.390625 -3.15625 \"/>\n</symbol>\n<symbol overflow=\"visible\" id=\"glyph-1580969628598078-3-6\">\n<path style=\"stroke:none;\" d=\"M -4.03125 -4.828125 C -4.203125 -4.828125 -4.515625 -4.71875 -4.515625 -4.328125 C -4.515625 -4.125 -4.453125 -3.6875 -4.046875 -3.265625 C -4.375 -2.84375 -4.40625 -2.4375 -4.40625 -2.21875 C -4.40625 -1.28125 -3.71875 -0.59375 -2.953125 -0.59375 C -2.515625 -0.59375 -2.140625 -0.8125 -1.921875 -1.0625 C -1.78125 -0.9375 -1.453125 -0.75 -1.09375 -0.75 C -0.78125 -0.75 -0.40625 -0.890625 -0.203125 -1.203125 C -0.046875 -0.59375 0.390625 -0.28125 0.78125 -0.28125 C 1.5 -0.28125 2.046875 -1.265625 2.046875 -2.484375 C 2.046875 -3.65625 1.546875 -4.6875 0.765625 -4.6875 C 0.421875 -4.6875 -0.09375 -4.5625 -0.375 -4.046875 C -0.640625 -3.515625 -0.640625 -2.9375 -0.640625 -2.328125 C -0.640625 -2.078125 -0.640625 -1.65625 -0.65625 -1.578125 C -0.703125 -1.265625 -1 -1.0625 -1.328125 -1.0625 C -1.359375 -1.0625 -1.59375 -1.0625 -1.796875 -1.21875 C -1.515625 -1.609375 -1.484375 -2.03125 -1.484375 -2.21875 C -1.484375 -3.140625 -2.171875 -3.828125 -2.9375 -3.828125 C -3.3125 -3.828125 -3.671875 -3.671875 -3.90625 -3.421875 C -4.25 -3.78125 -4.296875 -4.140625 -4.296875 -4.3125 C -4.296875 -4.3125 -4.296875 -4.390625 -4.28125 -4.421875 C -4.25 -4.3125 -4.140625 -4.25 -4.015625 -4.25 C -3.84375 -4.25 -3.734375 -4.390625 -3.734375 -4.546875 C -3.734375 -4.640625 -3.796875 -4.828125 -4.03125 -4.828125 Z M -2.953125 -3.078125 C -2.6875 -3.078125 -2.359375 -3.078125 -2.109375 -2.921875 C -2 -2.84375 -1.71875 -2.609375 -1.71875 -2.21875 C -1.71875 -1.34375 -2.71875 -1.34375 -2.9375 -1.34375 C -3.203125 -1.34375 -3.53125 -1.359375 -3.78125 -1.5 C -3.890625 -1.578125 -4.171875 -1.8125 -4.171875 -2.21875 C -4.171875 -3.078125 -3.1875 -3.078125 -2.953125 -3.078125 Z M 0.78125 -4.171875 C 1.328125 -4.171875 1.828125 -3.46875 1.828125 -2.5 C 1.828125 -1.484375 1.3125 -0.796875 0.78125 -0.796875 C 0.328125 -0.796875 -0.046875 -1.171875 -0.0625 -1.609375 L -0.0625 -2.203125 C -0.0625 -3.0625 -0.0625 -4.171875 0.78125 -4.171875 Z M 0.78125 -4.171875 \"/>\n</symbol>\n<symbol overflow=\"visible\" id=\"glyph-1580969628598078-3-7\">\n<path style=\"stroke:none;\" d=\"M -1.28125 -3.59375 C -1.796875 -3.59375 -2.109375 -3.296875 -2.21875 -3.171875 C -2.546875 -2.84375 -2.625 -2.453125 -2.703125 -2.03125 C -2.8125 -1.46875 -2.9375 -0.8125 -3.515625 -0.8125 C -3.875 -0.8125 -4.28125 -1.0625 -4.28125 -1.921875 C -4.28125 -3.015625 -3.375 -3.078125 -3.078125 -3.09375 C -2.984375 -3.09375 -2.984375 -3.203125 -2.984375 -3.203125 C -2.984375 -3.34375 -3.03125 -3.34375 -3.21875 -3.34375 L -4.234375 -3.34375 C -4.390625 -3.34375 -4.46875 -3.34375 -4.46875 -3.234375 C -4.46875 -3.1875 -4.46875 -3.15625 -4.34375 -3.03125 C -4.3125 -3 -4.21875 -2.90625 -4.1875 -2.859375 C -4.46875 -2.484375 -4.46875 -2.078125 -4.46875 -1.921875 C -4.46875 -0.703125 -3.796875 -0.328125 -3.234375 -0.328125 C -2.890625 -0.328125 -2.609375 -0.484375 -2.390625 -0.75 C -2.140625 -1.078125 -2.078125 -1.359375 -1.9375 -2.078125 C -1.890625 -2.296875 -1.734375 -3.109375 -1.015625 -3.109375 C -0.515625 -3.109375 -0.109375 -2.765625 -0.109375 -1.984375 C -0.109375 -1.140625 -0.671875 -0.78125 -1.53125 -0.59375 C -1.65625 -0.5625 -1.6875 -0.5625 -1.6875 -0.453125 C -1.6875 -0.328125 -1.625 -0.328125 -1.453125 -0.328125 L -0.125 -0.328125 C 0.046875 -0.328125 0.109375 -0.328125 0.109375 -0.4375 C 0.109375 -0.484375 0.09375 -0.5 -0.09375 -0.6875 C -0.109375 -0.703125 -0.125 -0.703125 -0.3125 -0.890625 C 0.09375 -1.328125 0.109375 -1.78125 0.109375 -1.984375 C 0.109375 -3.125 -0.5625 -3.59375 -1.28125 -3.59375 Z M -1.28125 -3.59375 \"/>\n</symbol>\n<symbol overflow=\"visible\" id=\"glyph-1580969628598078-3-8\">\n<path style=\"stroke:none;\" d=\"M 0 -5.328125 L -0.3125 -5.328125 C -0.3125 -4.640625 -0.375 -4.5625 -0.875 -4.5625 L -4.40625 -4.5625 L -4.296875 -3.09375 L -3.984375 -3.09375 C -3.984375 -3.78125 -3.921875 -3.875 -3.421875 -3.875 L -1.65625 -3.875 C -0.78125 -3.875 -0.109375 -3.390625 -0.109375 -2.65625 C -0.109375 -1.828125 -0.578125 -1.78125 -1.09375 -1.78125 L -4.40625 -1.78125 L -4.296875 -0.3125 L -3.984375 -0.3125 C -3.984375 -1.09375 -3.953125 -1.09375 -3.078125 -1.09375 L -1.578125 -1.09375 C -0.796875 -1.09375 0.109375 -1.09375 0.109375 -2.609375 C 0.109375 -3.171875 -0.171875 -3.609375 -0.78125 -3.890625 L 0.109375 -3.890625 Z M 0 -5.328125 \"/>\n</symbol>\n<symbol overflow=\"visible\" id=\"glyph-1580969628598078-3-9\">\n<path style=\"stroke:none;\" d=\"M -1.1875 -4.140625 C -1.28125 -4.140625 -1.28125 -4.03125 -1.28125 -4 C -1.28125 -3.921875 -1.25 -3.890625 -1.1875 -3.875 C -0.265625 -3.59375 -0.140625 -2.9375 -0.140625 -2.578125 C -0.140625 -2.046875 -0.5625 -1.171875 -2.171875 -1.171875 C -3.796875 -1.171875 -4.21875 -1.984375 -4.21875 -2.515625 C -4.21875 -2.609375 -4.203125 -3.234375 -3.84375 -3.578125 C -3.8125 -3.171875 -3.515625 -3.109375 -3.390625 -3.109375 C -3.125 -3.109375 -2.9375 -3.296875 -2.9375 -3.5625 C -2.9375 -3.828125 -3.09375 -4.03125 -3.40625 -4.03125 C -4.078125 -4.03125 -4.46875 -3.265625 -4.46875 -2.5 C -4.46875 -1.25 -3.390625 -0.34375 -2.15625 -0.34375 C -0.875 -0.34375 0.109375 -1.328125 0.109375 -2.484375 C 0.109375 -3.8125 -1.09375 -4.140625 -1.1875 -4.140625 Z M -1.1875 -4.140625 \"/>\n</symbol>\n</g>\n<clipPath id=\"clip-1580969628598078-1\">\n  <path d=\"M 35.597656 49 L 229.871094 49 L 229.871094 137 L 35.597656 137 Z M 35.597656 49 \"/>\n</clipPath>\n<clipPath id=\"clip-1580969628598078-2\">\n  <path d=\"M 35.597656 21 L 229.871094 21 L 229.871094 103 L 35.597656 103 Z M 35.597656 21 \"/>\n</clipPath>\n<clipPath id=\"clip-1580969628598078-3\">\n  <path d=\"M 35.597656 26 L 229.871094 26 L 229.871094 167.925781 L 35.597656 167.925781 Z M 35.597656 26 \"/>\n</clipPath>\n</defs>\n<g id=\"surface1\">\n<path style=\"fill:none;stroke-width:0.19925;stroke-linecap:butt;stroke-linejoin:miter;stroke:rgb(50%,50%,50%);stroke-opacity:1;stroke-miterlimit:10;\" d=\"M 0.00165625 -0.00078125 L 0.00165625 4.253125 M 38.853219 -0.00078125 L 38.853219 4.253125 M 77.708687 -0.00078125 L 77.708687 4.253125 M 116.564156 -0.00078125 L 116.564156 4.253125 M 155.419625 -0.00078125 L 155.419625 4.253125 M 194.275094 -0.00078125 L 194.275094 4.253125 M 0.00165625 161.397656 L 0.00165625 157.14375 M 38.853219 161.397656 L 38.853219 157.14375 M 77.708687 161.397656 L 77.708687 157.14375 M 116.564156 161.397656 L 116.564156 157.14375 M 155.419625 161.397656 L 155.419625 157.14375 M 194.275094 161.397656 L 194.275094 157.14375 \" transform=\"matrix(1,0,0,-1,35.596,167.925)\"/>\n<path style=\"fill:none;stroke-width:0.19925;stroke-linecap:butt;stroke-linejoin:miter;stroke:rgb(50%,50%,50%);stroke-opacity:1;stroke-miterlimit:10;\" d=\"M 0.00165625 -0.00078125 L 4.251656 -0.00078125 M 0.00165625 32.280469 L 4.251656 32.280469 M 0.00165625 64.557813 L 4.251656 64.557813 M 0.00165625 96.839063 L 4.251656 96.839063 M 0.00165625 129.116406 L 4.251656 129.116406 M 0.00165625 161.397656 L 4.251656 161.397656 M 194.275094 -0.00078125 L 190.021187 -0.00078125 M 194.275094 32.280469 L 190.021187 32.280469 M 194.275094 64.557813 L 190.021187 64.557813 M 194.275094 96.839063 L 190.021187 96.839063 M 194.275094 129.116406 L 190.021187 129.116406 M 194.275094 161.397656 L 190.021187 161.397656 \" transform=\"matrix(1,0,0,-1,35.596,167.925)\"/>\n<path style=\"fill:none;stroke-width:0.3985;stroke-linecap:butt;stroke-linejoin:miter;stroke:rgb(0%,0%,0%);stroke-opacity:1;stroke-miterlimit:10;\" d=\"M 0.00165625 -0.00078125 L 0.00165625 161.397656 L 194.275094 161.397656 L 194.275094 -0.00078125 Z M 0.00165625 -0.00078125 \" transform=\"matrix(1,0,0,-1,35.596,167.925)\"/>\n<g style=\"fill:rgb(0%,0%,0%);fill-opacity:1;\">\n  <use xlink:href=\"#glyph-1580969628598078-0-1\" x=\"33.106\" y=\"177.866\"/>\n</g>\n<g style=\"fill:rgb(0%,0%,0%);fill-opacity:1;\">\n  <use xlink:href=\"#glyph-1580969628598078-0-2\" x=\"69.469\" y=\"177.866\"/>\n  <use xlink:href=\"#glyph-1580969628598078-0-1\" x=\"74.45032\" y=\"177.866\"/>\n</g>\n<g style=\"fill:rgb(0%,0%,0%);fill-opacity:1;\">\n  <use xlink:href=\"#glyph-1580969628598078-0-3\" x=\"108.323\" y=\"177.866\"/>\n  <use xlink:href=\"#glyph-1580969628598078-0-1\" x=\"113.30432\" y=\"177.866\"/>\n</g>\n<g style=\"fill:rgb(0%,0%,0%);fill-opacity:1;\">\n  <use xlink:href=\"#glyph-1580969628598078-0-4\" x=\"147.178\" y=\"177.866\"/>\n  <use xlink:href=\"#glyph-1580969628598078-0-1\" x=\"152.15932\" y=\"177.866\"/>\n</g>\n<g style=\"fill:rgb(0%,0%,0%);fill-opacity:1;\">\n  <use xlink:href=\"#glyph-1580969628598078-0-5\" x=\"186.032\" y=\"177.866\"/>\n  <use xlink:href=\"#glyph-1580969628598078-0-1\" x=\"191.01332\" y=\"177.866\"/>\n</g>\n<g style=\"fill:rgb(0%,0%,0%);fill-opacity:1;\">\n  <use xlink:href=\"#glyph-1580969628598078-0-6\" x=\"224.886\" y=\"177.866\"/>\n  <use xlink:href=\"#glyph-1580969628598078-0-1\" x=\"229.86732\" y=\"177.866\"/>\n</g>\n<g style=\"fill:rgb(0%,0%,0%);fill-opacity:1;\">\n  <use xlink:href=\"#glyph-1580969628598078-0-1\" x=\"27.095\" y=\"171.136\"/>\n</g>\n<g style=\"fill:rgb(0%,0%,0%);fill-opacity:1;\">\n  <use xlink:href=\"#glyph-1580969628598078-0-1\" x=\"19.346\" y=\"138.857\"/>\n</g>\n<g style=\"fill:rgb(0%,0%,0%);fill-opacity:1;\">\n  <use xlink:href=\"#glyph-1580969628598078-1-1\" x=\"24.328\" y=\"138.857\"/>\n</g>\n<g style=\"fill:rgb(0%,0%,0%);fill-opacity:1;\">\n  <use xlink:href=\"#glyph-1580969628598078-0-3\" x=\"27.095\" y=\"138.857\"/>\n</g>\n<g style=\"fill:rgb(0%,0%,0%);fill-opacity:1;\">\n  <use xlink:href=\"#glyph-1580969628598078-0-1\" x=\"19.346\" y=\"106.578\"/>\n</g>\n<g style=\"fill:rgb(0%,0%,0%);fill-opacity:1;\">\n  <use xlink:href=\"#glyph-1580969628598078-1-1\" x=\"24.328\" y=\"106.578\"/>\n</g>\n<g style=\"fill:rgb(0%,0%,0%);fill-opacity:1;\">\n  <use xlink:href=\"#glyph-1580969628598078-0-5\" x=\"27.095\" y=\"106.578\"/>\n</g>\n<g style=\"fill:rgb(0%,0%,0%);fill-opacity:1;\">\n  <use xlink:href=\"#glyph-1580969628598078-0-1\" x=\"19.346\" y=\"74.299\"/>\n</g>\n<g style=\"fill:rgb(0%,0%,0%);fill-opacity:1;\">\n  <use xlink:href=\"#glyph-1580969628598078-1-1\" x=\"24.328\" y=\"74.299\"/>\n</g>\n<g style=\"fill:rgb(0%,0%,0%);fill-opacity:1;\">\n  <use xlink:href=\"#glyph-1580969628598078-0-7\" x=\"27.095\" y=\"74.299\"/>\n</g>\n<g style=\"fill:rgb(0%,0%,0%);fill-opacity:1;\">\n  <use xlink:href=\"#glyph-1580969628598078-0-1\" x=\"19.346\" y=\"42.02\"/>\n</g>\n<g style=\"fill:rgb(0%,0%,0%);fill-opacity:1;\">\n  <use xlink:href=\"#glyph-1580969628598078-1-1\" x=\"24.328\" y=\"42.02\"/>\n</g>\n<g style=\"fill:rgb(0%,0%,0%);fill-opacity:1;\">\n  <use xlink:href=\"#glyph-1580969628598078-0-8\" x=\"27.095\" y=\"42.02\"/>\n</g>\n<g style=\"fill:rgb(0%,0%,0%);fill-opacity:1;\">\n  <use xlink:href=\"#glyph-1580969628598078-0-2\" x=\"27.095\" y=\"9.741\"/>\n</g>\n<g clip-path=\"url(#clip-1580969628598078-1)\" clip-rule=\"nonzero\">\n<path style=\"fill:none;stroke-width:1.19553;stroke-linecap:butt;stroke-linejoin:miter;stroke:rgb(0%,0%,100%);stroke-opacity:1;stroke-miterlimit:10;\" d=\"M 3.884469 47.936719 L 7.771187 56.569531 L 11.657906 61.975781 L 15.540719 66.698438 L 19.427437 71.014844 L 23.314156 73.70625 L 27.196969 76.503125 L 31.083687 79.104688 L 34.970406 80.913281 L 38.853219 82.749219 L 42.739937 84.307813 L 46.626656 85.499219 L 50.509469 86.569531 L 54.396187 87.639844 L 58.282906 88.327344 L 62.165719 89.05 L 66.052437 89.698438 L 69.939156 90.499219 L 73.825875 90.975781 L 77.708687 91.682813 L 81.595406 92.448438 L 85.482125 93.08125 L 89.364937 93.561719 L 93.251656 94.092969 L 97.138375 94.4875 L 101.021187 94.952344 L 104.907906 95.342969 L 108.794625 95.698438 L 112.677437 96.198438 L 120.450875 97.057813 L 124.333687 97.342969 L 128.220406 97.655469 L 132.107125 97.971875 L 135.989937 98.26875 L 139.876656 98.608594 L 143.763375 98.827344 L 147.650094 99.034375 L 151.532906 99.249219 L 155.419625 99.628125 L 159.306344 99.807813 L 163.189156 99.960156 L 167.075875 100.159375 L 170.962594 100.401563 L 174.845406 100.604688 L 178.732125 100.803906 L 182.618844 101.01875 L 186.501656 101.167188 L 190.388375 101.339063 L 194.275094 101.58125 \" transform=\"matrix(1,0,0,-1,35.596,167.925)\"/>\n</g>\n<g clip-path=\"url(#clip-1580969628598078-2)\" clip-rule=\"nonzero\">\n<path style=\"fill:none;stroke-width:1.19553;stroke-linecap:butt;stroke-linejoin:miter;stroke:rgb(100%,0%,0%);stroke-opacity:1;stroke-miterlimit:10;\" d=\"M 3.884469 82.635938 L 7.771187 89.33125 L 11.657906 93.288281 L 15.540719 97.522656 L 19.427437 101.358594 L 23.314156 103.776563 L 27.196969 106.085156 L 31.083687 108.053906 L 34.970406 109.553906 L 38.853219 111.057813 L 42.739937 112.522656 L 46.626656 113.850781 L 50.509469 114.690625 L 54.396187 115.616406 L 58.282906 116.573438 L 62.165719 117.374219 L 66.052437 118.210156 L 69.939156 119.264844 L 73.825875 119.975781 L 77.708687 120.573438 L 81.595406 121.257031 L 85.482125 121.58125 L 89.364937 122.085156 L 93.251656 122.635938 L 97.138375 123.05 L 101.021187 123.553906 L 108.794625 124.522656 L 112.677437 125.003125 L 116.564156 125.292188 L 120.450875 125.565625 L 124.333687 125.874219 L 128.220406 126.155469 L 132.107125 126.440625 L 135.989937 126.698438 L 139.876656 126.995313 L 143.763375 127.264844 L 147.650094 127.51875 L 151.532906 127.721875 L 155.419625 127.952344 L 159.306344 128.139844 L 163.189156 128.378125 L 167.075875 128.538281 L 170.962594 128.7375 L 174.845406 128.917188 L 178.732125 129.077344 L 182.618844 129.311719 L 186.501656 129.510938 L 190.388375 129.717969 L 194.275094 129.858594 \" transform=\"matrix(1,0,0,-1,35.596,167.925)\"/>\n</g>\n<g clip-path=\"url(#clip-1580969628598078-3)\" clip-rule=\"nonzero\">\n<path style=\"fill:none;stroke-width:1.19553;stroke-linecap:butt;stroke-linejoin:miter;stroke:rgb(44.999695%,29.998779%,14.99939%);stroke-opacity:1;stroke-miterlimit:10;\" d=\"M 3.884469 17.753125 L 7.771187 32.600781 L 11.657906 44.436719 L 15.540719 54.95625 L 19.427437 63.882031 L 23.314156 71.417188 L 27.196969 76.870313 L 31.083687 81.846875 L 34.970406 85.667188 L 38.853219 89.526563 L 42.739937 92.878125 L 46.626656 95.507031 L 50.509469 98.01875 L 54.396187 100.159375 L 58.282906 102.14375 L 62.165719 103.839063 L 66.052437 105.335156 L 69.939156 106.729688 L 73.825875 108.05 L 77.708687 109.288281 L 81.595406 110.401563 L 85.482125 111.276563 L 89.364937 112.08125 L 93.251656 112.835156 L 97.138375 113.604688 L 101.021187 114.323438 L 104.907906 115.053906 L 108.794625 115.635938 L 112.677437 116.296094 L 116.564156 116.964063 L 120.450875 117.565625 L 124.333687 118.038281 L 128.220406 118.600781 L 132.107125 119.08125 L 135.989937 119.616406 L 139.876656 120.100781 L 143.763375 120.448438 L 147.650094 120.882031 L 151.532906 121.257031 L 155.419625 121.632031 L 159.306344 122.038281 L 163.189156 122.428906 L 167.075875 122.757031 L 170.962594 122.999219 L 174.845406 123.280469 L 178.732125 123.561719 L 182.618844 123.878125 L 186.501656 124.120313 L 190.388375 124.39375 L 194.275094 124.690625 \" transform=\"matrix(1,0,0,-1,35.596,167.925)\"/>\n</g>\n<g style=\"fill:rgb(0%,0%,0%);fill-opacity:1;\">\n  <use xlink:href=\"#glyph-1580969628598078-2-1\" x=\"121.838\" y=\"191.62\"/>\n  <use xlink:href=\"#glyph-1580969628598078-2-2\" x=\"128.622558\" y=\"191.62\"/>\n  <use xlink:href=\"#glyph-1580969628598078-2-3\" x=\"134.161786\" y=\"191.62\"/>\n  <use xlink:href=\"#glyph-1580969628598078-2-3\" x=\"136.9314\" y=\"191.62\"/>\n  <use xlink:href=\"#glyph-1580969628598078-2-4\" x=\"139.701014\" y=\"191.62\"/>\n</g>\n<g style=\"fill:rgb(0%,0%,0%);fill-opacity:1;\">\n  <use xlink:href=\"#glyph-1580969628598078-3-1\" x=\"10.454\" y=\"121.211\"/>\n</g>\n<g style=\"fill:rgb(0%,0%,0%);fill-opacity:1;\">\n  <use xlink:href=\"#glyph-1580969628598078-3-2\" x=\"10.454\" y=\"114.844873\"/>\n</g>\n<g style=\"fill:rgb(0%,0%,0%);fill-opacity:1;\">\n  <use xlink:href=\"#glyph-1580969628598078-3-3\" x=\"10.454\" y=\"109.863553\"/>\n  <use xlink:href=\"#glyph-1580969628598078-3-4\" x=\"10.454\" y=\"105.440141\"/>\n  <use xlink:href=\"#glyph-1580969628598078-3-5\" x=\"10.454\" y=\"101.534786\"/>\n  <use xlink:href=\"#glyph-1580969628598078-3-6\" x=\"10.454\" y=\"96.553466\"/>\n  <use xlink:href=\"#glyph-1580969628598078-3-3\" x=\"10.454\" y=\"91.572146\"/>\n</g>\n<g style=\"fill:rgb(0%,0%,0%);fill-opacity:1;\">\n  <use xlink:href=\"#glyph-1580969628598078-3-7\" x=\"10.454\" y=\"83.831175\"/>\n  <use xlink:href=\"#glyph-1580969628598078-3-8\" x=\"10.454\" y=\"79.905895\"/>\n  <use xlink:href=\"#glyph-1580969628598078-3-9\" x=\"10.454\" y=\"74.366667\"/>\n  <use xlink:href=\"#glyph-1580969628598078-3-9\" x=\"10.454\" y=\"69.943255\"/>\n  <use xlink:href=\"#glyph-1580969628598078-3-3\" x=\"10.454\" y=\"65.519842\"/>\n  <use xlink:href=\"#glyph-1580969628598078-3-7\" x=\"10.454\" y=\"61.09643\"/>\n  <use xlink:href=\"#glyph-1580969628598078-3-7\" x=\"10.454\" y=\"57.17115\"/>\n</g>\n<path style=\"fill-rule:nonzero;fill:rgb(100%,100%,100%);fill-opacity:1;stroke-width:0.3985;stroke-linecap:butt;stroke-linejoin:miter;stroke:rgb(0%,0%,0%);stroke-opacity:1;stroke-miterlimit:10;\" d=\"M 114.3415 5.042188 L 188.24775 5.042188 L 188.24775 46.315625 L 114.3415 46.315625 Z M 114.3415 5.042188 \" transform=\"matrix(1,0,0,-1,35.596,167.925)\"/>\n<path style=\"fill:none;stroke-width:1.19553;stroke-linecap:butt;stroke-linejoin:miter;stroke:rgb(0%,0%,100%);stroke-opacity:1;stroke-miterlimit:10;\" d=\"M 0.0014375 -0.00178125 L 17.00925 -0.00178125 \" transform=\"matrix(1,0,0,-1,153.522,129.799)\"/>\n<g style=\"fill:rgb(0%,0%,0%);fill-opacity:1;\">\n  <use xlink:href=\"#glyph-1580969628598078-2-5\" x=\"173.12\" y=\"132.509\"/>\n  <use xlink:href=\"#glyph-1580969628598078-2-6\" x=\"177.543412\" y=\"132.509\"/>\n  <use xlink:href=\"#glyph-1580969628598078-2-4\" x=\"183.08264\" y=\"132.509\"/>\n</g>\n<g style=\"fill:rgb(0%,0%,0%);fill-opacity:1;\">\n  <use xlink:href=\"#glyph-1580969628598078-2-7\" x=\"190.325479\" y=\"132.509\"/>\n  <use xlink:href=\"#glyph-1580969628598078-2-8\" x=\"195.306799\" y=\"132.509\"/>\n  <use xlink:href=\"#glyph-1580969628598078-2-5\" x=\"199.212154\" y=\"132.509\"/>\n  <use xlink:href=\"#glyph-1580969628598078-2-5\" x=\"203.635566\" y=\"132.509\"/>\n  <use xlink:href=\"#glyph-1580969628598078-2-9\" x=\"208.058978\" y=\"132.509\"/>\n  <use xlink:href=\"#glyph-1580969628598078-2-10\" x=\"213.598206\" y=\"132.509\"/>\n</g>\n<path style=\"fill:none;stroke-width:1.19553;stroke-linecap:butt;stroke-linejoin:miter;stroke:rgb(100%,0%,0%);stroke-opacity:1;stroke-miterlimit:10;\" d=\"M 0.0014375 0.00090625 L 17.00925 0.00090625 \" transform=\"matrix(1,0,0,-1,153.522,142.247)\"/>\n<g style=\"fill:rgb(0%,0%,0%);fill-opacity:1;\">\n  <use xlink:href=\"#glyph-1580969628598078-2-4\" x=\"173.12\" y=\"145.012\"/>\n  <use xlink:href=\"#glyph-1580969628598078-2-11\" x=\"177.04528\" y=\"145.012\"/>\n  <use xlink:href=\"#glyph-1580969628598078-2-12\" x=\"182.0266\" y=\"145.012\"/>\n  <use xlink:href=\"#glyph-1580969628598078-2-13\" x=\"185.075168\" y=\"145.012\"/>\n  <use xlink:href=\"#glyph-1580969628598078-2-14\" x=\"188.950635\" y=\"145.012\"/>\n  <use xlink:href=\"#glyph-1580969628598078-2-15\" x=\"197.249514\" y=\"145.012\"/>\n  <use xlink:href=\"#glyph-1580969628598078-2-16\" x=\"202.230834\" y=\"145.012\"/>\n</g>\n<path style=\"fill:none;stroke-width:1.19553;stroke-linecap:butt;stroke-linejoin:miter;stroke:rgb(44.999695%,29.998779%,14.99939%);stroke-opacity:1;stroke-miterlimit:10;\" d=\"M 0.0014375 -0.0003125 L 17.00925 -0.0003125 \" transform=\"matrix(1,0,0,-1,153.522,154.695)\"/>\n<g style=\"fill:rgb(0%,0%,0%);fill-opacity:1;\">\n  <use xlink:href=\"#glyph-1580969628598078-2-17\" x=\"173.12\" y=\"157.405\"/>\n  <use xlink:href=\"#glyph-1580969628598078-2-18\" x=\"175.889614\" y=\"157.405\"/>\n</g>\n<g style=\"fill:rgb(0%,0%,0%);fill-opacity:1;\">\n  <use xlink:href=\"#glyph-1580969628598078-2-13\" x=\"181.149888\" y=\"157.405\"/>\n  <use xlink:href=\"#glyph-1580969628598078-2-5\" x=\"185.025355\" y=\"157.405\"/>\n  <use xlink:href=\"#glyph-1580969628598078-2-8\" x=\"189.448767\" y=\"157.405\"/>\n  <use xlink:href=\"#glyph-1580969628598078-2-19\" x=\"193.354122\" y=\"157.405\"/>\n</g>\n<g style=\"fill:rgb(0%,0%,0%);fill-opacity:1;\">\n  <use xlink:href=\"#glyph-1580969628598078-2-15\" x=\"198.056488\" y=\"157.405\"/>\n  <use xlink:href=\"#glyph-1580969628598078-2-3\" x=\"203.037808\" y=\"157.405\"/>\n</g>\n</g>\n</svg>\n\n"
               },
               "type": "node"
              }
             ],
             "instanceArgs": {
              "namespace": "html",
              "tag": "div"
             },
             "nodeType": "DOM",
             "props": {
              "className": "interact-flex-row interact-widget"
             },
             "type": "node"
            }
           }
          },
          "systemjs_options": null
         },
         "nodeType": "Scope",
         "props": {},
         "type": "node"
        }
       ],
       "instanceArgs": {
        "namespace": "html",
        "tag": "div"
       },
       "nodeType": "DOM",
       "props": {},
       "type": "node"
      },
      "text/html": [
       "<div\n",
       "    class=\"webio-mountpoint\"\n",
       "    data-webio-mountpoint=\"548620482820126331\"\n",
       ">\n",
       "    <script>\n",
       "    if (window.require && require.defined && require.defined(\"nbextensions/webio-jupyter-notebook\")) {\n",
       "        console.log(\"Jupyter WebIO extension detected, not mounting.\");\n",
       "    } else if (window.WebIO) {\n",
       "        WebIO.mount(\n",
       "            document.querySelector('[data-webio-mountpoint=\"548620482820126331\"]'),\n",
       "            {\"props\":{},\"nodeType\":\"DOM\",\"type\":\"node\",\"instanceArgs\":{\"namespace\":\"html\",\"tag\":\"div\"},\"children\":[{\"props\":{\"className\":\"field interact-widget\"},\"nodeType\":\"DOM\",\"type\":\"node\",\"instanceArgs\":{\"namespace\":\"html\",\"tag\":\"div\"},\"children\":[{\"props\":{},\"nodeType\":\"Scope\",\"type\":\"node\",\"instanceArgs\":{\"imports\":{\"data\":[{\"name\":\"knockout\",\"type\":\"js\",\"url\":\"\\/assetserver\\/3e541dee53151b2c541f58d90425f0a0925f9e0f-knockout.js\"},{\"name\":\"knockout_punches\",\"type\":\"js\",\"url\":\"\\/assetserver\\/a2fe821063f7b9402a4f3a4f892ed8b183d4262e-knockout_punches.js\"},{\"name\":null,\"type\":\"js\",\"url\":\"\\/assetserver\\/dca5dacd6b773cb2d9b372cb162585b4bab6abce-all.js\"},{\"name\":null,\"type\":\"css\",\"url\":\"\\/assetserver\\/a1491573312c28f6fe82fff21946abae6141d461-style.css\"},{\"name\":null,\"type\":\"css\",\"url\":\"\\/assetserver\\/2b70ab798aa8d032d4d4df5efcc489d2c54ad5f7-bulma_confined.min.css\"}],\"type\":\"async_block\"},\"id\":\"10024902167655347411\",\"handlers\":{\"changes\":[\"(function (val){return (val!=this.model[\\\"changes\\\"]()) ? (this.valueFromJulia[\\\"changes\\\"]=true, this.model[\\\"changes\\\"](val)) : undefined})\"],\"index\":[\"(function (val){return (val!=this.model[\\\"index\\\"]()) ? (this.valueFromJulia[\\\"index\\\"]=true, this.model[\\\"index\\\"](val)) : undefined})\"]},\"systemjs_options\":null,\"mount_callbacks\":[\"function () {\\n    var handler = (function (ko, koPunches) {\\n    ko.punches.enableAll();\\n    ko.bindingHandlers.numericValue = {\\n        init: function(element, valueAccessor, allBindings, data, context) {\\n            var stringified = ko.observable(ko.unwrap(valueAccessor()));\\n            stringified.subscribe(function(value) {\\n                var val = parseFloat(value);\\n                if (!isNaN(val)) {\\n                    valueAccessor()(val);\\n                }\\n            });\\n            valueAccessor().subscribe(function(value) {\\n                var str = JSON.stringify(value);\\n                if ((str == \\\"0\\\") && ([\\\"-0\\\", \\\"-0.\\\"].indexOf(stringified()) >= 0))\\n                     return;\\n                 if ([\\\"null\\\", \\\"\\\"].indexOf(str) >= 0)\\n                     return;\\n                stringified(str);\\n            });\\n            ko.applyBindingsToNode(\\n                element,\\n                {\\n                    value: stringified,\\n                    valueUpdate: allBindings.get('valueUpdate'),\\n                },\\n                context,\\n            );\\n        }\\n    };\\n    var json_data = {\\\"formatted_vals\\\":[\\\"0.0\\\",\\\"0.1\\\",\\\"0.2\\\",\\\"0.3\\\",\\\"0.4\\\",\\\"0.5\\\",\\\"0.6\\\",\\\"0.7\\\",\\\"0.8\\\",\\\"0.9\\\",\\\"1.0\\\"],\\\"changes\\\":WebIO.getval({\\\"name\\\":\\\"changes\\\",\\\"scope\\\":\\\"10024902167655347411\\\",\\\"id\\\":\\\"ob_59\\\",\\\"type\\\":\\\"observable\\\"}),\\\"index\\\":WebIO.getval({\\\"name\\\":\\\"index\\\",\\\"scope\\\":\\\"10024902167655347411\\\",\\\"id\\\":\\\"ob_58\\\",\\\"type\\\":\\\"observable\\\"})};\\n    var self = this;\\n    function AppViewModel() {\\n        for (var key in json_data) {\\n            var el = json_data[key];\\n            this[key] = Array.isArray(el) ? ko.observableArray(el) : ko.observable(el);\\n        }\\n        \\n        [this[\\\"formatted_val\\\"]=ko.computed(    function(){\\n        return this.formatted_vals()[parseInt(this.index())-(1)];\\n    }\\n,this)]\\n        [this[\\\"changes\\\"].subscribe((function (val){!(this.valueFromJulia[\\\"changes\\\"]) ? (WebIO.setval({\\\"name\\\":\\\"changes\\\",\\\"scope\\\":\\\"10024902167655347411\\\",\\\"id\\\":\\\"ob_59\\\",\\\"type\\\":\\\"observable\\\"},val)) : undefined; return this.valueFromJulia[\\\"changes\\\"]=false}),self),this[\\\"index\\\"].subscribe((function (val){!(this.valueFromJulia[\\\"index\\\"]) ? (WebIO.setval({\\\"name\\\":\\\"index\\\",\\\"scope\\\":\\\"10024902167655347411\\\",\\\"id\\\":\\\"ob_58\\\",\\\"type\\\":\\\"observable\\\"},val)) : undefined; return this.valueFromJulia[\\\"index\\\"]=false}),self)]\\n        \\n    }\\n    self.model = new AppViewModel();\\n    self.valueFromJulia = {};\\n    for (var key in json_data) {\\n        self.valueFromJulia[key] = false;\\n    }\\n    ko.applyBindings(self.model, self.dom);\\n}\\n);\\n    (WebIO.importBlock({\\\"data\\\":[{\\\"name\\\":\\\"knockout\\\",\\\"type\\\":\\\"js\\\",\\\"url\\\":\\\"\\/assetserver\\/3e541dee53151b2c541f58d90425f0a0925f9e0f-knockout.js\\\"},{\\\"name\\\":\\\"knockout_punches\\\",\\\"type\\\":\\\"js\\\",\\\"url\\\":\\\"\\/assetserver\\/a2fe821063f7b9402a4f3a4f892ed8b183d4262e-knockout_punches.js\\\"}],\\\"type\\\":\\\"async_block\\\"})).then((imports) => handler.apply(this, imports));\\n}\\n\"],\"observables\":{\"changes\":{\"sync\":false,\"id\":\"ob_59\",\"value\":0},\"index\":{\"sync\":true,\"id\":\"ob_58\",\"value\":6}}},\"children\":[{\"props\":{\"className\":\"interact-flex-row interact-widget\"},\"nodeType\":\"DOM\",\"type\":\"node\",\"instanceArgs\":{\"namespace\":\"html\",\"tag\":\"div\"},\"children\":[{\"props\":{\"className\":\"interact-flex-row-left\"},\"nodeType\":\"DOM\",\"type\":\"node\",\"instanceArgs\":{\"namespace\":\"html\",\"tag\":\"div\"},\"children\":[{\"props\":{\"className\":\"interact \",\"style\":{\"padding\":\"5px 10px 0px 10px\"}},\"nodeType\":\"DOM\",\"type\":\"node\",\"instanceArgs\":{\"namespace\":\"html\",\"tag\":\"label\"},\"children\":[\"epsgreedy\"]}]},{\"props\":{\"className\":\"interact-flex-row-center\"},\"nodeType\":\"DOM\",\"type\":\"node\",\"instanceArgs\":{\"namespace\":\"html\",\"tag\":\"div\"},\"children\":[{\"props\":{\"max\":11,\"min\":1,\"attributes\":{\"type\":\"range\",\"data-bind\":\"numericValue: index, valueUpdate: 'input', event: {change: function (){this.changes(this.changes()+1)}}\",\"orient\":\"horizontal\"},\"step\":1,\"className\":\"slider slider is-fullwidth\",\"style\":{}},\"nodeType\":\"DOM\",\"type\":\"node\",\"instanceArgs\":{\"namespace\":\"html\",\"tag\":\"input\"},\"children\":[]}]},{\"props\":{\"className\":\"interact-flex-row-right\"},\"nodeType\":\"DOM\",\"type\":\"node\",\"instanceArgs\":{\"namespace\":\"html\",\"tag\":\"div\"},\"children\":[{\"props\":{\"attributes\":{\"data-bind\":\"text: formatted_val\"}},\"nodeType\":\"DOM\",\"type\":\"node\",\"instanceArgs\":{\"namespace\":\"html\",\"tag\":\"p\"},\"children\":[]}]}]}]}]},{\"props\":{\"className\":\"field interact-widget\"},\"nodeType\":\"DOM\",\"type\":\"node\",\"instanceArgs\":{\"namespace\":\"html\",\"tag\":\"div\"},\"children\":[{\"props\":{},\"nodeType\":\"Scope\",\"type\":\"node\",\"instanceArgs\":{\"imports\":{\"data\":[{\"name\":\"knockout\",\"type\":\"js\",\"url\":\"\\/assetserver\\/3e541dee53151b2c541f58d90425f0a0925f9e0f-knockout.js\"},{\"name\":\"knockout_punches\",\"type\":\"js\",\"url\":\"\\/assetserver\\/a2fe821063f7b9402a4f3a4f892ed8b183d4262e-knockout_punches.js\"},{\"name\":null,\"type\":\"js\",\"url\":\"\\/assetserver\\/dca5dacd6b773cb2d9b372cb162585b4bab6abce-all.js\"},{\"name\":null,\"type\":\"css\",\"url\":\"\\/assetserver\\/a1491573312c28f6fe82fff21946abae6141d461-style.css\"},{\"name\":null,\"type\":\"css\",\"url\":\"\\/assetserver\\/2b70ab798aa8d032d4d4df5efcc489d2c54ad5f7-bulma_confined.min.css\"}],\"type\":\"async_block\"},\"id\":\"16655771311277717643\",\"handlers\":{\"changes\":[\"(function (val){return (val!=this.model[\\\"changes\\\"]()) ? (this.valueFromJulia[\\\"changes\\\"]=true, this.model[\\\"changes\\\"](val)) : undefined})\"],\"index\":[\"(function (val){return (val!=this.model[\\\"index\\\"]()) ? (this.valueFromJulia[\\\"index\\\"]=true, this.model[\\\"index\\\"](val)) : undefined})\"]},\"systemjs_options\":null,\"mount_callbacks\":[\"function () {\\n    var handler = (function (ko, koPunches) {\\n    ko.punches.enableAll();\\n    ko.bindingHandlers.numericValue = {\\n        init: function(element, valueAccessor, allBindings, data, context) {\\n            var stringified = ko.observable(ko.unwrap(valueAccessor()));\\n            stringified.subscribe(function(value) {\\n                var val = parseFloat(value);\\n                if (!isNaN(val)) {\\n                    valueAccessor()(val);\\n                }\\n            });\\n            valueAccessor().subscribe(function(value) {\\n                var str = JSON.stringify(value);\\n                if ((str == \\\"0\\\") && ([\\\"-0\\\", \\\"-0.\\\"].indexOf(stringified()) >= 0))\\n                     return;\\n                 if ([\\\"null\\\", \\\"\\\"].indexOf(str) >= 0)\\n                     return;\\n                stringified(str);\\n            });\\n            ko.applyBindingsToNode(\\n                element,\\n                {\\n                    value: stringified,\\n                    valueUpdate: allBindings.get('valueUpdate'),\\n                },\\n                context,\\n            );\\n        }\\n    };\\n    var json_data = {\\\"formatted_vals\\\":[\\\"0\\\",\\\"2\\\",\\\"4\\\",\\\"6\\\",\\\"8\\\",\\\"10\\\",\\\"12\\\",\\\"14\\\",\\\"16\\\",\\\"18\\\",\\\"20\\\",\\\"22\\\",\\\"24\\\",\\\"26\\\",\\\"28\\\",\\\"30\\\",\\\"32\\\",\\\"34\\\",\\\"36\\\",\\\"38\\\",\\\"40\\\"],\\\"changes\\\":WebIO.getval({\\\"name\\\":\\\"changes\\\",\\\"scope\\\":\\\"16655771311277717643\\\",\\\"id\\\":\\\"ob_62\\\",\\\"type\\\":\\\"observable\\\"}),\\\"index\\\":WebIO.getval({\\\"name\\\":\\\"index\\\",\\\"scope\\\":\\\"16655771311277717643\\\",\\\"id\\\":\\\"ob_61\\\",\\\"type\\\":\\\"observable\\\"})};\\n    var self = this;\\n    function AppViewModel() {\\n        for (var key in json_data) {\\n            var el = json_data[key];\\n            this[key] = Array.isArray(el) ? ko.observableArray(el) : ko.observable(el);\\n        }\\n        \\n        [this[\\\"formatted_val\\\"]=ko.computed(    function(){\\n        return this.formatted_vals()[parseInt(this.index())-(1)];\\n    }\\n,this)]\\n        [this[\\\"changes\\\"].subscribe((function (val){!(this.valueFromJulia[\\\"changes\\\"]) ? (WebIO.setval({\\\"name\\\":\\\"changes\\\",\\\"scope\\\":\\\"16655771311277717643\\\",\\\"id\\\":\\\"ob_62\\\",\\\"type\\\":\\\"observable\\\"},val)) : undefined; return this.valueFromJulia[\\\"changes\\\"]=false}),self),this[\\\"index\\\"].subscribe((function (val){!(this.valueFromJulia[\\\"index\\\"]) ? (WebIO.setval({\\\"name\\\":\\\"index\\\",\\\"scope\\\":\\\"16655771311277717643\\\",\\\"id\\\":\\\"ob_61\\\",\\\"type\\\":\\\"observable\\\"},val)) : undefined; return this.valueFromJulia[\\\"index\\\"]=false}),self)]\\n        \\n    }\\n    self.model = new AppViewModel();\\n    self.valueFromJulia = {};\\n    for (var key in json_data) {\\n        self.valueFromJulia[key] = false;\\n    }\\n    ko.applyBindings(self.model, self.dom);\\n}\\n);\\n    (WebIO.importBlock({\\\"data\\\":[{\\\"name\\\":\\\"knockout\\\",\\\"type\\\":\\\"js\\\",\\\"url\\\":\\\"\\/assetserver\\/3e541dee53151b2c541f58d90425f0a0925f9e0f-knockout.js\\\"},{\\\"name\\\":\\\"knockout_punches\\\",\\\"type\\\":\\\"js\\\",\\\"url\\\":\\\"\\/assetserver\\/a2fe821063f7b9402a4f3a4f892ed8b183d4262e-knockout_punches.js\\\"}],\\\"type\\\":\\\"async_block\\\"})).then((imports) => handler.apply(this, imports));\\n}\\n\"],\"observables\":{\"changes\":{\"sync\":false,\"id\":\"ob_62\",\"value\":0},\"index\":{\"sync\":true,\"id\":\"ob_61\",\"value\":11}}},\"children\":[{\"props\":{\"className\":\"interact-flex-row interact-widget\"},\"nodeType\":\"DOM\",\"type\":\"node\",\"instanceArgs\":{\"namespace\":\"html\",\"tag\":\"div\"},\"children\":[{\"props\":{\"className\":\"interact-flex-row-left\"},\"nodeType\":\"DOM\",\"type\":\"node\",\"instanceArgs\":{\"namespace\":\"html\",\"tag\":\"div\"},\"children\":[{\"props\":{\"className\":\"interact \",\"style\":{\"padding\":\"5px 10px 0px 10px\"}},\"nodeType\":\"DOM\",\"type\":\"node\",\"instanceArgs\":{\"namespace\":\"html\",\"tag\":\"label\"},\"children\":[\"softmax\"]}]},{\"props\":{\"className\":\"interact-flex-row-center\"},\"nodeType\":\"DOM\",\"type\":\"node\",\"instanceArgs\":{\"namespace\":\"html\",\"tag\":\"div\"},\"children\":[{\"props\":{\"max\":21,\"min\":1,\"attributes\":{\"type\":\"range\",\"data-bind\":\"numericValue: index, valueUpdate: 'input', event: {change: function (){this.changes(this.changes()+1)}}\",\"orient\":\"horizontal\"},\"step\":1,\"className\":\"slider slider is-fullwidth\",\"style\":{}},\"nodeType\":\"DOM\",\"type\":\"node\",\"instanceArgs\":{\"namespace\":\"html\",\"tag\":\"input\"},\"children\":[]}]},{\"props\":{\"className\":\"interact-flex-row-right\"},\"nodeType\":\"DOM\",\"type\":\"node\",\"instanceArgs\":{\"namespace\":\"html\",\"tag\":\"div\"},\"children\":[{\"props\":{\"attributes\":{\"data-bind\":\"text: formatted_val\"}},\"nodeType\":\"DOM\",\"type\":\"node\",\"instanceArgs\":{\"namespace\":\"html\",\"tag\":\"p\"},\"children\":[]}]}]}]}]},{\"props\":{\"className\":\"field interact-widget\"},\"nodeType\":\"DOM\",\"type\":\"node\",\"instanceArgs\":{\"namespace\":\"html\",\"tag\":\"div\"},\"children\":[{\"props\":{},\"nodeType\":\"Scope\",\"type\":\"node\",\"instanceArgs\":{\"imports\":{\"data\":[{\"name\":\"knockout\",\"type\":\"js\",\"url\":\"\\/assetserver\\/3e541dee53151b2c541f58d90425f0a0925f9e0f-knockout.js\"},{\"name\":\"knockout_punches\",\"type\":\"js\",\"url\":\"\\/assetserver\\/a2fe821063f7b9402a4f3a4f892ed8b183d4262e-knockout_punches.js\"},{\"name\":null,\"type\":\"js\",\"url\":\"\\/assetserver\\/dca5dacd6b773cb2d9b372cb162585b4bab6abce-all.js\"},{\"name\":null,\"type\":\"css\",\"url\":\"\\/assetserver\\/a1491573312c28f6fe82fff21946abae6141d461-style.css\"},{\"name\":null,\"type\":\"css\",\"url\":\"\\/assetserver\\/2b70ab798aa8d032d4d4df5efcc489d2c54ad5f7-bulma_confined.min.css\"}],\"type\":\"async_block\"},\"id\":\"6657888885061492283\",\"handlers\":{\"changes\":[\"(function (val){return (val!=this.model[\\\"changes\\\"]()) ? (this.valueFromJulia[\\\"changes\\\"]=true, this.model[\\\"changes\\\"](val)) : undefined})\"],\"index\":[\"(function (val){return (val!=this.model[\\\"index\\\"]()) ? (this.valueFromJulia[\\\"index\\\"]=true, this.model[\\\"index\\\"](val)) : undefined})\"]},\"systemjs_options\":null,\"mount_callbacks\":[\"function () {\\n    var handler = (function (ko, koPunches) {\\n    ko.punches.enableAll();\\n    ko.bindingHandlers.numericValue = {\\n        init: function(element, valueAccessor, allBindings, data, context) {\\n            var stringified = ko.observable(ko.unwrap(valueAccessor()));\\n            stringified.subscribe(function(value) {\\n                var val = parseFloat(value);\\n                if (!isNaN(val)) {\\n                    valueAccessor()(val);\\n                }\\n            });\\n            valueAccessor().subscribe(function(value) {\\n                var str = JSON.stringify(value);\\n                if ((str == \\\"0\\\") && ([\\\"-0\\\", \\\"-0.\\\"].indexOf(stringified()) >= 0))\\n                     return;\\n                 if ([\\\"null\\\", \\\"\\\"].indexOf(str) >= 0)\\n                     return;\\n                stringified(str);\\n            });\\n            ko.applyBindingsToNode(\\n                element,\\n                {\\n                    value: stringified,\\n                    valueUpdate: allBindings.get('valueUpdate'),\\n                },\\n                context,\\n            );\\n        }\\n    };\\n    var json_data = {\\\"formatted_vals\\\":[\\\"0.5\\\",\\\"0.55\\\",\\\"0.6\\\",\\\"0.65\\\",\\\"0.7\\\",\\\"0.75\\\",\\\"0.8\\\",\\\"0.85\\\",\\\"0.9\\\",\\\"0.95\\\",\\\"1.0\\\"],\\\"changes\\\":WebIO.getval({\\\"name\\\":\\\"changes\\\",\\\"scope\\\":\\\"6657888885061492283\\\",\\\"id\\\":\\\"ob_65\\\",\\\"type\\\":\\\"observable\\\"}),\\\"index\\\":WebIO.getval({\\\"name\\\":\\\"index\\\",\\\"scope\\\":\\\"6657888885061492283\\\",\\\"id\\\":\\\"ob_64\\\",\\\"type\\\":\\\"observable\\\"})};\\n    var self = this;\\n    function AppViewModel() {\\n        for (var key in json_data) {\\n            var el = json_data[key];\\n            this[key] = Array.isArray(el) ? ko.observableArray(el) : ko.observable(el);\\n        }\\n        \\n        [this[\\\"formatted_val\\\"]=ko.computed(    function(){\\n        return this.formatted_vals()[parseInt(this.index())-(1)];\\n    }\\n,this)]\\n        [this[\\\"changes\\\"].subscribe((function (val){!(this.valueFromJulia[\\\"changes\\\"]) ? (WebIO.setval({\\\"name\\\":\\\"changes\\\",\\\"scope\\\":\\\"6657888885061492283\\\",\\\"id\\\":\\\"ob_65\\\",\\\"type\\\":\\\"observable\\\"},val)) : undefined; return this.valueFromJulia[\\\"changes\\\"]=false}),self),this[\\\"index\\\"].subscribe((function (val){!(this.valueFromJulia[\\\"index\\\"]) ? (WebIO.setval({\\\"name\\\":\\\"index\\\",\\\"scope\\\":\\\"6657888885061492283\\\",\\\"id\\\":\\\"ob_64\\\",\\\"type\\\":\\\"observable\\\"},val)) : undefined; return this.valueFromJulia[\\\"index\\\"]=false}),self)]\\n        \\n    }\\n    self.model = new AppViewModel();\\n    self.valueFromJulia = {};\\n    for (var key in json_data) {\\n        self.valueFromJulia[key] = false;\\n    }\\n    ko.applyBindings(self.model, self.dom);\\n}\\n);\\n    (WebIO.importBlock({\\\"data\\\":[{\\\"name\\\":\\\"knockout\\\",\\\"type\\\":\\\"js\\\",\\\"url\\\":\\\"\\/assetserver\\/3e541dee53151b2c541f58d90425f0a0925f9e0f-knockout.js\\\"},{\\\"name\\\":\\\"knockout_punches\\\",\\\"type\\\":\\\"js\\\",\\\"url\\\":\\\"\\/assetserver\\/a2fe821063f7b9402a4f3a4f892ed8b183d4262e-knockout_punches.js\\\"}],\\\"type\\\":\\\"async_block\\\"})).then((imports) => handler.apply(this, imports));\\n}\\n\"],\"observables\":{\"changes\":{\"sync\":false,\"id\":\"ob_65\",\"value\":0},\"index\":{\"sync\":true,\"id\":\"ob_64\",\"value\":6}}},\"children\":[{\"props\":{\"className\":\"interact-flex-row interact-widget\"},\"nodeType\":\"DOM\",\"type\":\"node\",\"instanceArgs\":{\"namespace\":\"html\",\"tag\":\"div\"},\"children\":[{\"props\":{\"className\":\"interact-flex-row-left\"},\"nodeType\":\"DOM\",\"type\":\"node\",\"instanceArgs\":{\"namespace\":\"html\",\"tag\":\"div\"},\"children\":[{\"props\":{\"className\":\"interact \",\"style\":{\"padding\":\"5px 10px 0px 10px\"}},\"nodeType\":\"DOM\",\"type\":\"node\",\"instanceArgs\":{\"namespace\":\"html\",\"tag\":\"label\"},\"children\":[\"interval\"]}]},{\"props\":{\"className\":\"interact-flex-row-center\"},\"nodeType\":\"DOM\",\"type\":\"node\",\"instanceArgs\":{\"namespace\":\"html\",\"tag\":\"div\"},\"children\":[{\"props\":{\"max\":11,\"min\":1,\"attributes\":{\"type\":\"range\",\"data-bind\":\"numericValue: index, valueUpdate: 'input', event: {change: function (){this.changes(this.changes()+1)}}\",\"orient\":\"horizontal\"},\"step\":1,\"className\":\"slider slider is-fullwidth\",\"style\":{}},\"nodeType\":\"DOM\",\"type\":\"node\",\"instanceArgs\":{\"namespace\":\"html\",\"tag\":\"input\"},\"children\":[]}]},{\"props\":{\"className\":\"interact-flex-row-right\"},\"nodeType\":\"DOM\",\"type\":\"node\",\"instanceArgs\":{\"namespace\":\"html\",\"tag\":\"div\"},\"children\":[{\"props\":{\"attributes\":{\"data-bind\":\"text: formatted_val\"}},\"nodeType\":\"DOM\",\"type\":\"node\",\"instanceArgs\":{\"namespace\":\"html\",\"tag\":\"p\"},\"children\":[]}]}]}]}]},{\"props\":{},\"nodeType\":\"Scope\",\"type\":\"node\",\"instanceArgs\":{\"imports\":{\"data\":[],\"type\":\"async_block\"},\"id\":\"8165521815253036407\",\"handlers\":{},\"systemjs_options\":null,\"mount_callbacks\":[],\"observables\":{\"obs-node\":{\"sync\":false,\"id\":\"ob_69\",\"value\":{\"props\":{\"className\":\"interact-flex-row interact-widget\"},\"nodeType\":\"DOM\",\"type\":\"node\",\"instanceArgs\":{\"namespace\":\"html\",\"tag\":\"div\"},\"children\":[{\"props\":{\"setInnerHtml\":\"<?xml version=\\\"1.0\\\" encoding=\\\"UTF-8\\\"?>\\n<svg xmlns=\\\"http:\\/\\/www.w3.org\\/2000\\/svg\\\" xmlns:xlink=\\\"http:\\/\\/www.w3.org\\/1999\\/xlink\\\" width=\\\"238.169pt\\\" height=\\\"195.05pt\\\" viewBox=\\\"0 0 238.169 195.05\\\" version=\\\"1.1\\\">\\n<defs>\\n<g>\\n<symbol overflow=\\\"visible\\\" id=\\\"glyph-1580969628598077-0-0\\\">\\n<path style=\\\"stroke:none;\\\" d=\\\"\\\"\\/>\\n<\\/symbol>\\n<symbol overflow=\\\"visible\\\" id=\\\"glyph-1580969628598077-0-1\\\">\\n<path style=\\\"stroke:none;\\\" d=\\\"M 4.578125 -3.1875 C 4.578125 -3.984375 4.53125 -4.78125 4.1875 -5.515625 C 3.734375 -6.484375 2.90625 -6.640625 2.5 -6.640625 C 1.890625 -6.640625 1.171875 -6.375 0.75 -5.453125 C 0.4375 -4.765625 0.390625 -3.984375 0.390625 -3.1875 C 0.390625 -2.4375 0.421875 -1.546875 0.84375 -0.78125 C 1.265625 0.015625 2 0.21875 2.484375 0.21875 C 3.015625 0.21875 3.78125 0.015625 4.21875 -0.9375 C 4.53125 -1.625 4.578125 -2.40625 4.578125 -3.1875 Z M 2.484375 0 C 2.09375 0 1.5 -0.25 1.328125 -1.203125 C 1.21875 -1.796875 1.21875 -2.71875 1.21875 -3.3125 C 1.21875 -3.953125 1.21875 -4.609375 1.296875 -5.140625 C 1.484375 -6.328125 2.234375 -6.421875 2.484375 -6.421875 C 2.8125 -6.421875 3.46875 -6.234375 3.65625 -5.25 C 3.765625 -4.6875 3.765625 -3.9375 3.765625 -3.3125 C 3.765625 -2.5625 3.765625 -1.890625 3.65625 -1.25 C 3.5 -0.296875 2.9375 0 2.484375 0 Z M 2.484375 0 \\\"\\/>\\n<\\/symbol>\\n<symbol overflow=\\\"visible\\\" id=\\\"glyph-1580969628598077-0-2\\\">\\n<path style=\\\"stroke:none;\\\" d=\\\"M 2.9375 -6.375 C 2.9375 -6.625 2.9375 -6.640625 2.703125 -6.640625 C 2.078125 -6 1.203125 -6 0.890625 -6 L 0.890625 -5.6875 C 1.09375 -5.6875 1.671875 -5.6875 2.1875 -5.953125 L 2.1875 -0.78125 C 2.1875 -0.421875 2.15625 -0.3125 1.265625 -0.3125 L 0.953125 -0.3125 L 0.953125 0 C 1.296875 -0.03125 2.15625 -0.03125 2.5625 -0.03125 C 2.953125 -0.03125 3.828125 -0.03125 4.171875 0 L 4.171875 -0.3125 L 3.859375 -0.3125 C 2.953125 -0.3125 2.9375 -0.421875 2.9375 -0.78125 Z M 2.9375 -6.375 \\\"\\/>\\n<\\/symbol>\\n<symbol overflow=\\\"visible\\\" id=\\\"glyph-1580969628598077-0-3\\\">\\n<path style=\\\"stroke:none;\\\" d=\\\"M 1.265625 -0.765625 L 2.328125 -1.796875 C 3.875 -3.171875 4.46875 -3.703125 4.46875 -4.703125 C 4.46875 -5.84375 3.578125 -6.640625 2.359375 -6.640625 C 1.234375 -6.640625 0.5 -5.71875 0.5 -4.828125 C 0.5 -4.28125 1 -4.28125 1.03125 -4.28125 C 1.203125 -4.28125 1.546875 -4.390625 1.546875 -4.8125 C 1.546875 -5.0625 1.359375 -5.328125 1.015625 -5.328125 C 0.9375 -5.328125 0.921875 -5.328125 0.890625 -5.3125 C 1.109375 -5.96875 1.65625 -6.328125 2.234375 -6.328125 C 3.140625 -6.328125 3.5625 -5.515625 3.5625 -4.703125 C 3.5625 -3.90625 3.078125 -3.125 2.515625 -2.5 L 0.609375 -0.375 C 0.5 -0.265625 0.5 -0.234375 0.5 0 L 4.203125 0 L 4.46875 -1.734375 L 4.234375 -1.734375 C 4.171875 -1.4375 4.109375 -1 4 -0.84375 C 3.9375 -0.765625 3.28125 -0.765625 3.0625 -0.765625 Z M 1.265625 -0.765625 \\\"\\/>\\n<\\/symbol>\\n<symbol overflow=\\\"visible\\\" id=\\\"glyph-1580969628598077-0-4\\\">\\n<path style=\\\"stroke:none;\\\" d=\\\"M 2.890625 -3.515625 C 3.703125 -3.78125 4.28125 -4.46875 4.28125 -5.265625 C 4.28125 -6.078125 3.40625 -6.640625 2.453125 -6.640625 C 1.453125 -6.640625 0.6875 -6.046875 0.6875 -5.28125 C 0.6875 -4.953125 0.90625 -4.765625 1.203125 -4.765625 C 1.5 -4.765625 1.703125 -4.984375 1.703125 -5.28125 C 1.703125 -5.765625 1.234375 -5.765625 1.09375 -5.765625 C 1.390625 -6.265625 2.046875 -6.390625 2.40625 -6.390625 C 2.828125 -6.390625 3.375 -6.171875 3.375 -5.28125 C 3.375 -5.15625 3.34375 -4.578125 3.09375 -4.140625 C 2.796875 -3.65625 2.453125 -3.625 2.203125 -3.625 C 2.125 -3.609375 1.890625 -3.59375 1.8125 -3.59375 C 1.734375 -3.578125 1.671875 -3.5625 1.671875 -3.46875 C 1.671875 -3.359375 1.734375 -3.359375 1.90625 -3.359375 L 2.34375 -3.359375 C 3.15625 -3.359375 3.53125 -2.6875 3.53125 -1.703125 C 3.53125 -0.34375 2.84375 -0.0625 2.40625 -0.0625 C 1.96875 -0.0625 1.21875 -0.234375 0.875 -0.8125 C 1.21875 -0.765625 1.53125 -0.984375 1.53125 -1.359375 C 1.53125 -1.71875 1.265625 -1.921875 0.984375 -1.921875 C 0.734375 -1.921875 0.421875 -1.78125 0.421875 -1.34375 C 0.421875 -0.4375 1.34375 0.21875 2.4375 0.21875 C 3.65625 0.21875 4.5625 -0.6875 4.5625 -1.703125 C 4.5625 -2.515625 3.921875 -3.296875 2.890625 -3.515625 Z M 2.890625 -3.515625 \\\"\\/>\\n<\\/symbol>\\n<symbol overflow=\\\"visible\\\" id=\\\"glyph-1580969628598077-0-5\\\">\\n<path style=\\\"stroke:none;\\\" d=\\\"M 2.9375 -1.640625 L 2.9375 -0.78125 C 2.9375 -0.421875 2.90625 -0.3125 2.171875 -0.3125 L 1.96875 -0.3125 L 1.96875 0 C 2.375 -0.03125 2.890625 -0.03125 3.3125 -0.03125 C 3.734375 -0.03125 4.25 -0.03125 4.671875 0 L 4.671875 -0.3125 L 4.453125 -0.3125 C 3.71875 -0.3125 3.703125 -0.421875 3.703125 -0.78125 L 3.703125 -1.640625 L 4.6875 -1.640625 L 4.6875 -1.953125 L 3.703125 -1.953125 L 3.703125 -6.484375 C 3.703125 -6.6875 3.703125 -6.75 3.53125 -6.75 C 3.453125 -6.75 3.421875 -6.75 3.34375 -6.625 L 0.28125 -1.953125 L 0.28125 -1.640625 Z M 2.984375 -1.953125 L 0.5625 -1.953125 L 2.984375 -5.671875 Z M 2.984375 -1.953125 \\\"\\/>\\n<\\/symbol>\\n<symbol overflow=\\\"visible\\\" id=\\\"glyph-1580969628598077-0-6\\\">\\n<path style=\\\"stroke:none;\\\" d=\\\"M 4.46875 -2 C 4.46875 -3.1875 3.65625 -4.1875 2.578125 -4.1875 C 2.109375 -4.1875 1.671875 -4.03125 1.3125 -3.671875 L 1.3125 -5.625 C 1.515625 -5.5625 1.84375 -5.5 2.15625 -5.5 C 3.390625 -5.5 4.09375 -6.40625 4.09375 -6.53125 C 4.09375 -6.59375 4.0625 -6.640625 3.984375 -6.640625 C 3.984375 -6.640625 3.953125 -6.640625 3.90625 -6.609375 C 3.703125 -6.515625 3.21875 -6.3125 2.546875 -6.3125 C 2.15625 -6.3125 1.6875 -6.390625 1.21875 -6.59375 C 1.140625 -6.625 1.125 -6.625 1.109375 -6.625 C 1 -6.625 1 -6.546875 1 -6.390625 L 1 -3.4375 C 1 -3.265625 1 -3.1875 1.140625 -3.1875 C 1.21875 -3.1875 1.234375 -3.203125 1.28125 -3.265625 C 1.390625 -3.421875 1.75 -3.96875 2.5625 -3.96875 C 3.078125 -3.96875 3.328125 -3.515625 3.40625 -3.328125 C 3.5625 -2.953125 3.59375 -2.578125 3.59375 -2.078125 C 3.59375 -1.71875 3.59375 -1.125 3.34375 -0.703125 C 3.109375 -0.3125 2.734375 -0.0625 2.28125 -0.0625 C 1.5625 -0.0625 0.984375 -0.59375 0.8125 -1.171875 C 0.84375 -1.171875 0.875 -1.15625 0.984375 -1.15625 C 1.3125 -1.15625 1.484375 -1.40625 1.484375 -1.640625 C 1.484375 -1.890625 1.3125 -2.140625 0.984375 -2.140625 C 0.84375 -2.140625 0.5 -2.0625 0.5 -1.609375 C 0.5 -0.75 1.1875 0.21875 2.296875 0.21875 C 3.453125 0.21875 4.46875 -0.734375 4.46875 -2 Z M 4.46875 -2 \\\"\\/>\\n<\\/symbol>\\n<symbol overflow=\\\"visible\\\" id=\\\"glyph-1580969628598077-0-7\\\">\\n<path style=\\\"stroke:none;\\\" d=\\\"M 1.3125 -3.265625 L 1.3125 -3.515625 C 1.3125 -6.03125 2.546875 -6.390625 3.0625 -6.390625 C 3.296875 -6.390625 3.71875 -6.328125 3.9375 -5.984375 C 3.78125 -5.984375 3.390625 -5.984375 3.390625 -5.546875 C 3.390625 -5.234375 3.625 -5.078125 3.84375 -5.078125 C 4 -5.078125 4.3125 -5.171875 4.3125 -5.5625 C 4.3125 -6.15625 3.875 -6.640625 3.046875 -6.640625 C 1.765625 -6.640625 0.421875 -5.359375 0.421875 -3.15625 C 0.421875 -0.484375 1.578125 0.21875 2.5 0.21875 C 3.609375 0.21875 4.5625 -0.71875 4.5625 -2.03125 C 4.5625 -3.296875 3.671875 -4.25 2.5625 -4.25 C 1.890625 -4.25 1.515625 -3.75 1.3125 -3.265625 Z M 2.5 -0.0625 C 1.875 -0.0625 1.578125 -0.65625 1.515625 -0.8125 C 1.328125 -1.28125 1.328125 -2.078125 1.328125 -2.25 C 1.328125 -3.03125 1.65625 -4.03125 2.546875 -4.03125 C 2.71875 -4.03125 3.171875 -4.03125 3.484375 -3.40625 C 3.65625 -3.046875 3.65625 -2.53125 3.65625 -2.046875 C 3.65625 -1.5625 3.65625 -1.0625 3.484375 -0.703125 C 3.1875 -0.109375 2.734375 -0.0625 2.5 -0.0625 Z M 2.5 -0.0625 \\\"\\/>\\n<\\/symbol>\\n<symbol overflow=\\\"visible\\\" id=\\\"glyph-1580969628598077-0-8\\\">\\n<path style=\\\"stroke:none;\\\" d=\\\"M 1.625 -4.5625 C 1.171875 -4.859375 1.125 -5.1875 1.125 -5.359375 C 1.125 -5.96875 1.78125 -6.390625 2.484375 -6.390625 C 3.203125 -6.390625 3.84375 -5.875 3.84375 -5.15625 C 3.84375 -4.578125 3.453125 -4.109375 2.859375 -3.765625 Z M 3.078125 -3.609375 C 3.796875 -3.984375 4.28125 -4.5 4.28125 -5.15625 C 4.28125 -6.078125 3.40625 -6.640625 2.5 -6.640625 C 1.5 -6.640625 0.6875 -5.90625 0.6875 -4.96875 C 0.6875 -4.796875 0.703125 -4.34375 1.125 -3.875 C 1.234375 -3.765625 1.609375 -3.515625 1.859375 -3.34375 C 1.28125 -3.046875 0.421875 -2.5 0.421875 -1.5 C 0.421875 -0.453125 1.4375 0.21875 2.484375 0.21875 C 3.609375 0.21875 4.5625 -0.609375 4.5625 -1.671875 C 4.5625 -2.03125 4.453125 -2.484375 4.0625 -2.90625 C 3.875 -3.109375 3.71875 -3.203125 3.078125 -3.609375 Z M 2.078125 -3.1875 L 3.3125 -2.40625 C 3.59375 -2.21875 4.0625 -1.921875 4.0625 -1.3125 C 4.0625 -0.578125 3.3125 -0.0625 2.5 -0.0625 C 1.640625 -0.0625 0.921875 -0.671875 0.921875 -1.5 C 0.921875 -2.078125 1.234375 -2.71875 2.078125 -3.1875 Z M 2.078125 -3.1875 \\\"\\/>\\n<\\/symbol>\\n<symbol overflow=\\\"visible\\\" id=\\\"glyph-1580969628598077-1-0\\\">\\n<path style=\\\"stroke:none;\\\" d=\\\"\\\"\\/>\\n<\\/symbol>\\n<symbol overflow=\\\"visible\\\" id=\\\"glyph-1580969628598077-1-1\\\">\\n<path style=\\\"stroke:none;\\\" d=\\\"M 1.90625 -0.53125 C 1.90625 -0.8125 1.671875 -1.0625 1.390625 -1.0625 C 1.09375 -1.0625 0.859375 -0.8125 0.859375 -0.53125 C 0.859375 -0.234375 1.09375 0 1.390625 0 C 1.671875 0 1.90625 -0.234375 1.90625 -0.53125 Z M 1.90625 -0.53125 \\\"\\/>\\n<\\/symbol>\\n<symbol overflow=\\\"visible\\\" id=\\\"glyph-1580969628598077-2-0\\\">\\n<path style=\\\"stroke:none;\\\" d=\\\"\\\"\\/>\\n<\\/symbol>\\n<symbol overflow=\\\"visible\\\" id=\\\"glyph-1580969628598077-2-1\\\">\\n<path style=\\\"stroke:none;\\\" d=\\\"M 6.21875 -4.953125 C 6.21875 -5.9375 5.234375 -6.8125 3.875 -6.8125 L 0.34375 -6.8125 L 0.34375 -6.5 L 0.59375 -6.5 C 1.359375 -6.5 1.375 -6.390625 1.375 -6.03125 L 1.375 -0.78125 C 1.375 -0.421875 1.359375 -0.3125 0.59375 -0.3125 L 0.34375 -0.3125 L 0.34375 0 C 0.703125 -0.03125 1.4375 -0.03125 1.8125 -0.03125 C 2.1875 -0.03125 2.9375 -0.03125 3.296875 0 L 3.296875 -0.3125 L 3.046875 -0.3125 C 2.28125 -0.3125 2.265625 -0.421875 2.265625 -0.78125 L 2.265625 -3.15625 L 3.953125 -3.15625 C 5.140625 -3.15625 6.21875 -3.953125 6.21875 -4.953125 Z M 5.1875 -4.953125 C 5.1875 -4.484375 5.1875 -3.40625 3.609375 -3.40625 L 2.234375 -3.40625 L 2.234375 -6.09375 C 2.234375 -6.4375 2.25 -6.5 2.71875 -6.5 L 3.609375 -6.5 C 5.1875 -6.5 5.1875 -5.4375 5.1875 -4.953125 Z M 5.1875 -4.953125 \\\"\\/>\\n<\\/symbol>\\n<symbol overflow=\\\"visible\\\" id=\\\"glyph-1580969628598077-2-2\\\">\\n<path style=\\\"stroke:none;\\\" d=\\\"M 5.328125 0 L 5.328125 -0.3125 C 4.640625 -0.3125 4.5625 -0.375 4.5625 -0.875 L 4.5625 -4.40625 L 3.09375 -4.296875 L 3.09375 -3.984375 C 3.78125 -3.984375 3.875 -3.921875 3.875 -3.421875 L 3.875 -1.65625 C 3.875 -0.78125 3.390625 -0.109375 2.65625 -0.109375 C 1.828125 -0.109375 1.78125 -0.578125 1.78125 -1.09375 L 1.78125 -4.40625 L 0.3125 -4.296875 L 0.3125 -3.984375 C 1.09375 -3.984375 1.09375 -3.953125 1.09375 -3.078125 L 1.09375 -1.578125 C 1.09375 -0.796875 1.09375 0.109375 2.609375 0.109375 C 3.171875 0.109375 3.609375 -0.171875 3.890625 -0.78125 L 3.890625 0.109375 Z M 5.328125 0 \\\"\\/>\\n<\\/symbol>\\n<symbol overflow=\\\"visible\\\" id=\\\"glyph-1580969628598077-2-3\\\">\\n<path style=\\\"stroke:none;\\\" d=\\\"M 2.546875 0 L 2.546875 -0.3125 C 1.875 -0.3125 1.765625 -0.3125 1.765625 -0.75 L 1.765625 -6.921875 L 0.328125 -6.8125 L 0.328125 -6.5 C 1.03125 -6.5 1.109375 -6.4375 1.109375 -5.9375 L 1.109375 -0.75 C 1.109375 -0.3125 1 -0.3125 0.328125 -0.3125 L 0.328125 0 L 1.4375 -0.03125 Z M 2.546875 0 \\\"\\/>\\n<\\/symbol>\\n<symbol overflow=\\\"visible\\\" id=\\\"glyph-1580969628598077-2-4\\\">\\n<path style=\\\"stroke:none;\\\" d=\\\"M 3.59375 -1.28125 C 3.59375 -1.796875 3.296875 -2.109375 3.171875 -2.21875 C 2.84375 -2.546875 2.453125 -2.625 2.03125 -2.703125 C 1.46875 -2.8125 0.8125 -2.9375 0.8125 -3.515625 C 0.8125 -3.875 1.0625 -4.28125 1.921875 -4.28125 C 3.015625 -4.28125 3.078125 -3.375 3.09375 -3.078125 C 3.09375 -2.984375 3.203125 -2.984375 3.203125 -2.984375 C 3.34375 -2.984375 3.34375 -3.03125 3.34375 -3.21875 L 3.34375 -4.234375 C 3.34375 -4.390625 3.34375 -4.46875 3.234375 -4.46875 C 3.1875 -4.46875 3.15625 -4.46875 3.03125 -4.34375 C 3 -4.3125 2.90625 -4.21875 2.859375 -4.1875 C 2.484375 -4.46875 2.078125 -4.46875 1.921875 -4.46875 C 0.703125 -4.46875 0.328125 -3.796875 0.328125 -3.234375 C 0.328125 -2.890625 0.484375 -2.609375 0.75 -2.390625 C 1.078125 -2.140625 1.359375 -2.078125 2.078125 -1.9375 C 2.296875 -1.890625 3.109375 -1.734375 3.109375 -1.015625 C 3.109375 -0.515625 2.765625 -0.109375 1.984375 -0.109375 C 1.140625 -0.109375 0.78125 -0.671875 0.59375 -1.53125 C 0.5625 -1.65625 0.5625 -1.6875 0.453125 -1.6875 C 0.328125 -1.6875 0.328125 -1.625 0.328125 -1.453125 L 0.328125 -0.125 C 0.328125 0.046875 0.328125 0.109375 0.4375 0.109375 C 0.484375 0.109375 0.5 0.09375 0.6875 -0.09375 C 0.703125 -0.109375 0.703125 -0.125 0.890625 -0.3125 C 1.328125 0.09375 1.78125 0.109375 1.984375 0.109375 C 3.125 0.109375 3.59375 -0.5625 3.59375 -1.28125 Z M 3.59375 -1.28125 \\\"\\/>\\n<\\/symbol>\\n<symbol overflow=\\\"visible\\\" id=\\\"glyph-1580969628598077-2-5\\\">\\n<path style=\\\"stroke:none;\\\" d=\\\"M 4.140625 -1.1875 C 4.140625 -1.28125 4.0625 -1.3125 4 -1.3125 C 3.921875 -1.3125 3.890625 -1.25 3.875 -1.171875 C 3.53125 -0.140625 2.625 -0.140625 2.53125 -0.140625 C 2.03125 -0.140625 1.640625 -0.4375 1.40625 -0.8125 C 1.109375 -1.28125 1.109375 -1.9375 1.109375 -2.296875 L 3.890625 -2.296875 C 4.109375 -2.296875 4.140625 -2.296875 4.140625 -2.515625 C 4.140625 -3.5 3.59375 -4.46875 2.359375 -4.46875 C 1.203125 -4.46875 0.28125 -3.4375 0.28125 -2.1875 C 0.28125 -0.859375 1.328125 0.109375 2.46875 0.109375 C 3.6875 0.109375 4.140625 -1 4.140625 -1.1875 Z M 3.484375 -2.515625 L 1.109375 -2.515625 C 1.171875 -4 2.015625 -4.25 2.359375 -4.25 C 3.375 -4.25 3.484375 -2.90625 3.484375 -2.515625 Z M 3.484375 -2.515625 \\\"\\/>\\n<\\/symbol>\\n<symbol overflow=\\\"visible\\\" id=\\\"glyph-1580969628598077-2-6\\\">\\n<path style=\\\"stroke:none;\\\" d=\\\"M 5.1875 -2.15625 C 5.1875 -3.421875 4.234375 -4.40625 3.109375 -4.40625 C 2.328125 -4.40625 1.90625 -3.96875 1.71875 -3.75 L 1.71875 -4.40625 L 0.28125 -4.296875 L 0.28125 -3.984375 C 0.984375 -3.984375 1.0625 -3.921875 1.0625 -3.484375 L 1.0625 1.171875 C 1.0625 1.625 0.953125 1.625 0.28125 1.625 L 0.28125 1.9375 L 1.390625 1.90625 L 2.515625 1.9375 L 2.515625 1.625 C 1.859375 1.625 1.75 1.625 1.75 1.171875 L 1.75 -0.59375 C 1.796875 -0.421875 2.21875 0.109375 2.96875 0.109375 C 4.15625 0.109375 5.1875 -0.875 5.1875 -2.15625 Z M 4.359375 -2.15625 C 4.359375 -0.953125 3.671875 -0.109375 2.9375 -0.109375 C 2.53125 -0.109375 2.15625 -0.3125 1.890625 -0.71875 C 1.75 -0.921875 1.75 -0.9375 1.75 -1.140625 L 1.75 -3.359375 C 2.03125 -3.875 2.515625 -4.15625 3.03125 -4.15625 C 3.765625 -4.15625 4.359375 -3.28125 4.359375 -2.15625 Z M 4.359375 -2.15625 \\\"\\/>\\n<\\/symbol>\\n<symbol overflow=\\\"visible\\\" id=\\\"glyph-1580969628598077-2-7\\\">\\n<path style=\\\"stroke:none;\\\" d=\\\"M 4.828125 -4.03125 C 4.828125 -4.203125 4.71875 -4.515625 4.328125 -4.515625 C 4.125 -4.515625 3.6875 -4.453125 3.265625 -4.046875 C 2.84375 -4.375 2.4375 -4.40625 2.21875 -4.40625 C 1.28125 -4.40625 0.59375 -3.71875 0.59375 -2.953125 C 0.59375 -2.515625 0.8125 -2.140625 1.0625 -1.921875 C 0.9375 -1.78125 0.75 -1.453125 0.75 -1.09375 C 0.75 -0.78125 0.890625 -0.40625 1.203125 -0.203125 C 0.59375 -0.046875 0.28125 0.390625 0.28125 0.78125 C 0.28125 1.5 1.265625 2.046875 2.484375 2.046875 C 3.65625 2.046875 4.6875 1.546875 4.6875 0.765625 C 4.6875 0.421875 4.5625 -0.09375 4.046875 -0.375 C 3.515625 -0.640625 2.9375 -0.640625 2.328125 -0.640625 C 2.078125 -0.640625 1.65625 -0.640625 1.578125 -0.65625 C 1.265625 -0.703125 1.0625 -1 1.0625 -1.328125 C 1.0625 -1.359375 1.0625 -1.59375 1.21875 -1.796875 C 1.609375 -1.515625 2.03125 -1.484375 2.21875 -1.484375 C 3.140625 -1.484375 3.828125 -2.171875 3.828125 -2.9375 C 3.828125 -3.3125 3.671875 -3.671875 3.421875 -3.90625 C 3.78125 -4.25 4.140625 -4.296875 4.3125 -4.296875 C 4.3125 -4.296875 4.390625 -4.296875 4.421875 -4.28125 C 4.3125 -4.25 4.25 -4.140625 4.25 -4.015625 C 4.25 -3.84375 4.390625 -3.734375 4.546875 -3.734375 C 4.640625 -3.734375 4.828125 -3.796875 4.828125 -4.03125 Z M 3.078125 -2.953125 C 3.078125 -2.6875 3.078125 -2.359375 2.921875 -2.109375 C 2.84375 -2 2.609375 -1.71875 2.21875 -1.71875 C 1.34375 -1.71875 1.34375 -2.71875 1.34375 -2.9375 C 1.34375 -3.203125 1.359375 -3.53125 1.5 -3.78125 C 1.578125 -3.890625 1.8125 -4.171875 2.21875 -4.171875 C 3.078125 -4.171875 3.078125 -3.1875 3.078125 -2.953125 Z M 4.171875 0.78125 C 4.171875 1.328125 3.46875 1.828125 2.5 1.828125 C 1.484375 1.828125 0.796875 1.3125 0.796875 0.78125 C 0.796875 0.328125 1.171875 -0.046875 1.609375 -0.0625 L 2.203125 -0.0625 C 3.0625 -0.0625 4.171875 -0.0625 4.171875 0.78125 Z M 4.171875 0.78125 \\\"\\/>\\n<\\/symbol>\\n<symbol overflow=\\\"visible\\\" id=\\\"glyph-1580969628598077-2-8\\\">\\n<path style=\\\"stroke:none;\\\" d=\\\"M 3.625 -3.796875 C 3.625 -4.109375 3.3125 -4.40625 2.890625 -4.40625 C 2.15625 -4.40625 1.796875 -3.734375 1.671875 -3.3125 L 1.671875 -4.40625 L 0.28125 -4.296875 L 0.28125 -3.984375 C 0.984375 -3.984375 1.0625 -3.921875 1.0625 -3.421875 L 1.0625 -0.75 C 1.0625 -0.3125 0.953125 -0.3125 0.28125 -0.3125 L 0.28125 0 L 1.421875 -0.03125 C 1.8125 -0.03125 2.28125 -0.03125 2.6875 0 L 2.6875 -0.3125 L 2.46875 -0.3125 C 1.734375 -0.3125 1.71875 -0.421875 1.71875 -0.78125 L 1.71875 -2.3125 C 1.71875 -3.296875 2.140625 -4.1875 2.890625 -4.1875 C 2.953125 -4.1875 2.984375 -4.1875 3 -4.171875 C 2.96875 -4.171875 2.765625 -4.046875 2.765625 -3.78125 C 2.765625 -3.515625 2.984375 -3.359375 3.203125 -3.359375 C 3.375 -3.359375 3.625 -3.484375 3.625 -3.796875 Z M 3.625 -3.796875 \\\"\\/>\\n<\\/symbol>\\n<symbol overflow=\\\"visible\\\" id=\\\"glyph-1580969628598077-2-9\\\">\\n<path style=\\\"stroke:none;\\\" d=\\\"M 5.25 0 L 5.25 -0.3125 C 4.5625 -0.3125 4.46875 -0.375 4.46875 -0.875 L 4.46875 -6.921875 L 3.046875 -6.8125 L 3.046875 -6.5 C 3.734375 -6.5 3.8125 -6.4375 3.8125 -5.9375 L 3.8125 -3.78125 C 3.53125 -4.140625 3.09375 -4.40625 2.5625 -4.40625 C 1.390625 -4.40625 0.34375 -3.421875 0.34375 -2.140625 C 0.34375 -0.875 1.3125 0.109375 2.453125 0.109375 C 3.09375 0.109375 3.53125 -0.234375 3.78125 -0.546875 L 3.78125 0.109375 Z M 3.78125 -1.171875 C 3.78125 -1 3.78125 -0.984375 3.671875 -0.8125 C 3.375 -0.328125 2.9375 -0.109375 2.5 -0.109375 C 2.046875 -0.109375 1.6875 -0.375 1.453125 -0.75 C 1.203125 -1.15625 1.171875 -1.71875 1.171875 -2.140625 C 1.171875 -2.5 1.1875 -3.09375 1.46875 -3.546875 C 1.6875 -3.859375 2.0625 -4.1875 2.609375 -4.1875 C 2.953125 -4.1875 3.375 -4.03125 3.671875 -3.59375 C 3.78125 -3.421875 3.78125 -3.40625 3.78125 -3.21875 Z M 3.78125 -1.171875 \\\"\\/>\\n<\\/symbol>\\n<symbol overflow=\\\"visible\\\" id=\\\"glyph-1580969628598077-2-10\\\">\\n<path style=\\\"stroke:none;\\\" d=\\\"M 5.0625 -3.984375 L 5.0625 -4.296875 C 4.828125 -4.28125 4.546875 -4.265625 4.3125 -4.265625 L 3.453125 -4.296875 L 3.453125 -3.984375 C 3.765625 -3.984375 3.921875 -3.8125 3.921875 -3.5625 C 3.921875 -3.453125 3.90625 -3.4375 3.859375 -3.3125 L 2.84375 -0.875 L 1.75 -3.546875 C 1.703125 -3.65625 1.6875 -3.6875 1.6875 -3.734375 C 1.6875 -3.984375 2.046875 -3.984375 2.25 -3.984375 L 2.25 -4.296875 L 1.15625 -4.265625 C 0.890625 -4.265625 0.484375 -4.28125 0.1875 -4.296875 L 0.1875 -3.984375 C 0.671875 -3.984375 0.859375 -3.984375 1 -3.640625 L 2.5 0 L 2.25 0.59375 C 2.03125 1.140625 1.75 1.828125 1.109375 1.828125 C 1.0625 1.828125 0.828125 1.828125 0.640625 1.640625 C 0.953125 1.609375 1.03125 1.390625 1.03125 1.21875 C 1.03125 0.96875 0.84375 0.8125 0.609375 0.8125 C 0.40625 0.8125 0.1875 0.9375 0.1875 1.234375 C 0.1875 1.6875 0.609375 2.046875 1.109375 2.046875 C 1.734375 2.046875 2.140625 1.46875 2.375 0.90625 L 4.140625 -3.34375 C 4.390625 -3.984375 4.90625 -3.984375 5.0625 -3.984375 Z M 5.0625 -3.984375 \\\"\\/>\\n<\\/symbol>\\n<symbol overflow=\\\"visible\\\" id=\\\"glyph-1580969628598077-2-11\\\">\\n<path style=\\\"stroke:none;\\\" d=\\\"M 4.6875 -2.140625 C 4.6875 -3.40625 3.703125 -4.46875 2.5 -4.46875 C 1.25 -4.46875 0.28125 -3.375 0.28125 -2.140625 C 0.28125 -0.84375 1.3125 0.109375 2.484375 0.109375 C 3.6875 0.109375 4.6875 -0.875 4.6875 -2.140625 Z M 3.875 -2.21875 C 3.875 -1.859375 3.875 -1.3125 3.65625 -0.875 C 3.421875 -0.421875 2.984375 -0.140625 2.5 -0.140625 C 2.0625 -0.140625 1.625 -0.34375 1.359375 -0.8125 C 1.109375 -1.25 1.109375 -1.859375 1.109375 -2.21875 C 1.109375 -2.609375 1.109375 -3.140625 1.34375 -3.578125 C 1.609375 -4.03125 2.078125 -4.25 2.484375 -4.25 C 2.921875 -4.25 3.34375 -4.03125 3.609375 -3.59375 C 3.875 -3.171875 3.875 -2.59375 3.875 -2.21875 Z M 3.875 -2.21875 \\\"\\/>\\n<\\/symbol>\\n<symbol overflow=\\\"visible\\\" id=\\\"glyph-1580969628598077-2-12\\\">\\n<path style=\\\"stroke:none;\\\" d=\\\"M 3.5625 -6.328125 C 3.5625 -6.703125 3.1875 -7.03125 2.65625 -7.03125 C 1.96875 -7.03125 1.109375 -6.5 1.109375 -5.4375 L 1.109375 -4.296875 L 0.328125 -4.296875 L 0.328125 -3.984375 L 1.109375 -3.984375 L 1.109375 -0.75 C 1.109375 -0.3125 1 -0.3125 0.34375 -0.3125 L 0.34375 0 L 1.46875 -0.03125 C 1.875 -0.03125 2.34375 -0.03125 2.734375 0 L 2.734375 -0.3125 L 2.53125 -0.3125 C 1.796875 -0.3125 1.78125 -0.421875 1.78125 -0.78125 L 1.78125 -3.984375 L 2.90625 -3.984375 L 2.90625 -4.296875 L 1.75 -4.296875 L 1.75 -5.453125 C 1.75 -6.328125 2.21875 -6.8125 2.65625 -6.8125 C 2.6875 -6.8125 2.84375 -6.8125 2.984375 -6.734375 C 2.875 -6.703125 2.6875 -6.5625 2.6875 -6.3125 C 2.6875 -6.09375 2.84375 -5.890625 3.125 -5.890625 C 3.40625 -5.890625 3.5625 -6.09375 3.5625 -6.328125 Z M 3.5625 -6.328125 \\\"\\/>\\n<\\/symbol>\\n<symbol overflow=\\\"visible\\\" id=\\\"glyph-1580969628598077-2-13\\\">\\n<path style=\\\"stroke:none;\\\" d=\\\"M 3.3125 -1.234375 L 3.3125 -1.796875 L 3.0625 -1.796875 L 3.0625 -1.25 C 3.0625 -0.515625 2.765625 -0.140625 2.390625 -0.140625 C 1.71875 -0.140625 1.71875 -1.046875 1.71875 -1.21875 L 1.71875 -3.984375 L 3.15625 -3.984375 L 3.15625 -4.296875 L 1.71875 -4.296875 L 1.71875 -6.125 L 1.46875 -6.125 C 1.46875 -5.3125 1.171875 -4.25 0.1875 -4.203125 L 0.1875 -3.984375 L 1.03125 -3.984375 L 1.03125 -1.234375 C 1.03125 -0.015625 1.96875 0.109375 2.328125 0.109375 C 3.03125 0.109375 3.3125 -0.59375 3.3125 -1.234375 Z M 3.3125 -1.234375 \\\"\\/>\\n<\\/symbol>\\n<symbol overflow=\\\"visible\\\" id=\\\"glyph-1580969628598077-2-14\\\">\\n<path style=\\\"stroke:none;\\\" d=\\\"M 8.109375 0 L 8.109375 -0.3125 C 7.59375 -0.3125 7.34375 -0.3125 7.328125 -0.609375 L 7.328125 -2.515625 C 7.328125 -3.375 7.328125 -3.671875 7.015625 -4.03125 C 6.875 -4.203125 6.546875 -4.40625 5.96875 -4.40625 C 5.140625 -4.40625 4.6875 -3.8125 4.53125 -3.421875 C 4.390625 -4.296875 3.65625 -4.40625 3.203125 -4.40625 C 2.46875 -4.40625 2 -3.984375 1.71875 -3.359375 L 1.71875 -4.40625 L 0.3125 -4.296875 L 0.3125 -3.984375 C 1.015625 -3.984375 1.09375 -3.921875 1.09375 -3.421875 L 1.09375 -0.75 C 1.09375 -0.3125 0.984375 -0.3125 0.3125 -0.3125 L 0.3125 0 L 1.453125 -0.03125 L 2.5625 0 L 2.5625 -0.3125 C 1.890625 -0.3125 1.78125 -0.3125 1.78125 -0.75 L 1.78125 -2.59375 C 1.78125 -3.625 2.5 -4.1875 3.125 -4.1875 C 3.765625 -4.1875 3.875 -3.65625 3.875 -3.078125 L 3.875 -0.75 C 3.875 -0.3125 3.765625 -0.3125 3.09375 -0.3125 L 3.09375 0 L 4.21875 -0.03125 L 5.328125 0 L 5.328125 -0.3125 C 4.671875 -0.3125 4.5625 -0.3125 4.5625 -0.75 L 4.5625 -2.59375 C 4.5625 -3.625 5.265625 -4.1875 5.90625 -4.1875 C 6.53125 -4.1875 6.640625 -3.65625 6.640625 -3.078125 L 6.640625 -0.75 C 6.640625 -0.3125 6.53125 -0.3125 5.859375 -0.3125 L 5.859375 0 L 6.984375 -0.03125 Z M 8.109375 0 \\\"\\/>\\n<\\/symbol>\\n<symbol overflow=\\\"visible\\\" id=\\\"glyph-1580969628598077-2-15\\\">\\n<path style=\\\"stroke:none;\\\" d=\\\"M 4.8125 -0.890625 L 4.8125 -1.453125 L 4.5625 -1.453125 L 4.5625 -0.890625 C 4.5625 -0.3125 4.3125 -0.25 4.203125 -0.25 C 3.875 -0.25 3.84375 -0.703125 3.84375 -0.75 L 3.84375 -2.734375 C 3.84375 -3.15625 3.84375 -3.546875 3.484375 -3.921875 C 3.09375 -4.3125 2.59375 -4.46875 2.109375 -4.46875 C 1.296875 -4.46875 0.609375 -4 0.609375 -3.34375 C 0.609375 -3.046875 0.8125 -2.875 1.0625 -2.875 C 1.34375 -2.875 1.53125 -3.078125 1.53125 -3.328125 C 1.53125 -3.453125 1.46875 -3.78125 1.015625 -3.78125 C 1.28125 -4.140625 1.78125 -4.25 2.09375 -4.25 C 2.578125 -4.25 3.15625 -3.859375 3.15625 -2.96875 L 3.15625 -2.609375 C 2.640625 -2.578125 1.9375 -2.546875 1.3125 -2.25 C 0.5625 -1.90625 0.3125 -1.390625 0.3125 -0.953125 C 0.3125 -0.140625 1.28125 0.109375 1.90625 0.109375 C 2.578125 0.109375 3.03125 -0.296875 3.21875 -0.75 C 3.265625 -0.359375 3.53125 0.0625 4 0.0625 C 4.203125 0.0625 4.8125 -0.078125 4.8125 -0.890625 Z M 3.15625 -1.390625 C 3.15625 -0.453125 2.4375 -0.109375 1.984375 -0.109375 C 1.5 -0.109375 1.09375 -0.453125 1.09375 -0.953125 C 1.09375 -1.5 1.5 -2.328125 3.15625 -2.390625 Z M 3.15625 -1.390625 \\\"\\/>\\n<\\/symbol>\\n<symbol overflow=\\\"visible\\\" id=\\\"glyph-1580969628598077-2-16\\\">\\n<path style=\\\"stroke:none;\\\" d=\\\"M 5.140625 0 L 5.140625 -0.3125 C 4.609375 -0.3125 4.421875 -0.328125 4.203125 -0.625 L 2.859375 -2.34375 C 3.15625 -2.71875 3.53125 -3.203125 3.78125 -3.46875 C 4.09375 -3.828125 4.5 -3.984375 4.96875 -3.984375 L 4.96875 -4.296875 C 4.703125 -4.28125 4.40625 -4.265625 4.140625 -4.265625 C 3.84375 -4.265625 3.3125 -4.28125 3.1875 -4.296875 L 3.1875 -3.984375 C 3.40625 -3.96875 3.484375 -3.84375 3.484375 -3.671875 C 3.484375 -3.515625 3.375 -3.390625 3.328125 -3.328125 L 2.71875 -2.546875 L 1.9375 -3.5625 C 1.84375 -3.65625 1.84375 -3.671875 1.84375 -3.734375 C 1.84375 -3.890625 2 -3.984375 2.1875 -3.984375 L 2.1875 -4.296875 L 1.109375 -4.265625 C 0.90625 -4.265625 0.4375 -4.28125 0.171875 -4.296875 L 0.171875 -3.984375 C 0.875 -3.984375 0.875 -3.984375 1.34375 -3.375 L 2.328125 -2.09375 C 1.859375 -1.5 1.859375 -1.46875 1.390625 -0.90625 C 0.921875 -0.328125 0.328125 -0.3125 0.125 -0.3125 L 0.125 0 C 0.375 -0.015625 0.6875 -0.03125 0.953125 -0.03125 L 1.890625 0 L 1.890625 -0.3125 C 1.671875 -0.34375 1.609375 -0.46875 1.609375 -0.625 C 1.609375 -0.84375 1.890625 -1.171875 2.5 -1.890625 L 3.265625 -0.890625 C 3.34375 -0.78125 3.46875 -0.625 3.46875 -0.5625 C 3.46875 -0.46875 3.375 -0.3125 3.109375 -0.3125 L 3.109375 0 L 4.1875 -0.03125 C 4.453125 -0.03125 4.84375 -0.015625 5.140625 0 Z M 5.140625 0 \\\"\\/>\\n<\\/symbol>\\n<symbol overflow=\\\"visible\\\" id=\\\"glyph-1580969628598077-2-17\\\">\\n<path style=\\\"stroke:none;\\\" d=\\\"M 2.46875 0 L 2.46875 -0.3125 C 1.796875 -0.3125 1.765625 -0.359375 1.765625 -0.75 L 1.765625 -4.40625 L 0.375 -4.296875 L 0.375 -3.984375 C 1.015625 -3.984375 1.109375 -3.921875 1.109375 -3.4375 L 1.109375 -0.75 C 1.109375 -0.3125 1 -0.3125 0.328125 -0.3125 L 0.328125 0 L 1.421875 -0.03125 C 1.78125 -0.03125 2.125 -0.015625 2.46875 0 Z M 1.90625 -6.015625 C 1.90625 -6.296875 1.6875 -6.546875 1.390625 -6.546875 C 1.046875 -6.546875 0.84375 -6.265625 0.84375 -6.015625 C 0.84375 -5.75 1.078125 -5.5 1.375 -5.5 C 1.71875 -5.5 1.90625 -5.765625 1.90625 -6.015625 Z M 1.90625 -6.015625 \\\"\\/>\\n<\\/symbol>\\n<symbol overflow=\\\"visible\\\" id=\\\"glyph-1580969628598077-2-18\\\">\\n<path style=\\\"stroke:none;\\\" d=\\\"M 5.328125 0 L 5.328125 -0.3125 C 4.8125 -0.3125 4.5625 -0.3125 4.5625 -0.609375 L 4.5625 -2.515625 C 4.5625 -3.375 4.5625 -3.671875 4.25 -4.03125 C 4.109375 -4.203125 3.78125 -4.40625 3.203125 -4.40625 C 2.46875 -4.40625 2 -3.984375 1.71875 -3.359375 L 1.71875 -4.40625 L 0.3125 -4.296875 L 0.3125 -3.984375 C 1.015625 -3.984375 1.09375 -3.921875 1.09375 -3.421875 L 1.09375 -0.75 C 1.09375 -0.3125 0.984375 -0.3125 0.3125 -0.3125 L 0.3125 0 L 1.453125 -0.03125 L 2.5625 0 L 2.5625 -0.3125 C 1.890625 -0.3125 1.78125 -0.3125 1.78125 -0.75 L 1.78125 -2.59375 C 1.78125 -3.625 2.5 -4.1875 3.125 -4.1875 C 3.765625 -4.1875 3.875 -3.65625 3.875 -3.078125 L 3.875 -0.75 C 3.875 -0.3125 3.765625 -0.3125 3.09375 -0.3125 L 3.09375 0 L 4.21875 -0.03125 Z M 5.328125 0 \\\"\\/>\\n<\\/symbol>\\n<symbol overflow=\\\"visible\\\" id=\\\"glyph-1580969628598077-2-19\\\">\\n<path style=\\\"stroke:none;\\\" d=\\\"M 5.0625 -3.984375 L 5.0625 -4.296875 C 4.828125 -4.28125 4.546875 -4.265625 4.3125 -4.265625 L 3.453125 -4.296875 L 3.453125 -3.984375 C 3.8125 -3.984375 3.921875 -3.75 3.921875 -3.5625 C 3.921875 -3.46875 3.90625 -3.421875 3.875 -3.3125 L 2.84375 -0.78125 L 1.734375 -3.5625 C 1.671875 -3.6875 1.671875 -3.734375 1.671875 -3.734375 C 1.671875 -3.984375 2.0625 -3.984375 2.25 -3.984375 L 2.25 -4.296875 L 1.15625 -4.265625 C 0.890625 -4.265625 0.484375 -4.28125 0.1875 -4.296875 L 0.1875 -3.984375 C 0.8125 -3.984375 0.859375 -3.921875 0.984375 -3.625 L 2.421875 -0.078125 C 2.484375 0.0625 2.5 0.109375 2.625 0.109375 C 2.765625 0.109375 2.796875 0.015625 2.84375 -0.078125 L 4.140625 -3.3125 C 4.234375 -3.546875 4.40625 -3.984375 5.0625 -3.984375 Z M 5.0625 -3.984375 \\\"\\/>\\n<\\/symbol>\\n<symbol overflow=\\\"visible\\\" id=\\\"glyph-1580969628598077-3-0\\\">\\n<path style=\\\"stroke:none;\\\" d=\\\"\\\"\\/>\\n<\\/symbol>\\n<symbol overflow=\\\"visible\\\" id=\\\"glyph-1580969628598077-3-1\\\">\\n<path style=\\\"stroke:none;\\\" d=\\\"M 0 -7.140625 L -0.3125 -7.140625 L -0.3125 -6.96875 C -0.3125 -6.375 -0.375 -6.234375 -0.703125 -6.125 L -6.9375 -3.96875 C -7.0625 -3.921875 -7.140625 -3.890625 -7.140625 -3.734375 C -7.140625 -3.578125 -7.078125 -3.546875 -6.9375 -3.5 L -0.984375 -1.4375 C -0.46875 -1.25 -0.3125 -0.859375 -0.3125 -0.3125 L 0 -0.3125 L -0.03125 -1.328125 L 0 -2.484375 L -0.3125 -2.484375 C -0.3125 -1.984375 -0.5625 -1.734375 -0.8125 -1.734375 C -0.84375 -1.734375 -0.953125 -1.75 -0.96875 -1.75 L -2.265625 -2.21875 L -2.265625 -4.671875 L -0.75 -5.203125 C -0.703125 -5.21875 -0.640625 -5.234375 -0.609375 -5.234375 C -0.3125 -5.234375 -0.3125 -4.671875 -0.3125 -4.40625 L 0 -4.40625 C -0.03125 -4.765625 -0.03125 -5.46875 -0.03125 -5.84375 Z M -2.578125 -4.5625 L -2.578125 -2.328125 L -5.828125 -3.4375 Z M -2.578125 -4.5625 \\\"\\/>\\n<\\/symbol>\\n<symbol overflow=\\\"visible\\\" id=\\\"glyph-1580969628598077-3-2\\\">\\n<path style=\\\"stroke:none;\\\" d=\\\"M -3.984375 -5.0625 L -4.296875 -5.0625 C -4.28125 -4.828125 -4.265625 -4.546875 -4.265625 -4.3125 L -4.296875 -3.453125 L -3.984375 -3.453125 C -3.984375 -3.8125 -3.75 -3.921875 -3.5625 -3.921875 C -3.46875 -3.921875 -3.421875 -3.90625 -3.3125 -3.875 L -0.78125 -2.84375 L -3.5625 -1.734375 C -3.6875 -1.671875 -3.734375 -1.671875 -3.734375 -1.671875 C -3.984375 -1.671875 -3.984375 -2.0625 -3.984375 -2.25 L -4.296875 -2.25 L -4.265625 -1.15625 C -4.265625 -0.890625 -4.28125 -0.484375 -4.296875 -0.1875 L -3.984375 -0.1875 C -3.984375 -0.8125 -3.921875 -0.859375 -3.625 -0.984375 L -0.078125 -2.421875 C 0.0625 -2.484375 0.109375 -2.5 0.109375 -2.625 C 0.109375 -2.765625 0.015625 -2.796875 -0.078125 -2.84375 L -3.3125 -4.140625 C -3.546875 -4.234375 -3.984375 -4.40625 -3.984375 -5.0625 Z M -3.984375 -5.0625 \\\"\\/>\\n<\\/symbol>\\n<symbol overflow=\\\"visible\\\" id=\\\"glyph-1580969628598077-3-3\\\">\\n<path style=\\\"stroke:none;\\\" d=\\\"M -1.1875 -4.140625 C -1.28125 -4.140625 -1.3125 -4.0625 -1.3125 -4 C -1.3125 -3.921875 -1.25 -3.890625 -1.171875 -3.875 C -0.140625 -3.53125 -0.140625 -2.625 -0.140625 -2.53125 C -0.140625 -2.03125 -0.4375 -1.640625 -0.8125 -1.40625 C -1.28125 -1.109375 -1.9375 -1.109375 -2.296875 -1.109375 L -2.296875 -3.890625 C -2.296875 -4.109375 -2.296875 -4.140625 -2.515625 -4.140625 C -3.5 -4.140625 -4.46875 -3.59375 -4.46875 -2.359375 C -4.46875 -1.203125 -3.4375 -0.28125 -2.1875 -0.28125 C -0.859375 -0.28125 0.109375 -1.328125 0.109375 -2.46875 C 0.109375 -3.6875 -1 -4.140625 -1.1875 -4.140625 Z M -2.515625 -3.484375 L -2.515625 -1.109375 C -4 -1.171875 -4.25 -2.015625 -4.25 -2.359375 C -4.25 -3.375 -2.90625 -3.484375 -2.515625 -3.484375 Z M -2.515625 -3.484375 \\\"\\/>\\n<\\/symbol>\\n<symbol overflow=\\\"visible\\\" id=\\\"glyph-1580969628598077-3-4\\\">\\n<path style=\\\"stroke:none;\\\" d=\\\"M -3.796875 -3.625 C -4.109375 -3.625 -4.40625 -3.3125 -4.40625 -2.890625 C -4.40625 -2.15625 -3.734375 -1.796875 -3.3125 -1.671875 L -4.40625 -1.671875 L -4.296875 -0.28125 L -3.984375 -0.28125 C -3.984375 -0.984375 -3.921875 -1.0625 -3.421875 -1.0625 L -0.75 -1.0625 C -0.3125 -1.0625 -0.3125 -0.953125 -0.3125 -0.28125 L 0 -0.28125 L -0.03125 -1.421875 C -0.03125 -1.8125 -0.03125 -2.28125 0 -2.6875 L -0.3125 -2.6875 L -0.3125 -2.46875 C -0.3125 -1.734375 -0.421875 -1.71875 -0.78125 -1.71875 L -2.3125 -1.71875 C -3.296875 -1.71875 -4.1875 -2.140625 -4.1875 -2.890625 C -4.1875 -2.953125 -4.1875 -2.984375 -4.171875 -3 C -4.171875 -2.96875 -4.046875 -2.765625 -3.78125 -2.765625 C -3.515625 -2.765625 -3.359375 -2.984375 -3.359375 -3.203125 C -3.359375 -3.375 -3.484375 -3.625 -3.796875 -3.625 Z M -3.796875 -3.625 \\\"\\/>\\n<\\/symbol>\\n<symbol overflow=\\\"visible\\\" id=\\\"glyph-1580969628598077-3-5\\\">\\n<path style=\\\"stroke:none;\\\" d=\\\"M -0.890625 -4.8125 L -1.453125 -4.8125 L -1.453125 -4.5625 L -0.890625 -4.5625 C -0.3125 -4.5625 -0.25 -4.3125 -0.25 -4.203125 C -0.25 -3.875 -0.703125 -3.84375 -0.75 -3.84375 L -2.734375 -3.84375 C -3.15625 -3.84375 -3.546875 -3.84375 -3.921875 -3.484375 C -4.3125 -3.09375 -4.46875 -2.59375 -4.46875 -2.109375 C -4.46875 -1.296875 -4 -0.609375 -3.34375 -0.609375 C -3.046875 -0.609375 -2.875 -0.8125 -2.875 -1.0625 C -2.875 -1.34375 -3.078125 -1.53125 -3.328125 -1.53125 C -3.453125 -1.53125 -3.78125 -1.46875 -3.78125 -1.015625 C -4.140625 -1.28125 -4.25 -1.78125 -4.25 -2.09375 C -4.25 -2.578125 -3.859375 -3.15625 -2.96875 -3.15625 L -2.609375 -3.15625 C -2.578125 -2.640625 -2.546875 -1.9375 -2.25 -1.3125 C -1.90625 -0.5625 -1.390625 -0.3125 -0.953125 -0.3125 C -0.140625 -0.3125 0.109375 -1.28125 0.109375 -1.90625 C 0.109375 -2.578125 -0.296875 -3.03125 -0.75 -3.21875 C -0.359375 -3.265625 0.0625 -3.53125 0.0625 -4 C 0.0625 -4.203125 -0.078125 -4.8125 -0.890625 -4.8125 Z M -1.390625 -3.15625 C -0.453125 -3.15625 -0.109375 -2.4375 -0.109375 -1.984375 C -0.109375 -1.5 -0.453125 -1.09375 -0.953125 -1.09375 C -1.5 -1.09375 -2.328125 -1.5 -2.390625 -3.15625 Z M -1.390625 -3.15625 \\\"\\/>\\n<\\/symbol>\\n<symbol overflow=\\\"visible\\\" id=\\\"glyph-1580969628598077-3-6\\\">\\n<path style=\\\"stroke:none;\\\" d=\\\"M -4.03125 -4.828125 C -4.203125 -4.828125 -4.515625 -4.71875 -4.515625 -4.328125 C -4.515625 -4.125 -4.453125 -3.6875 -4.046875 -3.265625 C -4.375 -2.84375 -4.40625 -2.4375 -4.40625 -2.21875 C -4.40625 -1.28125 -3.71875 -0.59375 -2.953125 -0.59375 C -2.515625 -0.59375 -2.140625 -0.8125 -1.921875 -1.0625 C -1.78125 -0.9375 -1.453125 -0.75 -1.09375 -0.75 C -0.78125 -0.75 -0.40625 -0.890625 -0.203125 -1.203125 C -0.046875 -0.59375 0.390625 -0.28125 0.78125 -0.28125 C 1.5 -0.28125 2.046875 -1.265625 2.046875 -2.484375 C 2.046875 -3.65625 1.546875 -4.6875 0.765625 -4.6875 C 0.421875 -4.6875 -0.09375 -4.5625 -0.375 -4.046875 C -0.640625 -3.515625 -0.640625 -2.9375 -0.640625 -2.328125 C -0.640625 -2.078125 -0.640625 -1.65625 -0.65625 -1.578125 C -0.703125 -1.265625 -1 -1.0625 -1.328125 -1.0625 C -1.359375 -1.0625 -1.59375 -1.0625 -1.796875 -1.21875 C -1.515625 -1.609375 -1.484375 -2.03125 -1.484375 -2.21875 C -1.484375 -3.140625 -2.171875 -3.828125 -2.9375 -3.828125 C -3.3125 -3.828125 -3.671875 -3.671875 -3.90625 -3.421875 C -4.25 -3.78125 -4.296875 -4.140625 -4.296875 -4.3125 C -4.296875 -4.3125 -4.296875 -4.390625 -4.28125 -4.421875 C -4.25 -4.3125 -4.140625 -4.25 -4.015625 -4.25 C -3.84375 -4.25 -3.734375 -4.390625 -3.734375 -4.546875 C -3.734375 -4.640625 -3.796875 -4.828125 -4.03125 -4.828125 Z M -2.953125 -3.078125 C -2.6875 -3.078125 -2.359375 -3.078125 -2.109375 -2.921875 C -2 -2.84375 -1.71875 -2.609375 -1.71875 -2.21875 C -1.71875 -1.34375 -2.71875 -1.34375 -2.9375 -1.34375 C -3.203125 -1.34375 -3.53125 -1.359375 -3.78125 -1.5 C -3.890625 -1.578125 -4.171875 -1.8125 -4.171875 -2.21875 C -4.171875 -3.078125 -3.1875 -3.078125 -2.953125 -3.078125 Z M 0.78125 -4.171875 C 1.328125 -4.171875 1.828125 -3.46875 1.828125 -2.5 C 1.828125 -1.484375 1.3125 -0.796875 0.78125 -0.796875 C 0.328125 -0.796875 -0.046875 -1.171875 -0.0625 -1.609375 L -0.0625 -2.203125 C -0.0625 -3.0625 -0.0625 -4.171875 0.78125 -4.171875 Z M 0.78125 -4.171875 \\\"\\/>\\n<\\/symbol>\\n<symbol overflow=\\\"visible\\\" id=\\\"glyph-1580969628598077-3-7\\\">\\n<path style=\\\"stroke:none;\\\" d=\\\"M -1.28125 -3.59375 C -1.796875 -3.59375 -2.109375 -3.296875 -2.21875 -3.171875 C -2.546875 -2.84375 -2.625 -2.453125 -2.703125 -2.03125 C -2.8125 -1.46875 -2.9375 -0.8125 -3.515625 -0.8125 C -3.875 -0.8125 -4.28125 -1.0625 -4.28125 -1.921875 C -4.28125 -3.015625 -3.375 -3.078125 -3.078125 -3.09375 C -2.984375 -3.09375 -2.984375 -3.203125 -2.984375 -3.203125 C -2.984375 -3.34375 -3.03125 -3.34375 -3.21875 -3.34375 L -4.234375 -3.34375 C -4.390625 -3.34375 -4.46875 -3.34375 -4.46875 -3.234375 C -4.46875 -3.1875 -4.46875 -3.15625 -4.34375 -3.03125 C -4.3125 -3 -4.21875 -2.90625 -4.1875 -2.859375 C -4.46875 -2.484375 -4.46875 -2.078125 -4.46875 -1.921875 C -4.46875 -0.703125 -3.796875 -0.328125 -3.234375 -0.328125 C -2.890625 -0.328125 -2.609375 -0.484375 -2.390625 -0.75 C -2.140625 -1.078125 -2.078125 -1.359375 -1.9375 -2.078125 C -1.890625 -2.296875 -1.734375 -3.109375 -1.015625 -3.109375 C -0.515625 -3.109375 -0.109375 -2.765625 -0.109375 -1.984375 C -0.109375 -1.140625 -0.671875 -0.78125 -1.53125 -0.59375 C -1.65625 -0.5625 -1.6875 -0.5625 -1.6875 -0.453125 C -1.6875 -0.328125 -1.625 -0.328125 -1.453125 -0.328125 L -0.125 -0.328125 C 0.046875 -0.328125 0.109375 -0.328125 0.109375 -0.4375 C 0.109375 -0.484375 0.09375 -0.5 -0.09375 -0.6875 C -0.109375 -0.703125 -0.125 -0.703125 -0.3125 -0.890625 C 0.09375 -1.328125 0.109375 -1.78125 0.109375 -1.984375 C 0.109375 -3.125 -0.5625 -3.59375 -1.28125 -3.59375 Z M -1.28125 -3.59375 \\\"\\/>\\n<\\/symbol>\\n<symbol overflow=\\\"visible\\\" id=\\\"glyph-1580969628598077-3-8\\\">\\n<path style=\\\"stroke:none;\\\" d=\\\"M 0 -5.328125 L -0.3125 -5.328125 C -0.3125 -4.640625 -0.375 -4.5625 -0.875 -4.5625 L -4.40625 -4.5625 L -4.296875 -3.09375 L -3.984375 -3.09375 C -3.984375 -3.78125 -3.921875 -3.875 -3.421875 -3.875 L -1.65625 -3.875 C -0.78125 -3.875 -0.109375 -3.390625 -0.109375 -2.65625 C -0.109375 -1.828125 -0.578125 -1.78125 -1.09375 -1.78125 L -4.40625 -1.78125 L -4.296875 -0.3125 L -3.984375 -0.3125 C -3.984375 -1.09375 -3.953125 -1.09375 -3.078125 -1.09375 L -1.578125 -1.09375 C -0.796875 -1.09375 0.109375 -1.09375 0.109375 -2.609375 C 0.109375 -3.171875 -0.171875 -3.609375 -0.78125 -3.890625 L 0.109375 -3.890625 Z M 0 -5.328125 \\\"\\/>\\n<\\/symbol>\\n<symbol overflow=\\\"visible\\\" id=\\\"glyph-1580969628598077-3-9\\\">\\n<path style=\\\"stroke:none;\\\" d=\\\"M -1.1875 -4.140625 C -1.28125 -4.140625 -1.28125 -4.03125 -1.28125 -4 C -1.28125 -3.921875 -1.25 -3.890625 -1.1875 -3.875 C -0.265625 -3.59375 -0.140625 -2.9375 -0.140625 -2.578125 C -0.140625 -2.046875 -0.5625 -1.171875 -2.171875 -1.171875 C -3.796875 -1.171875 -4.21875 -1.984375 -4.21875 -2.515625 C -4.21875 -2.609375 -4.203125 -3.234375 -3.84375 -3.578125 C -3.8125 -3.171875 -3.515625 -3.109375 -3.390625 -3.109375 C -3.125 -3.109375 -2.9375 -3.296875 -2.9375 -3.5625 C -2.9375 -3.828125 -3.09375 -4.03125 -3.40625 -4.03125 C -4.078125 -4.03125 -4.46875 -3.265625 -4.46875 -2.5 C -4.46875 -1.25 -3.390625 -0.34375 -2.15625 -0.34375 C -0.875 -0.34375 0.109375 -1.328125 0.109375 -2.484375 C 0.109375 -3.8125 -1.09375 -4.140625 -1.1875 -4.140625 Z M -1.1875 -4.140625 \\\"\\/>\\n<\\/symbol>\\n<\\/g>\\n<clipPath id=\\\"clip-1580969628598077-1\\\">\\n  <path d=\\\"M 35.597656 49 L 229.871094 49 L 229.871094 137 L 35.597656 137 Z M 35.597656 49 \\\"\\/>\\n<\\/clipPath>\\n<clipPath id=\\\"clip-1580969628598077-2\\\">\\n  <path d=\\\"M 35.597656 21 L 229.871094 21 L 229.871094 103 L 35.597656 103 Z M 35.597656 21 \\\"\\/>\\n<\\/clipPath>\\n<clipPath id=\\\"clip-1580969628598077-3\\\">\\n  <path d=\\\"M 35.597656 26 L 229.871094 26 L 229.871094 167.925781 L 35.597656 167.925781 Z M 35.597656 26 \\\"\\/>\\n<\\/clipPath>\\n<\\/defs>\\n<g id=\\\"surface1\\\">\\n<path style=\\\"fill:none;stroke-width:0.19925;stroke-linecap:butt;stroke-linejoin:miter;stroke:rgb(50%,50%,50%);stroke-opacity:1;stroke-miterlimit:10;\\\" d=\\\"M 0.00165625 -0.00078125 L 0.00165625 4.253125 M 38.853219 -0.00078125 L 38.853219 4.253125 M 77.708687 -0.00078125 L 77.708687 4.253125 M 116.564156 -0.00078125 L 116.564156 4.253125 M 155.419625 -0.00078125 L 155.419625 4.253125 M 194.275094 -0.00078125 L 194.275094 4.253125 M 0.00165625 161.397656 L 0.00165625 157.14375 M 38.853219 161.397656 L 38.853219 157.14375 M 77.708687 161.397656 L 77.708687 157.14375 M 116.564156 161.397656 L 116.564156 157.14375 M 155.419625 161.397656 L 155.419625 157.14375 M 194.275094 161.397656 L 194.275094 157.14375 \\\" transform=\\\"matrix(1,0,0,-1,35.596,167.925)\\\"\\/>\\n<path style=\\\"fill:none;stroke-width:0.19925;stroke-linecap:butt;stroke-linejoin:miter;stroke:rgb(50%,50%,50%);stroke-opacity:1;stroke-miterlimit:10;\\\" d=\\\"M 0.00165625 -0.00078125 L 4.251656 -0.00078125 M 0.00165625 32.280469 L 4.251656 32.280469 M 0.00165625 64.557813 L 4.251656 64.557813 M 0.00165625 96.839063 L 4.251656 96.839063 M 0.00165625 129.116406 L 4.251656 129.116406 M 0.00165625 161.397656 L 4.251656 161.397656 M 194.275094 -0.00078125 L 190.021187 -0.00078125 M 194.275094 32.280469 L 190.021187 32.280469 M 194.275094 64.557813 L 190.021187 64.557813 M 194.275094 96.839063 L 190.021187 96.839063 M 194.275094 129.116406 L 190.021187 129.116406 M 194.275094 161.397656 L 190.021187 161.397656 \\\" transform=\\\"matrix(1,0,0,-1,35.596,167.925)\\\"\\/>\\n<path style=\\\"fill:none;stroke-width:0.3985;stroke-linecap:butt;stroke-linejoin:miter;stroke:rgb(0%,0%,0%);stroke-opacity:1;stroke-miterlimit:10;\\\" d=\\\"M 0.00165625 -0.00078125 L 0.00165625 161.397656 L 194.275094 161.397656 L 194.275094 -0.00078125 Z M 0.00165625 -0.00078125 \\\" transform=\\\"matrix(1,0,0,-1,35.596,167.925)\\\"\\/>\\n<g style=\\\"fill:rgb(0%,0%,0%);fill-opacity:1;\\\">\\n  <use xlink:href=\\\"#glyph-1580969628598077-0-1\\\" x=\\\"33.106\\\" y=\\\"177.866\\\"\\/>\\n<\\/g>\\n<g style=\\\"fill:rgb(0%,0%,0%);fill-opacity:1;\\\">\\n  <use xlink:href=\\\"#glyph-1580969628598077-0-2\\\" x=\\\"69.469\\\" y=\\\"177.866\\\"\\/>\\n  <use xlink:href=\\\"#glyph-1580969628598077-0-1\\\" x=\\\"74.45032\\\" y=\\\"177.866\\\"\\/>\\n<\\/g>\\n<g style=\\\"fill:rgb(0%,0%,0%);fill-opacity:1;\\\">\\n  <use xlink:href=\\\"#glyph-1580969628598077-0-3\\\" x=\\\"108.323\\\" y=\\\"177.866\\\"\\/>\\n  <use xlink:href=\\\"#glyph-1580969628598077-0-1\\\" x=\\\"113.30432\\\" y=\\\"177.866\\\"\\/>\\n<\\/g>\\n<g style=\\\"fill:rgb(0%,0%,0%);fill-opacity:1;\\\">\\n  <use xlink:href=\\\"#glyph-1580969628598077-0-4\\\" x=\\\"147.178\\\" y=\\\"177.866\\\"\\/>\\n  <use xlink:href=\\\"#glyph-1580969628598077-0-1\\\" x=\\\"152.15932\\\" y=\\\"177.866\\\"\\/>\\n<\\/g>\\n<g style=\\\"fill:rgb(0%,0%,0%);fill-opacity:1;\\\">\\n  <use xlink:href=\\\"#glyph-1580969628598077-0-5\\\" x=\\\"186.032\\\" y=\\\"177.866\\\"\\/>\\n  <use xlink:href=\\\"#glyph-1580969628598077-0-1\\\" x=\\\"191.01332\\\" y=\\\"177.866\\\"\\/>\\n<\\/g>\\n<g style=\\\"fill:rgb(0%,0%,0%);fill-opacity:1;\\\">\\n  <use xlink:href=\\\"#glyph-1580969628598077-0-6\\\" x=\\\"224.886\\\" y=\\\"177.866\\\"\\/>\\n  <use xlink:href=\\\"#glyph-1580969628598077-0-1\\\" x=\\\"229.86732\\\" y=\\\"177.866\\\"\\/>\\n<\\/g>\\n<g style=\\\"fill:rgb(0%,0%,0%);fill-opacity:1;\\\">\\n  <use xlink:href=\\\"#glyph-1580969628598077-0-1\\\" x=\\\"27.095\\\" y=\\\"171.136\\\"\\/>\\n<\\/g>\\n<g style=\\\"fill:rgb(0%,0%,0%);fill-opacity:1;\\\">\\n  <use xlink:href=\\\"#glyph-1580969628598077-0-1\\\" x=\\\"19.346\\\" y=\\\"138.857\\\"\\/>\\n<\\/g>\\n<g style=\\\"fill:rgb(0%,0%,0%);fill-opacity:1;\\\">\\n  <use xlink:href=\\\"#glyph-1580969628598077-1-1\\\" x=\\\"24.328\\\" y=\\\"138.857\\\"\\/>\\n<\\/g>\\n<g style=\\\"fill:rgb(0%,0%,0%);fill-opacity:1;\\\">\\n  <use xlink:href=\\\"#glyph-1580969628598077-0-3\\\" x=\\\"27.095\\\" y=\\\"138.857\\\"\\/>\\n<\\/g>\\n<g style=\\\"fill:rgb(0%,0%,0%);fill-opacity:1;\\\">\\n  <use xlink:href=\\\"#glyph-1580969628598077-0-1\\\" x=\\\"19.346\\\" y=\\\"106.578\\\"\\/>\\n<\\/g>\\n<g style=\\\"fill:rgb(0%,0%,0%);fill-opacity:1;\\\">\\n  <use xlink:href=\\\"#glyph-1580969628598077-1-1\\\" x=\\\"24.328\\\" y=\\\"106.578\\\"\\/>\\n<\\/g>\\n<g style=\\\"fill:rgb(0%,0%,0%);fill-opacity:1;\\\">\\n  <use xlink:href=\\\"#glyph-1580969628598077-0-5\\\" x=\\\"27.095\\\" y=\\\"106.578\\\"\\/>\\n<\\/g>\\n<g style=\\\"fill:rgb(0%,0%,0%);fill-opacity:1;\\\">\\n  <use xlink:href=\\\"#glyph-1580969628598077-0-1\\\" x=\\\"19.346\\\" y=\\\"74.299\\\"\\/>\\n<\\/g>\\n<g style=\\\"fill:rgb(0%,0%,0%);fill-opacity:1;\\\">\\n  <use xlink:href=\\\"#glyph-1580969628598077-1-1\\\" x=\\\"24.328\\\" y=\\\"74.299\\\"\\/>\\n<\\/g>\\n<g style=\\\"fill:rgb(0%,0%,0%);fill-opacity:1;\\\">\\n  <use xlink:href=\\\"#glyph-1580969628598077-0-7\\\" x=\\\"27.095\\\" y=\\\"74.299\\\"\\/>\\n<\\/g>\\n<g style=\\\"fill:rgb(0%,0%,0%);fill-opacity:1;\\\">\\n  <use xlink:href=\\\"#glyph-1580969628598077-0-1\\\" x=\\\"19.346\\\" y=\\\"42.02\\\"\\/>\\n<\\/g>\\n<g style=\\\"fill:rgb(0%,0%,0%);fill-opacity:1;\\\">\\n  <use xlink:href=\\\"#glyph-1580969628598077-1-1\\\" x=\\\"24.328\\\" y=\\\"42.02\\\"\\/>\\n<\\/g>\\n<g style=\\\"fill:rgb(0%,0%,0%);fill-opacity:1;\\\">\\n  <use xlink:href=\\\"#glyph-1580969628598077-0-8\\\" x=\\\"27.095\\\" y=\\\"42.02\\\"\\/>\\n<\\/g>\\n<g style=\\\"fill:rgb(0%,0%,0%);fill-opacity:1;\\\">\\n  <use xlink:href=\\\"#glyph-1580969628598077-0-2\\\" x=\\\"27.095\\\" y=\\\"9.741\\\"\\/>\\n<\\/g>\\n<g clip-path=\\\"url(#clip-1580969628598077-1)\\\" clip-rule=\\\"nonzero\\\">\\n<path style=\\\"fill:none;stroke-width:1.19553;stroke-linecap:butt;stroke-linejoin:miter;stroke:rgb(0%,0%,100%);stroke-opacity:1;stroke-miterlimit:10;\\\" d=\\\"M 3.884469 47.936719 L 7.771187 56.569531 L 11.657906 61.975781 L 15.540719 66.698438 L 19.427437 71.014844 L 23.314156 73.70625 L 27.196969 76.503125 L 31.083687 79.104688 L 34.970406 80.913281 L 38.853219 82.749219 L 42.739937 84.307813 L 46.626656 85.499219 L 50.509469 86.569531 L 54.396187 87.639844 L 58.282906 88.327344 L 62.165719 89.05 L 66.052437 89.698438 L 69.939156 90.499219 L 73.825875 90.975781 L 77.708687 91.682813 L 81.595406 92.448438 L 85.482125 93.08125 L 89.364937 93.561719 L 93.251656 94.092969 L 97.138375 94.4875 L 101.021187 94.952344 L 104.907906 95.342969 L 108.794625 95.698438 L 112.677437 96.198438 L 120.450875 97.057813 L 124.333687 97.342969 L 128.220406 97.655469 L 132.107125 97.971875 L 135.989937 98.26875 L 139.876656 98.608594 L 143.763375 98.827344 L 147.650094 99.034375 L 151.532906 99.249219 L 155.419625 99.628125 L 159.306344 99.807813 L 163.189156 99.960156 L 167.075875 100.159375 L 170.962594 100.401563 L 174.845406 100.604688 L 178.732125 100.803906 L 182.618844 101.01875 L 186.501656 101.167188 L 190.388375 101.339063 L 194.275094 101.58125 \\\" transform=\\\"matrix(1,0,0,-1,35.596,167.925)\\\"\\/>\\n<\\/g>\\n<g clip-path=\\\"url(#clip-1580969628598077-2)\\\" clip-rule=\\\"nonzero\\\">\\n<path style=\\\"fill:none;stroke-width:1.19553;stroke-linecap:butt;stroke-linejoin:miter;stroke:rgb(100%,0%,0%);stroke-opacity:1;stroke-miterlimit:10;\\\" d=\\\"M 3.884469 82.635938 L 7.771187 89.33125 L 11.657906 93.288281 L 15.540719 97.522656 L 19.427437 101.358594 L 23.314156 103.776563 L 27.196969 106.085156 L 31.083687 108.053906 L 34.970406 109.553906 L 38.853219 111.057813 L 42.739937 112.522656 L 46.626656 113.850781 L 50.509469 114.690625 L 54.396187 115.616406 L 58.282906 116.573438 L 62.165719 117.374219 L 66.052437 118.210156 L 69.939156 119.264844 L 73.825875 119.975781 L 77.708687 120.573438 L 81.595406 121.257031 L 85.482125 121.58125 L 89.364937 122.085156 L 93.251656 122.635938 L 97.138375 123.05 L 101.021187 123.553906 L 108.794625 124.522656 L 112.677437 125.003125 L 116.564156 125.292188 L 120.450875 125.565625 L 124.333687 125.874219 L 128.220406 126.155469 L 132.107125 126.440625 L 135.989937 126.698438 L 139.876656 126.995313 L 143.763375 127.264844 L 147.650094 127.51875 L 151.532906 127.721875 L 155.419625 127.952344 L 159.306344 128.139844 L 163.189156 128.378125 L 167.075875 128.538281 L 170.962594 128.7375 L 174.845406 128.917188 L 178.732125 129.077344 L 182.618844 129.311719 L 186.501656 129.510938 L 190.388375 129.717969 L 194.275094 129.858594 \\\" transform=\\\"matrix(1,0,0,-1,35.596,167.925)\\\"\\/>\\n<\\/g>\\n<g clip-path=\\\"url(#clip-1580969628598077-3)\\\" clip-rule=\\\"nonzero\\\">\\n<path style=\\\"fill:none;stroke-width:1.19553;stroke-linecap:butt;stroke-linejoin:miter;stroke:rgb(44.999695%,29.998779%,14.99939%);stroke-opacity:1;stroke-miterlimit:10;\\\" d=\\\"M 3.884469 17.753125 L 7.771187 32.600781 L 11.657906 44.436719 L 15.540719 54.95625 L 19.427437 63.882031 L 23.314156 71.417188 L 27.196969 76.870313 L 31.083687 81.846875 L 34.970406 85.667188 L 38.853219 89.526563 L 42.739937 92.878125 L 46.626656 95.507031 L 50.509469 98.01875 L 54.396187 100.159375 L 58.282906 102.14375 L 62.165719 103.839063 L 66.052437 105.335156 L 69.939156 106.729688 L 73.825875 108.05 L 77.708687 109.288281 L 81.595406 110.401563 L 85.482125 111.276563 L 89.364937 112.08125 L 93.251656 112.835156 L 97.138375 113.604688 L 101.021187 114.323438 L 104.907906 115.053906 L 108.794625 115.635938 L 112.677437 116.296094 L 116.564156 116.964063 L 120.450875 117.565625 L 124.333687 118.038281 L 128.220406 118.600781 L 132.107125 119.08125 L 135.989937 119.616406 L 139.876656 120.100781 L 143.763375 120.448438 L 147.650094 120.882031 L 151.532906 121.257031 L 155.419625 121.632031 L 159.306344 122.038281 L 163.189156 122.428906 L 167.075875 122.757031 L 170.962594 122.999219 L 174.845406 123.280469 L 178.732125 123.561719 L 182.618844 123.878125 L 186.501656 124.120313 L 190.388375 124.39375 L 194.275094 124.690625 \\\" transform=\\\"matrix(1,0,0,-1,35.596,167.925)\\\"\\/>\\n<\\/g>\\n<g style=\\\"fill:rgb(0%,0%,0%);fill-opacity:1;\\\">\\n  <use xlink:href=\\\"#glyph-1580969628598077-2-1\\\" x=\\\"121.838\\\" y=\\\"191.62\\\"\\/>\\n  <use xlink:href=\\\"#glyph-1580969628598077-2-2\\\" x=\\\"128.622558\\\" y=\\\"191.62\\\"\\/>\\n  <use xlink:href=\\\"#glyph-1580969628598077-2-3\\\" x=\\\"134.161786\\\" y=\\\"191.62\\\"\\/>\\n  <use xlink:href=\\\"#glyph-1580969628598077-2-3\\\" x=\\\"136.9314\\\" y=\\\"191.62\\\"\\/>\\n  <use xlink:href=\\\"#glyph-1580969628598077-2-4\\\" x=\\\"139.701014\\\" y=\\\"191.62\\\"\\/>\\n<\\/g>\\n<g style=\\\"fill:rgb(0%,0%,0%);fill-opacity:1;\\\">\\n  <use xlink:href=\\\"#glyph-1580969628598077-3-1\\\" x=\\\"10.454\\\" y=\\\"121.211\\\"\\/>\\n<\\/g>\\n<g style=\\\"fill:rgb(0%,0%,0%);fill-opacity:1;\\\">\\n  <use xlink:href=\\\"#glyph-1580969628598077-3-2\\\" x=\\\"10.454\\\" y=\\\"114.844873\\\"\\/>\\n<\\/g>\\n<g style=\\\"fill:rgb(0%,0%,0%);fill-opacity:1;\\\">\\n  <use xlink:href=\\\"#glyph-1580969628598077-3-3\\\" x=\\\"10.454\\\" y=\\\"109.863553\\\"\\/>\\n  <use xlink:href=\\\"#glyph-1580969628598077-3-4\\\" x=\\\"10.454\\\" y=\\\"105.440141\\\"\\/>\\n  <use xlink:href=\\\"#glyph-1580969628598077-3-5\\\" x=\\\"10.454\\\" y=\\\"101.534786\\\"\\/>\\n  <use xlink:href=\\\"#glyph-1580969628598077-3-6\\\" x=\\\"10.454\\\" y=\\\"96.553466\\\"\\/>\\n  <use xlink:href=\\\"#glyph-1580969628598077-3-3\\\" x=\\\"10.454\\\" y=\\\"91.572146\\\"\\/>\\n<\\/g>\\n<g style=\\\"fill:rgb(0%,0%,0%);fill-opacity:1;\\\">\\n  <use xlink:href=\\\"#glyph-1580969628598077-3-7\\\" x=\\\"10.454\\\" y=\\\"83.831175\\\"\\/>\\n  <use xlink:href=\\\"#glyph-1580969628598077-3-8\\\" x=\\\"10.454\\\" y=\\\"79.905895\\\"\\/>\\n  <use xlink:href=\\\"#glyph-1580969628598077-3-9\\\" x=\\\"10.454\\\" y=\\\"74.366667\\\"\\/>\\n  <use xlink:href=\\\"#glyph-1580969628598077-3-9\\\" x=\\\"10.454\\\" y=\\\"69.943255\\\"\\/>\\n  <use xlink:href=\\\"#glyph-1580969628598077-3-3\\\" x=\\\"10.454\\\" y=\\\"65.519842\\\"\\/>\\n  <use xlink:href=\\\"#glyph-1580969628598077-3-7\\\" x=\\\"10.454\\\" y=\\\"61.09643\\\"\\/>\\n  <use xlink:href=\\\"#glyph-1580969628598077-3-7\\\" x=\\\"10.454\\\" y=\\\"57.17115\\\"\\/>\\n<\\/g>\\n<path style=\\\"fill-rule:nonzero;fill:rgb(100%,100%,100%);fill-opacity:1;stroke-width:0.3985;stroke-linecap:butt;stroke-linejoin:miter;stroke:rgb(0%,0%,0%);stroke-opacity:1;stroke-miterlimit:10;\\\" d=\\\"M 114.3415 5.042188 L 188.24775 5.042188 L 188.24775 46.315625 L 114.3415 46.315625 Z M 114.3415 5.042188 \\\" transform=\\\"matrix(1,0,0,-1,35.596,167.925)\\\"\\/>\\n<path style=\\\"fill:none;stroke-width:1.19553;stroke-linecap:butt;stroke-linejoin:miter;stroke:rgb(0%,0%,100%);stroke-opacity:1;stroke-miterlimit:10;\\\" d=\\\"M 0.0014375 -0.00178125 L 17.00925 -0.00178125 \\\" transform=\\\"matrix(1,0,0,-1,153.522,129.799)\\\"\\/>\\n<g style=\\\"fill:rgb(0%,0%,0%);fill-opacity:1;\\\">\\n  <use xlink:href=\\\"#glyph-1580969628598077-2-5\\\" x=\\\"173.12\\\" y=\\\"132.509\\\"\\/>\\n  <use xlink:href=\\\"#glyph-1580969628598077-2-6\\\" x=\\\"177.543412\\\" y=\\\"132.509\\\"\\/>\\n  <use xlink:href=\\\"#glyph-1580969628598077-2-4\\\" x=\\\"183.08264\\\" y=\\\"132.509\\\"\\/>\\n<\\/g>\\n<g style=\\\"fill:rgb(0%,0%,0%);fill-opacity:1;\\\">\\n  <use xlink:href=\\\"#glyph-1580969628598077-2-7\\\" x=\\\"190.325479\\\" y=\\\"132.509\\\"\\/>\\n  <use xlink:href=\\\"#glyph-1580969628598077-2-8\\\" x=\\\"195.306799\\\" y=\\\"132.509\\\"\\/>\\n  <use xlink:href=\\\"#glyph-1580969628598077-2-5\\\" x=\\\"199.212154\\\" y=\\\"132.509\\\"\\/>\\n  <use xlink:href=\\\"#glyph-1580969628598077-2-5\\\" x=\\\"203.635566\\\" y=\\\"132.509\\\"\\/>\\n  <use xlink:href=\\\"#glyph-1580969628598077-2-9\\\" x=\\\"208.058978\\\" y=\\\"132.509\\\"\\/>\\n  <use xlink:href=\\\"#glyph-1580969628598077-2-10\\\" x=\\\"213.598206\\\" y=\\\"132.509\\\"\\/>\\n<\\/g>\\n<path style=\\\"fill:none;stroke-width:1.19553;stroke-linecap:butt;stroke-linejoin:miter;stroke:rgb(100%,0%,0%);stroke-opacity:1;stroke-miterlimit:10;\\\" d=\\\"M 0.0014375 0.00090625 L 17.00925 0.00090625 \\\" transform=\\\"matrix(1,0,0,-1,153.522,142.247)\\\"\\/>\\n<g style=\\\"fill:rgb(0%,0%,0%);fill-opacity:1;\\\">\\n  <use xlink:href=\\\"#glyph-1580969628598077-2-4\\\" x=\\\"173.12\\\" y=\\\"145.012\\\"\\/>\\n  <use xlink:href=\\\"#glyph-1580969628598077-2-11\\\" x=\\\"177.04528\\\" y=\\\"145.012\\\"\\/>\\n  <use xlink:href=\\\"#glyph-1580969628598077-2-12\\\" x=\\\"182.0266\\\" y=\\\"145.012\\\"\\/>\\n  <use xlink:href=\\\"#glyph-1580969628598077-2-13\\\" x=\\\"185.075168\\\" y=\\\"145.012\\\"\\/>\\n  <use xlink:href=\\\"#glyph-1580969628598077-2-14\\\" x=\\\"188.950635\\\" y=\\\"145.012\\\"\\/>\\n  <use xlink:href=\\\"#glyph-1580969628598077-2-15\\\" x=\\\"197.249514\\\" y=\\\"145.012\\\"\\/>\\n  <use xlink:href=\\\"#glyph-1580969628598077-2-16\\\" x=\\\"202.230834\\\" y=\\\"145.012\\\"\\/>\\n<\\/g>\\n<path style=\\\"fill:none;stroke-width:1.19553;stroke-linecap:butt;stroke-linejoin:miter;stroke:rgb(44.999695%,29.998779%,14.99939%);stroke-opacity:1;stroke-miterlimit:10;\\\" d=\\\"M 0.0014375 -0.0003125 L 17.00925 -0.0003125 \\\" transform=\\\"matrix(1,0,0,-1,153.522,154.695)\\\"\\/>\\n<g style=\\\"fill:rgb(0%,0%,0%);fill-opacity:1;\\\">\\n  <use xlink:href=\\\"#glyph-1580969628598077-2-17\\\" x=\\\"173.12\\\" y=\\\"157.405\\\"\\/>\\n  <use xlink:href=\\\"#glyph-1580969628598077-2-18\\\" x=\\\"175.889614\\\" y=\\\"157.405\\\"\\/>\\n<\\/g>\\n<g style=\\\"fill:rgb(0%,0%,0%);fill-opacity:1;\\\">\\n  <use xlink:href=\\\"#glyph-1580969628598077-2-13\\\" x=\\\"181.149888\\\" y=\\\"157.405\\\"\\/>\\n  <use xlink:href=\\\"#glyph-1580969628598077-2-5\\\" x=\\\"185.025355\\\" y=\\\"157.405\\\"\\/>\\n  <use xlink:href=\\\"#glyph-1580969628598077-2-8\\\" x=\\\"189.448767\\\" y=\\\"157.405\\\"\\/>\\n  <use xlink:href=\\\"#glyph-1580969628598077-2-19\\\" x=\\\"193.354122\\\" y=\\\"157.405\\\"\\/>\\n<\\/g>\\n<g style=\\\"fill:rgb(0%,0%,0%);fill-opacity:1;\\\">\\n  <use xlink:href=\\\"#glyph-1580969628598077-2-15\\\" x=\\\"198.056488\\\" y=\\\"157.405\\\"\\/>\\n  <use xlink:href=\\\"#glyph-1580969628598077-2-3\\\" x=\\\"203.037808\\\" y=\\\"157.405\\\"\\/>\\n<\\/g>\\n<\\/g>\\n<\\/svg>\\n\\n\"},\"nodeType\":\"DOM\",\"type\":\"node\",\"instanceArgs\":{\"namespace\":\"html\",\"tag\":\"div\"},\"children\":[]}]}}}},\"children\":[{\"props\":{},\"nodeType\":\"ObservableNode\",\"type\":\"node\",\"instanceArgs\":{\"id\":\"ob_69\",\"name\":\"obs-node\"},\"children\":[]}]}]},\n",
       "            window,\n",
       "        );\n",
       "    } else {\n",
       "        document\n",
       "            .querySelector('[data-webio-mountpoint=\"548620482820126331\"]')\n",
       "            .innerHTML = (\n",
       "                '<div style=\"padding: 1em; background-color: #f8d6da; border: 1px solid #f5c6cb\">' +\n",
       "                '<p><strong>WebIO not detected.</strong></p>' +\n",
       "                '<p>Please read ' +\n",
       "                '<a href=\"https://juliagizmos.github.io/WebIO.jl/latest/troubleshooting/not-detected/\" target=\"_blank\">the troubleshooting guide</a> ' +\n",
       "                'for more information on how to resolve this issue.</p>' +\n",
       "                '<p><a href=\"https://juliagizmos.github.io/WebIO.jl/latest/troubleshooting/not-detected/\" target=\"_blank\">https://juliagizmos.github.io/WebIO.jl/latest/troubleshooting/not-detected/</a></p>' +\n",
       "                '</div>'\n",
       "            );\n",
       "    }\n",
       "    </script>\n",
       "</div>\n"
      ],
      "text/plain": [
       "Node{WebIO.DOM}(WebIO.DOM(:html, :div), Any[Node{WebIO.DOM}(WebIO.DOM(:html, :div), Any[Scope(Node{WebIO.DOM}(WebIO.DOM(:html, :div), Any[Node{WebIO.DOM}(WebIO.DOM(:html, :div), Any[Node{WebIO.DOM}(WebIO.DOM(:html, :label), Any[\"epsgreedy\"], Dict{Symbol,Any}(:className => \"interact \",:style => Dict{Any,Any}(:padding => \"5px 10px 0px 10px\")))], Dict{Symbol,Any}(:className => \"interact-flex-row-left\")), Node{WebIO.DOM}(WebIO.DOM(:html, :div), Any[Node{WebIO.DOM}(WebIO.DOM(:html, :input), Any[], Dict{Symbol,Any}(:max => 11,:min => 1,:attributes => Dict{Any,Any}(:type => \"range\",Symbol(\"data-bind\") => \"numericValue: index, valueUpdate: 'input', event: {change: function (){this.changes(this.changes()+1)}}\",\"orient\" => \"horizontal\"),:step => 1,:className => \"slider slider is-fullwidth\",:style => Dict{Any,Any}()))], Dict{Symbol,Any}(:className => \"interact-flex-row-center\")), Node{WebIO.DOM}(WebIO.DOM(:html, :div), Any[Node{WebIO.DOM}(WebIO.DOM(:html, :p), Any[], Dict{Symbol,Any}(:attributes => Dict(\"data-bind\" => \"text: formatted_val\")))], Dict{Symbol,Any}(:className => \"interact-flex-row-right\"))], Dict{Symbol,Any}(:className => \"interact-flex-row interact-widget\")), Dict{String,Tuple{Observables.AbstractObservable,Union{Nothing, Bool}}}(\"changes\" => (Observable{Int64} with 1 listeners. Value:\n",
       "0, nothing),\"index\" => (Observable{Any} with 2 listeners. Value:\n",
       "6, nothing)), Set(String[]), nothing, Asset[Asset(\"js\", \"knockout\", \"/home/zach/.julia/packages/Knockout/1sDlc/src/../assets/knockout.js\"), Asset(\"js\", \"knockout_punches\", \"/home/zach/.julia/packages/Knockout/1sDlc/src/../assets/knockout_punches.js\"), Asset(\"js\", nothing, \"/home/zach/.julia/packages/InteractBase/9mFwe/src/../assets/all.js\"), Asset(\"css\", nothing, \"/home/zach/.julia/packages/InteractBase/9mFwe/src/../assets/style.css\"), Asset(\"css\", nothing, \"/home/zach/.julia/packages/Interact/SbgIk/src/../assets/bulma_confined.min.css\")], Dict{Any,Any}(\"changes\" => Any[WebIO.JSString(\"(function (val){return (val!=this.model[\\\"changes\\\"]()) ? (this.valueFromJulia[\\\"changes\\\"]=true, this.model[\\\"changes\\\"](val)) : undefined})\")],\"index\" => Any[WebIO.JSString(\"(function (val){return (val!=this.model[\\\"index\\\"]()) ? (this.valueFromJulia[\\\"index\\\"]=true, this.model[\\\"index\\\"](val)) : undefined})\")]), WebIO.ConnectionPool(Channel{Any}(sz_max:32,sz_curr:0), Set(AbstractConnection[]), Base.GenericCondition{Base.AlwaysLockedST}(Base.InvasiveLinkedList{Task}(Task (runnable) @0x00007fe63840f5b0, Task (runnable) @0x00007fe63840f5b0), Base.AlwaysLockedST(1))), WebIO.JSString[WebIO.JSString(\"function () {\\n    var handler = (function (ko, koPunches) {\\n    ko.punches.enableAll();\\n    ko.bindingHandlers.numericValue = {\\n        init: function(element, valueAccessor, allBindings, data, context) {\\n            var stringified = ko.observable(ko.unwrap(valueAccessor()));\\n            stringified.subscribe(function(value) {\\n                var val = parseFloat(value);\\n                if (!isNaN(val)) {\\n                    valueAccessor()(val);\\n                }\\n            });\\n            valueAccessor().subscribe(function(value) {\\n                var str = JSON.stringify(value);\\n                if ((str == \\\"0\\\") && ([\\\"-0\\\", \\\"-0.\\\"].indexOf(stringified()) >= 0))\\n                     return;\\n                 if ([\\\"null\\\", \\\"\\\"].indexOf(str) >= 0)\\n                     return;\\n                stringified(str);\\n            });\\n            ko.applyBindingsToNode(\\n                element,\\n                {\\n                    value: stringified,\\n                    valueUpdate: allBindings.get('valueUpdate'),\\n                },\\n                context,\\n            );\\n        }\\n    };\\n    var json_data = {\\\"formatted_vals\\\":[\\\"0.0\\\",\\\"0.1\\\",\\\"0.2\\\",\\\"0.3\\\",\\\"0.4\\\",\\\"0.5\\\",\\\"0.6\\\",\\\"0.7\\\",\\\"0.8\\\",\\\"0.9\\\",\\\"1.0\\\"],\\\"changes\\\":WebIO.getval({\\\"name\\\":\\\"changes\\\",\\\"scope\\\":\\\"10024902167655347411\\\",\\\"id\\\":\\\"ob_59\\\",\\\"type\\\":\\\"observable\\\"}),\\\"index\\\":WebIO.getval({\\\"name\\\":\\\"index\\\",\\\"scope\\\":\\\"10024902167655347411\\\",\\\"id\\\":\\\"ob_58\\\",\\\"type\\\":\\\"observable\\\"})};\\n    var self = this;\\n    function AppViewModel() {\\n        for (var key in json_data) {\\n            var el = json_data[key];\\n            this[key] = Array.isArray(el) ? ko.observableArray(el) : ko.observable(el);\\n        }\\n        \\n        [this[\\\"formatted_val\\\"]=ko.computed(    function(){\\n        return this.formatted_vals()[parseInt(this.index())-(1)];\\n    }\\n,this)]\\n        [this[\\\"changes\\\"].subscribe((function (val){!(this.valueFromJulia[\\\"changes\\\"]) ? (WebIO.setval({\\\"name\\\":\\\"changes\\\",\\\"scope\\\":\\\"10024902167655347411\\\",\\\"id\\\":\\\"ob_59\\\",\\\"type\\\":\\\"observable\\\"},val)) : undefined; return this.valueFromJulia[\\\"changes\\\"]=false}),self),this[\\\"index\\\"].subscribe((function (val){!(this.valueFromJulia[\\\"index\\\"]) ? (WebIO.setval({\\\"name\\\":\\\"index\\\",\\\"scope\\\":\\\"10024902167655347411\\\",\\\"id\\\":\\\"ob_58\\\",\\\"type\\\":\\\"observable\\\"},val)) : undefined; return this.valueFromJulia[\\\"index\\\"]=false}),self)]\\n        \\n    }\\n    self.model = new AppViewModel();\\n    self.valueFromJulia = {};\\n    for (var key in json_data) {\\n        self.valueFromJulia[key] = false;\\n    }\\n    ko.applyBindings(self.model, self.dom);\\n}\\n);\\n    (WebIO.importBlock({\\\"data\\\":[{\\\"name\\\":\\\"knockout\\\",\\\"type\\\":\\\"js\\\",\\\"url\\\":\\\"/assetserver/3e541dee53151b2c541f58d90425f0a0925f9e0f-knockout.js\\\"},{\\\"name\\\":\\\"knockout_punches\\\",\\\"type\\\":\\\"js\\\",\\\"url\\\":\\\"/assetserver/a2fe821063f7b9402a4f3a4f892ed8b183d4262e-knockout_punches.js\\\"}],\\\"type\\\":\\\"async_block\\\"})).then((imports) => handler.apply(this, imports));\\n}\\n\")])], Dict{Symbol,Any}(:className => \"field interact-widget\")), Node{WebIO.DOM}(WebIO.DOM(:html, :div), Any[Scope(Node{WebIO.DOM}(WebIO.DOM(:html, :div), Any[Node{WebIO.DOM}(WebIO.DOM(:html, :div), Any[Node{WebIO.DOM}(WebIO.DOM(:html, :label), Any[\"softmax\"], Dict{Symbol,Any}(:className => \"interact \",:style => Dict{Any,Any}(:padding => \"5px 10px 0px 10px\")))], Dict{Symbol,Any}(:className => \"interact-flex-row-left\")), Node{WebIO.DOM}(WebIO.DOM(:html, :div), Any[Node{WebIO.DOM}(WebIO.DOM(:html, :input), Any[], Dict{Symbol,Any}(:max => 21,:min => 1,:attributes => Dict{Any,Any}(:type => \"range\",Symbol(\"data-bind\") => \"numericValue: index, valueUpdate: 'input', event: {change: function (){this.changes(this.changes()+1)}}\",\"orient\" => \"horizontal\"),:step => 1,:className => \"slider slider is-fullwidth\",:style => Dict{Any,Any}()))], Dict{Symbol,Any}(:className => \"interact-flex-row-center\")), Node{WebIO.DOM}(WebIO.DOM(:html, :div), Any[Node{WebIO.DOM}(WebIO.DOM(:html, :p), Any[], Dict{Symbol,Any}(:attributes => Dict(\"data-bind\" => \"text: formatted_val\")))], Dict{Symbol,Any}(:className => \"interact-flex-row-right\"))], Dict{Symbol,Any}(:className => \"interact-flex-row interact-widget\")), Dict{String,Tuple{Observables.AbstractObservable,Union{Nothing, Bool}}}(\"changes\" => (Observable{Int64} with 1 listeners. Value:\n",
       "0, nothing),\"index\" => (Observable{Any} with 2 listeners. Value:\n",
       "11, nothing)), Set(String[]), nothing, Asset[Asset(\"js\", \"knockout\", \"/home/zach/.julia/packages/Knockout/1sDlc/src/../assets/knockout.js\"), Asset(\"js\", \"knockout_punches\", \"/home/zach/.julia/packages/Knockout/1sDlc/src/../assets/knockout_punches.js\"), Asset(\"js\", nothing, \"/home/zach/.julia/packages/InteractBase/9mFwe/src/../assets/all.js\"), Asset(\"css\", nothing, \"/home/zach/.julia/packages/InteractBase/9mFwe/src/../assets/style.css\"), Asset(\"css\", nothing, \"/home/zach/.julia/packages/Interact/SbgIk/src/../assets/bulma_confined.min.css\")], Dict{Any,Any}(\"changes\" => Any[WebIO.JSString(\"(function (val){return (val!=this.model[\\\"changes\\\"]()) ? (this.valueFromJulia[\\\"changes\\\"]=true, this.model[\\\"changes\\\"](val)) : undefined})\")],\"index\" => Any[WebIO.JSString(\"(function (val){return (val!=this.model[\\\"index\\\"]()) ? (this.valueFromJulia[\\\"index\\\"]=true, this.model[\\\"index\\\"](val)) : undefined})\")]), WebIO.ConnectionPool(Channel{Any}(sz_max:32,sz_curr:0), Set(AbstractConnection[]), Base.GenericCondition{Base.AlwaysLockedST}(Base.InvasiveLinkedList{Task}(Task (runnable) @0x00007fe634822e60, Task (runnable) @0x00007fe634822e60), Base.AlwaysLockedST(1))), WebIO.JSString[WebIO.JSString(\"function () {\\n    var handler = (function (ko, koPunches) {\\n    ko.punches.enableAll();\\n    ko.bindingHandlers.numericValue = {\\n        init: function(element, valueAccessor, allBindings, data, context) {\\n            var stringified = ko.observable(ko.unwrap(valueAccessor()));\\n            stringified.subscribe(function(value) {\\n                var val = parseFloat(value);\\n                if (!isNaN(val)) {\\n                    valueAccessor()(val);\\n                }\\n            });\\n            valueAccessor().subscribe(function(value) {\\n                var str = JSON.stringify(value);\\n                if ((str == \\\"0\\\") && ([\\\"-0\\\", \\\"-0.\\\"].indexOf(stringified()) >= 0))\\n                     return;\\n                 if ([\\\"null\\\", \\\"\\\"].indexOf(str) >= 0)\\n                     return;\\n                stringified(str);\\n            });\\n            ko.applyBindingsToNode(\\n                element,\\n                {\\n                    value: stringified,\\n                    valueUpdate: allBindings.get('valueUpdate'),\\n                },\\n                context,\\n            );\\n        }\\n    };\\n    var json_data = {\\\"formatted_vals\\\":[\\\"0\\\",\\\"2\\\",\\\"4\\\",\\\"6\\\",\\\"8\\\",\\\"10\\\",\\\"12\\\",\\\"14\\\",\\\"16\\\",\\\"18\\\",\\\"20\\\",\\\"22\\\",\\\"24\\\",\\\"26\\\",\\\"28\\\",\\\"30\\\",\\\"32\\\",\\\"34\\\",\\\"36\\\",\\\"38\\\",\\\"40\\\"],\\\"changes\\\":WebIO.getval({\\\"name\\\":\\\"changes\\\",\\\"scope\\\":\\\"16655771311277717643\\\",\\\"id\\\":\\\"ob_62\\\",\\\"type\\\":\\\"observable\\\"}),\\\"index\\\":WebIO.getval({\\\"name\\\":\\\"index\\\",\\\"scope\\\":\\\"16655771311277717643\\\",\\\"id\\\":\\\"ob_61\\\",\\\"type\\\":\\\"observable\\\"})};\\n    var self = this;\\n    function AppViewModel() {\\n        for (var key in json_data) {\\n            var el = json_data[key];\\n            this[key] = Array.isArray(el) ? ko.observableArray(el) : ko.observable(el);\\n        }\\n        \\n        [this[\\\"formatted_val\\\"]=ko.computed(    function(){\\n        return this.formatted_vals()[parseInt(this.index())-(1)];\\n    }\\n,this)]\\n        [this[\\\"changes\\\"].subscribe((function (val){!(this.valueFromJulia[\\\"changes\\\"]) ? (WebIO.setval({\\\"name\\\":\\\"changes\\\",\\\"scope\\\":\\\"16655771311277717643\\\",\\\"id\\\":\\\"ob_62\\\",\\\"type\\\":\\\"observable\\\"},val)) : undefined; return this.valueFromJulia[\\\"changes\\\"]=false}),self),this[\\\"index\\\"].subscribe((function (val){!(this.valueFromJulia[\\\"index\\\"]) ? (WebIO.setval({\\\"name\\\":\\\"index\\\",\\\"scope\\\":\\\"16655771311277717643\\\",\\\"id\\\":\\\"ob_61\\\",\\\"type\\\":\\\"observable\\\"},val)) : undefined; return this.valueFromJulia[\\\"index\\\"]=false}),self)]\\n        \\n    }\\n    self.model = new AppViewModel();\\n    self.valueFromJulia = {};\\n    for (var key in json_data) {\\n        self.valueFromJulia[key] = false;\\n    }\\n    ko.applyBindings(self.model, self.dom);\\n}\\n);\\n    (WebIO.importBlock({\\\"data\\\":[{\\\"name\\\":\\\"knockout\\\",\\\"type\\\":\\\"js\\\",\\\"url\\\":\\\"/assetserver/3e541dee53151b2c541f58d90425f0a0925f9e0f-knockout.js\\\"},{\\\"name\\\":\\\"knockout_punches\\\",\\\"type\\\":\\\"js\\\",\\\"url\\\":\\\"/assetserver/a2fe821063f7b9402a4f3a4f892ed8b183d4262e-knockout_punches.js\\\"}],\\\"type\\\":\\\"async_block\\\"})).then((imports) => handler.apply(this, imports));\\n}\\n\")])], Dict{Symbol,Any}(:className => \"field interact-widget\")), Node{WebIO.DOM}(WebIO.DOM(:html, :div), Any[Scope(Node{WebIO.DOM}(WebIO.DOM(:html, :div), Any[Node{WebIO.DOM}(WebIO.DOM(:html, :div), Any[Node{WebIO.DOM}(WebIO.DOM(:html, :label), Any[\"interval\"], Dict{Symbol,Any}(:className => \"interact \",:style => Dict{Any,Any}(:padding => \"5px 10px 0px 10px\")))], Dict{Symbol,Any}(:className => \"interact-flex-row-left\")), Node{WebIO.DOM}(WebIO.DOM(:html, :div), Any[Node{WebIO.DOM}(WebIO.DOM(:html, :input), Any[], Dict{Symbol,Any}(:max => 11,:min => 1,:attributes => Dict{Any,Any}(:type => \"range\",Symbol(\"data-bind\") => \"numericValue: index, valueUpdate: 'input', event: {change: function (){this.changes(this.changes()+1)}}\",\"orient\" => \"horizontal\"),:step => 1,:className => \"slider slider is-fullwidth\",:style => Dict{Any,Any}()))], Dict{Symbol,Any}(:className => \"interact-flex-row-center\")), Node{WebIO.DOM}(WebIO.DOM(:html, :div), Any[Node{WebIO.DOM}(WebIO.DOM(:html, :p), Any[], Dict{Symbol,Any}(:attributes => Dict(\"data-bind\" => \"text: formatted_val\")))], Dict{Symbol,Any}(:className => \"interact-flex-row-right\"))], Dict{Symbol,Any}(:className => \"interact-flex-row interact-widget\")), Dict{String,Tuple{Observables.AbstractObservable,Union{Nothing, Bool}}}(\"changes\" => (Observable{Int64} with 1 listeners. Value:\n",
       "0, nothing),\"index\" => (Observable{Any} with 2 listeners. Value:\n",
       "6, nothing)), Set(String[]), nothing, Asset[Asset(\"js\", \"knockout\", \"/home/zach/.julia/packages/Knockout/1sDlc/src/../assets/knockout.js\"), Asset(\"js\", \"knockout_punches\", \"/home/zach/.julia/packages/Knockout/1sDlc/src/../assets/knockout_punches.js\"), Asset(\"js\", nothing, \"/home/zach/.julia/packages/InteractBase/9mFwe/src/../assets/all.js\"), Asset(\"css\", nothing, \"/home/zach/.julia/packages/InteractBase/9mFwe/src/../assets/style.css\"), Asset(\"css\", nothing, \"/home/zach/.julia/packages/Interact/SbgIk/src/../assets/bulma_confined.min.css\")], Dict{Any,Any}(\"changes\" => Any[WebIO.JSString(\"(function (val){return (val!=this.model[\\\"changes\\\"]()) ? (this.valueFromJulia[\\\"changes\\\"]=true, this.model[\\\"changes\\\"](val)) : undefined})\")],\"index\" => Any[WebIO.JSString(\"(function (val){return (val!=this.model[\\\"index\\\"]()) ? (this.valueFromJulia[\\\"index\\\"]=true, this.model[\\\"index\\\"](val)) : undefined})\")]), WebIO.ConnectionPool(Channel{Any}(sz_max:32,sz_curr:0), Set(AbstractConnection[]), Base.GenericCondition{Base.AlwaysLockedST}(Base.InvasiveLinkedList{Task}(Task (runnable) @0x00007fe634194760, Task (runnable) @0x00007fe634194760), Base.AlwaysLockedST(1))), WebIO.JSString[WebIO.JSString(\"function () {\\n    var handler = (function (ko, koPunches) {\\n    ko.punches.enableAll();\\n    ko.bindingHandlers.numericValue = {\\n        init: function(element, valueAccessor, allBindings, data, context) {\\n            var stringified = ko.observable(ko.unwrap(valueAccessor()));\\n            stringified.subscribe(function(value) {\\n                var val = parseFloat(value);\\n                if (!isNaN(val)) {\\n                    valueAccessor()(val);\\n                }\\n            });\\n            valueAccessor().subscribe(function(value) {\\n                var str = JSON.stringify(value);\\n                if ((str == \\\"0\\\") && ([\\\"-0\\\", \\\"-0.\\\"].indexOf(stringified()) >= 0))\\n                     return;\\n                 if ([\\\"null\\\", \\\"\\\"].indexOf(str) >= 0)\\n                     return;\\n                stringified(str);\\n            });\\n            ko.applyBindingsToNode(\\n                element,\\n                {\\n                    value: stringified,\\n                    valueUpdate: allBindings.get('valueUpdate'),\\n                },\\n                context,\\n            );\\n        }\\n    };\\n    var json_data = {\\\"formatted_vals\\\":[\\\"0.5\\\",\\\"0.55\\\",\\\"0.6\\\",\\\"0.65\\\",\\\"0.7\\\",\\\"0.75\\\",\\\"0.8\\\",\\\"0.85\\\",\\\"0.9\\\",\\\"0.95\\\",\\\"1.0\\\"],\\\"changes\\\":WebIO.getval({\\\"name\\\":\\\"changes\\\",\\\"scope\\\":\\\"6657888885061492283\\\",\\\"id\\\":\\\"ob_65\\\",\\\"type\\\":\\\"observable\\\"}),\\\"index\\\":WebIO.getval({\\\"name\\\":\\\"index\\\",\\\"scope\\\":\\\"6657888885061492283\\\",\\\"id\\\":\\\"ob_64\\\",\\\"type\\\":\\\"observable\\\"})};\\n    var self = this;\\n    function AppViewModel() {\\n        for (var key in json_data) {\\n            var el = json_data[key];\\n            this[key] = Array.isArray(el) ? ko.observableArray(el) : ko.observable(el);\\n        }\\n        \\n        [this[\\\"formatted_val\\\"]=ko.computed(    function(){\\n        return this.formatted_vals()[parseInt(this.index())-(1)];\\n    }\\n,this)]\\n        [this[\\\"changes\\\"].subscribe((function (val){!(this.valueFromJulia[\\\"changes\\\"]) ? (WebIO.setval({\\\"name\\\":\\\"changes\\\",\\\"scope\\\":\\\"6657888885061492283\\\",\\\"id\\\":\\\"ob_65\\\",\\\"type\\\":\\\"observable\\\"},val)) : undefined; return this.valueFromJulia[\\\"changes\\\"]=false}),self),this[\\\"index\\\"].subscribe((function (val){!(this.valueFromJulia[\\\"index\\\"]) ? (WebIO.setval({\\\"name\\\":\\\"index\\\",\\\"scope\\\":\\\"6657888885061492283\\\",\\\"id\\\":\\\"ob_64\\\",\\\"type\\\":\\\"observable\\\"},val)) : undefined; return this.valueFromJulia[\\\"index\\\"]=false}),self)]\\n        \\n    }\\n    self.model = new AppViewModel();\\n    self.valueFromJulia = {};\\n    for (var key in json_data) {\\n        self.valueFromJulia[key] = false;\\n    }\\n    ko.applyBindings(self.model, self.dom);\\n}\\n);\\n    (WebIO.importBlock({\\\"data\\\":[{\\\"name\\\":\\\"knockout\\\",\\\"type\\\":\\\"js\\\",\\\"url\\\":\\\"/assetserver/3e541dee53151b2c541f58d90425f0a0925f9e0f-knockout.js\\\"},{\\\"name\\\":\\\"knockout_punches\\\",\\\"type\\\":\\\"js\\\",\\\"url\\\":\\\"/assetserver/a2fe821063f7b9402a4f3a4f892ed8b183d4262e-knockout_punches.js\\\"}],\\\"type\\\":\\\"async_block\\\"})).then((imports) => handler.apply(this, imports));\\n}\\n\")])], Dict{Symbol,Any}(:className => \"field interact-widget\")), Observable{Any} with 0 listeners. Value:\n",
       "Node{WebIO.DOM}(WebIO.DOM(:html, :div), Any[Axis(PGFPlots.Plots.Plot[PGFPlots.Plots.Linear(Real[1.0 2.0 … 49.0 50.0; 0.297 0.3505 … 0.6278775510204081 0.62938], \"none\", nothing, \"very thick\", \"eps greedy\", nothing, nothing, nothing, false), PGFPlots.Plots.Linear(Real[1.0 2.0 … 49.0 50.0; 0.512 0.5535 … 0.8037142857142857 0.80458], \"none\", nothing, \"very thick\", \"softmax\", nothing, nothing, nothing, false), PGFPlots.Plots.Linear(Real[1.0 2.0 … 49.0 50.0; 0.11 0.202 … 0.770734693877551 0.77256], \"none\", nothing, \"very thick\", \"interval\", nothing, nothing, nothing, false)], nothing, \"Pulls\", nothing, \"Average success\", nothing, nothing, nothing, 0, 50, 0, 1, nothing, nothing, nothing, nothing, nothing, nothing, nothing, \"legend pos=south east\", nothing, nothing, nothing, nothing, nothing, nothing, nothing, nothing, \"axis\")], Dict{Symbol,Any}(:className => \"interact-flex-row interact-widget\"))], Dict{Symbol,Any}())"
      ]
     },
     "execution_count": 10,
     "metadata": {
      "application/vnd.webio.node+json": {
       "kernelId": null
      }
     },
     "output_type": "execute_result"
    }
   ],
   "source": [
    "steps = 50\n",
    "iterations = 1000\n",
    "bandit = Bandit(collect(0.1:0.2:1))\n",
    "# bandit = Bandit(collect(1:-0.2:0.1))\n",
    "epsgreedy = 0.1\n",
    "softmax = 2\n",
    "interval = 0.05\n",
    "@manipulate for epsgreedy in 0:0.1:1, softmax in 0:2:40, interval in 0.5:0.05:1\n",
    "    epsGreedyResults = simulateAverage(bandit, EpsGreedy(epsgreedy), steps=steps, iterations = iterations)./collect(1:steps)\n",
    "    softMaxResults = simulateAverage(bandit, SoftMax(softmax), steps=steps, iterations = iterations)./collect(1:steps)\n",
    "    intervalResults = simulateAverage(bandit, IntervalExploration(interval), steps=steps, iterations = iterations)./collect(1:steps)\n",
    "    Axis([\n",
    "        Plots.Linear(epsGreedyResults, legendentry=\"eps greedy\", style=\"very thick\", mark=\"none\"),\n",
    "        Plots.Linear(softMaxResults, legendentry=\"softmax\", style=\"very thick\", mark=\"none\"),  \n",
    "        Plots.Linear(intervalResults, legendentry=\"interval\", style=\"very thick\", mark=\"none\")  \n",
    "        ], style=\"legend pos=south east\", ymin=0, ymax=1, xmin=0, xmax=steps, xlabel=\"Pulls\", ylabel=\"Average success\")\n",
    "end"
   ]
  },
  {
   "cell_type": "code",
   "execution_count": null,
   "metadata": {},
   "outputs": [],
   "source": []
  }
 ],
 "metadata": {
  "@webio": {
   "lastCommId": "5A381FBD0271495785C7D1AD3B07A76A",
   "lastKernelId": "dd5017fb-e108-4a46-a015-6527faa074d8"
  },
  "anaconda-cloud": {},
  "kernelspec": {
   "display_name": "Julia 1.3.1",
   "language": "julia",
   "name": "julia-1.3"
  },
  "language_info": {
   "file_extension": ".jl",
   "mimetype": "application/julia",
   "name": "julia",
   "version": "1.3.1"
  },
  "widgets": {
   "state": {
    "0e40d84f-ddb6-4ee1-8db6-a3bc8441d940": {
     "views": [
      {
       "cell_index": 3
      }
     ]
    },
    "18eb3a08-fff6-4cf8-aa7b-6fa1e51d7a20": {
     "views": [
      {
       "cell_index": 3
      }
     ]
    },
    "1d46ad8c-32f7-484a-8d3b-b2bed71d0614": {
     "views": [
      {
       "cell_index": 3
      }
     ]
    },
    "32f8a69d-a043-4097-a219-ad7ca74cc8de": {
     "views": [
      {
       "cell_index": 5
      }
     ]
    },
    "427bd531-52fb-4cc5-933c-02548bccf941": {
     "views": [
      {
       "cell_index": 10
      }
     ]
    },
    "434aff25-b296-444f-9302-4384eb672f20": {
     "views": [
      {
       "cell_index": 3
      }
     ]
    },
    "56d454f0-3968-4acf-a6ec-2d981cfdda41": {
     "views": [
      {
       "cell_index": 5
      }
     ]
    },
    "5811ad0d-93de-4a1c-a3ad-c01cca0e33d1": {
     "views": [
      {
       "cell_index": 3
      }
     ]
    },
    "5c0352ac-3c9a-476f-86b1-61add24305ce": {
     "views": [
      {
       "cell_index": 5
      }
     ]
    },
    "72f214ab-cea5-4048-b06f-6bb109825a3b": {
     "views": [
      {
       "cell_index": 5
      }
     ]
    },
    "74a51d51-fab5-4c88-b896-bfeb3a16d921": {
     "views": [
      {
       "cell_index": 10
      }
     ]
    },
    "828887f2-44eb-479f-8dbe-0c027d557c48": {
     "views": [
      {
       "cell_index": 10
      }
     ]
    },
    "9b4808d9-8bfa-41c8-9b4a-fe7918a54a03": {
     "views": [
      {
       "cell_index": 3
      }
     ]
    },
    "ca5363b2-0c70-4c86-8be5-c67f95dbf98f": {
     "views": [
      {
       "cell_index": 3
      }
     ]
    },
    "cb61d392-ec45-4bcc-b308-5332e560ac5b": {
     "views": [
      {
       "cell_index": 10
      }
     ]
    },
    "da711f52-4a08-4a83-8294-3f1263fc18fe": {
     "views": [
      {
       "cell_index": 3
      }
     ]
    },
    "dd506f94-f99b-46e1-8086-12e7edd51b47": {
     "views": [
      {
       "cell_index": 10
      }
     ]
    },
    "e0fc5f15-e407-4b0e-853f-e873c65200c2": {
     "views": [
      {
       "cell_index": 3
      }
     ]
    },
    "f81d86f3-720c-4a05-8685-290724eef008": {
     "views": [
      {
       "cell_index": 3
      }
     ]
    }
   },
   "version": "1.2.0"
  }
 },
 "nbformat": 4,
 "nbformat_minor": 1
}
