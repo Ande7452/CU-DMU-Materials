{
 "cells": [
  {
   "cell_type": "code",
   "execution_count": 26,
   "id": "0d0817cb",
   "metadata": {},
   "outputs": [],
   "source": [
    "using POMDPs\n",
    "using QuickPOMDPs\n",
    "using POMDPTools: Deterministic, Uniform, SparseCat, stepthrough, RandomPolicy, FunctionPolicy"
   ]
  },
  {
   "cell_type": "code",
   "execution_count": 28,
   "id": "89e75715",
   "metadata": {},
   "outputs": [
    {
     "data": {
      "text/plain": [
       "QuickPOMDP{UUID(\"623651bf-cda2-479f-a4ff-ad9d321ad7f7\"), String, String, String, NamedTuple{(:stateindex, :isterminal, :obsindex, :states, :observations, :discount, :actions, :observation, :actionindex, :transition, :reward, :initialstate), Tuple{Dict{String, Int64}, Bool, Dict{String, Int64}, Vector{String}, Vector{String}, Float64, Vector{String}, var\"#20#23\", Dict{String, Int64}, var\"#19#22\", var\"#21#24\", Uniform{Set{String}}}}}((stateindex = Dict(\"left\" => 1, \"right\" => 2), isterminal = false, obsindex = Dict(\"left\" => 1, \"right\" => 2), states = [\"left\", \"right\"], observations = [\"left\", \"right\"], discount = 0.95, actions = [\"left\", \"right\", \"listen\"], observation = var\"#20#23\"(), actionindex = Dict(\"left\" => 1, \"right\" => 2, \"listen\" => 3), transition = var\"#19#22\"(), reward = var\"#21#24\"(), initialstate = Uniform{Set{String}}(Set([\"left\", \"right\"]))))"
      ]
     },
     "execution_count": 28,
     "metadata": {},
     "output_type": "execute_result"
    }
   ],
   "source": [
    "tiger = QuickPOMDP(\n",
    "    states = [\"left\", \"right\"],\n",
    "    actions = [\"left\", \"right\", \"listen\"],\n",
    "    observations = [\"left\", \"right\"],\n",
    "    \n",
    "    transition = function (s, a)\n",
    "        if a == \"listen\"\n",
    "            return Deterministic(s)\n",
    "        else\n",
    "            return Uniform([\"left\", \"right\"])\n",
    "        end\n",
    "    end,\n",
    "    \n",
    "    observation = function (a, sp)\n",
    "        if a == \"listen\"\n",
    "            if sp == \"left\"\n",
    "                return SparseCat([\"left\", \"right\"], [0.85, 0.15])\n",
    "            else\n",
    "                return SparseCat([\"right\", \"left\"], [0.85, 0.15])\n",
    "            end\n",
    "        else\n",
    "            return Uniform([\"left\", \"right\"])\n",
    "        end\n",
    "    end,\n",
    "    \n",
    "    reward = function (s, a)\n",
    "        if a == \"listen\"\n",
    "            return -1.0\n",
    "        elseif a == s\n",
    "            return -100.0\n",
    "        else\n",
    "            return 10.0\n",
    "        end\n",
    "    end,\n",
    "    \n",
    "    initialstate = Uniform([\"left\", \"right\"]),\n",
    "    \n",
    "    discount = 0.95\n",
    ")"
   ]
  },
  {
   "cell_type": "code",
   "execution_count": 29,
   "id": "7bf49e4f",
   "metadata": {},
   "outputs": [
    {
     "data": {
      "text/plain": [
       "(s = \"left\", a = \"right\", r = 10.0, sp = \"left\", o = \"left\")"
      ]
     },
     "metadata": {},
     "output_type": "display_data"
    },
    {
     "data": {
      "text/plain": [
       "(s = \"left\", a = \"left\", r = -100.0, sp = \"right\", o = \"right\")"
      ]
     },
     "metadata": {},
     "output_type": "display_data"
    },
    {
     "data": {
      "text/plain": [
       "(s = \"right\", a = \"listen\", r = -1.0, sp = \"right\", o = \"right\")"
      ]
     },
     "metadata": {},
     "output_type": "display_data"
    },
    {
     "data": {
      "text/plain": [
       "(s = \"right\", a = \"listen\", r = -1.0, sp = \"right\", o = \"right\")"
      ]
     },
     "metadata": {},
     "output_type": "display_data"
    },
    {
     "data": {
      "text/plain": [
       "(s = \"right\", a = \"left\", r = 10.0, sp = \"left\", o = \"left\")"
      ]
     },
     "metadata": {},
     "output_type": "display_data"
    },
    {
     "data": {
      "text/plain": [
       "(s = \"left\", a = \"left\", r = -100.0, sp = \"right\", o = \"right\")"
      ]
     },
     "metadata": {},
     "output_type": "display_data"
    },
    {
     "data": {
      "text/plain": [
       "(s = \"right\", a = \"left\", r = 10.0, sp = \"left\", o = \"left\")"
      ]
     },
     "metadata": {},
     "output_type": "display_data"
    },
    {
     "data": {
      "text/plain": [
       "(s = \"left\", a = \"listen\", r = -1.0, sp = \"left\", o = \"left\")"
      ]
     },
     "metadata": {},
     "output_type": "display_data"
    },
    {
     "data": {
      "text/plain": [
       "(s = \"left\", a = \"right\", r = 10.0, sp = \"left\", o = \"left\")"
      ]
     },
     "metadata": {},
     "output_type": "display_data"
    },
    {
     "data": {
      "text/plain": [
       "(s = \"left\", a = \"left\", r = -100.0, sp = \"left\", o = \"left\")"
      ]
     },
     "metadata": {},
     "output_type": "display_data"
    }
   ],
   "source": [
    "for step in stepthrough(tiger, RandomPolicy(tiger), \"s,a,r,sp,o\", max_steps=10)\n",
    "    display(step)\n",
    "end"
   ]
  },
  {
   "cell_type": "code",
   "execution_count": 33,
   "id": "6a3b669a",
   "metadata": {},
   "outputs": [
    {
     "data": {
      "text/plain": [
       "belief_update (generic function with 1 method)"
      ]
     },
     "execution_count": 33,
     "metadata": {},
     "output_type": "execute_result"
    }
   ],
   "source": [
    "function belief_update(m::POMDP, b, a, o)\n",
    "    states = collect(support(b))\n",
    "    probs = zeros(length(states))\n",
    "    for i in 1:length(states)\n",
    "        z = observation(m, a, states[i])\n",
    "        sp = states[i]\n",
    "        probs[i] = pdf(z, o)*sum(s -> pdf(b, s)*pdf(transition(m, s, a), sp), states)\n",
    "    end\n",
    "    probs ./= sum(probs)\n",
    "    return SparseCat(states, probs)\n",
    "end"
   ]
  },
  {
   "cell_type": "code",
   "execution_count": 34,
   "id": "04fd8e5b",
   "metadata": {},
   "outputs": [
    {
     "data": {
      "text/plain": [
       "                      \u001b[1mUniform distribution\u001b[22m            \n",
       "           \u001b[90m┌                                        ┐\u001b[39m \n",
       "    \u001b[0m\"left\" \u001b[90m┤\u001b[39m\u001b[38;5;2m■■■■■■■■■■■■■■■■■■■■■■■■■■■■■■■■■■■\u001b[39m\u001b[0m 0.5 \u001b[90m \u001b[39m \n",
       "   \u001b[0m\"right\" \u001b[90m┤\u001b[39m\u001b[38;5;2m■■■■■■■■■■■■■■■■■■■■■■■■■■■■■■■■■■■\u001b[39m\u001b[0m 0.5 \u001b[90m \u001b[39m \n",
       "           \u001b[90m└                                        ┘\u001b[39m "
      ]
     },
     "metadata": {},
     "output_type": "display_data"
    },
    {
     "data": {
      "text/plain": [
       "(s = \"left\", a = \"listen\", r = -1.0, sp = \"left\", o = \"left\")"
      ]
     },
     "metadata": {},
     "output_type": "display_data"
    },
    {
     "data": {
      "text/plain": [
       "                     \u001b[1mSparseCat distribution\u001b[22m           \n",
       "           \u001b[90m┌                                        ┐\u001b[39m \n",
       "    \u001b[0m\"left\" \u001b[90m┤\u001b[39m\u001b[38;5;2m■■■■■■■■■■■■■■■■■■■■■■■■■■■■■■■■■■\u001b[39m\u001b[0m 0.85 \u001b[90m \u001b[39m \n",
       "   \u001b[0m\"right\" \u001b[90m┤\u001b[39m\u001b[38;5;2m■■■■■■\u001b[39m\u001b[0m 0.15                             \u001b[90m \u001b[39m \n",
       "           \u001b[90m└                                        ┘\u001b[39m "
      ]
     },
     "metadata": {},
     "output_type": "display_data"
    },
    {
     "data": {
      "text/plain": [
       "(s = \"left\", a = \"listen\", r = -1.0, sp = \"left\", o = \"left\")"
      ]
     },
     "metadata": {},
     "output_type": "display_data"
    },
    {
     "data": {
      "text/plain": [
       "                     \u001b[1mSparseCat distribution\u001b[22m           \n",
       "           \u001b[90m┌                                        ┐\u001b[39m \n",
       "    \u001b[0m\"left\" \u001b[90m┤\u001b[39m\u001b[38;5;2m■■■■■■■■■■■■■■■■■■■■\u001b[39m\u001b[0m 0.9697986577181208 \u001b[90m \u001b[39m \n",
       "   \u001b[0m\"right\" \u001b[90m┤\u001b[39m\u001b[38;5;2m■\u001b[39m\u001b[0m 0.0302013422818792                    \u001b[90m \u001b[39m \n",
       "           \u001b[90m└                                        ┘\u001b[39m "
      ]
     },
     "metadata": {},
     "output_type": "display_data"
    },
    {
     "data": {
      "text/plain": [
       "(s = \"left\", a = \"listen\", r = -1.0, sp = \"left\", o = \"left\")"
      ]
     },
     "metadata": {},
     "output_type": "display_data"
    },
    {
     "data": {
      "text/plain": [
       "                     \u001b[1mSparseCat distribution\u001b[22m           \n",
       "           \u001b[90m┌                                        ┐\u001b[39m \n",
       "    \u001b[0m\"left\" \u001b[90m┤\u001b[39m\u001b[38;5;2m■■■■■■■■■■■■■■■■■■■■\u001b[39m\u001b[0m 0.9945344129554656 \u001b[90m \u001b[39m \n",
       "   \u001b[0m\"right\" \u001b[90m┤\u001b[39m\u001b[0m 0.005465587044534414                   \u001b[90m \u001b[39m \n",
       "           \u001b[90m└                                        ┘\u001b[39m "
      ]
     },
     "metadata": {},
     "output_type": "display_data"
    },
    {
     "data": {
      "text/plain": [
       "(s = \"left\", a = \"listen\", r = -1.0, sp = \"left\", o = \"right\")"
      ]
     },
     "metadata": {},
     "output_type": "display_data"
    },
    {
     "data": {
      "text/plain": [
       "                     \u001b[1mSparseCat distribution\u001b[22m           \n",
       "           \u001b[90m┌                                        ┐\u001b[39m \n",
       "    \u001b[0m\"left\" \u001b[90m┤\u001b[39m\u001b[38;5;2m■■■■■■■■■■■■■■■■■■■■\u001b[39m\u001b[0m 0.9697986577181208 \u001b[90m \u001b[39m \n",
       "   \u001b[0m\"right\" \u001b[90m┤\u001b[39m\u001b[38;5;2m■\u001b[39m\u001b[0m 0.030201342281879203                  \u001b[90m \u001b[39m \n",
       "           \u001b[90m└                                        ┘\u001b[39m "
      ]
     },
     "metadata": {},
     "output_type": "display_data"
    },
    {
     "data": {
      "text/plain": [
       "(s = \"left\", a = \"listen\", r = -1.0, sp = \"left\", o = \"left\")"
      ]
     },
     "metadata": {},
     "output_type": "display_data"
    },
    {
     "data": {
      "text/plain": [
       "                     \u001b[1mSparseCat distribution\u001b[22m           \n",
       "           \u001b[90m┌                                        ┐\u001b[39m \n",
       "    \u001b[0m\"left\" \u001b[90m┤\u001b[39m\u001b[38;5;2m■■■■■■■■■■■■■■■■■■■■\u001b[39m\u001b[0m 0.9945344129554656 \u001b[90m \u001b[39m \n",
       "   \u001b[0m\"right\" \u001b[90m┤\u001b[39m\u001b[0m 0.005465587044534414                   \u001b[90m \u001b[39m \n",
       "           \u001b[90m└                                        ┘\u001b[39m "
      ]
     },
     "metadata": {},
     "output_type": "display_data"
    },
    {
     "data": {
      "text/plain": [
       "(s = \"left\", a = \"listen\", r = -1.0, sp = \"left\", o = \"left\")"
      ]
     },
     "metadata": {},
     "output_type": "display_data"
    },
    {
     "data": {
      "text/plain": [
       "                     \u001b[1mSparseCat distribution\u001b[22m           \n",
       "           \u001b[90m┌                                        ┐\u001b[39m \n",
       "    \u001b[0m\"left\" \u001b[90m┤\u001b[39m\u001b[38;5;2m■■■■■■■■■■■■■■■■■■■■\u001b[39m\u001b[0m 0.9990311236573287 \u001b[90m \u001b[39m \n",
       "   \u001b[0m\"right\" \u001b[90m┤\u001b[39m\u001b[0m 0.0009688763426712281                  \u001b[90m \u001b[39m \n",
       "           \u001b[90m└                                        ┘\u001b[39m "
      ]
     },
     "metadata": {},
     "output_type": "display_data"
    },
    {
     "data": {
      "text/plain": [
       "(s = \"left\", a = \"listen\", r = -1.0, sp = \"left\", o = \"left\")"
      ]
     },
     "metadata": {},
     "output_type": "display_data"
    },
    {
     "data": {
      "text/plain": [
       "                     \u001b[1mSparseCat distribution\u001b[22m           \n",
       "           \u001b[90m┌                                        ┐\u001b[39m \n",
       "    \u001b[0m\"left\" \u001b[90m┤\u001b[39m\u001b[38;5;2m■■■■■■■■■■■■■■■■■■■■\u001b[39m\u001b[0m 0.9998288852897683 \u001b[90m \u001b[39m \n",
       "   \u001b[0m\"right\" \u001b[90m┤\u001b[39m\u001b[0m 0.00017111471023167384                 \u001b[90m \u001b[39m \n",
       "           \u001b[90m└                                        ┘\u001b[39m "
      ]
     },
     "metadata": {},
     "output_type": "display_data"
    },
    {
     "data": {
      "text/plain": [
       "(s = \"left\", a = \"listen\", r = -1.0, sp = \"left\", o = \"left\")"
      ]
     },
     "metadata": {},
     "output_type": "display_data"
    },
    {
     "data": {
      "text/plain": [
       "                     \u001b[1mSparseCat distribution\u001b[22m           \n",
       "           \u001b[90m┌                                        ┐\u001b[39m \n",
       "    \u001b[0m\"left\" \u001b[90m┤\u001b[39m\u001b[38;5;2m■■■■■■■■■■■■■■■■■■■■\u001b[39m\u001b[0m 0.9999697990305696 \u001b[90m \u001b[39m \n",
       "   \u001b[0m\"right\" \u001b[90m┤\u001b[39m\u001b[0m 3.0200969430404745e-5                  \u001b[90m \u001b[39m \n",
       "           \u001b[90m└                                        ┘\u001b[39m "
      ]
     },
     "metadata": {},
     "output_type": "display_data"
    },
    {
     "data": {
      "text/plain": [
       "(s = \"left\", a = \"listen\", r = -1.0, sp = \"left\", o = \"left\")"
      ]
     },
     "metadata": {},
     "output_type": "display_data"
    },
    {
     "data": {
      "text/plain": [
       "                     \u001b[1mSparseCat distribution\u001b[22m           \n",
       "           \u001b[90m┌                                        ┐\u001b[39m \n",
       "    \u001b[0m\"left\" \u001b[90m┤\u001b[39m\u001b[38;5;2m■■■■■■■■■■■■■■■■■■■■\u001b[39m\u001b[0m 0.9999946702846019 \u001b[90m \u001b[39m \n",
       "   \u001b[0m\"right\" \u001b[90m┤\u001b[39m\u001b[0m 5.32971539807174e-6                    \u001b[90m \u001b[39m \n",
       "           \u001b[90m└                                        ┘\u001b[39m "
      ]
     },
     "metadata": {},
     "output_type": "display_data"
    },
    {
     "data": {
      "text/plain": [
       "(s = \"left\", a = \"listen\", r = -1.0, sp = \"left\", o = \"left\")"
      ]
     },
     "metadata": {},
     "output_type": "display_data"
    },
    {
     "data": {
      "text/plain": [
       "                     \u001b[1mSparseCat distribution\u001b[22m           \n",
       "           \u001b[90m┌                                        ┐\u001b[39m \n",
       "    \u001b[0m\"left\" \u001b[90m┤\u001b[39m\u001b[38;5;2m■■■■■■■■■■■■■■■■■■■■\u001b[39m\u001b[0m 0.9999990594578604 \u001b[90m \u001b[39m \n",
       "   \u001b[0m\"right\" \u001b[90m┤\u001b[39m\u001b[0m 9.405421396307151e-7                   \u001b[90m \u001b[39m \n",
       "           \u001b[90m└                                        ┘\u001b[39m "
      ]
     },
     "metadata": {},
     "output_type": "display_data"
    }
   ],
   "source": [
    "belief = Uniform([\"left\", \"right\"])\n",
    "display(belief)\n",
    "for step in stepthrough(tiger, FunctionPolicy(_->\"listen\"), \"s,a,r,sp,o\", max_steps=10)\n",
    "    display(step)\n",
    "    belief = belief_update(tiger, belief, step.a, step.o)\n",
    "    display(belief)\n",
    "end"
   ]
  },
  {
   "cell_type": "code",
   "execution_count": null,
   "id": "de07d84a",
   "metadata": {},
   "outputs": [],
   "source": []
  }
 ],
 "metadata": {
  "kernelspec": {
   "display_name": "Julia 1.8.0",
   "language": "julia",
   "name": "julia-1.8"
  },
  "language_info": {
   "file_extension": ".jl",
   "mimetype": "application/julia",
   "name": "julia",
   "version": "1.8.0"
  }
 },
 "nbformat": 4,
 "nbformat_minor": 5
}
