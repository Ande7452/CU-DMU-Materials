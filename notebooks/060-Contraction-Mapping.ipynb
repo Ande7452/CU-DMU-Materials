{
 "cells": [
  {
   "cell_type": "code",
   "execution_count": 1,
   "id": "0a77f709",
   "metadata": {},
   "outputs": [],
   "source": [
    "using Plots\n",
    "using LinearAlgebra: norm"
   ]
  },
  {
   "cell_type": "code",
   "execution_count": 2,
   "id": "7be2b4bc",
   "metadata": {},
   "outputs": [
    {
     "data": {
      "text/plain": [
       "f (generic function with 1 method)"
      ]
     },
     "execution_count": 2,
     "metadata": {},
     "output_type": "execute_result"
    }
   ],
   "source": [
    "f(x) = [x[2]/2 + 1, x[1]/2 + 1/2]"
   ]
  },
  {
   "cell_type": "code",
   "execution_count": 3,
   "id": "4d27a6ad",
   "metadata": {},
   "outputs": [
    {
     "data": {
      "text/plain": [
       "d (generic function with 1 method)"
      ]
     },
     "execution_count": 3,
     "metadata": {},
     "output_type": "execute_result"
    }
   ],
   "source": [
    "d(x, y) = norm(x-y)"
   ]
  },
  {
   "cell_type": "code",
   "execution_count": 6,
   "id": "475bbe95",
   "metadata": {},
   "outputs": [
    {
     "data": {
      "text/plain": [
       "2.8284271247461903"
      ]
     },
     "execution_count": 6,
     "metadata": {},
     "output_type": "execute_result"
    }
   ],
   "source": [
    "x = [1,1]\n",
    "y = [-1,-1]\n",
    "d(x, y)"
   ]
  },
  {
   "cell_type": "code",
   "execution_count": 8,
   "id": "e9ce8d4c",
   "metadata": {},
   "outputs": [
    {
     "name": "stdout",
     "output_type": "stream",
     "text": [
      "xp = f(x) = [1.5, 1.0]\n",
      "yp = f(y) = [0.5, 0.0]\n"
     ]
    },
    {
     "data": {
      "text/plain": [
       "1.4142135623730951"
      ]
     },
     "execution_count": 8,
     "metadata": {},
     "output_type": "execute_result"
    }
   ],
   "source": [
    "@show xp = f(x)\n",
    "@show yp = f(y)\n",
    "d(f(x), f(y))"
   ]
  },
  {
   "cell_type": "code",
   "execution_count": 9,
   "id": "d6d55ad4",
   "metadata": {},
   "outputs": [
    {
     "data": {
      "image/svg+xml": [
       "<?xml version=\"1.0\" encoding=\"utf-8\"?>\n",
       "<svg xmlns=\"http://www.w3.org/2000/svg\" xmlns:xlink=\"http://www.w3.org/1999/xlink\" width=\"600\" height=\"400\" viewBox=\"0 0 2400 1600\">\n",
       "<defs>\n",
       "  <clipPath id=\"clip110\">\n",
       "    <rect x=\"0\" y=\"0\" width=\"2400\" height=\"1600\"/>\n",
       "  </clipPath>\n",
       "</defs>\n",
       "<path clip-path=\"url(#clip110)\" d=\"M0 1600 L2400 1600 L2400 0 L0 0  Z\" fill=\"#ffffff\" fill-rule=\"evenodd\" fill-opacity=\"1\"/>\n",
       "<defs>\n",
       "  <clipPath id=\"clip111\">\n",
       "    <rect x=\"480\" y=\"0\" width=\"1681\" height=\"1600\"/>\n",
       "  </clipPath>\n",
       "</defs>\n",
       "<path clip-path=\"url(#clip110)\" d=\"M193.936 1486.45 L2352.76 1486.45 L2352.76 47.2441 L193.936 47.2441  Z\" fill=\"#ffffff\" fill-rule=\"evenodd\" fill-opacity=\"1\"/>\n",
       "<defs>\n",
       "  <clipPath id=\"clip112\">\n",
       "    <rect x=\"193\" y=\"47\" width=\"2160\" height=\"1440\"/>\n",
       "  </clipPath>\n",
       "</defs>\n",
       "<polyline clip-path=\"url(#clip112)\" style=\"stroke:#000000; stroke-linecap:round; stroke-linejoin:round; stroke-width:2; stroke-opacity:0.1; fill:none\" points=\"255.035,1486.45 255.035,47.2441 \"/>\n",
       "<polyline clip-path=\"url(#clip112)\" style=\"stroke:#000000; stroke-linecap:round; stroke-linejoin:round; stroke-width:2; stroke-opacity:0.1; fill:none\" points=\"662.359,1486.45 662.359,47.2441 \"/>\n",
       "<polyline clip-path=\"url(#clip112)\" style=\"stroke:#000000; stroke-linecap:round; stroke-linejoin:round; stroke-width:2; stroke-opacity:0.1; fill:none\" points=\"1069.68,1486.45 1069.68,47.2441 \"/>\n",
       "<polyline clip-path=\"url(#clip112)\" style=\"stroke:#000000; stroke-linecap:round; stroke-linejoin:round; stroke-width:2; stroke-opacity:0.1; fill:none\" points=\"1477.01,1486.45 1477.01,47.2441 \"/>\n",
       "<polyline clip-path=\"url(#clip112)\" style=\"stroke:#000000; stroke-linecap:round; stroke-linejoin:round; stroke-width:2; stroke-opacity:0.1; fill:none\" points=\"1884.33,1486.45 1884.33,47.2441 \"/>\n",
       "<polyline clip-path=\"url(#clip112)\" style=\"stroke:#000000; stroke-linecap:round; stroke-linejoin:round; stroke-width:2; stroke-opacity:0.1; fill:none\" points=\"2291.66,1486.45 2291.66,47.2441 \"/>\n",
       "<polyline clip-path=\"url(#clip110)\" style=\"stroke:#000000; stroke-linecap:round; stroke-linejoin:round; stroke-width:4; stroke-opacity:1; fill:none\" points=\"193.936,1486.45 2352.76,1486.45 \"/>\n",
       "<polyline clip-path=\"url(#clip110)\" style=\"stroke:#000000; stroke-linecap:round; stroke-linejoin:round; stroke-width:4; stroke-opacity:1; fill:none\" points=\"255.035,1486.45 255.035,1467.55 \"/>\n",
       "<polyline clip-path=\"url(#clip110)\" style=\"stroke:#000000; stroke-linecap:round; stroke-linejoin:round; stroke-width:4; stroke-opacity:1; fill:none\" points=\"662.359,1486.45 662.359,1467.55 \"/>\n",
       "<polyline clip-path=\"url(#clip110)\" style=\"stroke:#000000; stroke-linecap:round; stroke-linejoin:round; stroke-width:4; stroke-opacity:1; fill:none\" points=\"1069.68,1486.45 1069.68,1467.55 \"/>\n",
       "<polyline clip-path=\"url(#clip110)\" style=\"stroke:#000000; stroke-linecap:round; stroke-linejoin:round; stroke-width:4; stroke-opacity:1; fill:none\" points=\"1477.01,1486.45 1477.01,1467.55 \"/>\n",
       "<polyline clip-path=\"url(#clip110)\" style=\"stroke:#000000; stroke-linecap:round; stroke-linejoin:round; stroke-width:4; stroke-opacity:1; fill:none\" points=\"1884.33,1486.45 1884.33,1467.55 \"/>\n",
       "<polyline clip-path=\"url(#clip110)\" style=\"stroke:#000000; stroke-linecap:round; stroke-linejoin:round; stroke-width:4; stroke-opacity:1; fill:none\" points=\"2291.66,1486.45 2291.66,1467.55 \"/>\n",
       "<path clip-path=\"url(#clip110)\" d=\"M201.563 1532.02 L231.239 1532.02 L231.239 1535.95 L201.563 1535.95 L201.563 1532.02 Z\" fill=\"#000000\" fill-rule=\"evenodd\" fill-opacity=\"1\" /><path clip-path=\"url(#clip110)\" d=\"M242.141 1544.91 L249.78 1544.91 L249.78 1518.55 L241.47 1520.21 L241.47 1515.95 L249.734 1514.29 L254.41 1514.29 L254.41 1544.91 L262.049 1544.91 L262.049 1548.85 L242.141 1548.85 L242.141 1544.91 Z\" fill=\"#000000\" fill-rule=\"evenodd\" fill-opacity=\"1\" /><path clip-path=\"url(#clip110)\" d=\"M271.493 1542.97 L276.377 1542.97 L276.377 1548.85 L271.493 1548.85 L271.493 1542.97 Z\" fill=\"#000000\" fill-rule=\"evenodd\" fill-opacity=\"1\" /><path clip-path=\"url(#clip110)\" d=\"M296.562 1517.37 Q292.951 1517.37 291.122 1520.93 Q289.317 1524.47 289.317 1531.6 Q289.317 1538.71 291.122 1542.27 Q292.951 1545.82 296.562 1545.82 Q300.196 1545.82 302.002 1542.27 Q303.831 1538.71 303.831 1531.6 Q303.831 1524.47 302.002 1520.93 Q300.196 1517.37 296.562 1517.37 M296.562 1513.66 Q302.372 1513.66 305.428 1518.27 Q308.507 1522.85 308.507 1531.6 Q308.507 1540.33 305.428 1544.94 Q302.372 1549.52 296.562 1549.52 Q290.752 1549.52 287.673 1544.94 Q284.618 1540.33 284.618 1531.6 Q284.618 1522.85 287.673 1518.27 Q290.752 1513.66 296.562 1513.66 Z\" fill=\"#000000\" fill-rule=\"evenodd\" fill-opacity=\"1\" /><path clip-path=\"url(#clip110)\" d=\"M609.385 1532.02 L639.061 1532.02 L639.061 1535.95 L609.385 1535.95 L609.385 1532.02 Z\" fill=\"#000000\" fill-rule=\"evenodd\" fill-opacity=\"1\" /><path clip-path=\"url(#clip110)\" d=\"M659.153 1517.37 Q655.542 1517.37 653.713 1520.93 Q651.908 1524.47 651.908 1531.6 Q651.908 1538.71 653.713 1542.27 Q655.542 1545.82 659.153 1545.82 Q662.787 1545.82 664.593 1542.27 Q666.422 1538.71 666.422 1531.6 Q666.422 1524.47 664.593 1520.93 Q662.787 1517.37 659.153 1517.37 M659.153 1513.66 Q664.963 1513.66 668.019 1518.27 Q671.098 1522.85 671.098 1531.6 Q671.098 1540.33 668.019 1544.94 Q664.963 1549.52 659.153 1549.52 Q653.343 1549.52 650.264 1544.94 Q647.209 1540.33 647.209 1531.6 Q647.209 1522.85 650.264 1518.27 Q653.343 1513.66 659.153 1513.66 Z\" fill=\"#000000\" fill-rule=\"evenodd\" fill-opacity=\"1\" /><path clip-path=\"url(#clip110)\" d=\"M679.315 1542.97 L684.199 1542.97 L684.199 1548.85 L679.315 1548.85 L679.315 1542.97 Z\" fill=\"#000000\" fill-rule=\"evenodd\" fill-opacity=\"1\" /><path clip-path=\"url(#clip110)\" d=\"M694.431 1514.29 L712.787 1514.29 L712.787 1518.22 L698.713 1518.22 L698.713 1526.7 Q699.732 1526.35 700.75 1526.19 Q701.769 1526 702.787 1526 Q708.574 1526 711.954 1529.17 Q715.333 1532.34 715.333 1537.76 Q715.333 1543.34 711.861 1546.44 Q708.389 1549.52 702.07 1549.52 Q699.894 1549.52 697.625 1549.15 Q695.38 1548.78 692.972 1548.04 L692.972 1543.34 Q695.056 1544.47 697.278 1545.03 Q699.5 1545.58 701.977 1545.58 Q705.982 1545.58 708.32 1543.48 Q710.658 1541.37 710.658 1537.76 Q710.658 1534.15 708.32 1532.04 Q705.982 1529.94 701.977 1529.94 Q700.102 1529.94 698.227 1530.35 Q696.375 1530.77 694.431 1531.65 L694.431 1514.29 Z\" fill=\"#000000\" fill-rule=\"evenodd\" fill-opacity=\"1\" /><path clip-path=\"url(#clip110)\" d=\"M1047.07 1517.37 Q1043.46 1517.37 1041.63 1520.93 Q1039.82 1524.47 1039.82 1531.6 Q1039.82 1538.71 1041.63 1542.27 Q1043.46 1545.82 1047.07 1545.82 Q1050.7 1545.82 1052.51 1542.27 Q1054.34 1538.71 1054.34 1531.6 Q1054.34 1524.47 1052.51 1520.93 Q1050.7 1517.37 1047.07 1517.37 M1047.07 1513.66 Q1052.88 1513.66 1055.93 1518.27 Q1059.01 1522.85 1059.01 1531.6 Q1059.01 1540.33 1055.93 1544.94 Q1052.88 1549.52 1047.07 1549.52 Q1041.26 1549.52 1038.18 1544.94 Q1035.12 1540.33 1035.12 1531.6 Q1035.12 1522.85 1038.18 1518.27 Q1041.26 1513.66 1047.07 1513.66 Z\" fill=\"#000000\" fill-rule=\"evenodd\" fill-opacity=\"1\" /><path clip-path=\"url(#clip110)\" d=\"M1067.23 1542.97 L1072.11 1542.97 L1072.11 1548.85 L1067.23 1548.85 L1067.23 1542.97 Z\" fill=\"#000000\" fill-rule=\"evenodd\" fill-opacity=\"1\" /><path clip-path=\"url(#clip110)\" d=\"M1092.3 1517.37 Q1088.69 1517.37 1086.86 1520.93 Q1085.05 1524.47 1085.05 1531.6 Q1085.05 1538.71 1086.86 1542.27 Q1088.69 1545.82 1092.3 1545.82 Q1095.93 1545.82 1097.74 1542.27 Q1099.57 1538.71 1099.57 1531.6 Q1099.57 1524.47 1097.74 1520.93 Q1095.93 1517.37 1092.3 1517.37 M1092.3 1513.66 Q1098.11 1513.66 1101.17 1518.27 Q1104.24 1522.85 1104.24 1531.6 Q1104.24 1540.33 1101.17 1544.94 Q1098.11 1549.52 1092.3 1549.52 Q1086.49 1549.52 1083.41 1544.94 Q1080.35 1540.33 1080.35 1531.6 Q1080.35 1522.85 1083.41 1518.27 Q1086.49 1513.66 1092.3 1513.66 Z\" fill=\"#000000\" fill-rule=\"evenodd\" fill-opacity=\"1\" /><path clip-path=\"url(#clip110)\" d=\"M1454.89 1517.37 Q1451.28 1517.37 1449.45 1520.93 Q1447.64 1524.47 1447.64 1531.6 Q1447.64 1538.71 1449.45 1542.27 Q1451.28 1545.82 1454.89 1545.82 Q1458.52 1545.82 1460.33 1542.27 Q1462.16 1538.71 1462.16 1531.6 Q1462.16 1524.47 1460.33 1520.93 Q1458.52 1517.37 1454.89 1517.37 M1454.89 1513.66 Q1460.7 1513.66 1463.76 1518.27 Q1466.83 1522.85 1466.83 1531.6 Q1466.83 1540.33 1463.76 1544.94 Q1460.7 1549.52 1454.89 1549.52 Q1449.08 1549.52 1446 1544.94 Q1442.95 1540.33 1442.95 1531.6 Q1442.95 1522.85 1446 1518.27 Q1449.08 1513.66 1454.89 1513.66 Z\" fill=\"#000000\" fill-rule=\"evenodd\" fill-opacity=\"1\" /><path clip-path=\"url(#clip110)\" d=\"M1475.05 1542.97 L1479.94 1542.97 L1479.94 1548.85 L1475.05 1548.85 L1475.05 1542.97 Z\" fill=\"#000000\" fill-rule=\"evenodd\" fill-opacity=\"1\" /><path clip-path=\"url(#clip110)\" d=\"M1490.17 1514.29 L1508.52 1514.29 L1508.52 1518.22 L1494.45 1518.22 L1494.45 1526.7 Q1495.47 1526.35 1496.49 1526.19 Q1497.51 1526 1498.52 1526 Q1504.31 1526 1507.69 1529.17 Q1511.07 1532.34 1511.07 1537.76 Q1511.07 1543.34 1507.6 1546.44 Q1504.13 1549.52 1497.81 1549.52 Q1495.63 1549.52 1493.36 1549.15 Q1491.12 1548.78 1488.71 1548.04 L1488.71 1543.34 Q1490.79 1544.47 1493.02 1545.03 Q1495.24 1545.58 1497.71 1545.58 Q1501.72 1545.58 1504.06 1543.48 Q1506.39 1541.37 1506.39 1537.76 Q1506.39 1534.15 1504.06 1532.04 Q1501.72 1529.94 1497.71 1529.94 Q1495.84 1529.94 1493.96 1530.35 Q1492.11 1530.77 1490.17 1531.65 L1490.17 1514.29 Z\" fill=\"#000000\" fill-rule=\"evenodd\" fill-opacity=\"1\" /><path clip-path=\"url(#clip110)\" d=\"M1851.49 1544.91 L1859.12 1544.91 L1859.12 1518.55 L1850.81 1520.21 L1850.81 1515.95 L1859.08 1514.29 L1863.75 1514.29 L1863.75 1544.91 L1871.39 1544.91 L1871.39 1548.85 L1851.49 1548.85 L1851.49 1544.91 Z\" fill=\"#000000\" fill-rule=\"evenodd\" fill-opacity=\"1\" /><path clip-path=\"url(#clip110)\" d=\"M1880.84 1542.97 L1885.72 1542.97 L1885.72 1548.85 L1880.84 1548.85 L1880.84 1542.97 Z\" fill=\"#000000\" fill-rule=\"evenodd\" fill-opacity=\"1\" /><path clip-path=\"url(#clip110)\" d=\"M1905.91 1517.37 Q1902.3 1517.37 1900.47 1520.93 Q1898.66 1524.47 1898.66 1531.6 Q1898.66 1538.71 1900.47 1542.27 Q1902.3 1545.82 1905.91 1545.82 Q1909.54 1545.82 1911.35 1542.27 Q1913.18 1538.71 1913.18 1531.6 Q1913.18 1524.47 1911.35 1520.93 Q1909.54 1517.37 1905.91 1517.37 M1905.91 1513.66 Q1911.72 1513.66 1914.77 1518.27 Q1917.85 1522.85 1917.85 1531.6 Q1917.85 1540.33 1914.77 1544.94 Q1911.72 1549.52 1905.91 1549.52 Q1900.1 1549.52 1897.02 1544.94 Q1893.96 1540.33 1893.96 1531.6 Q1893.96 1522.85 1897.02 1518.27 Q1900.1 1513.66 1905.91 1513.66 Z\" fill=\"#000000\" fill-rule=\"evenodd\" fill-opacity=\"1\" /><path clip-path=\"url(#clip110)\" d=\"M2259.31 1544.91 L2266.95 1544.91 L2266.95 1518.55 L2258.64 1520.21 L2258.64 1515.95 L2266.9 1514.29 L2271.58 1514.29 L2271.58 1544.91 L2279.22 1544.91 L2279.22 1548.85 L2259.31 1548.85 L2259.31 1544.91 Z\" fill=\"#000000\" fill-rule=\"evenodd\" fill-opacity=\"1\" /><path clip-path=\"url(#clip110)\" d=\"M2288.66 1542.97 L2293.54 1542.97 L2293.54 1548.85 L2288.66 1548.85 L2288.66 1542.97 Z\" fill=\"#000000\" fill-rule=\"evenodd\" fill-opacity=\"1\" /><path clip-path=\"url(#clip110)\" d=\"M2303.78 1514.29 L2322.13 1514.29 L2322.13 1518.22 L2308.06 1518.22 L2308.06 1526.7 Q2309.08 1526.35 2310.09 1526.19 Q2311.11 1526 2312.13 1526 Q2317.92 1526 2321.3 1529.17 Q2324.68 1532.34 2324.68 1537.76 Q2324.68 1543.34 2321.21 1546.44 Q2317.73 1549.52 2311.41 1549.52 Q2309.24 1549.52 2306.97 1549.15 Q2304.72 1548.78 2302.32 1548.04 L2302.32 1543.34 Q2304.4 1544.47 2306.62 1545.03 Q2308.84 1545.58 2311.32 1545.58 Q2315.33 1545.58 2317.66 1543.48 Q2320 1541.37 2320 1537.76 Q2320 1534.15 2317.66 1532.04 Q2315.33 1529.94 2311.32 1529.94 Q2309.45 1529.94 2307.57 1530.35 Q2305.72 1530.77 2303.78 1531.65 L2303.78 1514.29 Z\" fill=\"#000000\" fill-rule=\"evenodd\" fill-opacity=\"1\" /><polyline clip-path=\"url(#clip112)\" style=\"stroke:#000000; stroke-linecap:round; stroke-linejoin:round; stroke-width:2; stroke-opacity:0.1; fill:none\" points=\"193.936,1445.72 2352.76,1445.72 \"/>\n",
       "<polyline clip-path=\"url(#clip112)\" style=\"stroke:#000000; stroke-linecap:round; stroke-linejoin:round; stroke-width:2; stroke-opacity:0.1; fill:none\" points=\"193.936,1106.28 2352.76,1106.28 \"/>\n",
       "<polyline clip-path=\"url(#clip112)\" style=\"stroke:#000000; stroke-linecap:round; stroke-linejoin:round; stroke-width:2; stroke-opacity:0.1; fill:none\" points=\"193.936,766.846 2352.76,766.846 \"/>\n",
       "<polyline clip-path=\"url(#clip112)\" style=\"stroke:#000000; stroke-linecap:round; stroke-linejoin:round; stroke-width:2; stroke-opacity:0.1; fill:none\" points=\"193.936,427.411 2352.76,427.411 \"/>\n",
       "<polyline clip-path=\"url(#clip112)\" style=\"stroke:#000000; stroke-linecap:round; stroke-linejoin:round; stroke-width:2; stroke-opacity:0.1; fill:none\" points=\"193.936,87.9763 2352.76,87.9763 \"/>\n",
       "<polyline clip-path=\"url(#clip110)\" style=\"stroke:#000000; stroke-linecap:round; stroke-linejoin:round; stroke-width:4; stroke-opacity:1; fill:none\" points=\"193.936,1486.45 193.936,47.2441 \"/>\n",
       "<polyline clip-path=\"url(#clip110)\" style=\"stroke:#000000; stroke-linecap:round; stroke-linejoin:round; stroke-width:4; stroke-opacity:1; fill:none\" points=\"193.936,1445.72 212.834,1445.72 \"/>\n",
       "<polyline clip-path=\"url(#clip110)\" style=\"stroke:#000000; stroke-linecap:round; stroke-linejoin:round; stroke-width:4; stroke-opacity:1; fill:none\" points=\"193.936,1106.28 212.834,1106.28 \"/>\n",
       "<polyline clip-path=\"url(#clip110)\" style=\"stroke:#000000; stroke-linecap:round; stroke-linejoin:round; stroke-width:4; stroke-opacity:1; fill:none\" points=\"193.936,766.846 212.834,766.846 \"/>\n",
       "<polyline clip-path=\"url(#clip110)\" style=\"stroke:#000000; stroke-linecap:round; stroke-linejoin:round; stroke-width:4; stroke-opacity:1; fill:none\" points=\"193.936,427.411 212.834,427.411 \"/>\n",
       "<polyline clip-path=\"url(#clip110)\" style=\"stroke:#000000; stroke-linecap:round; stroke-linejoin:round; stroke-width:4; stroke-opacity:1; fill:none\" points=\"193.936,87.9763 212.834,87.9763 \"/>\n",
       "<path clip-path=\"url(#clip110)\" d=\"M50.9921 1446.17 L80.6679 1446.17 L80.6679 1450.1 L50.9921 1450.1 L50.9921 1446.17 Z\" fill=\"#000000\" fill-rule=\"evenodd\" fill-opacity=\"1\" /><path clip-path=\"url(#clip110)\" d=\"M91.5706 1459.06 L99.2095 1459.06 L99.2095 1432.69 L90.8993 1434.36 L90.8993 1430.1 L99.1632 1428.44 L103.839 1428.44 L103.839 1459.06 L111.478 1459.06 L111.478 1463 L91.5706 1463 L91.5706 1459.06 Z\" fill=\"#000000\" fill-rule=\"evenodd\" fill-opacity=\"1\" /><path clip-path=\"url(#clip110)\" d=\"M120.922 1457.12 L125.807 1457.12 L125.807 1463 L120.922 1463 L120.922 1457.12 Z\" fill=\"#000000\" fill-rule=\"evenodd\" fill-opacity=\"1\" /><path clip-path=\"url(#clip110)\" d=\"M145.992 1431.51 Q142.381 1431.51 140.552 1435.08 Q138.746 1438.62 138.746 1445.75 Q138.746 1452.86 140.552 1456.42 Q142.381 1459.96 145.992 1459.96 Q149.626 1459.96 151.431 1456.42 Q153.26 1452.86 153.26 1445.75 Q153.26 1438.62 151.431 1435.08 Q149.626 1431.51 145.992 1431.51 M145.992 1427.81 Q151.802 1427.81 154.857 1432.42 Q157.936 1437 157.936 1445.75 Q157.936 1454.48 154.857 1459.08 Q151.802 1463.67 145.992 1463.67 Q140.181 1463.67 137.103 1459.08 Q134.047 1454.48 134.047 1445.75 Q134.047 1437 137.103 1432.42 Q140.181 1427.81 145.992 1427.81 Z\" fill=\"#000000\" fill-rule=\"evenodd\" fill-opacity=\"1\" /><path clip-path=\"url(#clip110)\" d=\"M51.9875 1106.73 L81.6633 1106.73 L81.6633 1110.67 L51.9875 1110.67 L51.9875 1106.73 Z\" fill=\"#000000\" fill-rule=\"evenodd\" fill-opacity=\"1\" /><path clip-path=\"url(#clip110)\" d=\"M101.756 1092.08 Q98.1447 1092.08 96.316 1095.64 Q94.5104 1099.19 94.5104 1106.32 Q94.5104 1113.42 96.316 1116.99 Q98.1447 1120.53 101.756 1120.53 Q105.39 1120.53 107.196 1116.99 Q109.024 1113.42 109.024 1106.32 Q109.024 1099.19 107.196 1095.64 Q105.39 1092.08 101.756 1092.08 M101.756 1088.38 Q107.566 1088.38 110.621 1092.98 Q113.7 1097.57 113.7 1106.32 Q113.7 1115.04 110.621 1119.65 Q107.566 1124.23 101.756 1124.23 Q95.9456 1124.23 92.8669 1119.65 Q89.8114 1115.04 89.8114 1106.32 Q89.8114 1097.57 92.8669 1092.98 Q95.9456 1088.38 101.756 1088.38 Z\" fill=\"#000000\" fill-rule=\"evenodd\" fill-opacity=\"1\" /><path clip-path=\"url(#clip110)\" d=\"M121.918 1117.68 L126.802 1117.68 L126.802 1123.56 L121.918 1123.56 L121.918 1117.68 Z\" fill=\"#000000\" fill-rule=\"evenodd\" fill-opacity=\"1\" /><path clip-path=\"url(#clip110)\" d=\"M137.033 1089 L155.39 1089 L155.39 1092.94 L141.316 1092.94 L141.316 1101.41 Q142.334 1101.06 143.353 1100.9 Q144.371 1100.71 145.39 1100.71 Q151.177 1100.71 154.556 1103.89 Q157.936 1107.06 157.936 1112.47 Q157.936 1118.05 154.464 1121.15 Q150.992 1124.23 144.672 1124.23 Q142.496 1124.23 140.228 1123.86 Q137.982 1123.49 135.575 1122.75 L135.575 1118.05 Q137.658 1119.19 139.881 1119.74 Q142.103 1120.3 144.58 1120.3 Q148.584 1120.3 150.922 1118.19 Q153.26 1116.08 153.26 1112.47 Q153.26 1108.86 150.922 1106.76 Q148.584 1104.65 144.58 1104.65 Q142.705 1104.65 140.83 1105.07 Q138.978 1105.48 137.033 1106.36 L137.033 1089 Z\" fill=\"#000000\" fill-rule=\"evenodd\" fill-opacity=\"1\" /><path clip-path=\"url(#clip110)\" d=\"M100.76 752.645 Q97.1493 752.645 95.3206 756.209 Q93.515 759.751 93.515 766.881 Q93.515 773.987 95.3206 777.552 Q97.1493 781.094 100.76 781.094 Q104.395 781.094 106.2 777.552 Q108.029 773.987 108.029 766.881 Q108.029 759.751 106.2 756.209 Q104.395 752.645 100.76 752.645 M100.76 748.941 Q106.571 748.941 109.626 753.547 Q112.705 758.131 112.705 766.881 Q112.705 775.608 109.626 780.214 Q106.571 784.797 100.76 784.797 Q94.9502 784.797 91.8715 780.214 Q88.816 775.608 88.816 766.881 Q88.816 758.131 91.8715 753.547 Q94.9502 748.941 100.76 748.941 Z\" fill=\"#000000\" fill-rule=\"evenodd\" fill-opacity=\"1\" /><path clip-path=\"url(#clip110)\" d=\"M120.922 778.246 L125.807 778.246 L125.807 784.126 L120.922 784.126 L120.922 778.246 Z\" fill=\"#000000\" fill-rule=\"evenodd\" fill-opacity=\"1\" /><path clip-path=\"url(#clip110)\" d=\"M145.992 752.645 Q142.381 752.645 140.552 756.209 Q138.746 759.751 138.746 766.881 Q138.746 773.987 140.552 777.552 Q142.381 781.094 145.992 781.094 Q149.626 781.094 151.431 777.552 Q153.26 773.987 153.26 766.881 Q153.26 759.751 151.431 756.209 Q149.626 752.645 145.992 752.645 M145.992 748.941 Q151.802 748.941 154.857 753.547 Q157.936 758.131 157.936 766.881 Q157.936 775.608 154.857 780.214 Q151.802 784.797 145.992 784.797 Q140.181 784.797 137.103 780.214 Q134.047 775.608 134.047 766.881 Q134.047 758.131 137.103 753.547 Q140.181 748.941 145.992 748.941 Z\" fill=\"#000000\" fill-rule=\"evenodd\" fill-opacity=\"1\" /><path clip-path=\"url(#clip110)\" d=\"M101.756 413.21 Q98.1447 413.21 96.316 416.775 Q94.5104 420.316 94.5104 427.446 Q94.5104 434.552 96.316 438.117 Q98.1447 441.659 101.756 441.659 Q105.39 441.659 107.196 438.117 Q109.024 434.552 109.024 427.446 Q109.024 420.316 107.196 416.775 Q105.39 413.21 101.756 413.21 M101.756 409.506 Q107.566 409.506 110.621 414.113 Q113.7 418.696 113.7 427.446 Q113.7 436.173 110.621 440.779 Q107.566 445.362 101.756 445.362 Q95.9456 445.362 92.8669 440.779 Q89.8114 436.173 89.8114 427.446 Q89.8114 418.696 92.8669 414.113 Q95.9456 409.506 101.756 409.506 Z\" fill=\"#000000\" fill-rule=\"evenodd\" fill-opacity=\"1\" /><path clip-path=\"url(#clip110)\" d=\"M121.918 438.812 L126.802 438.812 L126.802 444.691 L121.918 444.691 L121.918 438.812 Z\" fill=\"#000000\" fill-rule=\"evenodd\" fill-opacity=\"1\" /><path clip-path=\"url(#clip110)\" d=\"M137.033 410.131 L155.39 410.131 L155.39 414.066 L141.316 414.066 L141.316 422.538 Q142.334 422.191 143.353 422.029 Q144.371 421.844 145.39 421.844 Q151.177 421.844 154.556 425.015 Q157.936 428.187 157.936 433.603 Q157.936 439.182 154.464 442.284 Q150.992 445.362 144.672 445.362 Q142.496 445.362 140.228 444.992 Q137.982 444.622 135.575 443.881 L135.575 439.182 Q137.658 440.316 139.881 440.872 Q142.103 441.427 144.58 441.427 Q148.584 441.427 150.922 439.321 Q153.26 437.214 153.26 433.603 Q153.26 429.992 150.922 427.886 Q148.584 425.779 144.58 425.779 Q142.705 425.779 140.83 426.196 Q138.978 426.613 137.033 427.492 L137.033 410.131 Z\" fill=\"#000000\" fill-rule=\"evenodd\" fill-opacity=\"1\" /><path clip-path=\"url(#clip110)\" d=\"M91.5706 101.321 L99.2095 101.321 L99.2095 74.9555 L90.8993 76.6222 L90.8993 72.3629 L99.1632 70.6963 L103.839 70.6963 L103.839 101.321 L111.478 101.321 L111.478 105.256 L91.5706 105.256 L91.5706 101.321 Z\" fill=\"#000000\" fill-rule=\"evenodd\" fill-opacity=\"1\" /><path clip-path=\"url(#clip110)\" d=\"M120.922 99.3767 L125.807 99.3767 L125.807 105.256 L120.922 105.256 L120.922 99.3767 Z\" fill=\"#000000\" fill-rule=\"evenodd\" fill-opacity=\"1\" /><path clip-path=\"url(#clip110)\" d=\"M145.992 73.775 Q142.381 73.775 140.552 77.3398 Q138.746 80.8814 138.746 88.011 Q138.746 95.1174 140.552 98.6822 Q142.381 102.224 145.992 102.224 Q149.626 102.224 151.431 98.6822 Q153.26 95.1174 153.26 88.011 Q153.26 80.8814 151.431 77.3398 Q149.626 73.775 145.992 73.775 M145.992 70.0713 Q151.802 70.0713 154.857 74.6777 Q157.936 79.261 157.936 88.011 Q157.936 96.7378 154.857 101.344 Q151.802 105.928 145.992 105.928 Q140.181 105.928 137.103 101.344 Q134.047 96.7378 134.047 88.011 Q134.047 79.261 137.103 74.6777 Q140.181 70.0713 145.992 70.0713 Z\" fill=\"#000000\" fill-rule=\"evenodd\" fill-opacity=\"1\" /><polyline clip-path=\"url(#clip112)\" style=\"stroke:#009af9; stroke-linecap:round; stroke-linejoin:round; stroke-width:4; stroke-opacity:1; fill:none\" points=\"1884.33,87.9763 255.035,1445.72 \"/>\n",
       "<line clip-path=\"url(#clip112)\" x1=\"1884.33\" y1=\"87.9763\" x2=\"1868.33\" y2=\"71.9763\" style=\"stroke:#009af9; stroke-width:3.2; stroke-opacity:1\"/>\n",
       "<line clip-path=\"url(#clip112)\" x1=\"1884.33\" y1=\"87.9763\" x2=\"1868.33\" y2=\"103.976\" style=\"stroke:#009af9; stroke-width:3.2; stroke-opacity:1\"/>\n",
       "<line clip-path=\"url(#clip112)\" x1=\"1884.33\" y1=\"87.9763\" x2=\"1900.33\" y2=\"103.976\" style=\"stroke:#009af9; stroke-width:3.2; stroke-opacity:1\"/>\n",
       "<line clip-path=\"url(#clip112)\" x1=\"1884.33\" y1=\"87.9763\" x2=\"1900.33\" y2=\"71.9763\" style=\"stroke:#009af9; stroke-width:3.2; stroke-opacity:1\"/>\n",
       "<line clip-path=\"url(#clip112)\" x1=\"255.035\" y1=\"1445.72\" x2=\"239.035\" y2=\"1429.72\" style=\"stroke:#009af9; stroke-width:3.2; stroke-opacity:1\"/>\n",
       "<line clip-path=\"url(#clip112)\" x1=\"255.035\" y1=\"1445.72\" x2=\"239.035\" y2=\"1461.72\" style=\"stroke:#009af9; stroke-width:3.2; stroke-opacity:1\"/>\n",
       "<line clip-path=\"url(#clip112)\" x1=\"255.035\" y1=\"1445.72\" x2=\"271.035\" y2=\"1461.72\" style=\"stroke:#009af9; stroke-width:3.2; stroke-opacity:1\"/>\n",
       "<line clip-path=\"url(#clip112)\" x1=\"255.035\" y1=\"1445.72\" x2=\"271.035\" y2=\"1429.72\" style=\"stroke:#009af9; stroke-width:3.2; stroke-opacity:1\"/>\n",
       "<polyline clip-path=\"url(#clip112)\" style=\"stroke:#e26f46; stroke-linecap:round; stroke-linejoin:round; stroke-width:4; stroke-opacity:1; fill:none\" points=\"2291.66,87.9763 1477.01,766.846 \"/>\n",
       "<circle clip-path=\"url(#clip112)\" cx=\"2291.66\" cy=\"87.9763\" r=\"14.4\" fill=\"#e26f46\" fill-rule=\"evenodd\" fill-opacity=\"1\" stroke=\"#000000\" stroke-opacity=\"1\" stroke-width=\"3.2\"/>\n",
       "<circle clip-path=\"url(#clip112)\" cx=\"1477.01\" cy=\"766.846\" r=\"14.4\" fill=\"#e26f46\" fill-rule=\"evenodd\" fill-opacity=\"1\" stroke=\"#000000\" stroke-opacity=\"1\" stroke-width=\"3.2\"/>\n",
       "<path clip-path=\"url(#clip110)\" d=\"M265.897 250.738 L670.227 250.738 L670.227 95.2176 L265.897 95.2176  Z\" fill=\"#ffffff\" fill-rule=\"evenodd\" fill-opacity=\"1\"/>\n",
       "<polyline clip-path=\"url(#clip110)\" style=\"stroke:#000000; stroke-linecap:round; stroke-linejoin:round; stroke-width:4; stroke-opacity:1; fill:none\" points=\"265.897,250.738 670.227,250.738 670.227,95.2176 265.897,95.2176 265.897,250.738 \"/>\n",
       "<polyline clip-path=\"url(#clip110)\" style=\"stroke:#009af9; stroke-linecap:round; stroke-linejoin:round; stroke-width:4; stroke-opacity:1; fill:none\" points=\"289.884,147.058 433.805,147.058 \"/>\n",
       "<line clip-path=\"url(#clip110)\" x1=\"361.844\" y1=\"147.058\" x2=\"339.634\" y2=\"124.847\" style=\"stroke:#009af9; stroke-width:5.12; stroke-opacity:1\"/>\n",
       "<line clip-path=\"url(#clip110)\" x1=\"361.844\" y1=\"147.058\" x2=\"339.634\" y2=\"169.268\" style=\"stroke:#009af9; stroke-width:5.12; stroke-opacity:1\"/>\n",
       "<line clip-path=\"url(#clip110)\" x1=\"361.844\" y1=\"147.058\" x2=\"384.054\" y2=\"169.268\" style=\"stroke:#009af9; stroke-width:5.12; stroke-opacity:1\"/>\n",
       "<line clip-path=\"url(#clip110)\" x1=\"361.844\" y1=\"147.058\" x2=\"384.054\" y2=\"124.847\" style=\"stroke:#009af9; stroke-width:5.12; stroke-opacity:1\"/>\n",
       "<path clip-path=\"url(#clip110)\" d=\"M482.444 138.412 L473.069 151.027 L482.931 164.338 L477.907 164.338 L470.361 154.152 L462.815 164.338 L457.792 164.338 L467.861 150.773 L458.648 138.412 L463.671 138.412 L470.546 147.648 L477.421 138.412 L482.444 138.412 Z\" fill=\"#000000\" fill-rule=\"evenodd\" fill-opacity=\"1\" /><path clip-path=\"url(#clip110)\" d=\"M490.037 158.458 L494.921 158.458 L494.921 162.439 L491.125 169.847 L488.139 169.847 L490.037 162.439 L490.037 158.458 Z\" fill=\"#000000\" fill-rule=\"evenodd\" fill-opacity=\"1\" /><path clip-path=\"url(#clip110)\" d=\"M529.875 166.745 Q528.069 171.375 526.356 172.787 Q524.643 174.199 521.773 174.199 L518.37 174.199 L518.37 170.634 L520.87 170.634 Q522.629 170.634 523.602 169.8 Q524.574 168.967 525.754 165.865 L526.518 163.921 L516.032 138.412 L520.546 138.412 L528.648 158.689 L536.75 138.412 L541.264 138.412 L529.875 166.745 Z\" fill=\"#000000\" fill-rule=\"evenodd\" fill-opacity=\"1\" /><polyline clip-path=\"url(#clip110)\" style=\"stroke:#e26f46; stroke-linecap:round; stroke-linejoin:round; stroke-width:4; stroke-opacity:1; fill:none\" points=\"289.884,198.898 433.805,198.898 \"/>\n",
       "<circle clip-path=\"url(#clip110)\" cx=\"361.844\" cy=\"198.898\" r=\"19.9891\" fill=\"#e26f46\" fill-rule=\"evenodd\" fill-opacity=\"1\" stroke=\"#000000\" stroke-opacity=\"1\" stroke-width=\"5.12\"/>\n",
       "<path clip-path=\"url(#clip110)\" d=\"M474.296 180.159 L474.296 183.701 L470.222 183.701 Q467.931 183.701 467.028 184.627 Q466.148 185.553 466.148 187.96 L466.148 190.252 L473.162 190.252 L473.162 193.562 L466.148 193.562 L466.148 216.178 L461.866 216.178 L461.866 193.562 L457.792 193.562 L457.792 190.252 L461.866 190.252 L461.866 188.446 Q461.866 184.118 463.88 182.15 Q465.894 180.159 470.269 180.159 L474.296 180.159 Z\" fill=\"#000000\" fill-rule=\"evenodd\" fill-opacity=\"1\" /><path clip-path=\"url(#clip110)\" d=\"M488.093 180.206 Q484.991 185.53 483.486 190.738 Q481.981 195.946 481.981 201.293 Q481.981 206.641 483.486 211.895 Q485.014 217.127 488.093 222.428 L484.389 222.428 Q480.917 216.988 479.181 211.733 Q477.468 206.479 477.468 201.293 Q477.468 196.131 479.181 190.9 Q480.893 185.668 484.389 180.206 L488.093 180.206 Z\" fill=\"#000000\" fill-rule=\"evenodd\" fill-opacity=\"1\" /><path clip-path=\"url(#clip110)\" d=\"M517.907 190.252 L508.532 202.867 L518.393 216.178 L513.37 216.178 L505.824 205.992 L498.278 216.178 L493.255 216.178 L503.324 202.613 L494.111 190.252 L499.134 190.252 L506.009 199.488 L512.884 190.252 L517.907 190.252 Z\" fill=\"#000000\" fill-rule=\"evenodd\" fill-opacity=\"1\" /><path clip-path=\"url(#clip110)\" d=\"M523.74 180.206 L527.444 180.206 Q530.916 185.668 532.629 190.9 Q534.365 196.131 534.365 201.293 Q534.365 206.479 532.629 211.733 Q530.916 216.988 527.444 222.428 L523.74 222.428 Q526.819 217.127 528.324 211.895 Q529.852 206.641 529.852 201.293 Q529.852 195.946 528.324 190.738 Q526.819 185.53 523.74 180.206 Z\" fill=\"#000000\" fill-rule=\"evenodd\" fill-opacity=\"1\" /><path clip-path=\"url(#clip110)\" d=\"M543.995 210.298 L548.879 210.298 L548.879 214.279 L545.083 221.687 L542.097 221.687 L543.995 214.279 L543.995 210.298 Z\" fill=\"#000000\" fill-rule=\"evenodd\" fill-opacity=\"1\" /><path clip-path=\"url(#clip110)\" d=\"M586.171 180.159 L586.171 183.701 L582.097 183.701 Q579.805 183.701 578.902 184.627 Q578.023 185.553 578.023 187.96 L578.023 190.252 L585.036 190.252 L585.036 193.562 L578.023 193.562 L578.023 216.178 L573.74 216.178 L573.74 193.562 L569.666 193.562 L569.666 190.252 L573.74 190.252 L573.74 188.446 Q573.74 184.118 575.754 182.15 Q577.768 180.159 582.143 180.159 L586.171 180.159 Z\" fill=\"#000000\" fill-rule=\"evenodd\" fill-opacity=\"1\" /><path clip-path=\"url(#clip110)\" d=\"M599.967 180.206 Q596.865 185.53 595.36 190.738 Q593.856 195.946 593.856 201.293 Q593.856 206.641 595.36 211.895 Q596.888 217.127 599.967 222.428 L596.263 222.428 Q592.791 216.988 591.055 211.733 Q589.342 206.479 589.342 201.293 Q589.342 196.131 591.055 190.9 Q592.768 185.668 596.263 180.206 L599.967 180.206 Z\" fill=\"#000000\" fill-rule=\"evenodd\" fill-opacity=\"1\" /><path clip-path=\"url(#clip110)\" d=\"M619.018 218.585 Q617.212 223.215 615.499 224.627 Q613.786 226.039 610.916 226.039 L607.513 226.039 L607.513 222.474 L610.013 222.474 Q611.772 222.474 612.745 221.64 Q613.717 220.807 614.897 217.705 L615.661 215.761 L605.175 190.252 L609.689 190.252 L617.791 210.529 L625.893 190.252 L630.407 190.252 L619.018 218.585 Z\" fill=\"#000000\" fill-rule=\"evenodd\" fill-opacity=\"1\" /><path clip-path=\"url(#clip110)\" d=\"M635.615 180.206 L639.319 180.206 Q642.791 185.668 644.504 190.9 Q646.24 196.131 646.24 201.293 Q646.24 206.479 644.504 211.733 Q642.791 216.988 639.319 222.428 L635.615 222.428 Q638.694 217.127 640.198 211.895 Q641.726 206.641 641.726 201.293 Q641.726 195.946 640.198 190.738 Q638.694 185.53 635.615 180.206 Z\" fill=\"#000000\" fill-rule=\"evenodd\" fill-opacity=\"1\" /></svg>\n"
      ]
     },
     "execution_count": 9,
     "metadata": {},
     "output_type": "execute_result"
    }
   ],
   "source": [
    "p = plot([x[1], y[1]], [x[2], y[2]], markershape=:xcross, label=\"x, y\")\n",
    "plot!(p, [xp[1], yp[1]], [xp[2], yp[2]], markershape=:circle, label=\"f(x), f(y)\")"
   ]
  },
  {
   "cell_type": "code",
   "execution_count": 19,
   "id": "e350820f",
   "metadata": {},
   "outputs": [],
   "source": [
    "plot(xlim=(0, 3), ylim=(0, 3));"
   ]
  },
  {
   "cell_type": "code",
   "execution_count": 26,
   "id": "ad91df21",
   "metadata": {},
   "outputs": [
    {
     "data": {
      "image/svg+xml": [
       "<?xml version=\"1.0\" encoding=\"utf-8\"?>\n",
       "<svg xmlns=\"http://www.w3.org/2000/svg\" xmlns:xlink=\"http://www.w3.org/1999/xlink\" width=\"600\" height=\"400\" viewBox=\"0 0 2400 1600\">\n",
       "<defs>\n",
       "  <clipPath id=\"clip630\">\n",
       "    <rect x=\"0\" y=\"0\" width=\"2400\" height=\"1600\"/>\n",
       "  </clipPath>\n",
       "</defs>\n",
       "<path clip-path=\"url(#clip630)\" d=\"M0 1600 L2400 1600 L2400 0 L0 0  Z\" fill=\"#ffffff\" fill-rule=\"evenodd\" fill-opacity=\"1\"/>\n",
       "<defs>\n",
       "  <clipPath id=\"clip631\">\n",
       "    <rect x=\"480\" y=\"0\" width=\"1681\" height=\"1600\"/>\n",
       "  </clipPath>\n",
       "</defs>\n",
       "<path clip-path=\"url(#clip630)\" d=\"M110.881 1486.45 L2352.76 1486.45 L2352.76 47.2441 L110.881 47.2441  Z\" fill=\"#ffffff\" fill-rule=\"evenodd\" fill-opacity=\"1\"/>\n",
       "<defs>\n",
       "  <clipPath id=\"clip632\">\n",
       "    <rect x=\"110\" y=\"47\" width=\"2243\" height=\"1440\"/>\n",
       "  </clipPath>\n",
       "</defs>\n",
       "<polyline clip-path=\"url(#clip632)\" style=\"stroke:#000000; stroke-linecap:round; stroke-linejoin:round; stroke-width:2; stroke-opacity:0.1; fill:none\" points=\"110.881,1486.45 110.881,47.2441 \"/>\n",
       "<polyline clip-path=\"url(#clip632)\" style=\"stroke:#000000; stroke-linecap:round; stroke-linejoin:round; stroke-width:2; stroke-opacity:0.1; fill:none\" points=\"858.173,1486.45 858.173,47.2441 \"/>\n",
       "<polyline clip-path=\"url(#clip632)\" style=\"stroke:#000000; stroke-linecap:round; stroke-linejoin:round; stroke-width:2; stroke-opacity:0.1; fill:none\" points=\"1605.46,1486.45 1605.46,47.2441 \"/>\n",
       "<polyline clip-path=\"url(#clip632)\" style=\"stroke:#000000; stroke-linecap:round; stroke-linejoin:round; stroke-width:2; stroke-opacity:0.1; fill:none\" points=\"2352.76,1486.45 2352.76,47.2441 \"/>\n",
       "<polyline clip-path=\"url(#clip630)\" style=\"stroke:#000000; stroke-linecap:round; stroke-linejoin:round; stroke-width:4; stroke-opacity:1; fill:none\" points=\"110.881,1486.45 2352.76,1486.45 \"/>\n",
       "<polyline clip-path=\"url(#clip630)\" style=\"stroke:#000000; stroke-linecap:round; stroke-linejoin:round; stroke-width:4; stroke-opacity:1; fill:none\" points=\"110.881,1486.45 110.881,1467.55 \"/>\n",
       "<polyline clip-path=\"url(#clip630)\" style=\"stroke:#000000; stroke-linecap:round; stroke-linejoin:round; stroke-width:4; stroke-opacity:1; fill:none\" points=\"858.173,1486.45 858.173,1467.55 \"/>\n",
       "<polyline clip-path=\"url(#clip630)\" style=\"stroke:#000000; stroke-linecap:round; stroke-linejoin:round; stroke-width:4; stroke-opacity:1; fill:none\" points=\"1605.46,1486.45 1605.46,1467.55 \"/>\n",
       "<polyline clip-path=\"url(#clip630)\" style=\"stroke:#000000; stroke-linecap:round; stroke-linejoin:round; stroke-width:4; stroke-opacity:1; fill:none\" points=\"2352.76,1486.45 2352.76,1467.55 \"/>\n",
       "<path clip-path=\"url(#clip630)\" d=\"M110.881 1517.37 Q107.27 1517.37 105.441 1520.93 Q103.636 1524.47 103.636 1531.6 Q103.636 1538.71 105.441 1542.27 Q107.27 1545.82 110.881 1545.82 Q114.515 1545.82 116.321 1542.27 Q118.149 1538.71 118.149 1531.6 Q118.149 1524.47 116.321 1520.93 Q114.515 1517.37 110.881 1517.37 M110.881 1513.66 Q116.691 1513.66 119.747 1518.27 Q122.825 1522.85 122.825 1531.6 Q122.825 1540.33 119.747 1544.94 Q116.691 1549.52 110.881 1549.52 Q105.071 1549.52 101.992 1544.94 Q98.9365 1540.33 98.9365 1531.6 Q98.9365 1522.85 101.992 1518.27 Q105.071 1513.66 110.881 1513.66 Z\" fill=\"#000000\" fill-rule=\"evenodd\" fill-opacity=\"1\" /><path clip-path=\"url(#clip630)\" d=\"M848.555 1544.91 L856.193 1544.91 L856.193 1518.55 L847.883 1520.21 L847.883 1515.95 L856.147 1514.29 L860.823 1514.29 L860.823 1544.91 L868.462 1544.91 L868.462 1548.85 L848.555 1548.85 L848.555 1544.91 Z\" fill=\"#000000\" fill-rule=\"evenodd\" fill-opacity=\"1\" /><path clip-path=\"url(#clip630)\" d=\"M1600.12 1544.91 L1616.44 1544.91 L1616.44 1548.85 L1594.49 1548.85 L1594.49 1544.91 Q1597.15 1542.16 1601.74 1537.53 Q1606.34 1532.88 1607.52 1531.53 Q1609.77 1529.01 1610.65 1527.27 Q1611.55 1525.51 1611.55 1523.82 Q1611.55 1521.07 1609.61 1519.33 Q1607.69 1517.6 1604.58 1517.6 Q1602.39 1517.6 1599.93 1518.36 Q1597.5 1519.13 1594.72 1520.68 L1594.72 1515.95 Q1597.55 1514.82 1600 1514.24 Q1602.45 1513.66 1604.49 1513.66 Q1609.86 1513.66 1613.06 1516.35 Q1616.25 1519.03 1616.25 1523.52 Q1616.25 1525.65 1615.44 1527.57 Q1614.65 1529.47 1612.55 1532.07 Q1611.97 1532.74 1608.87 1535.95 Q1605.77 1539.15 1600.12 1544.91 Z\" fill=\"#000000\" fill-rule=\"evenodd\" fill-opacity=\"1\" /><path clip-path=\"url(#clip630)\" d=\"M2357 1530.21 Q2360.36 1530.93 2362.24 1533.2 Q2364.13 1535.47 2364.13 1538.8 Q2364.13 1543.92 2360.61 1546.72 Q2357.1 1549.52 2350.61 1549.52 Q2348.44 1549.52 2346.12 1549.08 Q2343.83 1548.66 2341.38 1547.81 L2341.38 1543.29 Q2343.32 1544.43 2345.64 1545.01 Q2347.95 1545.58 2350.48 1545.58 Q2354.87 1545.58 2357.17 1543.85 Q2359.48 1542.11 2359.48 1538.8 Q2359.48 1535.75 2357.33 1534.03 Q2355.2 1532.3 2351.38 1532.3 L2347.35 1532.3 L2347.35 1528.45 L2351.56 1528.45 Q2355.01 1528.45 2356.84 1527.09 Q2358.67 1525.7 2358.67 1523.11 Q2358.67 1520.45 2356.77 1519.03 Q2354.9 1517.6 2351.38 1517.6 Q2349.46 1517.6 2347.26 1518.01 Q2345.06 1518.43 2342.42 1519.31 L2342.42 1515.14 Q2345.08 1514.4 2347.4 1514.03 Q2349.74 1513.66 2351.8 1513.66 Q2357.12 1513.66 2360.22 1516.09 Q2363.32 1518.5 2363.32 1522.62 Q2363.32 1525.49 2361.68 1527.48 Q2360.04 1529.45 2357 1530.21 Z\" fill=\"#000000\" fill-rule=\"evenodd\" fill-opacity=\"1\" /><polyline clip-path=\"url(#clip632)\" style=\"stroke:#000000; stroke-linecap:round; stroke-linejoin:round; stroke-width:2; stroke-opacity:0.1; fill:none\" points=\"110.881,1486.45 2352.76,1486.45 \"/>\n",
       "<polyline clip-path=\"url(#clip632)\" style=\"stroke:#000000; stroke-linecap:round; stroke-linejoin:round; stroke-width:2; stroke-opacity:0.1; fill:none\" points=\"110.881,1006.71 2352.76,1006.71 \"/>\n",
       "<polyline clip-path=\"url(#clip632)\" style=\"stroke:#000000; stroke-linecap:round; stroke-linejoin:round; stroke-width:2; stroke-opacity:0.1; fill:none\" points=\"110.881,526.979 2352.76,526.979 \"/>\n",
       "<polyline clip-path=\"url(#clip632)\" style=\"stroke:#000000; stroke-linecap:round; stroke-linejoin:round; stroke-width:2; stroke-opacity:0.1; fill:none\" points=\"110.881,47.2441 2352.76,47.2441 \"/>\n",
       "<polyline clip-path=\"url(#clip630)\" style=\"stroke:#000000; stroke-linecap:round; stroke-linejoin:round; stroke-width:4; stroke-opacity:1; fill:none\" points=\"110.881,1486.45 110.881,47.2441 \"/>\n",
       "<polyline clip-path=\"url(#clip630)\" style=\"stroke:#000000; stroke-linecap:round; stroke-linejoin:round; stroke-width:4; stroke-opacity:1; fill:none\" points=\"110.881,1486.45 129.779,1486.45 \"/>\n",
       "<polyline clip-path=\"url(#clip630)\" style=\"stroke:#000000; stroke-linecap:round; stroke-linejoin:round; stroke-width:4; stroke-opacity:1; fill:none\" points=\"110.881,1006.71 129.779,1006.71 \"/>\n",
       "<polyline clip-path=\"url(#clip630)\" style=\"stroke:#000000; stroke-linecap:round; stroke-linejoin:round; stroke-width:4; stroke-opacity:1; fill:none\" points=\"110.881,526.979 129.779,526.979 \"/>\n",
       "<polyline clip-path=\"url(#clip630)\" style=\"stroke:#000000; stroke-linecap:round; stroke-linejoin:round; stroke-width:4; stroke-opacity:1; fill:none\" points=\"110.881,47.2441 129.779,47.2441 \"/>\n",
       "<path clip-path=\"url(#clip630)\" d=\"M62.9365 1472.25 Q59.3254 1472.25 57.4967 1475.81 Q55.6912 1479.35 55.6912 1486.48 Q55.6912 1493.59 57.4967 1497.15 Q59.3254 1500.7 62.9365 1500.7 Q66.5707 1500.7 68.3763 1497.15 Q70.205 1493.59 70.205 1486.48 Q70.205 1479.35 68.3763 1475.81 Q66.5707 1472.25 62.9365 1472.25 M62.9365 1468.54 Q68.7467 1468.54 71.8022 1473.15 Q74.8809 1477.73 74.8809 1486.48 Q74.8809 1495.21 71.8022 1499.82 Q68.7467 1504.4 62.9365 1504.4 Q57.1264 1504.4 54.0477 1499.82 Q50.9921 1495.21 50.9921 1486.48 Q50.9921 1477.73 54.0477 1473.15 Q57.1264 1468.54 62.9365 1468.54 Z\" fill=\"#000000\" fill-rule=\"evenodd\" fill-opacity=\"1\" /><path clip-path=\"url(#clip630)\" d=\"M54.9736 1020.06 L62.6124 1020.06 L62.6124 993.693 L54.3023 995.359 L54.3023 991.1 L62.5661 989.433 L67.242 989.433 L67.242 1020.06 L74.8809 1020.06 L74.8809 1023.99 L54.9736 1023.99 L54.9736 1020.06 Z\" fill=\"#000000\" fill-rule=\"evenodd\" fill-opacity=\"1\" /><path clip-path=\"url(#clip630)\" d=\"M58.5615 540.324 L74.8809 540.324 L74.8809 544.259 L52.9366 544.259 L52.9366 540.324 Q55.5986 537.569 60.1819 532.939 Q64.7883 528.287 65.9689 526.944 Q68.2143 524.421 69.0939 522.685 Q69.9967 520.925 69.9967 519.236 Q69.9967 516.481 68.0522 514.745 Q66.1309 513.009 63.0291 513.009 Q60.83 513.009 58.3763 513.773 Q55.9458 514.537 53.168 516.088 L53.168 511.365 Q55.9921 510.231 58.4458 509.652 Q60.8995 509.074 62.9365 509.074 Q68.3068 509.074 71.5013 511.759 Q74.6957 514.444 74.6957 518.935 Q74.6957 521.064 73.8855 522.986 Q73.0985 524.884 70.992 527.476 Q70.4133 528.148 67.3115 531.365 Q64.2096 534.56 58.5615 540.324 Z\" fill=\"#000000\" fill-rule=\"evenodd\" fill-opacity=\"1\" /><path clip-path=\"url(#clip630)\" d=\"M67.7513 45.8899 Q71.1078 46.6075 72.9827 48.876 Q74.8809 51.1445 74.8809 54.4779 Q74.8809 59.5936 71.3624 62.3945 Q67.8439 65.1954 61.3624 65.1954 Q59.1865 65.1954 56.8717 64.7556 Q54.5801 64.3389 52.1264 63.4824 L52.1264 58.9686 Q54.0708 60.1028 56.3856 60.6815 Q58.7004 61.2602 61.2236 61.2602 Q65.6217 61.2602 67.9133 59.5241 Q70.2281 57.788 70.2281 54.4779 Q70.2281 51.4223 68.0754 49.7094 Q65.9457 47.9733 62.1263 47.9733 L58.0986 47.9733 L58.0986 44.1307 L62.3115 44.1307 Q65.7606 44.1307 67.5893 42.765 Q69.418 41.3761 69.418 38.7835 Q69.418 36.1215 67.5198 34.7094 Q65.6448 33.2743 62.1263 33.2743 Q60.205 33.2743 58.006 33.6909 Q55.8069 34.1076 53.168 34.9872 L53.168 30.8206 Q55.8301 30.0798 58.1449 29.7095 Q60.4828 29.3391 62.543 29.3391 Q67.867 29.3391 70.9689 31.7696 Q74.0707 34.177 74.0707 38.2974 Q74.0707 41.1677 72.4272 43.1585 Q70.7837 45.1261 67.7513 45.8899 Z\" fill=\"#000000\" fill-rule=\"evenodd\" fill-opacity=\"1\" /><polyline clip-path=\"url(#clip632)\" style=\"stroke:#009af9; stroke-linecap:round; stroke-linejoin:round; stroke-width:4; stroke-opacity:1; fill:none\" points=\"2352.76,1006.71 1231.82,526.979 1605.46,886.78 1325.23,766.846 1418.64,856.796 1348.58,826.813 1371.94,849.3 1354.42,841.805 1360.26,847.426 1355.88,845.552 1357.34,846.958 \"/>\n",
       "<polyline clip-path=\"url(#clip632)\" style=\"stroke:#009af9; stroke-linecap:round; stroke-linejoin:round; stroke-width:4; stroke-opacity:1; fill:none\" points=\"1343.89,809.021 1357.34,846.958 1318.92,834.953 \"/>\n",
       "<polyline clip-path=\"url(#clip632)\" style=\"stroke:#009af9; stroke-linecap:round; stroke-linejoin:round; stroke-width:4; stroke-opacity:1; fill:none\" points=\"1357.34,846.958 1355.88,845.552 \"/>\n",
       "<circle clip-path=\"url(#clip632)\" cx=\"2352.76\" cy=\"1006.71\" r=\"14.4\" fill=\"#009af9\" fill-rule=\"evenodd\" fill-opacity=\"1\" stroke=\"#000000\" stroke-opacity=\"1\" stroke-width=\"3.2\"/>\n",
       "<circle clip-path=\"url(#clip632)\" cx=\"1231.82\" cy=\"526.979\" r=\"14.4\" fill=\"#009af9\" fill-rule=\"evenodd\" fill-opacity=\"1\" stroke=\"#000000\" stroke-opacity=\"1\" stroke-width=\"3.2\"/>\n",
       "<circle clip-path=\"url(#clip632)\" cx=\"1605.46\" cy=\"886.78\" r=\"14.4\" fill=\"#009af9\" fill-rule=\"evenodd\" fill-opacity=\"1\" stroke=\"#000000\" stroke-opacity=\"1\" stroke-width=\"3.2\"/>\n",
       "<circle clip-path=\"url(#clip632)\" cx=\"1325.23\" cy=\"766.846\" r=\"14.4\" fill=\"#009af9\" fill-rule=\"evenodd\" fill-opacity=\"1\" stroke=\"#000000\" stroke-opacity=\"1\" stroke-width=\"3.2\"/>\n",
       "<circle clip-path=\"url(#clip632)\" cx=\"1418.64\" cy=\"856.796\" r=\"14.4\" fill=\"#009af9\" fill-rule=\"evenodd\" fill-opacity=\"1\" stroke=\"#000000\" stroke-opacity=\"1\" stroke-width=\"3.2\"/>\n",
       "<circle clip-path=\"url(#clip632)\" cx=\"1348.58\" cy=\"826.813\" r=\"14.4\" fill=\"#009af9\" fill-rule=\"evenodd\" fill-opacity=\"1\" stroke=\"#000000\" stroke-opacity=\"1\" stroke-width=\"3.2\"/>\n",
       "<circle clip-path=\"url(#clip632)\" cx=\"1371.94\" cy=\"849.3\" r=\"14.4\" fill=\"#009af9\" fill-rule=\"evenodd\" fill-opacity=\"1\" stroke=\"#000000\" stroke-opacity=\"1\" stroke-width=\"3.2\"/>\n",
       "<circle clip-path=\"url(#clip632)\" cx=\"1354.42\" cy=\"841.805\" r=\"14.4\" fill=\"#009af9\" fill-rule=\"evenodd\" fill-opacity=\"1\" stroke=\"#000000\" stroke-opacity=\"1\" stroke-width=\"3.2\"/>\n",
       "<circle clip-path=\"url(#clip632)\" cx=\"1360.26\" cy=\"847.426\" r=\"14.4\" fill=\"#009af9\" fill-rule=\"evenodd\" fill-opacity=\"1\" stroke=\"#000000\" stroke-opacity=\"1\" stroke-width=\"3.2\"/>\n",
       "<circle clip-path=\"url(#clip632)\" cx=\"1355.88\" cy=\"845.552\" r=\"14.4\" fill=\"#009af9\" fill-rule=\"evenodd\" fill-opacity=\"1\" stroke=\"#000000\" stroke-opacity=\"1\" stroke-width=\"3.2\"/>\n",
       "<circle clip-path=\"url(#clip632)\" cx=\"1357.34\" cy=\"846.958\" r=\"14.4\" fill=\"#009af9\" fill-rule=\"evenodd\" fill-opacity=\"1\" stroke=\"#000000\" stroke-opacity=\"1\" stroke-width=\"3.2\"/>\n",
       "<polyline clip-path=\"url(#clip632)\" style=\"stroke:#e26f46; stroke-linecap:round; stroke-linejoin:round; stroke-width:4; stroke-opacity:1; fill:none\" points=\"2352.76,47.2441 1979.11,526.979 1605.46,646.912 1512.05,766.846 1418.64,796.829 1395.29,826.813 1371.94,834.309 1366.1,841.805 1360.26,843.678 1358.8,845.552 1357.34,846.021 \"/>\n",
       "<polyline clip-path=\"url(#clip632)\" style=\"stroke:#e26f46; stroke-linecap:round; stroke-linejoin:round; stroke-width:4; stroke-opacity:1; fill:none\" points=\"1397.12,852.157 1357.34,846.021 1386.12,817.88 \"/>\n",
       "<polyline clip-path=\"url(#clip632)\" style=\"stroke:#e26f46; stroke-linecap:round; stroke-linejoin:round; stroke-width:4; stroke-opacity:1; fill:none\" points=\"1357.34,846.021 1358.8,845.552 \"/>\n",
       "<circle clip-path=\"url(#clip632)\" cx=\"2352.76\" cy=\"47.2441\" r=\"14.4\" fill=\"#e26f46\" fill-rule=\"evenodd\" fill-opacity=\"1\" stroke=\"#000000\" stroke-opacity=\"1\" stroke-width=\"3.2\"/>\n",
       "<circle clip-path=\"url(#clip632)\" cx=\"1979.11\" cy=\"526.979\" r=\"14.4\" fill=\"#e26f46\" fill-rule=\"evenodd\" fill-opacity=\"1\" stroke=\"#000000\" stroke-opacity=\"1\" stroke-width=\"3.2\"/>\n",
       "<circle clip-path=\"url(#clip632)\" cx=\"1605.46\" cy=\"646.912\" r=\"14.4\" fill=\"#e26f46\" fill-rule=\"evenodd\" fill-opacity=\"1\" stroke=\"#000000\" stroke-opacity=\"1\" stroke-width=\"3.2\"/>\n",
       "<circle clip-path=\"url(#clip632)\" cx=\"1512.05\" cy=\"766.846\" r=\"14.4\" fill=\"#e26f46\" fill-rule=\"evenodd\" fill-opacity=\"1\" stroke=\"#000000\" stroke-opacity=\"1\" stroke-width=\"3.2\"/>\n",
       "<circle clip-path=\"url(#clip632)\" cx=\"1418.64\" cy=\"796.829\" r=\"14.4\" fill=\"#e26f46\" fill-rule=\"evenodd\" fill-opacity=\"1\" stroke=\"#000000\" stroke-opacity=\"1\" stroke-width=\"3.2\"/>\n",
       "<circle clip-path=\"url(#clip632)\" cx=\"1395.29\" cy=\"826.813\" r=\"14.4\" fill=\"#e26f46\" fill-rule=\"evenodd\" fill-opacity=\"1\" stroke=\"#000000\" stroke-opacity=\"1\" stroke-width=\"3.2\"/>\n",
       "<circle clip-path=\"url(#clip632)\" cx=\"1371.94\" cy=\"834.309\" r=\"14.4\" fill=\"#e26f46\" fill-rule=\"evenodd\" fill-opacity=\"1\" stroke=\"#000000\" stroke-opacity=\"1\" stroke-width=\"3.2\"/>\n",
       "<circle clip-path=\"url(#clip632)\" cx=\"1366.1\" cy=\"841.805\" r=\"14.4\" fill=\"#e26f46\" fill-rule=\"evenodd\" fill-opacity=\"1\" stroke=\"#000000\" stroke-opacity=\"1\" stroke-width=\"3.2\"/>\n",
       "<circle clip-path=\"url(#clip632)\" cx=\"1360.26\" cy=\"843.678\" r=\"14.4\" fill=\"#e26f46\" fill-rule=\"evenodd\" fill-opacity=\"1\" stroke=\"#000000\" stroke-opacity=\"1\" stroke-width=\"3.2\"/>\n",
       "<circle clip-path=\"url(#clip632)\" cx=\"1358.8\" cy=\"845.552\" r=\"14.4\" fill=\"#e26f46\" fill-rule=\"evenodd\" fill-opacity=\"1\" stroke=\"#000000\" stroke-opacity=\"1\" stroke-width=\"3.2\"/>\n",
       "<circle clip-path=\"url(#clip632)\" cx=\"1357.34\" cy=\"846.021\" r=\"14.4\" fill=\"#e26f46\" fill-rule=\"evenodd\" fill-opacity=\"1\" stroke=\"#000000\" stroke-opacity=\"1\" stroke-width=\"3.2\"/>\n",
       "<polyline clip-path=\"url(#clip632)\" style=\"stroke:#3da44d; stroke-linecap:round; stroke-linejoin:round; stroke-width:4; stroke-opacity:1; fill:none\" points=\"858.173,1006.71 1231.82,1006.71 1231.82,886.78 1325.23,886.78 1325.23,856.796 1348.58,856.796 1348.58,849.3 1354.42,849.3 1354.42,847.426 1355.88,847.426 1355.88,846.958 \"/>\n",
       "<polyline clip-path=\"url(#clip632)\" style=\"stroke:#3da44d; stroke-linecap:round; stroke-linejoin:round; stroke-width:4; stroke-opacity:1; fill:none\" points=\"1337.88,882.958 1355.88,846.958 1373.88,882.958 \"/>\n",
       "<polyline clip-path=\"url(#clip632)\" style=\"stroke:#3da44d; stroke-linecap:round; stroke-linejoin:round; stroke-width:4; stroke-opacity:1; fill:none\" points=\"1355.88,846.958 1355.88,847.426 \"/>\n",
       "<circle clip-path=\"url(#clip632)\" cx=\"858.173\" cy=\"1006.71\" r=\"14.4\" fill=\"#3da44d\" fill-rule=\"evenodd\" fill-opacity=\"1\" stroke=\"#000000\" stroke-opacity=\"1\" stroke-width=\"3.2\"/>\n",
       "<circle clip-path=\"url(#clip632)\" cx=\"1231.82\" cy=\"1006.71\" r=\"14.4\" fill=\"#3da44d\" fill-rule=\"evenodd\" fill-opacity=\"1\" stroke=\"#000000\" stroke-opacity=\"1\" stroke-width=\"3.2\"/>\n",
       "<circle clip-path=\"url(#clip632)\" cx=\"1231.82\" cy=\"886.78\" r=\"14.4\" fill=\"#3da44d\" fill-rule=\"evenodd\" fill-opacity=\"1\" stroke=\"#000000\" stroke-opacity=\"1\" stroke-width=\"3.2\"/>\n",
       "<circle clip-path=\"url(#clip632)\" cx=\"1325.23\" cy=\"886.78\" r=\"14.4\" fill=\"#3da44d\" fill-rule=\"evenodd\" fill-opacity=\"1\" stroke=\"#000000\" stroke-opacity=\"1\" stroke-width=\"3.2\"/>\n",
       "<circle clip-path=\"url(#clip632)\" cx=\"1325.23\" cy=\"856.796\" r=\"14.4\" fill=\"#3da44d\" fill-rule=\"evenodd\" fill-opacity=\"1\" stroke=\"#000000\" stroke-opacity=\"1\" stroke-width=\"3.2\"/>\n",
       "<circle clip-path=\"url(#clip632)\" cx=\"1348.58\" cy=\"856.796\" r=\"14.4\" fill=\"#3da44d\" fill-rule=\"evenodd\" fill-opacity=\"1\" stroke=\"#000000\" stroke-opacity=\"1\" stroke-width=\"3.2\"/>\n",
       "<circle clip-path=\"url(#clip632)\" cx=\"1348.58\" cy=\"849.3\" r=\"14.4\" fill=\"#3da44d\" fill-rule=\"evenodd\" fill-opacity=\"1\" stroke=\"#000000\" stroke-opacity=\"1\" stroke-width=\"3.2\"/>\n",
       "<circle clip-path=\"url(#clip632)\" cx=\"1354.42\" cy=\"849.3\" r=\"14.4\" fill=\"#3da44d\" fill-rule=\"evenodd\" fill-opacity=\"1\" stroke=\"#000000\" stroke-opacity=\"1\" stroke-width=\"3.2\"/>\n",
       "<circle clip-path=\"url(#clip632)\" cx=\"1354.42\" cy=\"847.426\" r=\"14.4\" fill=\"#3da44d\" fill-rule=\"evenodd\" fill-opacity=\"1\" stroke=\"#000000\" stroke-opacity=\"1\" stroke-width=\"3.2\"/>\n",
       "<circle clip-path=\"url(#clip632)\" cx=\"1355.88\" cy=\"847.426\" r=\"14.4\" fill=\"#3da44d\" fill-rule=\"evenodd\" fill-opacity=\"1\" stroke=\"#000000\" stroke-opacity=\"1\" stroke-width=\"3.2\"/>\n",
       "<circle clip-path=\"url(#clip632)\" cx=\"1355.88\" cy=\"846.958\" r=\"14.4\" fill=\"#3da44d\" fill-rule=\"evenodd\" fill-opacity=\"1\" stroke=\"#000000\" stroke-opacity=\"1\" stroke-width=\"3.2\"/>\n",
       "<polyline clip-path=\"url(#clip632)\" style=\"stroke:#c271d2; stroke-linecap:round; stroke-linejoin:round; stroke-width:4; stroke-opacity:1; fill:none\" points=\"858.173,1006.71 1231.82,1006.71 1231.82,886.78 1325.23,886.78 1325.23,856.796 1348.58,856.796 1348.58,849.3 1354.42,849.3 1354.42,847.426 1355.88,847.426 1355.88,846.958 \"/>\n",
       "<polyline clip-path=\"url(#clip632)\" style=\"stroke:#c271d2; stroke-linecap:round; stroke-linejoin:round; stroke-width:4; stroke-opacity:1; fill:none\" points=\"1337.88,882.958 1355.88,846.958 1373.88,882.958 \"/>\n",
       "<polyline clip-path=\"url(#clip632)\" style=\"stroke:#c271d2; stroke-linecap:round; stroke-linejoin:round; stroke-width:4; stroke-opacity:1; fill:none\" points=\"1355.88,846.958 1355.88,847.426 \"/>\n",
       "<circle clip-path=\"url(#clip632)\" cx=\"858.173\" cy=\"1006.71\" r=\"14.4\" fill=\"#c271d2\" fill-rule=\"evenodd\" fill-opacity=\"1\" stroke=\"#000000\" stroke-opacity=\"1\" stroke-width=\"3.2\"/>\n",
       "<circle clip-path=\"url(#clip632)\" cx=\"1231.82\" cy=\"1006.71\" r=\"14.4\" fill=\"#c271d2\" fill-rule=\"evenodd\" fill-opacity=\"1\" stroke=\"#000000\" stroke-opacity=\"1\" stroke-width=\"3.2\"/>\n",
       "<circle clip-path=\"url(#clip632)\" cx=\"1231.82\" cy=\"886.78\" r=\"14.4\" fill=\"#c271d2\" fill-rule=\"evenodd\" fill-opacity=\"1\" stroke=\"#000000\" stroke-opacity=\"1\" stroke-width=\"3.2\"/>\n",
       "<circle clip-path=\"url(#clip632)\" cx=\"1325.23\" cy=\"886.78\" r=\"14.4\" fill=\"#c271d2\" fill-rule=\"evenodd\" fill-opacity=\"1\" stroke=\"#000000\" stroke-opacity=\"1\" stroke-width=\"3.2\"/>\n",
       "<circle clip-path=\"url(#clip632)\" cx=\"1325.23\" cy=\"856.796\" r=\"14.4\" fill=\"#c271d2\" fill-rule=\"evenodd\" fill-opacity=\"1\" stroke=\"#000000\" stroke-opacity=\"1\" stroke-width=\"3.2\"/>\n",
       "<circle clip-path=\"url(#clip632)\" cx=\"1348.58\" cy=\"856.796\" r=\"14.4\" fill=\"#c271d2\" fill-rule=\"evenodd\" fill-opacity=\"1\" stroke=\"#000000\" stroke-opacity=\"1\" stroke-width=\"3.2\"/>\n",
       "<circle clip-path=\"url(#clip632)\" cx=\"1348.58\" cy=\"849.3\" r=\"14.4\" fill=\"#c271d2\" fill-rule=\"evenodd\" fill-opacity=\"1\" stroke=\"#000000\" stroke-opacity=\"1\" stroke-width=\"3.2\"/>\n",
       "<circle clip-path=\"url(#clip632)\" cx=\"1354.42\" cy=\"849.3\" r=\"14.4\" fill=\"#c271d2\" fill-rule=\"evenodd\" fill-opacity=\"1\" stroke=\"#000000\" stroke-opacity=\"1\" stroke-width=\"3.2\"/>\n",
       "<circle clip-path=\"url(#clip632)\" cx=\"1354.42\" cy=\"847.426\" r=\"14.4\" fill=\"#c271d2\" fill-rule=\"evenodd\" fill-opacity=\"1\" stroke=\"#000000\" stroke-opacity=\"1\" stroke-width=\"3.2\"/>\n",
       "<circle clip-path=\"url(#clip632)\" cx=\"1355.88\" cy=\"847.426\" r=\"14.4\" fill=\"#c271d2\" fill-rule=\"evenodd\" fill-opacity=\"1\" stroke=\"#000000\" stroke-opacity=\"1\" stroke-width=\"3.2\"/>\n",
       "<circle clip-path=\"url(#clip632)\" cx=\"1355.88\" cy=\"846.958\" r=\"14.4\" fill=\"#c271d2\" fill-rule=\"evenodd\" fill-opacity=\"1\" stroke=\"#000000\" stroke-opacity=\"1\" stroke-width=\"3.2\"/>\n",
       "<polyline clip-path=\"url(#clip632)\" style=\"stroke:#ac8d18; stroke-linecap:round; stroke-linejoin:round; stroke-width:4; stroke-opacity:1; fill:none\" points=\"858.173,47.2441 1979.11,1006.71 1231.82,646.912 1512.05,886.78 1325.23,796.829 1395.29,856.796 1348.58,834.309 1366.1,849.3 1354.42,843.678 1358.8,847.426 1355.88,846.021 \"/>\n",
       "<polyline clip-path=\"url(#clip632)\" style=\"stroke:#ac8d18; stroke-linecap:round; stroke-linejoin:round; stroke-width:4; stroke-opacity:1; fill:none\" points=\"1380.51,877.856 1355.88,846.021 1396.13,845.42 \"/>\n",
       "<polyline clip-path=\"url(#clip632)\" style=\"stroke:#ac8d18; stroke-linecap:round; stroke-linejoin:round; stroke-width:4; stroke-opacity:1; fill:none\" points=\"1355.88,846.021 1358.8,847.426 \"/>\n",
       "<circle clip-path=\"url(#clip632)\" cx=\"858.173\" cy=\"47.2441\" r=\"14.4\" fill=\"#ac8d18\" fill-rule=\"evenodd\" fill-opacity=\"1\" stroke=\"#000000\" stroke-opacity=\"1\" stroke-width=\"3.2\"/>\n",
       "<circle clip-path=\"url(#clip632)\" cx=\"1979.11\" cy=\"1006.71\" r=\"14.4\" fill=\"#ac8d18\" fill-rule=\"evenodd\" fill-opacity=\"1\" stroke=\"#000000\" stroke-opacity=\"1\" stroke-width=\"3.2\"/>\n",
       "<circle clip-path=\"url(#clip632)\" cx=\"1231.82\" cy=\"646.912\" r=\"14.4\" fill=\"#ac8d18\" fill-rule=\"evenodd\" fill-opacity=\"1\" stroke=\"#000000\" stroke-opacity=\"1\" stroke-width=\"3.2\"/>\n",
       "<circle clip-path=\"url(#clip632)\" cx=\"1512.05\" cy=\"886.78\" r=\"14.4\" fill=\"#ac8d18\" fill-rule=\"evenodd\" fill-opacity=\"1\" stroke=\"#000000\" stroke-opacity=\"1\" stroke-width=\"3.2\"/>\n",
       "<circle clip-path=\"url(#clip632)\" cx=\"1325.23\" cy=\"796.829\" r=\"14.4\" fill=\"#ac8d18\" fill-rule=\"evenodd\" fill-opacity=\"1\" stroke=\"#000000\" stroke-opacity=\"1\" stroke-width=\"3.2\"/>\n",
       "<circle clip-path=\"url(#clip632)\" cx=\"1395.29\" cy=\"856.796\" r=\"14.4\" fill=\"#ac8d18\" fill-rule=\"evenodd\" fill-opacity=\"1\" stroke=\"#000000\" stroke-opacity=\"1\" stroke-width=\"3.2\"/>\n",
       "<circle clip-path=\"url(#clip632)\" cx=\"1348.58\" cy=\"834.309\" r=\"14.4\" fill=\"#ac8d18\" fill-rule=\"evenodd\" fill-opacity=\"1\" stroke=\"#000000\" stroke-opacity=\"1\" stroke-width=\"3.2\"/>\n",
       "<circle clip-path=\"url(#clip632)\" cx=\"1366.1\" cy=\"849.3\" r=\"14.4\" fill=\"#ac8d18\" fill-rule=\"evenodd\" fill-opacity=\"1\" stroke=\"#000000\" stroke-opacity=\"1\" stroke-width=\"3.2\"/>\n",
       "<circle clip-path=\"url(#clip632)\" cx=\"1354.42\" cy=\"843.678\" r=\"14.4\" fill=\"#ac8d18\" fill-rule=\"evenodd\" fill-opacity=\"1\" stroke=\"#000000\" stroke-opacity=\"1\" stroke-width=\"3.2\"/>\n",
       "<circle clip-path=\"url(#clip632)\" cx=\"1358.8\" cy=\"847.426\" r=\"14.4\" fill=\"#ac8d18\" fill-rule=\"evenodd\" fill-opacity=\"1\" stroke=\"#000000\" stroke-opacity=\"1\" stroke-width=\"3.2\"/>\n",
       "<circle clip-path=\"url(#clip632)\" cx=\"1355.88\" cy=\"846.021\" r=\"14.4\" fill=\"#ac8d18\" fill-rule=\"evenodd\" fill-opacity=\"1\" stroke=\"#000000\" stroke-opacity=\"1\" stroke-width=\"3.2\"/>\n",
       "<polyline clip-path=\"url(#clip632)\" style=\"stroke:#00a9ad; stroke-linecap:round; stroke-linejoin:round; stroke-width:4; stroke-opacity:1; fill:none\" points=\"858.173,47.2441 1979.11,1006.71 1231.82,646.912 1512.05,886.78 1325.23,796.829 1395.29,856.796 1348.58,834.309 1366.1,849.3 1354.42,843.678 1358.8,847.426 1355.88,846.021 \"/>\n",
       "<polyline clip-path=\"url(#clip632)\" style=\"stroke:#00a9ad; stroke-linecap:round; stroke-linejoin:round; stroke-width:4; stroke-opacity:1; fill:none\" points=\"1380.51,877.856 1355.88,846.021 1396.13,845.42 \"/>\n",
       "<polyline clip-path=\"url(#clip632)\" style=\"stroke:#00a9ad; stroke-linecap:round; stroke-linejoin:round; stroke-width:4; stroke-opacity:1; fill:none\" points=\"1355.88,846.021 1358.8,847.426 \"/>\n",
       "<circle clip-path=\"url(#clip632)\" cx=\"858.173\" cy=\"47.2441\" r=\"14.4\" fill=\"#00a9ad\" fill-rule=\"evenodd\" fill-opacity=\"1\" stroke=\"#000000\" stroke-opacity=\"1\" stroke-width=\"3.2\"/>\n",
       "<circle clip-path=\"url(#clip632)\" cx=\"1979.11\" cy=\"1006.71\" r=\"14.4\" fill=\"#00a9ad\" fill-rule=\"evenodd\" fill-opacity=\"1\" stroke=\"#000000\" stroke-opacity=\"1\" stroke-width=\"3.2\"/>\n",
       "<circle clip-path=\"url(#clip632)\" cx=\"1231.82\" cy=\"646.912\" r=\"14.4\" fill=\"#00a9ad\" fill-rule=\"evenodd\" fill-opacity=\"1\" stroke=\"#000000\" stroke-opacity=\"1\" stroke-width=\"3.2\"/>\n",
       "<circle clip-path=\"url(#clip632)\" cx=\"1512.05\" cy=\"886.78\" r=\"14.4\" fill=\"#00a9ad\" fill-rule=\"evenodd\" fill-opacity=\"1\" stroke=\"#000000\" stroke-opacity=\"1\" stroke-width=\"3.2\"/>\n",
       "<circle clip-path=\"url(#clip632)\" cx=\"1325.23\" cy=\"796.829\" r=\"14.4\" fill=\"#00a9ad\" fill-rule=\"evenodd\" fill-opacity=\"1\" stroke=\"#000000\" stroke-opacity=\"1\" stroke-width=\"3.2\"/>\n",
       "<circle clip-path=\"url(#clip632)\" cx=\"1395.29\" cy=\"856.796\" r=\"14.4\" fill=\"#00a9ad\" fill-rule=\"evenodd\" fill-opacity=\"1\" stroke=\"#000000\" stroke-opacity=\"1\" stroke-width=\"3.2\"/>\n",
       "<circle clip-path=\"url(#clip632)\" cx=\"1348.58\" cy=\"834.309\" r=\"14.4\" fill=\"#00a9ad\" fill-rule=\"evenodd\" fill-opacity=\"1\" stroke=\"#000000\" stroke-opacity=\"1\" stroke-width=\"3.2\"/>\n",
       "<circle clip-path=\"url(#clip632)\" cx=\"1366.1\" cy=\"849.3\" r=\"14.4\" fill=\"#00a9ad\" fill-rule=\"evenodd\" fill-opacity=\"1\" stroke=\"#000000\" stroke-opacity=\"1\" stroke-width=\"3.2\"/>\n",
       "<circle clip-path=\"url(#clip632)\" cx=\"1354.42\" cy=\"843.678\" r=\"14.4\" fill=\"#00a9ad\" fill-rule=\"evenodd\" fill-opacity=\"1\" stroke=\"#000000\" stroke-opacity=\"1\" stroke-width=\"3.2\"/>\n",
       "<circle clip-path=\"url(#clip632)\" cx=\"1358.8\" cy=\"847.426\" r=\"14.4\" fill=\"#00a9ad\" fill-rule=\"evenodd\" fill-opacity=\"1\" stroke=\"#000000\" stroke-opacity=\"1\" stroke-width=\"3.2\"/>\n",
       "<circle clip-path=\"url(#clip632)\" cx=\"1355.88\" cy=\"846.021\" r=\"14.4\" fill=\"#00a9ad\" fill-rule=\"evenodd\" fill-opacity=\"1\" stroke=\"#000000\" stroke-opacity=\"1\" stroke-width=\"3.2\"/>\n",
       "<polyline clip-path=\"url(#clip632)\" style=\"stroke:#ed5d92; stroke-linecap:round; stroke-linejoin:round; stroke-width:4; stroke-opacity:1; fill:none\" points=\"858.173,526.979 1605.46,1006.71 1231.82,766.846 1418.64,886.78 1325.23,826.813 1371.94,856.796 1348.58,841.805 1360.26,849.3 1354.42,845.552 1357.34,847.426 1355.88,846.489 \"/>\n",
       "<polyline clip-path=\"url(#clip632)\" style=\"stroke:#ed5d92; stroke-linecap:round; stroke-linejoin:round; stroke-width:4; stroke-opacity:1; fill:none\" points=\"1376.45,881.085 1355.88,846.489 1395.9,850.79 \"/>\n",
       "<polyline clip-path=\"url(#clip632)\" style=\"stroke:#ed5d92; stroke-linecap:round; stroke-linejoin:round; stroke-width:4; stroke-opacity:1; fill:none\" points=\"1355.88,846.489 1357.34,847.426 \"/>\n",
       "<circle clip-path=\"url(#clip632)\" cx=\"858.173\" cy=\"526.979\" r=\"14.4\" fill=\"#ed5d92\" fill-rule=\"evenodd\" fill-opacity=\"1\" stroke=\"#000000\" stroke-opacity=\"1\" stroke-width=\"3.2\"/>\n",
       "<circle clip-path=\"url(#clip632)\" cx=\"1605.46\" cy=\"1006.71\" r=\"14.4\" fill=\"#ed5d92\" fill-rule=\"evenodd\" fill-opacity=\"1\" stroke=\"#000000\" stroke-opacity=\"1\" stroke-width=\"3.2\"/>\n",
       "<circle clip-path=\"url(#clip632)\" cx=\"1231.82\" cy=\"766.846\" r=\"14.4\" fill=\"#ed5d92\" fill-rule=\"evenodd\" fill-opacity=\"1\" stroke=\"#000000\" stroke-opacity=\"1\" stroke-width=\"3.2\"/>\n",
       "<circle clip-path=\"url(#clip632)\" cx=\"1418.64\" cy=\"886.78\" r=\"14.4\" fill=\"#ed5d92\" fill-rule=\"evenodd\" fill-opacity=\"1\" stroke=\"#000000\" stroke-opacity=\"1\" stroke-width=\"3.2\"/>\n",
       "<circle clip-path=\"url(#clip632)\" cx=\"1325.23\" cy=\"826.813\" r=\"14.4\" fill=\"#ed5d92\" fill-rule=\"evenodd\" fill-opacity=\"1\" stroke=\"#000000\" stroke-opacity=\"1\" stroke-width=\"3.2\"/>\n",
       "<circle clip-path=\"url(#clip632)\" cx=\"1371.94\" cy=\"856.796\" r=\"14.4\" fill=\"#ed5d92\" fill-rule=\"evenodd\" fill-opacity=\"1\" stroke=\"#000000\" stroke-opacity=\"1\" stroke-width=\"3.2\"/>\n",
       "<circle clip-path=\"url(#clip632)\" cx=\"1348.58\" cy=\"841.805\" r=\"14.4\" fill=\"#ed5d92\" fill-rule=\"evenodd\" fill-opacity=\"1\" stroke=\"#000000\" stroke-opacity=\"1\" stroke-width=\"3.2\"/>\n",
       "<circle clip-path=\"url(#clip632)\" cx=\"1360.26\" cy=\"849.3\" r=\"14.4\" fill=\"#ed5d92\" fill-rule=\"evenodd\" fill-opacity=\"1\" stroke=\"#000000\" stroke-opacity=\"1\" stroke-width=\"3.2\"/>\n",
       "<circle clip-path=\"url(#clip632)\" cx=\"1354.42\" cy=\"845.552\" r=\"14.4\" fill=\"#ed5d92\" fill-rule=\"evenodd\" fill-opacity=\"1\" stroke=\"#000000\" stroke-opacity=\"1\" stroke-width=\"3.2\"/>\n",
       "<circle clip-path=\"url(#clip632)\" cx=\"1357.34\" cy=\"847.426\" r=\"14.4\" fill=\"#ed5d92\" fill-rule=\"evenodd\" fill-opacity=\"1\" stroke=\"#000000\" stroke-opacity=\"1\" stroke-width=\"3.2\"/>\n",
       "<circle clip-path=\"url(#clip632)\" cx=\"1355.88\" cy=\"846.489\" r=\"14.4\" fill=\"#ed5d92\" fill-rule=\"evenodd\" fill-opacity=\"1\" stroke=\"#000000\" stroke-opacity=\"1\" stroke-width=\"3.2\"/>\n",
       "<path clip-path=\"url(#clip630)\" d=\"M185.61 509.938 L529.102 509.938 L529.102 95.2176 L185.61 95.2176  Z\" fill=\"#ffffff\" fill-rule=\"evenodd\" fill-opacity=\"1\"/>\n",
       "<polyline clip-path=\"url(#clip630)\" style=\"stroke:#000000; stroke-linecap:round; stroke-linejoin:round; stroke-width:4; stroke-opacity:1; fill:none\" points=\"185.61,509.938 529.102,509.938 529.102,95.2176 185.61,95.2176 185.61,509.938 \"/>\n",
       "<polyline clip-path=\"url(#clip630)\" style=\"stroke:#009af9; stroke-linecap:round; stroke-linejoin:round; stroke-width:4; stroke-opacity:1; fill:none\" points=\"210.52,147.058 359.978,147.058 \"/>\n",
       "<circle clip-path=\"url(#clip630)\" cx=\"285.249\" cy=\"147.058\" r=\"20.7581\" fill=\"#009af9\" fill-rule=\"evenodd\" fill-opacity=\"1\" stroke=\"#000000\" stroke-opacity=\"1\" stroke-width=\"5.12\"/>\n",
       "<path clip-path=\"url(#clip630)\" d=\"M384.888 128.319 L394.703 128.319 L394.703 131.629 L389.147 131.629 L389.147 167.277 L394.703 167.277 L394.703 170.588 L384.888 170.588 L384.888 128.319 Z\" fill=\"#000000\" fill-rule=\"evenodd\" fill-opacity=\"1\" /><path clip-path=\"url(#clip630)\" d=\"M418.545 145.703 Q421.902 146.421 423.777 148.689 Q425.675 150.958 425.675 154.291 Q425.675 159.407 422.156 162.208 Q418.638 165.009 412.156 165.009 Q409.98 165.009 407.665 164.569 Q405.374 164.152 402.92 163.296 L402.92 158.782 Q404.865 159.916 407.179 160.495 Q409.494 161.074 412.017 161.074 Q416.415 161.074 418.707 159.338 Q421.022 157.601 421.022 154.291 Q421.022 151.236 418.869 149.523 Q416.74 147.787 412.92 147.787 L408.892 147.787 L408.892 143.944 L413.105 143.944 Q416.554 143.944 418.383 142.578 Q420.212 141.19 420.212 138.597 Q420.212 135.935 418.314 134.523 Q416.439 133.088 412.92 133.088 Q410.999 133.088 408.8 133.504 Q406.601 133.921 403.962 134.801 L403.962 130.634 Q406.624 129.893 408.939 129.523 Q411.277 129.153 413.337 129.153 Q418.661 129.153 421.763 131.583 Q424.864 133.99 424.864 138.111 Q424.864 140.981 423.221 142.972 Q421.577 144.94 418.545 145.703 Z\" fill=\"#000000\" fill-rule=\"evenodd\" fill-opacity=\"1\" /><path clip-path=\"url(#clip630)\" d=\"M435.026 158.458 L439.911 158.458 L439.911 162.439 L436.114 169.847 L433.128 169.847 L435.026 162.439 L435.026 158.458 Z\" fill=\"#000000\" fill-rule=\"evenodd\" fill-opacity=\"1\" /><path clip-path=\"url(#clip630)\" d=\"M465.489 160.402 L473.128 160.402 L473.128 134.037 L464.818 135.703 L464.818 131.444 L473.082 129.778 L477.758 129.778 L477.758 160.402 L485.397 160.402 L485.397 164.338 L465.489 164.338 L465.489 160.402 Z\" fill=\"#000000\" fill-rule=\"evenodd\" fill-opacity=\"1\" /><path clip-path=\"url(#clip630)\" d=\"M504.193 128.319 L504.193 170.588 L494.378 170.588 L494.378 167.277 L499.91 167.277 L499.91 131.629 L494.378 131.629 L494.378 128.319 L504.193 128.319 Z\" fill=\"#000000\" fill-rule=\"evenodd\" fill-opacity=\"1\" /><polyline clip-path=\"url(#clip630)\" style=\"stroke:#e26f46; stroke-linecap:round; stroke-linejoin:round; stroke-width:4; stroke-opacity:1; fill:none\" points=\"210.52,198.898 359.978,198.898 \"/>\n",
       "<circle clip-path=\"url(#clip630)\" cx=\"285.249\" cy=\"198.898\" r=\"20.7581\" fill=\"#e26f46\" fill-rule=\"evenodd\" fill-opacity=\"1\" stroke=\"#000000\" stroke-opacity=\"1\" stroke-width=\"5.12\"/>\n",
       "<path clip-path=\"url(#clip630)\" d=\"M384.888 180.159 L394.703 180.159 L394.703 183.469 L389.147 183.469 L389.147 219.117 L394.703 219.117 L394.703 222.428 L384.888 222.428 L384.888 180.159 Z\" fill=\"#000000\" fill-rule=\"evenodd\" fill-opacity=\"1\" /><path clip-path=\"url(#clip630)\" d=\"M418.545 197.543 Q421.902 198.261 423.777 200.529 Q425.675 202.798 425.675 206.131 Q425.675 211.247 422.156 214.048 Q418.638 216.849 412.156 216.849 Q409.98 216.849 407.665 216.409 Q405.374 215.992 402.92 215.136 L402.92 210.622 Q404.865 211.756 407.179 212.335 Q409.494 212.914 412.017 212.914 Q416.415 212.914 418.707 211.178 Q421.022 209.441 421.022 206.131 Q421.022 203.076 418.869 201.363 Q416.74 199.627 412.92 199.627 L408.892 199.627 L408.892 195.784 L413.105 195.784 Q416.554 195.784 418.383 194.418 Q420.212 193.03 420.212 190.437 Q420.212 187.775 418.314 186.363 Q416.439 184.928 412.92 184.928 Q410.999 184.928 408.8 185.344 Q406.601 185.761 403.962 186.641 L403.962 182.474 Q406.624 181.733 408.939 181.363 Q411.277 180.993 413.337 180.993 Q418.661 180.993 421.763 183.423 Q424.864 185.83 424.864 189.951 Q424.864 192.821 423.221 194.812 Q421.577 196.78 418.545 197.543 Z\" fill=\"#000000\" fill-rule=\"evenodd\" fill-opacity=\"1\" /><path clip-path=\"url(#clip630)\" d=\"M435.026 210.298 L439.911 210.298 L439.911 214.279 L436.114 221.687 L433.128 221.687 L435.026 214.279 L435.026 210.298 Z\" fill=\"#000000\" fill-rule=\"evenodd\" fill-opacity=\"1\" /><path clip-path=\"url(#clip630)\" d=\"M478.846 197.543 Q482.202 198.261 484.077 200.529 Q485.975 202.798 485.975 206.131 Q485.975 211.247 482.457 214.048 Q478.938 216.849 472.457 216.849 Q470.281 216.849 467.966 216.409 Q465.674 215.992 463.221 215.136 L463.221 210.622 Q465.165 211.756 467.48 212.335 Q469.795 212.914 472.318 212.914 Q476.716 212.914 479.008 211.178 Q481.323 209.441 481.323 206.131 Q481.323 203.076 479.17 201.363 Q477.04 199.627 473.221 199.627 L469.193 199.627 L469.193 195.784 L473.406 195.784 Q476.855 195.784 478.684 194.418 Q480.512 193.03 480.512 190.437 Q480.512 187.775 478.614 186.363 Q476.739 184.928 473.221 184.928 Q471.299 184.928 469.1 185.344 Q466.901 185.761 464.262 186.641 L464.262 182.474 Q466.924 181.733 469.239 181.363 Q471.577 180.993 473.637 180.993 Q478.961 180.993 482.063 183.423 Q485.165 185.83 485.165 189.951 Q485.165 192.821 483.522 194.812 Q481.878 196.78 478.846 197.543 Z\" fill=\"#000000\" fill-rule=\"evenodd\" fill-opacity=\"1\" /><path clip-path=\"url(#clip630)\" d=\"M504.193 180.159 L504.193 222.428 L494.378 222.428 L494.378 219.117 L499.91 219.117 L499.91 183.469 L494.378 183.469 L494.378 180.159 L504.193 180.159 Z\" fill=\"#000000\" fill-rule=\"evenodd\" fill-opacity=\"1\" /><polyline clip-path=\"url(#clip630)\" style=\"stroke:#3da44d; stroke-linecap:round; stroke-linejoin:round; stroke-width:4; stroke-opacity:1; fill:none\" points=\"210.52,250.738 359.978,250.738 \"/>\n",
       "<circle clip-path=\"url(#clip630)\" cx=\"285.249\" cy=\"250.738\" r=\"20.7581\" fill=\"#3da44d\" fill-rule=\"evenodd\" fill-opacity=\"1\" stroke=\"#000000\" stroke-opacity=\"1\" stroke-width=\"5.12\"/>\n",
       "<path clip-path=\"url(#clip630)\" d=\"M384.888 231.999 L394.703 231.999 L394.703 235.309 L389.147 235.309 L389.147 270.957 L394.703 270.957 L394.703 274.268 L384.888 274.268 L384.888 231.999 Z\" fill=\"#000000\" fill-rule=\"evenodd\" fill-opacity=\"1\" /><path clip-path=\"url(#clip630)\" d=\"M405.189 264.082 L412.827 264.082 L412.827 237.717 L404.517 239.383 L404.517 235.124 L412.781 233.458 L417.457 233.458 L417.457 264.082 L425.096 264.082 L425.096 268.018 L405.189 268.018 L405.189 264.082 Z\" fill=\"#000000\" fill-rule=\"evenodd\" fill-opacity=\"1\" /><path clip-path=\"url(#clip630)\" d=\"M435.026 262.138 L439.911 262.138 L439.911 266.119 L436.114 273.527 L433.128 273.527 L435.026 266.119 L435.026 262.138 Z\" fill=\"#000000\" fill-rule=\"evenodd\" fill-opacity=\"1\" /><path clip-path=\"url(#clip630)\" d=\"M465.489 264.082 L473.128 264.082 L473.128 237.717 L464.818 239.383 L464.818 235.124 L473.082 233.458 L477.758 233.458 L477.758 264.082 L485.397 264.082 L485.397 268.018 L465.489 268.018 L465.489 264.082 Z\" fill=\"#000000\" fill-rule=\"evenodd\" fill-opacity=\"1\" /><path clip-path=\"url(#clip630)\" d=\"M504.193 231.999 L504.193 274.268 L494.378 274.268 L494.378 270.957 L499.91 270.957 L499.91 235.309 L494.378 235.309 L494.378 231.999 L504.193 231.999 Z\" fill=\"#000000\" fill-rule=\"evenodd\" fill-opacity=\"1\" /><polyline clip-path=\"url(#clip630)\" style=\"stroke:#c271d2; stroke-linecap:round; stroke-linejoin:round; stroke-width:4; stroke-opacity:1; fill:none\" points=\"210.52,302.578 359.978,302.578 \"/>\n",
       "<circle clip-path=\"url(#clip630)\" cx=\"285.249\" cy=\"302.578\" r=\"20.7581\" fill=\"#c271d2\" fill-rule=\"evenodd\" fill-opacity=\"1\" stroke=\"#000000\" stroke-opacity=\"1\" stroke-width=\"5.12\"/>\n",
       "<path clip-path=\"url(#clip630)\" d=\"M384.888 283.839 L394.703 283.839 L394.703 287.149 L389.147 287.149 L389.147 322.797 L394.703 322.797 L394.703 326.108 L384.888 326.108 L384.888 283.839 Z\" fill=\"#000000\" fill-rule=\"evenodd\" fill-opacity=\"1\" /><path clip-path=\"url(#clip630)\" d=\"M405.189 315.922 L412.827 315.922 L412.827 289.557 L404.517 291.223 L404.517 286.964 L412.781 285.298 L417.457 285.298 L417.457 315.922 L425.096 315.922 L425.096 319.858 L405.189 319.858 L405.189 315.922 Z\" fill=\"#000000\" fill-rule=\"evenodd\" fill-opacity=\"1\" /><path clip-path=\"url(#clip630)\" d=\"M435.026 313.978 L439.911 313.978 L439.911 317.959 L436.114 325.367 L433.128 325.367 L435.026 317.959 L435.026 313.978 Z\" fill=\"#000000\" fill-rule=\"evenodd\" fill-opacity=\"1\" /><path clip-path=\"url(#clip630)\" d=\"M465.489 315.922 L473.128 315.922 L473.128 289.557 L464.818 291.223 L464.818 286.964 L473.082 285.298 L477.758 285.298 L477.758 315.922 L485.397 315.922 L485.397 319.858 L465.489 319.858 L465.489 315.922 Z\" fill=\"#000000\" fill-rule=\"evenodd\" fill-opacity=\"1\" /><path clip-path=\"url(#clip630)\" d=\"M504.193 283.839 L504.193 326.108 L494.378 326.108 L494.378 322.797 L499.91 322.797 L499.91 287.149 L494.378 287.149 L494.378 283.839 L504.193 283.839 Z\" fill=\"#000000\" fill-rule=\"evenodd\" fill-opacity=\"1\" /><polyline clip-path=\"url(#clip630)\" style=\"stroke:#ac8d18; stroke-linecap:round; stroke-linejoin:round; stroke-width:4; stroke-opacity:1; fill:none\" points=\"210.52,354.418 359.978,354.418 \"/>\n",
       "<circle clip-path=\"url(#clip630)\" cx=\"285.249\" cy=\"354.418\" r=\"20.7581\" fill=\"#ac8d18\" fill-rule=\"evenodd\" fill-opacity=\"1\" stroke=\"#000000\" stroke-opacity=\"1\" stroke-width=\"5.12\"/>\n",
       "<path clip-path=\"url(#clip630)\" d=\"M384.888 335.679 L394.703 335.679 L394.703 338.989 L389.147 338.989 L389.147 374.637 L394.703 374.637 L394.703 377.948 L384.888 377.948 L384.888 335.679 Z\" fill=\"#000000\" fill-rule=\"evenodd\" fill-opacity=\"1\" /><path clip-path=\"url(#clip630)\" d=\"M405.189 367.762 L412.827 367.762 L412.827 341.397 L404.517 343.063 L404.517 338.804 L412.781 337.138 L417.457 337.138 L417.457 367.762 L425.096 367.762 L425.096 371.698 L405.189 371.698 L405.189 367.762 Z\" fill=\"#000000\" fill-rule=\"evenodd\" fill-opacity=\"1\" /><path clip-path=\"url(#clip630)\" d=\"M435.026 365.818 L439.911 365.818 L439.911 369.799 L436.114 377.207 L433.128 377.207 L435.026 369.799 L435.026 365.818 Z\" fill=\"#000000\" fill-rule=\"evenodd\" fill-opacity=\"1\" /><path clip-path=\"url(#clip630)\" d=\"M478.846 353.063 Q482.202 353.781 484.077 356.049 Q485.975 358.318 485.975 361.651 Q485.975 366.767 482.457 369.568 Q478.938 372.369 472.457 372.369 Q470.281 372.369 467.966 371.929 Q465.674 371.512 463.221 370.656 L463.221 366.142 Q465.165 367.276 467.48 367.855 Q469.795 368.434 472.318 368.434 Q476.716 368.434 479.008 366.698 Q481.323 364.961 481.323 361.651 Q481.323 358.596 479.17 356.883 Q477.04 355.147 473.221 355.147 L469.193 355.147 L469.193 351.304 L473.406 351.304 Q476.855 351.304 478.684 349.938 Q480.512 348.55 480.512 345.957 Q480.512 343.295 478.614 341.883 Q476.739 340.448 473.221 340.448 Q471.299 340.448 469.1 340.864 Q466.901 341.281 464.262 342.161 L464.262 337.994 Q466.924 337.253 469.239 336.883 Q471.577 336.513 473.637 336.513 Q478.961 336.513 482.063 338.943 Q485.165 341.35 485.165 345.471 Q485.165 348.341 483.522 350.332 Q481.878 352.3 478.846 353.063 Z\" fill=\"#000000\" fill-rule=\"evenodd\" fill-opacity=\"1\" /><path clip-path=\"url(#clip630)\" d=\"M504.193 335.679 L504.193 377.948 L494.378 377.948 L494.378 374.637 L499.91 374.637 L499.91 338.989 L494.378 338.989 L494.378 335.679 L504.193 335.679 Z\" fill=\"#000000\" fill-rule=\"evenodd\" fill-opacity=\"1\" /><polyline clip-path=\"url(#clip630)\" style=\"stroke:#00a9ad; stroke-linecap:round; stroke-linejoin:round; stroke-width:4; stroke-opacity:1; fill:none\" points=\"210.52,406.258 359.978,406.258 \"/>\n",
       "<circle clip-path=\"url(#clip630)\" cx=\"285.249\" cy=\"406.258\" r=\"20.7581\" fill=\"#00a9ad\" fill-rule=\"evenodd\" fill-opacity=\"1\" stroke=\"#000000\" stroke-opacity=\"1\" stroke-width=\"5.12\"/>\n",
       "<path clip-path=\"url(#clip630)\" d=\"M384.888 387.519 L394.703 387.519 L394.703 390.829 L389.147 390.829 L389.147 426.477 L394.703 426.477 L394.703 429.788 L384.888 429.788 L384.888 387.519 Z\" fill=\"#000000\" fill-rule=\"evenodd\" fill-opacity=\"1\" /><path clip-path=\"url(#clip630)\" d=\"M405.189 419.602 L412.827 419.602 L412.827 393.237 L404.517 394.903 L404.517 390.644 L412.781 388.978 L417.457 388.978 L417.457 419.602 L425.096 419.602 L425.096 423.538 L405.189 423.538 L405.189 419.602 Z\" fill=\"#000000\" fill-rule=\"evenodd\" fill-opacity=\"1\" /><path clip-path=\"url(#clip630)\" d=\"M435.026 417.658 L439.911 417.658 L439.911 421.639 L436.114 429.047 L433.128 429.047 L435.026 421.639 L435.026 417.658 Z\" fill=\"#000000\" fill-rule=\"evenodd\" fill-opacity=\"1\" /><path clip-path=\"url(#clip630)\" d=\"M478.846 404.903 Q482.202 405.621 484.077 407.889 Q485.975 410.158 485.975 413.491 Q485.975 418.607 482.457 421.408 Q478.938 424.209 472.457 424.209 Q470.281 424.209 467.966 423.769 Q465.674 423.352 463.221 422.496 L463.221 417.982 Q465.165 419.116 467.48 419.695 Q469.795 420.274 472.318 420.274 Q476.716 420.274 479.008 418.538 Q481.323 416.801 481.323 413.491 Q481.323 410.436 479.17 408.723 Q477.04 406.987 473.221 406.987 L469.193 406.987 L469.193 403.144 L473.406 403.144 Q476.855 403.144 478.684 401.778 Q480.512 400.39 480.512 397.797 Q480.512 395.135 478.614 393.723 Q476.739 392.288 473.221 392.288 Q471.299 392.288 469.1 392.704 Q466.901 393.121 464.262 394.001 L464.262 389.834 Q466.924 389.093 469.239 388.723 Q471.577 388.353 473.637 388.353 Q478.961 388.353 482.063 390.783 Q485.165 393.19 485.165 397.311 Q485.165 400.181 483.522 402.172 Q481.878 404.14 478.846 404.903 Z\" fill=\"#000000\" fill-rule=\"evenodd\" fill-opacity=\"1\" /><path clip-path=\"url(#clip630)\" d=\"M504.193 387.519 L504.193 429.788 L494.378 429.788 L494.378 426.477 L499.91 426.477 L499.91 390.829 L494.378 390.829 L494.378 387.519 L504.193 387.519 Z\" fill=\"#000000\" fill-rule=\"evenodd\" fill-opacity=\"1\" /><polyline clip-path=\"url(#clip630)\" style=\"stroke:#ed5d92; stroke-linecap:round; stroke-linejoin:round; stroke-width:4; stroke-opacity:1; fill:none\" points=\"210.52,458.098 359.978,458.098 \"/>\n",
       "<circle clip-path=\"url(#clip630)\" cx=\"285.249\" cy=\"458.098\" r=\"20.7581\" fill=\"#ed5d92\" fill-rule=\"evenodd\" fill-opacity=\"1\" stroke=\"#000000\" stroke-opacity=\"1\" stroke-width=\"5.12\"/>\n",
       "<path clip-path=\"url(#clip630)\" d=\"M384.888 439.359 L394.703 439.359 L394.703 442.669 L389.147 442.669 L389.147 478.317 L394.703 478.317 L394.703 481.628 L384.888 481.628 L384.888 439.359 Z\" fill=\"#000000\" fill-rule=\"evenodd\" fill-opacity=\"1\" /><path clip-path=\"url(#clip630)\" d=\"M405.189 471.442 L412.827 471.442 L412.827 445.077 L404.517 446.743 L404.517 442.484 L412.781 440.818 L417.457 440.818 L417.457 471.442 L425.096 471.442 L425.096 475.378 L405.189 475.378 L405.189 471.442 Z\" fill=\"#000000\" fill-rule=\"evenodd\" fill-opacity=\"1\" /><path clip-path=\"url(#clip630)\" d=\"M435.026 469.498 L439.911 469.498 L439.911 473.479 L436.114 480.887 L433.128 480.887 L435.026 473.479 L435.026 469.498 Z\" fill=\"#000000\" fill-rule=\"evenodd\" fill-opacity=\"1\" /><path clip-path=\"url(#clip630)\" d=\"M468.707 471.442 L485.026 471.442 L485.026 475.378 L463.082 475.378 L463.082 471.442 Q465.744 468.688 470.327 464.058 Q474.934 459.405 476.114 458.063 Q478.36 455.54 479.239 453.804 Q480.142 452.044 480.142 450.355 Q480.142 447.6 478.198 445.864 Q476.276 444.128 473.174 444.128 Q470.975 444.128 468.522 444.892 Q466.091 445.655 463.313 447.206 L463.313 442.484 Q466.137 441.35 468.591 440.771 Q471.045 440.193 473.082 440.193 Q478.452 440.193 481.647 442.878 Q484.841 445.563 484.841 450.054 Q484.841 452.183 484.031 454.105 Q483.244 456.003 481.137 458.595 Q480.559 459.267 477.457 462.484 Q474.355 465.679 468.707 471.442 Z\" fill=\"#000000\" fill-rule=\"evenodd\" fill-opacity=\"1\" /><path clip-path=\"url(#clip630)\" d=\"M504.193 439.359 L504.193 481.628 L494.378 481.628 L494.378 478.317 L499.91 478.317 L499.91 442.669 L494.378 442.669 L494.378 439.359 L504.193 439.359 Z\" fill=\"#000000\" fill-rule=\"evenodd\" fill-opacity=\"1\" /></svg>\n"
      ]
     },
     "execution_count": 26,
     "metadata": {},
     "output_type": "execute_result"
    }
   ],
   "source": [
    "start = [1,2]\n",
    "history = Vector{Float64}[start]\n",
    "for k in 1:10\n",
    "    push!(history, f(history[end]))\n",
    "end\n",
    "plot!([x[1] for x in history], [x[2] for x in history],\n",
    "      arrow=true,\n",
    "      markershape=:circle,\n",
    "      label=string(start))"
   ]
  },
  {
   "cell_type": "markdown",
   "id": "5e6e7421",
   "metadata": {},
   "source": [
    ".\n",
    "\n",
    ".\n",
    "\n",
    ".\n",
    "\n",
    ".\n",
    "\n",
    ".\n",
    "\n",
    ".\n",
    "\n",
    ".\n",
    "\n",
    ".\n",
    "\n",
    ".\n",
    "\n",
    ".\n",
    "\n",
    ".\n",
    "\n",
    ".\n",
    "\n",
    "Spaces are here to keep the view from resetting when the plot regenerates"
   ]
  },
  {
   "cell_type": "code",
   "execution_count": null,
   "id": "6d5b5dc9",
   "metadata": {},
   "outputs": [],
   "source": []
  }
 ],
 "metadata": {
  "@webio": {
   "lastCommId": null,
   "lastKernelId": null
  },
  "kernelspec": {
   "display_name": "Julia 1.8.0",
   "language": "julia",
   "name": "julia-1.8"
  },
  "language_info": {
   "file_extension": ".jl",
   "mimetype": "application/julia",
   "name": "julia",
   "version": "1.8.0"
  }
 },
 "nbformat": 4,
 "nbformat_minor": 5
}
