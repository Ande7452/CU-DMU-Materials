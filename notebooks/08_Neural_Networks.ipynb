{
 "cells": [
  {
   "cell_type": "code",
   "execution_count": 1,
   "metadata": {},
   "outputs": [],
   "source": [
    "using Plots\n",
    "using Flux\n",
    "using StaticArrays"
   ]
  },
  {
   "cell_type": "code",
   "execution_count": 33,
   "metadata": {},
   "outputs": [],
   "source": [
    "n = 100\n",
    "dx = rand(n)\n",
    "dy = sin.(4*pi*dx) + 0.01*randn(n);"
   ]
  },
  {
   "cell_type": "code",
   "execution_count": 34,
   "metadata": {},
   "outputs": [
    {
     "data": {
      "image/svg+xml": [
       "<?xml version=\"1.0\" encoding=\"utf-8\"?>\n",
       "<svg xmlns=\"http://www.w3.org/2000/svg\" xmlns:xlink=\"http://www.w3.org/1999/xlink\" width=\"600\" height=\"400\" viewBox=\"0 0 2400 1600\">\n",
       "<defs>\n",
       "  <clipPath id=\"clip270\">\n",
       "    <rect x=\"0\" y=\"0\" width=\"2400\" height=\"1600\"/>\n",
       "  </clipPath>\n",
       "</defs>\n",
       "<path clip-path=\"url(#clip270)\" d=\"\n",
       "M0 1600 L2400 1600 L2400 0 L0 0  Z\n",
       "  \" fill=\"#ffffff\" fill-rule=\"evenodd\" fill-opacity=\"1\"/>\n",
       "<defs>\n",
       "  <clipPath id=\"clip271\">\n",
       "    <rect x=\"480\" y=\"0\" width=\"1681\" height=\"1600\"/>\n",
       "  </clipPath>\n",
       "</defs>\n",
       "<path clip-path=\"url(#clip270)\" d=\"\n",
       "M179.654 1486.45 L2352.76 1486.45 L2352.76 47.2441 L179.654 47.2441  Z\n",
       "  \" fill=\"#ffffff\" fill-rule=\"evenodd\" fill-opacity=\"1\"/>\n",
       "<defs>\n",
       "  <clipPath id=\"clip272\">\n",
       "    <rect x=\"179\" y=\"47\" width=\"2174\" height=\"1440\"/>\n",
       "  </clipPath>\n",
       "</defs>\n",
       "<polyline clip-path=\"url(#clip272)\" style=\"stroke:#000000; stroke-width:2; stroke-opacity:0.1; fill:none\" points=\"\n",
       "  229.512,1486.45 229.512,47.2441 \n",
       "  \"/>\n",
       "<polyline clip-path=\"url(#clip272)\" style=\"stroke:#000000; stroke-width:2; stroke-opacity:0.1; fill:none\" points=\"\n",
       "  746.531,1486.45 746.531,47.2441 \n",
       "  \"/>\n",
       "<polyline clip-path=\"url(#clip272)\" style=\"stroke:#000000; stroke-width:2; stroke-opacity:0.1; fill:none\" points=\"\n",
       "  1263.55,1486.45 1263.55,47.2441 \n",
       "  \"/>\n",
       "<polyline clip-path=\"url(#clip272)\" style=\"stroke:#000000; stroke-width:2; stroke-opacity:0.1; fill:none\" points=\"\n",
       "  1780.57,1486.45 1780.57,47.2441 \n",
       "  \"/>\n",
       "<polyline clip-path=\"url(#clip272)\" style=\"stroke:#000000; stroke-width:2; stroke-opacity:0.1; fill:none\" points=\"\n",
       "  2297.59,1486.45 2297.59,47.2441 \n",
       "  \"/>\n",
       "<polyline clip-path=\"url(#clip270)\" style=\"stroke:#000000; stroke-width:4; stroke-opacity:1; fill:none\" points=\"\n",
       "  179.654,1486.45 2352.76,1486.45 \n",
       "  \"/>\n",
       "<polyline clip-path=\"url(#clip270)\" style=\"stroke:#000000; stroke-width:4; stroke-opacity:1; fill:none\" points=\"\n",
       "  229.512,1486.45 229.512,1469.18 \n",
       "  \"/>\n",
       "<polyline clip-path=\"url(#clip270)\" style=\"stroke:#000000; stroke-width:4; stroke-opacity:1; fill:none\" points=\"\n",
       "  746.531,1486.45 746.531,1469.18 \n",
       "  \"/>\n",
       "<polyline clip-path=\"url(#clip270)\" style=\"stroke:#000000; stroke-width:4; stroke-opacity:1; fill:none\" points=\"\n",
       "  1263.55,1486.45 1263.55,1469.18 \n",
       "  \"/>\n",
       "<polyline clip-path=\"url(#clip270)\" style=\"stroke:#000000; stroke-width:4; stroke-opacity:1; fill:none\" points=\"\n",
       "  1780.57,1486.45 1780.57,1469.18 \n",
       "  \"/>\n",
       "<polyline clip-path=\"url(#clip270)\" style=\"stroke:#000000; stroke-width:4; stroke-opacity:1; fill:none\" points=\"\n",
       "  2297.59,1486.45 2297.59,1469.18 \n",
       "  \"/>\n",
       "<path clip-path=\"url(#clip270)\" d=\"M 0 0 M197.521 1515.64 Q193.91 1515.64 192.082 1519.2 Q190.276 1522.75 190.276 1529.87 Q190.276 1536.98 192.082 1540.55 Q193.91 1544.09 197.521 1544.09 Q201.156 1544.09 202.961 1540.55 Q204.79 1536.98 204.79 1529.87 Q204.79 1522.75 202.961 1519.2 Q201.156 1515.64 197.521 1515.64 M197.521 1511.93 Q203.331 1511.93 206.387 1516.54 Q209.466 1521.12 209.466 1529.87 Q209.466 1538.6 206.387 1543.21 Q203.331 1547.79 197.521 1547.79 Q191.711 1547.79 188.632 1543.21 Q185.577 1538.6 185.577 1529.87 Q185.577 1521.12 188.632 1516.54 Q191.711 1511.93 197.521 1511.93 Z\" fill=\"#000000\" fill-rule=\"evenodd\" fill-opacity=\"1\" /><path clip-path=\"url(#clip270)\" d=\"M 0 0 M214.535 1541.24 L219.419 1541.24 L219.419 1547.12 L214.535 1547.12 L214.535 1541.24 Z\" fill=\"#000000\" fill-rule=\"evenodd\" fill-opacity=\"1\" /><path clip-path=\"url(#clip270)\" d=\"M 0 0 M234.489 1515.64 Q230.878 1515.64 229.049 1519.2 Q227.243 1522.75 227.243 1529.87 Q227.243 1536.98 229.049 1540.55 Q230.878 1544.09 234.489 1544.09 Q238.123 1544.09 239.929 1540.55 Q241.757 1536.98 241.757 1529.87 Q241.757 1522.75 239.929 1519.2 Q238.123 1515.64 234.489 1515.64 M234.489 1511.93 Q240.299 1511.93 243.354 1516.54 Q246.433 1521.12 246.433 1529.87 Q246.433 1538.6 243.354 1543.21 Q240.299 1547.79 234.489 1547.79 Q228.679 1547.79 225.6 1543.21 Q222.544 1538.6 222.544 1529.87 Q222.544 1521.12 225.6 1516.54 Q228.679 1511.93 234.489 1511.93 Z\" fill=\"#000000\" fill-rule=\"evenodd\" fill-opacity=\"1\" /><path clip-path=\"url(#clip270)\" d=\"M 0 0 M261.502 1515.64 Q257.891 1515.64 256.063 1519.2 Q254.257 1522.75 254.257 1529.87 Q254.257 1536.98 256.063 1540.55 Q257.891 1544.09 261.502 1544.09 Q265.137 1544.09 266.942 1540.55 Q268.771 1536.98 268.771 1529.87 Q268.771 1522.75 266.942 1519.2 Q265.137 1515.64 261.502 1515.64 M261.502 1511.93 Q267.313 1511.93 270.368 1516.54 Q273.447 1521.12 273.447 1529.87 Q273.447 1538.6 270.368 1543.21 Q267.313 1547.79 261.502 1547.79 Q255.692 1547.79 252.614 1543.21 Q249.558 1538.6 249.558 1529.87 Q249.558 1521.12 252.614 1516.54 Q255.692 1511.93 261.502 1511.93 Z\" fill=\"#000000\" fill-rule=\"evenodd\" fill-opacity=\"1\" /><path clip-path=\"url(#clip270)\" d=\"M 0 0 M715.836 1515.64 Q712.225 1515.64 710.396 1519.2 Q708.591 1522.75 708.591 1529.87 Q708.591 1536.98 710.396 1540.55 Q712.225 1544.09 715.836 1544.09 Q719.47 1544.09 721.276 1540.55 Q723.105 1536.98 723.105 1529.87 Q723.105 1522.75 721.276 1519.2 Q719.47 1515.64 715.836 1515.64 M715.836 1511.93 Q721.646 1511.93 724.702 1516.54 Q727.781 1521.12 727.781 1529.87 Q727.781 1538.6 724.702 1543.21 Q721.646 1547.79 715.836 1547.79 Q710.026 1547.79 706.947 1543.21 Q703.892 1538.6 703.892 1529.87 Q703.892 1521.12 706.947 1516.54 Q710.026 1511.93 715.836 1511.93 Z\" fill=\"#000000\" fill-rule=\"evenodd\" fill-opacity=\"1\" /><path clip-path=\"url(#clip270)\" d=\"M 0 0 M732.85 1541.24 L737.734 1541.24 L737.734 1547.12 L732.85 1547.12 L732.85 1541.24 Z\" fill=\"#000000\" fill-rule=\"evenodd\" fill-opacity=\"1\" /><path clip-path=\"url(#clip270)\" d=\"M 0 0 M746.831 1543.18 L763.151 1543.18 L763.151 1547.12 L741.206 1547.12 L741.206 1543.18 Q743.868 1540.43 748.452 1535.8 Q753.058 1531.15 754.239 1529.81 Q756.484 1527.28 757.364 1525.55 Q758.267 1523.79 758.267 1522.1 Q758.267 1519.34 756.322 1517.61 Q754.401 1515.87 751.299 1515.87 Q749.1 1515.87 746.646 1516.63 Q744.216 1517.4 741.438 1518.95 L741.438 1514.23 Q744.262 1513.09 746.716 1512.51 Q749.169 1511.93 751.206 1511.93 Q756.577 1511.93 759.771 1514.62 Q762.966 1517.31 762.966 1521.8 Q762.966 1523.93 762.155 1525.85 Q761.368 1527.74 759.262 1530.34 Q758.683 1531.01 755.581 1534.23 Q752.48 1537.42 746.831 1543.18 Z\" fill=\"#000000\" fill-rule=\"evenodd\" fill-opacity=\"1\" /><path clip-path=\"url(#clip270)\" d=\"M 0 0 M768.266 1512.56 L786.623 1512.56 L786.623 1516.5 L772.549 1516.5 L772.549 1524.97 Q773.567 1524.62 774.586 1524.46 Q775.604 1524.27 776.623 1524.27 Q782.41 1524.27 785.79 1527.44 Q789.169 1530.62 789.169 1536.03 Q789.169 1541.61 785.697 1544.71 Q782.225 1547.79 775.905 1547.79 Q773.729 1547.79 771.461 1547.42 Q769.216 1547.05 766.808 1546.31 L766.808 1541.61 Q768.891 1542.74 771.114 1543.3 Q773.336 1543.86 775.813 1543.86 Q779.817 1543.86 782.155 1541.75 Q784.493 1539.64 784.493 1536.03 Q784.493 1532.42 782.155 1530.31 Q779.817 1528.21 775.813 1528.21 Q773.938 1528.21 772.063 1528.62 Q770.211 1529.04 768.266 1529.92 L768.266 1512.56 Z\" fill=\"#000000\" fill-rule=\"evenodd\" fill-opacity=\"1\" /><path clip-path=\"url(#clip270)\" d=\"M 0 0 M1232.06 1515.64 Q1228.45 1515.64 1226.62 1519.2 Q1224.81 1522.75 1224.81 1529.87 Q1224.81 1536.98 1226.62 1540.55 Q1228.45 1544.09 1232.06 1544.09 Q1235.69 1544.09 1237.5 1540.55 Q1239.32 1536.98 1239.32 1529.87 Q1239.32 1522.75 1237.5 1519.2 Q1235.69 1515.64 1232.06 1515.64 M1232.06 1511.93 Q1237.87 1511.93 1240.92 1516.54 Q1244 1521.12 1244 1529.87 Q1244 1538.6 1240.92 1543.21 Q1237.87 1547.79 1232.06 1547.79 Q1226.25 1547.79 1223.17 1543.21 Q1220.11 1538.6 1220.11 1529.87 Q1220.11 1521.12 1223.17 1516.54 Q1226.25 1511.93 1232.06 1511.93 Z\" fill=\"#000000\" fill-rule=\"evenodd\" fill-opacity=\"1\" /><path clip-path=\"url(#clip270)\" d=\"M 0 0 M1249.07 1541.24 L1253.95 1541.24 L1253.95 1547.12 L1249.07 1547.12 L1249.07 1541.24 Z\" fill=\"#000000\" fill-rule=\"evenodd\" fill-opacity=\"1\" /><path clip-path=\"url(#clip270)\" d=\"M 0 0 M1259.07 1512.56 L1277.43 1512.56 L1277.43 1516.5 L1263.35 1516.5 L1263.35 1524.97 Q1264.37 1524.62 1265.39 1524.46 Q1266.41 1524.27 1267.43 1524.27 Q1273.21 1524.27 1276.59 1527.44 Q1279.97 1530.62 1279.97 1536.03 Q1279.97 1541.61 1276.5 1544.71 Q1273.03 1547.79 1266.71 1547.79 Q1264.53 1547.79 1262.26 1547.42 Q1260.02 1547.05 1257.61 1546.31 L1257.61 1541.61 Q1259.69 1542.74 1261.92 1543.3 Q1264.14 1543.86 1266.62 1543.86 Q1270.62 1543.86 1272.96 1541.75 Q1275.3 1539.64 1275.3 1536.03 Q1275.3 1532.42 1272.96 1530.31 Q1270.62 1528.21 1266.62 1528.21 Q1264.74 1528.21 1262.87 1528.62 Q1261.01 1529.04 1259.07 1529.92 L1259.07 1512.56 Z\" fill=\"#000000\" fill-rule=\"evenodd\" fill-opacity=\"1\" /><path clip-path=\"url(#clip270)\" d=\"M 0 0 M1295.04 1515.64 Q1291.43 1515.64 1289.6 1519.2 Q1287.8 1522.75 1287.8 1529.87 Q1287.8 1536.98 1289.6 1540.55 Q1291.43 1544.09 1295.04 1544.09 Q1298.68 1544.09 1300.48 1540.55 Q1302.31 1536.98 1302.31 1529.87 Q1302.31 1522.75 1300.48 1519.2 Q1298.68 1515.64 1295.04 1515.64 M1295.04 1511.93 Q1300.85 1511.93 1303.91 1516.54 Q1306.99 1521.12 1306.99 1529.87 Q1306.99 1538.6 1303.91 1543.21 Q1300.85 1547.79 1295.04 1547.79 Q1289.23 1547.79 1286.15 1543.21 Q1283.1 1538.6 1283.1 1529.87 Q1283.1 1521.12 1286.15 1516.54 Q1289.23 1511.93 1295.04 1511.93 Z\" fill=\"#000000\" fill-rule=\"evenodd\" fill-opacity=\"1\" /><path clip-path=\"url(#clip270)\" d=\"M 0 0 M1749.53 1515.64 Q1745.92 1515.64 1744.09 1519.2 Q1742.28 1522.75 1742.28 1529.87 Q1742.28 1536.98 1744.09 1540.55 Q1745.92 1544.09 1749.53 1544.09 Q1753.16 1544.09 1754.97 1540.55 Q1756.79 1536.98 1756.79 1529.87 Q1756.79 1522.75 1754.97 1519.2 Q1753.16 1515.64 1749.53 1515.64 M1749.53 1511.93 Q1755.34 1511.93 1758.39 1516.54 Q1761.47 1521.12 1761.47 1529.87 Q1761.47 1538.6 1758.39 1543.21 Q1755.34 1547.79 1749.53 1547.79 Q1743.72 1547.79 1740.64 1543.21 Q1737.58 1538.6 1737.58 1529.87 Q1737.58 1521.12 1740.64 1516.54 Q1743.72 1511.93 1749.53 1511.93 Z\" fill=\"#000000\" fill-rule=\"evenodd\" fill-opacity=\"1\" /><path clip-path=\"url(#clip270)\" d=\"M 0 0 M1766.54 1541.24 L1771.42 1541.24 L1771.42 1547.12 L1766.54 1547.12 L1766.54 1541.24 Z\" fill=\"#000000\" fill-rule=\"evenodd\" fill-opacity=\"1\" /><path clip-path=\"url(#clip270)\" d=\"M 0 0 M1775.31 1512.56 L1797.54 1512.56 L1797.54 1514.55 L1784.99 1547.12 L1780.1 1547.12 L1791.91 1516.5 L1775.31 1516.5 L1775.31 1512.56 Z\" fill=\"#000000\" fill-rule=\"evenodd\" fill-opacity=\"1\" /><path clip-path=\"url(#clip270)\" d=\"M 0 0 M1802.65 1512.56 L1821.01 1512.56 L1821.01 1516.5 L1806.93 1516.5 L1806.93 1524.97 Q1807.95 1524.62 1808.97 1524.46 Q1809.99 1524.27 1811.01 1524.27 Q1816.79 1524.27 1820.17 1527.44 Q1823.55 1530.62 1823.55 1536.03 Q1823.55 1541.61 1820.08 1544.71 Q1816.61 1547.79 1810.29 1547.79 Q1808.11 1547.79 1805.85 1547.42 Q1803.6 1547.05 1801.19 1546.31 L1801.19 1541.61 Q1803.28 1542.74 1805.5 1543.3 Q1807.72 1543.86 1810.2 1543.86 Q1814.2 1543.86 1816.54 1541.75 Q1818.88 1539.64 1818.88 1536.03 Q1818.88 1532.42 1816.54 1530.31 Q1814.2 1528.21 1810.2 1528.21 Q1808.32 1528.21 1806.45 1528.62 Q1804.6 1529.04 1802.65 1529.92 L1802.65 1512.56 Z\" fill=\"#000000\" fill-rule=\"evenodd\" fill-opacity=\"1\" /><path clip-path=\"url(#clip270)\" d=\"M 0 0 M2255.98 1543.18 L2263.62 1543.18 L2263.62 1516.82 L2255.31 1518.49 L2255.31 1514.23 L2263.57 1512.56 L2268.25 1512.56 L2268.25 1543.18 L2275.89 1543.18 L2275.89 1547.12 L2255.98 1547.12 L2255.98 1543.18 Z\" fill=\"#000000\" fill-rule=\"evenodd\" fill-opacity=\"1\" /><path clip-path=\"url(#clip270)\" d=\"M 0 0 M2280.95 1541.24 L2285.84 1541.24 L2285.84 1547.12 L2280.95 1547.12 L2280.95 1541.24 Z\" fill=\"#000000\" fill-rule=\"evenodd\" fill-opacity=\"1\" /><path clip-path=\"url(#clip270)\" d=\"M 0 0 M2300.91 1515.64 Q2297.3 1515.64 2295.47 1519.2 Q2293.66 1522.75 2293.66 1529.87 Q2293.66 1536.98 2295.47 1540.55 Q2297.3 1544.09 2300.91 1544.09 Q2304.54 1544.09 2306.35 1540.55 Q2308.18 1536.98 2308.18 1529.87 Q2308.18 1522.75 2306.35 1519.2 Q2304.54 1515.64 2300.91 1515.64 M2300.91 1511.93 Q2306.72 1511.93 2309.77 1516.54 Q2312.85 1521.12 2312.85 1529.87 Q2312.85 1538.6 2309.77 1543.21 Q2306.72 1547.79 2300.91 1547.79 Q2295.1 1547.79 2292.02 1543.21 Q2288.96 1538.6 2288.96 1529.87 Q2288.96 1521.12 2292.02 1516.54 Q2295.1 1511.93 2300.91 1511.93 Z\" fill=\"#000000\" fill-rule=\"evenodd\" fill-opacity=\"1\" /><path clip-path=\"url(#clip270)\" d=\"M 0 0 M2327.92 1515.64 Q2324.31 1515.64 2322.48 1519.2 Q2320.68 1522.75 2320.68 1529.87 Q2320.68 1536.98 2322.48 1540.55 Q2324.31 1544.09 2327.92 1544.09 Q2331.56 1544.09 2333.36 1540.55 Q2335.19 1536.98 2335.19 1529.87 Q2335.19 1522.75 2333.36 1519.2 Q2331.56 1515.64 2327.92 1515.64 M2327.92 1511.93 Q2333.73 1511.93 2336.79 1516.54 Q2339.87 1521.12 2339.87 1529.87 Q2339.87 1538.6 2336.79 1543.21 Q2333.73 1547.79 2327.92 1547.79 Q2322.11 1547.79 2319.03 1543.21 Q2315.98 1538.6 2315.98 1529.87 Q2315.98 1521.12 2319.03 1516.54 Q2322.11 1511.93 2327.92 1511.93 Z\" fill=\"#000000\" fill-rule=\"evenodd\" fill-opacity=\"1\" /><polyline clip-path=\"url(#clip272)\" style=\"stroke:#000000; stroke-width:2; stroke-opacity:0.1; fill:none\" points=\"\n",
       "  179.654,1438.22 2352.76,1438.22 \n",
       "  \"/>\n",
       "<polyline clip-path=\"url(#clip272)\" style=\"stroke:#000000; stroke-width:2; stroke-opacity:0.1; fill:none\" points=\"\n",
       "  179.654,1102.25 2352.76,1102.25 \n",
       "  \"/>\n",
       "<polyline clip-path=\"url(#clip272)\" style=\"stroke:#000000; stroke-width:2; stroke-opacity:0.1; fill:none\" points=\"\n",
       "  179.654,766.271 2352.76,766.271 \n",
       "  \"/>\n",
       "<polyline clip-path=\"url(#clip272)\" style=\"stroke:#000000; stroke-width:2; stroke-opacity:0.1; fill:none\" points=\"\n",
       "  179.654,430.294 2352.76,430.294 \n",
       "  \"/>\n",
       "<polyline clip-path=\"url(#clip272)\" style=\"stroke:#000000; stroke-width:2; stroke-opacity:0.1; fill:none\" points=\"\n",
       "  179.654,94.3173 2352.76,94.3173 \n",
       "  \"/>\n",
       "<polyline clip-path=\"url(#clip270)\" style=\"stroke:#000000; stroke-width:4; stroke-opacity:1; fill:none\" points=\"\n",
       "  179.654,1486.45 179.654,47.2441 \n",
       "  \"/>\n",
       "<polyline clip-path=\"url(#clip270)\" style=\"stroke:#000000; stroke-width:4; stroke-opacity:1; fill:none\" points=\"\n",
       "  179.654,1438.22 205.731,1438.22 \n",
       "  \"/>\n",
       "<polyline clip-path=\"url(#clip270)\" style=\"stroke:#000000; stroke-width:4; stroke-opacity:1; fill:none\" points=\"\n",
       "  179.654,1102.25 205.731,1102.25 \n",
       "  \"/>\n",
       "<polyline clip-path=\"url(#clip270)\" style=\"stroke:#000000; stroke-width:4; stroke-opacity:1; fill:none\" points=\"\n",
       "  179.654,766.271 205.731,766.271 \n",
       "  \"/>\n",
       "<polyline clip-path=\"url(#clip270)\" style=\"stroke:#000000; stroke-width:4; stroke-opacity:1; fill:none\" points=\"\n",
       "  179.654,430.294 205.731,430.294 \n",
       "  \"/>\n",
       "<polyline clip-path=\"url(#clip270)\" style=\"stroke:#000000; stroke-width:4; stroke-opacity:1; fill:none\" points=\"\n",
       "  179.654,94.3173 205.731,94.3173 \n",
       "  \"/>\n",
       "<path clip-path=\"url(#clip270)\" d=\"M 0 0 M51.2236 1438.68 L80.8994 1438.68 L80.8994 1442.61 L51.2236 1442.61 L51.2236 1438.68 Z\" fill=\"#000000\" fill-rule=\"evenodd\" fill-opacity=\"1\" /><path clip-path=\"url(#clip270)\" d=\"M 0 0 M86.779 1451.57 L94.4178 1451.57 L94.4178 1425.2 L86.1077 1426.87 L86.1077 1422.61 L94.3715 1420.94 L99.0474 1420.94 L99.0474 1451.57 L106.686 1451.57 L106.686 1455.5 L86.779 1455.5 L86.779 1451.57 Z\" fill=\"#000000\" fill-rule=\"evenodd\" fill-opacity=\"1\" /><path clip-path=\"url(#clip270)\" d=\"M 0 0 M111.756 1449.62 L116.64 1449.62 L116.64 1455.5 L111.756 1455.5 L111.756 1449.62 Z\" fill=\"#000000\" fill-rule=\"evenodd\" fill-opacity=\"1\" /><path clip-path=\"url(#clip270)\" d=\"M 0 0 M131.709 1424.02 Q128.098 1424.02 126.27 1427.59 Q124.464 1431.13 124.464 1438.26 Q124.464 1445.36 126.27 1448.93 Q128.098 1452.47 131.709 1452.47 Q135.344 1452.47 137.149 1448.93 Q138.978 1445.36 138.978 1438.26 Q138.978 1431.13 137.149 1427.59 Q135.344 1424.02 131.709 1424.02 M131.709 1420.32 Q137.519 1420.32 140.575 1424.93 Q143.654 1429.51 143.654 1438.26 Q143.654 1446.99 140.575 1451.59 Q137.519 1456.18 131.709 1456.18 Q125.899 1456.18 122.82 1451.59 Q119.765 1446.99 119.765 1438.26 Q119.765 1429.51 122.82 1424.93 Q125.899 1420.32 131.709 1420.32 Z\" fill=\"#000000\" fill-rule=\"evenodd\" fill-opacity=\"1\" /><path clip-path=\"url(#clip270)\" d=\"M 0 0 M50.9921 1102.7 L80.6679 1102.7 L80.6679 1106.63 L50.9921 1106.63 L50.9921 1102.7 Z\" fill=\"#000000\" fill-rule=\"evenodd\" fill-opacity=\"1\" /><path clip-path=\"url(#clip270)\" d=\"M 0 0 M95.7373 1088.05 Q92.1262 1088.05 90.2975 1091.61 Q88.4919 1095.15 88.4919 1102.28 Q88.4919 1109.39 90.2975 1112.95 Q92.1262 1116.49 95.7373 1116.49 Q99.3715 1116.49 101.177 1112.95 Q103.006 1109.39 103.006 1102.28 Q103.006 1095.15 101.177 1091.61 Q99.3715 1088.05 95.7373 1088.05 M95.7373 1084.34 Q101.547 1084.34 104.603 1088.95 Q107.682 1093.53 107.682 1102.28 Q107.682 1111.01 104.603 1115.62 Q101.547 1120.2 95.7373 1120.2 Q89.9271 1120.2 86.8484 1115.62 Q83.7929 1111.01 83.7929 1102.28 Q83.7929 1093.53 86.8484 1088.95 Q89.9271 1084.34 95.7373 1084.34 Z\" fill=\"#000000\" fill-rule=\"evenodd\" fill-opacity=\"1\" /><path clip-path=\"url(#clip270)\" d=\"M 0 0 M112.751 1113.65 L117.635 1113.65 L117.635 1119.53 L112.751 1119.53 L112.751 1113.65 Z\" fill=\"#000000\" fill-rule=\"evenodd\" fill-opacity=\"1\" /><path clip-path=\"url(#clip270)\" d=\"M 0 0 M122.751 1084.97 L141.107 1084.97 L141.107 1088.9 L127.033 1088.9 L127.033 1097.37 Q128.052 1097.03 129.07 1096.87 Q130.089 1096.68 131.107 1096.68 Q136.894 1096.68 140.274 1099.85 Q143.654 1103.02 143.654 1108.44 Q143.654 1114.02 140.181 1117.12 Q136.709 1120.2 130.39 1120.2 Q128.214 1120.2 125.945 1119.83 Q123.7 1119.46 121.293 1118.72 L121.293 1114.02 Q123.376 1115.15 125.598 1115.71 Q127.82 1116.26 130.297 1116.26 Q134.302 1116.26 136.64 1114.16 Q138.978 1112.05 138.978 1108.44 Q138.978 1104.83 136.64 1102.72 Q134.302 1100.62 130.297 1100.62 Q128.422 1100.62 126.547 1101.03 Q124.695 1101.45 122.751 1102.33 L122.751 1084.97 Z\" fill=\"#000000\" fill-rule=\"evenodd\" fill-opacity=\"1\" /><path clip-path=\"url(#clip270)\" d=\"M 0 0 M94.7419 752.069 Q91.1308 752.069 89.3021 755.634 Q87.4966 759.176 87.4966 766.305 Q87.4966 773.412 89.3021 776.976 Q91.1308 780.518 94.7419 780.518 Q98.3761 780.518 100.182 776.976 Q102.01 773.412 102.01 766.305 Q102.01 759.176 100.182 755.634 Q98.3761 752.069 94.7419 752.069 M94.7419 748.366 Q100.552 748.366 103.608 752.972 Q106.686 757.555 106.686 766.305 Q106.686 775.032 103.608 779.639 Q100.552 784.222 94.7419 784.222 Q88.9317 784.222 85.8531 779.639 Q82.7975 775.032 82.7975 766.305 Q82.7975 757.555 85.8531 752.972 Q88.9317 748.366 94.7419 748.366 Z\" fill=\"#000000\" fill-rule=\"evenodd\" fill-opacity=\"1\" /><path clip-path=\"url(#clip270)\" d=\"M 0 0 M111.756 777.671 L116.64 777.671 L116.64 783.551 L111.756 783.551 L111.756 777.671 Z\" fill=\"#000000\" fill-rule=\"evenodd\" fill-opacity=\"1\" /><path clip-path=\"url(#clip270)\" d=\"M 0 0 M131.709 752.069 Q128.098 752.069 126.27 755.634 Q124.464 759.176 124.464 766.305 Q124.464 773.412 126.27 776.976 Q128.098 780.518 131.709 780.518 Q135.344 780.518 137.149 776.976 Q138.978 773.412 138.978 766.305 Q138.978 759.176 137.149 755.634 Q135.344 752.069 131.709 752.069 M131.709 748.366 Q137.519 748.366 140.575 752.972 Q143.654 757.555 143.654 766.305 Q143.654 775.032 140.575 779.639 Q137.519 784.222 131.709 784.222 Q125.899 784.222 122.82 779.639 Q119.765 775.032 119.765 766.305 Q119.765 757.555 122.82 752.972 Q125.899 748.366 131.709 748.366 Z\" fill=\"#000000\" fill-rule=\"evenodd\" fill-opacity=\"1\" /><path clip-path=\"url(#clip270)\" d=\"M 0 0 M95.7373 416.093 Q92.1262 416.093 90.2975 419.657 Q88.4919 423.199 88.4919 430.329 Q88.4919 437.435 90.2975 441 Q92.1262 444.542 95.7373 444.542 Q99.3715 444.542 101.177 441 Q103.006 437.435 103.006 430.329 Q103.006 423.199 101.177 419.657 Q99.3715 416.093 95.7373 416.093 M95.7373 412.389 Q101.547 412.389 104.603 416.995 Q107.682 421.579 107.682 430.329 Q107.682 439.055 104.603 443.662 Q101.547 448.245 95.7373 448.245 Q89.9271 448.245 86.8484 443.662 Q83.7929 439.055 83.7929 430.329 Q83.7929 421.579 86.8484 416.995 Q89.9271 412.389 95.7373 412.389 Z\" fill=\"#000000\" fill-rule=\"evenodd\" fill-opacity=\"1\" /><path clip-path=\"url(#clip270)\" d=\"M 0 0 M112.751 441.694 L117.635 441.694 L117.635 447.574 L112.751 447.574 L112.751 441.694 Z\" fill=\"#000000\" fill-rule=\"evenodd\" fill-opacity=\"1\" /><path clip-path=\"url(#clip270)\" d=\"M 0 0 M122.751 413.014 L141.107 413.014 L141.107 416.949 L127.033 416.949 L127.033 425.421 Q128.052 425.074 129.07 424.912 Q130.089 424.727 131.107 424.727 Q136.894 424.727 140.274 427.898 Q143.654 431.069 143.654 436.486 Q143.654 442.065 140.181 445.166 Q136.709 448.245 130.39 448.245 Q128.214 448.245 125.945 447.875 Q123.7 447.504 121.293 446.764 L121.293 442.065 Q123.376 443.199 125.598 443.754 Q127.82 444.31 130.297 444.31 Q134.302 444.31 136.64 442.204 Q138.978 440.097 138.978 436.486 Q138.978 432.875 136.64 430.768 Q134.302 428.662 130.297 428.662 Q128.422 428.662 126.547 429.079 Q124.695 429.495 122.751 430.375 L122.751 413.014 Z\" fill=\"#000000\" fill-rule=\"evenodd\" fill-opacity=\"1\" /><path clip-path=\"url(#clip270)\" d=\"M 0 0 M86.779 107.662 L94.4178 107.662 L94.4178 81.2965 L86.1077 82.9632 L86.1077 78.7039 L94.3715 77.0373 L99.0474 77.0373 L99.0474 107.662 L106.686 107.662 L106.686 111.597 L86.779 111.597 L86.779 107.662 Z\" fill=\"#000000\" fill-rule=\"evenodd\" fill-opacity=\"1\" /><path clip-path=\"url(#clip270)\" d=\"M 0 0 M111.756 105.718 L116.64 105.718 L116.64 111.597 L111.756 111.597 L111.756 105.718 Z\" fill=\"#000000\" fill-rule=\"evenodd\" fill-opacity=\"1\" /><path clip-path=\"url(#clip270)\" d=\"M 0 0 M131.709 80.1159 Q128.098 80.1159 126.27 83.6807 Q124.464 87.2224 124.464 94.352 Q124.464 101.458 126.27 105.023 Q128.098 108.565 131.709 108.565 Q135.344 108.565 137.149 105.023 Q138.978 101.458 138.978 94.352 Q138.978 87.2224 137.149 83.6807 Q135.344 80.1159 131.709 80.1159 M131.709 76.4123 Q137.519 76.4123 140.575 81.0187 Q143.654 85.602 143.654 94.352 Q143.654 103.079 140.575 107.685 Q137.519 112.269 131.709 112.269 Q125.899 112.269 122.82 107.685 Q119.765 103.079 119.765 94.352 Q119.765 85.602 122.82 81.0187 Q125.899 76.4123 131.709 76.4123 Z\" fill=\"#000000\" fill-rule=\"evenodd\" fill-opacity=\"1\" /><circle clip-path=\"url(#clip272)\" cx=\"1644.64\" cy=\"277.016\" r=\"14\" fill=\"#009af9\" fill-rule=\"evenodd\" fill-opacity=\"1\" stroke=\"#000000\" stroke-opacity=\"1\" stroke-width=\"3.2\"/>\n",
       "<circle clip-path=\"url(#clip272)\" cx=\"1939.21\" cy=\"1320.11\" r=\"14\" fill=\"#009af9\" fill-rule=\"evenodd\" fill-opacity=\"1\" stroke=\"#000000\" stroke-opacity=\"1\" stroke-width=\"3.2\"/>\n",
       "<circle clip-path=\"url(#clip272)\" cx=\"1996.25\" cy=\"1416.15\" r=\"14\" fill=\"#009af9\" fill-rule=\"evenodd\" fill-opacity=\"1\" stroke=\"#000000\" stroke-opacity=\"1\" stroke-width=\"3.2\"/>\n",
       "<circle clip-path=\"url(#clip272)\" cx=\"1285.67\" cy=\"679.728\" r=\"14\" fill=\"#009af9\" fill-rule=\"evenodd\" fill-opacity=\"1\" stroke=\"#000000\" stroke-opacity=\"1\" stroke-width=\"3.2\"/>\n",
       "<circle clip-path=\"url(#clip272)\" cx=\"1933.24\" cy=\"1301.17\" r=\"14\" fill=\"#009af9\" fill-rule=\"evenodd\" fill-opacity=\"1\" stroke=\"#000000\" stroke-opacity=\"1\" stroke-width=\"3.2\"/>\n",
       "<circle clip-path=\"url(#clip272)\" cx=\"2018.4\" cy=\"1421.82\" r=\"14\" fill=\"#009af9\" fill-rule=\"evenodd\" fill-opacity=\"1\" stroke=\"#000000\" stroke-opacity=\"1\" stroke-width=\"3.2\"/>\n",
       "<circle clip-path=\"url(#clip272)\" cx=\"1303.56\" cy=\"613.091\" r=\"14\" fill=\"#009af9\" fill-rule=\"evenodd\" fill-opacity=\"1\" stroke=\"#000000\" stroke-opacity=\"1\" stroke-width=\"3.2\"/>\n",
       "<circle clip-path=\"url(#clip272)\" cx=\"674.001\" cy=\"485.182\" r=\"14\" fill=\"#009af9\" fill-rule=\"evenodd\" fill-opacity=\"1\" stroke=\"#000000\" stroke-opacity=\"1\" stroke-width=\"3.2\"/>\n",
       "<circle clip-path=\"url(#clip272)\" cx=\"1880.34\" cy=\"1143.72\" r=\"14\" fill=\"#009af9\" fill-rule=\"evenodd\" fill-opacity=\"1\" stroke=\"#000000\" stroke-opacity=\"1\" stroke-width=\"3.2\"/>\n",
       "<circle clip-path=\"url(#clip272)\" cx=\"629.258\" cy=\"319.439\" r=\"14\" fill=\"#009af9\" fill-rule=\"evenodd\" fill-opacity=\"1\" stroke=\"#000000\" stroke-opacity=\"1\" stroke-width=\"3.2\"/>\n",
       "<circle clip-path=\"url(#clip272)\" cx=\"1849.22\" cy=\"1035.36\" r=\"14\" fill=\"#009af9\" fill-rule=\"evenodd\" fill-opacity=\"1\" stroke=\"#000000\" stroke-opacity=\"1\" stroke-width=\"3.2\"/>\n",
       "<circle clip-path=\"url(#clip272)\" cx=\"1694\" cy=\"436.927\" r=\"14\" fill=\"#009af9\" fill-rule=\"evenodd\" fill-opacity=\"1\" stroke=\"#000000\" stroke-opacity=\"1\" stroke-width=\"3.2\"/>\n",
       "<circle clip-path=\"url(#clip272)\" cx=\"1028.24\" cy=\"1439.85\" r=\"14\" fill=\"#009af9\" fill-rule=\"evenodd\" fill-opacity=\"1\" stroke=\"#000000\" stroke-opacity=\"1\" stroke-width=\"3.2\"/>\n",
       "<circle clip-path=\"url(#clip272)\" cx=\"1496.21\" cy=\"108.442\" r=\"14\" fill=\"#009af9\" fill-rule=\"evenodd\" fill-opacity=\"1\" stroke=\"#000000\" stroke-opacity=\"1\" stroke-width=\"3.2\"/>\n",
       "<circle clip-path=\"url(#clip272)\" cx=\"1788.02\" cy=\"791.75\" r=\"14\" fill=\"#009af9\" fill-rule=\"evenodd\" fill-opacity=\"1\" stroke=\"#000000\" stroke-opacity=\"1\" stroke-width=\"3.2\"/>\n",
       "<circle clip-path=\"url(#clip272)\" cx=\"358.321\" cy=\"281.371\" r=\"14\" fill=\"#009af9\" fill-rule=\"evenodd\" fill-opacity=\"1\" stroke=\"#000000\" stroke-opacity=\"1\" stroke-width=\"3.2\"/>\n",
       "<circle clip-path=\"url(#clip272)\" cx=\"1262\" cy=\"765.461\" r=\"14\" fill=\"#009af9\" fill-rule=\"evenodd\" fill-opacity=\"1\" stroke=\"#000000\" stroke-opacity=\"1\" stroke-width=\"3.2\"/>\n",
       "<circle clip-path=\"url(#clip272)\" cx=\"544.587\" cy=\"140.147\" r=\"14\" fill=\"#009af9\" fill-rule=\"evenodd\" fill-opacity=\"1\" stroke=\"#000000\" stroke-opacity=\"1\" stroke-width=\"3.2\"/>\n",
       "<circle clip-path=\"url(#clip272)\" cx=\"576.737\" cy=\"182.76\" r=\"14\" fill=\"#009af9\" fill-rule=\"evenodd\" fill-opacity=\"1\" stroke=\"#000000\" stroke-opacity=\"1\" stroke-width=\"3.2\"/>\n",
       "<circle clip-path=\"url(#clip272)\" cx=\"1541.18\" cy=\"105.349\" r=\"14\" fill=\"#009af9\" fill-rule=\"evenodd\" fill-opacity=\"1\" stroke=\"#000000\" stroke-opacity=\"1\" stroke-width=\"3.2\"/>\n",
       "<circle clip-path=\"url(#clip272)\" cx=\"263.014\" cy=\"628.899\" r=\"14\" fill=\"#009af9\" fill-rule=\"evenodd\" fill-opacity=\"1\" stroke=\"#000000\" stroke-opacity=\"1\" stroke-width=\"3.2\"/>\n",
       "<circle clip-path=\"url(#clip272)\" cx=\"930.53\" cy=\"1363.94\" r=\"14\" fill=\"#009af9\" fill-rule=\"evenodd\" fill-opacity=\"1\" stroke=\"#000000\" stroke-opacity=\"1\" stroke-width=\"3.2\"/>\n",
       "<circle clip-path=\"url(#clip272)\" cx=\"2199.68\" cy=\"1156.52\" r=\"14\" fill=\"#009af9\" fill-rule=\"evenodd\" fill-opacity=\"1\" stroke=\"#000000\" stroke-opacity=\"1\" stroke-width=\"3.2\"/>\n",
       "<circle clip-path=\"url(#clip272)\" cx=\"2166.81\" cy=\"1251.56\" r=\"14\" fill=\"#009af9\" fill-rule=\"evenodd\" fill-opacity=\"1\" stroke=\"#000000\" stroke-opacity=\"1\" stroke-width=\"3.2\"/>\n",
       "<circle clip-path=\"url(#clip272)\" cx=\"1384.11\" cy=\"315.446\" r=\"14\" fill=\"#009af9\" fill-rule=\"evenodd\" fill-opacity=\"1\" stroke=\"#000000\" stroke-opacity=\"1\" stroke-width=\"3.2\"/>\n",
       "<circle clip-path=\"url(#clip272)\" cx=\"1082.09\" cy=\"1370.45\" r=\"14\" fill=\"#009af9\" fill-rule=\"evenodd\" fill-opacity=\"1\" stroke=\"#000000\" stroke-opacity=\"1\" stroke-width=\"3.2\"/>\n",
       "<circle clip-path=\"url(#clip272)\" cx=\"1144.29\" cy=\"1207.7\" r=\"14\" fill=\"#009af9\" fill-rule=\"evenodd\" fill-opacity=\"1\" stroke=\"#000000\" stroke-opacity=\"1\" stroke-width=\"3.2\"/>\n",
       "<circle clip-path=\"url(#clip272)\" cx=\"2291.25\" cy=\"797.285\" r=\"14\" fill=\"#009af9\" fill-rule=\"evenodd\" fill-opacity=\"1\" stroke=\"#000000\" stroke-opacity=\"1\" stroke-width=\"3.2\"/>\n",
       "<circle clip-path=\"url(#clip272)\" cx=\"242.2\" cy=\"719.051\" r=\"14\" fill=\"#009af9\" fill-rule=\"evenodd\" fill-opacity=\"1\" stroke=\"#000000\" stroke-opacity=\"1\" stroke-width=\"3.2\"/>\n",
       "<circle clip-path=\"url(#clip272)\" cx=\"721.463\" cy=\"665.794\" r=\"14\" fill=\"#009af9\" fill-rule=\"evenodd\" fill-opacity=\"1\" stroke=\"#000000\" stroke-opacity=\"1\" stroke-width=\"3.2\"/>\n",
       "<circle clip-path=\"url(#clip272)\" cx=\"1281.93\" cy=\"694.317\" r=\"14\" fill=\"#009af9\" fill-rule=\"evenodd\" fill-opacity=\"1\" stroke=\"#000000\" stroke-opacity=\"1\" stroke-width=\"3.2\"/>\n",
       "<circle clip-path=\"url(#clip272)\" cx=\"2122.39\" cy=\"1341.98\" r=\"14\" fill=\"#009af9\" fill-rule=\"evenodd\" fill-opacity=\"1\" stroke=\"#000000\" stroke-opacity=\"1\" stroke-width=\"3.2\"/>\n",
       "<circle clip-path=\"url(#clip272)\" cx=\"356.482\" cy=\"294.777\" r=\"14\" fill=\"#009af9\" fill-rule=\"evenodd\" fill-opacity=\"1\" stroke=\"#000000\" stroke-opacity=\"1\" stroke-width=\"3.2\"/>\n",
       "<circle clip-path=\"url(#clip272)\" cx=\"2202.34\" cy=\"1136.89\" r=\"14\" fill=\"#009af9\" fill-rule=\"evenodd\" fill-opacity=\"1\" stroke=\"#000000\" stroke-opacity=\"1\" stroke-width=\"3.2\"/>\n",
       "<circle clip-path=\"url(#clip272)\" cx=\"2026.48\" cy=\"1440.98\" r=\"14\" fill=\"#009af9\" fill-rule=\"evenodd\" fill-opacity=\"1\" stroke=\"#000000\" stroke-opacity=\"1\" stroke-width=\"3.2\"/>\n",
       "<circle clip-path=\"url(#clip272)\" cx=\"1625.93\" cy=\"217.55\" r=\"14\" fill=\"#009af9\" fill-rule=\"evenodd\" fill-opacity=\"1\" stroke=\"#000000\" stroke-opacity=\"1\" stroke-width=\"3.2\"/>\n",
       "<circle clip-path=\"url(#clip272)\" cx=\"1355.07\" cy=\"410.82\" r=\"14\" fill=\"#009af9\" fill-rule=\"evenodd\" fill-opacity=\"1\" stroke=\"#000000\" stroke-opacity=\"1\" stroke-width=\"3.2\"/>\n",
       "<circle clip-path=\"url(#clip272)\" cx=\"927.878\" cy=\"1368.84\" r=\"14\" fill=\"#009af9\" fill-rule=\"evenodd\" fill-opacity=\"1\" stroke=\"#000000\" stroke-opacity=\"1\" stroke-width=\"3.2\"/>\n",
       "<circle clip-path=\"url(#clip272)\" cx=\"1197.51\" cy=\"1037.67\" r=\"14\" fill=\"#009af9\" fill-rule=\"evenodd\" fill-opacity=\"1\" stroke=\"#000000\" stroke-opacity=\"1\" stroke-width=\"3.2\"/>\n",
       "<circle clip-path=\"url(#clip272)\" cx=\"1052.75\" cy=\"1403.54\" r=\"14\" fill=\"#009af9\" fill-rule=\"evenodd\" fill-opacity=\"1\" stroke=\"#000000\" stroke-opacity=\"1\" stroke-width=\"3.2\"/>\n",
       "<circle clip-path=\"url(#clip272)\" cx=\"1124.36\" cy=\"1268.88\" r=\"14\" fill=\"#009af9\" fill-rule=\"evenodd\" fill-opacity=\"1\" stroke=\"#000000\" stroke-opacity=\"1\" stroke-width=\"3.2\"/>\n",
       "<circle clip-path=\"url(#clip272)\" cx=\"1100.62\" cy=\"1334.64\" r=\"14\" fill=\"#009af9\" fill-rule=\"evenodd\" fill-opacity=\"1\" stroke=\"#000000\" stroke-opacity=\"1\" stroke-width=\"3.2\"/>\n",
       "<circle clip-path=\"url(#clip272)\" cx=\"1176.45\" cy=\"1108.53\" r=\"14\" fill=\"#009af9\" fill-rule=\"evenodd\" fill-opacity=\"1\" stroke=\"#000000\" stroke-opacity=\"1\" stroke-width=\"3.2\"/>\n",
       "<circle clip-path=\"url(#clip272)\" cx=\"1263.64\" cy=\"761.811\" r=\"14\" fill=\"#009af9\" fill-rule=\"evenodd\" fill-opacity=\"1\" stroke=\"#000000\" stroke-opacity=\"1\" stroke-width=\"3.2\"/>\n",
       "<circle clip-path=\"url(#clip272)\" cx=\"1700.08\" cy=\"442.186\" r=\"14\" fill=\"#009af9\" fill-rule=\"evenodd\" fill-opacity=\"1\" stroke=\"#000000\" stroke-opacity=\"1\" stroke-width=\"3.2\"/>\n",
       "<circle clip-path=\"url(#clip272)\" cx=\"1536.91\" cy=\"87.9763\" r=\"14\" fill=\"#009af9\" fill-rule=\"evenodd\" fill-opacity=\"1\" stroke=\"#000000\" stroke-opacity=\"1\" stroke-width=\"3.2\"/>\n",
       "<circle clip-path=\"url(#clip272)\" cx=\"1159.25\" cy=\"1159.64\" r=\"14\" fill=\"#009af9\" fill-rule=\"evenodd\" fill-opacity=\"1\" stroke=\"#000000\" stroke-opacity=\"1\" stroke-width=\"3.2\"/>\n",
       "<circle clip-path=\"url(#clip272)\" cx=\"1254.54\" cy=\"799.126\" r=\"14\" fill=\"#009af9\" fill-rule=\"evenodd\" fill-opacity=\"1\" stroke=\"#000000\" stroke-opacity=\"1\" stroke-width=\"3.2\"/>\n",
       "<circle clip-path=\"url(#clip272)\" cx=\"1533.89\" cy=\"93.6162\" r=\"14\" fill=\"#009af9\" fill-rule=\"evenodd\" fill-opacity=\"1\" stroke=\"#000000\" stroke-opacity=\"1\" stroke-width=\"3.2\"/>\n",
       "<circle clip-path=\"url(#clip272)\" cx=\"2247.92\" cy=\"971.158\" r=\"14\" fill=\"#009af9\" fill-rule=\"evenodd\" fill-opacity=\"1\" stroke=\"#000000\" stroke-opacity=\"1\" stroke-width=\"3.2\"/>\n",
       "<circle clip-path=\"url(#clip272)\" cx=\"2005.84\" cy=\"1420.62\" r=\"14\" fill=\"#009af9\" fill-rule=\"evenodd\" fill-opacity=\"1\" stroke=\"#000000\" stroke-opacity=\"1\" stroke-width=\"3.2\"/>\n",
       "<circle clip-path=\"url(#clip272)\" cx=\"671.37\" cy=\"468.158\" r=\"14\" fill=\"#009af9\" fill-rule=\"evenodd\" fill-opacity=\"1\" stroke=\"#000000\" stroke-opacity=\"1\" stroke-width=\"3.2\"/>\n",
       "<circle clip-path=\"url(#clip272)\" cx=\"1692.22\" cy=\"422.83\" r=\"14\" fill=\"#009af9\" fill-rule=\"evenodd\" fill-opacity=\"1\" stroke=\"#000000\" stroke-opacity=\"1\" stroke-width=\"3.2\"/>\n",
       "<circle clip-path=\"url(#clip272)\" cx=\"1505.98\" cy=\"104.327\" r=\"14\" fill=\"#009af9\" fill-rule=\"evenodd\" fill-opacity=\"1\" stroke=\"#000000\" stroke-opacity=\"1\" stroke-width=\"3.2\"/>\n",
       "<circle clip-path=\"url(#clip272)\" cx=\"1175.01\" cy=\"1103.35\" r=\"14\" fill=\"#009af9\" fill-rule=\"evenodd\" fill-opacity=\"1\" stroke=\"#000000\" stroke-opacity=\"1\" stroke-width=\"3.2\"/>\n",
       "<circle clip-path=\"url(#clip272)\" cx=\"1555.19\" cy=\"119.408\" r=\"14\" fill=\"#009af9\" fill-rule=\"evenodd\" fill-opacity=\"1\" stroke=\"#000000\" stroke-opacity=\"1\" stroke-width=\"3.2\"/>\n",
       "<circle clip-path=\"url(#clip272)\" cx=\"1166.12\" cy=\"1136.31\" r=\"14\" fill=\"#009af9\" fill-rule=\"evenodd\" fill-opacity=\"1\" stroke=\"#000000\" stroke-opacity=\"1\" stroke-width=\"3.2\"/>\n",
       "<circle clip-path=\"url(#clip272)\" cx=\"2168.11\" cy=\"1238.29\" r=\"14\" fill=\"#009af9\" fill-rule=\"evenodd\" fill-opacity=\"1\" stroke=\"#000000\" stroke-opacity=\"1\" stroke-width=\"3.2\"/>\n",
       "<circle clip-path=\"url(#clip272)\" cx=\"1846.16\" cy=\"1026.9\" r=\"14\" fill=\"#009af9\" fill-rule=\"evenodd\" fill-opacity=\"1\" stroke=\"#000000\" stroke-opacity=\"1\" stroke-width=\"3.2\"/>\n",
       "<circle clip-path=\"url(#clip272)\" cx=\"397.1\" cy=\"193.681\" r=\"14\" fill=\"#009af9\" fill-rule=\"evenodd\" fill-opacity=\"1\" stroke=\"#000000\" stroke-opacity=\"1\" stroke-width=\"3.2\"/>\n",
       "<circle clip-path=\"url(#clip272)\" cx=\"433.222\" cy=\"117.6\" r=\"14\" fill=\"#009af9\" fill-rule=\"evenodd\" fill-opacity=\"1\" stroke=\"#000000\" stroke-opacity=\"1\" stroke-width=\"3.2\"/>\n",
       "<circle clip-path=\"url(#clip272)\" cx=\"633.708\" cy=\"341.887\" r=\"14\" fill=\"#009af9\" fill-rule=\"evenodd\" fill-opacity=\"1\" stroke=\"#000000\" stroke-opacity=\"1\" stroke-width=\"3.2\"/>\n",
       "<circle clip-path=\"url(#clip272)\" cx=\"795.217\" cy=\"964.23\" r=\"14\" fill=\"#009af9\" fill-rule=\"evenodd\" fill-opacity=\"1\" stroke=\"#000000\" stroke-opacity=\"1\" stroke-width=\"3.2\"/>\n",
       "<circle clip-path=\"url(#clip272)\" cx=\"1896.55\" cy=\"1194.99\" r=\"14\" fill=\"#009af9\" fill-rule=\"evenodd\" fill-opacity=\"1\" stroke=\"#000000\" stroke-opacity=\"1\" stroke-width=\"3.2\"/>\n",
       "<circle clip-path=\"url(#clip272)\" cx=\"1294.7\" cy=\"636.887\" r=\"14\" fill=\"#009af9\" fill-rule=\"evenodd\" fill-opacity=\"1\" stroke=\"#000000\" stroke-opacity=\"1\" stroke-width=\"3.2\"/>\n",
       "<circle clip-path=\"url(#clip272)\" cx=\"1136.81\" cy=\"1232.97\" r=\"14\" fill=\"#009af9\" fill-rule=\"evenodd\" fill-opacity=\"1\" stroke=\"#000000\" stroke-opacity=\"1\" stroke-width=\"3.2\"/>\n",
       "<circle clip-path=\"url(#clip272)\" cx=\"2273.91\" cy=\"868.969\" r=\"14\" fill=\"#009af9\" fill-rule=\"evenodd\" fill-opacity=\"1\" stroke=\"#000000\" stroke-opacity=\"1\" stroke-width=\"3.2\"/>\n",
       "<circle clip-path=\"url(#clip272)\" cx=\"1092.9\" cy=\"1345.45\" r=\"14\" fill=\"#009af9\" fill-rule=\"evenodd\" fill-opacity=\"1\" stroke=\"#000000\" stroke-opacity=\"1\" stroke-width=\"3.2\"/>\n",
       "<circle clip-path=\"url(#clip272)\" cx=\"2004.86\" cy=\"1423.18\" r=\"14\" fill=\"#009af9\" fill-rule=\"evenodd\" fill-opacity=\"1\" stroke=\"#000000\" stroke-opacity=\"1\" stroke-width=\"3.2\"/>\n",
       "<circle clip-path=\"url(#clip272)\" cx=\"1300.27\" cy=\"626.354\" r=\"14\" fill=\"#009af9\" fill-rule=\"evenodd\" fill-opacity=\"1\" stroke=\"#000000\" stroke-opacity=\"1\" stroke-width=\"3.2\"/>\n",
       "<circle clip-path=\"url(#clip272)\" cx=\"1142.08\" cy=\"1221.04\" r=\"14\" fill=\"#009af9\" fill-rule=\"evenodd\" fill-opacity=\"1\" stroke=\"#000000\" stroke-opacity=\"1\" stroke-width=\"3.2\"/>\n",
       "<circle clip-path=\"url(#clip272)\" cx=\"300.232\" cy=\"486.315\" r=\"14\" fill=\"#009af9\" fill-rule=\"evenodd\" fill-opacity=\"1\" stroke=\"#000000\" stroke-opacity=\"1\" stroke-width=\"3.2\"/>\n",
       "<circle clip-path=\"url(#clip272)\" cx=\"1616.63\" cy=\"211.382\" r=\"14\" fill=\"#009af9\" fill-rule=\"evenodd\" fill-opacity=\"1\" stroke=\"#000000\" stroke-opacity=\"1\" stroke-width=\"3.2\"/>\n",
       "<circle clip-path=\"url(#clip272)\" cx=\"1029.23\" cy=\"1433.76\" r=\"14\" fill=\"#009af9\" fill-rule=\"evenodd\" fill-opacity=\"1\" stroke=\"#000000\" stroke-opacity=\"1\" stroke-width=\"3.2\"/>\n",
       "<circle clip-path=\"url(#clip272)\" cx=\"1850.39\" cy=\"1055.91\" r=\"14\" fill=\"#009af9\" fill-rule=\"evenodd\" fill-opacity=\"1\" stroke=\"#000000\" stroke-opacity=\"1\" stroke-width=\"3.2\"/>\n",
       "<circle clip-path=\"url(#clip272)\" cx=\"2254.75\" cy=\"943.801\" r=\"14\" fill=\"#009af9\" fill-rule=\"evenodd\" fill-opacity=\"1\" stroke=\"#000000\" stroke-opacity=\"1\" stroke-width=\"3.2\"/>\n",
       "<circle clip-path=\"url(#clip272)\" cx=\"316.494\" cy=\"434.304\" r=\"14\" fill=\"#009af9\" fill-rule=\"evenodd\" fill-opacity=\"1\" stroke=\"#000000\" stroke-opacity=\"1\" stroke-width=\"3.2\"/>\n",
       "<circle clip-path=\"url(#clip272)\" cx=\"1663.16\" cy=\"326.426\" r=\"14\" fill=\"#009af9\" fill-rule=\"evenodd\" fill-opacity=\"1\" stroke=\"#000000\" stroke-opacity=\"1\" stroke-width=\"3.2\"/>\n",
       "<circle clip-path=\"url(#clip272)\" cx=\"2041.81\" cy=\"1445.72\" r=\"14\" fill=\"#009af9\" fill-rule=\"evenodd\" fill-opacity=\"1\" stroke=\"#000000\" stroke-opacity=\"1\" stroke-width=\"3.2\"/>\n",
       "<circle clip-path=\"url(#clip272)\" cx=\"1787.36\" cy=\"794.677\" r=\"14\" fill=\"#009af9\" fill-rule=\"evenodd\" fill-opacity=\"1\" stroke=\"#000000\" stroke-opacity=\"1\" stroke-width=\"3.2\"/>\n",
       "<circle clip-path=\"url(#clip272)\" cx=\"531.926\" cy=\"126.285\" r=\"14\" fill=\"#009af9\" fill-rule=\"evenodd\" fill-opacity=\"1\" stroke=\"#000000\" stroke-opacity=\"1\" stroke-width=\"3.2\"/>\n",
       "<circle clip-path=\"url(#clip272)\" cx=\"549.107\" cy=\"154.407\" r=\"14\" fill=\"#009af9\" fill-rule=\"evenodd\" fill-opacity=\"1\" stroke=\"#000000\" stroke-opacity=\"1\" stroke-width=\"3.2\"/>\n",
       "<circle clip-path=\"url(#clip272)\" cx=\"1987.54\" cy=\"1398.57\" r=\"14\" fill=\"#009af9\" fill-rule=\"evenodd\" fill-opacity=\"1\" stroke=\"#000000\" stroke-opacity=\"1\" stroke-width=\"3.2\"/>\n",
       "<circle clip-path=\"url(#clip272)\" cx=\"1968.19\" cy=\"1377.45\" r=\"14\" fill=\"#009af9\" fill-rule=\"evenodd\" fill-opacity=\"1\" stroke=\"#000000\" stroke-opacity=\"1\" stroke-width=\"3.2\"/>\n",
       "<circle clip-path=\"url(#clip272)\" cx=\"1232.53\" cy=\"883.239\" r=\"14\" fill=\"#009af9\" fill-rule=\"evenodd\" fill-opacity=\"1\" stroke=\"#000000\" stroke-opacity=\"1\" stroke-width=\"3.2\"/>\n",
       "<circle clip-path=\"url(#clip272)\" cx=\"1478.57\" cy=\"119.983\" r=\"14\" fill=\"#009af9\" fill-rule=\"evenodd\" fill-opacity=\"1\" stroke=\"#000000\" stroke-opacity=\"1\" stroke-width=\"3.2\"/>\n",
       "<circle clip-path=\"url(#clip272)\" cx=\"674.505\" cy=\"497.572\" r=\"14\" fill=\"#009af9\" fill-rule=\"evenodd\" fill-opacity=\"1\" stroke=\"#000000\" stroke-opacity=\"1\" stroke-width=\"3.2\"/>\n",
       "<circle clip-path=\"url(#clip272)\" cx=\"290.443\" cy=\"531.81\" r=\"14\" fill=\"#009af9\" fill-rule=\"evenodd\" fill-opacity=\"1\" stroke=\"#000000\" stroke-opacity=\"1\" stroke-width=\"3.2\"/>\n",
       "<circle clip-path=\"url(#clip272)\" cx=\"2228.9\" cy=\"1041.39\" r=\"14\" fill=\"#009af9\" fill-rule=\"evenodd\" fill-opacity=\"1\" stroke=\"#000000\" stroke-opacity=\"1\" stroke-width=\"3.2\"/>\n",
       "<circle clip-path=\"url(#clip272)\" cx=\"241.157\" cy=\"714.652\" r=\"14\" fill=\"#009af9\" fill-rule=\"evenodd\" fill-opacity=\"1\" stroke=\"#000000\" stroke-opacity=\"1\" stroke-width=\"3.2\"/>\n",
       "<circle clip-path=\"url(#clip272)\" cx=\"805.269\" cy=\"1002.16\" r=\"14\" fill=\"#009af9\" fill-rule=\"evenodd\" fill-opacity=\"1\" stroke=\"#000000\" stroke-opacity=\"1\" stroke-width=\"3.2\"/>\n",
       "<circle clip-path=\"url(#clip272)\" cx=\"1618.47\" cy=\"207.72\" r=\"14\" fill=\"#009af9\" fill-rule=\"evenodd\" fill-opacity=\"1\" stroke=\"#000000\" stroke-opacity=\"1\" stroke-width=\"3.2\"/>\n",
       "<circle clip-path=\"url(#clip272)\" cx=\"1081.74\" cy=\"1377.68\" r=\"14\" fill=\"#009af9\" fill-rule=\"evenodd\" fill-opacity=\"1\" stroke=\"#000000\" stroke-opacity=\"1\" stroke-width=\"3.2\"/>\n",
       "<circle clip-path=\"url(#clip272)\" cx=\"2124.73\" cy=\"1353.9\" r=\"14\" fill=\"#009af9\" fill-rule=\"evenodd\" fill-opacity=\"1\" stroke=\"#000000\" stroke-opacity=\"1\" stroke-width=\"3.2\"/>\n",
       "<circle clip-path=\"url(#clip272)\" cx=\"443.674\" cy=\"106.615\" r=\"14\" fill=\"#009af9\" fill-rule=\"evenodd\" fill-opacity=\"1\" stroke=\"#000000\" stroke-opacity=\"1\" stroke-width=\"3.2\"/>\n",
       "<circle clip-path=\"url(#clip272)\" cx=\"530.507\" cy=\"118.513\" r=\"14\" fill=\"#009af9\" fill-rule=\"evenodd\" fill-opacity=\"1\" stroke=\"#000000\" stroke-opacity=\"1\" stroke-width=\"3.2\"/>\n",
       "<circle clip-path=\"url(#clip272)\" cx=\"1436.01\" cy=\"186.551\" r=\"14\" fill=\"#009af9\" fill-rule=\"evenodd\" fill-opacity=\"1\" stroke=\"#000000\" stroke-opacity=\"1\" stroke-width=\"3.2\"/>\n",
       "<circle clip-path=\"url(#clip272)\" cx=\"639.098\" cy=\"366.646\" r=\"14\" fill=\"#009af9\" fill-rule=\"evenodd\" fill-opacity=\"1\" stroke=\"#000000\" stroke-opacity=\"1\" stroke-width=\"3.2\"/>\n",
       "<circle clip-path=\"url(#clip272)\" cx=\"804.947\" cy=\"997.496\" r=\"14\" fill=\"#009af9\" fill-rule=\"evenodd\" fill-opacity=\"1\" stroke=\"#000000\" stroke-opacity=\"1\" stroke-width=\"3.2\"/>\n",
       "<circle clip-path=\"url(#clip272)\" cx=\"1831.59\" cy=\"968.459\" r=\"14\" fill=\"#009af9\" fill-rule=\"evenodd\" fill-opacity=\"1\" stroke=\"#000000\" stroke-opacity=\"1\" stroke-width=\"3.2\"/>\n",
       "<path clip-path=\"url(#clip270)\" d=\"\n",
       "M1987.85 216.178 L2280.32 216.178 L2280.32 95.2176 L1987.85 95.2176  Z\n",
       "  \" fill=\"#ffffff\" fill-rule=\"evenodd\" fill-opacity=\"1\"/>\n",
       "<polyline clip-path=\"url(#clip270)\" style=\"stroke:#000000; stroke-width:4; stroke-opacity:1; fill:none\" points=\"\n",
       "  1987.85,216.178 2280.32,216.178 2280.32,95.2176 1987.85,95.2176 1987.85,216.178 \n",
       "  \"/>\n",
       "<circle clip-path=\"url(#clip270)\" cx=\"2084.43\" cy=\"155.698\" r=\"23\" fill=\"#009af9\" fill-rule=\"evenodd\" fill-opacity=\"1\" stroke=\"#000000\" stroke-opacity=\"1\" stroke-width=\"5.12\"/>\n",
       "<path clip-path=\"url(#clip270)\" d=\"M 0 0 M2194.85 175.385 Q2193.05 180.015 2191.33 181.427 Q2189.62 182.839 2186.75 182.839 L2183.35 182.839 L2183.35 179.274 L2185.85 179.274 Q2187.61 179.274 2188.58 178.44 Q2189.55 177.607 2190.73 174.505 L2191.5 172.561 L2181.01 147.052 L2185.52 147.052 L2193.63 167.329 L2201.73 147.052 L2206.24 147.052 L2194.85 175.385 Z\" fill=\"#000000\" fill-rule=\"evenodd\" fill-opacity=\"1\" /><path clip-path=\"url(#clip270)\" d=\"M 0 0 M2212.12 169.042 L2219.76 169.042 L2219.76 142.677 L2211.45 144.343 L2211.45 140.084 L2219.71 138.418 L2224.39 138.418 L2224.39 169.042 L2232.03 169.042 L2232.03 172.978 L2212.12 172.978 L2212.12 169.042 Z\" fill=\"#000000\" fill-rule=\"evenodd\" fill-opacity=\"1\" /></svg>\n"
      ]
     },
     "execution_count": 34,
     "metadata": {},
     "output_type": "execute_result"
    }
   ],
   "source": [
    "scatter(dx, dy)"
   ]
  },
  {
   "cell_type": "code",
   "execution_count": 35,
   "metadata": {},
   "outputs": [
    {
     "data": {
      "text/plain": [
       "Chain(Dense(1, 50, σ), Dense(50, 50, σ), Dense(50, 1))"
      ]
     },
     "execution_count": 35,
     "metadata": {},
     "output_type": "execute_result"
    }
   ],
   "source": [
    "m = Chain(Dense(1,50,σ), Dense(50,50,σ), Dense(50,1))"
   ]
  },
  {
   "cell_type": "code",
   "execution_count": 43,
   "metadata": {},
   "outputs": [
    {
     "data": {
      "text/plain": [
       "loss (generic function with 1 method)"
      ]
     },
     "execution_count": 43,
     "metadata": {},
     "output_type": "execute_result"
    }
   ],
   "source": [
    "# loss(x, y) = Flux.mse(m(x), y)\n",
    "loss(x, y) = sum((m(x)-y).^2)"
   ]
  },
  {
   "cell_type": "code",
   "execution_count": 44,
   "metadata": {},
   "outputs": [
    {
     "data": {
      "text/plain": [
       "Params([Float32[-0.23488574; -0.10247667; … ; -0.1660573; -0.01819168], Float32[0.0, 0.0, 0.0, 0.0, 0.0, 0.0, 0.0, 0.0, 0.0, 0.0  …  0.0, 0.0, 0.0, 0.0, 0.0, 0.0, 0.0, 0.0, 0.0, 0.0], Float32[0.23161201 -0.13084577 … -0.18549907 -0.018999923; 0.18654875 -0.115110606 … -0.08183313 -0.09261887; … ; -0.12878564 -0.016604515 … -0.11319688 0.17116475; -0.15302198 -0.042052425 … 0.13397749 -0.21818909], Float32[0.0, 0.0, 0.0, 0.0, 0.0, 0.0, 0.0, 0.0, 0.0, 0.0  …  0.0, 0.0, 0.0, 0.0, 0.0, 0.0, 0.0, 0.0, 0.0, 0.0], Float32[-0.015388531 -0.10165686 … 0.005640071 -0.008079558], Float32[0.0]])"
      ]
     },
     "execution_count": 44,
     "metadata": {},
     "output_type": "execute_result"
    }
   ],
   "source": [
    "ps = Flux.params(m)"
   ]
  },
  {
   "cell_type": "code",
   "execution_count": 45,
   "metadata": {},
   "outputs": [
    {
     "data": {
      "text/plain": [
       "100-element Array{Tuple{SArray{Tuple{1},Float64,1,1},SArray{Tuple{1},Float64,1,1}},1}:\n",
       " ([0.6842729469297271], [0.7281087004974399])\n",
       " ([0.8267109416166469], [-0.8242264742713127])\n",
       " ([0.8542928497058087], [-0.9671562606711177])\n",
       " ([0.5106984629361975], [0.12879290940922938])\n",
       " ([0.8238236277405735], [-0.796036603747138])\n",
       " ([0.8650017040352855], [-0.9755840008659046])\n",
       " ([0.5193473392112968], [0.22796215943462356])\n",
       " ([0.21492892281800713], [0.4183161434773071])\n",
       " ([0.798242249442267], [-0.5617170843030479])\n",
       " ([0.19329395414698625], [0.6649734884200779])\n",
       " ([0.7831950255089082], [-0.40045665442040596])\n",
       " ([0.7081429456089885], [0.49012817454560886])\n",
       " ([0.38621814254596876], [-1.0024127671879128])\n",
       " ⋮\n",
       " ([0.9667879807758337], [-0.40942727060319034])\n",
       " ([0.005630674198066066], [0.0768191501117288])\n",
       " ([0.2784022755097535], [-0.35105658562356207])\n",
       " ([0.6716184327749128], [0.8312343243331386])\n",
       " ([0.4120855177126226], [-0.9098974927602826])\n",
       " ([0.9164173577366908], [-0.874504914656641])\n",
       " ([0.1035560758741012], [0.9816986168392243])\n",
       " ([0.1455435238742815], [0.9639920893888169])\n",
       " ([0.5833911818616659], [0.862737873727564])\n",
       " ([0.19805178225071707], [0.5947208351173677])\n",
       " ([0.27824670735097246], [-0.34410873045820856])\n",
       " ([0.7746718671148136], [-0.30089615657653584])"
      ]
     },
     "execution_count": 45,
     "metadata": {},
     "output_type": "execute_result"
    }
   ],
   "source": [
    "data = [(SVector(dx[i]), SVector(dy[i])) for i in 1:length(dx)]"
   ]
  },
  {
   "cell_type": "code",
   "execution_count": 46,
   "metadata": {
    "scrolled": false
   },
   "outputs": [
    {
     "data": {
      "text/plain": [
       "810"
      ]
     },
     "metadata": {},
     "output_type": "display_data"
    },
    {
     "data": {
      "image/svg+xml": [
       "<?xml version=\"1.0\" encoding=\"utf-8\"?>\n",
       "<svg xmlns=\"http://www.w3.org/2000/svg\" xmlns:xlink=\"http://www.w3.org/1999/xlink\" width=\"600\" height=\"400\" viewBox=\"0 0 2400 1600\">\n",
       "<defs>\n",
       "  <clipPath id=\"clip110\">\n",
       "    <rect x=\"0\" y=\"0\" width=\"2400\" height=\"1600\"/>\n",
       "  </clipPath>\n",
       "</defs>\n",
       "<path clip-path=\"url(#clip110)\" d=\"\n",
       "M0 1600 L2400 1600 L2400 0 L0 0  Z\n",
       "  \" fill=\"#ffffff\" fill-rule=\"evenodd\" fill-opacity=\"1\"/>\n",
       "<defs>\n",
       "  <clipPath id=\"clip111\">\n",
       "    <rect x=\"480\" y=\"0\" width=\"1681\" height=\"1600\"/>\n",
       "  </clipPath>\n",
       "</defs>\n",
       "<path clip-path=\"url(#clip110)\" d=\"\n",
       "M179.654 1486.45 L2352.76 1486.45 L2352.76 47.2441 L179.654 47.2441  Z\n",
       "  \" fill=\"#ffffff\" fill-rule=\"evenodd\" fill-opacity=\"1\"/>\n",
       "<defs>\n",
       "  <clipPath id=\"clip112\">\n",
       "    <rect x=\"179\" y=\"47\" width=\"2174\" height=\"1440\"/>\n",
       "  </clipPath>\n",
       "</defs>\n",
       "<polyline clip-path=\"url(#clip112)\" style=\"stroke:#000000; stroke-width:2; stroke-opacity:0.1; fill:none\" points=\"\n",
       "  229.512,1486.45 229.512,47.2441 \n",
       "  \"/>\n",
       "<polyline clip-path=\"url(#clip112)\" style=\"stroke:#000000; stroke-width:2; stroke-opacity:0.1; fill:none\" points=\"\n",
       "  746.531,1486.45 746.531,47.2441 \n",
       "  \"/>\n",
       "<polyline clip-path=\"url(#clip112)\" style=\"stroke:#000000; stroke-width:2; stroke-opacity:0.1; fill:none\" points=\"\n",
       "  1263.55,1486.45 1263.55,47.2441 \n",
       "  \"/>\n",
       "<polyline clip-path=\"url(#clip112)\" style=\"stroke:#000000; stroke-width:2; stroke-opacity:0.1; fill:none\" points=\"\n",
       "  1780.57,1486.45 1780.57,47.2441 \n",
       "  \"/>\n",
       "<polyline clip-path=\"url(#clip112)\" style=\"stroke:#000000; stroke-width:2; stroke-opacity:0.1; fill:none\" points=\"\n",
       "  2297.59,1486.45 2297.59,47.2441 \n",
       "  \"/>\n",
       "<polyline clip-path=\"url(#clip110)\" style=\"stroke:#000000; stroke-width:4; stroke-opacity:1; fill:none\" points=\"\n",
       "  179.654,1486.45 2352.76,1486.45 \n",
       "  \"/>\n",
       "<polyline clip-path=\"url(#clip110)\" style=\"stroke:#000000; stroke-width:4; stroke-opacity:1; fill:none\" points=\"\n",
       "  229.512,1486.45 229.512,1469.18 \n",
       "  \"/>\n",
       "<polyline clip-path=\"url(#clip110)\" style=\"stroke:#000000; stroke-width:4; stroke-opacity:1; fill:none\" points=\"\n",
       "  746.531,1486.45 746.531,1469.18 \n",
       "  \"/>\n",
       "<polyline clip-path=\"url(#clip110)\" style=\"stroke:#000000; stroke-width:4; stroke-opacity:1; fill:none\" points=\"\n",
       "  1263.55,1486.45 1263.55,1469.18 \n",
       "  \"/>\n",
       "<polyline clip-path=\"url(#clip110)\" style=\"stroke:#000000; stroke-width:4; stroke-opacity:1; fill:none\" points=\"\n",
       "  1780.57,1486.45 1780.57,1469.18 \n",
       "  \"/>\n",
       "<polyline clip-path=\"url(#clip110)\" style=\"stroke:#000000; stroke-width:4; stroke-opacity:1; fill:none\" points=\"\n",
       "  2297.59,1486.45 2297.59,1469.18 \n",
       "  \"/>\n",
       "<path clip-path=\"url(#clip110)\" d=\"M 0 0 M197.521 1515.64 Q193.91 1515.64 192.082 1519.2 Q190.276 1522.75 190.276 1529.87 Q190.276 1536.98 192.082 1540.55 Q193.91 1544.09 197.521 1544.09 Q201.156 1544.09 202.961 1540.55 Q204.79 1536.98 204.79 1529.87 Q204.79 1522.75 202.961 1519.2 Q201.156 1515.64 197.521 1515.64 M197.521 1511.93 Q203.331 1511.93 206.387 1516.54 Q209.466 1521.12 209.466 1529.87 Q209.466 1538.6 206.387 1543.21 Q203.331 1547.79 197.521 1547.79 Q191.711 1547.79 188.632 1543.21 Q185.577 1538.6 185.577 1529.87 Q185.577 1521.12 188.632 1516.54 Q191.711 1511.93 197.521 1511.93 Z\" fill=\"#000000\" fill-rule=\"evenodd\" fill-opacity=\"1\" /><path clip-path=\"url(#clip110)\" d=\"M 0 0 M214.535 1541.24 L219.419 1541.24 L219.419 1547.12 L214.535 1547.12 L214.535 1541.24 Z\" fill=\"#000000\" fill-rule=\"evenodd\" fill-opacity=\"1\" /><path clip-path=\"url(#clip110)\" d=\"M 0 0 M234.489 1515.64 Q230.878 1515.64 229.049 1519.2 Q227.243 1522.75 227.243 1529.87 Q227.243 1536.98 229.049 1540.55 Q230.878 1544.09 234.489 1544.09 Q238.123 1544.09 239.929 1540.55 Q241.757 1536.98 241.757 1529.87 Q241.757 1522.75 239.929 1519.2 Q238.123 1515.64 234.489 1515.64 M234.489 1511.93 Q240.299 1511.93 243.354 1516.54 Q246.433 1521.12 246.433 1529.87 Q246.433 1538.6 243.354 1543.21 Q240.299 1547.79 234.489 1547.79 Q228.679 1547.79 225.6 1543.21 Q222.544 1538.6 222.544 1529.87 Q222.544 1521.12 225.6 1516.54 Q228.679 1511.93 234.489 1511.93 Z\" fill=\"#000000\" fill-rule=\"evenodd\" fill-opacity=\"1\" /><path clip-path=\"url(#clip110)\" d=\"M 0 0 M261.502 1515.64 Q257.891 1515.64 256.063 1519.2 Q254.257 1522.75 254.257 1529.87 Q254.257 1536.98 256.063 1540.55 Q257.891 1544.09 261.502 1544.09 Q265.137 1544.09 266.942 1540.55 Q268.771 1536.98 268.771 1529.87 Q268.771 1522.75 266.942 1519.2 Q265.137 1515.64 261.502 1515.64 M261.502 1511.93 Q267.313 1511.93 270.368 1516.54 Q273.447 1521.12 273.447 1529.87 Q273.447 1538.6 270.368 1543.21 Q267.313 1547.79 261.502 1547.79 Q255.692 1547.79 252.614 1543.21 Q249.558 1538.6 249.558 1529.87 Q249.558 1521.12 252.614 1516.54 Q255.692 1511.93 261.502 1511.93 Z\" fill=\"#000000\" fill-rule=\"evenodd\" fill-opacity=\"1\" /><path clip-path=\"url(#clip110)\" d=\"M 0 0 M715.836 1515.64 Q712.225 1515.64 710.396 1519.2 Q708.591 1522.75 708.591 1529.87 Q708.591 1536.98 710.396 1540.55 Q712.225 1544.09 715.836 1544.09 Q719.47 1544.09 721.276 1540.55 Q723.105 1536.98 723.105 1529.87 Q723.105 1522.75 721.276 1519.2 Q719.47 1515.64 715.836 1515.64 M715.836 1511.93 Q721.646 1511.93 724.702 1516.54 Q727.781 1521.12 727.781 1529.87 Q727.781 1538.6 724.702 1543.21 Q721.646 1547.79 715.836 1547.79 Q710.026 1547.79 706.947 1543.21 Q703.892 1538.6 703.892 1529.87 Q703.892 1521.12 706.947 1516.54 Q710.026 1511.93 715.836 1511.93 Z\" fill=\"#000000\" fill-rule=\"evenodd\" fill-opacity=\"1\" /><path clip-path=\"url(#clip110)\" d=\"M 0 0 M732.85 1541.24 L737.734 1541.24 L737.734 1547.12 L732.85 1547.12 L732.85 1541.24 Z\" fill=\"#000000\" fill-rule=\"evenodd\" fill-opacity=\"1\" /><path clip-path=\"url(#clip110)\" d=\"M 0 0 M746.831 1543.18 L763.151 1543.18 L763.151 1547.12 L741.206 1547.12 L741.206 1543.18 Q743.868 1540.43 748.452 1535.8 Q753.058 1531.15 754.239 1529.81 Q756.484 1527.28 757.364 1525.55 Q758.267 1523.79 758.267 1522.1 Q758.267 1519.34 756.322 1517.61 Q754.401 1515.87 751.299 1515.87 Q749.1 1515.87 746.646 1516.63 Q744.216 1517.4 741.438 1518.95 L741.438 1514.23 Q744.262 1513.09 746.716 1512.51 Q749.169 1511.93 751.206 1511.93 Q756.577 1511.93 759.771 1514.62 Q762.966 1517.31 762.966 1521.8 Q762.966 1523.93 762.155 1525.85 Q761.368 1527.74 759.262 1530.34 Q758.683 1531.01 755.581 1534.23 Q752.48 1537.42 746.831 1543.18 Z\" fill=\"#000000\" fill-rule=\"evenodd\" fill-opacity=\"1\" /><path clip-path=\"url(#clip110)\" d=\"M 0 0 M768.266 1512.56 L786.623 1512.56 L786.623 1516.5 L772.549 1516.5 L772.549 1524.97 Q773.567 1524.62 774.586 1524.46 Q775.604 1524.27 776.623 1524.27 Q782.41 1524.27 785.79 1527.44 Q789.169 1530.62 789.169 1536.03 Q789.169 1541.61 785.697 1544.71 Q782.225 1547.79 775.905 1547.79 Q773.729 1547.79 771.461 1547.42 Q769.216 1547.05 766.808 1546.31 L766.808 1541.61 Q768.891 1542.74 771.114 1543.3 Q773.336 1543.86 775.813 1543.86 Q779.817 1543.86 782.155 1541.75 Q784.493 1539.64 784.493 1536.03 Q784.493 1532.42 782.155 1530.31 Q779.817 1528.21 775.813 1528.21 Q773.938 1528.21 772.063 1528.62 Q770.211 1529.04 768.266 1529.92 L768.266 1512.56 Z\" fill=\"#000000\" fill-rule=\"evenodd\" fill-opacity=\"1\" /><path clip-path=\"url(#clip110)\" d=\"M 0 0 M1232.06 1515.64 Q1228.45 1515.64 1226.62 1519.2 Q1224.81 1522.75 1224.81 1529.87 Q1224.81 1536.98 1226.62 1540.55 Q1228.45 1544.09 1232.06 1544.09 Q1235.69 1544.09 1237.5 1540.55 Q1239.32 1536.98 1239.32 1529.87 Q1239.32 1522.75 1237.5 1519.2 Q1235.69 1515.64 1232.06 1515.64 M1232.06 1511.93 Q1237.87 1511.93 1240.92 1516.54 Q1244 1521.12 1244 1529.87 Q1244 1538.6 1240.92 1543.21 Q1237.87 1547.79 1232.06 1547.79 Q1226.25 1547.79 1223.17 1543.21 Q1220.11 1538.6 1220.11 1529.87 Q1220.11 1521.12 1223.17 1516.54 Q1226.25 1511.93 1232.06 1511.93 Z\" fill=\"#000000\" fill-rule=\"evenodd\" fill-opacity=\"1\" /><path clip-path=\"url(#clip110)\" d=\"M 0 0 M1249.07 1541.24 L1253.95 1541.24 L1253.95 1547.12 L1249.07 1547.12 L1249.07 1541.24 Z\" fill=\"#000000\" fill-rule=\"evenodd\" fill-opacity=\"1\" /><path clip-path=\"url(#clip110)\" d=\"M 0 0 M1259.07 1512.56 L1277.43 1512.56 L1277.43 1516.5 L1263.35 1516.5 L1263.35 1524.97 Q1264.37 1524.62 1265.39 1524.46 Q1266.41 1524.27 1267.43 1524.27 Q1273.21 1524.27 1276.59 1527.44 Q1279.97 1530.62 1279.97 1536.03 Q1279.97 1541.61 1276.5 1544.71 Q1273.03 1547.79 1266.71 1547.79 Q1264.53 1547.79 1262.26 1547.42 Q1260.02 1547.05 1257.61 1546.31 L1257.61 1541.61 Q1259.69 1542.74 1261.92 1543.3 Q1264.14 1543.86 1266.62 1543.86 Q1270.62 1543.86 1272.96 1541.75 Q1275.3 1539.64 1275.3 1536.03 Q1275.3 1532.42 1272.96 1530.31 Q1270.62 1528.21 1266.62 1528.21 Q1264.74 1528.21 1262.87 1528.62 Q1261.01 1529.04 1259.07 1529.92 L1259.07 1512.56 Z\" fill=\"#000000\" fill-rule=\"evenodd\" fill-opacity=\"1\" /><path clip-path=\"url(#clip110)\" d=\"M 0 0 M1295.04 1515.64 Q1291.43 1515.64 1289.6 1519.2 Q1287.8 1522.75 1287.8 1529.87 Q1287.8 1536.98 1289.6 1540.55 Q1291.43 1544.09 1295.04 1544.09 Q1298.68 1544.09 1300.48 1540.55 Q1302.31 1536.98 1302.31 1529.87 Q1302.31 1522.75 1300.48 1519.2 Q1298.68 1515.64 1295.04 1515.64 M1295.04 1511.93 Q1300.85 1511.93 1303.91 1516.54 Q1306.99 1521.12 1306.99 1529.87 Q1306.99 1538.6 1303.91 1543.21 Q1300.85 1547.79 1295.04 1547.79 Q1289.23 1547.79 1286.15 1543.21 Q1283.1 1538.6 1283.1 1529.87 Q1283.1 1521.12 1286.15 1516.54 Q1289.23 1511.93 1295.04 1511.93 Z\" fill=\"#000000\" fill-rule=\"evenodd\" fill-opacity=\"1\" /><path clip-path=\"url(#clip110)\" d=\"M 0 0 M1749.53 1515.64 Q1745.92 1515.64 1744.09 1519.2 Q1742.28 1522.75 1742.28 1529.87 Q1742.28 1536.98 1744.09 1540.55 Q1745.92 1544.09 1749.53 1544.09 Q1753.16 1544.09 1754.97 1540.55 Q1756.79 1536.98 1756.79 1529.87 Q1756.79 1522.75 1754.97 1519.2 Q1753.16 1515.64 1749.53 1515.64 M1749.53 1511.93 Q1755.34 1511.93 1758.39 1516.54 Q1761.47 1521.12 1761.47 1529.87 Q1761.47 1538.6 1758.39 1543.21 Q1755.34 1547.79 1749.53 1547.79 Q1743.72 1547.79 1740.64 1543.21 Q1737.58 1538.6 1737.58 1529.87 Q1737.58 1521.12 1740.64 1516.54 Q1743.72 1511.93 1749.53 1511.93 Z\" fill=\"#000000\" fill-rule=\"evenodd\" fill-opacity=\"1\" /><path clip-path=\"url(#clip110)\" d=\"M 0 0 M1766.54 1541.24 L1771.42 1541.24 L1771.42 1547.12 L1766.54 1547.12 L1766.54 1541.24 Z\" fill=\"#000000\" fill-rule=\"evenodd\" fill-opacity=\"1\" /><path clip-path=\"url(#clip110)\" d=\"M 0 0 M1775.31 1512.56 L1797.54 1512.56 L1797.54 1514.55 L1784.99 1547.12 L1780.1 1547.12 L1791.91 1516.5 L1775.31 1516.5 L1775.31 1512.56 Z\" fill=\"#000000\" fill-rule=\"evenodd\" fill-opacity=\"1\" /><path clip-path=\"url(#clip110)\" d=\"M 0 0 M1802.65 1512.56 L1821.01 1512.56 L1821.01 1516.5 L1806.93 1516.5 L1806.93 1524.97 Q1807.95 1524.62 1808.97 1524.46 Q1809.99 1524.27 1811.01 1524.27 Q1816.79 1524.27 1820.17 1527.44 Q1823.55 1530.62 1823.55 1536.03 Q1823.55 1541.61 1820.08 1544.71 Q1816.61 1547.79 1810.29 1547.79 Q1808.11 1547.79 1805.85 1547.42 Q1803.6 1547.05 1801.19 1546.31 L1801.19 1541.61 Q1803.28 1542.74 1805.5 1543.3 Q1807.72 1543.86 1810.2 1543.86 Q1814.2 1543.86 1816.54 1541.75 Q1818.88 1539.64 1818.88 1536.03 Q1818.88 1532.42 1816.54 1530.31 Q1814.2 1528.21 1810.2 1528.21 Q1808.32 1528.21 1806.45 1528.62 Q1804.6 1529.04 1802.65 1529.92 L1802.65 1512.56 Z\" fill=\"#000000\" fill-rule=\"evenodd\" fill-opacity=\"1\" /><path clip-path=\"url(#clip110)\" d=\"M 0 0 M2255.98 1543.18 L2263.62 1543.18 L2263.62 1516.82 L2255.31 1518.49 L2255.31 1514.23 L2263.57 1512.56 L2268.25 1512.56 L2268.25 1543.18 L2275.89 1543.18 L2275.89 1547.12 L2255.98 1547.12 L2255.98 1543.18 Z\" fill=\"#000000\" fill-rule=\"evenodd\" fill-opacity=\"1\" /><path clip-path=\"url(#clip110)\" d=\"M 0 0 M2280.95 1541.24 L2285.84 1541.24 L2285.84 1547.12 L2280.95 1547.12 L2280.95 1541.24 Z\" fill=\"#000000\" fill-rule=\"evenodd\" fill-opacity=\"1\" /><path clip-path=\"url(#clip110)\" d=\"M 0 0 M2300.91 1515.64 Q2297.3 1515.64 2295.47 1519.2 Q2293.66 1522.75 2293.66 1529.87 Q2293.66 1536.98 2295.47 1540.55 Q2297.3 1544.09 2300.91 1544.09 Q2304.54 1544.09 2306.35 1540.55 Q2308.18 1536.98 2308.18 1529.87 Q2308.18 1522.75 2306.35 1519.2 Q2304.54 1515.64 2300.91 1515.64 M2300.91 1511.93 Q2306.72 1511.93 2309.77 1516.54 Q2312.85 1521.12 2312.85 1529.87 Q2312.85 1538.6 2309.77 1543.21 Q2306.72 1547.79 2300.91 1547.79 Q2295.1 1547.79 2292.02 1543.21 Q2288.96 1538.6 2288.96 1529.87 Q2288.96 1521.12 2292.02 1516.54 Q2295.1 1511.93 2300.91 1511.93 Z\" fill=\"#000000\" fill-rule=\"evenodd\" fill-opacity=\"1\" /><path clip-path=\"url(#clip110)\" d=\"M 0 0 M2327.92 1515.64 Q2324.31 1515.64 2322.48 1519.2 Q2320.68 1522.75 2320.68 1529.87 Q2320.68 1536.98 2322.48 1540.55 Q2324.31 1544.09 2327.92 1544.09 Q2331.56 1544.09 2333.36 1540.55 Q2335.19 1536.98 2335.19 1529.87 Q2335.19 1522.75 2333.36 1519.2 Q2331.56 1515.64 2327.92 1515.64 M2327.92 1511.93 Q2333.73 1511.93 2336.79 1516.54 Q2339.87 1521.12 2339.87 1529.87 Q2339.87 1538.6 2336.79 1543.21 Q2333.73 1547.79 2327.92 1547.79 Q2322.11 1547.79 2319.03 1543.21 Q2315.98 1538.6 2315.98 1529.87 Q2315.98 1521.12 2319.03 1516.54 Q2322.11 1511.93 2327.92 1511.93 Z\" fill=\"#000000\" fill-rule=\"evenodd\" fill-opacity=\"1\" /><polyline clip-path=\"url(#clip112)\" style=\"stroke:#000000; stroke-width:2; stroke-opacity:0.1; fill:none\" points=\"\n",
       "  179.654,1445.81 2352.76,1445.81 \n",
       "  \"/>\n",
       "<polyline clip-path=\"url(#clip112)\" style=\"stroke:#000000; stroke-width:2; stroke-opacity:0.1; fill:none\" points=\"\n",
       "  179.654,1117.69 2352.76,1117.69 \n",
       "  \"/>\n",
       "<polyline clip-path=\"url(#clip112)\" style=\"stroke:#000000; stroke-width:2; stroke-opacity:0.1; fill:none\" points=\"\n",
       "  179.654,789.565 2352.76,789.565 \n",
       "  \"/>\n",
       "<polyline clip-path=\"url(#clip112)\" style=\"stroke:#000000; stroke-width:2; stroke-opacity:0.1; fill:none\" points=\"\n",
       "  179.654,461.444 2352.76,461.444 \n",
       "  \"/>\n",
       "<polyline clip-path=\"url(#clip112)\" style=\"stroke:#000000; stroke-width:2; stroke-opacity:0.1; fill:none\" points=\"\n",
       "  179.654,133.323 2352.76,133.323 \n",
       "  \"/>\n",
       "<polyline clip-path=\"url(#clip110)\" style=\"stroke:#000000; stroke-width:4; stroke-opacity:1; fill:none\" points=\"\n",
       "  179.654,1486.45 179.654,47.2441 \n",
       "  \"/>\n",
       "<polyline clip-path=\"url(#clip110)\" style=\"stroke:#000000; stroke-width:4; stroke-opacity:1; fill:none\" points=\"\n",
       "  179.654,1445.81 205.731,1445.81 \n",
       "  \"/>\n",
       "<polyline clip-path=\"url(#clip110)\" style=\"stroke:#000000; stroke-width:4; stroke-opacity:1; fill:none\" points=\"\n",
       "  179.654,1117.69 205.731,1117.69 \n",
       "  \"/>\n",
       "<polyline clip-path=\"url(#clip110)\" style=\"stroke:#000000; stroke-width:4; stroke-opacity:1; fill:none\" points=\"\n",
       "  179.654,789.565 205.731,789.565 \n",
       "  \"/>\n",
       "<polyline clip-path=\"url(#clip110)\" style=\"stroke:#000000; stroke-width:4; stroke-opacity:1; fill:none\" points=\"\n",
       "  179.654,461.444 205.731,461.444 \n",
       "  \"/>\n",
       "<polyline clip-path=\"url(#clip110)\" style=\"stroke:#000000; stroke-width:4; stroke-opacity:1; fill:none\" points=\"\n",
       "  179.654,133.323 205.731,133.323 \n",
       "  \"/>\n",
       "<path clip-path=\"url(#clip110)\" d=\"M 0 0 M51.2236 1446.26 L80.8994 1446.26 L80.8994 1450.19 L51.2236 1450.19 L51.2236 1446.26 Z\" fill=\"#000000\" fill-rule=\"evenodd\" fill-opacity=\"1\" /><path clip-path=\"url(#clip110)\" d=\"M 0 0 M86.779 1459.15 L94.4178 1459.15 L94.4178 1432.79 L86.1077 1434.45 L86.1077 1430.19 L94.3715 1428.53 L99.0474 1428.53 L99.0474 1459.15 L106.686 1459.15 L106.686 1463.09 L86.779 1463.09 L86.779 1459.15 Z\" fill=\"#000000\" fill-rule=\"evenodd\" fill-opacity=\"1\" /><path clip-path=\"url(#clip110)\" d=\"M 0 0 M111.756 1457.21 L116.64 1457.21 L116.64 1463.09 L111.756 1463.09 L111.756 1457.21 Z\" fill=\"#000000\" fill-rule=\"evenodd\" fill-opacity=\"1\" /><path clip-path=\"url(#clip110)\" d=\"M 0 0 M131.709 1431.6 Q128.098 1431.6 126.27 1435.17 Q124.464 1438.71 124.464 1445.84 Q124.464 1452.95 126.27 1456.51 Q128.098 1460.05 131.709 1460.05 Q135.344 1460.05 137.149 1456.51 Q138.978 1452.95 138.978 1445.84 Q138.978 1438.71 137.149 1435.17 Q135.344 1431.6 131.709 1431.6 M131.709 1427.9 Q137.519 1427.9 140.575 1432.51 Q143.654 1437.09 143.654 1445.84 Q143.654 1454.57 140.575 1459.17 Q137.519 1463.76 131.709 1463.76 Q125.899 1463.76 122.82 1459.17 Q119.765 1454.57 119.765 1445.84 Q119.765 1437.09 122.82 1432.51 Q125.899 1427.9 131.709 1427.9 Z\" fill=\"#000000\" fill-rule=\"evenodd\" fill-opacity=\"1\" /><path clip-path=\"url(#clip110)\" d=\"M 0 0 M50.9921 1118.14 L80.6679 1118.14 L80.6679 1122.07 L50.9921 1122.07 L50.9921 1118.14 Z\" fill=\"#000000\" fill-rule=\"evenodd\" fill-opacity=\"1\" /><path clip-path=\"url(#clip110)\" d=\"M 0 0 M95.7373 1103.48 Q92.1262 1103.48 90.2975 1107.05 Q88.4919 1110.59 88.4919 1117.72 Q88.4919 1124.83 90.2975 1128.39 Q92.1262 1131.93 95.7373 1131.93 Q99.3715 1131.93 101.177 1128.39 Q103.006 1124.83 103.006 1117.72 Q103.006 1110.59 101.177 1107.05 Q99.3715 1103.48 95.7373 1103.48 M95.7373 1099.78 Q101.547 1099.78 104.603 1104.39 Q107.682 1108.97 107.682 1117.72 Q107.682 1126.45 104.603 1131.05 Q101.547 1135.64 95.7373 1135.64 Q89.9271 1135.64 86.8484 1131.05 Q83.7929 1126.45 83.7929 1117.72 Q83.7929 1108.97 86.8484 1104.39 Q89.9271 1099.78 95.7373 1099.78 Z\" fill=\"#000000\" fill-rule=\"evenodd\" fill-opacity=\"1\" /><path clip-path=\"url(#clip110)\" d=\"M 0 0 M112.751 1129.09 L117.635 1129.09 L117.635 1134.97 L112.751 1134.97 L112.751 1129.09 Z\" fill=\"#000000\" fill-rule=\"evenodd\" fill-opacity=\"1\" /><path clip-path=\"url(#clip110)\" d=\"M 0 0 M122.751 1100.41 L141.107 1100.41 L141.107 1104.34 L127.033 1104.34 L127.033 1112.81 Q128.052 1112.47 129.07 1112.3 Q130.089 1112.12 131.107 1112.12 Q136.894 1112.12 140.274 1115.29 Q143.654 1118.46 143.654 1123.88 Q143.654 1129.46 140.181 1132.56 Q136.709 1135.64 130.39 1135.64 Q128.214 1135.64 125.945 1135.27 Q123.7 1134.9 121.293 1134.16 L121.293 1129.46 Q123.376 1130.59 125.598 1131.15 Q127.82 1131.7 130.297 1131.7 Q134.302 1131.7 136.64 1129.6 Q138.978 1127.49 138.978 1123.88 Q138.978 1120.27 136.64 1118.16 Q134.302 1116.05 130.297 1116.05 Q128.422 1116.05 126.547 1116.47 Q124.695 1116.89 122.751 1117.77 L122.751 1100.41 Z\" fill=\"#000000\" fill-rule=\"evenodd\" fill-opacity=\"1\" /><path clip-path=\"url(#clip110)\" d=\"M 0 0 M94.7419 775.363 Q91.1308 775.363 89.3021 778.928 Q87.4966 782.47 87.4966 789.599 Q87.4966 796.706 89.3021 800.271 Q91.1308 803.812 94.7419 803.812 Q98.3761 803.812 100.182 800.271 Q102.01 796.706 102.01 789.599 Q102.01 782.47 100.182 778.928 Q98.3761 775.363 94.7419 775.363 M94.7419 771.66 Q100.552 771.66 103.608 776.266 Q106.686 780.849 106.686 789.599 Q106.686 798.326 103.608 802.933 Q100.552 807.516 94.7419 807.516 Q88.9317 807.516 85.8531 802.933 Q82.7975 798.326 82.7975 789.599 Q82.7975 780.849 85.8531 776.266 Q88.9317 771.66 94.7419 771.66 Z\" fill=\"#000000\" fill-rule=\"evenodd\" fill-opacity=\"1\" /><path clip-path=\"url(#clip110)\" d=\"M 0 0 M111.756 800.965 L116.64 800.965 L116.64 806.845 L111.756 806.845 L111.756 800.965 Z\" fill=\"#000000\" fill-rule=\"evenodd\" fill-opacity=\"1\" /><path clip-path=\"url(#clip110)\" d=\"M 0 0 M131.709 775.363 Q128.098 775.363 126.27 778.928 Q124.464 782.47 124.464 789.599 Q124.464 796.706 126.27 800.271 Q128.098 803.812 131.709 803.812 Q135.344 803.812 137.149 800.271 Q138.978 796.706 138.978 789.599 Q138.978 782.47 137.149 778.928 Q135.344 775.363 131.709 775.363 M131.709 771.66 Q137.519 771.66 140.575 776.266 Q143.654 780.849 143.654 789.599 Q143.654 798.326 140.575 802.933 Q137.519 807.516 131.709 807.516 Q125.899 807.516 122.82 802.933 Q119.765 798.326 119.765 789.599 Q119.765 780.849 122.82 776.266 Q125.899 771.66 131.709 771.66 Z\" fill=\"#000000\" fill-rule=\"evenodd\" fill-opacity=\"1\" /><path clip-path=\"url(#clip110)\" d=\"M 0 0 M95.7373 447.243 Q92.1262 447.243 90.2975 450.807 Q88.4919 454.349 88.4919 461.479 Q88.4919 468.585 90.2975 472.15 Q92.1262 475.691 95.7373 475.691 Q99.3715 475.691 101.177 472.15 Q103.006 468.585 103.006 461.479 Q103.006 454.349 101.177 450.807 Q99.3715 447.243 95.7373 447.243 M95.7373 443.539 Q101.547 443.539 104.603 448.145 Q107.682 452.729 107.682 461.479 Q107.682 470.205 104.603 474.812 Q101.547 479.395 95.7373 479.395 Q89.9271 479.395 86.8484 474.812 Q83.7929 470.205 83.7929 461.479 Q83.7929 452.729 86.8484 448.145 Q89.9271 443.539 95.7373 443.539 Z\" fill=\"#000000\" fill-rule=\"evenodd\" fill-opacity=\"1\" /><path clip-path=\"url(#clip110)\" d=\"M 0 0 M112.751 472.844 L117.635 472.844 L117.635 478.724 L112.751 478.724 L112.751 472.844 Z\" fill=\"#000000\" fill-rule=\"evenodd\" fill-opacity=\"1\" /><path clip-path=\"url(#clip110)\" d=\"M 0 0 M122.751 444.164 L141.107 444.164 L141.107 448.099 L127.033 448.099 L127.033 456.571 Q128.052 456.224 129.07 456.062 Q130.089 455.877 131.107 455.877 Q136.894 455.877 140.274 459.048 Q143.654 462.219 143.654 467.636 Q143.654 473.215 140.181 476.316 Q136.709 479.395 130.39 479.395 Q128.214 479.395 125.945 479.025 Q123.7 478.654 121.293 477.914 L121.293 473.215 Q123.376 474.349 125.598 474.904 Q127.82 475.46 130.297 475.46 Q134.302 475.46 136.64 473.353 Q138.978 471.247 138.978 467.636 Q138.978 464.025 136.64 461.918 Q134.302 459.812 130.297 459.812 Q128.422 459.812 126.547 460.229 Q124.695 460.645 122.751 461.525 L122.751 444.164 Z\" fill=\"#000000\" fill-rule=\"evenodd\" fill-opacity=\"1\" /><path clip-path=\"url(#clip110)\" d=\"M 0 0 M86.779 146.668 L94.4178 146.668 L94.4178 120.302 L86.1077 121.969 L86.1077 117.71 L94.3715 116.043 L99.0474 116.043 L99.0474 146.668 L106.686 146.668 L106.686 150.603 L86.779 150.603 L86.779 146.668 Z\" fill=\"#000000\" fill-rule=\"evenodd\" fill-opacity=\"1\" /><path clip-path=\"url(#clip110)\" d=\"M 0 0 M111.756 144.723 L116.64 144.723 L116.64 150.603 L111.756 150.603 L111.756 144.723 Z\" fill=\"#000000\" fill-rule=\"evenodd\" fill-opacity=\"1\" /><path clip-path=\"url(#clip110)\" d=\"M 0 0 M131.709 119.122 Q128.098 119.122 126.27 122.686 Q124.464 126.228 124.464 133.358 Q124.464 140.464 126.27 144.029 Q128.098 147.571 131.709 147.571 Q135.344 147.571 137.149 144.029 Q138.978 140.464 138.978 133.358 Q138.978 126.228 137.149 122.686 Q135.344 119.122 131.709 119.122 M131.709 115.418 Q137.519 115.418 140.575 120.024 Q143.654 124.608 143.654 133.358 Q143.654 142.085 140.575 146.691 Q137.519 151.274 131.709 151.274 Q125.899 151.274 122.82 146.691 Q119.765 142.085 119.765 133.358 Q119.765 124.608 122.82 120.024 Q125.899 115.418 131.709 115.418 Z\" fill=\"#000000\" fill-rule=\"evenodd\" fill-opacity=\"1\" /><polyline clip-path=\"url(#clip112)\" style=\"stroke:#009af9; stroke-width:4; stroke-opacity:1; fill:none\" points=\"\n",
       "  241.157,743.17 242.2,739.022 263.014,656.895 290.443,552.111 300.232,516.162 316.494,458.642 356.482,332.019 358.321,326.79 397.1,230.951 433.222,169.369 \n",
       "  443.674,157.006 530.507,155.07 531.926,156.538 544.587,171.707 549.107,178.013 576.737,226.386 629.258,360.517 633.708,374.097 639.098,390.955 671.37,500.167 \n",
       "  674.001,509.62 674.505,511.44 721.463,689.992 795.217,980.885 804.947,1017.64 805.269,1018.84 927.878,1374.99 930.53,1379.69 1028.24,1439.3 1029.23,1438.73 \n",
       "  1052.75,1418.42 1081.74,1375.82 1082.09,1375.18 1092.9,1354.49 1100.62,1338.21 1124.36,1280.75 1136.81,1246.45 1142.08,1231.12 1144.29,1224.57 1159.25,1178.18 \n",
       "  1166.12,1155.78 1175.01,1125.82 1176.45,1120.88 1197.51,1045.9 1232.53,912.525 1254.54,825.476 1262,795.754 1263.64,789.186 1281.93,716.43 1285.67,701.604 \n",
       "  1294.7,666.072 1300.27,644.352 1303.56,631.583 1355.07,443.152 1384.11,350.669 1436.01,221.004 1478.57,156.099 1496.21,141.399 1505.98,136.453 1533.89,135.018 \n",
       "  1536.91,135.995 1541.18,137.75 1555.19,146.578 1616.63,238.736 1618.47,242.747 1625.93,259.745 1644.64,307.101 1663.16,360.098 1692.22,453.959 1694,460.085 \n",
       "  1700.08,481.241 1787.36,816.632 1788.02,819.279 1831.59,989.779 1846.16,1044.24 1849.22,1055.44 1850.39,1059.69 1880.34,1163.47 1896.55,1214.72 1933.24,1314.72 \n",
       "  1939.21,1328.65 1968.19,1385.86 1987.54,1413.89 1996.25,1423.71 2004.86,1431.67 2005.84,1432.47 2018.4,1440.63 2026.48,1443.88 2041.81,1445.72 2122.39,1363.5 \n",
       "  2124.73,1358.91 2166.81,1257.88 2168.11,1254.22 2199.68,1157.35 2202.34,1148.52 2228.9,1055.57 2247.92,984.607 2254.75,958.453 2273.91,883.645 2291.25,814.813 \n",
       "  \n",
       "  \"/>\n",
       "<circle clip-path=\"url(#clip112)\" cx=\"1644.64\" cy=\"270.154\" r=\"14\" fill=\"#e26f46\" fill-rule=\"evenodd\" fill-opacity=\"1\" stroke=\"#000000\" stroke-opacity=\"1\" stroke-width=\"3.2\"/>\n",
       "<circle clip-path=\"url(#clip112)\" cx=\"1939.21\" cy=\"1270\" r=\"14\" fill=\"#e26f46\" fill-rule=\"evenodd\" fill-opacity=\"1\" stroke=\"#000000\" stroke-opacity=\"1\" stroke-width=\"3.2\"/>\n",
       "<circle clip-path=\"url(#clip112)\" cx=\"1996.25\" cy=\"1374.41\" r=\"14\" fill=\"#e26f46\" fill-rule=\"evenodd\" fill-opacity=\"1\" stroke=\"#000000\" stroke-opacity=\"1\" stroke-width=\"3.2\"/>\n",
       "<circle clip-path=\"url(#clip112)\" cx=\"1285.67\" cy=\"697.497\" r=\"14\" fill=\"#e26f46\" fill-rule=\"evenodd\" fill-opacity=\"1\" stroke=\"#000000\" stroke-opacity=\"1\" stroke-width=\"3.2\"/>\n",
       "<circle clip-path=\"url(#clip112)\" cx=\"1933.24\" cy=\"1257.95\" r=\"14\" fill=\"#e26f46\" fill-rule=\"evenodd\" fill-opacity=\"1\" stroke=\"#000000\" stroke-opacity=\"1\" stroke-width=\"3.2\"/>\n",
       "<circle clip-path=\"url(#clip112)\" cx=\"2018.4\" cy=\"1388.74\" r=\"14\" fill=\"#e26f46\" fill-rule=\"evenodd\" fill-opacity=\"1\" stroke=\"#000000\" stroke-opacity=\"1\" stroke-width=\"3.2\"/>\n",
       "<circle clip-path=\"url(#clip112)\" cx=\"1303.56\" cy=\"624.527\" r=\"14\" fill=\"#e26f46\" fill-rule=\"evenodd\" fill-opacity=\"1\" stroke=\"#000000\" stroke-opacity=\"1\" stroke-width=\"3.2\"/>\n",
       "<circle clip-path=\"url(#clip112)\" cx=\"674.001\" cy=\"521.129\" r=\"14\" fill=\"#e26f46\" fill-rule=\"evenodd\" fill-opacity=\"1\" stroke=\"#000000\" stroke-opacity=\"1\" stroke-width=\"3.2\"/>\n",
       "<circle clip-path=\"url(#clip112)\" cx=\"1880.34\" cy=\"1113.67\" r=\"14\" fill=\"#e26f46\" fill-rule=\"evenodd\" fill-opacity=\"1\" stroke=\"#000000\" stroke-opacity=\"1\" stroke-width=\"3.2\"/>\n",
       "<circle clip-path=\"url(#clip112)\" cx=\"629.258\" cy=\"349.926\" r=\"14\" fill=\"#e26f46\" fill-rule=\"evenodd\" fill-opacity=\"1\" stroke=\"#000000\" stroke-opacity=\"1\" stroke-width=\"3.2\"/>\n",
       "<circle clip-path=\"url(#clip112)\" cx=\"1849.22\" cy=\"1032.35\" r=\"14\" fill=\"#e26f46\" fill-rule=\"evenodd\" fill-opacity=\"1\" stroke=\"#000000\" stroke-opacity=\"1\" stroke-width=\"3.2\"/>\n",
       "<circle clip-path=\"url(#clip112)\" cx=\"1694\" cy=\"402.775\" r=\"14\" fill=\"#e26f46\" fill-rule=\"evenodd\" fill-opacity=\"1\" stroke=\"#000000\" stroke-opacity=\"1\" stroke-width=\"3.2\"/>\n",
       "<circle clip-path=\"url(#clip112)\" cx=\"1028.24\" cy=\"1408.92\" r=\"14\" fill=\"#e26f46\" fill-rule=\"evenodd\" fill-opacity=\"1\" stroke=\"#000000\" stroke-opacity=\"1\" stroke-width=\"3.2\"/>\n",
       "<circle clip-path=\"url(#clip112)\" cx=\"1496.21\" cy=\"88.4223\" r=\"14\" fill=\"#e26f46\" fill-rule=\"evenodd\" fill-opacity=\"1\" stroke=\"#000000\" stroke-opacity=\"1\" stroke-width=\"3.2\"/>\n",
       "<circle clip-path=\"url(#clip112)\" cx=\"1788.02\" cy=\"795.223\" r=\"14\" fill=\"#e26f46\" fill-rule=\"evenodd\" fill-opacity=\"1\" stroke=\"#000000\" stroke-opacity=\"1\" stroke-width=\"3.2\"/>\n",
       "<circle clip-path=\"url(#clip112)\" cx=\"358.321\" cy=\"272.073\" r=\"14\" fill=\"#e26f46\" fill-rule=\"evenodd\" fill-opacity=\"1\" stroke=\"#000000\" stroke-opacity=\"1\" stroke-width=\"3.2\"/>\n",
       "<circle clip-path=\"url(#clip112)\" cx=\"1262\" cy=\"793.631\" r=\"14\" fill=\"#e26f46\" fill-rule=\"evenodd\" fill-opacity=\"1\" stroke=\"#000000\" stroke-opacity=\"1\" stroke-width=\"3.2\"/>\n",
       "<circle clip-path=\"url(#clip112)\" cx=\"544.587\" cy=\"115.09\" r=\"14\" fill=\"#e26f46\" fill-rule=\"evenodd\" fill-opacity=\"1\" stroke=\"#000000\" stroke-opacity=\"1\" stroke-width=\"3.2\"/>\n",
       "<circle clip-path=\"url(#clip112)\" cx=\"576.737\" cy=\"185.074\" r=\"14\" fill=\"#e26f46\" fill-rule=\"evenodd\" fill-opacity=\"1\" stroke=\"#000000\" stroke-opacity=\"1\" stroke-width=\"3.2\"/>\n",
       "<circle clip-path=\"url(#clip112)\" cx=\"1541.18\" cy=\"122.372\" r=\"14\" fill=\"#e26f46\" fill-rule=\"evenodd\" fill-opacity=\"1\" stroke=\"#000000\" stroke-opacity=\"1\" stroke-width=\"3.2\"/>\n",
       "<circle clip-path=\"url(#clip112)\" cx=\"263.014\" cy=\"609.551\" r=\"14\" fill=\"#e26f46\" fill-rule=\"evenodd\" fill-opacity=\"1\" stroke=\"#000000\" stroke-opacity=\"1\" stroke-width=\"3.2\"/>\n",
       "<circle clip-path=\"url(#clip112)\" cx=\"930.53\" cy=\"1364.4\" r=\"14\" fill=\"#e26f46\" fill-rule=\"evenodd\" fill-opacity=\"1\" stroke=\"#000000\" stroke-opacity=\"1\" stroke-width=\"3.2\"/>\n",
       "<circle clip-path=\"url(#clip112)\" cx=\"2199.68\" cy=\"1152.82\" r=\"14\" fill=\"#e26f46\" fill-rule=\"evenodd\" fill-opacity=\"1\" stroke=\"#000000\" stroke-opacity=\"1\" stroke-width=\"3.2\"/>\n",
       "<circle clip-path=\"url(#clip112)\" cx=\"2166.81\" cy=\"1256.24\" r=\"14\" fill=\"#e26f46\" fill-rule=\"evenodd\" fill-opacity=\"1\" stroke=\"#000000\" stroke-opacity=\"1\" stroke-width=\"3.2\"/>\n",
       "<circle clip-path=\"url(#clip112)\" cx=\"1384.11\" cy=\"317.318\" r=\"14\" fill=\"#e26f46\" fill-rule=\"evenodd\" fill-opacity=\"1\" stroke=\"#000000\" stroke-opacity=\"1\" stroke-width=\"3.2\"/>\n",
       "<circle clip-path=\"url(#clip112)\" cx=\"1082.09\" cy=\"1348.13\" r=\"14\" fill=\"#e26f46\" fill-rule=\"evenodd\" fill-opacity=\"1\" stroke=\"#000000\" stroke-opacity=\"1\" stroke-width=\"3.2\"/>\n",
       "<circle clip-path=\"url(#clip112)\" cx=\"1144.29\" cy=\"1208.39\" r=\"14\" fill=\"#e26f46\" fill-rule=\"evenodd\" fill-opacity=\"1\" stroke=\"#000000\" stroke-opacity=\"1\" stroke-width=\"3.2\"/>\n",
       "<circle clip-path=\"url(#clip112)\" cx=\"2291.25\" cy=\"825.599\" r=\"14\" fill=\"#e26f46\" fill-rule=\"evenodd\" fill-opacity=\"1\" stroke=\"#000000\" stroke-opacity=\"1\" stroke-width=\"3.2\"/>\n",
       "<circle clip-path=\"url(#clip112)\" cx=\"242.2\" cy=\"649.671\" r=\"14\" fill=\"#e26f46\" fill-rule=\"evenodd\" fill-opacity=\"1\" stroke=\"#000000\" stroke-opacity=\"1\" stroke-width=\"3.2\"/>\n",
       "<circle clip-path=\"url(#clip112)\" cx=\"721.463\" cy=\"715.033\" r=\"14\" fill=\"#e26f46\" fill-rule=\"evenodd\" fill-opacity=\"1\" stroke=\"#000000\" stroke-opacity=\"1\" stroke-width=\"3.2\"/>\n",
       "<circle clip-path=\"url(#clip112)\" cx=\"1281.93\" cy=\"712.781\" r=\"14\" fill=\"#e26f46\" fill-rule=\"evenodd\" fill-opacity=\"1\" stroke=\"#000000\" stroke-opacity=\"1\" stroke-width=\"3.2\"/>\n",
       "<circle clip-path=\"url(#clip112)\" cx=\"2122.39\" cy=\"1354.46\" r=\"14\" fill=\"#e26f46\" fill-rule=\"evenodd\" fill-opacity=\"1\" stroke=\"#000000\" stroke-opacity=\"1\" stroke-width=\"3.2\"/>\n",
       "<circle clip-path=\"url(#clip112)\" cx=\"356.482\" cy=\"275.404\" r=\"14\" fill=\"#e26f46\" fill-rule=\"evenodd\" fill-opacity=\"1\" stroke=\"#000000\" stroke-opacity=\"1\" stroke-width=\"3.2\"/>\n",
       "<circle clip-path=\"url(#clip112)\" cx=\"2202.34\" cy=\"1143.28\" r=\"14\" fill=\"#e26f46\" fill-rule=\"evenodd\" fill-opacity=\"1\" stroke=\"#000000\" stroke-opacity=\"1\" stroke-width=\"3.2\"/>\n",
       "<circle clip-path=\"url(#clip112)\" cx=\"2026.48\" cy=\"1392.49\" r=\"14\" fill=\"#e26f46\" fill-rule=\"evenodd\" fill-opacity=\"1\" stroke=\"#000000\" stroke-opacity=\"1\" stroke-width=\"3.2\"/>\n",
       "<circle clip-path=\"url(#clip112)\" cx=\"1625.93\" cy=\"244.141\" r=\"14\" fill=\"#e26f46\" fill-rule=\"evenodd\" fill-opacity=\"1\" stroke=\"#000000\" stroke-opacity=\"1\" stroke-width=\"3.2\"/>\n",
       "<circle clip-path=\"url(#clip112)\" cx=\"1355.07\" cy=\"421.161\" r=\"14\" fill=\"#e26f46\" fill-rule=\"evenodd\" fill-opacity=\"1\" stroke=\"#000000\" stroke-opacity=\"1\" stroke-width=\"3.2\"/>\n",
       "<circle clip-path=\"url(#clip112)\" cx=\"927.878\" cy=\"1360.44\" r=\"14\" fill=\"#e26f46\" fill-rule=\"evenodd\" fill-opacity=\"1\" stroke=\"#000000\" stroke-opacity=\"1\" stroke-width=\"3.2\"/>\n",
       "<circle clip-path=\"url(#clip112)\" cx=\"1197.51\" cy=\"1039.55\" r=\"14\" fill=\"#e26f46\" fill-rule=\"evenodd\" fill-opacity=\"1\" stroke=\"#000000\" stroke-opacity=\"1\" stroke-width=\"3.2\"/>\n",
       "<circle clip-path=\"url(#clip112)\" cx=\"1052.75\" cy=\"1388.6\" r=\"14\" fill=\"#e26f46\" fill-rule=\"evenodd\" fill-opacity=\"1\" stroke=\"#000000\" stroke-opacity=\"1\" stroke-width=\"3.2\"/>\n",
       "<circle clip-path=\"url(#clip112)\" cx=\"1124.36\" cy=\"1260.64\" r=\"14\" fill=\"#e26f46\" fill-rule=\"evenodd\" fill-opacity=\"1\" stroke=\"#000000\" stroke-opacity=\"1\" stroke-width=\"3.2\"/>\n",
       "<circle clip-path=\"url(#clip112)\" cx=\"1100.62\" cy=\"1313.86\" r=\"14\" fill=\"#e26f46\" fill-rule=\"evenodd\" fill-opacity=\"1\" stroke=\"#000000\" stroke-opacity=\"1\" stroke-width=\"3.2\"/>\n",
       "<circle clip-path=\"url(#clip112)\" cx=\"1176.45\" cy=\"1110.98\" r=\"14\" fill=\"#e26f46\" fill-rule=\"evenodd\" fill-opacity=\"1\" stroke=\"#000000\" stroke-opacity=\"1\" stroke-width=\"3.2\"/>\n",
       "<circle clip-path=\"url(#clip112)\" cx=\"1263.64\" cy=\"786.994\" r=\"14\" fill=\"#e26f46\" fill-rule=\"evenodd\" fill-opacity=\"1\" stroke=\"#000000\" stroke-opacity=\"1\" stroke-width=\"3.2\"/>\n",
       "<circle clip-path=\"url(#clip112)\" cx=\"1700.08\" cy=\"426.172\" r=\"14\" fill=\"#e26f46\" fill-rule=\"evenodd\" fill-opacity=\"1\" stroke=\"#000000\" stroke-opacity=\"1\" stroke-width=\"3.2\"/>\n",
       "<circle clip-path=\"url(#clip112)\" cx=\"1536.91\" cy=\"114.962\" r=\"14\" fill=\"#e26f46\" fill-rule=\"evenodd\" fill-opacity=\"1\" stroke=\"#000000\" stroke-opacity=\"1\" stroke-width=\"3.2\"/>\n",
       "<circle clip-path=\"url(#clip112)\" cx=\"1159.25\" cy=\"1164.99\" r=\"14\" fill=\"#e26f46\" fill-rule=\"evenodd\" fill-opacity=\"1\" stroke=\"#000000\" stroke-opacity=\"1\" stroke-width=\"3.2\"/>\n",
       "<circle clip-path=\"url(#clip112)\" cx=\"1254.54\" cy=\"823.54\" r=\"14\" fill=\"#e26f46\" fill-rule=\"evenodd\" fill-opacity=\"1\" stroke=\"#000000\" stroke-opacity=\"1\" stroke-width=\"3.2\"/>\n",
       "<circle clip-path=\"url(#clip112)\" cx=\"1533.89\" cy=\"110.278\" r=\"14\" fill=\"#e26f46\" fill-rule=\"evenodd\" fill-opacity=\"1\" stroke=\"#000000\" stroke-opacity=\"1\" stroke-width=\"3.2\"/>\n",
       "<circle clip-path=\"url(#clip112)\" cx=\"2247.92\" cy=\"974.511\" r=\"14\" fill=\"#e26f46\" fill-rule=\"evenodd\" fill-opacity=\"1\" stroke=\"#000000\" stroke-opacity=\"1\" stroke-width=\"3.2\"/>\n",
       "<circle clip-path=\"url(#clip112)\" cx=\"2005.84\" cy=\"1381.34\" r=\"14\" fill=\"#e26f46\" fill-rule=\"evenodd\" fill-opacity=\"1\" stroke=\"#000000\" stroke-opacity=\"1\" stroke-width=\"3.2\"/>\n",
       "<circle clip-path=\"url(#clip112)\" cx=\"671.37\" cy=\"510.597\" r=\"14\" fill=\"#e26f46\" fill-rule=\"evenodd\" fill-opacity=\"1\" stroke=\"#000000\" stroke-opacity=\"1\" stroke-width=\"3.2\"/>\n",
       "<circle clip-path=\"url(#clip112)\" cx=\"1692.22\" cy=\"396.22\" r=\"14\" fill=\"#e26f46\" fill-rule=\"evenodd\" fill-opacity=\"1\" stroke=\"#000000\" stroke-opacity=\"1\" stroke-width=\"3.2\"/>\n",
       "<circle clip-path=\"url(#clip112)\" cx=\"1505.98\" cy=\"87.9763\" r=\"14\" fill=\"#e26f46\" fill-rule=\"evenodd\" fill-opacity=\"1\" stroke=\"#000000\" stroke-opacity=\"1\" stroke-width=\"3.2\"/>\n",
       "<circle clip-path=\"url(#clip112)\" cx=\"1175.01\" cy=\"1115.65\" r=\"14\" fill=\"#e26f46\" fill-rule=\"evenodd\" fill-opacity=\"1\" stroke=\"#000000\" stroke-opacity=\"1\" stroke-width=\"3.2\"/>\n",
       "<circle clip-path=\"url(#clip112)\" cx=\"1555.19\" cy=\"153.523\" r=\"14\" fill=\"#e26f46\" fill-rule=\"evenodd\" fill-opacity=\"1\" stroke=\"#000000\" stroke-opacity=\"1\" stroke-width=\"3.2\"/>\n",
       "<circle clip-path=\"url(#clip112)\" cx=\"1166.12\" cy=\"1143.93\" r=\"14\" fill=\"#e26f46\" fill-rule=\"evenodd\" fill-opacity=\"1\" stroke=\"#000000\" stroke-opacity=\"1\" stroke-width=\"3.2\"/>\n",
       "<circle clip-path=\"url(#clip112)\" cx=\"2168.11\" cy=\"1252.64\" r=\"14\" fill=\"#e26f46\" fill-rule=\"evenodd\" fill-opacity=\"1\" stroke=\"#000000\" stroke-opacity=\"1\" stroke-width=\"3.2\"/>\n",
       "<circle clip-path=\"url(#clip112)\" cx=\"1846.16\" cy=\"1025.81\" r=\"14\" fill=\"#e26f46\" fill-rule=\"evenodd\" fill-opacity=\"1\" stroke=\"#000000\" stroke-opacity=\"1\" stroke-width=\"3.2\"/>\n",
       "<circle clip-path=\"url(#clip112)\" cx=\"397.1\" cy=\"229.204\" r=\"14\" fill=\"#e26f46\" fill-rule=\"evenodd\" fill-opacity=\"1\" stroke=\"#000000\" stroke-opacity=\"1\" stroke-width=\"3.2\"/>\n",
       "<circle clip-path=\"url(#clip112)\" cx=\"433.222\" cy=\"173.977\" r=\"14\" fill=\"#e26f46\" fill-rule=\"evenodd\" fill-opacity=\"1\" stroke=\"#000000\" stroke-opacity=\"1\" stroke-width=\"3.2\"/>\n",
       "<circle clip-path=\"url(#clip112)\" cx=\"633.708\" cy=\"366.003\" r=\"14\" fill=\"#e26f46\" fill-rule=\"evenodd\" fill-opacity=\"1\" stroke=\"#000000\" stroke-opacity=\"1\" stroke-width=\"3.2\"/>\n",
       "<circle clip-path=\"url(#clip112)\" cx=\"795.217\" cy=\"1004.61\" r=\"14\" fill=\"#e26f46\" fill-rule=\"evenodd\" fill-opacity=\"1\" stroke=\"#000000\" stroke-opacity=\"1\" stroke-width=\"3.2\"/>\n",
       "<circle clip-path=\"url(#clip112)\" cx=\"1896.55\" cy=\"1167.27\" r=\"14\" fill=\"#e26f46\" fill-rule=\"evenodd\" fill-opacity=\"1\" stroke=\"#000000\" stroke-opacity=\"1\" stroke-width=\"3.2\"/>\n",
       "<circle clip-path=\"url(#clip112)\" cx=\"1294.7\" cy=\"660.633\" r=\"14\" fill=\"#e26f46\" fill-rule=\"evenodd\" fill-opacity=\"1\" stroke=\"#000000\" stroke-opacity=\"1\" stroke-width=\"3.2\"/>\n",
       "<circle clip-path=\"url(#clip112)\" cx=\"1136.81\" cy=\"1228.78\" r=\"14\" fill=\"#e26f46\" fill-rule=\"evenodd\" fill-opacity=\"1\" stroke=\"#000000\" stroke-opacity=\"1\" stroke-width=\"3.2\"/>\n",
       "<circle clip-path=\"url(#clip112)\" cx=\"2273.91\" cy=\"890.75\" r=\"14\" fill=\"#e26f46\" fill-rule=\"evenodd\" fill-opacity=\"1\" stroke=\"#000000\" stroke-opacity=\"1\" stroke-width=\"3.2\"/>\n",
       "<circle clip-path=\"url(#clip112)\" cx=\"1092.9\" cy=\"1328.94\" r=\"14\" fill=\"#e26f46\" fill-rule=\"evenodd\" fill-opacity=\"1\" stroke=\"#000000\" stroke-opacity=\"1\" stroke-width=\"3.2\"/>\n",
       "<circle clip-path=\"url(#clip112)\" cx=\"2004.86\" cy=\"1380.68\" r=\"14\" fill=\"#e26f46\" fill-rule=\"evenodd\" fill-opacity=\"1\" stroke=\"#000000\" stroke-opacity=\"1\" stroke-width=\"3.2\"/>\n",
       "<circle clip-path=\"url(#clip112)\" cx=\"1300.27\" cy=\"637.933\" r=\"14\" fill=\"#e26f46\" fill-rule=\"evenodd\" fill-opacity=\"1\" stroke=\"#000000\" stroke-opacity=\"1\" stroke-width=\"3.2\"/>\n",
       "<circle clip-path=\"url(#clip112)\" cx=\"1142.08\" cy=\"1214.5\" r=\"14\" fill=\"#e26f46\" fill-rule=\"evenodd\" fill-opacity=\"1\" stroke=\"#000000\" stroke-opacity=\"1\" stroke-width=\"3.2\"/>\n",
       "<circle clip-path=\"url(#clip112)\" cx=\"300.232\" cy=\"442.508\" r=\"14\" fill=\"#e26f46\" fill-rule=\"evenodd\" fill-opacity=\"1\" stroke=\"#000000\" stroke-opacity=\"1\" stroke-width=\"3.2\"/>\n",
       "<circle clip-path=\"url(#clip112)\" cx=\"1616.63\" cy=\"235.65\" r=\"14\" fill=\"#e26f46\" fill-rule=\"evenodd\" fill-opacity=\"1\" stroke=\"#000000\" stroke-opacity=\"1\" stroke-width=\"3.2\"/>\n",
       "<circle clip-path=\"url(#clip112)\" cx=\"1029.23\" cy=\"1408.34\" r=\"14\" fill=\"#e26f46\" fill-rule=\"evenodd\" fill-opacity=\"1\" stroke=\"#000000\" stroke-opacity=\"1\" stroke-width=\"3.2\"/>\n",
       "<circle clip-path=\"url(#clip112)\" cx=\"1850.39\" cy=\"1034.91\" r=\"14\" fill=\"#e26f46\" fill-rule=\"evenodd\" fill-opacity=\"1\" stroke=\"#000000\" stroke-opacity=\"1\" stroke-width=\"3.2\"/>\n",
       "<circle clip-path=\"url(#clip112)\" cx=\"2254.75\" cy=\"954.082\" r=\"14\" fill=\"#e26f46\" fill-rule=\"evenodd\" fill-opacity=\"1\" stroke=\"#000000\" stroke-opacity=\"1\" stroke-width=\"3.2\"/>\n",
       "<circle clip-path=\"url(#clip112)\" cx=\"316.494\" cy=\"380.475\" r=\"14\" fill=\"#e26f46\" fill-rule=\"evenodd\" fill-opacity=\"1\" stroke=\"#000000\" stroke-opacity=\"1\" stroke-width=\"3.2\"/>\n",
       "<circle clip-path=\"url(#clip112)\" cx=\"1663.16\" cy=\"308.454\" r=\"14\" fill=\"#e26f46\" fill-rule=\"evenodd\" fill-opacity=\"1\" stroke=\"#000000\" stroke-opacity=\"1\" stroke-width=\"3.2\"/>\n",
       "<circle clip-path=\"url(#clip112)\" cx=\"2041.81\" cy=\"1397.35\" r=\"14\" fill=\"#e26f46\" fill-rule=\"evenodd\" fill-opacity=\"1\" stroke=\"#000000\" stroke-opacity=\"1\" stroke-width=\"3.2\"/>\n",
       "<circle clip-path=\"url(#clip112)\" cx=\"1787.36\" cy=\"792.902\" r=\"14\" fill=\"#e26f46\" fill-rule=\"evenodd\" fill-opacity=\"1\" stroke=\"#000000\" stroke-opacity=\"1\" stroke-width=\"3.2\"/>\n",
       "<circle clip-path=\"url(#clip112)\" cx=\"531.926\" cy=\"95.9699\" r=\"14\" fill=\"#e26f46\" fill-rule=\"evenodd\" fill-opacity=\"1\" stroke=\"#000000\" stroke-opacity=\"1\" stroke-width=\"3.2\"/>\n",
       "<circle clip-path=\"url(#clip112)\" cx=\"549.107\" cy=\"123.152\" r=\"14\" fill=\"#e26f46\" fill-rule=\"evenodd\" fill-opacity=\"1\" stroke=\"#000000\" stroke-opacity=\"1\" stroke-width=\"3.2\"/>\n",
       "<circle clip-path=\"url(#clip112)\" cx=\"1987.54\" cy=\"1367.19\" r=\"14\" fill=\"#e26f46\" fill-rule=\"evenodd\" fill-opacity=\"1\" stroke=\"#000000\" stroke-opacity=\"1\" stroke-width=\"3.2\"/>\n",
       "<circle clip-path=\"url(#clip112)\" cx=\"1968.19\" cy=\"1340.47\" r=\"14\" fill=\"#e26f46\" fill-rule=\"evenodd\" fill-opacity=\"1\" stroke=\"#000000\" stroke-opacity=\"1\" stroke-width=\"3.2\"/>\n",
       "<circle clip-path=\"url(#clip112)\" cx=\"1232.53\" cy=\"910.011\" r=\"14\" fill=\"#e26f46\" fill-rule=\"evenodd\" fill-opacity=\"1\" stroke=\"#000000\" stroke-opacity=\"1\" stroke-width=\"3.2\"/>\n",
       "<circle clip-path=\"url(#clip112)\" cx=\"1478.57\" cy=\"98.9348\" r=\"14\" fill=\"#e26f46\" fill-rule=\"evenodd\" fill-opacity=\"1\" stroke=\"#000000\" stroke-opacity=\"1\" stroke-width=\"3.2\"/>\n",
       "<circle clip-path=\"url(#clip112)\" cx=\"674.505\" cy=\"523.152\" r=\"14\" fill=\"#e26f46\" fill-rule=\"evenodd\" fill-opacity=\"1\" stroke=\"#000000\" stroke-opacity=\"1\" stroke-width=\"3.2\"/>\n",
       "<circle clip-path=\"url(#clip112)\" cx=\"290.443\" cy=\"485.704\" r=\"14\" fill=\"#e26f46\" fill-rule=\"evenodd\" fill-opacity=\"1\" stroke=\"#000000\" stroke-opacity=\"1\" stroke-width=\"3.2\"/>\n",
       "<circle clip-path=\"url(#clip112)\" cx=\"2228.9\" cy=\"1037.89\" r=\"14\" fill=\"#e26f46\" fill-rule=\"evenodd\" fill-opacity=\"1\" stroke=\"#000000\" stroke-opacity=\"1\" stroke-width=\"3.2\"/>\n",
       "<circle clip-path=\"url(#clip112)\" cx=\"241.157\" cy=\"652.051\" r=\"14\" fill=\"#e26f46\" fill-rule=\"evenodd\" fill-opacity=\"1\" stroke=\"#000000\" stroke-opacity=\"1\" stroke-width=\"3.2\"/>\n",
       "<circle clip-path=\"url(#clip112)\" cx=\"805.269\" cy=\"1040.63\" r=\"14\" fill=\"#e26f46\" fill-rule=\"evenodd\" fill-opacity=\"1\" stroke=\"#000000\" stroke-opacity=\"1\" stroke-width=\"3.2\"/>\n",
       "<circle clip-path=\"url(#clip112)\" cx=\"1618.47\" cy=\"237.103\" r=\"14\" fill=\"#e26f46\" fill-rule=\"evenodd\" fill-opacity=\"1\" stroke=\"#000000\" stroke-opacity=\"1\" stroke-width=\"3.2\"/>\n",
       "<circle clip-path=\"url(#clip112)\" cx=\"1081.74\" cy=\"1348.72\" r=\"14\" fill=\"#e26f46\" fill-rule=\"evenodd\" fill-opacity=\"1\" stroke=\"#000000\" stroke-opacity=\"1\" stroke-width=\"3.2\"/>\n",
       "<circle clip-path=\"url(#clip112)\" cx=\"2124.73\" cy=\"1351.76\" r=\"14\" fill=\"#e26f46\" fill-rule=\"evenodd\" fill-opacity=\"1\" stroke=\"#000000\" stroke-opacity=\"1\" stroke-width=\"3.2\"/>\n",
       "<circle clip-path=\"url(#clip112)\" cx=\"443.674\" cy=\"142.655\" r=\"14\" fill=\"#e26f46\" fill-rule=\"evenodd\" fill-opacity=\"1\" stroke=\"#000000\" stroke-opacity=\"1\" stroke-width=\"3.2\"/>\n",
       "<circle clip-path=\"url(#clip112)\" cx=\"530.507\" cy=\"94.1597\" r=\"14\" fill=\"#e26f46\" fill-rule=\"evenodd\" fill-opacity=\"1\" stroke=\"#000000\" stroke-opacity=\"1\" stroke-width=\"3.2\"/>\n",
       "<circle clip-path=\"url(#clip112)\" cx=\"1436.01\" cy=\"168.543\" r=\"14\" fill=\"#e26f46\" fill-rule=\"evenodd\" fill-opacity=\"1\" stroke=\"#000000\" stroke-opacity=\"1\" stroke-width=\"3.2\"/>\n",
       "<circle clip-path=\"url(#clip112)\" cx=\"639.098\" cy=\"385.815\" r=\"14\" fill=\"#e26f46\" fill-rule=\"evenodd\" fill-opacity=\"1\" stroke=\"#000000\" stroke-opacity=\"1\" stroke-width=\"3.2\"/>\n",
       "<circle clip-path=\"url(#clip112)\" cx=\"804.947\" cy=\"1039.5\" r=\"14\" fill=\"#e26f46\" fill-rule=\"evenodd\" fill-opacity=\"1\" stroke=\"#000000\" stroke-opacity=\"1\" stroke-width=\"3.2\"/>\n",
       "<circle clip-path=\"url(#clip112)\" cx=\"1831.59\" cy=\"985.089\" r=\"14\" fill=\"#e26f46\" fill-rule=\"evenodd\" fill-opacity=\"1\" stroke=\"#000000\" stroke-opacity=\"1\" stroke-width=\"3.2\"/>\n",
       "<path clip-path=\"url(#clip110)\" d=\"\n",
       "M1987.85 276.658 L2280.32 276.658 L2280.32 95.2176 L1987.85 95.2176  Z\n",
       "  \" fill=\"#ffffff\" fill-rule=\"evenodd\" fill-opacity=\"1\"/>\n",
       "<polyline clip-path=\"url(#clip110)\" style=\"stroke:#000000; stroke-width:4; stroke-opacity:1; fill:none\" points=\"\n",
       "  1987.85,276.658 2280.32,276.658 2280.32,95.2176 1987.85,95.2176 1987.85,276.658 \n",
       "  \"/>\n",
       "<polyline clip-path=\"url(#clip110)\" style=\"stroke:#009af9; stroke-width:4; stroke-opacity:1; fill:none\" points=\"\n",
       "  2011.99,155.698 2156.86,155.698 \n",
       "  \"/>\n",
       "<path clip-path=\"url(#clip110)\" d=\"M 0 0 M2194.85 175.385 Q2193.05 180.015 2191.33 181.427 Q2189.62 182.839 2186.75 182.839 L2183.35 182.839 L2183.35 179.274 L2185.85 179.274 Q2187.61 179.274 2188.58 178.44 Q2189.55 177.607 2190.73 174.505 L2191.5 172.561 L2181.01 147.052 L2185.52 147.052 L2193.63 167.329 L2201.73 147.052 L2206.24 147.052 L2194.85 175.385 Z\" fill=\"#000000\" fill-rule=\"evenodd\" fill-opacity=\"1\" /><path clip-path=\"url(#clip110)\" d=\"M 0 0 M2212.12 169.042 L2219.76 169.042 L2219.76 142.677 L2211.45 144.343 L2211.45 140.084 L2219.71 138.418 L2224.39 138.418 L2224.39 169.042 L2232.03 169.042 L2232.03 172.978 L2212.12 172.978 L2212.12 169.042 Z\" fill=\"#000000\" fill-rule=\"evenodd\" fill-opacity=\"1\" /><circle clip-path=\"url(#clip110)\" cx=\"2084.43\" cy=\"216.178\" r=\"23\" fill=\"#e26f46\" fill-rule=\"evenodd\" fill-opacity=\"1\" stroke=\"#000000\" stroke-opacity=\"1\" stroke-width=\"5.12\"/>\n",
       "<path clip-path=\"url(#clip110)\" d=\"M 0 0 M2194.85 235.865 Q2193.05 240.495 2191.33 241.907 Q2189.62 243.319 2186.75 243.319 L2183.35 243.319 L2183.35 239.754 L2185.85 239.754 Q2187.61 239.754 2188.58 238.92 Q2189.55 238.087 2190.73 234.985 L2191.5 233.041 L2181.01 207.532 L2185.52 207.532 L2193.63 227.809 L2201.73 207.532 L2206.24 207.532 L2194.85 235.865 Z\" fill=\"#000000\" fill-rule=\"evenodd\" fill-opacity=\"1\" /><path clip-path=\"url(#clip110)\" d=\"M 0 0 M2215.34 229.522 L2231.66 229.522 L2231.66 233.458 L2209.71 233.458 L2209.71 229.522 Q2212.38 226.768 2216.96 222.138 Q2221.57 217.485 2222.75 216.143 Q2224.99 213.62 2225.87 211.884 Q2226.77 210.124 2226.77 208.435 Q2226.77 205.68 2224.83 203.944 Q2222.91 202.208 2219.81 202.208 Q2217.61 202.208 2215.15 202.972 Q2212.72 203.735 2209.94 205.286 L2209.94 200.564 Q2212.77 199.43 2215.22 198.851 Q2217.68 198.273 2219.71 198.273 Q2225.08 198.273 2228.28 200.958 Q2231.47 203.643 2231.47 208.134 Q2231.47 210.263 2230.66 212.185 Q2229.88 214.083 2227.77 216.675 Q2227.19 217.347 2224.09 220.564 Q2220.99 223.759 2215.34 229.522 Z\" fill=\"#000000\" fill-rule=\"evenodd\" fill-opacity=\"1\" /></svg>\n"
      ]
     },
     "metadata": {},
     "output_type": "display_data"
    },
    {
     "ename": "LoadError",
     "evalue": "InterruptException:",
     "output_type": "error",
     "traceback": [
      "InterruptException:",
      "",
      "Stacktrace:",
      " [1] (::Zygote.var\"#1016#1023\"{Zygote.Context,DataType})(::Float64) at /home/zach/.julia/packages/Zygote/KpME9/src/lib/broadcast.jl:162",
      " [2] _broadcast_getindex_evalf at ./broadcast.jl:648 [inlined]",
      " [3] _broadcast_getindex at ./broadcast.jl:621 [inlined]",
      " [4] getindex at ./broadcast.jl:575 [inlined]",
      " [5] copyto_nonleaf!(::Array{Tuple{Float32,Zygote.var\"#1789#back#197\"{Zygote.var\"#195#196\"}},1}, ::Base.Broadcast.Broadcasted{Base.Broadcast.DefaultArrayStyle{1},Tuple{Base.OneTo{Int64}},Zygote.var\"#1016#1023\"{Zygote.Context,DataType},Tuple{Base.Broadcast.Extruded{Array{Float64,1},Tuple{Bool},Tuple{Int64}}}}, ::Base.OneTo{Int64}, ::Int64, ::Int64) at ./broadcast.jl:1026",
      " [6] copy at ./broadcast.jl:880 [inlined]",
      " [7] materialize at ./broadcast.jl:837 [inlined]",
      " [8] _broadcast(::Zygote.var\"#1016#1023\"{Zygote.Context,DataType}, ::Array{Float64,1}) at /home/zach/.julia/packages/Zygote/KpME9/src/lib/broadcast.jl:153",
      " [9] adjoint at /home/zach/.julia/packages/Zygote/KpME9/src/lib/broadcast.jl:162 [inlined]",
      " [10] _pullback at /home/zach/.julia/packages/ZygoteRules/OjfTt/src/adjoint.jl:57 [inlined]",
      " [11] adjoint at /home/zach/.julia/packages/Zygote/KpME9/src/lib/lib.jl:188 [inlined]",
      " [12] _pullback at /home/zach/.julia/packages/ZygoteRules/OjfTt/src/adjoint.jl:57 [inlined]",
      " [13] broadcasted at ./broadcast.jl:1257 [inlined]",
      " [14] Dense at /home/zach/.julia/packages/Flux/goUGu/src/layers/basic.jl:137 [inlined]",
      " [15] _pullback(::Zygote.Context, ::Dense{typeof(mynl),Array{Float32,2},Array{Float32,1}}, ::Array{Float64,1}) at /home/zach/.julia/packages/Zygote/KpME9/src/compiler/interface2.jl:0",
      " [16] applychain at /home/zach/.julia/packages/Flux/goUGu/src/layers/basic.jl:36 [inlined]",
      " [17] _pullback(::Zygote.Context, ::typeof(Flux.applychain), ::Tuple{Dense{typeof(mynl),Array{Float32,2},Array{Float32,1}},Dense{typeof(identity),Array{Float32,2},Array{Float32,1}}}, ::Array{Float64,1}) at /home/zach/.julia/packages/Zygote/KpME9/src/compiler/interface2.jl:0",
      " [18] applychain at /home/zach/.julia/packages/Flux/goUGu/src/layers/basic.jl:36 [inlined]",
      " [19] _pullback(::Zygote.Context, ::typeof(Flux.applychain), ::Tuple{Dense{typeof(mynl),Array{Float32,2},Array{Float32,1}},Dense{typeof(mynl),Array{Float32,2},Array{Float32,1}},Dense{typeof(identity),Array{Float32,2},Array{Float32,1}}}, ::SArray{Tuple{1},Float64,1,1}) at /home/zach/.julia/packages/Zygote/KpME9/src/compiler/interface2.jl:0",
      " [20] Chain at /home/zach/.julia/packages/Flux/goUGu/src/layers/basic.jl:38 [inlined]",
      " [21] _pullback(::Zygote.Context, ::Chain{Tuple{Dense{typeof(mynl),Array{Float32,2},Array{Float32,1}},Dense{typeof(mynl),Array{Float32,2},Array{Float32,1}},Dense{typeof(identity),Array{Float32,2},Array{Float32,1}}}}, ::SArray{Tuple{1},Float64,1,1}) at /home/zach/.julia/packages/Zygote/KpME9/src/compiler/interface2.jl:0",
      " [22] loss at ./In[43]:2 [inlined]",
      " [23] _pullback(::Zygote.Context, ::typeof(loss), ::SArray{Tuple{1},Float64,1,1}, ::SArray{Tuple{1},Float64,1,1}) at /home/zach/.julia/packages/Zygote/KpME9/src/compiler/interface2.jl:0",
      " [24] adjoint at /home/zach/.julia/packages/Zygote/KpME9/src/lib/lib.jl:188 [inlined]",
      " [25] _pullback at /home/zach/.julia/packages/ZygoteRules/OjfTt/src/adjoint.jl:57 [inlined]",
      " [26] #15 at /home/zach/.julia/packages/Flux/goUGu/src/optimise/train.jl:103 [inlined]",
      " [27] _pullback(::Zygote.Context, ::Flux.Optimise.var\"#15#21\"{typeof(loss),Tuple{SArray{Tuple{1},Float64,1,1},SArray{Tuple{1},Float64,1,1}}}) at /home/zach/.julia/packages/Zygote/KpME9/src/compiler/interface2.jl:0",
      " [28] pullback(::Function, ::Params) at /home/zach/.julia/packages/Zygote/KpME9/src/compiler/interface.jl:167",
      " [29] gradient(::Function, ::Params) at /home/zach/.julia/packages/Zygote/KpME9/src/compiler/interface.jl:48",
      " [30] macro expansion at /home/zach/.julia/packages/Flux/goUGu/src/optimise/train.jl:102 [inlined]",
      " [31] macro expansion at /home/zach/.julia/packages/Juno/n6wyj/src/progress.jl:134 [inlined]",
      " [32] train!(::Function, ::Params, ::Array{Tuple{SArray{Tuple{1},Float64,1,1},SArray{Tuple{1},Float64,1,1}},1}, ::ADAM; cb::Flux.Optimise.var\"#16#22\") at /home/zach/.julia/packages/Flux/goUGu/src/optimise/train.jl:100",
      " [33] train!(::Function, ::Params, ::Array{Tuple{SArray{Tuple{1},Float64,1,1},SArray{Tuple{1},Float64,1,1}},1}, ::ADAM) at /home/zach/.julia/packages/Flux/goUGu/src/optimise/train.jl:98",
      " [34] top-level scope at In[46]:2",
      " [35] include_string(::Function, ::Module, ::String, ::String) at ./loading.jl:1091"
     ]
    }
   ],
   "source": [
    "for i in 1:1000\n",
    "    Flux.train!(loss, ps, data, ADAM())\n",
    "    if i%10 == 0\n",
    "        p = plot(sort(dx), x->(sin(4*pi*x)))\n",
    "        scatter!(p, dx, [first(y) for y in m.(d[1] for d in data)])\n",
    "        IJulia.clear_output(true)\n",
    "        display(i)\n",
    "        display(p)\n",
    "    end\n",
    "end"
   ]
  },
  {
   "cell_type": "code",
   "execution_count": null,
   "metadata": {},
   "outputs": [],
   "source": []
  },
  {
   "cell_type": "code",
   "execution_count": null,
   "metadata": {},
   "outputs": [],
   "source": []
  },
  {
   "cell_type": "code",
   "execution_count": 41,
   "metadata": {},
   "outputs": [
    {
     "data": {
      "image/svg+xml": [
       "<?xml version=\"1.0\" encoding=\"utf-8\"?>\n",
       "<svg xmlns=\"http://www.w3.org/2000/svg\" xmlns:xlink=\"http://www.w3.org/1999/xlink\" width=\"600\" height=\"400\" viewBox=\"0 0 2400 1600\">\n",
       "<defs>\n",
       "  <clipPath id=\"clip870\">\n",
       "    <rect x=\"0\" y=\"0\" width=\"2400\" height=\"1600\"/>\n",
       "  </clipPath>\n",
       "</defs>\n",
       "<path clip-path=\"url(#clip870)\" d=\"\n",
       "M0 1600 L2400 1600 L2400 0 L0 0  Z\n",
       "  \" fill=\"#ffffff\" fill-rule=\"evenodd\" fill-opacity=\"1\"/>\n",
       "<defs>\n",
       "  <clipPath id=\"clip871\">\n",
       "    <rect x=\"480\" y=\"0\" width=\"1681\" height=\"1600\"/>\n",
       "  </clipPath>\n",
       "</defs>\n",
       "<path clip-path=\"url(#clip870)\" d=\"\n",
       "M174.862 1486.45 L2352.76 1486.45 L2352.76 47.2441 L174.862 47.2441  Z\n",
       "  \" fill=\"#ffffff\" fill-rule=\"evenodd\" fill-opacity=\"1\"/>\n",
       "<defs>\n",
       "  <clipPath id=\"clip872\">\n",
       "    <rect x=\"174\" y=\"47\" width=\"2179\" height=\"1440\"/>\n",
       "  </clipPath>\n",
       "</defs>\n",
       "<polyline clip-path=\"url(#clip872)\" style=\"stroke:#000000; stroke-width:2; stroke-opacity:0.1; fill:none\" points=\"\n",
       "  441.962,1486.45 441.962,47.2441 \n",
       "  \"/>\n",
       "<polyline clip-path=\"url(#clip872)\" style=\"stroke:#000000; stroke-width:2; stroke-opacity:0.1; fill:none\" points=\"\n",
       "  852.886,1486.45 852.886,47.2441 \n",
       "  \"/>\n",
       "<polyline clip-path=\"url(#clip872)\" style=\"stroke:#000000; stroke-width:2; stroke-opacity:0.1; fill:none\" points=\"\n",
       "  1263.81,1486.45 1263.81,47.2441 \n",
       "  \"/>\n",
       "<polyline clip-path=\"url(#clip872)\" style=\"stroke:#000000; stroke-width:2; stroke-opacity:0.1; fill:none\" points=\"\n",
       "  1674.73,1486.45 1674.73,47.2441 \n",
       "  \"/>\n",
       "<polyline clip-path=\"url(#clip872)\" style=\"stroke:#000000; stroke-width:2; stroke-opacity:0.1; fill:none\" points=\"\n",
       "  2085.66,1486.45 2085.66,47.2441 \n",
       "  \"/>\n",
       "<polyline clip-path=\"url(#clip870)\" style=\"stroke:#000000; stroke-width:4; stroke-opacity:1; fill:none\" points=\"\n",
       "  174.862,1486.45 2352.76,1486.45 \n",
       "  \"/>\n",
       "<polyline clip-path=\"url(#clip870)\" style=\"stroke:#000000; stroke-width:4; stroke-opacity:1; fill:none\" points=\"\n",
       "  441.962,1486.45 441.962,1469.18 \n",
       "  \"/>\n",
       "<polyline clip-path=\"url(#clip870)\" style=\"stroke:#000000; stroke-width:4; stroke-opacity:1; fill:none\" points=\"\n",
       "  852.886,1486.45 852.886,1469.18 \n",
       "  \"/>\n",
       "<polyline clip-path=\"url(#clip870)\" style=\"stroke:#000000; stroke-width:4; stroke-opacity:1; fill:none\" points=\"\n",
       "  1263.81,1486.45 1263.81,1469.18 \n",
       "  \"/>\n",
       "<polyline clip-path=\"url(#clip870)\" style=\"stroke:#000000; stroke-width:4; stroke-opacity:1; fill:none\" points=\"\n",
       "  1674.73,1486.45 1674.73,1469.18 \n",
       "  \"/>\n",
       "<polyline clip-path=\"url(#clip870)\" style=\"stroke:#000000; stroke-width:4; stroke-opacity:1; fill:none\" points=\"\n",
       "  2085.66,1486.45 2085.66,1469.18 \n",
       "  \"/>\n",
       "<path clip-path=\"url(#clip870)\" d=\"M 0 0 M413.374 1530.29 L443.05 1530.29 L443.05 1534.23 L413.374 1534.23 L413.374 1530.29 Z\" fill=\"#000000\" fill-rule=\"evenodd\" fill-opacity=\"1\" /><path clip-path=\"url(#clip870)\" d=\"M 0 0 M460.967 1516.63 L449.161 1535.08 L460.967 1535.08 L460.967 1516.63 M459.74 1512.56 L465.619 1512.56 L465.619 1535.08 L470.55 1535.08 L470.55 1538.97 L465.619 1538.97 L465.619 1547.12 L460.967 1547.12 L460.967 1538.97 L445.365 1538.97 L445.365 1534.46 L459.74 1512.56 Z\" fill=\"#000000\" fill-rule=\"evenodd\" fill-opacity=\"1\" /><path clip-path=\"url(#clip870)\" d=\"M 0 0 M825.339 1530.29 L855.015 1530.29 L855.015 1534.23 L825.339 1534.23 L825.339 1530.29 Z\" fill=\"#000000\" fill-rule=\"evenodd\" fill-opacity=\"1\" /><path clip-path=\"url(#clip870)\" d=\"M 0 0 M864.112 1543.18 L880.432 1543.18 L880.432 1547.12 L858.487 1547.12 L858.487 1543.18 Q861.149 1540.43 865.733 1535.8 Q870.339 1531.15 871.52 1529.81 Q873.765 1527.28 874.645 1525.55 Q875.548 1523.79 875.548 1522.1 Q875.548 1519.34 873.603 1517.61 Q871.682 1515.87 868.58 1515.87 Q866.381 1515.87 863.927 1516.63 Q861.497 1517.4 858.719 1518.95 L858.719 1514.23 Q861.543 1513.09 863.997 1512.51 Q866.45 1511.93 868.487 1511.93 Q873.858 1511.93 877.052 1514.62 Q880.247 1517.31 880.247 1521.8 Q880.247 1523.93 879.436 1525.85 Q878.649 1527.74 876.543 1530.34 Q875.964 1531.01 872.862 1534.23 Q869.761 1537.42 864.112 1543.18 Z\" fill=\"#000000\" fill-rule=\"evenodd\" fill-opacity=\"1\" /><path clip-path=\"url(#clip870)\" d=\"M 0 0 M1263.81 1515.64 Q1260.2 1515.64 1258.37 1519.2 Q1256.56 1522.75 1256.56 1529.87 Q1256.56 1536.98 1258.37 1540.55 Q1260.2 1544.09 1263.81 1544.09 Q1267.44 1544.09 1269.25 1540.55 Q1271.08 1536.98 1271.08 1529.87 Q1271.08 1522.75 1269.25 1519.2 Q1267.44 1515.64 1263.81 1515.64 M1263.81 1511.93 Q1269.62 1511.93 1272.67 1516.54 Q1275.75 1521.12 1275.75 1529.87 Q1275.75 1538.6 1272.67 1543.21 Q1269.62 1547.79 1263.81 1547.79 Q1258 1547.79 1254.92 1543.21 Q1251.86 1538.6 1251.86 1529.87 Q1251.86 1521.12 1254.92 1516.54 Q1258 1511.93 1263.81 1511.93 Z\" fill=\"#000000\" fill-rule=\"evenodd\" fill-opacity=\"1\" /><path clip-path=\"url(#clip870)\" d=\"M 0 0 M1669.39 1543.18 L1685.7 1543.18 L1685.7 1547.12 L1663.76 1547.12 L1663.76 1543.18 Q1666.42 1540.43 1671.01 1535.8 Q1675.61 1531.15 1676.79 1529.81 Q1679.04 1527.28 1679.92 1525.55 Q1680.82 1523.79 1680.82 1522.1 Q1680.82 1519.34 1678.88 1517.61 Q1676.95 1515.87 1673.85 1515.87 Q1671.65 1515.87 1669.2 1516.63 Q1666.77 1517.4 1663.99 1518.95 L1663.99 1514.23 Q1666.82 1513.09 1669.27 1512.51 Q1671.72 1511.93 1673.76 1511.93 Q1679.13 1511.93 1682.32 1514.62 Q1685.52 1517.31 1685.52 1521.8 Q1685.52 1523.93 1684.71 1525.85 Q1683.92 1527.74 1681.82 1530.34 Q1681.24 1531.01 1678.14 1534.23 Q1675.03 1537.42 1669.39 1543.18 Z\" fill=\"#000000\" fill-rule=\"evenodd\" fill-opacity=\"1\" /><path clip-path=\"url(#clip870)\" d=\"M 0 0 M2088.66 1516.63 L2076.86 1535.08 L2088.66 1535.08 L2088.66 1516.63 M2087.44 1512.56 L2093.32 1512.56 L2093.32 1535.08 L2098.25 1535.08 L2098.25 1538.97 L2093.32 1538.97 L2093.32 1547.12 L2088.66 1547.12 L2088.66 1538.97 L2073.06 1538.97 L2073.06 1534.46 L2087.44 1512.56 Z\" fill=\"#000000\" fill-rule=\"evenodd\" fill-opacity=\"1\" /><polyline clip-path=\"url(#clip872)\" style=\"stroke:#000000; stroke-width:2; stroke-opacity:0.1; fill:none\" points=\"\n",
       "  174.862,1446.54 2352.76,1446.54 \n",
       "  \"/>\n",
       "<polyline clip-path=\"url(#clip872)\" style=\"stroke:#000000; stroke-width:2; stroke-opacity:0.1; fill:none\" points=\"\n",
       "  174.862,1106.9 2352.76,1106.9 \n",
       "  \"/>\n",
       "<polyline clip-path=\"url(#clip872)\" style=\"stroke:#000000; stroke-width:2; stroke-opacity:0.1; fill:none\" points=\"\n",
       "  174.862,767.26 2352.76,767.26 \n",
       "  \"/>\n",
       "<polyline clip-path=\"url(#clip872)\" style=\"stroke:#000000; stroke-width:2; stroke-opacity:0.1; fill:none\" points=\"\n",
       "  174.862,427.618 2352.76,427.618 \n",
       "  \"/>\n",
       "<polyline clip-path=\"url(#clip872)\" style=\"stroke:#000000; stroke-width:2; stroke-opacity:0.1; fill:none\" points=\"\n",
       "  174.862,87.9763 2352.76,87.9763 \n",
       "  \"/>\n",
       "<polyline clip-path=\"url(#clip870)\" style=\"stroke:#000000; stroke-width:4; stroke-opacity:1; fill:none\" points=\"\n",
       "  174.862,1486.45 174.862,47.2441 \n",
       "  \"/>\n",
       "<polyline clip-path=\"url(#clip870)\" style=\"stroke:#000000; stroke-width:4; stroke-opacity:1; fill:none\" points=\"\n",
       "  174.862,1446.54 200.997,1446.54 \n",
       "  \"/>\n",
       "<polyline clip-path=\"url(#clip870)\" style=\"stroke:#000000; stroke-width:4; stroke-opacity:1; fill:none\" points=\"\n",
       "  174.862,1106.9 200.997,1106.9 \n",
       "  \"/>\n",
       "<polyline clip-path=\"url(#clip870)\" style=\"stroke:#000000; stroke-width:4; stroke-opacity:1; fill:none\" points=\"\n",
       "  174.862,767.26 200.997,767.26 \n",
       "  \"/>\n",
       "<polyline clip-path=\"url(#clip870)\" style=\"stroke:#000000; stroke-width:4; stroke-opacity:1; fill:none\" points=\"\n",
       "  174.862,427.618 200.997,427.618 \n",
       "  \"/>\n",
       "<polyline clip-path=\"url(#clip870)\" style=\"stroke:#000000; stroke-width:4; stroke-opacity:1; fill:none\" points=\"\n",
       "  174.862,87.9763 200.997,87.9763 \n",
       "  \"/>\n",
       "<path clip-path=\"url(#clip870)\" d=\"M 0 0 M62.9365 1432.34 Q59.3254 1432.34 57.4967 1435.91 Q55.6912 1439.45 55.6912 1446.58 Q55.6912 1453.68 57.4967 1457.25 Q59.3254 1460.79 62.9365 1460.79 Q66.5707 1460.79 68.3763 1457.25 Q70.205 1453.68 70.205 1446.58 Q70.205 1439.45 68.3763 1435.91 Q66.5707 1432.34 62.9365 1432.34 M62.9365 1428.64 Q68.7467 1428.64 71.8022 1433.24 Q74.8809 1437.83 74.8809 1446.58 Q74.8809 1455.3 71.8022 1459.91 Q68.7467 1464.49 62.9365 1464.49 Q57.1264 1464.49 54.0477 1459.91 Q50.9921 1455.3 50.9921 1446.58 Q50.9921 1437.83 54.0477 1433.24 Q57.1264 1428.64 62.9365 1428.64 Z\" fill=\"#000000\" fill-rule=\"evenodd\" fill-opacity=\"1\" /><path clip-path=\"url(#clip870)\" d=\"M 0 0 M79.9503 1457.94 L84.8345 1457.94 L84.8345 1463.82 L79.9503 1463.82 L79.9503 1457.94 Z\" fill=\"#000000\" fill-rule=\"evenodd\" fill-opacity=\"1\" /><path clip-path=\"url(#clip870)\" d=\"M 0 0 M99.9039 1432.34 Q96.2928 1432.34 94.4641 1435.91 Q92.6586 1439.45 92.6586 1446.58 Q92.6586 1453.68 94.4641 1457.25 Q96.2928 1460.79 99.9039 1460.79 Q103.538 1460.79 105.344 1457.25 Q107.172 1453.68 107.172 1446.58 Q107.172 1439.45 105.344 1435.91 Q103.538 1432.34 99.9039 1432.34 M99.9039 1428.64 Q105.714 1428.64 108.77 1433.24 Q111.848 1437.83 111.848 1446.58 Q111.848 1455.3 108.77 1459.91 Q105.714 1464.49 99.9039 1464.49 Q94.0937 1464.49 91.0151 1459.91 Q87.9595 1455.3 87.9595 1446.58 Q87.9595 1437.83 91.0151 1433.24 Q94.0937 1428.64 99.9039 1428.64 Z\" fill=\"#000000\" fill-rule=\"evenodd\" fill-opacity=\"1\" /><path clip-path=\"url(#clip870)\" d=\"M 0 0 M126.918 1432.34 Q123.307 1432.34 121.478 1435.91 Q119.672 1439.45 119.672 1446.58 Q119.672 1453.68 121.478 1457.25 Q123.307 1460.79 126.918 1460.79 Q130.552 1460.79 132.357 1457.25 Q134.186 1453.68 134.186 1446.58 Q134.186 1439.45 132.357 1435.91 Q130.552 1432.34 126.918 1432.34 M126.918 1428.64 Q132.728 1428.64 135.783 1433.24 Q138.862 1437.83 138.862 1446.58 Q138.862 1455.3 135.783 1459.91 Q132.728 1464.49 126.918 1464.49 Q121.107 1464.49 118.029 1459.91 Q114.973 1455.3 114.973 1446.58 Q114.973 1437.83 118.029 1433.24 Q121.107 1428.64 126.918 1428.64 Z\" fill=\"#000000\" fill-rule=\"evenodd\" fill-opacity=\"1\" /><path clip-path=\"url(#clip870)\" d=\"M 0 0 M65.5291 1092.7 Q61.918 1092.7 60.0893 1096.26 Q58.2838 1099.81 58.2838 1106.94 Q58.2838 1114.04 60.0893 1117.61 Q61.918 1121.15 65.5291 1121.15 Q69.1633 1121.15 70.9689 1117.61 Q72.7976 1114.04 72.7976 1106.94 Q72.7976 1099.81 70.9689 1096.26 Q69.1633 1092.7 65.5291 1092.7 M65.5291 1089 Q71.3392 1089 74.3948 1093.6 Q77.4735 1098.19 77.4735 1106.94 Q77.4735 1115.66 74.3948 1120.27 Q71.3392 1124.85 65.5291 1124.85 Q59.7189 1124.85 56.6402 1120.27 Q53.5847 1115.66 53.5847 1106.94 Q53.5847 1098.19 56.6402 1093.6 Q59.7189 1089 65.5291 1089 Z\" fill=\"#000000\" fill-rule=\"evenodd\" fill-opacity=\"1\" /><path clip-path=\"url(#clip870)\" d=\"M 0 0 M82.5429 1118.3 L87.4271 1118.3 L87.4271 1124.18 L82.5429 1124.18 L82.5429 1118.3 Z\" fill=\"#000000\" fill-rule=\"evenodd\" fill-opacity=\"1\" /><path clip-path=\"url(#clip870)\" d=\"M 0 0 M96.5243 1120.25 L112.844 1120.25 L112.844 1124.18 L90.8993 1124.18 L90.8993 1120.25 Q93.5613 1117.49 98.1447 1112.86 Q102.751 1108.21 103.932 1106.87 Q106.177 1104.34 107.057 1102.61 Q107.959 1100.85 107.959 1099.16 Q107.959 1096.4 106.015 1094.67 Q104.094 1092.93 100.992 1092.93 Q98.7928 1092.93 96.3391 1093.7 Q93.9086 1094.46 91.1308 1096.01 L91.1308 1091.29 Q93.9549 1090.15 96.4085 1089.58 Q98.8622 1089 100.899 1089 Q106.27 1089 109.464 1091.68 Q112.658 1094.37 112.658 1098.86 Q112.658 1100.99 111.848 1102.91 Q111.061 1104.81 108.955 1107.4 Q108.376 1108.07 105.274 1111.29 Q102.172 1114.48 96.5243 1120.25 Z\" fill=\"#000000\" fill-rule=\"evenodd\" fill-opacity=\"1\" /><path clip-path=\"url(#clip870)\" d=\"M 0 0 M117.959 1089.62 L136.316 1089.62 L136.316 1093.56 L122.242 1093.56 L122.242 1102.03 Q123.26 1101.68 124.279 1101.52 Q125.297 1101.33 126.316 1101.33 Q132.103 1101.33 135.482 1104.51 Q138.862 1107.68 138.862 1113.09 Q138.862 1118.67 135.39 1121.77 Q131.918 1124.85 125.598 1124.85 Q123.422 1124.85 121.154 1124.48 Q118.908 1124.11 116.501 1123.37 L116.501 1118.67 Q118.584 1119.81 120.807 1120.36 Q123.029 1120.92 125.506 1120.92 Q129.51 1120.92 131.848 1118.81 Q134.186 1116.7 134.186 1113.09 Q134.186 1109.48 131.848 1107.38 Q129.51 1105.27 125.506 1105.27 Q123.631 1105.27 121.756 1105.69 Q119.904 1106.1 117.959 1106.98 L117.959 1089.62 Z\" fill=\"#000000\" fill-rule=\"evenodd\" fill-opacity=\"1\" /><path clip-path=\"url(#clip870)\" d=\"M 0 0 M63.9319 753.058 Q60.3208 753.058 58.4921 756.623 Q56.6865 760.165 56.6865 767.294 Q56.6865 774.401 58.4921 777.966 Q60.3208 781.507 63.9319 781.507 Q67.5661 781.507 69.3717 777.966 Q71.2004 774.401 71.2004 767.294 Q71.2004 760.165 69.3717 756.623 Q67.5661 753.058 63.9319 753.058 M63.9319 749.355 Q69.742 749.355 72.7976 753.961 Q75.8763 758.544 75.8763 767.294 Q75.8763 776.021 72.7976 780.628 Q69.742 785.211 63.9319 785.211 Q58.1217 785.211 55.043 780.628 Q51.9875 776.021 51.9875 767.294 Q51.9875 758.544 55.043 753.961 Q58.1217 749.355 63.9319 749.355 Z\" fill=\"#000000\" fill-rule=\"evenodd\" fill-opacity=\"1\" /><path clip-path=\"url(#clip870)\" d=\"M 0 0 M80.9457 778.66 L85.8299 778.66 L85.8299 784.54 L80.9457 784.54 L80.9457 778.66 Z\" fill=\"#000000\" fill-rule=\"evenodd\" fill-opacity=\"1\" /><path clip-path=\"url(#clip870)\" d=\"M 0 0 M90.9456 749.98 L109.302 749.98 L109.302 753.915 L95.228 753.915 L95.228 762.387 Q96.2465 762.04 97.265 761.878 Q98.2835 761.693 99.3021 761.693 Q105.089 761.693 108.469 764.864 Q111.848 768.035 111.848 773.452 Q111.848 779.03 108.376 782.132 Q104.904 785.211 98.5845 785.211 Q96.4085 785.211 94.14 784.841 Q91.8947 784.47 89.4873 783.729 L89.4873 779.03 Q91.5706 780.165 93.7928 780.72 Q96.015 781.276 98.4919 781.276 Q102.496 781.276 104.834 779.169 Q107.172 777.063 107.172 773.452 Q107.172 769.841 104.834 767.734 Q102.496 765.628 98.4919 765.628 Q96.6169 765.628 94.7419 766.044 Q92.89 766.461 90.9456 767.341 L90.9456 749.98 Z\" fill=\"#000000\" fill-rule=\"evenodd\" fill-opacity=\"1\" /><path clip-path=\"url(#clip870)\" d=\"M 0 0 M126.918 753.058 Q123.307 753.058 121.478 756.623 Q119.672 760.165 119.672 767.294 Q119.672 774.401 121.478 777.966 Q123.307 781.507 126.918 781.507 Q130.552 781.507 132.357 777.966 Q134.186 774.401 134.186 767.294 Q134.186 760.165 132.357 756.623 Q130.552 753.058 126.918 753.058 M126.918 749.355 Q132.728 749.355 135.783 753.961 Q138.862 758.544 138.862 767.294 Q138.862 776.021 135.783 780.628 Q132.728 785.211 126.918 785.211 Q121.107 785.211 118.029 780.628 Q114.973 776.021 114.973 767.294 Q114.973 758.544 118.029 753.961 Q121.107 749.355 126.918 749.355 Z\" fill=\"#000000\" fill-rule=\"evenodd\" fill-opacity=\"1\" /><path clip-path=\"url(#clip870)\" d=\"M 0 0 M64.8346 413.417 Q61.2236 413.417 59.3949 416.981 Q57.5893 420.523 57.5893 427.653 Q57.5893 434.759 59.3949 438.324 Q61.2236 441.866 64.8346 441.866 Q68.4689 441.866 70.2744 438.324 Q72.1031 434.759 72.1031 427.653 Q72.1031 420.523 70.2744 416.981 Q68.4689 413.417 64.8346 413.417 M64.8346 409.713 Q70.6448 409.713 73.7003 414.319 Q76.779 418.903 76.779 427.653 Q76.779 436.379 73.7003 440.986 Q70.6448 445.569 64.8346 445.569 Q59.0245 445.569 55.9458 440.986 Q52.8903 436.379 52.8903 427.653 Q52.8903 418.903 55.9458 414.319 Q59.0245 409.713 64.8346 409.713 Z\" fill=\"#000000\" fill-rule=\"evenodd\" fill-opacity=\"1\" /><path clip-path=\"url(#clip870)\" d=\"M 0 0 M81.8484 439.018 L86.7327 439.018 L86.7327 444.898 L81.8484 444.898 L81.8484 439.018 Z\" fill=\"#000000\" fill-rule=\"evenodd\" fill-opacity=\"1\" /><path clip-path=\"url(#clip870)\" d=\"M 0 0 M90.6215 410.338 L112.844 410.338 L112.844 412.329 L100.297 444.898 L95.4132 444.898 L107.219 414.273 L90.6215 414.273 L90.6215 410.338 Z\" fill=\"#000000\" fill-rule=\"evenodd\" fill-opacity=\"1\" /><path clip-path=\"url(#clip870)\" d=\"M 0 0 M117.959 410.338 L136.316 410.338 L136.316 414.273 L122.242 414.273 L122.242 422.745 Q123.26 422.398 124.279 422.236 Q125.297 422.051 126.316 422.051 Q132.103 422.051 135.482 425.222 Q138.862 428.393 138.862 433.81 Q138.862 439.389 135.39 442.491 Q131.918 445.569 125.598 445.569 Q123.422 445.569 121.154 445.199 Q118.908 444.829 116.501 444.088 L116.501 439.389 Q118.584 440.523 120.807 441.079 Q123.029 441.634 125.506 441.634 Q129.51 441.634 131.848 439.528 Q134.186 437.421 134.186 433.81 Q134.186 430.199 131.848 428.092 Q129.51 425.986 125.506 425.986 Q123.631 425.986 121.756 426.403 Q119.904 426.819 117.959 427.699 L117.959 410.338 Z\" fill=\"#000000\" fill-rule=\"evenodd\" fill-opacity=\"1\" /><path clip-path=\"url(#clip870)\" d=\"M 0 0 M54.9736 101.321 L62.6124 101.321 L62.6124 74.9555 L54.3023 76.6222 L54.3023 72.3629 L62.5661 70.6963 L67.242 70.6963 L67.242 101.321 L74.8809 101.321 L74.8809 105.256 L54.9736 105.256 L54.9736 101.321 Z\" fill=\"#000000\" fill-rule=\"evenodd\" fill-opacity=\"1\" /><path clip-path=\"url(#clip870)\" d=\"M 0 0 M79.9503 99.3767 L84.8345 99.3767 L84.8345 105.256 L79.9503 105.256 L79.9503 99.3767 Z\" fill=\"#000000\" fill-rule=\"evenodd\" fill-opacity=\"1\" /><path clip-path=\"url(#clip870)\" d=\"M 0 0 M99.9039 73.775 Q96.2928 73.775 94.4641 77.3398 Q92.6586 80.8814 92.6586 88.011 Q92.6586 95.1174 94.4641 98.6822 Q96.2928 102.224 99.9039 102.224 Q103.538 102.224 105.344 98.6822 Q107.172 95.1174 107.172 88.011 Q107.172 80.8814 105.344 77.3398 Q103.538 73.775 99.9039 73.775 M99.9039 70.0713 Q105.714 70.0713 108.77 74.6777 Q111.848 79.261 111.848 88.011 Q111.848 96.7378 108.77 101.344 Q105.714 105.928 99.9039 105.928 Q94.0937 105.928 91.0151 101.344 Q87.9595 96.7378 87.9595 88.011 Q87.9595 79.261 91.0151 74.6777 Q94.0937 70.0713 99.9039 70.0713 Z\" fill=\"#000000\" fill-rule=\"evenodd\" fill-opacity=\"1\" /><path clip-path=\"url(#clip870)\" d=\"M 0 0 M126.918 73.775 Q123.307 73.775 121.478 77.3398 Q119.672 80.8814 119.672 88.011 Q119.672 95.1174 121.478 98.6822 Q123.307 102.224 126.918 102.224 Q130.552 102.224 132.357 98.6822 Q134.186 95.1174 134.186 88.011 Q134.186 80.8814 132.357 77.3398 Q130.552 73.775 126.918 73.775 M126.918 70.0713 Q132.728 70.0713 135.783 74.6777 Q138.862 79.261 138.862 88.011 Q138.862 96.7378 135.783 101.344 Q132.728 105.928 126.918 105.928 Q121.107 105.928 118.029 101.344 Q114.973 96.7378 114.973 88.011 Q114.973 79.261 118.029 74.6777 Q121.107 70.0713 126.918 70.0713 Z\" fill=\"#000000\" fill-rule=\"evenodd\" fill-opacity=\"1\" /><polyline clip-path=\"url(#clip872)\" style=\"stroke:#009af9; stroke-width:4; stroke-opacity:1; fill:none\" points=\"\n",
       "  236.501,87.9763 256.566,87.9763 442.096,87.9763 553.591,87.9763 647.86,87.9763 750.262,87.9763 844.667,87.9763 895.273,87.9763 945.879,87.9763 975.196,87.9763 \n",
       "  1004.51,87.9763 1019.17,87.9763 1033.83,87.9763 1041.16,87.9763 1048.49,87.9763 1052.15,87.9763 1055.82,87.9763 1057.65,87.9763 1059.48,102.91 1061.31,126.899 \n",
       "  1063.14,150.673 1069.66,233.43 1076.17,313.457 1082.68,390.754 1089.2,465.32 1102.22,606.261 1115.25,736.281 1128.28,855.378 1141.3,963.553 1154.33,1060.81 \n",
       "  1167.36,1147.14 1178.78,1213.86 1190.2,1272.17 1201.62,1322.09 1213.05,1363.62 1224.47,1396.74 1235.89,1421.46 1247.32,1437.79 1258.74,1445.72 1271.19,1444.79 \n",
       "  1283.65,1433.88 1296.1,1412.98 1308.56,1382.11 1321.01,1341.25 1333.46,1290.4 1345.92,1229.57 1358.37,1158.76 1370.9,1077.46 1383.43,986.055 1395.96,884.547 \n",
       "  1408.48,772.936 1421.01,651.223 1433.54,519.408 1446.07,377.49 1458.6,225.471 1462.06,181.669 1465.52,137.096 1467.25,114.52 1468.99,91.7508 1470.72,87.9763 \n",
       "  1472.45,87.9763 1479.37,87.9763 1486.3,87.9763 1500.15,87.9763 1514,87.9763 1541.71,87.9763 1569.41,87.9763 1622.13,87.9763 1674.84,87.9763 1784.47,87.9763 \n",
       "  1876.75,87.9763 1989.42,87.9763 2095.33,87.9763 2265,87.9763 2291.12,87.9763 \n",
       "  \"/>\n",
       "<path clip-path=\"url(#clip870)\" d=\"\n",
       "M1987.15 216.178 L2280.16 216.178 L2280.16 95.2176 L1987.15 95.2176  Z\n",
       "  \" fill=\"#ffffff\" fill-rule=\"evenodd\" fill-opacity=\"1\"/>\n",
       "<polyline clip-path=\"url(#clip870)\" style=\"stroke:#000000; stroke-width:4; stroke-opacity:1; fill:none\" points=\"\n",
       "  1987.15,216.178 2280.16,216.178 2280.16,95.2176 1987.15,95.2176 1987.15,216.178 \n",
       "  \"/>\n",
       "<polyline clip-path=\"url(#clip870)\" style=\"stroke:#009af9; stroke-width:4; stroke-opacity:1; fill:none\" points=\"\n",
       "  2011.35,155.698 2156.54,155.698 \n",
       "  \"/>\n",
       "<path clip-path=\"url(#clip870)\" d=\"M 0 0 M2194.59 175.385 Q2192.78 180.015 2191.07 181.427 Q2189.35 182.839 2186.48 182.839 L2183.08 182.839 L2183.08 179.274 L2185.58 179.274 Q2187.34 179.274 2188.31 178.44 Q2189.29 177.607 2190.47 174.505 L2191.23 172.561 L2180.74 147.052 L2185.26 147.052 L2193.36 167.329 L2201.46 147.052 L2205.97 147.052 L2194.59 175.385 Z\" fill=\"#000000\" fill-rule=\"evenodd\" fill-opacity=\"1\" /><path clip-path=\"url(#clip870)\" d=\"M 0 0 M2211.85 169.042 L2219.49 169.042 L2219.49 142.677 L2211.18 144.343 L2211.18 140.084 L2219.45 138.418 L2224.12 138.418 L2224.12 169.042 L2231.76 169.042 L2231.76 172.978 L2211.85 172.978 L2211.85 169.042 Z\" fill=\"#000000\" fill-rule=\"evenodd\" fill-opacity=\"1\" /></svg>\n"
      ]
     },
     "execution_count": 41,
     "metadata": {},
     "output_type": "execute_result"
    }
   ],
   "source": [
    "mynl(x) = min(1.0, max(0.0, x^2))\n",
    "plot(mynl)"
   ]
  },
  {
   "cell_type": "code",
   "execution_count": 42,
   "metadata": {},
   "outputs": [
    {
     "data": {
      "text/plain": [
       "Chain(Dense(1, 50, mynl), Dense(50, 50, mynl), Dense(50, 1))"
      ]
     },
     "execution_count": 42,
     "metadata": {},
     "output_type": "execute_result"
    }
   ],
   "source": [
    "m = Chain(Dense(1,50,mynl), Dense(50,50,mynl), Dense(50,1))"
   ]
  },
  {
   "cell_type": "code",
   "execution_count": null,
   "metadata": {},
   "outputs": [],
   "source": []
  },
  {
   "cell_type": "code",
   "execution_count": null,
   "metadata": {},
   "outputs": [],
   "source": []
  },
  {
   "cell_type": "code",
   "execution_count": 13,
   "metadata": {},
   "outputs": [
    {
     "data": {
      "text/html": [
       "(::<b>Type{Dense}</b>)(in::<b>Integer</b>, out::<b>Integer</b>, σ; <i>initW, initb</i>) in Flux at <a href=\"file:///home/zach/.julia/packages/Flux/goUGu/src/layers/basic.jl\" target=\"_blank\">/home/zach/.julia/packages/Flux/goUGu/src/layers/basic.jl:114</a>"
      ],
      "text/plain": [
       "(::Type{Dense})(in::Integer, out::Integer, σ; initW, initb) in Flux at /home/zach/.julia/packages/Flux/goUGu/src/layers/basic.jl:114"
      ]
     },
     "execution_count": 13,
     "metadata": {},
     "output_type": "execute_result"
    }
   ],
   "source": [
    "@which Dense(50,50, σ)"
   ]
  },
  {
   "cell_type": "code",
   "execution_count": null,
   "metadata": {},
   "outputs": [],
   "source": []
  },
  {
   "cell_type": "code",
   "execution_count": 47,
   "metadata": {},
   "outputs": [],
   "source": [
    "using Zygote"
   ]
  },
  {
   "cell_type": "code",
   "execution_count": 48,
   "metadata": {},
   "outputs": [
    {
     "data": {
      "text/plain": [
       "f (generic function with 1 method)"
      ]
     },
     "execution_count": 48,
     "metadata": {},
     "output_type": "execute_result"
    }
   ],
   "source": [
    "f(x) = 5x+3"
   ]
  },
  {
   "cell_type": "code",
   "execution_count": 49,
   "metadata": {},
   "outputs": [
    {
     "data": {
      "text/plain": [
       "5"
      ]
     },
     "execution_count": 49,
     "metadata": {},
     "output_type": "execute_result"
    }
   ],
   "source": [
    "f'(10)"
   ]
  },
  {
   "cell_type": "code",
   "execution_count": 50,
   "metadata": {},
   "outputs": [
    {
     "name": "stdout",
     "output_type": "stream",
     "text": [
      "\n",
      ";  @ /home/zach/.julia/packages/Zygote/KpME9/src/compiler/interface.jl:52 within `#43'\n",
      "define i64 @\"julia_#43_8530\"(i64) {\n",
      "top:\n",
      "  ret i64 5\n",
      "}\n"
     ]
    }
   ],
   "source": [
    "@code_llvm f'(1)"
   ]
  },
  {
   "cell_type": "code",
   "execution_count": 51,
   "metadata": {},
   "outputs": [
    {
     "data": {
      "text/plain": [
       "g (generic function with 1 method)"
      ]
     },
     "execution_count": 51,
     "metadata": {},
     "output_type": "execute_result"
    }
   ],
   "source": [
    "function g(x)\n",
    "    y = zero(x)\n",
    "    for i in 1:10\n",
    "        y += x\n",
    "    end\n",
    "    return y\n",
    "end"
   ]
  },
  {
   "cell_type": "code",
   "execution_count": 52,
   "metadata": {},
   "outputs": [
    {
     "data": {
      "text/plain": [
       "10"
      ]
     },
     "execution_count": 52,
     "metadata": {},
     "output_type": "execute_result"
    }
   ],
   "source": [
    "g'(5)"
   ]
  },
  {
   "cell_type": "code",
   "execution_count": 53,
   "metadata": {},
   "outputs": [
    {
     "data": {
      "text/plain": [
       "BenchmarkTools.Trial: \n",
       "  memory estimate:  3.84 KiB\n",
       "  allocs estimate:  88\n",
       "  --------------\n",
       "  minimum time:     8.762 μs (0.00% GC)\n",
       "  median time:      11.688 μs (0.00% GC)\n",
       "  mean time:        14.087 μs (0.00% GC)\n",
       "  maximum time:     100.771 μs (0.00% GC)\n",
       "  --------------\n",
       "  samples:          10000\n",
       "  evals/sample:     1"
      ]
     },
     "execution_count": 53,
     "metadata": {},
     "output_type": "execute_result"
    }
   ],
   "source": [
    "using BenchmarkTools\n",
    "@benchmark g'(5)"
   ]
  },
  {
   "cell_type": "code",
   "execution_count": 54,
   "metadata": {},
   "outputs": [
    {
     "data": {
      "text/plain": [
       "BenchmarkTools.Trial: \n",
       "  memory estimate:  0 bytes\n",
       "  allocs estimate:  0\n",
       "  --------------\n",
       "  minimum time:     2.117 ns (0.00% GC)\n",
       "  median time:      2.221 ns (0.00% GC)\n",
       "  mean time:        2.594 ns (0.00% GC)\n",
       "  maximum time:     38.185 ns (0.00% GC)\n",
       "  --------------\n",
       "  samples:          10000\n",
       "  evals/sample:     1000"
      ]
     },
     "execution_count": 54,
     "metadata": {},
     "output_type": "execute_result"
    }
   ],
   "source": [
    "@benchmark g(5)"
   ]
  },
  {
   "cell_type": "code",
   "execution_count": null,
   "metadata": {},
   "outputs": [],
   "source": []
  },
  {
   "cell_type": "code",
   "execution_count": 60,
   "metadata": {},
   "outputs": [
    {
     "data": {
      "image/svg+xml": [
       "<?xml version=\"1.0\" encoding=\"utf-8\"?>\n",
       "<svg xmlns=\"http://www.w3.org/2000/svg\" xmlns:xlink=\"http://www.w3.org/1999/xlink\" width=\"600\" height=\"400\" viewBox=\"0 0 2400 1600\">\n",
       "<defs>\n",
       "  <clipPath id=\"clip270\">\n",
       "    <rect x=\"0\" y=\"0\" width=\"2400\" height=\"1600\"/>\n",
       "  </clipPath>\n",
       "</defs>\n",
       "<path clip-path=\"url(#clip270)\" d=\"\n",
       "M0 1600 L2400 1600 L2400 0 L0 0  Z\n",
       "  \" fill=\"#ffffff\" fill-rule=\"evenodd\" fill-opacity=\"1\"/>\n",
       "<defs>\n",
       "  <clipPath id=\"clip271\">\n",
       "    <rect x=\"480\" y=\"0\" width=\"1681\" height=\"1600\"/>\n",
       "  </clipPath>\n",
       "</defs>\n",
       "<path clip-path=\"url(#clip270)\" d=\"\n",
       "M112.177 1486.45 L2352.76 1486.45 L2352.76 47.2441 L112.177 47.2441  Z\n",
       "  \" fill=\"#ffffff\" fill-rule=\"evenodd\" fill-opacity=\"1\"/>\n",
       "<defs>\n",
       "  <clipPath id=\"clip272\">\n",
       "    <rect x=\"112\" y=\"47\" width=\"2242\" height=\"1440\"/>\n",
       "  </clipPath>\n",
       "</defs>\n",
       "<polyline clip-path=\"url(#clip272)\" style=\"stroke:#000000; stroke-width:2; stroke-opacity:0.1; fill:none\" points=\"\n",
       "  175.59,1486.45 175.59,47.2441 \n",
       "  \"/>\n",
       "<polyline clip-path=\"url(#clip272)\" style=\"stroke:#000000; stroke-width:2; stroke-opacity:0.1; fill:none\" points=\"\n",
       "  704.028,1486.45 704.028,47.2441 \n",
       "  \"/>\n",
       "<polyline clip-path=\"url(#clip272)\" style=\"stroke:#000000; stroke-width:2; stroke-opacity:0.1; fill:none\" points=\"\n",
       "  1232.47,1486.45 1232.47,47.2441 \n",
       "  \"/>\n",
       "<polyline clip-path=\"url(#clip272)\" style=\"stroke:#000000; stroke-width:2; stroke-opacity:0.1; fill:none\" points=\"\n",
       "  1760.9,1486.45 1760.9,47.2441 \n",
       "  \"/>\n",
       "<polyline clip-path=\"url(#clip272)\" style=\"stroke:#000000; stroke-width:2; stroke-opacity:0.1; fill:none\" points=\"\n",
       "  2289.34,1486.45 2289.34,47.2441 \n",
       "  \"/>\n",
       "<polyline clip-path=\"url(#clip270)\" style=\"stroke:#000000; stroke-width:4; stroke-opacity:1; fill:none\" points=\"\n",
       "  112.177,1486.45 2352.76,1486.45 \n",
       "  \"/>\n",
       "<polyline clip-path=\"url(#clip270)\" style=\"stroke:#000000; stroke-width:4; stroke-opacity:1; fill:none\" points=\"\n",
       "  175.59,1486.45 175.59,1469.18 \n",
       "  \"/>\n",
       "<polyline clip-path=\"url(#clip270)\" style=\"stroke:#000000; stroke-width:4; stroke-opacity:1; fill:none\" points=\"\n",
       "  704.028,1486.45 704.028,1469.18 \n",
       "  \"/>\n",
       "<polyline clip-path=\"url(#clip270)\" style=\"stroke:#000000; stroke-width:4; stroke-opacity:1; fill:none\" points=\"\n",
       "  1232.47,1486.45 1232.47,1469.18 \n",
       "  \"/>\n",
       "<polyline clip-path=\"url(#clip270)\" style=\"stroke:#000000; stroke-width:4; stroke-opacity:1; fill:none\" points=\"\n",
       "  1760.9,1486.45 1760.9,1469.18 \n",
       "  \"/>\n",
       "<polyline clip-path=\"url(#clip270)\" style=\"stroke:#000000; stroke-width:4; stroke-opacity:1; fill:none\" points=\"\n",
       "  2289.34,1486.45 2289.34,1469.18 \n",
       "  \"/>\n",
       "<path clip-path=\"url(#clip270)\" d=\"M 0 0 M157.106 1515.64 Q153.495 1515.64 151.666 1519.2 Q149.861 1522.75 149.861 1529.87 Q149.861 1536.98 151.666 1540.55 Q153.495 1544.09 157.106 1544.09 Q160.74 1544.09 162.546 1540.55 Q164.375 1536.98 164.375 1529.87 Q164.375 1522.75 162.546 1519.2 Q160.74 1515.64 157.106 1515.64 M157.106 1511.93 Q162.916 1511.93 165.972 1516.54 Q169.05 1521.12 169.05 1529.87 Q169.05 1538.6 165.972 1543.21 Q162.916 1547.79 157.106 1547.79 Q151.296 1547.79 148.217 1543.21 Q145.162 1538.6 145.162 1529.87 Q145.162 1521.12 148.217 1516.54 Q151.296 1511.93 157.106 1511.93 Z\" fill=\"#000000\" fill-rule=\"evenodd\" fill-opacity=\"1\" /><path clip-path=\"url(#clip270)\" d=\"M 0 0 M174.12 1541.24 L179.004 1541.24 L179.004 1547.12 L174.12 1547.12 L174.12 1541.24 Z\" fill=\"#000000\" fill-rule=\"evenodd\" fill-opacity=\"1\" /><path clip-path=\"url(#clip270)\" d=\"M 0 0 M194.073 1515.64 Q190.462 1515.64 188.634 1519.2 Q186.828 1522.75 186.828 1529.87 Q186.828 1536.98 188.634 1540.55 Q190.462 1544.09 194.073 1544.09 Q197.708 1544.09 199.513 1540.55 Q201.342 1536.98 201.342 1529.87 Q201.342 1522.75 199.513 1519.2 Q197.708 1515.64 194.073 1515.64 M194.073 1511.93 Q199.884 1511.93 202.939 1516.54 Q206.018 1521.12 206.018 1529.87 Q206.018 1538.6 202.939 1543.21 Q199.884 1547.79 194.073 1547.79 Q188.263 1547.79 185.185 1543.21 Q182.129 1538.6 182.129 1529.87 Q182.129 1521.12 185.185 1516.54 Q188.263 1511.93 194.073 1511.93 Z\" fill=\"#000000\" fill-rule=\"evenodd\" fill-opacity=\"1\" /><path clip-path=\"url(#clip270)\" d=\"M 0 0 M686.042 1515.64 Q682.431 1515.64 680.602 1519.2 Q678.797 1522.75 678.797 1529.87 Q678.797 1536.98 680.602 1540.55 Q682.431 1544.09 686.042 1544.09 Q689.676 1544.09 691.482 1540.55 Q693.311 1536.98 693.311 1529.87 Q693.311 1522.75 691.482 1519.2 Q689.676 1515.64 686.042 1515.64 M686.042 1511.93 Q691.852 1511.93 694.908 1516.54 Q697.987 1521.12 697.987 1529.87 Q697.987 1538.6 694.908 1543.21 Q691.852 1547.79 686.042 1547.79 Q680.232 1547.79 677.153 1543.21 Q674.098 1538.6 674.098 1529.87 Q674.098 1521.12 677.153 1516.54 Q680.232 1511.93 686.042 1511.93 Z\" fill=\"#000000\" fill-rule=\"evenodd\" fill-opacity=\"1\" /><path clip-path=\"url(#clip270)\" d=\"M 0 0 M703.056 1541.24 L707.94 1541.24 L707.94 1547.12 L703.056 1547.12 L703.056 1541.24 Z\" fill=\"#000000\" fill-rule=\"evenodd\" fill-opacity=\"1\" /><path clip-path=\"url(#clip270)\" d=\"M 0 0 M713.056 1512.56 L731.412 1512.56 L731.412 1516.5 L717.338 1516.5 L717.338 1524.97 Q718.357 1524.62 719.375 1524.46 Q720.394 1524.27 721.412 1524.27 Q727.199 1524.27 730.579 1527.44 Q733.959 1530.62 733.959 1536.03 Q733.959 1541.61 730.486 1544.71 Q727.014 1547.79 720.695 1547.79 Q718.519 1547.79 716.25 1547.42 Q714.005 1547.05 711.598 1546.31 L711.598 1541.61 Q713.681 1542.74 715.903 1543.3 Q718.125 1543.86 720.602 1543.86 Q724.607 1543.86 726.945 1541.75 Q729.283 1539.64 729.283 1536.03 Q729.283 1532.42 726.945 1530.31 Q724.607 1528.21 720.602 1528.21 Q718.727 1528.21 716.852 1528.62 Q715 1529.04 713.056 1529.92 L713.056 1512.56 Z\" fill=\"#000000\" fill-rule=\"evenodd\" fill-opacity=\"1\" /><path clip-path=\"url(#clip270)\" d=\"M 0 0 M1204.36 1543.18 L1212 1543.18 L1212 1516.82 L1203.69 1518.49 L1203.69 1514.23 L1211.96 1512.56 L1216.63 1512.56 L1216.63 1543.18 L1224.27 1543.18 L1224.27 1547.12 L1204.36 1547.12 L1204.36 1543.18 Z\" fill=\"#000000\" fill-rule=\"evenodd\" fill-opacity=\"1\" /><path clip-path=\"url(#clip270)\" d=\"M 0 0 M1229.34 1541.24 L1234.23 1541.24 L1234.23 1547.12 L1229.34 1547.12 L1229.34 1541.24 Z\" fill=\"#000000\" fill-rule=\"evenodd\" fill-opacity=\"1\" /><path clip-path=\"url(#clip270)\" d=\"M 0 0 M1249.3 1515.64 Q1245.68 1515.64 1243.86 1519.2 Q1242.05 1522.75 1242.05 1529.87 Q1242.05 1536.98 1243.86 1540.55 Q1245.68 1544.09 1249.3 1544.09 Q1252.93 1544.09 1254.73 1540.55 Q1256.56 1536.98 1256.56 1529.87 Q1256.56 1522.75 1254.73 1519.2 Q1252.93 1515.64 1249.3 1515.64 M1249.3 1511.93 Q1255.11 1511.93 1258.16 1516.54 Q1261.24 1521.12 1261.24 1529.87 Q1261.24 1538.6 1258.16 1543.21 Q1255.11 1547.79 1249.3 1547.79 Q1243.49 1547.79 1240.41 1543.21 Q1237.35 1538.6 1237.35 1529.87 Q1237.35 1521.12 1240.41 1516.54 Q1243.49 1511.93 1249.3 1511.93 Z\" fill=\"#000000\" fill-rule=\"evenodd\" fill-opacity=\"1\" /><path clip-path=\"url(#clip270)\" d=\"M 0 0 M1733.3 1543.18 L1740.94 1543.18 L1740.94 1516.82 L1732.63 1518.49 L1732.63 1514.23 L1740.89 1512.56 L1745.57 1512.56 L1745.57 1543.18 L1753.21 1543.18 L1753.21 1547.12 L1733.3 1547.12 L1733.3 1543.18 Z\" fill=\"#000000\" fill-rule=\"evenodd\" fill-opacity=\"1\" /><path clip-path=\"url(#clip270)\" d=\"M 0 0 M1758.28 1541.24 L1763.16 1541.24 L1763.16 1547.12 L1758.28 1547.12 L1758.28 1541.24 Z\" fill=\"#000000\" fill-rule=\"evenodd\" fill-opacity=\"1\" /><path clip-path=\"url(#clip270)\" d=\"M 0 0 M1768.28 1512.56 L1786.63 1512.56 L1786.63 1516.5 L1772.56 1516.5 L1772.56 1524.97 Q1773.58 1524.62 1774.6 1524.46 Q1775.62 1524.27 1776.63 1524.27 Q1782.42 1524.27 1785.8 1527.44 Q1789.18 1530.62 1789.18 1536.03 Q1789.18 1541.61 1785.71 1544.71 Q1782.24 1547.79 1775.92 1547.79 Q1773.74 1547.79 1771.47 1547.42 Q1769.23 1547.05 1766.82 1546.31 L1766.82 1541.61 Q1768.9 1542.74 1771.12 1543.3 Q1773.35 1543.86 1775.82 1543.86 Q1779.83 1543.86 1782.17 1541.75 Q1784.5 1539.64 1784.5 1536.03 Q1784.5 1532.42 1782.17 1530.31 Q1779.83 1528.21 1775.82 1528.21 Q1773.95 1528.21 1772.07 1528.62 Q1770.22 1529.04 1768.28 1529.92 L1768.28 1512.56 Z\" fill=\"#000000\" fill-rule=\"evenodd\" fill-opacity=\"1\" /><path clip-path=\"url(#clip270)\" d=\"M 0 0 M2265.51 1543.18 L2281.83 1543.18 L2281.83 1547.12 L2259.89 1547.12 L2259.89 1543.18 Q2262.55 1540.43 2267.13 1535.8 Q2271.74 1531.15 2272.92 1529.81 Q2275.17 1527.28 2276.04 1525.55 Q2276.95 1523.79 2276.95 1522.1 Q2276.95 1519.34 2275 1517.61 Q2273.08 1515.87 2269.98 1515.87 Q2267.78 1515.87 2265.33 1516.63 Q2262.9 1517.4 2260.12 1518.95 L2260.12 1514.23 Q2262.94 1513.09 2265.4 1512.51 Q2267.85 1511.93 2269.89 1511.93 Q2275.26 1511.93 2278.45 1514.62 Q2281.65 1517.31 2281.65 1521.8 Q2281.65 1523.93 2280.84 1525.85 Q2280.05 1527.74 2277.94 1530.34 Q2277.36 1531.01 2274.26 1534.23 Q2271.16 1537.42 2265.51 1543.18 Z\" fill=\"#000000\" fill-rule=\"evenodd\" fill-opacity=\"1\" /><path clip-path=\"url(#clip270)\" d=\"M 0 0 M2286.9 1541.24 L2291.79 1541.24 L2291.79 1547.12 L2286.9 1547.12 L2286.9 1541.24 Z\" fill=\"#000000\" fill-rule=\"evenodd\" fill-opacity=\"1\" /><path clip-path=\"url(#clip270)\" d=\"M 0 0 M2306.85 1515.64 Q2303.24 1515.64 2301.41 1519.2 Q2299.61 1522.75 2299.61 1529.87 Q2299.61 1536.98 2301.41 1540.55 Q2303.24 1544.09 2306.85 1544.09 Q2310.49 1544.09 2312.29 1540.55 Q2314.12 1536.98 2314.12 1529.87 Q2314.12 1522.75 2312.29 1519.2 Q2310.49 1515.64 2306.85 1515.64 M2306.85 1511.93 Q2312.66 1511.93 2315.72 1516.54 Q2318.8 1521.12 2318.8 1529.87 Q2318.8 1538.6 2315.72 1543.21 Q2312.66 1547.79 2306.85 1547.79 Q2301.04 1547.79 2297.97 1543.21 Q2294.91 1538.6 2294.91 1529.87 Q2294.91 1521.12 2297.97 1516.54 Q2301.04 1511.93 2306.85 1511.93 Z\" fill=\"#000000\" fill-rule=\"evenodd\" fill-opacity=\"1\" /><polyline clip-path=\"url(#clip272)\" style=\"stroke:#000000; stroke-width:2; stroke-opacity:0.1; fill:none\" points=\"\n",
       "  112.177,1294.64 2352.76,1294.64 \n",
       "  \"/>\n",
       "<polyline clip-path=\"url(#clip272)\" style=\"stroke:#000000; stroke-width:2; stroke-opacity:0.1; fill:none\" points=\"\n",
       "  112.177,1005.34 2352.76,1005.34 \n",
       "  \"/>\n",
       "<polyline clip-path=\"url(#clip272)\" style=\"stroke:#000000; stroke-width:2; stroke-opacity:0.1; fill:none\" points=\"\n",
       "  112.177,716.04 2352.76,716.04 \n",
       "  \"/>\n",
       "<polyline clip-path=\"url(#clip272)\" style=\"stroke:#000000; stroke-width:2; stroke-opacity:0.1; fill:none\" points=\"\n",
       "  112.177,426.742 2352.76,426.742 \n",
       "  \"/>\n",
       "<polyline clip-path=\"url(#clip272)\" style=\"stroke:#000000; stroke-width:2; stroke-opacity:0.1; fill:none\" points=\"\n",
       "  112.177,137.444 2352.76,137.444 \n",
       "  \"/>\n",
       "<polyline clip-path=\"url(#clip270)\" style=\"stroke:#000000; stroke-width:4; stroke-opacity:1; fill:none\" points=\"\n",
       "  112.177,1486.45 112.177,47.2441 \n",
       "  \"/>\n",
       "<polyline clip-path=\"url(#clip270)\" style=\"stroke:#000000; stroke-width:4; stroke-opacity:1; fill:none\" points=\"\n",
       "  112.177,1294.64 139.064,1294.64 \n",
       "  \"/>\n",
       "<polyline clip-path=\"url(#clip270)\" style=\"stroke:#000000; stroke-width:4; stroke-opacity:1; fill:none\" points=\"\n",
       "  112.177,1005.34 139.064,1005.34 \n",
       "  \"/>\n",
       "<polyline clip-path=\"url(#clip270)\" style=\"stroke:#000000; stroke-width:4; stroke-opacity:1; fill:none\" points=\"\n",
       "  112.177,716.04 139.064,716.04 \n",
       "  \"/>\n",
       "<polyline clip-path=\"url(#clip270)\" style=\"stroke:#000000; stroke-width:4; stroke-opacity:1; fill:none\" points=\"\n",
       "  112.177,426.742 139.064,426.742 \n",
       "  \"/>\n",
       "<polyline clip-path=\"url(#clip270)\" style=\"stroke:#000000; stroke-width:4; stroke-opacity:1; fill:none\" points=\"\n",
       "  112.177,137.444 139.064,137.444 \n",
       "  \"/>\n",
       "<path clip-path=\"url(#clip270)\" d=\"M 0 0 M64.2328 1280.44 Q60.6217 1280.44 58.793 1284 Q56.9875 1287.54 56.9875 1294.67 Q56.9875 1301.78 58.793 1305.34 Q60.6217 1308.88 64.2328 1308.88 Q67.867 1308.88 69.6726 1305.34 Q71.5013 1301.78 71.5013 1294.67 Q71.5013 1287.54 69.6726 1284 Q67.867 1280.44 64.2328 1280.44 M64.2328 1276.73 Q70.0429 1276.73 73.0985 1281.34 Q76.1772 1285.92 76.1772 1294.67 Q76.1772 1303.4 73.0985 1308 Q70.0429 1312.59 64.2328 1312.59 Q58.4226 1312.59 55.344 1308 Q52.2884 1303.4 52.2884 1294.67 Q52.2884 1285.92 55.344 1281.34 Q58.4226 1276.73 64.2328 1276.73 Z\" fill=\"#000000\" fill-rule=\"evenodd\" fill-opacity=\"1\" /><path clip-path=\"url(#clip270)\" d=\"M 0 0 M59.8578 1018.68 L76.1772 1018.68 L76.1772 1022.62 L54.2328 1022.62 L54.2328 1018.68 Q56.8949 1015.93 61.4782 1011.3 Q66.0846 1006.65 67.2652 1005.3 Q69.5105 1002.78 70.3902 1001.04 Q71.2929 999.285 71.2929 997.595 Q71.2929 994.841 69.3485 993.105 Q67.4272 991.369 64.3254 991.369 Q62.1263 991.369 59.6726 992.132 Q57.2421 992.896 54.4643 994.447 L54.4643 989.725 Q57.2884 988.591 59.7421 988.012 Q62.1958 987.433 64.2328 987.433 Q69.6031 987.433 72.7976 990.119 Q75.992 992.804 75.992 997.294 Q75.992 999.424 75.1818 1001.35 Q74.3948 1003.24 72.2883 1005.84 Q71.7096 1006.51 68.6078 1009.72 Q65.5059 1012.92 59.8578 1018.68 Z\" fill=\"#000000\" fill-rule=\"evenodd\" fill-opacity=\"1\" /><path clip-path=\"url(#clip270)\" d=\"M 0 0 M66.5939 702.834 L54.7884 721.283 L66.5939 721.283 L66.5939 702.834 M65.367 698.76 L71.2466 698.76 L71.2466 721.283 L76.1772 721.283 L76.1772 725.172 L71.2466 725.172 L71.2466 733.32 L66.5939 733.32 L66.5939 725.172 L50.9921 725.172 L50.9921 720.658 L65.367 698.76 Z\" fill=\"#000000\" fill-rule=\"evenodd\" fill-opacity=\"1\" /><path clip-path=\"url(#clip270)\" d=\"M 0 0 M64.6495 424.879 Q61.5013 424.879 59.6495 427.032 Q57.8208 429.184 57.8208 432.934 Q57.8208 436.661 59.6495 438.837 Q61.5013 440.99 64.6495 440.99 Q67.7976 440.99 69.6263 438.837 Q71.4781 436.661 71.4781 432.934 Q71.4781 429.184 69.6263 427.032 Q67.7976 424.879 64.6495 424.879 M73.9318 410.226 L73.9318 414.485 Q72.1726 413.652 70.367 413.212 Q68.5846 412.772 66.8254 412.772 Q62.1958 412.772 59.7421 415.897 Q57.3115 419.022 56.9643 425.342 Q58.33 423.328 60.3902 422.263 Q62.4504 421.175 64.9272 421.175 Q70.1355 421.175 73.1448 424.346 Q76.1772 427.495 76.1772 432.934 Q76.1772 438.258 73.029 441.476 Q69.8809 444.694 64.6495 444.694 Q58.6541 444.694 55.4828 440.11 Q52.3116 435.504 52.3116 426.777 Q52.3116 418.583 56.2004 413.721 Q60.0893 408.837 66.6402 408.837 Q68.3994 408.837 70.1818 409.184 Q71.9874 409.532 73.9318 410.226 Z\" fill=\"#000000\" fill-rule=\"evenodd\" fill-opacity=\"1\" /><path clip-path=\"url(#clip270)\" d=\"M 0 0 M64.3254 138.312 Q60.9921 138.312 59.0708 140.095 Q57.1726 141.877 57.1726 145.002 Q57.1726 148.127 59.0708 149.909 Q60.9921 151.692 64.3254 151.692 Q67.6587 151.692 69.58 149.909 Q71.5013 148.104 71.5013 145.002 Q71.5013 141.877 69.58 140.095 Q67.6819 138.312 64.3254 138.312 M59.6495 136.321 Q56.6402 135.581 54.9504 133.521 Q53.2838 131.46 53.2838 128.497 Q53.2838 124.354 56.2236 121.947 Q59.1865 119.539 64.3254 119.539 Q69.4874 119.539 72.4272 121.947 Q75.367 124.354 75.367 128.497 Q75.367 131.46 73.6772 133.521 Q72.0105 135.581 69.0244 136.321 Q72.404 137.109 74.279 139.4 Q76.1772 141.692 76.1772 145.002 Q76.1772 150.025 73.0985 152.71 Q70.0429 155.395 64.3254 155.395 Q58.6078 155.395 55.5291 152.71 Q52.4736 150.025 52.4736 145.002 Q52.4736 141.692 54.3717 139.4 Q56.2699 137.109 59.6495 136.321 M57.9365 128.937 Q57.9365 131.622 59.6032 133.127 Q61.293 134.632 64.3254 134.632 Q67.3346 134.632 69.0244 133.127 Q70.7374 131.622 70.7374 128.937 Q70.7374 126.252 69.0244 124.747 Q67.3346 123.243 64.3254 123.243 Q61.293 123.243 59.6032 124.747 Q57.9365 126.252 57.9365 128.937 Z\" fill=\"#000000\" fill-rule=\"evenodd\" fill-opacity=\"1\" /><circle clip-path=\"url(#clip272)\" cx=\"175.59\" cy=\"1277.93\" r=\"14\" fill=\"#009af9\" fill-rule=\"evenodd\" fill-opacity=\"1\" stroke=\"#000000\" stroke-opacity=\"1\" stroke-width=\"3.2\"/>\n",
       "<circle clip-path=\"url(#clip272)\" cx=\"281.277\" cy=\"1165\" r=\"14\" fill=\"#009af9\" fill-rule=\"evenodd\" fill-opacity=\"1\" stroke=\"#000000\" stroke-opacity=\"1\" stroke-width=\"3.2\"/>\n",
       "<circle clip-path=\"url(#clip272)\" cx=\"386.965\" cy=\"1221.02\" r=\"14\" fill=\"#009af9\" fill-rule=\"evenodd\" fill-opacity=\"1\" stroke=\"#000000\" stroke-opacity=\"1\" stroke-width=\"3.2\"/>\n",
       "<circle clip-path=\"url(#clip272)\" cx=\"492.653\" cy=\"1393.36\" r=\"14\" fill=\"#009af9\" fill-rule=\"evenodd\" fill-opacity=\"1\" stroke=\"#000000\" stroke-opacity=\"1\" stroke-width=\"3.2\"/>\n",
       "<circle clip-path=\"url(#clip272)\" cx=\"598.34\" cy=\"1432.9\" r=\"14\" fill=\"#009af9\" fill-rule=\"evenodd\" fill-opacity=\"1\" stroke=\"#000000\" stroke-opacity=\"1\" stroke-width=\"3.2\"/>\n",
       "<circle clip-path=\"url(#clip272)\" cx=\"704.028\" cy=\"1298.36\" r=\"14\" fill=\"#009af9\" fill-rule=\"evenodd\" fill-opacity=\"1\" stroke=\"#000000\" stroke-opacity=\"1\" stroke-width=\"3.2\"/>\n",
       "<circle clip-path=\"url(#clip272)\" cx=\"809.716\" cy=\"1156.28\" r=\"14\" fill=\"#009af9\" fill-rule=\"evenodd\" fill-opacity=\"1\" stroke=\"#000000\" stroke-opacity=\"1\" stroke-width=\"3.2\"/>\n",
       "<circle clip-path=\"url(#clip272)\" cx=\"915.404\" cy=\"1221.85\" r=\"14\" fill=\"#009af9\" fill-rule=\"evenodd\" fill-opacity=\"1\" stroke=\"#000000\" stroke-opacity=\"1\" stroke-width=\"3.2\"/>\n",
       "<circle clip-path=\"url(#clip272)\" cx=\"1021.09\" cy=\"1393.91\" r=\"14\" fill=\"#009af9\" fill-rule=\"evenodd\" fill-opacity=\"1\" stroke=\"#000000\" stroke-opacity=\"1\" stroke-width=\"3.2\"/>\n",
       "<circle clip-path=\"url(#clip272)\" cx=\"1126.78\" cy=\"1445.72\" r=\"14\" fill=\"#009af9\" fill-rule=\"evenodd\" fill-opacity=\"1\" stroke=\"#000000\" stroke-opacity=\"1\" stroke-width=\"3.2\"/>\n",
       "<circle clip-path=\"url(#clip272)\" cx=\"1232.47\" cy=\"1284.69\" r=\"14\" fill=\"#009af9\" fill-rule=\"evenodd\" fill-opacity=\"1\" stroke=\"#000000\" stroke-opacity=\"1\" stroke-width=\"3.2\"/>\n",
       "<circle clip-path=\"url(#clip272)\" cx=\"1338.15\" cy=\"981.351\" r=\"14\" fill=\"#009af9\" fill-rule=\"evenodd\" fill-opacity=\"1\" stroke=\"#000000\" stroke-opacity=\"1\" stroke-width=\"3.2\"/>\n",
       "<circle clip-path=\"url(#clip272)\" cx=\"1443.84\" cy=\"915.171\" r=\"14\" fill=\"#009af9\" fill-rule=\"evenodd\" fill-opacity=\"1\" stroke=\"#000000\" stroke-opacity=\"1\" stroke-width=\"3.2\"/>\n",
       "<circle clip-path=\"url(#clip272)\" cx=\"1549.53\" cy=\"807.446\" r=\"14\" fill=\"#009af9\" fill-rule=\"evenodd\" fill-opacity=\"1\" stroke=\"#000000\" stroke-opacity=\"1\" stroke-width=\"3.2\"/>\n",
       "<circle clip-path=\"url(#clip272)\" cx=\"1655.22\" cy=\"642.36\" r=\"14\" fill=\"#009af9\" fill-rule=\"evenodd\" fill-opacity=\"1\" stroke=\"#000000\" stroke-opacity=\"1\" stroke-width=\"3.2\"/>\n",
       "<circle clip-path=\"url(#clip272)\" cx=\"1760.9\" cy=\"562.547\" r=\"14\" fill=\"#009af9\" fill-rule=\"evenodd\" fill-opacity=\"1\" stroke=\"#000000\" stroke-opacity=\"1\" stroke-width=\"3.2\"/>\n",
       "<circle clip-path=\"url(#clip272)\" cx=\"1866.59\" cy=\"470.128\" r=\"14\" fill=\"#009af9\" fill-rule=\"evenodd\" fill-opacity=\"1\" stroke=\"#000000\" stroke-opacity=\"1\" stroke-width=\"3.2\"/>\n",
       "<circle clip-path=\"url(#clip272)\" cx=\"1972.28\" cy=\"345.007\" r=\"14\" fill=\"#009af9\" fill-rule=\"evenodd\" fill-opacity=\"1\" stroke=\"#000000\" stroke-opacity=\"1\" stroke-width=\"3.2\"/>\n",
       "<circle clip-path=\"url(#clip272)\" cx=\"2077.97\" cy=\"284.036\" r=\"14\" fill=\"#009af9\" fill-rule=\"evenodd\" fill-opacity=\"1\" stroke=\"#000000\" stroke-opacity=\"1\" stroke-width=\"3.2\"/>\n",
       "<circle clip-path=\"url(#clip272)\" cx=\"2183.66\" cy=\"181.151\" r=\"14\" fill=\"#009af9\" fill-rule=\"evenodd\" fill-opacity=\"1\" stroke=\"#000000\" stroke-opacity=\"1\" stroke-width=\"3.2\"/>\n",
       "<circle clip-path=\"url(#clip272)\" cx=\"2289.34\" cy=\"87.9763\" r=\"14\" fill=\"#009af9\" fill-rule=\"evenodd\" fill-opacity=\"1\" stroke=\"#000000\" stroke-opacity=\"1\" stroke-width=\"3.2\"/>\n",
       "<path clip-path=\"url(#clip270)\" d=\"\n",
       "M1978.1 216.178 L2278.07 216.178 L2278.07 95.2176 L1978.1 95.2176  Z\n",
       "  \" fill=\"#ffffff\" fill-rule=\"evenodd\" fill-opacity=\"1\"/>\n",
       "<polyline clip-path=\"url(#clip270)\" style=\"stroke:#000000; stroke-width:4; stroke-opacity:1; fill:none\" points=\"\n",
       "  1978.1,216.178 2278.07,216.178 2278.07,95.2176 1978.1,95.2176 1978.1,216.178 \n",
       "  \"/>\n",
       "<circle clip-path=\"url(#clip270)\" cx=\"2077.68\" cy=\"155.698\" r=\"23\" fill=\"#009af9\" fill-rule=\"evenodd\" fill-opacity=\"1\" stroke=\"#000000\" stroke-opacity=\"1\" stroke-width=\"5.12\"/>\n",
       "<path clip-path=\"url(#clip270)\" d=\"M 0 0 M2191.1 175.385 Q2189.3 180.015 2187.59 181.427 Q2185.87 182.839 2183 182.839 L2179.6 182.839 L2179.6 179.274 L2182.1 179.274 Q2183.86 179.274 2184.83 178.44 Q2185.8 177.607 2186.98 174.505 L2187.75 172.561 L2177.26 147.052 L2181.77 147.052 L2189.88 167.329 L2197.98 147.052 L2202.49 147.052 L2191.1 175.385 Z\" fill=\"#000000\" fill-rule=\"evenodd\" fill-opacity=\"1\" /><path clip-path=\"url(#clip270)\" d=\"M 0 0 M2208.37 169.042 L2216.01 169.042 L2216.01 142.677 L2207.7 144.343 L2207.7 140.084 L2215.96 138.418 L2220.64 138.418 L2220.64 169.042 L2228.28 169.042 L2228.28 172.978 L2208.37 172.978 L2208.37 169.042 Z\" fill=\"#000000\" fill-rule=\"evenodd\" fill-opacity=\"1\" /></svg>\n"
      ]
     },
     "execution_count": 60,
     "metadata": {},
     "output_type": "execute_result"
    }
   ],
   "source": [
    "scatter(0.0:0.1:2.0, [first(y) for y in m.([x] for x in 0.0:0.1:2.0)])\n"
   ]
  },
  {
   "cell_type": "code",
   "execution_count": null,
   "metadata": {},
   "outputs": [],
   "source": []
  }
 ],
 "metadata": {
  "@webio": {
   "lastCommId": null,
   "lastKernelId": null
  },
  "kernelspec": {
   "display_name": "Julia 1.5.3",
   "language": "julia",
   "name": "julia-1.5"
  },
  "language_info": {
   "file_extension": ".jl",
   "mimetype": "application/julia",
   "name": "julia",
   "version": "1.5.3"
  }
 },
 "nbformat": 4,
 "nbformat_minor": 2
}
