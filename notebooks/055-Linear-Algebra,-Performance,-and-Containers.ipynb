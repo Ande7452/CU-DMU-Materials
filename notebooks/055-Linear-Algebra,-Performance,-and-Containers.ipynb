{
 "cells": [
  {
   "cell_type": "markdown",
   "id": "6707d50d",
   "metadata": {},
   "source": [
    "## Two ways of interacting with (PO)MDPs: state objects and indices"
   ]
  },
  {
   "cell_type": "code",
   "execution_count": 1,
   "id": "a9f41cfa",
   "metadata": {},
   "outputs": [],
   "source": [
    "using DMUStudent: HW2\n",
    "using POMDPs"
   ]
  },
  {
   "cell_type": "code",
   "execution_count": 2,
   "id": "b2f41756",
   "metadata": {},
   "outputs": [
    {
     "data": {
      "text/plain": [
       "POMDPModels.SimpleGridWorld\n",
       "  size: Tuple{Int64, Int64}\n",
       "  rewards: Dict{StaticArraysCore.SVector{2, Int64}, Float64}\n",
       "  terminate_from: Set{StaticArraysCore.SVector{2, Int64}}\n",
       "  tprob: Float64 0.7\n",
       "  discount: Float64 0.95\n"
      ]
     },
     "metadata": {},
     "output_type": "display_data"
    }
   ],
   "source": [
    "m = HW2.grid_world"
   ]
  },
  {
   "cell_type": "code",
   "execution_count": 3,
   "id": "1fd9e5c7",
   "metadata": {},
   "outputs": [
    {
     "data": {
      "text/plain": [
       "101-element Vector{StaticArraysCore.SVector{2, Int64}}:\n",
       " [1, 1]\n",
       " [2, 1]\n",
       " [3, 1]\n",
       " [4, 1]\n",
       " [5, 1]\n",
       " [6, 1]\n",
       " [7, 1]\n",
       " [8, 1]\n",
       " [9, 1]\n",
       " [10, 1]\n",
       " ⋮\n",
       " [3, 10]\n",
       " [4, 10]\n",
       " [5, 10]\n",
       " [6, 10]\n",
       " [7, 10]\n",
       " [8, 10]\n",
       " [9, 10]\n",
       " [10, 10]\n",
       " [-1, -1]"
      ]
     },
     "metadata": {},
     "output_type": "display_data"
    }
   ],
   "source": [
    "states(m) # state objects"
   ]
  },
  {
   "cell_type": "code",
   "execution_count": 4,
   "id": "2cbbf9b9",
   "metadata": {},
   "outputs": [
    {
     "data": {
      "text/plain": [
       "1:101"
      ]
     },
     "metadata": {},
     "output_type": "display_data"
    }
   ],
   "source": [
    "1:length(states(m)) # state indices"
   ]
  },
  {
   "cell_type": "code",
   "execution_count": 5,
   "id": "3907f0f2",
   "metadata": {},
   "outputs": [
    {
     "data": {
      "text/plain": [
       "76"
      ]
     },
     "metadata": {},
     "output_type": "display_data"
    }
   ],
   "source": [
    "stateindex(m, [6,8])"
   ]
  },
  {
   "cell_type": "code",
   "execution_count": 6,
   "id": "0ba44f35",
   "metadata": {},
   "outputs": [
    {
     "data": {
      "text/plain": [
       "                      \u001b[1mSparseCat distribution\u001b[22m           \n",
       "            \u001b[90m┌                                        ┐\u001b[39m \n",
       "     \u001b[0m[1, 1] \u001b[90m┤\u001b[39m\u001b[38;5;2m■■■■■■■■■■■■■■■■■■■■\u001b[39m\u001b[0m 0.7999999999999999 \u001b[90m \u001b[39m \n",
       "     \u001b[0m[1, 2] \u001b[90m┤\u001b[39m\u001b[38;5;2m■■■\u001b[39m\u001b[0m 0.10000000000000002                 \u001b[90m \u001b[39m \n",
       "   \u001b[0m[-1, -1] \u001b[90m┤\u001b[39m\u001b[0m 0.0                                    \u001b[90m \u001b[39m \n",
       "   \u001b[0m[-1, -1] \u001b[90m┤\u001b[39m\u001b[0m 0.0                                    \u001b[90m \u001b[39m \n",
       "     \u001b[0m[2, 1] \u001b[90m┤\u001b[39m\u001b[38;5;2m■■■\u001b[39m\u001b[0m 0.10000000000000002                 \u001b[90m \u001b[39m \n",
       "            \u001b[90m└                                        ┘\u001b[39m "
      ]
     },
     "metadata": {},
     "output_type": "display_data"
    }
   ],
   "source": [
    "transition(m, [1,1], :left) # state objects"
   ]
  },
  {
   "cell_type": "code",
   "execution_count": 7,
   "id": "cded45a9",
   "metadata": {},
   "outputs": [
    {
     "data": {
      "text/plain": [
       "Dict{Symbol, Matrix{Float64}} with 4 entries:\n",
       "  :left  => [0.8 0.1 … 0.0 0.0; 0.7 0.1 … 0.0 0.0; … ; 0.0 0.0 … 0.2 0.0; 0.0 0…\n",
       "  :right => [0.2 0.7 … 0.0 0.0; 0.1 0.1 … 0.0 0.0; … ; 0.0 0.0 … 0.8 0.0; 0.0 0…\n",
       "  :up    => [0.2 0.1 … 0.0 0.0; 0.1 0.1 … 0.0 0.0; … ; 0.0 0.0 … 0.8 0.0; 0.0 0…\n",
       "  :down  => [0.8 0.1 … 0.0 0.0; 0.1 0.7 … 0.0 0.0; … ; 0.0 0.0 … 0.2 0.0; 0.0 0…"
      ]
     },
     "metadata": {},
     "output_type": "display_data"
    }
   ],
   "source": [
    "T = HW2.transition_matrices(m) # state indices"
   ]
  },
  {
   "cell_type": "code",
   "execution_count": 8,
   "id": "13a38164",
   "metadata": {},
   "outputs": [
    {
     "data": {
      "text/plain": [
       "0.10000000000000002"
      ]
     },
     "metadata": {},
     "output_type": "display_data"
    }
   ],
   "source": [
    "T[:left][1, 2]"
   ]
  },
  {
   "cell_type": "code",
   "execution_count": 9,
   "id": "0cc72525",
   "metadata": {},
   "outputs": [
    {
     "data": {
      "text/plain": [
       "0.7"
      ]
     },
     "metadata": {},
     "output_type": "display_data"
    }
   ],
   "source": [
    "T[:right][stateindex(m, [1,1]), stateindex(m, [2,1])]"
   ]
  },
  {
   "cell_type": "code",
   "execution_count": 10,
   "id": "844cb339",
   "metadata": {},
   "outputs": [
    {
     "data": {
      "text/plain": [
       "Dict{Symbol, Vector{Float64}} with 4 entries:\n",
       "  :left  => [0.0, 0.0, 0.0, 0.0, 0.0, 0.0, 0.0, 0.0, 0.0, 0.0  …  0.0, 0.0, 0.0…\n",
       "  :right => [0.0, 0.0, 0.0, 0.0, 0.0, 0.0, 0.0, 0.0, 0.0, 0.0  …  0.0, 0.0, 0.0…\n",
       "  :up    => [0.0, 0.0, 0.0, 0.0, 0.0, 0.0, 0.0, 0.0, 0.0, 0.0  …  0.0, 0.0, 0.0…\n",
       "  :down  => [0.0, 0.0, 0.0, 0.0, 0.0, 0.0, 0.0, 0.0, 0.0, 0.0  …  0.0, 0.0, 0.0…"
      ]
     },
     "metadata": {},
     "output_type": "display_data"
    }
   ],
   "source": [
    "R = HW2.reward_vectors(m) # state indices"
   ]
  },
  {
   "cell_type": "code",
   "execution_count": 13,
   "id": "c722cf80",
   "metadata": {},
   "outputs": [],
   "source": [
    "using POMDPTools: ordered_states"
   ]
  },
  {
   "cell_type": "code",
   "execution_count": 14,
   "id": "d5c3a09d",
   "metadata": {},
   "outputs": [
    {
     "data": {
      "text/plain": [
       "101-element Vector{StaticArraysCore.SVector{2, Int64}}:\n",
       " [1, 1]\n",
       " [2, 1]\n",
       " [3, 1]\n",
       " [4, 1]\n",
       " [5, 1]\n",
       " [6, 1]\n",
       " [7, 1]\n",
       " [8, 1]\n",
       " [9, 1]\n",
       " [10, 1]\n",
       " ⋮\n",
       " [3, 10]\n",
       " [4, 10]\n",
       " [5, 10]\n",
       " [6, 10]\n",
       " [7, 10]\n",
       " [8, 10]\n",
       " [9, 10]\n",
       " [10, 10]\n",
       " [-1, -1]"
      ]
     },
     "metadata": {},
     "output_type": "display_data"
    }
   ],
   "source": [
    "ordered_states(m)"
   ]
  },
  {
   "cell_type": "markdown",
   "id": "f39c2c06",
   "metadata": {},
   "source": [
    "## For Homework 2, you only need to use state indices\n",
    "(if you want)"
   ]
  },
  {
   "cell_type": "markdown",
   "id": "bc26f131",
   "metadata": {},
   "source": [
    "# Linear Algebra"
   ]
  },
  {
   "cell_type": "code",
   "execution_count": 15,
   "id": "828c84b1",
   "metadata": {},
   "outputs": [
    {
     "data": {
      "text/plain": [
       "2-element Vector{Int64}:\n",
       " 1\n",
       " 2"
      ]
     },
     "metadata": {},
     "output_type": "display_data"
    }
   ],
   "source": [
    "x = [1,2]"
   ]
  },
  {
   "cell_type": "code",
   "execution_count": 16,
   "id": "5bd3e49b",
   "metadata": {},
   "outputs": [
    {
     "data": {
      "text/plain": [
       "2×2 Matrix{Int64}:\n",
       " 1  2\n",
       " 3  4"
      ]
     },
     "metadata": {},
     "output_type": "display_data"
    }
   ],
   "source": [
    "A = [1 2; 3 4]"
   ]
  },
  {
   "cell_type": "code",
   "execution_count": 17,
   "id": "1dcc8086",
   "metadata": {},
   "outputs": [
    {
     "data": {
      "text/plain": [
       "Vector{Int64}\u001b[90m (alias for \u001b[39m\u001b[90mArray{Int64, 1}\u001b[39m\u001b[90m)\u001b[39m"
      ]
     },
     "metadata": {},
     "output_type": "display_data"
    }
   ],
   "source": [
    "Vector{Int64}"
   ]
  },
  {
   "cell_type": "code",
   "execution_count": 18,
   "id": "c9a00cb2",
   "metadata": {},
   "outputs": [
    {
     "data": {
      "text/plain": [
       "Matrix{Int64}\u001b[90m (alias for \u001b[39m\u001b[90mArray{Int64, 2}\u001b[39m\u001b[90m)\u001b[39m"
      ]
     },
     "metadata": {},
     "output_type": "display_data"
    }
   ],
   "source": [
    "Matrix{Int64}"
   ]
  },
  {
   "cell_type": "code",
   "execution_count": 19,
   "id": "f2a957c1",
   "metadata": {},
   "outputs": [
    {
     "data": {
      "text/plain": [
       "2×2 Matrix{Float64}:\n",
       " -2.0   1.0\n",
       "  1.5  -0.5"
      ]
     },
     "metadata": {},
     "output_type": "display_data"
    }
   ],
   "source": [
    "inv(A)"
   ]
  },
  {
   "cell_type": "code",
   "execution_count": 20,
   "id": "19164298",
   "metadata": {},
   "outputs": [
    {
     "ename": "UndefVarError",
     "evalue": "UndefVarError: norm not defined",
     "output_type": "error",
     "traceback": [
      "UndefVarError: norm not defined\n",
      "\n",
      "Stacktrace:\n",
      " [1] top-level scope\n",
      "   @ ~/dev/CU-DMU-Materials/notebooks/055-Linear-Algebra,-Performance,-and-Containers.ipynb:1"
     ]
    }
   ],
   "source": [
    "norm(x)"
   ]
  },
  {
   "cell_type": "code",
   "execution_count": 21,
   "id": "6d547baf",
   "metadata": {},
   "outputs": [],
   "source": [
    "using LinearAlgebra: norm"
   ]
  },
  {
   "cell_type": "code",
   "execution_count": 22,
   "id": "8754b88c",
   "metadata": {},
   "outputs": [
    {
     "data": {
      "text/plain": [
       "2.23606797749979"
      ]
     },
     "metadata": {},
     "output_type": "display_data"
    }
   ],
   "source": [
    "norm(x)"
   ]
  },
  {
   "cell_type": "markdown",
   "id": "ce0562dc",
   "metadata": {},
   "source": [
    "## Use the \"dot syntax\" to broadcast operations"
   ]
  },
  {
   "cell_type": "code",
   "execution_count": 23,
   "id": "94acbbc4",
   "metadata": {},
   "outputs": [
    {
     "ename": "MethodError",
     "evalue": "MethodError: no method matching ^(::Vector{Int64}, ::Int64)\nClosest candidates are:\n  ^(!Matched::Union{AbstractChar, AbstractString}, ::Integer) at strings/basic.jl:730\n  ^(!Matched::LinearAlgebra.Symmetric{var\"#s884\", S} where {var\"#s884\"<:Real, S<:(AbstractMatrix{<:var\"#s884\"})}, ::Integer) at /opt/julia-1.8.0/share/julia/stdlib/v1.8/LinearAlgebra/src/symmetric.jl:674\n  ^(!Matched::LinearAlgebra.Symmetric{var\"#s884\", S} where {var\"#s884\"<:Complex, S<:(AbstractMatrix{<:var\"#s884\"})}, ::Integer) at /opt/julia-1.8.0/share/julia/stdlib/v1.8/LinearAlgebra/src/symmetric.jl:675\n  ...",
     "output_type": "error",
     "traceback": [
      "MethodError: no method matching ^(::Vector{Int64}, ::Int64)\n",
      "Closest candidates are:\n",
      "  ^(!Matched::Union{AbstractChar, AbstractString}, ::Integer) at strings/basic.jl:730\n",
      "  ^(!Matched::LinearAlgebra.Symmetric{var\"#s884\", S} where {var\"#s884\"<:Real, S<:(AbstractMatrix{<:var\"#s884\"})}, ::Integer) at /opt/julia-1.8.0/share/julia/stdlib/v1.8/LinearAlgebra/src/symmetric.jl:674\n",
      "  ^(!Matched::LinearAlgebra.Symmetric{var\"#s884\", S} where {var\"#s884\"<:Complex, S<:(AbstractMatrix{<:var\"#s884\"})}, ::Integer) at /opt/julia-1.8.0/share/julia/stdlib/v1.8/LinearAlgebra/src/symmetric.jl:675\n",
      "  ...\n",
      "\n",
      "Stacktrace:\n",
      " [1] literal_pow(f::typeof(^), x::Vector{Int64}, #unused#::Val{2})\n",
      "   @ Base ./intfuncs.jl:340\n",
      " [2] top-level scope\n",
      "   @ ~/dev/CU-DMU-Materials/notebooks/055-Linear-Algebra,-Performance,-and-Containers.ipynb:1"
     ]
    }
   ],
   "source": [
    "x^2"
   ]
  },
  {
   "cell_type": "code",
   "execution_count": 24,
   "id": "2edde469",
   "metadata": {},
   "outputs": [
    {
     "data": {
      "text/plain": [
       "2-element Vector{Int64}:\n",
       " 1\n",
       " 4"
      ]
     },
     "metadata": {},
     "output_type": "display_data"
    }
   ],
   "source": [
    "x.^2"
   ]
  },
  {
   "cell_type": "markdown",
   "id": "fe3dcb1d",
   "metadata": {},
   "source": [
    "## It automatically works for any function (including your own)"
   ]
  },
  {
   "cell_type": "code",
   "execution_count": 25,
   "id": "a3f1fde8",
   "metadata": {},
   "outputs": [
    {
     "data": {
      "text/plain": [
       "f (generic function with 1 method)"
      ]
     },
     "metadata": {},
     "output_type": "display_data"
    }
   ],
   "source": [
    "f(a) = sqrt(a) + 1"
   ]
  },
  {
   "cell_type": "code",
   "execution_count": 26,
   "id": "2fa2f28f",
   "metadata": {},
   "outputs": [
    {
     "ename": "MethodError",
     "evalue": "MethodError: no method matching sqrt(::Vector{Int64})\nClosest candidates are:\n  sqrt(!Matched::Union{Float32, Float64}) at math.jl:590\n  sqrt(!Matched::StridedMatrix{T}) where T<:Union{Real, Complex} at /opt/julia-1.8.0/share/julia/stdlib/v1.8/LinearAlgebra/src/dense.jl:853\n  sqrt(!Matched::PDMats.ScalMat) at ~/.julia/packages/PDMats/ZW0lN/src/scalmat.jl:68\n  ...",
     "output_type": "error",
     "traceback": [
      "MethodError: no method matching sqrt(::Vector{Int64})\n",
      "Closest candidates are:\n",
      "  sqrt(!Matched::Union{Float32, Float64}) at math.jl:590\n",
      "  sqrt(!Matched::StridedMatrix{T}) where T<:Union{Real, Complex} at /opt/julia-1.8.0/share/julia/stdlib/v1.8/LinearAlgebra/src/dense.jl:853\n",
      "  sqrt(!Matched::PDMats.ScalMat) at ~/.julia/packages/PDMats/ZW0lN/src/scalmat.jl:68\n",
      "  ...\n",
      "\n",
      "Stacktrace:\n",
      " [1] f(a::Vector{Int64})\n",
      "   @ Main ~/dev/CU-DMU-Materials/notebooks/055-Linear-Algebra,-Performance,-and-Containers.ipynb:1\n",
      " [2] top-level scope\n",
      "   @ ~/dev/CU-DMU-Materials/notebooks/055-Linear-Algebra,-Performance,-and-Containers.ipynb:1"
     ]
    }
   ],
   "source": [
    "f(x)"
   ]
  },
  {
   "cell_type": "code",
   "execution_count": 27,
   "id": "cbca34f5",
   "metadata": {},
   "outputs": [
    {
     "data": {
      "text/plain": [
       "2-element Vector{Float64}:\n",
       " 2.0\n",
       " 2.414213562373095"
      ]
     },
     "metadata": {},
     "output_type": "display_data"
    }
   ],
   "source": [
    "f.(x)"
   ]
  },
  {
   "cell_type": "code",
   "execution_count": 28,
   "id": "82c08e71",
   "metadata": {},
   "outputs": [
    {
     "data": {
      "text/plain": [
       "2"
      ]
     },
     "metadata": {},
     "output_type": "display_data"
    }
   ],
   "source": [
    "max(1,2)"
   ]
  },
  {
   "cell_type": "code",
   "execution_count": 29,
   "id": "fa5a09bf",
   "metadata": {},
   "outputs": [
    {
     "ename": "MethodError",
     "evalue": "MethodError: no method matching max(::Vector{Int64})\nClosest candidates are:\n  max(::Any, !Matched::Missing) at missing.jl:137\n  max(::Any, !Matched::Any) at operators.jl:480\n  max(::Any, !Matched::Any, !Matched::Any, !Matched::Any...) at operators.jl:591\n  ...",
     "output_type": "error",
     "traceback": [
      "MethodError: no method matching max(::Vector{Int64})\n",
      "Closest candidates are:\n",
      "  max(::Any, !Matched::Missing) at missing.jl:137\n",
      "  max(::Any, !Matched::Any) at operators.jl:480\n",
      "  max(::Any, !Matched::Any, !Matched::Any, !Matched::Any...) at operators.jl:591\n",
      "  ...\n",
      "\n",
      "Stacktrace:\n",
      " [1] top-level scope\n",
      "   @ ~/dev/CU-DMU-Materials/notebooks/055-Linear-Algebra,-Performance,-and-Containers.ipynb:1"
     ]
    }
   ],
   "source": [
    "max([1,2,3])"
   ]
  },
  {
   "cell_type": "code",
   "execution_count": 30,
   "id": "f5cb259d",
   "metadata": {},
   "outputs": [
    {
     "data": {
      "text/plain": [
       "3"
      ]
     },
     "metadata": {},
     "output_type": "display_data"
    }
   ],
   "source": [
    "maximum([1,2,3])"
   ]
  },
  {
   "cell_type": "code",
   "execution_count": 31,
   "id": "567865ed",
   "metadata": {},
   "outputs": [],
   "source": []
  },
  {
   "cell_type": "code",
   "execution_count": 32,
   "id": "8f46afa0",
   "metadata": {},
   "outputs": [],
   "source": []
  },
  {
   "cell_type": "markdown",
   "id": "2a2967ba",
   "metadata": {},
   "source": [
    "# Dictionaries\n",
    "\n",
    "Dictionaries are hash maps that can store any object with any index"
   ]
  },
  {
   "cell_type": "code",
   "execution_count": 33,
   "id": "f2ae151a",
   "metadata": {},
   "outputs": [
    {
     "data": {
      "text/plain": [
       "Dict{Any, Int64} with 2 entries:\n",
       "  2   => 3\n",
       "  \"a\" => 1"
      ]
     },
     "metadata": {},
     "output_type": "display_data"
    }
   ],
   "source": [
    "d = Dict(\"a\"=>1, 2=>3)"
   ]
  },
  {
   "cell_type": "code",
   "execution_count": 34,
   "id": "3c5dc889",
   "metadata": {},
   "outputs": [
    {
     "data": {
      "text/plain": [
       "3"
      ]
     },
     "metadata": {},
     "output_type": "display_data"
    }
   ],
   "source": [
    "d[2]"
   ]
  },
  {
   "cell_type": "code",
   "execution_count": 35,
   "id": "a6c2ed5f",
   "metadata": {},
   "outputs": [
    {
     "ename": "KeyError",
     "evalue": "KeyError: key 1 not found",
     "output_type": "error",
     "traceback": [
      "KeyError: key 1 not found\n",
      "\n",
      "Stacktrace:\n",
      " [1] getindex(h::Dict{Any, Int64}, key::Int64)\n",
      "   @ Base ./dict.jl:498\n",
      " [2] top-level scope\n",
      "   @ ~/dev/CU-DMU-Materials/notebooks/055-Linear-Algebra,-Performance,-and-Containers.ipynb:1"
     ]
    }
   ],
   "source": [
    "d[1]"
   ]
  },
  {
   "cell_type": "code",
   "execution_count": 36,
   "id": "ccc34c8d",
   "metadata": {},
   "outputs": [
    {
     "data": {
      "text/plain": [
       "5"
      ]
     },
     "metadata": {},
     "output_type": "display_data"
    }
   ],
   "source": [
    "d[4] = 5"
   ]
  },
  {
   "cell_type": "code",
   "execution_count": 37,
   "id": "26804ff7",
   "metadata": {},
   "outputs": [
    {
     "data": {
      "text/plain": [
       "Dict{Any, Int64} with 3 entries:\n",
       "  4   => 5\n",
       "  2   => 3\n",
       "  \"a\" => 1"
      ]
     },
     "metadata": {},
     "output_type": "display_data"
    }
   ],
   "source": [
    "d"
   ]
  },
  {
   "cell_type": "code",
   "execution_count": 38,
   "id": "bf07a7ff",
   "metadata": {},
   "outputs": [],
   "source": []
  },
  {
   "cell_type": "code",
   "execution_count": null,
   "id": "cb557509",
   "metadata": {},
   "outputs": [],
   "source": []
  }
 ],
 "metadata": {
  "kernelspec": {
   "display_name": "Julia 1.8.0",
   "language": "julia",
   "name": "julia-1.8"
  },
  "language_info": {
   "file_extension": ".jl",
   "mimetype": "application/julia",
   "name": "julia",
   "version": "1.8.0"
  }
 },
 "nbformat": 4,
 "nbformat_minor": 5
}
