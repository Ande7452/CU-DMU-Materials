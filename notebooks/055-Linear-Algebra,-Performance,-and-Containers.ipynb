{
 "cells": [
  {
   "cell_type": "markdown",
   "id": "6707d50d",
   "metadata": {},
   "source": [
    "## Two ways of interacting with (PO)MDPs: state objects and indices"
   ]
  },
  {
   "cell_type": "code",
   "execution_count": 32,
   "id": "a9f41cfa",
   "metadata": {},
   "outputs": [],
   "source": [
    "using DMUStudent: HW2\n",
    "using POMDPs"
   ]
  },
  {
   "cell_type": "code",
   "execution_count": 33,
   "id": "b2f41756",
   "metadata": {},
   "outputs": [
    {
     "data": {
      "text/plain": [
       "POMDPModels.SimpleGridWorld\n",
       "  size: Tuple{Int64, Int64}\n",
       "  rewards: Dict{StaticArrays.SVector{2, Int64}, Float64}\n",
       "  terminate_from: Set{StaticArrays.SVector{2, Int64}}\n",
       "  tprob: Float64 0.7\n",
       "  discount: Float64 0.95\n"
      ]
     },
     "execution_count": 33,
     "metadata": {},
     "output_type": "execute_result"
    }
   ],
   "source": [
    "m = HW2.grid_world"
   ]
  },
  {
   "cell_type": "code",
   "execution_count": 34,
   "id": "1fd9e5c7",
   "metadata": {},
   "outputs": [
    {
     "data": {
      "text/plain": [
       "101-element Vector{StaticArrays.SVector{2, Int64}}:\n",
       " [1, 1]\n",
       " [2, 1]\n",
       " [3, 1]\n",
       " [4, 1]\n",
       " [5, 1]\n",
       " [6, 1]\n",
       " [7, 1]\n",
       " [8, 1]\n",
       " [9, 1]\n",
       " [10, 1]\n",
       " [1, 2]\n",
       " [2, 2]\n",
       " [3, 2]\n",
       " ⋮\n",
       " [10, 9]\n",
       " [1, 10]\n",
       " [2, 10]\n",
       " [3, 10]\n",
       " [4, 10]\n",
       " [5, 10]\n",
       " [6, 10]\n",
       " [7, 10]\n",
       " [8, 10]\n",
       " [9, 10]\n",
       " [10, 10]\n",
       " [-1, -1]"
      ]
     },
     "execution_count": 34,
     "metadata": {},
     "output_type": "execute_result"
    }
   ],
   "source": [
    "states(m) # state objects"
   ]
  },
  {
   "cell_type": "code",
   "execution_count": 35,
   "id": "2cbbf9b9",
   "metadata": {},
   "outputs": [
    {
     "data": {
      "text/plain": [
       "1:101"
      ]
     },
     "execution_count": 35,
     "metadata": {},
     "output_type": "execute_result"
    }
   ],
   "source": [
    "1:length(states(m)) # state indices"
   ]
  },
  {
   "cell_type": "code",
   "execution_count": 37,
   "id": "3907f0f2",
   "metadata": {},
   "outputs": [
    {
     "data": {
      "text/plain": [
       "76"
      ]
     },
     "execution_count": 37,
     "metadata": {},
     "output_type": "execute_result"
    }
   ],
   "source": [
    "stateindex(m, [6,8])"
   ]
  },
  {
   "cell_type": "code",
   "execution_count": 38,
   "id": "0ba44f35",
   "metadata": {},
   "outputs": [
    {
     "data": {
      "text/plain": [
       "                      \u001b[1mSparseCat distribution\u001b[22m           \n",
       "            \u001b[90m┌                                        ┐\u001b[39m \n",
       "     \u001b[0m[1, 1] \u001b[90m┤\u001b[39m\u001b[38;5;2m■■■■■■■■■■■■■■■■■■■■\u001b[39m\u001b[0m 0.7999999999999999 \u001b[90m \u001b[39m \n",
       "     \u001b[0m[1, 2] \u001b[90m┤\u001b[39m\u001b[38;5;2m■■■\u001b[39m\u001b[0m 0.10000000000000002                 \u001b[90m \u001b[39m \n",
       "   \u001b[0m[-1, -1] \u001b[90m┤\u001b[39m\u001b[0m 0.0                                    \u001b[90m \u001b[39m \n",
       "   \u001b[0m[-1, -1] \u001b[90m┤\u001b[39m\u001b[0m 0.0                                    \u001b[90m \u001b[39m \n",
       "     \u001b[0m[2, 1] \u001b[90m┤\u001b[39m\u001b[38;5;2m■■■\u001b[39m\u001b[0m 0.10000000000000002                 \u001b[90m \u001b[39m \n",
       "            \u001b[90m└                                        ┘\u001b[39m "
      ]
     },
     "execution_count": 38,
     "metadata": {},
     "output_type": "execute_result"
    }
   ],
   "source": [
    "transition(m, [1,1], :left) # state objects"
   ]
  },
  {
   "cell_type": "code",
   "execution_count": 39,
   "id": "cded45a9",
   "metadata": {},
   "outputs": [
    {
     "data": {
      "text/plain": [
       "Dict{Symbol, Matrix{Float64}} with 4 entries:\n",
       "  :left  => [0.8 0.1 … 0.0 0.0; 0.7 0.1 … 0.0 0.0; … ; 0.0 0.0 … 0.2 0.0; 0.0 0…\n",
       "  :right => [0.2 0.7 … 0.0 0.0; 0.1 0.1 … 0.0 0.0; … ; 0.0 0.0 … 0.8 0.0; 0.0 0…\n",
       "  :up    => [0.2 0.1 … 0.0 0.0; 0.1 0.1 … 0.0 0.0; … ; 0.0 0.0 … 0.8 0.0; 0.0 0…\n",
       "  :down  => [0.8 0.1 … 0.0 0.0; 0.1 0.7 … 0.0 0.0; … ; 0.0 0.0 … 0.2 0.0; 0.0 0…"
      ]
     },
     "execution_count": 39,
     "metadata": {},
     "output_type": "execute_result"
    }
   ],
   "source": [
    "T = HW2.transition_matrices(m) # state indices"
   ]
  },
  {
   "cell_type": "code",
   "execution_count": 40,
   "id": "13a38164",
   "metadata": {},
   "outputs": [
    {
     "data": {
      "text/plain": [
       "0.10000000000000002"
      ]
     },
     "execution_count": 40,
     "metadata": {},
     "output_type": "execute_result"
    }
   ],
   "source": [
    "T[:left][1, 2]"
   ]
  },
  {
   "cell_type": "code",
   "execution_count": 41,
   "id": "0cc72525",
   "metadata": {},
   "outputs": [
    {
     "data": {
      "text/plain": [
       "0.7"
      ]
     },
     "execution_count": 41,
     "metadata": {},
     "output_type": "execute_result"
    }
   ],
   "source": [
    "T[:right][stateindex(m, [1,1]), stateindex(m, [2,1])]"
   ]
  },
  {
   "cell_type": "code",
   "execution_count": 42,
   "id": "844cb339",
   "metadata": {},
   "outputs": [
    {
     "data": {
      "text/plain": [
       "Dict{Symbol, Vector{Float64}} with 4 entries:\n",
       "  :left  => [0.0, 0.0, 0.0, 0.0, 0.0, 0.0, 0.0, 0.0, 0.0, 0.0  …  0.0, 0.0, 0.0…\n",
       "  :right => [0.0, 0.0, 0.0, 0.0, 0.0, 0.0, 0.0, 0.0, 0.0, 0.0  …  0.0, 0.0, 0.0…\n",
       "  :up    => [0.0, 0.0, 0.0, 0.0, 0.0, 0.0, 0.0, 0.0, 0.0, 0.0  …  0.0, 0.0, 0.0…\n",
       "  :down  => [0.0, 0.0, 0.0, 0.0, 0.0, 0.0, 0.0, 0.0, 0.0, 0.0  …  0.0, 0.0, 0.0…"
      ]
     },
     "execution_count": 42,
     "metadata": {},
     "output_type": "execute_result"
    }
   ],
   "source": [
    "R = HW2.reward_vectors(m) # state indices"
   ]
  },
  {
   "cell_type": "code",
   "execution_count": 43,
   "id": "c722cf80",
   "metadata": {},
   "outputs": [],
   "source": [
    "using POMDPModelTools: ordered_states"
   ]
  },
  {
   "cell_type": "code",
   "execution_count": 44,
   "id": "d5c3a09d",
   "metadata": {},
   "outputs": [
    {
     "data": {
      "text/plain": [
       "101-element Vector{StaticArrays.SVector{2, Int64}}:\n",
       " [1, 1]\n",
       " [2, 1]\n",
       " [3, 1]\n",
       " [4, 1]\n",
       " [5, 1]\n",
       " [6, 1]\n",
       " [7, 1]\n",
       " [8, 1]\n",
       " [9, 1]\n",
       " [10, 1]\n",
       " [1, 2]\n",
       " [2, 2]\n",
       " [3, 2]\n",
       " ⋮\n",
       " [10, 9]\n",
       " [1, 10]\n",
       " [2, 10]\n",
       " [3, 10]\n",
       " [4, 10]\n",
       " [5, 10]\n",
       " [6, 10]\n",
       " [7, 10]\n",
       " [8, 10]\n",
       " [9, 10]\n",
       " [10, 10]\n",
       " [-1, -1]"
      ]
     },
     "execution_count": 44,
     "metadata": {},
     "output_type": "execute_result"
    }
   ],
   "source": [
    "ordered_states(m)"
   ]
  },
  {
   "cell_type": "markdown",
   "id": "f39c2c06",
   "metadata": {},
   "source": [
    "## For Homework 2, you only need to use state indices\n",
    "(if you want)"
   ]
  },
  {
   "cell_type": "markdown",
   "id": "bc26f131",
   "metadata": {},
   "source": [
    "# Linear Algebra"
   ]
  },
  {
   "cell_type": "code",
   "execution_count": 45,
   "id": "828c84b1",
   "metadata": {},
   "outputs": [
    {
     "data": {
      "text/plain": [
       "2-element Vector{Int64}:\n",
       " 1\n",
       " 2"
      ]
     },
     "execution_count": 45,
     "metadata": {},
     "output_type": "execute_result"
    }
   ],
   "source": [
    "x = [1,2]"
   ]
  },
  {
   "cell_type": "code",
   "execution_count": 46,
   "id": "5bd3e49b",
   "metadata": {},
   "outputs": [
    {
     "data": {
      "text/plain": [
       "2×2 Matrix{Int64}:\n",
       " 1  2\n",
       " 3  4"
      ]
     },
     "execution_count": 46,
     "metadata": {},
     "output_type": "execute_result"
    }
   ],
   "source": [
    "A = [1 2; 3 4]"
   ]
  },
  {
   "cell_type": "code",
   "execution_count": 47,
   "id": "1dcc8086",
   "metadata": {},
   "outputs": [
    {
     "data": {
      "text/plain": [
       "Vector{Int64} (alias for Array{Int64, 1})"
      ]
     },
     "execution_count": 47,
     "metadata": {},
     "output_type": "execute_result"
    }
   ],
   "source": [
    "Vector{Int64}"
   ]
  },
  {
   "cell_type": "code",
   "execution_count": 48,
   "id": "c9a00cb2",
   "metadata": {},
   "outputs": [
    {
     "data": {
      "text/plain": [
       "Matrix{Int64} (alias for Array{Int64, 2})"
      ]
     },
     "execution_count": 48,
     "metadata": {},
     "output_type": "execute_result"
    }
   ],
   "source": [
    "Matrix{Int64}"
   ]
  },
  {
   "cell_type": "code",
   "execution_count": 49,
   "id": "f2a957c1",
   "metadata": {},
   "outputs": [
    {
     "data": {
      "text/plain": [
       "2×2 Matrix{Float64}:\n",
       " -2.0   1.0\n",
       "  1.5  -0.5"
      ]
     },
     "execution_count": 49,
     "metadata": {},
     "output_type": "execute_result"
    }
   ],
   "source": [
    "inv(A)"
   ]
  },
  {
   "cell_type": "code",
   "execution_count": 50,
   "id": "19164298",
   "metadata": {},
   "outputs": [
    {
     "data": {
      "text/plain": [
       "2.23606797749979"
      ]
     },
     "execution_count": 50,
     "metadata": {},
     "output_type": "execute_result"
    }
   ],
   "source": [
    "norm(x)"
   ]
  },
  {
   "cell_type": "code",
   "execution_count": 22,
   "id": "6d547baf",
   "metadata": {},
   "outputs": [],
   "source": [
    "using LinearAlgebra: norm"
   ]
  },
  {
   "cell_type": "code",
   "execution_count": 23,
   "id": "8754b88c",
   "metadata": {},
   "outputs": [
    {
     "data": {
      "text/plain": [
       "2.23606797749979"
      ]
     },
     "execution_count": 23,
     "metadata": {},
     "output_type": "execute_result"
    }
   ],
   "source": [
    "norm(x)"
   ]
  },
  {
   "cell_type": "markdown",
   "id": "ce0562dc",
   "metadata": {},
   "source": [
    "## Use the \"dot syntax\" to broadcast operations"
   ]
  },
  {
   "cell_type": "code",
   "execution_count": 51,
   "id": "94acbbc4",
   "metadata": {},
   "outputs": [
    {
     "ename": "LoadError",
     "evalue": "MethodError: no method matching ^(::Vector{Int64}, ::Int64)\n\u001b[0mClosest candidates are:\n\u001b[0m  ^(\u001b[91m::Union{AbstractChar, AbstractString}\u001b[39m, ::Integer) at /opt/julia-1.7.1/share/julia/base/strings/basic.jl:721\n\u001b[0m  ^(\u001b[91m::LinearAlgebra.Diagonal\u001b[39m, ::Integer) at /opt/julia-1.7.1/share/julia/stdlib/v1.7/LinearAlgebra/src/diagonal.jl:196\n\u001b[0m  ^(\u001b[91m::LinearAlgebra.Diagonal\u001b[39m, ::Real) at /opt/julia-1.7.1/share/julia/stdlib/v1.7/LinearAlgebra/src/diagonal.jl:195\n\u001b[0m  ...",
     "output_type": "error",
     "traceback": [
      "MethodError: no method matching ^(::Vector{Int64}, ::Int64)\n\u001b[0mClosest candidates are:\n\u001b[0m  ^(\u001b[91m::Union{AbstractChar, AbstractString}\u001b[39m, ::Integer) at /opt/julia-1.7.1/share/julia/base/strings/basic.jl:721\n\u001b[0m  ^(\u001b[91m::LinearAlgebra.Diagonal\u001b[39m, ::Integer) at /opt/julia-1.7.1/share/julia/stdlib/v1.7/LinearAlgebra/src/diagonal.jl:196\n\u001b[0m  ^(\u001b[91m::LinearAlgebra.Diagonal\u001b[39m, ::Real) at /opt/julia-1.7.1/share/julia/stdlib/v1.7/LinearAlgebra/src/diagonal.jl:195\n\u001b[0m  ...",
      "",
      "Stacktrace:",
      " [1] literal_pow(f::typeof(^), x::Vector{Int64}, #unused#::Val{2})",
      "   @ Base ./intfuncs.jl:325",
      " [2] top-level scope",
      "   @ In[51]:1",
      " [3] eval",
      "   @ ./boot.jl:373 [inlined]",
      " [4] include_string(mapexpr::typeof(REPL.softscope), mod::Module, code::String, filename::String)",
      "   @ Base ./loading.jl:1196"
     ]
    }
   ],
   "source": [
    "x^2"
   ]
  },
  {
   "cell_type": "code",
   "execution_count": 52,
   "id": "2edde469",
   "metadata": {},
   "outputs": [
    {
     "data": {
      "text/plain": [
       "2-element Vector{Int64}:\n",
       " 1\n",
       " 4"
      ]
     },
     "execution_count": 52,
     "metadata": {},
     "output_type": "execute_result"
    }
   ],
   "source": [
    "x.^2"
   ]
  },
  {
   "cell_type": "markdown",
   "id": "fe3dcb1d",
   "metadata": {},
   "source": [
    "## It automatically works for any function (including your own)"
   ]
  },
  {
   "cell_type": "code",
   "execution_count": 53,
   "id": "a3f1fde8",
   "metadata": {},
   "outputs": [
    {
     "data": {
      "text/plain": [
       "f (generic function with 1 method)"
      ]
     },
     "execution_count": 53,
     "metadata": {},
     "output_type": "execute_result"
    }
   ],
   "source": [
    "f(a) = sqrt(a) + 1"
   ]
  },
  {
   "cell_type": "code",
   "execution_count": 54,
   "id": "2fa2f28f",
   "metadata": {},
   "outputs": [
    {
     "ename": "LoadError",
     "evalue": "MethodError: no method matching sqrt(::Vector{Int64})\n\u001b[0mClosest candidates are:\n\u001b[0m  sqrt(\u001b[91m::Union{Float32, Float64}\u001b[39m) at /opt/julia-1.7.1/share/julia/base/math.jl:566\n\u001b[0m  sqrt(\u001b[91m::StridedMatrix{T}\u001b[39m) where T<:Union{Real, Complex} at /opt/julia-1.7.1/share/julia/stdlib/v1.7/LinearAlgebra/src/dense.jl:836\n\u001b[0m  sqrt(\u001b[91m::LinearAlgebra.Diagonal\u001b[39m) at /opt/julia-1.7.1/share/julia/stdlib/v1.7/LinearAlgebra/src/diagonal.jl:592\n\u001b[0m  ...",
     "output_type": "error",
     "traceback": [
      "MethodError: no method matching sqrt(::Vector{Int64})\n\u001b[0mClosest candidates are:\n\u001b[0m  sqrt(\u001b[91m::Union{Float32, Float64}\u001b[39m) at /opt/julia-1.7.1/share/julia/base/math.jl:566\n\u001b[0m  sqrt(\u001b[91m::StridedMatrix{T}\u001b[39m) where T<:Union{Real, Complex} at /opt/julia-1.7.1/share/julia/stdlib/v1.7/LinearAlgebra/src/dense.jl:836\n\u001b[0m  sqrt(\u001b[91m::LinearAlgebra.Diagonal\u001b[39m) at /opt/julia-1.7.1/share/julia/stdlib/v1.7/LinearAlgebra/src/diagonal.jl:592\n\u001b[0m  ...",
      "",
      "Stacktrace:",
      " [1] f(a::Vector{Int64})",
      "   @ Main ./In[53]:1",
      " [2] top-level scope",
      "   @ In[54]:1",
      " [3] eval",
      "   @ ./boot.jl:373 [inlined]",
      " [4] include_string(mapexpr::typeof(REPL.softscope), mod::Module, code::String, filename::String)",
      "   @ Base ./loading.jl:1196"
     ]
    }
   ],
   "source": [
    "f(x)"
   ]
  },
  {
   "cell_type": "code",
   "execution_count": 55,
   "id": "cbca34f5",
   "metadata": {},
   "outputs": [
    {
     "data": {
      "text/plain": [
       "2-element Vector{Float64}:\n",
       " 2.0\n",
       " 2.414213562373095"
      ]
     },
     "execution_count": 55,
     "metadata": {},
     "output_type": "execute_result"
    }
   ],
   "source": [
    "f.(x)"
   ]
  },
  {
   "cell_type": "code",
   "execution_count": 56,
   "id": "82c08e71",
   "metadata": {},
   "outputs": [
    {
     "data": {
      "text/plain": [
       "2"
      ]
     },
     "execution_count": 56,
     "metadata": {},
     "output_type": "execute_result"
    }
   ],
   "source": [
    "max(1,2)"
   ]
  },
  {
   "cell_type": "code",
   "execution_count": 57,
   "id": "fa5a09bf",
   "metadata": {},
   "outputs": [
    {
     "ename": "LoadError",
     "evalue": "MethodError: no method matching max(::Vector{Int64})\n\u001b[0mClosest candidates are:\n\u001b[0m  max(::Any, \u001b[91m::Missing\u001b[39m) at /opt/julia-1.7.1/share/julia/base/missing.jl:137\n\u001b[0m  max(::Any, \u001b[91m::Any\u001b[39m) at /opt/julia-1.7.1/share/julia/base/operators.jl:492\n\u001b[0m  max(::Any, \u001b[91m::Any\u001b[39m, \u001b[91m::Any\u001b[39m, \u001b[91m::Any...\u001b[39m) at /opt/julia-1.7.1/share/julia/base/operators.jl:655\n\u001b[0m  ...",
     "output_type": "error",
     "traceback": [
      "MethodError: no method matching max(::Vector{Int64})\n\u001b[0mClosest candidates are:\n\u001b[0m  max(::Any, \u001b[91m::Missing\u001b[39m) at /opt/julia-1.7.1/share/julia/base/missing.jl:137\n\u001b[0m  max(::Any, \u001b[91m::Any\u001b[39m) at /opt/julia-1.7.1/share/julia/base/operators.jl:492\n\u001b[0m  max(::Any, \u001b[91m::Any\u001b[39m, \u001b[91m::Any\u001b[39m, \u001b[91m::Any...\u001b[39m) at /opt/julia-1.7.1/share/julia/base/operators.jl:655\n\u001b[0m  ...",
      "",
      "Stacktrace:",
      " [1] top-level scope",
      "   @ In[57]:1",
      " [2] eval",
      "   @ ./boot.jl:373 [inlined]",
      " [3] include_string(mapexpr::typeof(REPL.softscope), mod::Module, code::String, filename::String)",
      "   @ Base ./loading.jl:1196"
     ]
    }
   ],
   "source": [
    "max([1,2,3])"
   ]
  },
  {
   "cell_type": "code",
   "execution_count": 58,
   "id": "f5cb259d",
   "metadata": {},
   "outputs": [
    {
     "data": {
      "text/plain": [
       "3"
      ]
     },
     "execution_count": 58,
     "metadata": {},
     "output_type": "execute_result"
    }
   ],
   "source": [
    "maximum([1,2,3])"
   ]
  },
  {
   "cell_type": "code",
   "execution_count": null,
   "id": "567865ed",
   "metadata": {},
   "outputs": [],
   "source": []
  },
  {
   "cell_type": "code",
   "execution_count": null,
   "id": "8f46afa0",
   "metadata": {},
   "outputs": [],
   "source": []
  },
  {
   "cell_type": "markdown",
   "id": "2a2967ba",
   "metadata": {},
   "source": [
    "# Dictionaries\n",
    "\n",
    "Dictionaries are hash maps that can store any object with any index"
   ]
  },
  {
   "cell_type": "code",
   "execution_count": 59,
   "id": "f2ae151a",
   "metadata": {},
   "outputs": [
    {
     "data": {
      "text/plain": [
       "Dict{Any, Int64} with 2 entries:\n",
       "  2   => 3\n",
       "  \"a\" => 1"
      ]
     },
     "execution_count": 59,
     "metadata": {},
     "output_type": "execute_result"
    }
   ],
   "source": [
    "d = Dict(\"a\"=>1, 2=>3)"
   ]
  },
  {
   "cell_type": "code",
   "execution_count": 60,
   "id": "3c5dc889",
   "metadata": {},
   "outputs": [
    {
     "data": {
      "text/plain": [
       "3"
      ]
     },
     "execution_count": 60,
     "metadata": {},
     "output_type": "execute_result"
    }
   ],
   "source": [
    "d[2]"
   ]
  },
  {
   "cell_type": "code",
   "execution_count": 61,
   "id": "a6c2ed5f",
   "metadata": {},
   "outputs": [
    {
     "ename": "LoadError",
     "evalue": "KeyError: key 1 not found",
     "output_type": "error",
     "traceback": [
      "KeyError: key 1 not found",
      "",
      "Stacktrace:",
      " [1] getindex(h::Dict{Any, Int64}, key::Int64)",
      "   @ Base ./dict.jl:481",
      " [2] top-level scope",
      "   @ In[61]:1",
      " [3] eval",
      "   @ ./boot.jl:373 [inlined]",
      " [4] include_string(mapexpr::typeof(REPL.softscope), mod::Module, code::String, filename::String)",
      "   @ Base ./loading.jl:1196"
     ]
    }
   ],
   "source": [
    "d[1]"
   ]
  },
  {
   "cell_type": "code",
   "execution_count": 62,
   "id": "ccc34c8d",
   "metadata": {},
   "outputs": [
    {
     "data": {
      "text/plain": [
       "5"
      ]
     },
     "execution_count": 62,
     "metadata": {},
     "output_type": "execute_result"
    }
   ],
   "source": [
    "d[4] = 5"
   ]
  },
  {
   "cell_type": "code",
   "execution_count": 63,
   "id": "26804ff7",
   "metadata": {},
   "outputs": [
    {
     "data": {
      "text/plain": [
       "Dict{Any, Int64} with 3 entries:\n",
       "  4   => 5\n",
       "  2   => 3\n",
       "  \"a\" => 1"
      ]
     },
     "execution_count": 63,
     "metadata": {},
     "output_type": "execute_result"
    }
   ],
   "source": [
    "d"
   ]
  },
  {
   "cell_type": "code",
   "execution_count": null,
   "id": "bf07a7ff",
   "metadata": {},
   "outputs": [],
   "source": []
  }
 ],
 "metadata": {
  "kernelspec": {
   "display_name": "Julia 1.7.1",
   "language": "julia",
   "name": "julia-1.7"
  },
  "language_info": {
   "file_extension": ".jl",
   "mimetype": "application/julia",
   "name": "julia",
   "version": "1.7.1"
  }
 },
 "nbformat": 4,
 "nbformat_minor": 5
}
