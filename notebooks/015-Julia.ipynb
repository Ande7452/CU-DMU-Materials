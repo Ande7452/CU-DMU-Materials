{
 "cells": [
  {
   "cell_type": "markdown",
   "id": "ec701d0a",
   "metadata": {},
   "source": [
    "# Types\n",
    "\n",
    "Every object in Julia has a type that can be accessed with `typeof`.\n",
    "\n",
    "### Integers"
   ]
  },
  {
   "cell_type": "code",
   "execution_count": 1,
   "id": "8b19119c-f428-467f-8ff2-821ee6925a27",
   "metadata": {},
   "outputs": [
    {
     "data": {
      "text/plain": [
       "1"
      ]
     },
     "execution_count": 1,
     "metadata": {},
     "output_type": "execute_result"
    }
   ],
   "source": [
    "1"
   ]
  },
  {
   "cell_type": "code",
   "execution_count": 2,
   "id": "f24cc65b",
   "metadata": {},
   "outputs": [
    {
     "data": {
      "text/plain": [
       "Int64"
      ]
     },
     "execution_count": 2,
     "metadata": {},
     "output_type": "execute_result"
    }
   ],
   "source": [
    "typeof(1)"
   ]
  },
  {
   "cell_type": "markdown",
   "id": "88978a77",
   "metadata": {},
   "source": [
    "The default system integer type is aliased to `Int`. On my 64-bit machine, it is an `Int64`"
   ]
  },
  {
   "cell_type": "code",
   "execution_count": 3,
   "id": "58707530",
   "metadata": {},
   "outputs": [
    {
     "data": {
      "text/plain": [
       "Int64"
      ]
     },
     "execution_count": 3,
     "metadata": {},
     "output_type": "execute_result"
    }
   ],
   "source": [
    "Int"
   ]
  },
  {
   "cell_type": "markdown",
   "id": "10ddb444",
   "metadata": {},
   "source": [
    "### Unsigned integers"
   ]
  },
  {
   "cell_type": "code",
   "execution_count": 4,
   "id": "005a1c96",
   "metadata": {},
   "outputs": [
    {
     "data": {
      "text/plain": [
       "0x00"
      ]
     },
     "execution_count": 4,
     "metadata": {},
     "output_type": "execute_result"
    }
   ],
   "source": [
    "0x0"
   ]
  },
  {
   "cell_type": "code",
   "execution_count": 5,
   "id": "9fd3dfd0",
   "metadata": {},
   "outputs": [
    {
     "data": {
      "text/plain": [
       "0x01"
      ]
     },
     "execution_count": 5,
     "metadata": {},
     "output_type": "execute_result"
    }
   ],
   "source": [
    "0x0 + 0x1"
   ]
  },
  {
   "cell_type": "code",
   "execution_count": 6,
   "id": "b5092399",
   "metadata": {},
   "outputs": [
    {
     "data": {
      "text/plain": [
       "UInt8"
      ]
     },
     "execution_count": 6,
     "metadata": {},
     "output_type": "execute_result"
    }
   ],
   "source": [
    "typeof(0x0)"
   ]
  },
  {
   "cell_type": "markdown",
   "id": "4f3e5540",
   "metadata": {},
   "source": [
    "### Floating point numbers\n",
    "\n",
    "By default, real numbers are represented by 64-bit \"double precision\" IEEE standard floating point numbers (the same as `double` in C). Literals are written with a decimal point:"
   ]
  },
  {
   "cell_type": "code",
   "execution_count": 7,
   "id": "3d2c2fe3",
   "metadata": {
    "scrolled": true
   },
   "outputs": [
    {
     "data": {
      "text/plain": [
       "6.0"
      ]
     },
     "execution_count": 7,
     "metadata": {},
     "output_type": "execute_result"
    }
   ],
   "source": [
    "2.0 + 4.0"
   ]
  },
  {
   "cell_type": "code",
   "execution_count": 8,
   "id": "5e2af2b9",
   "metadata": {},
   "outputs": [
    {
     "data": {
      "text/plain": [
       "Float64"
      ]
     },
     "execution_count": 8,
     "metadata": {},
     "output_type": "execute_result"
    }
   ],
   "source": [
    "typeof(2.0)"
   ]
  },
  {
   "cell_type": "markdown",
   "id": "e4a7331c",
   "metadata": {},
   "source": [
    "You can also use \"single precision\" 32-bit floating point numbers. with an `f0` at the end."
   ]
  },
  {
   "cell_type": "code",
   "execution_count": 9,
   "id": "7260e25d",
   "metadata": {},
   "outputs": [
    {
     "data": {
      "text/plain": [
       "Float32"
      ]
     },
     "execution_count": 9,
     "metadata": {},
     "output_type": "execute_result"
    }
   ],
   "source": [
    "typeof(2.0f0)"
   ]
  },
  {
   "cell_type": "markdown",
   "id": "59e23cff",
   "metadata": {},
   "source": [
    "### Rationals"
   ]
  },
  {
   "cell_type": "code",
   "execution_count": 12,
   "id": "83e1b058",
   "metadata": {},
   "outputs": [
    {
     "data": {
      "text/plain": [
       "332//241"
      ]
     },
     "execution_count": 12,
     "metadata": {},
     "output_type": "execute_result"
    }
   ],
   "source": [
    "332//241"
   ]
  },
  {
   "cell_type": "code",
   "execution_count": 13,
   "id": "1d1ece65",
   "metadata": {},
   "outputs": [
    {
     "data": {
      "text/plain": [
       "-14139//30848"
      ]
     },
     "execution_count": 13,
     "metadata": {},
     "output_type": "execute_result"
    }
   ],
   "source": [
    "332//241 - 235//128"
   ]
  },
  {
   "cell_type": "markdown",
   "id": "8b25e042",
   "metadata": {},
   "source": [
    "### Strings"
   ]
  },
  {
   "cell_type": "code",
   "execution_count": 14,
   "id": "8337fe7b",
   "metadata": {
    "scrolled": true
   },
   "outputs": [
    {
     "data": {
      "text/plain": [
       "\"Life is a POMDP\""
      ]
     },
     "execution_count": 14,
     "metadata": {},
     "output_type": "execute_result"
    }
   ],
   "source": [
    "\"Life is a POMDP\""
   ]
  },
  {
   "cell_type": "code",
   "execution_count": 15,
   "id": "a94cfcfb",
   "metadata": {},
   "outputs": [
    {
     "data": {
      "text/plain": [
       "1.0"
      ]
     },
     "execution_count": 15,
     "metadata": {},
     "output_type": "execute_result"
    }
   ],
   "source": [
    "convert(Float64, 1)"
   ]
  },
  {
   "cell_type": "markdown",
   "id": "170a16ad",
   "metadata": {},
   "source": [
    "# Type Conversion"
   ]
  },
  {
   "cell_type": "code",
   "execution_count": 1,
   "id": "c38869d5",
   "metadata": {},
   "outputs": [
    {
     "data": {
      "text/plain": [
       "1.0"
      ]
     },
     "execution_count": 1,
     "metadata": {},
     "output_type": "execute_result"
    }
   ],
   "source": [
    "convert(Float64, 1)"
   ]
  },
  {
   "cell_type": "markdown",
   "id": "eddd1236",
   "metadata": {},
   "source": [
    "# Variables\n",
    "\n",
    "Variables are names assigned to objects."
   ]
  },
  {
   "cell_type": "code",
   "execution_count": 33,
   "id": "af06bd95",
   "metadata": {},
   "outputs": [
    {
     "data": {
      "text/plain": [
       "1"
      ]
     },
     "execution_count": 33,
     "metadata": {},
     "output_type": "execute_result"
    }
   ],
   "source": [
    "a = 1"
   ]
  },
  {
   "cell_type": "code",
   "execution_count": 21,
   "id": "4b8fc149",
   "metadata": {},
   "outputs": [
    {
     "data": {
      "text/plain": [
       "1"
      ]
     },
     "execution_count": 21,
     "metadata": {},
     "output_type": "execute_result"
    }
   ],
   "source": [
    "b = a\n",
    "a = 5\n",
    "b"
   ]
  },
  {
   "cell_type": "code",
   "execution_count": 22,
   "id": "57a9cdef",
   "metadata": {},
   "outputs": [
    {
     "data": {
      "text/plain": [
       "6"
      ]
     },
     "execution_count": 22,
     "metadata": {},
     "output_type": "execute_result"
    }
   ],
   "source": [
    "a + b"
   ]
  },
  {
   "cell_type": "markdown",
   "id": "a0f35816",
   "metadata": {},
   "source": [
    "A variable does not have a type - only the object that it refers to has a type."
   ]
  },
  {
   "cell_type": "code",
   "execution_count": 23,
   "id": "b8f09e20",
   "metadata": {},
   "outputs": [
    {
     "data": {
      "text/plain": [
       "Int64"
      ]
     },
     "execution_count": 23,
     "metadata": {},
     "output_type": "execute_result"
    }
   ],
   "source": [
    "c = 1\n",
    "typeof(c)"
   ]
  },
  {
   "cell_type": "code",
   "execution_count": 24,
   "id": "ee741a9a",
   "metadata": {},
   "outputs": [
    {
     "data": {
      "text/plain": [
       "Float64"
      ]
     },
     "execution_count": 24,
     "metadata": {},
     "output_type": "execute_result"
    }
   ],
   "source": [
    "c = 3.2\n",
    "typeof(c)"
   ]
  },
  {
   "cell_type": "markdown",
   "id": "3d966eac",
   "metadata": {},
   "source": [
    "# Vectors"
   ]
  },
  {
   "cell_type": "code",
   "execution_count": 25,
   "id": "ddd609eb",
   "metadata": {},
   "outputs": [
    {
     "data": {
      "text/plain": [
       "3-element Vector{Int64}:\n",
       " 1\n",
       " 2\n",
       " 3"
      ]
     },
     "execution_count": 25,
     "metadata": {},
     "output_type": "execute_result"
    }
   ],
   "source": [
    "v = [1,2,3]"
   ]
  },
  {
   "cell_type": "code",
   "execution_count": 26,
   "id": "280ad191",
   "metadata": {},
   "outputs": [
    {
     "data": {
      "text/plain": [
       "4-element Vector{Int64}:\n",
       " 1\n",
       " 2\n",
       " 3\n",
       " 4"
      ]
     },
     "execution_count": 26,
     "metadata": {},
     "output_type": "execute_result"
    }
   ],
   "source": [
    "push!(v, 4)"
   ]
  },
  {
   "cell_type": "markdown",
   "id": "cd1254b7",
   "metadata": {},
   "source": [
    "The type in the curly brackets indicates what kind of objects the vector can contain. "
   ]
  },
  {
   "cell_type": "code",
   "execution_count": 27,
   "id": "4c6a34a5",
   "metadata": {},
   "outputs": [
    {
     "ename": "LoadError",
     "evalue": "MethodError: \u001b[0mCannot `convert` an object of type \u001b[92mString\u001b[39m\u001b[0m to an object of type \u001b[91mInt64\u001b[39m\n\u001b[0mClosest candidates are:\n\u001b[0m  convert(::Type{T}, \u001b[91m::T\u001b[39m) where T<:Number at /opt/julia-1.7.1/share/julia/base/number.jl:6\n\u001b[0m  convert(::Type{T}, \u001b[91m::Number\u001b[39m) where T<:Number at /opt/julia-1.7.1/share/julia/base/number.jl:7\n\u001b[0m  convert(::Type{T}, \u001b[91m::Base.TwicePrecision\u001b[39m) where T<:Number at /opt/julia-1.7.1/share/julia/base/twiceprecision.jl:262\n\u001b[0m  ...",
     "output_type": "error",
     "traceback": [
      "MethodError: \u001b[0mCannot `convert` an object of type \u001b[92mString\u001b[39m\u001b[0m to an object of type \u001b[91mInt64\u001b[39m\n\u001b[0mClosest candidates are:\n\u001b[0m  convert(::Type{T}, \u001b[91m::T\u001b[39m) where T<:Number at /opt/julia-1.7.1/share/julia/base/number.jl:6\n\u001b[0m  convert(::Type{T}, \u001b[91m::Number\u001b[39m) where T<:Number at /opt/julia-1.7.1/share/julia/base/number.jl:7\n\u001b[0m  convert(::Type{T}, \u001b[91m::Base.TwicePrecision\u001b[39m) where T<:Number at /opt/julia-1.7.1/share/julia/base/twiceprecision.jl:262\n\u001b[0m  ...",
      "",
      "Stacktrace:",
      " [1] push!(a::Vector{Int64}, item::String)",
      "   @ Base ./array.jl:994",
      " [2] top-level scope",
      "   @ In[27]:1",
      " [3] eval",
      "   @ ./boot.jl:373 [inlined]",
      " [4] include_string(mapexpr::typeof(REPL.softscope), mod::Module, code::String, filename::String)",
      "   @ Base ./loading.jl:1196"
     ]
    }
   ],
   "source": [
    "push!(v, \"string\")"
   ]
  },
  {
   "cell_type": "markdown",
   "id": "21234c04",
   "metadata": {},
   "source": [
    "`Vector{Any}` objects can contain any type of object, but they are less efficient."
   ]
  },
  {
   "cell_type": "code",
   "execution_count": 28,
   "id": "53bc5acb",
   "metadata": {},
   "outputs": [
    {
     "data": {
      "text/plain": [
       "3-element Vector{Any}:\n",
       " 1\n",
       " 2.0\n",
       "  \"three\""
      ]
     },
     "execution_count": 28,
     "metadata": {},
     "output_type": "execute_result"
    }
   ],
   "source": [
    "Any[1, 2.0, \"three\"]"
   ]
  },
  {
   "cell_type": "markdown",
   "id": "6c2c0a5c",
   "metadata": {},
   "source": [
    "### Indexing"
   ]
  },
  {
   "cell_type": "code",
   "execution_count": 30,
   "id": "4e2e6c37",
   "metadata": {
    "scrolled": true
   },
   "outputs": [
    {
     "data": {
      "text/plain": [
       "1"
      ]
     },
     "execution_count": 30,
     "metadata": {},
     "output_type": "execute_result"
    }
   ],
   "source": [
    "v[1]"
   ]
  },
  {
   "cell_type": "code",
   "execution_count": 31,
   "id": "9e1097a9",
   "metadata": {},
   "outputs": [
    {
     "data": {
      "text/plain": [
       "4-element Vector{Int64}:\n",
       " 5\n",
       " 2\n",
       " 3\n",
       " 4"
      ]
     },
     "execution_count": 31,
     "metadata": {},
     "output_type": "execute_result"
    }
   ],
   "source": [
    "v[1] = 5\n",
    "v"
   ]
  },
  {
   "cell_type": "markdown",
   "id": "91055170",
   "metadata": {},
   "source": [
    "# Mutable and Immutable Types\n",
    "\n",
    "Some types, such as `Int` and `Float64` are immutable - that means the objects themselves can never be modified. Other types, such as `Vector` are mutable and the objects can be modified."
   ]
  },
  {
   "cell_type": "code",
   "execution_count": 34,
   "id": "fd4b291a",
   "metadata": {},
   "outputs": [
    {
     "data": {
      "text/plain": [
       "(2, 1)"
      ]
     },
     "execution_count": 34,
     "metadata": {},
     "output_type": "execute_result"
    }
   ],
   "source": [
    "a = 1\n",
    "b = a\n",
    "a += 1\n",
    "a, b"
   ]
  },
  {
   "cell_type": "code",
   "execution_count": 35,
   "id": "98d5fb2c",
   "metadata": {},
   "outputs": [
    {
     "data": {
      "text/plain": [
       "([5, 2], [5, 2])"
      ]
     },
     "execution_count": 35,
     "metadata": {},
     "output_type": "execute_result"
    }
   ],
   "source": [
    "v = [1,2]\n",
    "u = v\n",
    "u[1] = 5\n",
    "u, v"
   ]
  },
  {
   "cell_type": "markdown",
   "id": "4aa0eb74",
   "metadata": {},
   "source": [
    "Convention: functions with `!` (pronounced \"bang\") modify their arguments"
   ]
  },
  {
   "cell_type": "code",
   "execution_count": 36,
   "id": "3bade7d6",
   "metadata": {},
   "outputs": [
    {
     "data": {
      "text/plain": [
       "3-element Vector{Int64}:\n",
       " 1\n",
       " 2\n",
       " 3"
      ]
     },
     "execution_count": 36,
     "metadata": {},
     "output_type": "execute_result"
    }
   ],
   "source": [
    "a = [1,2]\n",
    "push!(a, 3)\n",
    "a"
   ]
  },
  {
   "cell_type": "markdown",
   "id": "b51e7fd8",
   "metadata": {},
   "source": [
    "# Printline debugging"
   ]
  },
  {
   "cell_type": "code",
   "execution_count": 37,
   "id": "649c0042",
   "metadata": {},
   "outputs": [
    {
     "name": "stdout",
     "output_type": "stream",
     "text": [
      "a = [1, 2, 3]\n"
     ]
    },
    {
     "data": {
      "text/plain": [
       "3-element Vector{Int64}:\n",
       " 2\n",
       " 4\n",
       " 6"
      ]
     },
     "execution_count": 37,
     "metadata": {},
     "output_type": "execute_result"
    }
   ],
   "source": [
    "a = [1,2,3]\n",
    "@show a # Things that beging with @ like @show are \"macros\"\n",
    "a + a"
   ]
  },
  {
   "cell_type": "code",
   "execution_count": 38,
   "id": "b273dafe",
   "metadata": {},
   "outputs": [
    {
     "data": {
      "text/plain": [
       "3-element Vector{Int64}:\n",
       " 1\n",
       " 2\n",
       " 3"
      ]
     },
     "metadata": {},
     "output_type": "display_data"
    },
    {
     "data": {
      "text/plain": [
       "3-element Vector{Int64}:\n",
       " 2\n",
       " 4\n",
       " 6"
      ]
     },
     "execution_count": 38,
     "metadata": {},
     "output_type": "execute_result"
    }
   ],
   "source": [
    "a = [1,2,3]\n",
    "display(a)\n",
    "a + a"
   ]
  },
  {
   "cell_type": "code",
   "execution_count": 39,
   "id": "0e1334c3",
   "metadata": {},
   "outputs": [
    {
     "name": "stderr",
     "output_type": "stream",
     "text": [
      "┌ Info: some info\n",
      "│   a = [1, 2, 3]\n",
      "└ @ Main In[39]:3\n",
      "┌ Warning: a warning\n",
      "│   a = [1, 2, 3]\n",
      "└ @ Main In[39]:4\n",
      "┌ Error: an error message (with no exception)\n",
      "│   a = [1, 2, 3]\n",
      "└ @ Main In[39]:5\n"
     ]
    }
   ],
   "source": [
    "a = [1,2,3]\n",
    "@debug(\"debug doesn't print by default\", a)\n",
    "@info(\"some info\", a)\n",
    "@warn(\"a warning\", a)\n",
    "@error(\"an error message (with no exception)\", a)"
   ]
  },
  {
   "cell_type": "code",
   "execution_count": 40,
   "id": "1972ee16",
   "metadata": {},
   "outputs": [
    {
     "name": "stderr",
     "output_type": "stream",
     "text": [
      "\u001b[34m\u001b[1m┌ \u001b[22m\u001b[39m\u001b[34m\u001b[1mDebug: \u001b[22m\u001b[39mthis debug message will print\n",
      "\u001b[34m\u001b[1m└ \u001b[22m\u001b[39m\u001b[90m@ Main In[40]:4\u001b[39m\n"
     ]
    }
   ],
   "source": [
    "using Logging\n",
    "debuglogger = ConsoleLogger(stderr, Logging.Debug)\n",
    "with_logger(debuglogger) do\n",
    "    @debug(\"this debug message will print\")\n",
    "end"
   ]
  },
  {
   "cell_type": "markdown",
   "id": "09f9e3c8",
   "metadata": {},
   "source": [
    "# Functions"
   ]
  },
  {
   "cell_type": "code",
   "execution_count": 41,
   "id": "c5d12fe2",
   "metadata": {},
   "outputs": [
    {
     "data": {
      "text/plain": [
       "f (generic function with 1 method)"
      ]
     },
     "execution_count": 41,
     "metadata": {},
     "output_type": "execute_result"
    }
   ],
   "source": [
    "function f(x)\n",
    "    return x^2\n",
    "end"
   ]
  },
  {
   "cell_type": "code",
   "execution_count": 42,
   "id": "e2ed9a19",
   "metadata": {},
   "outputs": [
    {
     "data": {
      "text/plain": [
       "f (generic function with 1 method)"
      ]
     },
     "execution_count": 42,
     "metadata": {},
     "output_type": "execute_result"
    }
   ],
   "source": [
    "f(x) = x^2"
   ]
  },
  {
   "cell_type": "code",
   "execution_count": 44,
   "id": "73073df1",
   "metadata": {},
   "outputs": [
    {
     "data": {
      "text/plain": [
       "4.0"
      ]
     },
     "execution_count": 44,
     "metadata": {},
     "output_type": "execute_result"
    }
   ],
   "source": [
    "f(2.0)"
   ]
  },
  {
   "cell_type": "markdown",
   "id": "9a743725",
   "metadata": {},
   "source": [
    "### Methods and multiple dispatch"
   ]
  },
  {
   "cell_type": "code",
   "execution_count": 45,
   "id": "47227d7b",
   "metadata": {},
   "outputs": [
    {
     "data": {
      "text/plain": [
       "f (generic function with 2 methods)"
      ]
     },
     "execution_count": 45,
     "metadata": {},
     "output_type": "execute_result"
    }
   ],
   "source": [
    "function f(x::Float64)\n",
    "    println(\"A float!\")\n",
    "    return x^2\n",
    "end"
   ]
  },
  {
   "cell_type": "code",
   "execution_count": 46,
   "id": "ce81749f",
   "metadata": {},
   "outputs": [
    {
     "data": {
      "text/plain": [
       "f (generic function with 3 methods)"
      ]
     },
     "execution_count": 46,
     "metadata": {},
     "output_type": "execute_result"
    }
   ],
   "source": [
    "function f(x::Int)\n",
    "    println(\"An int!\")\n",
    "    return x^2\n",
    "end"
   ]
  },
  {
   "cell_type": "code",
   "execution_count": 47,
   "id": "3b7ea500",
   "metadata": {},
   "outputs": [
    {
     "name": "stdout",
     "output_type": "stream",
     "text": [
      "An int!\n"
     ]
    },
    {
     "data": {
      "text/plain": [
       "1"
      ]
     },
     "execution_count": 47,
     "metadata": {},
     "output_type": "execute_result"
    }
   ],
   "source": [
    "f(1)"
   ]
  },
  {
   "cell_type": "code",
   "execution_count": 48,
   "id": "7fd3c03f",
   "metadata": {},
   "outputs": [
    {
     "name": "stdout",
     "output_type": "stream",
     "text": [
      "A float!\n"
     ]
    },
    {
     "data": {
      "text/plain": [
       "4.0"
      ]
     },
     "execution_count": 48,
     "metadata": {},
     "output_type": "execute_result"
    }
   ],
   "source": [
    "f(2.0)"
   ]
  },
  {
   "cell_type": "code",
   "execution_count": 49,
   "id": "83387e15",
   "metadata": {},
   "outputs": [
    {
     "data": {
      "text/plain": [
       "\"threethree\""
      ]
     },
     "execution_count": 49,
     "metadata": {},
     "output_type": "execute_result"
    }
   ],
   "source": [
    "f(\"three\")"
   ]
  },
  {
   "cell_type": "code",
   "execution_count": 50,
   "id": "24594671",
   "metadata": {},
   "outputs": [
    {
     "data": {
      "text/html": [
       "# 3 methods for generic function <b>f</b>:<ul><li> f(x::<b>Float64</b>) in Main at In[45]:1</li> <li> f(x::<b>Int64</b>) in Main at In[46]:1</li> <li> f(x) in Main at In[42]:1</li> </ul>"
      ],
      "text/plain": [
       "# 3 methods for generic function \"f\":\n",
       "[1] f(x::Float64) in Main at In[45]:1\n",
       "[2] f(x::Int64) in Main at In[46]:1\n",
       "[3] f(x) in Main at In[42]:1"
      ]
     },
     "execution_count": 50,
     "metadata": {},
     "output_type": "execute_result"
    }
   ],
   "source": [
    "methods(f)"
   ]
  },
  {
   "cell_type": "markdown",
   "id": "665e6f7b",
   "metadata": {},
   "source": [
    "# Plotting"
   ]
  },
  {
   "cell_type": "code",
   "execution_count": 51,
   "id": "9ed988fb",
   "metadata": {},
   "outputs": [],
   "source": [
    "using Plots # the first time this will be slow because it's compiling"
   ]
  },
  {
   "cell_type": "code",
   "execution_count": 52,
   "id": "be27b2ab",
   "metadata": {},
   "outputs": [
    {
     "data": {
      "image/svg+xml": [
       "<?xml version=\"1.0\" encoding=\"utf-8\"?>\n",
       "<svg xmlns=\"http://www.w3.org/2000/svg\" xmlns:xlink=\"http://www.w3.org/1999/xlink\" width=\"600\" height=\"400\" viewBox=\"0 0 2400 1600\">\n",
       "<defs>\n",
       "  <clipPath id=\"clip060\">\n",
       "    <rect x=\"0\" y=\"0\" width=\"2400\" height=\"1600\"/>\n",
       "  </clipPath>\n",
       "</defs>\n",
       "<path clip-path=\"url(#clip060)\" d=\"\n",
       "M0 1600 L2400 1600 L2400 0 L0 0  Z\n",
       "  \" fill=\"#ffffff\" fill-rule=\"evenodd\" fill-opacity=\"1\"/>\n",
       "<defs>\n",
       "  <clipPath id=\"clip061\">\n",
       "    <rect x=\"480\" y=\"0\" width=\"1681\" height=\"1600\"/>\n",
       "  </clipPath>\n",
       "</defs>\n",
       "<path clip-path=\"url(#clip060)\" d=\"\n",
       "M187.084 1486.45 L2352.76 1486.45 L2352.76 47.2441 L187.084 47.2441  Z\n",
       "  \" fill=\"#ffffff\" fill-rule=\"evenodd\" fill-opacity=\"1\"/>\n",
       "<defs>\n",
       "  <clipPath id=\"clip062\">\n",
       "    <rect x=\"187\" y=\"47\" width=\"2167\" height=\"1440\"/>\n",
       "  </clipPath>\n",
       "</defs>\n",
       "<polyline clip-path=\"url(#clip062)\" style=\"stroke:#000000; stroke-linecap:butt; stroke-linejoin:round; stroke-width:2; stroke-opacity:0.1; fill:none\" points=\"\n",
       "  248.377,1486.45 248.377,47.2441 \n",
       "  \"/>\n",
       "<polyline clip-path=\"url(#clip062)\" style=\"stroke:#000000; stroke-linecap:butt; stroke-linejoin:round; stroke-width:2; stroke-opacity:0.1; fill:none\" points=\"\n",
       "  759.148,1486.45 759.148,47.2441 \n",
       "  \"/>\n",
       "<polyline clip-path=\"url(#clip062)\" style=\"stroke:#000000; stroke-linecap:butt; stroke-linejoin:round; stroke-width:2; stroke-opacity:0.1; fill:none\" points=\"\n",
       "  1269.92,1486.45 1269.92,47.2441 \n",
       "  \"/>\n",
       "<polyline clip-path=\"url(#clip062)\" style=\"stroke:#000000; stroke-linecap:butt; stroke-linejoin:round; stroke-width:2; stroke-opacity:0.1; fill:none\" points=\"\n",
       "  1780.69,1486.45 1780.69,47.2441 \n",
       "  \"/>\n",
       "<polyline clip-path=\"url(#clip062)\" style=\"stroke:#000000; stroke-linecap:butt; stroke-linejoin:round; stroke-width:2; stroke-opacity:0.1; fill:none\" points=\"\n",
       "  2291.46,1486.45 2291.46,47.2441 \n",
       "  \"/>\n",
       "<polyline clip-path=\"url(#clip060)\" style=\"stroke:#000000; stroke-linecap:butt; stroke-linejoin:round; stroke-width:4; stroke-opacity:1; fill:none\" points=\"\n",
       "  187.084,1486.45 2352.76,1486.45 \n",
       "  \"/>\n",
       "<polyline clip-path=\"url(#clip060)\" style=\"stroke:#000000; stroke-linecap:butt; stroke-linejoin:round; stroke-width:4; stroke-opacity:1; fill:none\" points=\"\n",
       "  248.377,1486.45 248.377,1467.55 \n",
       "  \"/>\n",
       "<polyline clip-path=\"url(#clip060)\" style=\"stroke:#000000; stroke-linecap:butt; stroke-linejoin:round; stroke-width:4; stroke-opacity:1; fill:none\" points=\"\n",
       "  759.148,1486.45 759.148,1467.55 \n",
       "  \"/>\n",
       "<polyline clip-path=\"url(#clip060)\" style=\"stroke:#000000; stroke-linecap:butt; stroke-linejoin:round; stroke-width:4; stroke-opacity:1; fill:none\" points=\"\n",
       "  1269.92,1486.45 1269.92,1467.55 \n",
       "  \"/>\n",
       "<polyline clip-path=\"url(#clip060)\" style=\"stroke:#000000; stroke-linecap:butt; stroke-linejoin:round; stroke-width:4; stroke-opacity:1; fill:none\" points=\"\n",
       "  1780.69,1486.45 1780.69,1467.55 \n",
       "  \"/>\n",
       "<polyline clip-path=\"url(#clip060)\" style=\"stroke:#000000; stroke-linecap:butt; stroke-linejoin:round; stroke-width:4; stroke-opacity:1; fill:none\" points=\"\n",
       "  2291.46,1486.45 2291.46,1467.55 \n",
       "  \"/>\n",
       "<path clip-path=\"url(#clip060)\" d=\"M200.449 1544.91 L208.088 1544.91 L208.088 1518.55 L199.778 1520.21 L199.778 1515.95 L208.041 1514.29 L212.717 1514.29 L212.717 1544.91 L220.356 1544.91 L220.356 1548.85 L200.449 1548.85 L200.449 1544.91 Z\" fill=\"#000000\" fill-rule=\"evenodd\" fill-opacity=\"1\" /><path clip-path=\"url(#clip060)\" d=\"M229.8 1542.97 L234.685 1542.97 L234.685 1548.85 L229.8 1548.85 L229.8 1542.97 Z\" fill=\"#000000\" fill-rule=\"evenodd\" fill-opacity=\"1\" /><path clip-path=\"url(#clip060)\" d=\"M254.87 1517.37 Q251.259 1517.37 249.43 1520.93 Q247.624 1524.47 247.624 1531.6 Q247.624 1538.71 249.43 1542.27 Q251.259 1545.82 254.87 1545.82 Q258.504 1545.82 260.31 1542.27 Q262.138 1538.71 262.138 1531.6 Q262.138 1524.47 260.31 1520.93 Q258.504 1517.37 254.87 1517.37 M254.87 1513.66 Q260.68 1513.66 263.735 1518.27 Q266.814 1522.85 266.814 1531.6 Q266.814 1540.33 263.735 1544.94 Q260.68 1549.52 254.87 1549.52 Q249.06 1549.52 245.981 1544.94 Q242.925 1540.33 242.925 1531.6 Q242.925 1522.85 245.981 1518.27 Q249.06 1513.66 254.87 1513.66 Z\" fill=\"#000000\" fill-rule=\"evenodd\" fill-opacity=\"1\" /><path clip-path=\"url(#clip060)\" d=\"M285.032 1517.37 Q281.421 1517.37 279.592 1520.93 Q277.786 1524.47 277.786 1531.6 Q277.786 1538.71 279.592 1542.27 Q281.421 1545.82 285.032 1545.82 Q288.666 1545.82 290.471 1542.27 Q292.3 1538.71 292.3 1531.6 Q292.3 1524.47 290.471 1520.93 Q288.666 1517.37 285.032 1517.37 M285.032 1513.66 Q290.842 1513.66 293.897 1518.27 Q296.976 1522.85 296.976 1531.6 Q296.976 1540.33 293.897 1544.94 Q290.842 1549.52 285.032 1549.52 Q279.222 1549.52 276.143 1544.94 Q273.087 1540.33 273.087 1531.6 Q273.087 1522.85 276.143 1518.27 Q279.222 1513.66 285.032 1513.66 Z\" fill=\"#000000\" fill-rule=\"evenodd\" fill-opacity=\"1\" /><path clip-path=\"url(#clip060)\" d=\"M711.718 1544.91 L719.357 1544.91 L719.357 1518.55 L711.047 1520.21 L711.047 1515.95 L719.311 1514.29 L723.987 1514.29 L723.987 1544.91 L731.625 1544.91 L731.625 1548.85 L711.718 1548.85 L711.718 1544.91 Z\" fill=\"#000000\" fill-rule=\"evenodd\" fill-opacity=\"1\" /><path clip-path=\"url(#clip060)\" d=\"M741.07 1542.97 L745.954 1542.97 L745.954 1548.85 L741.07 1548.85 L741.07 1542.97 Z\" fill=\"#000000\" fill-rule=\"evenodd\" fill-opacity=\"1\" /><path clip-path=\"url(#clip060)\" d=\"M760.167 1544.91 L776.486 1544.91 L776.486 1548.85 L754.542 1548.85 L754.542 1544.91 Q757.204 1542.16 761.787 1537.53 Q766.394 1532.88 767.574 1531.53 Q769.82 1529.01 770.699 1527.27 Q771.602 1525.51 771.602 1523.82 Q771.602 1521.07 769.658 1519.33 Q767.736 1517.6 764.634 1517.6 Q762.435 1517.6 759.982 1518.36 Q757.551 1519.13 754.773 1520.68 L754.773 1515.95 Q757.597 1514.82 760.051 1514.24 Q762.505 1513.66 764.542 1513.66 Q769.912 1513.66 773.107 1516.35 Q776.301 1519.03 776.301 1523.52 Q776.301 1525.65 775.491 1527.57 Q774.704 1529.47 772.597 1532.07 Q772.019 1532.74 768.917 1535.95 Q765.815 1539.15 760.167 1544.91 Z\" fill=\"#000000\" fill-rule=\"evenodd\" fill-opacity=\"1\" /><path clip-path=\"url(#clip060)\" d=\"M786.347 1514.29 L804.704 1514.29 L804.704 1518.22 L790.63 1518.22 L790.63 1526.7 Q791.648 1526.35 792.667 1526.19 Q793.685 1526 794.704 1526 Q800.491 1526 803.87 1529.17 Q807.25 1532.34 807.25 1537.76 Q807.25 1543.34 803.778 1546.44 Q800.306 1549.52 793.986 1549.52 Q791.81 1549.52 789.542 1549.15 Q787.296 1548.78 784.889 1548.04 L784.889 1543.34 Q786.972 1544.47 789.195 1545.03 Q791.417 1545.58 793.894 1545.58 Q797.898 1545.58 800.236 1543.48 Q802.574 1541.37 802.574 1537.76 Q802.574 1534.15 800.236 1532.04 Q797.898 1529.94 793.894 1529.94 Q792.019 1529.94 790.144 1530.35 Q788.292 1530.77 786.347 1531.65 L786.347 1514.29 Z\" fill=\"#000000\" fill-rule=\"evenodd\" fill-opacity=\"1\" /><path clip-path=\"url(#clip060)\" d=\"M1221.99 1544.91 L1229.63 1544.91 L1229.63 1518.55 L1221.32 1520.21 L1221.32 1515.95 L1229.58 1514.29 L1234.26 1514.29 L1234.26 1544.91 L1241.9 1544.91 L1241.9 1548.85 L1221.99 1548.85 L1221.99 1544.91 Z\" fill=\"#000000\" fill-rule=\"evenodd\" fill-opacity=\"1\" /><path clip-path=\"url(#clip060)\" d=\"M1251.34 1542.97 L1256.23 1542.97 L1256.23 1548.85 L1251.34 1548.85 L1251.34 1542.97 Z\" fill=\"#000000\" fill-rule=\"evenodd\" fill-opacity=\"1\" /><path clip-path=\"url(#clip060)\" d=\"M1266.46 1514.29 L1284.82 1514.29 L1284.82 1518.22 L1270.74 1518.22 L1270.74 1526.7 Q1271.76 1526.35 1272.78 1526.19 Q1273.8 1526 1274.82 1526 Q1280.6 1526 1283.98 1529.17 Q1287.36 1532.34 1287.36 1537.76 Q1287.36 1543.34 1283.89 1546.44 Q1280.42 1549.52 1274.1 1549.52 Q1271.92 1549.52 1269.65 1549.15 Q1267.41 1548.78 1265 1548.04 L1265 1543.34 Q1267.08 1544.47 1269.31 1545.03 Q1271.53 1545.58 1274.01 1545.58 Q1278.01 1545.58 1280.35 1543.48 Q1282.69 1541.37 1282.69 1537.76 Q1282.69 1534.15 1280.35 1532.04 Q1278.01 1529.94 1274.01 1529.94 Q1272.13 1529.94 1270.26 1530.35 Q1268.4 1530.77 1266.46 1531.65 L1266.46 1514.29 Z\" fill=\"#000000\" fill-rule=\"evenodd\" fill-opacity=\"1\" /><path clip-path=\"url(#clip060)\" d=\"M1306.57 1517.37 Q1302.96 1517.37 1301.14 1520.93 Q1299.33 1524.47 1299.33 1531.6 Q1299.33 1538.71 1301.14 1542.27 Q1302.96 1545.82 1306.57 1545.82 Q1310.21 1545.82 1312.01 1542.27 Q1313.84 1538.71 1313.84 1531.6 Q1313.84 1524.47 1312.01 1520.93 Q1310.21 1517.37 1306.57 1517.37 M1306.57 1513.66 Q1312.39 1513.66 1315.44 1518.27 Q1318.52 1522.85 1318.52 1531.6 Q1318.52 1540.33 1315.44 1544.94 Q1312.39 1549.52 1306.57 1549.52 Q1300.76 1549.52 1297.69 1544.94 Q1294.63 1540.33 1294.63 1531.6 Q1294.63 1522.85 1297.69 1518.27 Q1300.76 1513.66 1306.57 1513.66 Z\" fill=\"#000000\" fill-rule=\"evenodd\" fill-opacity=\"1\" /><path clip-path=\"url(#clip060)\" d=\"M1733.26 1544.91 L1740.9 1544.91 L1740.9 1518.55 L1732.59 1520.21 L1732.59 1515.95 L1740.85 1514.29 L1745.53 1514.29 L1745.53 1544.91 L1753.17 1544.91 L1753.17 1548.85 L1733.26 1548.85 L1733.26 1544.91 Z\" fill=\"#000000\" fill-rule=\"evenodd\" fill-opacity=\"1\" /><path clip-path=\"url(#clip060)\" d=\"M1762.61 1542.97 L1767.5 1542.97 L1767.5 1548.85 L1762.61 1548.85 L1762.61 1542.97 Z\" fill=\"#000000\" fill-rule=\"evenodd\" fill-opacity=\"1\" /><path clip-path=\"url(#clip060)\" d=\"M1776.5 1514.29 L1798.72 1514.29 L1798.72 1516.28 L1786.18 1548.85 L1781.29 1548.85 L1793.1 1518.22 L1776.5 1518.22 L1776.5 1514.29 Z\" fill=\"#000000\" fill-rule=\"evenodd\" fill-opacity=\"1\" /><path clip-path=\"url(#clip060)\" d=\"M1807.89 1514.29 L1826.25 1514.29 L1826.25 1518.22 L1812.17 1518.22 L1812.17 1526.7 Q1813.19 1526.35 1814.21 1526.19 Q1815.23 1526 1816.25 1526 Q1822.03 1526 1825.41 1529.17 Q1828.79 1532.34 1828.79 1537.76 Q1828.79 1543.34 1825.32 1546.44 Q1821.85 1549.52 1815.53 1549.52 Q1813.35 1549.52 1811.09 1549.15 Q1808.84 1548.78 1806.43 1548.04 L1806.43 1543.34 Q1808.52 1544.47 1810.74 1545.03 Q1812.96 1545.58 1815.44 1545.58 Q1819.44 1545.58 1821.78 1543.48 Q1824.12 1541.37 1824.12 1537.76 Q1824.12 1534.15 1821.78 1532.04 Q1819.44 1529.94 1815.44 1529.94 Q1813.56 1529.94 1811.69 1530.35 Q1809.84 1530.77 1807.89 1531.65 L1807.89 1514.29 Z\" fill=\"#000000\" fill-rule=\"evenodd\" fill-opacity=\"1\" /><path clip-path=\"url(#clip060)\" d=\"M2247.62 1544.91 L2263.94 1544.91 L2263.94 1548.85 L2242 1548.85 L2242 1544.91 Q2244.66 1542.16 2249.24 1537.53 Q2253.85 1532.88 2255.03 1531.53 Q2257.27 1529.01 2258.15 1527.27 Q2259.06 1525.51 2259.06 1523.82 Q2259.06 1521.07 2257.11 1519.33 Q2255.19 1517.6 2252.09 1517.6 Q2249.89 1517.6 2247.44 1518.36 Q2245.01 1519.13 2242.23 1520.68 L2242.23 1515.95 Q2245.05 1514.82 2247.51 1514.24 Q2249.96 1513.66 2252 1513.66 Q2257.37 1513.66 2260.56 1516.35 Q2263.76 1519.03 2263.76 1523.52 Q2263.76 1525.65 2262.94 1527.57 Q2262.16 1529.47 2260.05 1532.07 Q2259.47 1532.74 2256.37 1535.95 Q2253.27 1539.15 2247.62 1544.91 Z\" fill=\"#000000\" fill-rule=\"evenodd\" fill-opacity=\"1\" /><path clip-path=\"url(#clip060)\" d=\"M2273.76 1542.97 L2278.64 1542.97 L2278.64 1548.85 L2273.76 1548.85 L2273.76 1542.97 Z\" fill=\"#000000\" fill-rule=\"evenodd\" fill-opacity=\"1\" /><path clip-path=\"url(#clip060)\" d=\"M2298.82 1517.37 Q2295.21 1517.37 2293.38 1520.93 Q2291.58 1524.47 2291.58 1531.6 Q2291.58 1538.71 2293.38 1542.27 Q2295.21 1545.82 2298.82 1545.82 Q2302.46 1545.82 2304.26 1542.27 Q2306.09 1538.71 2306.09 1531.6 Q2306.09 1524.47 2304.26 1520.93 Q2302.46 1517.37 2298.82 1517.37 M2298.82 1513.66 Q2304.63 1513.66 2307.69 1518.27 Q2310.77 1522.85 2310.77 1531.6 Q2310.77 1540.33 2307.69 1544.94 Q2304.63 1549.52 2298.82 1549.52 Q2293.01 1549.52 2289.94 1544.94 Q2286.88 1540.33 2286.88 1531.6 Q2286.88 1522.85 2289.94 1518.27 Q2293.01 1513.66 2298.82 1513.66 Z\" fill=\"#000000\" fill-rule=\"evenodd\" fill-opacity=\"1\" /><path clip-path=\"url(#clip060)\" d=\"M2328.99 1517.37 Q2325.38 1517.37 2323.55 1520.93 Q2321.74 1524.47 2321.74 1531.6 Q2321.74 1538.71 2323.55 1542.27 Q2325.38 1545.82 2328.99 1545.82 Q2332.62 1545.82 2334.43 1542.27 Q2336.25 1538.71 2336.25 1531.6 Q2336.25 1524.47 2334.43 1520.93 Q2332.62 1517.37 2328.99 1517.37 M2328.99 1513.66 Q2334.8 1513.66 2337.85 1518.27 Q2340.93 1522.85 2340.93 1531.6 Q2340.93 1540.33 2337.85 1544.94 Q2334.8 1549.52 2328.99 1549.52 Q2323.18 1549.52 2320.1 1544.94 Q2317.04 1540.33 2317.04 1531.6 Q2317.04 1522.85 2320.1 1518.27 Q2323.18 1513.66 2328.99 1513.66 Z\" fill=\"#000000\" fill-rule=\"evenodd\" fill-opacity=\"1\" /><polyline clip-path=\"url(#clip062)\" style=\"stroke:#000000; stroke-linecap:butt; stroke-linejoin:round; stroke-width:2; stroke-opacity:0.1; fill:none\" points=\"\n",
       "  187.084,1445.72 2352.76,1445.72 \n",
       "  \"/>\n",
       "<polyline clip-path=\"url(#clip062)\" style=\"stroke:#000000; stroke-linecap:butt; stroke-linejoin:round; stroke-width:2; stroke-opacity:0.1; fill:none\" points=\"\n",
       "  187.084,1106.28 2352.76,1106.28 \n",
       "  \"/>\n",
       "<polyline clip-path=\"url(#clip062)\" style=\"stroke:#000000; stroke-linecap:butt; stroke-linejoin:round; stroke-width:2; stroke-opacity:0.1; fill:none\" points=\"\n",
       "  187.084,766.846 2352.76,766.846 \n",
       "  \"/>\n",
       "<polyline clip-path=\"url(#clip062)\" style=\"stroke:#000000; stroke-linecap:butt; stroke-linejoin:round; stroke-width:2; stroke-opacity:0.1; fill:none\" points=\"\n",
       "  187.084,427.411 2352.76,427.411 \n",
       "  \"/>\n",
       "<polyline clip-path=\"url(#clip062)\" style=\"stroke:#000000; stroke-linecap:butt; stroke-linejoin:round; stroke-width:2; stroke-opacity:0.1; fill:none\" points=\"\n",
       "  187.084,87.9763 2352.76,87.9763 \n",
       "  \"/>\n",
       "<polyline clip-path=\"url(#clip060)\" style=\"stroke:#000000; stroke-linecap:butt; stroke-linejoin:round; stroke-width:4; stroke-opacity:1; fill:none\" points=\"\n",
       "  187.084,1486.45 187.084,47.2441 \n",
       "  \"/>\n",
       "<polyline clip-path=\"url(#clip060)\" style=\"stroke:#000000; stroke-linecap:butt; stroke-linejoin:round; stroke-width:4; stroke-opacity:1; fill:none\" points=\"\n",
       "  187.084,1445.72 205.982,1445.72 \n",
       "  \"/>\n",
       "<polyline clip-path=\"url(#clip060)\" style=\"stroke:#000000; stroke-linecap:butt; stroke-linejoin:round; stroke-width:4; stroke-opacity:1; fill:none\" points=\"\n",
       "  187.084,1106.28 205.982,1106.28 \n",
       "  \"/>\n",
       "<polyline clip-path=\"url(#clip060)\" style=\"stroke:#000000; stroke-linecap:butt; stroke-linejoin:round; stroke-width:4; stroke-opacity:1; fill:none\" points=\"\n",
       "  187.084,766.846 205.982,766.846 \n",
       "  \"/>\n",
       "<polyline clip-path=\"url(#clip060)\" style=\"stroke:#000000; stroke-linecap:butt; stroke-linejoin:round; stroke-width:4; stroke-opacity:1; fill:none\" points=\"\n",
       "  187.084,427.411 205.982,427.411 \n",
       "  \"/>\n",
       "<polyline clip-path=\"url(#clip060)\" style=\"stroke:#000000; stroke-linecap:butt; stroke-linejoin:round; stroke-width:4; stroke-opacity:1; fill:none\" points=\"\n",
       "  187.084,87.9763 205.982,87.9763 \n",
       "  \"/>\n",
       "<path clip-path=\"url(#clip060)\" d=\"M67.9133 1444.36 Q71.2698 1445.08 73.1448 1447.35 Q75.0429 1449.62 75.0429 1452.95 Q75.0429 1458.07 71.5244 1460.87 Q68.0059 1463.67 61.5245 1463.67 Q59.3486 1463.67 57.0338 1463.23 Q54.7421 1462.81 52.2884 1461.95 L52.2884 1457.44 Q54.2328 1458.57 56.5477 1459.15 Q58.8625 1459.73 61.3856 1459.73 Q65.7837 1459.73 68.0754 1458 Q70.3902 1456.26 70.3902 1452.95 Q70.3902 1449.89 68.2374 1448.18 Q66.1078 1446.44 62.2884 1446.44 L58.2606 1446.44 L58.2606 1442.6 L62.4735 1442.6 Q65.9226 1442.6 67.7513 1441.24 Q69.58 1439.85 69.58 1437.26 Q69.58 1434.59 67.6819 1433.18 Q65.8069 1431.75 62.2884 1431.75 Q60.3671 1431.75 58.168 1432.16 Q55.969 1432.58 53.3301 1433.46 L53.3301 1429.29 Q55.9921 1428.55 58.3069 1428.18 Q60.6449 1427.81 62.705 1427.81 Q68.0291 1427.81 71.1309 1430.24 Q74.2327 1432.65 74.2327 1436.77 Q74.2327 1439.64 72.5892 1441.63 Q70.9457 1443.6 67.9133 1444.36 Z\" fill=\"#000000\" fill-rule=\"evenodd\" fill-opacity=\"1\" /><path clip-path=\"url(#clip060)\" d=\"M83.9086 1457.12 L88.7928 1457.12 L88.7928 1463 L83.9086 1463 L83.9086 1457.12 Z\" fill=\"#000000\" fill-rule=\"evenodd\" fill-opacity=\"1\" /><path clip-path=\"url(#clip060)\" d=\"M108.978 1431.51 Q105.367 1431.51 103.538 1435.08 Q101.733 1438.62 101.733 1445.75 Q101.733 1452.86 103.538 1456.42 Q105.367 1459.96 108.978 1459.96 Q112.612 1459.96 114.418 1456.42 Q116.246 1452.86 116.246 1445.75 Q116.246 1438.62 114.418 1435.08 Q112.612 1431.51 108.978 1431.51 M108.978 1427.81 Q114.788 1427.81 117.844 1432.42 Q120.922 1437 120.922 1445.75 Q120.922 1454.48 117.844 1459.08 Q114.788 1463.67 108.978 1463.67 Q103.168 1463.67 100.089 1459.08 Q97.0335 1454.48 97.0335 1445.75 Q97.0335 1437 100.089 1432.42 Q103.168 1427.81 108.978 1427.81 Z\" fill=\"#000000\" fill-rule=\"evenodd\" fill-opacity=\"1\" /><path clip-path=\"url(#clip060)\" d=\"M139.14 1431.51 Q135.529 1431.51 133.7 1435.08 Q131.894 1438.62 131.894 1445.75 Q131.894 1452.86 133.7 1456.42 Q135.529 1459.96 139.14 1459.96 Q142.774 1459.96 144.58 1456.42 Q146.408 1452.86 146.408 1445.75 Q146.408 1438.62 144.58 1435.08 Q142.774 1431.51 139.14 1431.51 M139.14 1427.81 Q144.95 1427.81 148.005 1432.42 Q151.084 1437 151.084 1445.75 Q151.084 1454.48 148.005 1459.08 Q144.95 1463.67 139.14 1463.67 Q133.33 1463.67 130.251 1459.08 Q127.195 1454.48 127.195 1445.75 Q127.195 1437 130.251 1432.42 Q133.33 1427.81 139.14 1427.81 Z\" fill=\"#000000\" fill-rule=\"evenodd\" fill-opacity=\"1\" /><path clip-path=\"url(#clip060)\" d=\"M68.9087 1104.93 Q72.2652 1105.64 74.1402 1107.91 Q76.0383 1110.18 76.0383 1113.51 Q76.0383 1118.63 72.5198 1121.43 Q69.0013 1124.23 62.5198 1124.23 Q60.3439 1124.23 58.0291 1123.79 Q55.7375 1123.38 53.2838 1122.52 L53.2838 1118.01 Q55.2282 1119.14 57.543 1119.72 Q59.8578 1120.3 62.381 1120.3 Q66.7791 1120.3 69.0707 1118.56 Q71.3855 1116.82 71.3855 1113.51 Q71.3855 1110.46 69.2328 1108.75 Q67.1032 1107.01 63.2837 1107.01 L59.256 1107.01 L59.256 1103.17 L63.4689 1103.17 Q66.918 1103.17 68.7467 1101.8 Q70.5754 1100.41 70.5754 1097.82 Q70.5754 1095.16 68.6772 1093.75 Q66.8022 1092.31 63.2837 1092.31 Q61.3624 1092.31 59.1634 1092.73 Q56.9643 1093.14 54.3254 1094.02 L54.3254 1089.86 Q56.9875 1089.12 59.3023 1088.75 Q61.6402 1088.38 63.7004 1088.38 Q69.0244 1088.38 72.1263 1090.81 Q75.2281 1093.21 75.2281 1097.33 Q75.2281 1100.2 73.5846 1102.2 Q71.9411 1104.16 68.9087 1104.93 Z\" fill=\"#000000\" fill-rule=\"evenodd\" fill-opacity=\"1\" /><path clip-path=\"url(#clip060)\" d=\"M84.904 1117.68 L89.7882 1117.68 L89.7882 1123.56 L84.904 1123.56 L84.904 1117.68 Z\" fill=\"#000000\" fill-rule=\"evenodd\" fill-opacity=\"1\" /><path clip-path=\"url(#clip060)\" d=\"M104.001 1119.63 L120.32 1119.63 L120.32 1123.56 L98.3761 1123.56 L98.3761 1119.63 Q101.038 1116.87 105.621 1112.24 Q110.228 1107.59 111.408 1106.25 Q113.654 1103.72 114.533 1101.99 Q115.436 1100.23 115.436 1098.54 Q115.436 1095.78 113.492 1094.05 Q111.571 1092.31 108.469 1092.31 Q106.27 1092.31 103.816 1093.07 Q101.385 1093.84 98.6076 1095.39 L98.6076 1090.67 Q101.432 1089.53 103.885 1088.95 Q106.339 1088.38 108.376 1088.38 Q113.746 1088.38 116.941 1091.06 Q120.135 1093.75 120.135 1098.24 Q120.135 1100.37 119.325 1102.29 Q118.538 1104.19 116.432 1106.78 Q115.853 1107.45 112.751 1110.67 Q109.649 1113.86 104.001 1119.63 Z\" fill=\"#000000\" fill-rule=\"evenodd\" fill-opacity=\"1\" /><path clip-path=\"url(#clip060)\" d=\"M130.182 1089 L148.538 1089 L148.538 1092.94 L134.464 1092.94 L134.464 1101.41 Q135.482 1101.06 136.501 1100.9 Q137.519 1100.71 138.538 1100.71 Q144.325 1100.71 147.705 1103.89 Q151.084 1107.06 151.084 1112.47 Q151.084 1118.05 147.612 1121.15 Q144.14 1124.23 137.82 1124.23 Q135.644 1124.23 133.376 1123.86 Q131.131 1123.49 128.723 1122.75 L128.723 1118.05 Q130.807 1119.19 133.029 1119.74 Q135.251 1120.3 137.728 1120.3 Q141.732 1120.3 144.07 1118.19 Q146.408 1116.08 146.408 1112.47 Q146.408 1108.86 144.07 1106.76 Q141.732 1104.65 137.728 1104.65 Q135.853 1104.65 133.978 1105.07 Q132.126 1105.48 130.182 1106.36 L130.182 1089 Z\" fill=\"#000000\" fill-rule=\"evenodd\" fill-opacity=\"1\" /><path clip-path=\"url(#clip060)\" d=\"M67.9133 765.492 Q71.2698 766.209 73.1448 768.478 Q75.0429 770.746 75.0429 774.08 Q75.0429 779.195 71.5244 781.996 Q68.0059 784.797 61.5245 784.797 Q59.3486 784.797 57.0338 784.357 Q54.7421 783.941 52.2884 783.084 L52.2884 778.57 Q54.2328 779.705 56.5477 780.283 Q58.8625 780.862 61.3856 780.862 Q65.7837 780.862 68.0754 779.126 Q70.3902 777.39 70.3902 774.08 Q70.3902 771.024 68.2374 769.311 Q66.1078 767.575 62.2884 767.575 L58.2606 767.575 L58.2606 763.733 L62.4735 763.733 Q65.9226 763.733 67.7513 762.367 Q69.58 760.978 69.58 758.385 Q69.58 755.723 67.6819 754.311 Q65.8069 752.876 62.2884 752.876 Q60.3671 752.876 58.168 753.293 Q55.969 753.709 53.3301 754.589 L53.3301 750.422 Q55.9921 749.682 58.3069 749.311 Q60.6449 748.941 62.705 748.941 Q68.0291 748.941 71.1309 751.372 Q74.2327 753.779 74.2327 757.899 Q74.2327 760.77 72.5892 762.76 Q70.9457 764.728 67.9133 765.492 Z\" fill=\"#000000\" fill-rule=\"evenodd\" fill-opacity=\"1\" /><path clip-path=\"url(#clip060)\" d=\"M83.9086 778.246 L88.7928 778.246 L88.7928 784.126 L83.9086 784.126 L83.9086 778.246 Z\" fill=\"#000000\" fill-rule=\"evenodd\" fill-opacity=\"1\" /><path clip-path=\"url(#clip060)\" d=\"M99.0243 749.566 L117.381 749.566 L117.381 753.501 L103.307 753.501 L103.307 761.973 Q104.325 761.626 105.344 761.464 Q106.362 761.279 107.381 761.279 Q113.168 761.279 116.547 764.45 Q119.927 767.621 119.927 773.038 Q119.927 778.617 116.455 781.719 Q112.983 784.797 106.663 784.797 Q104.487 784.797 102.219 784.427 Q99.9733 784.057 97.566 783.316 L97.566 778.617 Q99.6493 779.751 101.871 780.307 Q104.094 780.862 106.571 780.862 Q110.575 780.862 112.913 778.756 Q115.251 776.649 115.251 773.038 Q115.251 769.427 112.913 767.321 Q110.575 765.214 106.571 765.214 Q104.696 765.214 102.821 765.631 Q100.969 766.047 99.0243 766.927 L99.0243 749.566 Z\" fill=\"#000000\" fill-rule=\"evenodd\" fill-opacity=\"1\" /><path clip-path=\"url(#clip060)\" d=\"M139.14 752.645 Q135.529 752.645 133.7 756.209 Q131.894 759.751 131.894 766.881 Q131.894 773.987 133.7 777.552 Q135.529 781.094 139.14 781.094 Q142.774 781.094 144.58 777.552 Q146.408 773.987 146.408 766.881 Q146.408 759.751 144.58 756.209 Q142.774 752.645 139.14 752.645 M139.14 748.941 Q144.95 748.941 148.005 753.547 Q151.084 758.131 151.084 766.881 Q151.084 775.608 148.005 780.214 Q144.95 784.797 139.14 784.797 Q133.33 784.797 130.251 780.214 Q127.195 775.608 127.195 766.881 Q127.195 758.131 130.251 753.547 Q133.33 748.941 139.14 748.941 Z\" fill=\"#000000\" fill-rule=\"evenodd\" fill-opacity=\"1\" /><path clip-path=\"url(#clip060)\" d=\"M68.9087 426.057 Q72.2652 426.775 74.1402 429.043 Q76.0383 431.312 76.0383 434.645 Q76.0383 439.761 72.5198 442.562 Q69.0013 445.362 62.5198 445.362 Q60.3439 445.362 58.0291 444.923 Q55.7375 444.506 53.2838 443.649 L53.2838 439.136 Q55.2282 440.27 57.543 440.849 Q59.8578 441.427 62.381 441.427 Q66.7791 441.427 69.0707 439.691 Q71.3855 437.955 71.3855 434.645 Q71.3855 431.589 69.2328 429.876 Q67.1032 428.14 63.2837 428.14 L59.256 428.14 L59.256 424.298 L63.4689 424.298 Q66.918 424.298 68.7467 422.932 Q70.5754 421.543 70.5754 418.951 Q70.5754 416.289 68.6772 414.876 Q66.8022 413.441 63.2837 413.441 Q61.3624 413.441 59.1634 413.858 Q56.9643 414.275 54.3254 415.154 L54.3254 410.988 Q56.9875 410.247 59.3023 409.877 Q61.6402 409.506 63.7004 409.506 Q69.0244 409.506 72.1263 411.937 Q75.2281 414.344 75.2281 418.464 Q75.2281 421.335 73.5846 423.326 Q71.9411 425.293 68.9087 426.057 Z\" fill=\"#000000\" fill-rule=\"evenodd\" fill-opacity=\"1\" /><path clip-path=\"url(#clip060)\" d=\"M84.904 438.812 L89.7882 438.812 L89.7882 444.691 L84.904 444.691 L84.904 438.812 Z\" fill=\"#000000\" fill-rule=\"evenodd\" fill-opacity=\"1\" /><path clip-path=\"url(#clip060)\" d=\"M98.7928 410.131 L121.015 410.131 L121.015 412.122 L108.469 444.691 L103.584 444.691 L115.39 414.066 L98.7928 414.066 L98.7928 410.131 Z\" fill=\"#000000\" fill-rule=\"evenodd\" fill-opacity=\"1\" /><path clip-path=\"url(#clip060)\" d=\"M130.182 410.131 L148.538 410.131 L148.538 414.066 L134.464 414.066 L134.464 422.538 Q135.482 422.191 136.501 422.029 Q137.519 421.844 138.538 421.844 Q144.325 421.844 147.705 425.015 Q151.084 428.187 151.084 433.603 Q151.084 439.182 147.612 442.284 Q144.14 445.362 137.82 445.362 Q135.644 445.362 133.376 444.992 Q131.131 444.622 128.723 443.881 L128.723 439.182 Q130.807 440.316 133.029 440.872 Q135.251 441.427 137.728 441.427 Q141.732 441.427 144.07 439.321 Q146.408 437.214 146.408 433.603 Q146.408 429.992 144.07 427.886 Q141.732 425.779 137.728 425.779 Q135.853 425.779 133.978 426.196 Q132.126 426.613 130.182 427.492 L130.182 410.131 Z\" fill=\"#000000\" fill-rule=\"evenodd\" fill-opacity=\"1\" /><path clip-path=\"url(#clip060)\" d=\"M66.5939 74.7703 L54.7884 93.2193 L66.5939 93.2193 L66.5939 74.7703 M65.367 70.6963 L71.2466 70.6963 L71.2466 93.2193 L76.1772 93.2193 L76.1772 97.1082 L71.2466 97.1082 L71.2466 105.256 L66.5939 105.256 L66.5939 97.1082 L50.9921 97.1082 L50.9921 92.5943 L65.367 70.6963 Z\" fill=\"#000000\" fill-rule=\"evenodd\" fill-opacity=\"1\" /><path clip-path=\"url(#clip060)\" d=\"M83.9086 99.3767 L88.7928 99.3767 L88.7928 105.256 L83.9086 105.256 L83.9086 99.3767 Z\" fill=\"#000000\" fill-rule=\"evenodd\" fill-opacity=\"1\" /><path clip-path=\"url(#clip060)\" d=\"M108.978 73.775 Q105.367 73.775 103.538 77.3398 Q101.733 80.8814 101.733 88.011 Q101.733 95.1174 103.538 98.6822 Q105.367 102.224 108.978 102.224 Q112.612 102.224 114.418 98.6822 Q116.246 95.1174 116.246 88.011 Q116.246 80.8814 114.418 77.3398 Q112.612 73.775 108.978 73.775 M108.978 70.0713 Q114.788 70.0713 117.844 74.6777 Q120.922 79.261 120.922 88.011 Q120.922 96.7378 117.844 101.344 Q114.788 105.928 108.978 105.928 Q103.168 105.928 100.089 101.344 Q97.0335 96.7378 97.0335 88.011 Q97.0335 79.261 100.089 74.6777 Q103.168 70.0713 108.978 70.0713 Z\" fill=\"#000000\" fill-rule=\"evenodd\" fill-opacity=\"1\" /><path clip-path=\"url(#clip060)\" d=\"M139.14 73.775 Q135.529 73.775 133.7 77.3398 Q131.894 80.8814 131.894 88.011 Q131.894 95.1174 133.7 98.6822 Q135.529 102.224 139.14 102.224 Q142.774 102.224 144.58 98.6822 Q146.408 95.1174 146.408 88.011 Q146.408 80.8814 144.58 77.3398 Q142.774 73.775 139.14 73.775 M139.14 70.0713 Q144.95 70.0713 148.005 74.6777 Q151.084 79.261 151.084 88.011 Q151.084 96.7378 148.005 101.344 Q144.95 105.928 139.14 105.928 Q133.33 105.928 130.251 101.344 Q127.195 96.7378 127.195 88.011 Q127.195 79.261 130.251 74.6777 Q133.33 70.0713 139.14 70.0713 Z\" fill=\"#000000\" fill-rule=\"evenodd\" fill-opacity=\"1\" /><polyline clip-path=\"url(#clip062)\" style=\"stroke:#009af9; stroke-linecap:butt; stroke-linejoin:round; stroke-width:4; stroke-opacity:1; fill:none\" points=\"\n",
       "  248.377,1445.72 2291.46,87.9763 \n",
       "  \"/>\n",
       "</svg>\n"
      ]
     },
     "execution_count": 52,
     "metadata": {},
     "output_type": "execute_result"
    }
   ],
   "source": [
    "plot([1,2], [3,4], label=nothing) # also slow the first time"
   ]
  },
  {
   "cell_type": "code",
   "execution_count": 53,
   "id": "49e17539",
   "metadata": {},
   "outputs": [
    {
     "data": {
      "image/svg+xml": [
       "<?xml version=\"1.0\" encoding=\"utf-8\"?>\n",
       "<svg xmlns=\"http://www.w3.org/2000/svg\" xmlns:xlink=\"http://www.w3.org/1999/xlink\" width=\"600\" height=\"400\" viewBox=\"0 0 2400 1600\">\n",
       "<defs>\n",
       "  <clipPath id=\"clip100\">\n",
       "    <rect x=\"0\" y=\"0\" width=\"2400\" height=\"1600\"/>\n",
       "  </clipPath>\n",
       "</defs>\n",
       "<path clip-path=\"url(#clip100)\" d=\"\n",
       "M0 1600 L2400 1600 L2400 0 L0 0  Z\n",
       "  \" fill=\"#ffffff\" fill-rule=\"evenodd\" fill-opacity=\"1\"/>\n",
       "<defs>\n",
       "  <clipPath id=\"clip101\">\n",
       "    <rect x=\"480\" y=\"0\" width=\"1681\" height=\"1600\"/>\n",
       "  </clipPath>\n",
       "</defs>\n",
       "<path clip-path=\"url(#clip100)\" d=\"\n",
       "M187.084 1486.45 L2352.76 1486.45 L2352.76 47.2441 L187.084 47.2441  Z\n",
       "  \" fill=\"#ffffff\" fill-rule=\"evenodd\" fill-opacity=\"1\"/>\n",
       "<defs>\n",
       "  <clipPath id=\"clip102\">\n",
       "    <rect x=\"187\" y=\"47\" width=\"2167\" height=\"1440\"/>\n",
       "  </clipPath>\n",
       "</defs>\n",
       "<polyline clip-path=\"url(#clip102)\" style=\"stroke:#000000; stroke-linecap:butt; stroke-linejoin:round; stroke-width:2; stroke-opacity:0.1; fill:none\" points=\"\n",
       "  248.377,1486.45 248.377,47.2441 \n",
       "  \"/>\n",
       "<polyline clip-path=\"url(#clip102)\" style=\"stroke:#000000; stroke-linecap:butt; stroke-linejoin:round; stroke-width:2; stroke-opacity:0.1; fill:none\" points=\"\n",
       "  759.148,1486.45 759.148,47.2441 \n",
       "  \"/>\n",
       "<polyline clip-path=\"url(#clip102)\" style=\"stroke:#000000; stroke-linecap:butt; stroke-linejoin:round; stroke-width:2; stroke-opacity:0.1; fill:none\" points=\"\n",
       "  1269.92,1486.45 1269.92,47.2441 \n",
       "  \"/>\n",
       "<polyline clip-path=\"url(#clip102)\" style=\"stroke:#000000; stroke-linecap:butt; stroke-linejoin:round; stroke-width:2; stroke-opacity:0.1; fill:none\" points=\"\n",
       "  1780.69,1486.45 1780.69,47.2441 \n",
       "  \"/>\n",
       "<polyline clip-path=\"url(#clip102)\" style=\"stroke:#000000; stroke-linecap:butt; stroke-linejoin:round; stroke-width:2; stroke-opacity:0.1; fill:none\" points=\"\n",
       "  2291.46,1486.45 2291.46,47.2441 \n",
       "  \"/>\n",
       "<polyline clip-path=\"url(#clip100)\" style=\"stroke:#000000; stroke-linecap:butt; stroke-linejoin:round; stroke-width:4; stroke-opacity:1; fill:none\" points=\"\n",
       "  187.084,1486.45 2352.76,1486.45 \n",
       "  \"/>\n",
       "<polyline clip-path=\"url(#clip100)\" style=\"stroke:#000000; stroke-linecap:butt; stroke-linejoin:round; stroke-width:4; stroke-opacity:1; fill:none\" points=\"\n",
       "  248.377,1486.45 248.377,1467.55 \n",
       "  \"/>\n",
       "<polyline clip-path=\"url(#clip100)\" style=\"stroke:#000000; stroke-linecap:butt; stroke-linejoin:round; stroke-width:4; stroke-opacity:1; fill:none\" points=\"\n",
       "  759.148,1486.45 759.148,1467.55 \n",
       "  \"/>\n",
       "<polyline clip-path=\"url(#clip100)\" style=\"stroke:#000000; stroke-linecap:butt; stroke-linejoin:round; stroke-width:4; stroke-opacity:1; fill:none\" points=\"\n",
       "  1269.92,1486.45 1269.92,1467.55 \n",
       "  \"/>\n",
       "<polyline clip-path=\"url(#clip100)\" style=\"stroke:#000000; stroke-linecap:butt; stroke-linejoin:round; stroke-width:4; stroke-opacity:1; fill:none\" points=\"\n",
       "  1780.69,1486.45 1780.69,1467.55 \n",
       "  \"/>\n",
       "<polyline clip-path=\"url(#clip100)\" style=\"stroke:#000000; stroke-linecap:butt; stroke-linejoin:round; stroke-width:4; stroke-opacity:1; fill:none\" points=\"\n",
       "  2291.46,1486.45 2291.46,1467.55 \n",
       "  \"/>\n",
       "<path clip-path=\"url(#clip100)\" d=\"M200.449 1544.91 L208.088 1544.91 L208.088 1518.55 L199.778 1520.21 L199.778 1515.95 L208.041 1514.29 L212.717 1514.29 L212.717 1544.91 L220.356 1544.91 L220.356 1548.85 L200.449 1548.85 L200.449 1544.91 Z\" fill=\"#000000\" fill-rule=\"evenodd\" fill-opacity=\"1\" /><path clip-path=\"url(#clip100)\" d=\"M229.8 1542.97 L234.685 1542.97 L234.685 1548.85 L229.8 1548.85 L229.8 1542.97 Z\" fill=\"#000000\" fill-rule=\"evenodd\" fill-opacity=\"1\" /><path clip-path=\"url(#clip100)\" d=\"M254.87 1517.37 Q251.259 1517.37 249.43 1520.93 Q247.624 1524.47 247.624 1531.6 Q247.624 1538.71 249.43 1542.27 Q251.259 1545.82 254.87 1545.82 Q258.504 1545.82 260.31 1542.27 Q262.138 1538.71 262.138 1531.6 Q262.138 1524.47 260.31 1520.93 Q258.504 1517.37 254.87 1517.37 M254.87 1513.66 Q260.68 1513.66 263.735 1518.27 Q266.814 1522.85 266.814 1531.6 Q266.814 1540.33 263.735 1544.94 Q260.68 1549.52 254.87 1549.52 Q249.06 1549.52 245.981 1544.94 Q242.925 1540.33 242.925 1531.6 Q242.925 1522.85 245.981 1518.27 Q249.06 1513.66 254.87 1513.66 Z\" fill=\"#000000\" fill-rule=\"evenodd\" fill-opacity=\"1\" /><path clip-path=\"url(#clip100)\" d=\"M285.032 1517.37 Q281.421 1517.37 279.592 1520.93 Q277.786 1524.47 277.786 1531.6 Q277.786 1538.71 279.592 1542.27 Q281.421 1545.82 285.032 1545.82 Q288.666 1545.82 290.471 1542.27 Q292.3 1538.71 292.3 1531.6 Q292.3 1524.47 290.471 1520.93 Q288.666 1517.37 285.032 1517.37 M285.032 1513.66 Q290.842 1513.66 293.897 1518.27 Q296.976 1522.85 296.976 1531.6 Q296.976 1540.33 293.897 1544.94 Q290.842 1549.52 285.032 1549.52 Q279.222 1549.52 276.143 1544.94 Q273.087 1540.33 273.087 1531.6 Q273.087 1522.85 276.143 1518.27 Q279.222 1513.66 285.032 1513.66 Z\" fill=\"#000000\" fill-rule=\"evenodd\" fill-opacity=\"1\" /><path clip-path=\"url(#clip100)\" d=\"M711.718 1544.91 L719.357 1544.91 L719.357 1518.55 L711.047 1520.21 L711.047 1515.95 L719.311 1514.29 L723.987 1514.29 L723.987 1544.91 L731.625 1544.91 L731.625 1548.85 L711.718 1548.85 L711.718 1544.91 Z\" fill=\"#000000\" fill-rule=\"evenodd\" fill-opacity=\"1\" /><path clip-path=\"url(#clip100)\" d=\"M741.07 1542.97 L745.954 1542.97 L745.954 1548.85 L741.07 1548.85 L741.07 1542.97 Z\" fill=\"#000000\" fill-rule=\"evenodd\" fill-opacity=\"1\" /><path clip-path=\"url(#clip100)\" d=\"M760.167 1544.91 L776.486 1544.91 L776.486 1548.85 L754.542 1548.85 L754.542 1544.91 Q757.204 1542.16 761.787 1537.53 Q766.394 1532.88 767.574 1531.53 Q769.82 1529.01 770.699 1527.27 Q771.602 1525.51 771.602 1523.82 Q771.602 1521.07 769.658 1519.33 Q767.736 1517.6 764.634 1517.6 Q762.435 1517.6 759.982 1518.36 Q757.551 1519.13 754.773 1520.68 L754.773 1515.95 Q757.597 1514.82 760.051 1514.24 Q762.505 1513.66 764.542 1513.66 Q769.912 1513.66 773.107 1516.35 Q776.301 1519.03 776.301 1523.52 Q776.301 1525.65 775.491 1527.57 Q774.704 1529.47 772.597 1532.07 Q772.019 1532.74 768.917 1535.95 Q765.815 1539.15 760.167 1544.91 Z\" fill=\"#000000\" fill-rule=\"evenodd\" fill-opacity=\"1\" /><path clip-path=\"url(#clip100)\" d=\"M786.347 1514.29 L804.704 1514.29 L804.704 1518.22 L790.63 1518.22 L790.63 1526.7 Q791.648 1526.35 792.667 1526.19 Q793.685 1526 794.704 1526 Q800.491 1526 803.87 1529.17 Q807.25 1532.34 807.25 1537.76 Q807.25 1543.34 803.778 1546.44 Q800.306 1549.52 793.986 1549.52 Q791.81 1549.52 789.542 1549.15 Q787.296 1548.78 784.889 1548.04 L784.889 1543.34 Q786.972 1544.47 789.195 1545.03 Q791.417 1545.58 793.894 1545.58 Q797.898 1545.58 800.236 1543.48 Q802.574 1541.37 802.574 1537.76 Q802.574 1534.15 800.236 1532.04 Q797.898 1529.94 793.894 1529.94 Q792.019 1529.94 790.144 1530.35 Q788.292 1530.77 786.347 1531.65 L786.347 1514.29 Z\" fill=\"#000000\" fill-rule=\"evenodd\" fill-opacity=\"1\" /><path clip-path=\"url(#clip100)\" d=\"M1221.99 1544.91 L1229.63 1544.91 L1229.63 1518.55 L1221.32 1520.21 L1221.32 1515.95 L1229.58 1514.29 L1234.26 1514.29 L1234.26 1544.91 L1241.9 1544.91 L1241.9 1548.85 L1221.99 1548.85 L1221.99 1544.91 Z\" fill=\"#000000\" fill-rule=\"evenodd\" fill-opacity=\"1\" /><path clip-path=\"url(#clip100)\" d=\"M1251.34 1542.97 L1256.23 1542.97 L1256.23 1548.85 L1251.34 1548.85 L1251.34 1542.97 Z\" fill=\"#000000\" fill-rule=\"evenodd\" fill-opacity=\"1\" /><path clip-path=\"url(#clip100)\" d=\"M1266.46 1514.29 L1284.82 1514.29 L1284.82 1518.22 L1270.74 1518.22 L1270.74 1526.7 Q1271.76 1526.35 1272.78 1526.19 Q1273.8 1526 1274.82 1526 Q1280.6 1526 1283.98 1529.17 Q1287.36 1532.34 1287.36 1537.76 Q1287.36 1543.34 1283.89 1546.44 Q1280.42 1549.52 1274.1 1549.52 Q1271.92 1549.52 1269.65 1549.15 Q1267.41 1548.78 1265 1548.04 L1265 1543.34 Q1267.08 1544.47 1269.31 1545.03 Q1271.53 1545.58 1274.01 1545.58 Q1278.01 1545.58 1280.35 1543.48 Q1282.69 1541.37 1282.69 1537.76 Q1282.69 1534.15 1280.35 1532.04 Q1278.01 1529.94 1274.01 1529.94 Q1272.13 1529.94 1270.26 1530.35 Q1268.4 1530.77 1266.46 1531.65 L1266.46 1514.29 Z\" fill=\"#000000\" fill-rule=\"evenodd\" fill-opacity=\"1\" /><path clip-path=\"url(#clip100)\" d=\"M1306.57 1517.37 Q1302.96 1517.37 1301.14 1520.93 Q1299.33 1524.47 1299.33 1531.6 Q1299.33 1538.71 1301.14 1542.27 Q1302.96 1545.82 1306.57 1545.82 Q1310.21 1545.82 1312.01 1542.27 Q1313.84 1538.71 1313.84 1531.6 Q1313.84 1524.47 1312.01 1520.93 Q1310.21 1517.37 1306.57 1517.37 M1306.57 1513.66 Q1312.39 1513.66 1315.44 1518.27 Q1318.52 1522.85 1318.52 1531.6 Q1318.52 1540.33 1315.44 1544.94 Q1312.39 1549.52 1306.57 1549.52 Q1300.76 1549.52 1297.69 1544.94 Q1294.63 1540.33 1294.63 1531.6 Q1294.63 1522.85 1297.69 1518.27 Q1300.76 1513.66 1306.57 1513.66 Z\" fill=\"#000000\" fill-rule=\"evenodd\" fill-opacity=\"1\" /><path clip-path=\"url(#clip100)\" d=\"M1733.26 1544.91 L1740.9 1544.91 L1740.9 1518.55 L1732.59 1520.21 L1732.59 1515.95 L1740.85 1514.29 L1745.53 1514.29 L1745.53 1544.91 L1753.17 1544.91 L1753.17 1548.85 L1733.26 1548.85 L1733.26 1544.91 Z\" fill=\"#000000\" fill-rule=\"evenodd\" fill-opacity=\"1\" /><path clip-path=\"url(#clip100)\" d=\"M1762.61 1542.97 L1767.5 1542.97 L1767.5 1548.85 L1762.61 1548.85 L1762.61 1542.97 Z\" fill=\"#000000\" fill-rule=\"evenodd\" fill-opacity=\"1\" /><path clip-path=\"url(#clip100)\" d=\"M1776.5 1514.29 L1798.72 1514.29 L1798.72 1516.28 L1786.18 1548.85 L1781.29 1548.85 L1793.1 1518.22 L1776.5 1518.22 L1776.5 1514.29 Z\" fill=\"#000000\" fill-rule=\"evenodd\" fill-opacity=\"1\" /><path clip-path=\"url(#clip100)\" d=\"M1807.89 1514.29 L1826.25 1514.29 L1826.25 1518.22 L1812.17 1518.22 L1812.17 1526.7 Q1813.19 1526.35 1814.21 1526.19 Q1815.23 1526 1816.25 1526 Q1822.03 1526 1825.41 1529.17 Q1828.79 1532.34 1828.79 1537.76 Q1828.79 1543.34 1825.32 1546.44 Q1821.85 1549.52 1815.53 1549.52 Q1813.35 1549.52 1811.09 1549.15 Q1808.84 1548.78 1806.43 1548.04 L1806.43 1543.34 Q1808.52 1544.47 1810.74 1545.03 Q1812.96 1545.58 1815.44 1545.58 Q1819.44 1545.58 1821.78 1543.48 Q1824.12 1541.37 1824.12 1537.76 Q1824.12 1534.15 1821.78 1532.04 Q1819.44 1529.94 1815.44 1529.94 Q1813.56 1529.94 1811.69 1530.35 Q1809.84 1530.77 1807.89 1531.65 L1807.89 1514.29 Z\" fill=\"#000000\" fill-rule=\"evenodd\" fill-opacity=\"1\" /><path clip-path=\"url(#clip100)\" d=\"M2247.62 1544.91 L2263.94 1544.91 L2263.94 1548.85 L2242 1548.85 L2242 1544.91 Q2244.66 1542.16 2249.24 1537.53 Q2253.85 1532.88 2255.03 1531.53 Q2257.27 1529.01 2258.15 1527.27 Q2259.06 1525.51 2259.06 1523.82 Q2259.06 1521.07 2257.11 1519.33 Q2255.19 1517.6 2252.09 1517.6 Q2249.89 1517.6 2247.44 1518.36 Q2245.01 1519.13 2242.23 1520.68 L2242.23 1515.95 Q2245.05 1514.82 2247.51 1514.24 Q2249.96 1513.66 2252 1513.66 Q2257.37 1513.66 2260.56 1516.35 Q2263.76 1519.03 2263.76 1523.52 Q2263.76 1525.65 2262.94 1527.57 Q2262.16 1529.47 2260.05 1532.07 Q2259.47 1532.74 2256.37 1535.95 Q2253.27 1539.15 2247.62 1544.91 Z\" fill=\"#000000\" fill-rule=\"evenodd\" fill-opacity=\"1\" /><path clip-path=\"url(#clip100)\" d=\"M2273.76 1542.97 L2278.64 1542.97 L2278.64 1548.85 L2273.76 1548.85 L2273.76 1542.97 Z\" fill=\"#000000\" fill-rule=\"evenodd\" fill-opacity=\"1\" /><path clip-path=\"url(#clip100)\" d=\"M2298.82 1517.37 Q2295.21 1517.37 2293.38 1520.93 Q2291.58 1524.47 2291.58 1531.6 Q2291.58 1538.71 2293.38 1542.27 Q2295.21 1545.82 2298.82 1545.82 Q2302.46 1545.82 2304.26 1542.27 Q2306.09 1538.71 2306.09 1531.6 Q2306.09 1524.47 2304.26 1520.93 Q2302.46 1517.37 2298.82 1517.37 M2298.82 1513.66 Q2304.63 1513.66 2307.69 1518.27 Q2310.77 1522.85 2310.77 1531.6 Q2310.77 1540.33 2307.69 1544.94 Q2304.63 1549.52 2298.82 1549.52 Q2293.01 1549.52 2289.94 1544.94 Q2286.88 1540.33 2286.88 1531.6 Q2286.88 1522.85 2289.94 1518.27 Q2293.01 1513.66 2298.82 1513.66 Z\" fill=\"#000000\" fill-rule=\"evenodd\" fill-opacity=\"1\" /><path clip-path=\"url(#clip100)\" d=\"M2328.99 1517.37 Q2325.38 1517.37 2323.55 1520.93 Q2321.74 1524.47 2321.74 1531.6 Q2321.74 1538.71 2323.55 1542.27 Q2325.38 1545.82 2328.99 1545.82 Q2332.62 1545.82 2334.43 1542.27 Q2336.25 1538.71 2336.25 1531.6 Q2336.25 1524.47 2334.43 1520.93 Q2332.62 1517.37 2328.99 1517.37 M2328.99 1513.66 Q2334.8 1513.66 2337.85 1518.27 Q2340.93 1522.85 2340.93 1531.6 Q2340.93 1540.33 2337.85 1544.94 Q2334.8 1549.52 2328.99 1549.52 Q2323.18 1549.52 2320.1 1544.94 Q2317.04 1540.33 2317.04 1531.6 Q2317.04 1522.85 2320.1 1518.27 Q2323.18 1513.66 2328.99 1513.66 Z\" fill=\"#000000\" fill-rule=\"evenodd\" fill-opacity=\"1\" /><polyline clip-path=\"url(#clip102)\" style=\"stroke:#000000; stroke-linecap:butt; stroke-linejoin:round; stroke-width:2; stroke-opacity:0.1; fill:none\" points=\"\n",
       "  187.084,1445.72 2352.76,1445.72 \n",
       "  \"/>\n",
       "<polyline clip-path=\"url(#clip102)\" style=\"stroke:#000000; stroke-linecap:butt; stroke-linejoin:round; stroke-width:2; stroke-opacity:0.1; fill:none\" points=\"\n",
       "  187.084,1106.28 2352.76,1106.28 \n",
       "  \"/>\n",
       "<polyline clip-path=\"url(#clip102)\" style=\"stroke:#000000; stroke-linecap:butt; stroke-linejoin:round; stroke-width:2; stroke-opacity:0.1; fill:none\" points=\"\n",
       "  187.084,766.846 2352.76,766.846 \n",
       "  \"/>\n",
       "<polyline clip-path=\"url(#clip102)\" style=\"stroke:#000000; stroke-linecap:butt; stroke-linejoin:round; stroke-width:2; stroke-opacity:0.1; fill:none\" points=\"\n",
       "  187.084,427.411 2352.76,427.411 \n",
       "  \"/>\n",
       "<polyline clip-path=\"url(#clip102)\" style=\"stroke:#000000; stroke-linecap:butt; stroke-linejoin:round; stroke-width:2; stroke-opacity:0.1; fill:none\" points=\"\n",
       "  187.084,87.9763 2352.76,87.9763 \n",
       "  \"/>\n",
       "<polyline clip-path=\"url(#clip100)\" style=\"stroke:#000000; stroke-linecap:butt; stroke-linejoin:round; stroke-width:4; stroke-opacity:1; fill:none\" points=\"\n",
       "  187.084,1486.45 187.084,47.2441 \n",
       "  \"/>\n",
       "<polyline clip-path=\"url(#clip100)\" style=\"stroke:#000000; stroke-linecap:butt; stroke-linejoin:round; stroke-width:4; stroke-opacity:1; fill:none\" points=\"\n",
       "  187.084,1445.72 205.982,1445.72 \n",
       "  \"/>\n",
       "<polyline clip-path=\"url(#clip100)\" style=\"stroke:#000000; stroke-linecap:butt; stroke-linejoin:round; stroke-width:4; stroke-opacity:1; fill:none\" points=\"\n",
       "  187.084,1106.28 205.982,1106.28 \n",
       "  \"/>\n",
       "<polyline clip-path=\"url(#clip100)\" style=\"stroke:#000000; stroke-linecap:butt; stroke-linejoin:round; stroke-width:4; stroke-opacity:1; fill:none\" points=\"\n",
       "  187.084,766.846 205.982,766.846 \n",
       "  \"/>\n",
       "<polyline clip-path=\"url(#clip100)\" style=\"stroke:#000000; stroke-linecap:butt; stroke-linejoin:round; stroke-width:4; stroke-opacity:1; fill:none\" points=\"\n",
       "  187.084,427.411 205.982,427.411 \n",
       "  \"/>\n",
       "<polyline clip-path=\"url(#clip100)\" style=\"stroke:#000000; stroke-linecap:butt; stroke-linejoin:round; stroke-width:4; stroke-opacity:1; fill:none\" points=\"\n",
       "  187.084,87.9763 205.982,87.9763 \n",
       "  \"/>\n",
       "<path clip-path=\"url(#clip100)\" d=\"M67.9133 1444.36 Q71.2698 1445.08 73.1448 1447.35 Q75.0429 1449.62 75.0429 1452.95 Q75.0429 1458.07 71.5244 1460.87 Q68.0059 1463.67 61.5245 1463.67 Q59.3486 1463.67 57.0338 1463.23 Q54.7421 1462.81 52.2884 1461.95 L52.2884 1457.44 Q54.2328 1458.57 56.5477 1459.15 Q58.8625 1459.73 61.3856 1459.73 Q65.7837 1459.73 68.0754 1458 Q70.3902 1456.26 70.3902 1452.95 Q70.3902 1449.89 68.2374 1448.18 Q66.1078 1446.44 62.2884 1446.44 L58.2606 1446.44 L58.2606 1442.6 L62.4735 1442.6 Q65.9226 1442.6 67.7513 1441.24 Q69.58 1439.85 69.58 1437.26 Q69.58 1434.59 67.6819 1433.18 Q65.8069 1431.75 62.2884 1431.75 Q60.3671 1431.75 58.168 1432.16 Q55.969 1432.58 53.3301 1433.46 L53.3301 1429.29 Q55.9921 1428.55 58.3069 1428.18 Q60.6449 1427.81 62.705 1427.81 Q68.0291 1427.81 71.1309 1430.24 Q74.2327 1432.65 74.2327 1436.77 Q74.2327 1439.64 72.5892 1441.63 Q70.9457 1443.6 67.9133 1444.36 Z\" fill=\"#000000\" fill-rule=\"evenodd\" fill-opacity=\"1\" /><path clip-path=\"url(#clip100)\" d=\"M83.9086 1457.12 L88.7928 1457.12 L88.7928 1463 L83.9086 1463 L83.9086 1457.12 Z\" fill=\"#000000\" fill-rule=\"evenodd\" fill-opacity=\"1\" /><path clip-path=\"url(#clip100)\" d=\"M108.978 1431.51 Q105.367 1431.51 103.538 1435.08 Q101.733 1438.62 101.733 1445.75 Q101.733 1452.86 103.538 1456.42 Q105.367 1459.96 108.978 1459.96 Q112.612 1459.96 114.418 1456.42 Q116.246 1452.86 116.246 1445.75 Q116.246 1438.62 114.418 1435.08 Q112.612 1431.51 108.978 1431.51 M108.978 1427.81 Q114.788 1427.81 117.844 1432.42 Q120.922 1437 120.922 1445.75 Q120.922 1454.48 117.844 1459.08 Q114.788 1463.67 108.978 1463.67 Q103.168 1463.67 100.089 1459.08 Q97.0335 1454.48 97.0335 1445.75 Q97.0335 1437 100.089 1432.42 Q103.168 1427.81 108.978 1427.81 Z\" fill=\"#000000\" fill-rule=\"evenodd\" fill-opacity=\"1\" /><path clip-path=\"url(#clip100)\" d=\"M139.14 1431.51 Q135.529 1431.51 133.7 1435.08 Q131.894 1438.62 131.894 1445.75 Q131.894 1452.86 133.7 1456.42 Q135.529 1459.96 139.14 1459.96 Q142.774 1459.96 144.58 1456.42 Q146.408 1452.86 146.408 1445.75 Q146.408 1438.62 144.58 1435.08 Q142.774 1431.51 139.14 1431.51 M139.14 1427.81 Q144.95 1427.81 148.005 1432.42 Q151.084 1437 151.084 1445.75 Q151.084 1454.48 148.005 1459.08 Q144.95 1463.67 139.14 1463.67 Q133.33 1463.67 130.251 1459.08 Q127.195 1454.48 127.195 1445.75 Q127.195 1437 130.251 1432.42 Q133.33 1427.81 139.14 1427.81 Z\" fill=\"#000000\" fill-rule=\"evenodd\" fill-opacity=\"1\" /><path clip-path=\"url(#clip100)\" d=\"M68.9087 1104.93 Q72.2652 1105.64 74.1402 1107.91 Q76.0383 1110.18 76.0383 1113.51 Q76.0383 1118.63 72.5198 1121.43 Q69.0013 1124.23 62.5198 1124.23 Q60.3439 1124.23 58.0291 1123.79 Q55.7375 1123.38 53.2838 1122.52 L53.2838 1118.01 Q55.2282 1119.14 57.543 1119.72 Q59.8578 1120.3 62.381 1120.3 Q66.7791 1120.3 69.0707 1118.56 Q71.3855 1116.82 71.3855 1113.51 Q71.3855 1110.46 69.2328 1108.75 Q67.1032 1107.01 63.2837 1107.01 L59.256 1107.01 L59.256 1103.17 L63.4689 1103.17 Q66.918 1103.17 68.7467 1101.8 Q70.5754 1100.41 70.5754 1097.82 Q70.5754 1095.16 68.6772 1093.75 Q66.8022 1092.31 63.2837 1092.31 Q61.3624 1092.31 59.1634 1092.73 Q56.9643 1093.14 54.3254 1094.02 L54.3254 1089.86 Q56.9875 1089.12 59.3023 1088.75 Q61.6402 1088.38 63.7004 1088.38 Q69.0244 1088.38 72.1263 1090.81 Q75.2281 1093.21 75.2281 1097.33 Q75.2281 1100.2 73.5846 1102.2 Q71.9411 1104.16 68.9087 1104.93 Z\" fill=\"#000000\" fill-rule=\"evenodd\" fill-opacity=\"1\" /><path clip-path=\"url(#clip100)\" d=\"M84.904 1117.68 L89.7882 1117.68 L89.7882 1123.56 L84.904 1123.56 L84.904 1117.68 Z\" fill=\"#000000\" fill-rule=\"evenodd\" fill-opacity=\"1\" /><path clip-path=\"url(#clip100)\" d=\"M104.001 1119.63 L120.32 1119.63 L120.32 1123.56 L98.3761 1123.56 L98.3761 1119.63 Q101.038 1116.87 105.621 1112.24 Q110.228 1107.59 111.408 1106.25 Q113.654 1103.72 114.533 1101.99 Q115.436 1100.23 115.436 1098.54 Q115.436 1095.78 113.492 1094.05 Q111.571 1092.31 108.469 1092.31 Q106.27 1092.31 103.816 1093.07 Q101.385 1093.84 98.6076 1095.39 L98.6076 1090.67 Q101.432 1089.53 103.885 1088.95 Q106.339 1088.38 108.376 1088.38 Q113.746 1088.38 116.941 1091.06 Q120.135 1093.75 120.135 1098.24 Q120.135 1100.37 119.325 1102.29 Q118.538 1104.19 116.432 1106.78 Q115.853 1107.45 112.751 1110.67 Q109.649 1113.86 104.001 1119.63 Z\" fill=\"#000000\" fill-rule=\"evenodd\" fill-opacity=\"1\" /><path clip-path=\"url(#clip100)\" d=\"M130.182 1089 L148.538 1089 L148.538 1092.94 L134.464 1092.94 L134.464 1101.41 Q135.482 1101.06 136.501 1100.9 Q137.519 1100.71 138.538 1100.71 Q144.325 1100.71 147.705 1103.89 Q151.084 1107.06 151.084 1112.47 Q151.084 1118.05 147.612 1121.15 Q144.14 1124.23 137.82 1124.23 Q135.644 1124.23 133.376 1123.86 Q131.131 1123.49 128.723 1122.75 L128.723 1118.05 Q130.807 1119.19 133.029 1119.74 Q135.251 1120.3 137.728 1120.3 Q141.732 1120.3 144.07 1118.19 Q146.408 1116.08 146.408 1112.47 Q146.408 1108.86 144.07 1106.76 Q141.732 1104.65 137.728 1104.65 Q135.853 1104.65 133.978 1105.07 Q132.126 1105.48 130.182 1106.36 L130.182 1089 Z\" fill=\"#000000\" fill-rule=\"evenodd\" fill-opacity=\"1\" /><path clip-path=\"url(#clip100)\" d=\"M67.9133 765.492 Q71.2698 766.209 73.1448 768.478 Q75.0429 770.746 75.0429 774.08 Q75.0429 779.195 71.5244 781.996 Q68.0059 784.797 61.5245 784.797 Q59.3486 784.797 57.0338 784.357 Q54.7421 783.941 52.2884 783.084 L52.2884 778.57 Q54.2328 779.705 56.5477 780.283 Q58.8625 780.862 61.3856 780.862 Q65.7837 780.862 68.0754 779.126 Q70.3902 777.39 70.3902 774.08 Q70.3902 771.024 68.2374 769.311 Q66.1078 767.575 62.2884 767.575 L58.2606 767.575 L58.2606 763.733 L62.4735 763.733 Q65.9226 763.733 67.7513 762.367 Q69.58 760.978 69.58 758.385 Q69.58 755.723 67.6819 754.311 Q65.8069 752.876 62.2884 752.876 Q60.3671 752.876 58.168 753.293 Q55.969 753.709 53.3301 754.589 L53.3301 750.422 Q55.9921 749.682 58.3069 749.311 Q60.6449 748.941 62.705 748.941 Q68.0291 748.941 71.1309 751.372 Q74.2327 753.779 74.2327 757.899 Q74.2327 760.77 72.5892 762.76 Q70.9457 764.728 67.9133 765.492 Z\" fill=\"#000000\" fill-rule=\"evenodd\" fill-opacity=\"1\" /><path clip-path=\"url(#clip100)\" d=\"M83.9086 778.246 L88.7928 778.246 L88.7928 784.126 L83.9086 784.126 L83.9086 778.246 Z\" fill=\"#000000\" fill-rule=\"evenodd\" fill-opacity=\"1\" /><path clip-path=\"url(#clip100)\" d=\"M99.0243 749.566 L117.381 749.566 L117.381 753.501 L103.307 753.501 L103.307 761.973 Q104.325 761.626 105.344 761.464 Q106.362 761.279 107.381 761.279 Q113.168 761.279 116.547 764.45 Q119.927 767.621 119.927 773.038 Q119.927 778.617 116.455 781.719 Q112.983 784.797 106.663 784.797 Q104.487 784.797 102.219 784.427 Q99.9733 784.057 97.566 783.316 L97.566 778.617 Q99.6493 779.751 101.871 780.307 Q104.094 780.862 106.571 780.862 Q110.575 780.862 112.913 778.756 Q115.251 776.649 115.251 773.038 Q115.251 769.427 112.913 767.321 Q110.575 765.214 106.571 765.214 Q104.696 765.214 102.821 765.631 Q100.969 766.047 99.0243 766.927 L99.0243 749.566 Z\" fill=\"#000000\" fill-rule=\"evenodd\" fill-opacity=\"1\" /><path clip-path=\"url(#clip100)\" d=\"M139.14 752.645 Q135.529 752.645 133.7 756.209 Q131.894 759.751 131.894 766.881 Q131.894 773.987 133.7 777.552 Q135.529 781.094 139.14 781.094 Q142.774 781.094 144.58 777.552 Q146.408 773.987 146.408 766.881 Q146.408 759.751 144.58 756.209 Q142.774 752.645 139.14 752.645 M139.14 748.941 Q144.95 748.941 148.005 753.547 Q151.084 758.131 151.084 766.881 Q151.084 775.608 148.005 780.214 Q144.95 784.797 139.14 784.797 Q133.33 784.797 130.251 780.214 Q127.195 775.608 127.195 766.881 Q127.195 758.131 130.251 753.547 Q133.33 748.941 139.14 748.941 Z\" fill=\"#000000\" fill-rule=\"evenodd\" fill-opacity=\"1\" /><path clip-path=\"url(#clip100)\" d=\"M68.9087 426.057 Q72.2652 426.775 74.1402 429.043 Q76.0383 431.312 76.0383 434.645 Q76.0383 439.761 72.5198 442.562 Q69.0013 445.362 62.5198 445.362 Q60.3439 445.362 58.0291 444.923 Q55.7375 444.506 53.2838 443.649 L53.2838 439.136 Q55.2282 440.27 57.543 440.849 Q59.8578 441.427 62.381 441.427 Q66.7791 441.427 69.0707 439.691 Q71.3855 437.955 71.3855 434.645 Q71.3855 431.589 69.2328 429.876 Q67.1032 428.14 63.2837 428.14 L59.256 428.14 L59.256 424.298 L63.4689 424.298 Q66.918 424.298 68.7467 422.932 Q70.5754 421.543 70.5754 418.951 Q70.5754 416.289 68.6772 414.876 Q66.8022 413.441 63.2837 413.441 Q61.3624 413.441 59.1634 413.858 Q56.9643 414.275 54.3254 415.154 L54.3254 410.988 Q56.9875 410.247 59.3023 409.877 Q61.6402 409.506 63.7004 409.506 Q69.0244 409.506 72.1263 411.937 Q75.2281 414.344 75.2281 418.464 Q75.2281 421.335 73.5846 423.326 Q71.9411 425.293 68.9087 426.057 Z\" fill=\"#000000\" fill-rule=\"evenodd\" fill-opacity=\"1\" /><path clip-path=\"url(#clip100)\" d=\"M84.904 438.812 L89.7882 438.812 L89.7882 444.691 L84.904 444.691 L84.904 438.812 Z\" fill=\"#000000\" fill-rule=\"evenodd\" fill-opacity=\"1\" /><path clip-path=\"url(#clip100)\" d=\"M98.7928 410.131 L121.015 410.131 L121.015 412.122 L108.469 444.691 L103.584 444.691 L115.39 414.066 L98.7928 414.066 L98.7928 410.131 Z\" fill=\"#000000\" fill-rule=\"evenodd\" fill-opacity=\"1\" /><path clip-path=\"url(#clip100)\" d=\"M130.182 410.131 L148.538 410.131 L148.538 414.066 L134.464 414.066 L134.464 422.538 Q135.482 422.191 136.501 422.029 Q137.519 421.844 138.538 421.844 Q144.325 421.844 147.705 425.015 Q151.084 428.187 151.084 433.603 Q151.084 439.182 147.612 442.284 Q144.14 445.362 137.82 445.362 Q135.644 445.362 133.376 444.992 Q131.131 444.622 128.723 443.881 L128.723 439.182 Q130.807 440.316 133.029 440.872 Q135.251 441.427 137.728 441.427 Q141.732 441.427 144.07 439.321 Q146.408 437.214 146.408 433.603 Q146.408 429.992 144.07 427.886 Q141.732 425.779 137.728 425.779 Q135.853 425.779 133.978 426.196 Q132.126 426.613 130.182 427.492 L130.182 410.131 Z\" fill=\"#000000\" fill-rule=\"evenodd\" fill-opacity=\"1\" /><path clip-path=\"url(#clip100)\" d=\"M66.5939 74.7703 L54.7884 93.2193 L66.5939 93.2193 L66.5939 74.7703 M65.367 70.6963 L71.2466 70.6963 L71.2466 93.2193 L76.1772 93.2193 L76.1772 97.1082 L71.2466 97.1082 L71.2466 105.256 L66.5939 105.256 L66.5939 97.1082 L50.9921 97.1082 L50.9921 92.5943 L65.367 70.6963 Z\" fill=\"#000000\" fill-rule=\"evenodd\" fill-opacity=\"1\" /><path clip-path=\"url(#clip100)\" d=\"M83.9086 99.3767 L88.7928 99.3767 L88.7928 105.256 L83.9086 105.256 L83.9086 99.3767 Z\" fill=\"#000000\" fill-rule=\"evenodd\" fill-opacity=\"1\" /><path clip-path=\"url(#clip100)\" d=\"M108.978 73.775 Q105.367 73.775 103.538 77.3398 Q101.733 80.8814 101.733 88.011 Q101.733 95.1174 103.538 98.6822 Q105.367 102.224 108.978 102.224 Q112.612 102.224 114.418 98.6822 Q116.246 95.1174 116.246 88.011 Q116.246 80.8814 114.418 77.3398 Q112.612 73.775 108.978 73.775 M108.978 70.0713 Q114.788 70.0713 117.844 74.6777 Q120.922 79.261 120.922 88.011 Q120.922 96.7378 117.844 101.344 Q114.788 105.928 108.978 105.928 Q103.168 105.928 100.089 101.344 Q97.0335 96.7378 97.0335 88.011 Q97.0335 79.261 100.089 74.6777 Q103.168 70.0713 108.978 70.0713 Z\" fill=\"#000000\" fill-rule=\"evenodd\" fill-opacity=\"1\" /><path clip-path=\"url(#clip100)\" d=\"M139.14 73.775 Q135.529 73.775 133.7 77.3398 Q131.894 80.8814 131.894 88.011 Q131.894 95.1174 133.7 98.6822 Q135.529 102.224 139.14 102.224 Q142.774 102.224 144.58 98.6822 Q146.408 95.1174 146.408 88.011 Q146.408 80.8814 144.58 77.3398 Q142.774 73.775 139.14 73.775 M139.14 70.0713 Q144.95 70.0713 148.005 74.6777 Q151.084 79.261 151.084 88.011 Q151.084 96.7378 148.005 101.344 Q144.95 105.928 139.14 105.928 Q133.33 105.928 130.251 101.344 Q127.195 96.7378 127.195 88.011 Q127.195 79.261 130.251 74.6777 Q133.33 70.0713 139.14 70.0713 Z\" fill=\"#000000\" fill-rule=\"evenodd\" fill-opacity=\"1\" /><polyline clip-path=\"url(#clip102)\" style=\"stroke:#009af9; stroke-linecap:butt; stroke-linejoin:round; stroke-width:4; stroke-opacity:1; fill:none\" points=\"\n",
       "  248.377,1445.72 2291.46,87.9763 \n",
       "  \"/>\n",
       "<polyline clip-path=\"url(#clip102)\" style=\"stroke:#e26f46; stroke-linecap:butt; stroke-linejoin:round; stroke-width:4; stroke-opacity:1; fill:none\" points=\"\n",
       "  248.377,87.9763 2291.46,1445.72 \n",
       "  \"/>\n",
       "<path clip-path=\"url(#clip100)\" d=\"\n",
       "M1918.66 250.738 L2280.57 250.738 L2280.57 95.2176 L1918.66 95.2176  Z\n",
       "  \" fill=\"#ffffff\" fill-rule=\"evenodd\" fill-opacity=\"1\"/>\n",
       "<polyline clip-path=\"url(#clip100)\" style=\"stroke:#000000; stroke-linecap:butt; stroke-linejoin:round; stroke-width:4; stroke-opacity:1; fill:none\" points=\"\n",
       "  1918.66,250.738 2280.57,250.738 2280.57,95.2176 1918.66,95.2176 1918.66,250.738 \n",
       "  \"/>\n",
       "<polyline clip-path=\"url(#clip100)\" style=\"stroke:#009af9; stroke-linecap:butt; stroke-linejoin:round; stroke-width:4; stroke-opacity:1; fill:none\" points=\"\n",
       "  1942.73,147.058 2087.11,147.058 \n",
       "  \"/>\n",
       "<path clip-path=\"url(#clip100)\" d=\"M2111.17 154.106 L2111.17 138.412 L2115.43 138.412 L2115.43 153.944 Q2115.43 157.625 2116.86 159.476 Q2118.3 161.305 2121.17 161.305 Q2124.62 161.305 2126.61 159.106 Q2128.62 156.907 2128.62 153.111 L2128.62 138.412 L2132.88 138.412 L2132.88 164.338 L2128.62 164.338 L2128.62 160.356 Q2127.07 162.717 2125.01 163.875 Q2122.97 165.009 2120.27 165.009 Q2115.8 165.009 2113.48 162.231 Q2111.17 159.453 2111.17 154.106 M2121.89 137.787 L2121.89 137.787 Z\" fill=\"#000000\" fill-rule=\"evenodd\" fill-opacity=\"1\" /><path clip-path=\"url(#clip100)\" d=\"M2145.77 160.449 L2145.77 174.199 L2141.49 174.199 L2141.49 138.412 L2145.77 138.412 L2145.77 142.347 Q2147.12 140.032 2149.15 138.921 Q2151.21 137.787 2154.06 137.787 Q2158.78 137.787 2161.72 141.537 Q2164.69 145.287 2164.69 151.398 Q2164.69 157.509 2161.72 161.259 Q2158.78 165.009 2154.06 165.009 Q2151.21 165.009 2149.15 163.898 Q2147.12 162.763 2145.77 160.449 M2160.27 151.398 Q2160.27 146.699 2158.32 144.037 Q2156.4 141.352 2153.02 141.352 Q2149.64 141.352 2147.7 144.037 Q2145.77 146.699 2145.77 151.398 Q2145.77 156.097 2147.7 158.782 Q2149.64 161.444 2153.02 161.444 Q2156.4 161.444 2158.32 158.782 Q2160.27 156.097 2160.27 151.398 Z\" fill=\"#000000\" fill-rule=\"evenodd\" fill-opacity=\"1\" /><polyline clip-path=\"url(#clip100)\" style=\"stroke:#e26f46; stroke-linecap:butt; stroke-linejoin:round; stroke-width:4; stroke-opacity:1; fill:none\" points=\"\n",
       "  1942.73,198.898 2087.11,198.898 \n",
       "  \"/>\n",
       "<path clip-path=\"url(#clip100)\" d=\"M2130.08 194.187 L2130.08 180.159 L2134.34 180.159 L2134.34 216.178 L2130.08 216.178 L2130.08 212.289 Q2128.74 214.603 2126.68 215.738 Q2124.64 216.849 2121.77 216.849 Q2117.07 216.849 2114.11 213.099 Q2111.17 209.349 2111.17 203.238 Q2111.17 197.127 2114.11 193.377 Q2117.07 189.627 2121.77 189.627 Q2124.64 189.627 2126.68 190.761 Q2128.74 191.872 2130.08 194.187 M2115.57 203.238 Q2115.57 207.937 2117.49 210.622 Q2119.43 213.284 2122.81 213.284 Q2126.19 213.284 2128.14 210.622 Q2130.08 207.937 2130.08 203.238 Q2130.08 198.539 2128.14 195.877 Q2126.19 193.192 2122.81 193.192 Q2119.43 193.192 2117.49 195.877 Q2115.57 198.539 2115.57 203.238 Z\" fill=\"#000000\" fill-rule=\"evenodd\" fill-opacity=\"1\" /><path clip-path=\"url(#clip100)\" d=\"M2153.16 193.238 Q2149.73 193.238 2147.74 195.923 Q2145.75 198.585 2145.75 203.238 Q2145.75 207.891 2147.72 210.576 Q2149.71 213.238 2153.16 213.238 Q2156.56 213.238 2158.55 210.553 Q2160.54 207.867 2160.54 203.238 Q2160.54 198.631 2158.55 195.946 Q2156.56 193.238 2153.16 193.238 M2153.16 189.627 Q2158.71 189.627 2161.89 193.238 Q2165.06 196.849 2165.06 203.238 Q2165.06 209.604 2161.89 213.238 Q2158.71 216.849 2153.16 216.849 Q2147.58 216.849 2144.41 213.238 Q2141.26 209.604 2141.26 203.238 Q2141.26 196.849 2144.41 193.238 Q2147.58 189.627 2153.16 189.627 Z\" fill=\"#000000\" fill-rule=\"evenodd\" fill-opacity=\"1\" /><path clip-path=\"url(#clip100)\" d=\"M2169.64 190.252 L2173.9 190.252 L2179.22 210.483 L2184.52 190.252 L2189.55 190.252 L2194.87 210.483 L2200.17 190.252 L2204.43 190.252 L2197.65 216.178 L2192.63 216.178 L2187.05 194.928 L2181.45 216.178 L2176.42 216.178 L2169.64 190.252 Z\" fill=\"#000000\" fill-rule=\"evenodd\" fill-opacity=\"1\" /><path clip-path=\"url(#clip100)\" d=\"M2232.44 200.529 L2232.44 216.178 L2228.18 216.178 L2228.18 200.668 Q2228.18 196.988 2226.75 195.159 Q2225.31 193.33 2222.44 193.33 Q2218.99 193.33 2217 195.53 Q2215.01 197.729 2215.01 201.525 L2215.01 216.178 L2210.73 216.178 L2210.73 190.252 L2215.01 190.252 L2215.01 194.28 Q2216.54 191.942 2218.6 190.784 Q2220.68 189.627 2223.39 189.627 Q2227.86 189.627 2230.15 192.405 Q2232.44 195.159 2232.44 200.529 Z\" fill=\"#000000\" fill-rule=\"evenodd\" fill-opacity=\"1\" /></svg>\n"
      ]
     },
     "execution_count": 53,
     "metadata": {},
     "output_type": "execute_result"
    }
   ],
   "source": [
    "plot([1,2], [3,4], label=\"up\")\n",
    "plot!([1,2], [4,3], label=\"down\") # plot! adds another plot"
   ]
  },
  {
   "cell_type": "markdown",
   "id": "0326e8e7",
   "metadata": {},
   "source": [
    "# Type stability\n",
    "\n",
    "You want to make it easy for the compiler to predict what your function will return."
   ]
  },
  {
   "cell_type": "code",
   "execution_count": 54,
   "id": "0d88425f",
   "metadata": {},
   "outputs": [
    {
     "data": {
      "text/plain": [
       "good (generic function with 1 method)"
      ]
     },
     "execution_count": 54,
     "metadata": {},
     "output_type": "execute_result"
    }
   ],
   "source": [
    "function good()\n",
    "    if rand() > 0.5\n",
    "        return sqrt(2.0)\n",
    "    else\n",
    "        return 0.0\n",
    "    end\n",
    "end"
   ]
  },
  {
   "cell_type": "code",
   "execution_count": 56,
   "id": "f6c43efc",
   "metadata": {},
   "outputs": [
    {
     "data": {
      "text/plain": [
       "bad (generic function with 1 method)"
      ]
     },
     "execution_count": 56,
     "metadata": {},
     "output_type": "execute_result"
    }
   ],
   "source": [
    "function bad()\n",
    "    if rand() > 0.5\n",
    "        return sqrt(2.0)\n",
    "    else\n",
    "        return 0\n",
    "    end\n",
    "end"
   ]
  },
  {
   "cell_type": "code",
   "execution_count": 57,
   "id": "6a1880a8",
   "metadata": {},
   "outputs": [
    {
     "name": "stdout",
     "output_type": "stream",
     "text": [
      "MethodInstance for bad()\n",
      "  from bad() in Main at In[56]:1\n",
      "Arguments\n",
      "  #self#\u001b[36m::Core.Const(bad)\u001b[39m\n",
      "Body\u001b[91m\u001b[1m::Union{Float64, Int64}\u001b[22m\u001b[39m\n",
      "\u001b[90m1 ─\u001b[39m %1 = Main.rand()\u001b[36m::Float64\u001b[39m\n",
      "\u001b[90m│  \u001b[39m %2 = (%1 > 0.5)\u001b[36m::Bool\u001b[39m\n",
      "\u001b[90m└──\u001b[39m      goto #3 if not %2\n",
      "\u001b[90m2 ─\u001b[39m %4 = Main.sqrt(2.0)\u001b[36m::Float64\u001b[39m\n",
      "\u001b[90m└──\u001b[39m      return %4\n",
      "\u001b[90m3 ─\u001b[39m      return 0\n",
      "\n"
     ]
    }
   ],
   "source": [
    "@code_warntype bad()"
   ]
  },
  {
   "cell_type": "code",
   "execution_count": 58,
   "id": "92eeb11b",
   "metadata": {},
   "outputs": [
    {
     "name": "stdout",
     "output_type": "stream",
     "text": [
      "MethodInstance for good()\n",
      "  from good() in Main at In[54]:1\n",
      "Arguments\n",
      "  #self#\u001b[36m::Core.Const(good)\u001b[39m\n",
      "Body\u001b[36m::Float64\u001b[39m\n",
      "\u001b[90m1 ─\u001b[39m %1 = Main.rand()\u001b[36m::Float64\u001b[39m\n",
      "\u001b[90m│  \u001b[39m %2 = (%1 > 0.5)\u001b[36m::Bool\u001b[39m\n",
      "\u001b[90m└──\u001b[39m      goto #3 if not %2\n",
      "\u001b[90m2 ─\u001b[39m %4 = Main.sqrt(2.0)\u001b[36m::Float64\u001b[39m\n",
      "\u001b[90m└──\u001b[39m      return %4\n",
      "\u001b[90m3 ─\u001b[39m      return 0.0\n",
      "\n"
     ]
    }
   ],
   "source": [
    "@code_warntype good()"
   ]
  },
  {
   "cell_type": "code",
   "execution_count": null,
   "id": "ad0e067a",
   "metadata": {},
   "outputs": [],
   "source": []
  }
 ],
 "metadata": {
  "kernelspec": {
   "display_name": "Julia 1.7.1",
   "language": "julia",
   "name": "julia-1.7"
  },
  "language_info": {
   "file_extension": ".jl",
   "mimetype": "application/julia",
   "name": "julia",
   "version": "1.7.1"
  }
 },
 "nbformat": 4,
 "nbformat_minor": 5
}
